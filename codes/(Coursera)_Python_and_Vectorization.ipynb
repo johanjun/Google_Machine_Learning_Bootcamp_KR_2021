{
  "nbformat": 4,
  "nbformat_minor": 0,
  "metadata": {
    "colab": {
      "name": "(Coursera) Python and Vectorization.ipynb",
      "provenance": [],
      "authorship_tag": "ABX9TyOro4zvNWLOHSnK/VaumT+x",
      "include_colab_link": true
    },
    "kernelspec": {
      "name": "python3",
      "display_name": "Python 3"
    },
    "language_info": {
      "name": "python"
    }
  },
  "cells": [
    {
      "cell_type": "markdown",
      "metadata": {
        "id": "view-in-github",
        "colab_type": "text"
      },
      "source": [
        "<a href=\"https://colab.research.google.com/github/johanjun/Google_Machine_Learning_Bootcamp_KR_2021/blob/main/codes/(Coursera)_Python_and_Vectorization.ipynb\" target=\"_parent\"><img src=\"https://colab.research.google.com/assets/colab-badge.svg\" alt=\"Open In Colab\"/></a>"
      ]
    },
    {
      "cell_type": "markdown",
      "metadata": {
        "id": "2pl66YiBrztp"
      },
      "source": [
        "# Coursera DL Specialization Week1 Python Demo"
      ]
    },
    {
      "cell_type": "markdown",
      "metadata": {
        "id": "gmM1ziqSr4PA"
      },
      "source": [
        "## 1. Vectorization\n",
        "-  whenever possible avoid explicit for-loops!\n"
      ]
    },
    {
      "cell_type": "code",
      "metadata": {
        "id": "E221DJ5fqft0"
      },
      "source": [
        "import numpy as np\n",
        "import time"
      ],
      "execution_count": 3,
      "outputs": []
    },
    {
      "cell_type": "code",
      "metadata": {
        "colab": {
          "base_uri": "https://localhost:8080/"
        },
        "id": "udMv43Taq1Ri",
        "outputId": "962a65b2-aeba-468a-cb76-8ea4b1801fa0"
      },
      "source": [
        "a = np.array([1, 2, 3, 4])\n",
        "print(a)"
      ],
      "execution_count": 2,
      "outputs": [
        {
          "output_type": "stream",
          "text": [
            "[1 2 3 4]\n"
          ],
          "name": "stdout"
        }
      ]
    },
    {
      "cell_type": "code",
      "metadata": {
        "colab": {
          "base_uri": "https://localhost:8080/"
        },
        "id": "2H6WiIyNq5LG",
        "outputId": "3a640288-e3d7-46ec-a187-470dc12d49bc"
      },
      "source": [
        "a = np.random.rand(1000000)\n",
        "b = np.random.rand(1000000)\n",
        "\n",
        "tic = time.time()\n",
        "c = np.dot(a, b)\n",
        "toc = time.time()\n",
        "\n",
        "print(\"Ventorized version : \", str(1000*(toc-tic)) + \"ms\")"
      ],
      "execution_count": 4,
      "outputs": [
        {
          "output_type": "stream",
          "text": [
            "Ventorized version :  1.4507770538330078ms\n"
          ],
          "name": "stdout"
        }
      ]
    },
    {
      "cell_type": "code",
      "metadata": {
        "colab": {
          "base_uri": "https://localhost:8080/"
        },
        "id": "LDgqgbeUrMEW",
        "outputId": "a0c07f47-1fb7-4ef7-d2b1-f32c8749348c"
      },
      "source": [
        "c = 0\n",
        "tic = time.time()\n",
        "\n",
        "for i in range(1000000):\n",
        "  c += a[i]*b[i]\n",
        "\n",
        "toc = time.time()\n",
        "\n",
        "print(\"for loop : \" + str(1000*(toc-tic)) + \"ms\")"
      ],
      "execution_count": 5,
      "outputs": [
        {
          "output_type": "stream",
          "text": [
            "for loop : 644.6554660797119ms\n"
          ],
          "name": "stdout"
        }
      ]
    },
    {
      "cell_type": "markdown",
      "metadata": {
        "id": "Y_g6hLbXrh5d"
      },
      "source": [
        "## 2. Broadcasting"
      ]
    },
    {
      "cell_type": "code",
      "metadata": {
        "colab": {
          "base_uri": "https://localhost:8080/"
        },
        "id": "gUoC9C8yynDp",
        "outputId": "cd3485cd-66c8-4aba-bbc2-e6bd3144a1d3"
      },
      "source": [
        "A = np.array([[56.0, 0.0, 4.4, 68.0],\n",
        "              [1.2, 104.0, 52.0, 8.0],\n",
        "              [1.8, 135.0, 99.0, 0.9]])\n",
        "\n",
        "print(A)"
      ],
      "execution_count": 6,
      "outputs": [
        {
          "output_type": "stream",
          "text": [
            "[[ 56.    0.    4.4  68. ]\n",
            " [  1.2 104.   52.    8. ]\n",
            " [  1.8 135.   99.    0.9]]\n"
          ],
          "name": "stdout"
        }
      ]
    },
    {
      "cell_type": "code",
      "metadata": {
        "colab": {
          "base_uri": "https://localhost:8080/"
        },
        "id": "VBXgA4UQyx34",
        "outputId": "bcffa941-ee12-455c-bb25-543fe4baaefc"
      },
      "source": [
        "cal = A.sum(axis=0)\n",
        "cal"
      ],
      "execution_count": 7,
      "outputs": [
        {
          "output_type": "execute_result",
          "data": {
            "text/plain": [
              "array([ 59. , 239. , 155.4,  76.9])"
            ]
          },
          "metadata": {
            "tags": []
          },
          "execution_count": 7
        }
      ]
    },
    {
      "cell_type": "code",
      "metadata": {
        "colab": {
          "base_uri": "https://localhost:8080/"
        },
        "id": "e0BL9oJ_y34G",
        "outputId": "a4532160-c54e-41e0-ddc7-b7b84177b26d"
      },
      "source": [
        "percentage = 100*A/cal\n",
        "print(percentage)"
      ],
      "execution_count": 8,
      "outputs": [
        {
          "output_type": "stream",
          "text": [
            "[[94.91525424  0.          2.83140283 88.42652796]\n",
            " [ 2.03389831 43.51464435 33.46203346 10.40312094]\n",
            " [ 3.05084746 56.48535565 63.70656371  1.17035111]]\n"
          ],
          "name": "stdout"
        }
      ]
    },
    {
      "cell_type": "markdown",
      "metadata": {
        "id": "qB8Kdj3LzImI"
      },
      "source": [
        "## 3. Python-Numpy vectors"
      ]
    },
    {
      "cell_type": "code",
      "metadata": {
        "colab": {
          "base_uri": "https://localhost:8080/"
        },
        "id": "ZkNzUbhu1AsF",
        "outputId": "99a867f7-20aa-47e6-8957-9110b9a66896"
      },
      "source": [
        "a = np.random.randn(5)\n",
        "print(a)"
      ],
      "execution_count": 9,
      "outputs": [
        {
          "output_type": "stream",
          "text": [
            "[ 0.91927973 -0.36374133  2.71451691  0.05051994 -0.47084405]\n"
          ],
          "name": "stdout"
        }
      ]
    },
    {
      "cell_type": "code",
      "metadata": {
        "colab": {
          "base_uri": "https://localhost:8080/"
        },
        "id": "Dl-VtP091EVW",
        "outputId": "abaf90b1-ace6-455c-f823-4b3cdf09b66a"
      },
      "source": [
        "print(a.shape) # rank1 (Don't use)"
      ],
      "execution_count": 10,
      "outputs": [
        {
          "output_type": "stream",
          "text": [
            "(5,)\n"
          ],
          "name": "stdout"
        }
      ]
    },
    {
      "cell_type": "code",
      "metadata": {
        "colab": {
          "base_uri": "https://localhost:8080/"
        },
        "id": "M5RUvbqY1FqC",
        "outputId": "08b47ac8-b7b9-407f-bf92-c02c1034d38e"
      },
      "source": [
        "print(a.T)"
      ],
      "execution_count": 12,
      "outputs": [
        {
          "output_type": "stream",
          "text": [
            "[ 0.91927973 -0.36374133  2.71451691  0.05051994 -0.47084405]\n"
          ],
          "name": "stdout"
        }
      ]
    },
    {
      "cell_type": "code",
      "metadata": {
        "colab": {
          "base_uri": "https://localhost:8080/"
        },
        "id": "csGFKsxl1Lid",
        "outputId": "e6a01e20-0c8e-4914-893b-30a6cd06056f"
      },
      "source": [
        "print(np.dot(a, a.T))"
      ],
      "execution_count": 13,
      "outputs": [
        {
          "output_type": "stream",
          "text": [
            "8.570231435026642\n"
          ],
          "name": "stdout"
        }
      ]
    },
    {
      "cell_type": "code",
      "metadata": {
        "colab": {
          "base_uri": "https://localhost:8080/"
        },
        "id": "qv49iXUV1PJv",
        "outputId": "bd3be731-4993-4805-bb33-fb4807cf528b"
      },
      "source": [
        "a = np.random.randn(5, 1)\n",
        "print(a)"
      ],
      "execution_count": 14,
      "outputs": [
        {
          "output_type": "stream",
          "text": [
            "[[-0.18705036]\n",
            " [ 2.04790994]\n",
            " [-0.86282333]\n",
            " [-0.29017948]\n",
            " [-0.74633708]]\n"
          ],
          "name": "stdout"
        }
      ]
    },
    {
      "cell_type": "code",
      "metadata": {
        "colab": {
          "base_uri": "https://localhost:8080/"
        },
        "id": "OFSkmb5Y1Zk2",
        "outputId": "36b90f68-c2ad-40bf-8405-02b364b4982c"
      },
      "source": [
        "print(a.shape)"
      ],
      "execution_count": 16,
      "outputs": [
        {
          "output_type": "stream",
          "text": [
            "(5, 1)\n"
          ],
          "name": "stdout"
        }
      ]
    },
    {
      "cell_type": "code",
      "metadata": {
        "colab": {
          "base_uri": "https://localhost:8080/"
        },
        "id": "9sI-itSB1Tfg",
        "outputId": "80541f39-a39f-47ce-fdeb-ed0e1ec18089"
      },
      "source": [
        "print(a.T)"
      ],
      "execution_count": 15,
      "outputs": [
        {
          "output_type": "stream",
          "text": [
            "[[-0.18705036  2.04790994 -0.86282333 -0.29017948 -0.74633708]]\n"
          ],
          "name": "stdout"
        }
      ]
    },
    {
      "cell_type": "code",
      "metadata": {
        "colab": {
          "base_uri": "https://localhost:8080/"
        },
        "id": "XOCF4SXK1V-7",
        "outputId": "64980a0a-dd73-4c1d-b1be-397ba7ec78b0"
      },
      "source": [
        "print(np.dot(a, a.T))"
      ],
      "execution_count": 17,
      "outputs": [
        {
          "output_type": "stream",
          "text": [
            "[[ 0.03498784 -0.3830623   0.16139142  0.05427818  0.13960262]\n",
            " [-0.3830623   4.19393513 -1.76698448 -0.59426145 -1.52843113]\n",
            " [ 0.16139142 -1.76698448  0.7444641   0.25037363  0.64395705]\n",
            " [ 0.05427818 -0.59426145  0.25037363  0.08420413  0.21657171]\n",
            " [ 0.13960262 -1.52843113  0.64395705  0.21657171  0.55701904]]\n"
          ],
          "name": "stdout"
        }
      ]
    },
    {
      "cell_type": "code",
      "metadata": {
        "id": "C6SIX0LG1c5D"
      },
      "source": [
        ""
      ],
      "execution_count": null,
      "outputs": []
    }
  ]
}