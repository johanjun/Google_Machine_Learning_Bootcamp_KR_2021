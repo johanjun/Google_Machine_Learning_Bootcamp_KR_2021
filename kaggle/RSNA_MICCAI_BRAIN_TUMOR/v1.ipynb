{
  "nbformat": 4,
  "nbformat_minor": 0,
  "metadata": {
    "colab": {
      "name": "v1.ipynb",
      "provenance": [],
      "collapsed_sections": [],
      "machine_shape": "hm",
      "mount_file_id": "1Nr00lq4ocrv48iSdZRNr9PWeZVGae3CP",
      "authorship_tag": "ABX9TyMkLm9/MLwdfAFeyO4PKPLK",
      "include_colab_link": true
    },
    "kernelspec": {
      "name": "python3",
      "display_name": "Python 3"
    },
    "language_info": {
      "name": "python"
    }
  },
  "cells": [
    {
      "cell_type": "markdown",
      "metadata": {
        "id": "view-in-github",
        "colab_type": "text"
      },
      "source": [
        "<a href=\"https://colab.research.google.com/github/johanjun/Google_Machine_Learning_Bootcamp_KR_2021/blob/main/kaggle/RSNA_MICCAI_BRAIN_TUMOR/v1.ipynb\" target=\"_parent\"><img src=\"https://colab.research.google.com/assets/colab-badge.svg\" alt=\"Open In Colab\"/></a>"
      ]
    },
    {
      "cell_type": "code",
      "metadata": {
        "id": "ng6IuK3fw6dV"
      },
      "source": [
        "#citation\n",
        "# U.Baid, et al., “The RSNA-ASNR-MICCAI BraTS 2021 Benchmark on Brain Tumor Segmentation and Radiogenomic Classification”, arXiv:2107.02314, 2021."
      ],
      "execution_count": null,
      "outputs": []
    },
    {
      "cell_type": "markdown",
      "metadata": {
        "id": "BoXev5BplxyY"
      },
      "source": [
        "# Library import"
      ]
    },
    {
      "cell_type": "code",
      "metadata": {
        "id": "r8gRpTvFNo27"
      },
      "source": [
        "import numpy as np\n",
        "import pandas as pd\n",
        "import os"
      ],
      "execution_count": null,
      "outputs": []
    },
    {
      "cell_type": "markdown",
      "metadata": {
        "id": "PRjlMEX3904c"
      },
      "source": [
        "# Data load"
      ]
    },
    {
      "cell_type": "code",
      "metadata": {
        "id": "kxh_gfHi5PR7"
      },
      "source": [
        "! pip install kaggle\n",
        "! pip install --upgrade --force-reinstall --no-deps kaggle # force install the latest version"
      ],
      "execution_count": null,
      "outputs": []
    },
    {
      "cell_type": "code",
      "metadata": {
        "id": "M4pIL8gk-MBD"
      },
      "source": [
        "! chmod 600 ~/.kaggle/kaggle.json"
      ],
      "execution_count": null,
      "outputs": []
    },
    {
      "cell_type": "code",
      "metadata": {
        "id": "T6lmdTNn-8CQ"
      },
      "source": [
        "comp = 'rsna-miccai-brain-tumor-radiogenomic-classification'\n",
        "comp_dir = 'rsna-miccai'"
      ],
      "execution_count": 9,
      "outputs": []
    },
    {
      "cell_type": "code",
      "metadata": {
        "id": "Ipsb3-0w-9oY"
      },
      "source": [
        "pwd"
      ],
      "execution_count": null,
      "outputs": []
    },
    {
      "cell_type": "code",
      "metadata": {
        "colab": {
          "base_uri": "https://localhost:8080/"
        },
        "id": "seWd1ld0ACi-",
        "outputId": "c2b599df-438b-4c32-9342-29ddf01a69f1"
      },
      "source": [
        "! kaggle competitions download -c {comp}"
      ],
      "execution_count": 10,
      "outputs": [
        {
          "output_type": "stream",
          "name": "stdout",
          "text": [
            "rsna-miccai-brain-tumor-radiogenomic-classification.zip: Skipping, found more recently modified local copy (use --force to force download)\n"
          ]
        }
      ]
    },
    {
      "cell_type": "code",
      "metadata": {
        "id": "bCExZIDzDE66"
      },
      "source": [
        "! unzip rsna-miccai-brain-tumor-radiogenomic-classification.zip"
      ],
      "execution_count": null,
      "outputs": []
    },
    {
      "cell_type": "code",
      "metadata": {
        "id": "uSUCQyO8sk1N"
      },
      "source": [
        "mypath = '/content/drive/My Drive/RSNA_MICCAI/data/rsna-miccai'"
      ],
      "execution_count": 15,
      "outputs": []
    },
    {
      "cell_type": "code",
      "metadata": {
        "id": "DVbIZJ3RF1FR"
      },
      "source": [
        "from os import listdir\n",
        "check_test = listdir(mypath+'/test')\n",
        "check_train = listdir(mypath+'/train')"
      ],
      "execution_count": 20,
      "outputs": []
    },
    {
      "cell_type": "code",
      "metadata": {
        "id": "qElSoAmIslGk"
      },
      "source": [
        "check = []\n",
        "for i in check_test:\n",
        "  check.append(i)"
      ],
      "execution_count": 17,
      "outputs": []
    },
    {
      "cell_type": "code",
      "metadata": {
        "colab": {
          "base_uri": "https://localhost:8080/"
        },
        "id": "VR6_NKaFtbon",
        "outputId": "71fb3422-6fce-4ab2-b8ec-eb4c72d5d6af"
      },
      "source": [
        "print(len(check), check[0], check[-1])"
      ],
      "execution_count": 19,
      "outputs": [
        {
          "output_type": "stream",
          "name": "stdout",
          "text": [
            "87 00001 01006\n"
          ]
        }
      ]
    },
    {
      "cell_type": "code",
      "metadata": {
        "colab": {
          "base_uri": "https://localhost:8080/"
        },
        "id": "zhtIhaantc2V",
        "outputId": "8346d573-4a56-4b5d-b29b-0ab78c935126"
      },
      "source": [
        "check = []\n",
        "for i in check_train:\n",
        "  check.append(i)\n",
        "print(len(check), check[0], check[-1])"
      ],
      "execution_count": 22,
      "outputs": [
        {
          "output_type": "stream",
          "name": "stdout",
          "text": [
            "585 00000 01010\n"
          ]
        }
      ]
    },
    {
      "cell_type": "code",
      "metadata": {
        "id": "DhI7H-tXt1U6"
      },
      "source": [
        ""
      ],
      "execution_count": null,
      "outputs": []
    }
  ]
}