{
  "nbformat": 4,
  "nbformat_minor": 0,
  "metadata": {
    "kernelspec": {
      "language": "python",
      "display_name": "Python 3",
      "name": "python3"
    },
    "language_info": {
      "name": "python",
      "version": "3.7.10",
      "mimetype": "text/x-python",
      "codemirror_mode": {
        "name": "ipython",
        "version": 3
      },
      "pygments_lexer": "ipython3",
      "nbconvert_exporter": "python",
      "file_extension": ".py"
    },
    "colab": {
      "name": "rsna-miccai-brain-tumor-johanjun_1007-v1(reversed images augmentation).ipynb",
      "provenance": [],
      "collapsed_sections": [],
      "machine_shape": "hm",
      "include_colab_link": true
    },
    "accelerator": "GPU"
  },
  "cells": [
    {
      "cell_type": "markdown",
      "metadata": {
        "id": "view-in-github",
        "colab_type": "text"
      },
      "source": [
        "<a href=\"https://colab.research.google.com/github/johanjun/Google_Machine_Learning_Bootcamp_KR_2021/blob/main/kaggle/RSNA_MICCAI_BRAIN_TUMOR/rsna_miccai_brain_tumor_johanjun_1007_v1(reversed_images_augmentation).ipynb\" target=\"_parent\"><img src=\"https://colab.research.google.com/assets/colab-badge.svg\" alt=\"Open In Colab\"/></a>"
      ]
    },
    {
      "cell_type": "code",
      "metadata": {
        "colab": {
          "base_uri": "https://localhost:8080/"
        },
        "id": "xOUCOQHHYjrI",
        "outputId": "dabcf127-74e7-4026-ac14-235cba2f1420"
      },
      "source": [
        "pip install pydicom"
      ],
      "execution_count": 2,
      "outputs": [
        {
          "output_type": "stream",
          "name": "stdout",
          "text": [
            "Collecting pydicom\n",
            "  Downloading pydicom-2.2.2-py3-none-any.whl (2.0 MB)\n",
            "\u001b[K     |████████████████████████████████| 2.0 MB 6.6 MB/s \n",
            "\u001b[?25hInstalling collected packages: pydicom\n",
            "Successfully installed pydicom-2.2.2\n"
          ]
        }
      ]
    },
    {
      "cell_type": "code",
      "metadata": {
        "_uuid": "8f2839f25d086af736a60e9eeb907d3b93b6e0e5",
        "_cell_guid": "b1076dfc-b9ad-4769-8c92-a6c4dae69d19",
        "execution": {
          "iopub.status.busy": "2021-09-09T08:53:56.762280Z",
          "iopub.execute_input": "2021-09-09T08:53:56.762670Z",
          "iopub.status.idle": "2021-09-09T08:53:56.769176Z",
          "shell.execute_reply.started": "2021-09-09T08:53:56.762636Z",
          "shell.execute_reply": "2021-09-09T08:53:56.768094Z"
        },
        "trusted": true,
        "id": "0l9glKmsSg6D"
      },
      "source": [
        "import numpy as np # linear algebra\n",
        "import pandas as pd # data processing, CSV file I/O (e.g. pd.read_csv)\n",
        "import os\n",
        "from tqdm import tqdm\n",
        "import random\n",
        "import pydicom\n",
        "import cv2\n",
        "import pickle\n",
        "\n",
        "import matplotlib.pyplot as plt\n",
        "import glob\n",
        "\n",
        "import tensorflow as tf\n",
        "from tensorflow import keras\n",
        "from tensorflow.keras.utils import to_categorical\n",
        "from sklearn.model_selection import train_test_split"
      ],
      "execution_count": 3,
      "outputs": []
    },
    {
      "cell_type": "code",
      "metadata": {
        "id": "c6wQE57KS99g"
      },
      "source": [
        "data_dir = '/content/drive/MyDrive/Google_Machine_Learning_Bootcamp_KR_2021/RSNA_MICCAI/data/rsna-miccai/'"
      ],
      "execution_count": 4,
      "outputs": []
    },
    {
      "cell_type": "code",
      "metadata": {
        "execution": {
          "iopub.status.busy": "2021-09-09T08:05:05.559632Z",
          "iopub.execute_input": "2021-09-09T08:05:05.560291Z",
          "iopub.status.idle": "2021-09-09T08:05:05.588138Z",
          "shell.execute_reply.started": "2021-09-09T08:05:05.560236Z",
          "shell.execute_reply": "2021-09-09T08:05:05.587076Z"
        },
        "trusted": true,
        "id": "50rg9HSFSg6G"
      },
      "source": [
        "train_df = pd.read_csv(data_dir + \"train_labels.csv\")\n",
        "test_df = pd.read_csv(data_dir + \"sample_submission.csv\")"
      ],
      "execution_count": 5,
      "outputs": []
    },
    {
      "cell_type": "markdown",
      "metadata": {
        "id": "WFR8qocSSg6G"
      },
      "source": [
        "In this discussion a competition host has notified that there are some issues with these 3 cases\n",
        "Patient IDs -\n",
        "\n",
        "1. 00109 (FLAIR images are blank)\n",
        "2. 00123 (T1w images are blank)\n",
        "3. 00709 (FLAIR images are blank)\n",
        "<br><br>Hence these can be excluded"
      ]
    },
    {
      "cell_type": "code",
      "metadata": {
        "execution": {
          "iopub.status.busy": "2021-09-09T08:05:07.655722Z",
          "iopub.execute_input": "2021-09-09T08:05:07.656096Z",
          "iopub.status.idle": "2021-09-09T08:05:07.675143Z",
          "shell.execute_reply.started": "2021-09-09T08:05:07.656067Z",
          "shell.execute_reply": "2021-09-09T08:05:07.673869Z"
        },
        "trusted": true,
        "id": "ZNX625ndSg6I"
      },
      "source": [
        "#refer: https://www.kaggle.com/arnabs007/part-1-rsna-miccai-btrc-understanding-the-data\n",
        "EXCLUDE = [109, 123, 709]\n",
        "train_df = train_df[~train_df.BraTS21ID.isin(EXCLUDE)]"
      ],
      "execution_count": 6,
      "outputs": []
    },
    {
      "cell_type": "code",
      "metadata": {
        "execution": {
          "iopub.status.busy": "2021-09-09T08:05:08.179708Z",
          "iopub.execute_input": "2021-09-09T08:05:08.180276Z",
          "iopub.status.idle": "2021-09-09T08:05:08.184417Z",
          "shell.execute_reply.started": "2021-09-09T08:05:08.180233Z",
          "shell.execute_reply": "2021-09-09T08:05:08.183183Z"
        },
        "trusted": true,
        "id": "MC2xY5WrSg6I"
      },
      "source": [
        "TYPES = [\"FLAIR\", \"T1w\", \"T1wCE\", \"T2w\"] #mpMRI scans"
      ],
      "execution_count": 7,
      "outputs": []
    },
    {
      "cell_type": "code",
      "metadata": {
        "execution": {
          "iopub.status.busy": "2021-09-09T08:05:08.874839Z",
          "iopub.execute_input": "2021-09-09T08:05:08.875202Z",
          "iopub.status.idle": "2021-09-09T08:05:08.880569Z",
          "shell.execute_reply.started": "2021-09-09T08:05:08.875173Z",
          "shell.execute_reply": "2021-09-09T08:05:08.879818Z"
        },
        "trusted": true,
        "id": "OpI5yrzsSg6I"
      },
      "source": [
        "def load_dicom(path, size = 128): #load DICOM files\n",
        "    dicom = pydicom.read_file(path)\n",
        "    data = dicom.pixel_array #returns a numpy.ndarray containing the pixel data\n",
        "    if np.max(data) != 0:\n",
        "        data = data / np.max(data) #standardizes so that the pixel values are between 0 and 1\n",
        "    data = (data * 255).astype(np.uint8) #rescales to 0 and 255\n",
        "    return cv2.resize(data, (size, size))"
      ],
      "execution_count": 8,
      "outputs": []
    },
    {
      "cell_type": "code",
      "metadata": {
        "execution": {
          "iopub.status.busy": "2021-09-09T08:05:09.466375Z",
          "iopub.execute_input": "2021-09-09T08:05:09.466923Z",
          "iopub.status.idle": "2021-09-09T08:05:09.474187Z",
          "shell.execute_reply.started": "2021-09-09T08:05:09.466888Z",
          "shell.execute_reply": "2021-09-09T08:05:09.473386Z"
        },
        "trusted": true,
        "id": "3nirbxWXSg6J"
      },
      "source": [
        "def get_all_image_paths(BraTS21ID, image_type, folder=\"train\"): #get an array of all the images of a particular type or a particular patient id\n",
        "    assert(image_type in TYPES) #only in types\n",
        "    patient_path = os.path.join(data_dir + \"%s/\" % folder, str(BraTS21ID).zfill(5)) #다른 폴더일 수도 있음\n",
        "    #print(lambda x: int(x[:-4].split(\"-\")[-1]))\n",
        "    \n",
        "    paths = sorted(glob.glob(os.path.join(patient_path, image_type, \"*\")), key=lambda x: int(x[:-4].split(\"-\")[-1])) #sort\n",
        "    #print(paths)\n",
        "    \n",
        "    num_images = len(paths)\n",
        "    \n",
        "    start = int(num_images * 0.25)\n",
        "    end = int(num_images * 0.75)\n",
        "    if num_images < 10:\n",
        "        jump = 1\n",
        "    else:\n",
        "        jump = 3\n",
        "        \n",
        "    return np.array(paths[start:end:jump])"
      ],
      "execution_count": 9,
      "outputs": []
    },
    {
      "cell_type": "code",
      "metadata": {
        "execution": {
          "iopub.status.busy": "2021-09-09T08:05:09.961756Z",
          "iopub.execute_input": "2021-09-09T08:05:09.962152Z",
          "iopub.status.idle": "2021-09-09T08:05:09.966979Z",
          "shell.execute_reply.started": "2021-09-09T08:05:09.962116Z",
          "shell.execute_reply": "2021-09-09T08:05:09.966011Z"
        },
        "trusted": true,
        "id": "oWZMpAyBSg6K"
      },
      "source": [
        "def get_all_images(BraTS21ID, image_type, folder=\"train\", size=225):\n",
        "    return [load_dicom(path, size) for path in get_all_image_paths(BraTS21ID, image_type, folder)]"
      ],
      "execution_count": 10,
      "outputs": []
    },
    {
      "cell_type": "code",
      "metadata": {
        "execution": {
          "iopub.status.busy": "2021-09-09T08:05:10.416138Z",
          "iopub.execute_input": "2021-09-09T08:05:10.416626Z",
          "iopub.status.idle": "2021-09-09T08:05:10.425527Z",
          "shell.execute_reply.started": "2021-09-09T08:05:10.416595Z",
          "shell.execute_reply": "2021-09-09T08:05:10.424744Z"
        },
        "trusted": true,
        "id": "5DDIDg9dSg6L"
      },
      "source": [
        "def get_all_data_train(image_type):\n",
        "    global train_df\n",
        "    \n",
        "    X = []\n",
        "    y = []\n",
        "    train_ids = []\n",
        "\n",
        "    for i in tqdm(train_df.index):\n",
        "        tmp_x = train_df.loc[i]\n",
        "        images = get_all_images(int(tmp_x[\"BraTS21ID\"]), image_type, \"train\", IMAGE_SIZE)\n",
        "        label = tmp_x[\"MGMT_value\"]\n",
        "\n",
        "        X += images\n",
        "        y += [label] * len(images)\n",
        "        train_ids += [int(tmp_x[\"BraTS21ID\"])] * len(images)\n",
        "        assert(len(X) == len(y))\n",
        "    return np.array(X), np.array(y), np.array(train_ids)\n",
        "\n",
        "def get_all_data_test(image_type):\n",
        "    global test_df\n",
        "    \n",
        "    X = []\n",
        "    test_ids = []\n",
        "\n",
        "    for i in tqdm(test_df.index):\n",
        "        tmp_x = test_df.loc[i]\n",
        "        images = get_all_images(int(tmp_x[\"BraTS21ID\"]), image_type, \"test\", IMAGE_SIZE)\n",
        "        X += images\n",
        "        test_ids += [int(tmp_x[\"BraTS21ID\"])] * len(images)\n",
        "\n",
        "    return np.array(X), np.array(test_ids)"
      ],
      "execution_count": 11,
      "outputs": []
    },
    {
      "cell_type": "code",
      "metadata": {
        "id": "lc0aULRpaUyf"
      },
      "source": [
        "#pickling\n",
        "with open(data_dir+'X_T1wCE.pkl', 'rb') as f:\n",
        "  X_T1wCE = pickle.load(f)\n",
        "\n",
        "with open(data_dir+'y_T1wCE.pkl', 'rb') as f:\n",
        "  y_T1wCE = pickle.load(f)\n",
        "\n",
        "with open(data_dir+'train_idt_T1wCE.pkl', 'rb') as f:\n",
        "  train_idt_T1wCE = pickle.load(f)\n",
        "\n",
        "with open(data_dir+'X_test_T1wCE.pkl', 'rb') as f:\n",
        "  X_test_T1wCE = pickle.load(f)\n",
        "\n",
        "with open(data_dir+'test_idt_T1wCE.pkl', 'rb') as f:\n",
        "  test_idt_T1wCE = pickle.load(f)\n",
        "#pickling\n",
        "with open(data_dir+'X_FLAIR.pkl', 'rb') as f:\n",
        "  X_FLAIR = pickle.load(f)\n",
        "\n",
        "with open(data_dir+'y_FLAIR.pkl', 'rb') as f:\n",
        "  y_FLAIR = pickle.load(f)\n",
        "\n",
        "with open(data_dir+'train_idt_FLAIR.pkl', 'rb') as f:\n",
        "  train_idt_FLAIR = pickle.load(f)\n",
        "\n",
        "with open(data_dir+'X_test_FLAIR.pkl', 'rb') as f:\n",
        "  X_test_FLAIR = pickle.load(f)\n",
        "\n",
        "with open(data_dir+'test_idt_FLAIR.pkl', 'rb') as f:\n",
        "  test_idt_FLAIR = pickle.load(f)\n",
        "#pickling\n",
        "with open(data_dir+'X_T2w.pkl', 'rb') as f:\n",
        "  X_T2w = pickle.load(f)\n",
        "\n",
        "with open(data_dir+'y_T2w.pkl', 'rb') as f:\n",
        "  y_T2w = pickle.load(f)\n",
        "\n",
        "with open(data_dir+'train_idt_T2w.pkl', 'rb') as f:\n",
        "  train_idt_T2w = pickle.load(f)\n",
        "\n",
        "with open(data_dir+'X_test_T2w.pkl', 'rb') as f:\n",
        "  X_test_T2w = pickle.load(f)\n",
        "\n",
        "with open(data_dir+'test_idt_T2w.pkl', 'rb') as f:\n",
        "  test_idt_T2w = pickle.load(f)\n",
        "#pickling\n",
        "with open(data_dir+'X_T1w.pkl', 'rb') as f:\n",
        "  X_T1w = pickle.load(f)\n",
        "\n",
        "with open(data_dir+'y_T1w.pkl', 'rb') as f:\n",
        "  y_T1w = pickle.load(f)\n",
        "\n",
        "with open(data_dir+'train_idt_T1w.pkl', 'rb') as f:\n",
        "  train_idt_T1w = pickle.load(f)\n",
        "\n",
        "with open(data_dir+'X_test_T1w.pkl', 'rb') as f:\n",
        "  X_test_T1w = pickle.load(f)\n",
        "\n",
        "with open(data_dir+'test_idt_T1w.pkl', 'rb') as f:\n",
        "  test_idt_T1w = pickle.load(f)"
      ],
      "execution_count": 12,
      "outputs": []
    },
    {
      "cell_type": "code",
      "metadata": {
        "id": "Lcy0kxoCqOh5"
      },
      "source": [
        "#augmentation\n",
        "reversed_X_T1wCE = tf.image.random_flip_left_right(X_T1wCE)\n",
        "reversed_X_T2w = tf.image.random_flip_left_right(X_T2w)"
      ],
      "execution_count": 13,
      "outputs": []
    },
    {
      "cell_type": "code",
      "metadata": {
        "id": "_xguSRrQbg5D"
      },
      "source": [
        "X = np.concatenate([X_T1wCE, reversed_X_T1wCE, X_T2w, reversed_X_T2w], axis=0)\n",
        "y = np.concatenate([y_T1wCE, y_T1wCE, y_T2w, y_T2w], axis=0)\n",
        "train_idt = np.concatenate([train_idt_T1wCE, train_idt_T1wCE, train_idt_T2w, train_idt_T2w], axis=0)\n",
        "\n",
        "X_test = np.concatenate([X_test_FLAIR, X_test_T1w, X_test_T1wCE, X_test_T2w], axis=0)\n",
        "test_idt = np.concatenate([test_idt_FLAIR, test_idt_T1w, test_idt_T1wCE, test_idt_T2w], axis=0)"
      ],
      "execution_count": 14,
      "outputs": []
    },
    {
      "cell_type": "code",
      "metadata": {
        "execution": {
          "iopub.status.busy": "2021-09-09T08:09:43.944235Z",
          "iopub.execute_input": "2021-09-09T08:09:43.944810Z",
          "iopub.status.idle": "2021-09-09T08:09:43.986052Z",
          "shell.execute_reply.started": "2021-09-09T08:09:43.944767Z",
          "shell.execute_reply": "2021-09-09T08:09:43.985157Z"
        },
        "trusted": true,
        "id": "wrK-MrfRSg6M"
      },
      "source": [
        "X_train, X_valid, y_train, y_valid, train_idt_train, train_idt_valid = train_test_split(X, y, train_idt, test_size=0.1)\n",
        "X_train = tf.expand_dims(X_train, axis=-1) #expand the dimension at the end of the array\n",
        "X_valid = tf.expand_dims(X_valid, axis=-1)\n",
        "X_test = tf.expand_dims(X_test, axis=-1)\n",
        "\n",
        "y_train = to_categorical(y_train) #one-hot incoding\n",
        "y_valid = to_categorical(y_valid)"
      ],
      "execution_count": 15,
      "outputs": []
    },
    {
      "cell_type": "code",
      "metadata": {
        "execution": {
          "iopub.status.busy": "2021-09-09T08:09:46.085374Z",
          "iopub.execute_input": "2021-09-09T08:09:46.085773Z",
          "iopub.status.idle": "2021-09-09T08:09:46.093809Z",
          "shell.execute_reply.started": "2021-09-09T08:09:46.085717Z",
          "shell.execute_reply": "2021-09-09T08:09:46.092398Z"
        },
        "trusted": true,
        "id": "RQr6CiokSg6N",
        "colab": {
          "base_uri": "https://localhost:8080/"
        },
        "outputId": "c8499e28-f83f-4e4a-841a-f5043c34f10a"
      },
      "source": [
        "X_train.shape, y_train.shape, X_valid.shape, y_valid.shape, train_idt_train.shape, train_idt_valid.shape"
      ],
      "execution_count": 17,
      "outputs": [
        {
          "output_type": "execute_result",
          "data": {
            "text/plain": [
              "(TensorShape([59416, 64, 64, 1]),\n",
              " (59416, 2),\n",
              " TensorShape([6602, 64, 64, 1]),\n",
              " (6602, 2),\n",
              " (59416,),\n",
              " (6602,))"
            ]
          },
          "metadata": {},
          "execution_count": 17
        }
      ]
    },
    {
      "cell_type": "code",
      "metadata": {
        "id": "EXvtRCywarfY"
      },
      "source": [
        "X2 = np.concatenate([X_FLAIR, X_T2w, X_T1w, X_T1wCE], axis=0)\n",
        "y2 = np.concatenate([y_FLAIR, y_T2w, y_T1w, y_T1wCE], axis=0)\n",
        "train_idt2 = np.concatenate([train_idt_FLAIR, train_idt_T2w, train_idt_T1w, train_idt_T1wCE], axis=0)"
      ],
      "execution_count": 18,
      "outputs": []
    },
    {
      "cell_type": "code",
      "metadata": {
        "id": "kweY7jJCbK9o"
      },
      "source": [
        "X_train2, X_valid2, y_train2, y_valid2, train_idt_train2, train_idt_valid2 = train_test_split(X2, y2, train_idt2, test_size=0.05)"
      ],
      "execution_count": 19,
      "outputs": []
    },
    {
      "cell_type": "code",
      "metadata": {
        "id": "x6Sos8Jlb6bT"
      },
      "source": [
        "X_train2 = np.expand_dims(X_train2, axis=-1) \n",
        "X_valid2 = np.expand_dims(X_valid2, axis=-1)\n",
        "\n",
        "y_train2 = to_categorical(y_train2) \n",
        "y_valid2 = to_categorical(y_valid2)"
      ],
      "execution_count": 20,
      "outputs": []
    },
    {
      "cell_type": "code",
      "metadata": {
        "execution": {
          "iopub.status.busy": "2021-09-09T08:13:38.917128Z",
          "iopub.execute_input": "2021-09-09T08:13:38.917572Z",
          "iopub.status.idle": "2021-09-09T08:13:38.930258Z",
          "shell.execute_reply.started": "2021-09-09T08:13:38.917535Z",
          "shell.execute_reply": "2021-09-09T08:13:38.929014Z"
        },
        "trusted": true,
        "id": "gpuY_HLMSg6N"
      },
      "source": [
        "def create_model():\n",
        "    model = keras.Sequential()\n",
        "    model.add(keras.layers.Conv2D(filters=32, kernel_size=3, activation='relu', padding='VALID', \n",
        "                                  input_shape=(IMAGE_SIZE, IMAGE_SIZE, 1)))\n",
        "    model.add(keras.layers.BatchNormalization())\n",
        "    \n",
        "    model.add(keras.layers.Conv2D(filters=64, kernel_size=3, activation='relu', padding='SAME'))\n",
        "    model.add(keras.layers.BatchNormalization())\n",
        "    model.add(keras.layers.MaxPool2D(pool_size=(2,2)))\n",
        "\n",
        "    model.add(keras.layers.Conv2D(filters=64, kernel_size=3, activation='relu', padding='SAME'))\n",
        "    model.add(keras.layers.BatchNormalization())\n",
        "\n",
        "    model.add(keras.layers.Conv2D(filters=128, kernel_size=3, activation='relu', padding='VALID'))\n",
        "    model.add(keras.layers.BatchNormalization())\n",
        "\n",
        "    model.add(keras.layers.Conv2D(filters=128, kernel_size=3, activation='relu', padding='SAME'))\n",
        "    model.add(keras.layers.BatchNormalization())\n",
        "\n",
        "    model.add(keras.layers.MaxPool2D(pool_size=(2,2)))\n",
        "    model.add(keras.layers.BatchNormalization())\n",
        "    model.add(keras.layers.Dropout(0.3))\n",
        "\n",
        "    model.add(keras.layers.Flatten())\n",
        "    model.add(keras.layers.Dense(512, activation='relu', kernel_regularizer=keras.regularizers.l2(0.01)))\n",
        "    model.add(keras.layers.Dense(2, activation='softmax', kernel_regularizer=keras.regularizers.l2(0.01)))\n",
        "    return model"
      ],
      "execution_count": 21,
      "outputs": []
    },
    {
      "cell_type": "code",
      "metadata": {
        "execution": {
          "iopub.status.busy": "2021-09-09T08:13:41.051663Z",
          "iopub.execute_input": "2021-09-09T08:13:41.052059Z",
          "iopub.status.idle": "2021-09-09T08:13:41.057920Z",
          "shell.execute_reply.started": "2021-09-09T08:13:41.052027Z",
          "shell.execute_reply": "2021-09-09T08:13:41.056771Z"
        },
        "trusted": true,
        "id": "ydTkzEloSg6O"
      },
      "source": [
        "## Hyper Parameters\n",
        "IMAGE_SIZE = 64\n",
        "N_EPOCHS = 50\n",
        "N_BATCH = 128\n",
        "N_TRAIN = X_train.shape[0]\n",
        "N_VAL = X_valid.shape[0]\n",
        "\n",
        "learning_rate = 0.0001\n",
        "steps_per_epoch = N_TRAIN / N_BATCH\n",
        "validation_steps = int(np.ceil(N_VAL / N_BATCH))"
      ],
      "execution_count": 22,
      "outputs": []
    },
    {
      "cell_type": "code",
      "metadata": {
        "execution": {
          "iopub.status.busy": "2021-09-09T08:15:33.633960Z",
          "iopub.execute_input": "2021-09-09T08:15:33.634516Z",
          "iopub.status.idle": "2021-09-09T08:15:33.769136Z",
          "shell.execute_reply.started": "2021-09-09T08:15:33.634482Z",
          "shell.execute_reply": "2021-09-09T08:15:33.768205Z"
        },
        "trusted": true,
        "id": "2Nh-2Cl1Sg6O"
      },
      "source": [
        "## Create model, compile & summary\n",
        "model = create_model()\n",
        "\n",
        "model.compile(optimizer=tf.keras.optimizers.Adam(learning_rate),\n",
        "              loss='categorical_crossentropy', #label이 ohe이 아니면 sparse를 쓰면 자동으로 ohe\n",
        "              metrics=[tf.keras.metrics.AUC()])"
      ],
      "execution_count": 23,
      "outputs": []
    },
    {
      "cell_type": "code",
      "metadata": {
        "execution": {
          "iopub.status.busy": "2021-09-09T08:15:35.206055Z",
          "iopub.execute_input": "2021-09-09T08:15:35.206421Z",
          "iopub.status.idle": "2021-09-09T08:48:26.009687Z",
          "shell.execute_reply.started": "2021-09-09T08:15:35.206392Z",
          "shell.execute_reply": "2021-09-09T08:48:26.008689Z"
        },
        "trusted": true,
        "id": "DSWdjGPoSg6O",
        "colab": {
          "base_uri": "https://localhost:8080/"
        },
        "outputId": "6dc2e185-a5bb-4fa3-f087-c483444d50ed"
      },
      "source": [
        "history = model.fit(\n",
        "    x=X_train,\n",
        "    y=y_train,\n",
        "    epochs=N_EPOCHS,\n",
        "    steps_per_epoch=steps_per_epoch,\n",
        "    validation_data=(X_valid2, y_valid2),\n",
        ")"
      ],
      "execution_count": 24,
      "outputs": [
        {
          "output_type": "stream",
          "name": "stdout",
          "text": [
            "Epoch 1/50\n",
            "464/464 [==============================] - 37s 44ms/step - loss: 6.1295 - auc: 0.6987 - val_loss: 3.2088 - val_auc: 0.7076\n",
            "Epoch 2/50\n",
            "464/464 [==============================] - 20s 42ms/step - loss: 2.0150 - auc: 0.8784 - val_loss: 1.4598 - val_auc: 0.8265\n",
            "Epoch 3/50\n",
            "464/464 [==============================] - 20s 42ms/step - loss: 0.9770 - auc: 0.9501 - val_loss: 1.0069 - val_auc: 0.8437\n",
            "Epoch 4/50\n",
            "464/464 [==============================] - 20s 42ms/step - loss: 0.6345 - auc: 0.9763 - val_loss: 0.8066 - val_auc: 0.8813\n",
            "Epoch 5/50\n",
            "464/464 [==============================] - 20s 42ms/step - loss: 0.4953 - auc: 0.9861 - val_loss: 0.7779 - val_auc: 0.8814\n",
            "Epoch 6/50\n",
            "464/464 [==============================] - 20s 42ms/step - loss: 0.4378 - auc: 0.9904 - val_loss: 0.7435 - val_auc: 0.8867\n",
            "Epoch 7/50\n",
            "464/464 [==============================] - 20s 42ms/step - loss: 0.3972 - auc: 0.9927 - val_loss: 0.7497 - val_auc: 0.8838\n",
            "Epoch 8/50\n",
            "464/464 [==============================] - 20s 42ms/step - loss: 0.3757 - auc: 0.9939 - val_loss: 0.7489 - val_auc: 0.8915\n",
            "Epoch 9/50\n",
            "464/464 [==============================] - 20s 42ms/step - loss: 0.3540 - auc: 0.9946 - val_loss: 0.7519 - val_auc: 0.8812\n",
            "Epoch 10/50\n",
            "464/464 [==============================] - 20s 42ms/step - loss: 0.3343 - auc: 0.9957 - val_loss: 0.7352 - val_auc: 0.8919\n",
            "Epoch 11/50\n",
            "464/464 [==============================] - 20s 42ms/step - loss: 0.3174 - auc: 0.9961 - val_loss: 0.7644 - val_auc: 0.8828\n",
            "Epoch 12/50\n",
            "464/464 [==============================] - 20s 42ms/step - loss: 0.3019 - auc: 0.9967 - val_loss: 0.7253 - val_auc: 0.8896\n",
            "Epoch 13/50\n",
            "464/464 [==============================] - 20s 42ms/step - loss: 0.2842 - auc: 0.9971 - val_loss: 0.7042 - val_auc: 0.8932\n",
            "Epoch 14/50\n",
            "464/464 [==============================] - 20s 42ms/step - loss: 0.2734 - auc: 0.9973 - val_loss: 0.6844 - val_auc: 0.8991\n",
            "Epoch 15/50\n",
            "464/464 [==============================] - 20s 42ms/step - loss: 0.2600 - auc: 0.9974 - val_loss: 0.6837 - val_auc: 0.8979\n",
            "Epoch 16/50\n",
            "464/464 [==============================] - 20s 42ms/step - loss: 0.2564 - auc: 0.9975 - val_loss: 0.6879 - val_auc: 0.8969\n",
            "Epoch 17/50\n",
            "464/464 [==============================] - 20s 42ms/step - loss: 0.2353 - auc: 0.9983 - val_loss: 0.7854 - val_auc: 0.8804\n",
            "Epoch 18/50\n",
            "464/464 [==============================] - 20s 42ms/step - loss: 0.2378 - auc: 0.9979 - val_loss: 0.6923 - val_auc: 0.8949\n",
            "Epoch 19/50\n",
            "464/464 [==============================] - 20s 42ms/step - loss: 0.2251 - auc: 0.9982 - val_loss: 0.6751 - val_auc: 0.9005\n",
            "Epoch 20/50\n",
            "464/464 [==============================] - 20s 42ms/step - loss: 0.2159 - auc: 0.9983 - val_loss: 0.7443 - val_auc: 0.8865\n",
            "Epoch 21/50\n",
            "464/464 [==============================] - 20s 42ms/step - loss: 0.2052 - auc: 0.9985 - val_loss: 0.7099 - val_auc: 0.8930\n",
            "Epoch 22/50\n",
            "464/464 [==============================] - 20s 42ms/step - loss: 0.1994 - auc: 0.9985 - val_loss: 0.6642 - val_auc: 0.8987\n",
            "Epoch 23/50\n",
            "464/464 [==============================] - 20s 42ms/step - loss: 0.1933 - auc: 0.9986 - val_loss: 0.6599 - val_auc: 0.8972\n",
            "Epoch 24/50\n",
            "464/464 [==============================] - 20s 42ms/step - loss: 0.1925 - auc: 0.9985 - val_loss: 0.6938 - val_auc: 0.8907\n",
            "Epoch 25/50\n",
            "464/464 [==============================] - 20s 42ms/step - loss: 0.1843 - auc: 0.9988 - val_loss: 0.7418 - val_auc: 0.8836\n",
            "Epoch 26/50\n",
            "464/464 [==============================] - 20s 42ms/step - loss: 0.1752 - auc: 0.9989 - val_loss: 0.7376 - val_auc: 0.8881\n",
            "Epoch 27/50\n",
            "464/464 [==============================] - 20s 42ms/step - loss: 0.1689 - auc: 0.9990 - val_loss: 0.7500 - val_auc: 0.8805\n",
            "Epoch 28/50\n",
            "464/464 [==============================] - 20s 42ms/step - loss: 0.1731 - auc: 0.9987 - val_loss: 0.6828 - val_auc: 0.8933\n",
            "Epoch 29/50\n",
            "464/464 [==============================] - 20s 42ms/step - loss: 0.1674 - auc: 0.9989 - val_loss: 0.6977 - val_auc: 0.8913\n",
            "Epoch 30/50\n",
            "464/464 [==============================] - 20s 42ms/step - loss: 0.1653 - auc: 0.9988 - val_loss: 0.6945 - val_auc: 0.8947\n",
            "Epoch 31/50\n",
            "464/464 [==============================] - 20s 42ms/step - loss: 0.1550 - auc: 0.9991 - val_loss: 0.6928 - val_auc: 0.8901\n",
            "Epoch 32/50\n",
            "464/464 [==============================] - 20s 42ms/step - loss: 0.1536 - auc: 0.9990 - val_loss: 0.6738 - val_auc: 0.8950\n",
            "Epoch 33/50\n",
            "464/464 [==============================] - 20s 42ms/step - loss: 0.1470 - auc: 0.9992 - val_loss: 0.7152 - val_auc: 0.8924\n",
            "Epoch 34/50\n",
            "464/464 [==============================] - 20s 42ms/step - loss: 0.1484 - auc: 0.9990 - val_loss: 0.7263 - val_auc: 0.8894\n",
            "Epoch 35/50\n",
            "464/464 [==============================] - 20s 42ms/step - loss: 0.1450 - auc: 0.9991 - val_loss: 0.7231 - val_auc: 0.8931\n",
            "Epoch 36/50\n",
            "464/464 [==============================] - 20s 42ms/step - loss: 0.1432 - auc: 0.9990 - val_loss: 0.7493 - val_auc: 0.8832\n",
            "Epoch 37/50\n",
            "464/464 [==============================] - 20s 42ms/step - loss: 0.1357 - auc: 0.9992 - val_loss: 0.7229 - val_auc: 0.8888\n",
            "Epoch 38/50\n",
            "464/464 [==============================] - 20s 42ms/step - loss: 0.1343 - auc: 0.9993 - val_loss: 0.7101 - val_auc: 0.8908\n",
            "Epoch 39/50\n",
            "464/464 [==============================] - 20s 42ms/step - loss: 0.1302 - auc: 0.9993 - val_loss: 0.7150 - val_auc: 0.8890\n",
            "Epoch 40/50\n",
            "464/464 [==============================] - 20s 42ms/step - loss: 0.1315 - auc: 0.9992 - val_loss: 0.7103 - val_auc: 0.8902\n",
            "Epoch 41/50\n",
            "464/464 [==============================] - 20s 42ms/step - loss: 0.1265 - auc: 0.9993 - val_loss: 0.7273 - val_auc: 0.8860\n",
            "Epoch 42/50\n",
            "464/464 [==============================] - 20s 42ms/step - loss: 0.1225 - auc: 0.9993 - val_loss: 0.7158 - val_auc: 0.8923\n",
            "Epoch 43/50\n",
            "464/464 [==============================] - 20s 42ms/step - loss: 0.1207 - auc: 0.9993 - val_loss: 0.7302 - val_auc: 0.8932\n",
            "Epoch 44/50\n",
            "464/464 [==============================] - 20s 42ms/step - loss: 0.1157 - auc: 0.9994 - val_loss: 0.7301 - val_auc: 0.8859\n",
            "Epoch 45/50\n",
            "464/464 [==============================] - 20s 42ms/step - loss: 0.1189 - auc: 0.9992 - val_loss: 0.7143 - val_auc: 0.8890\n",
            "Epoch 46/50\n",
            "464/464 [==============================] - 20s 42ms/step - loss: 0.1158 - auc: 0.9994 - val_loss: 0.7120 - val_auc: 0.8933\n",
            "Epoch 47/50\n",
            "464/464 [==============================] - 20s 42ms/step - loss: 0.1118 - auc: 0.9994 - val_loss: 0.6958 - val_auc: 0.8943\n",
            "Epoch 48/50\n",
            "464/464 [==============================] - 20s 42ms/step - loss: 0.1148 - auc: 0.9992 - val_loss: 0.7360 - val_auc: 0.8893\n",
            "Epoch 49/50\n",
            "464/464 [==============================] - 20s 42ms/step - loss: 0.1056 - auc: 0.9995 - val_loss: 0.6922 - val_auc: 0.8941\n",
            "Epoch 50/50\n",
            "464/464 [==============================] - 20s 42ms/step - loss: 0.1035 - auc: 0.9995 - val_loss: 0.7693 - val_auc: 0.8841\n"
          ]
        }
      ]
    },
    {
      "cell_type": "code",
      "metadata": {
        "execution": {
          "iopub.status.busy": "2021-09-09T08:54:56.564208Z",
          "iopub.execute_input": "2021-09-09T08:54:56.564589Z",
          "iopub.status.idle": "2021-09-09T08:54:56.821291Z",
          "shell.execute_reply.started": "2021-09-09T08:54:56.564557Z",
          "shell.execute_reply": "2021-09-09T08:54:56.820104Z"
        },
        "trusted": true,
        "id": "hOyjRAXkSg6P",
        "colab": {
          "base_uri": "https://localhost:8080/",
          "height": 513
        },
        "outputId": "834af310-1e7b-44a3-c7d6-b2c73633f252"
      },
      "source": [
        "plt.figure(figsize = (13,8))\n",
        "plt.plot(history.history[\"auc\"], label = \"Train Accuracy\")\n",
        "plt.plot(history.history[\"val_auc\"],label = \"Validation Accuracy\")\n",
        "plt.title(\"Accuracies\")\n",
        "plt.xlabel(\"Epochs\")\n",
        "plt.ylabel(\"Accuracy\")\n",
        "plt.legend()\n",
        "plt.show()"
      ],
      "execution_count": 25,
      "outputs": [
        {
          "output_type": "display_data",
          "data": {
            "image/png": "[encoded data removed]",
            "text/plain": [
              "<Figure size 936x576 with 1 Axes>"
            ]
          },
          "metadata": {
            "needs_background": "light"
          }
        }
      ]
    },
    {
      "cell_type": "code",
      "metadata": {
        "execution": {
          "iopub.status.busy": "2021-09-09T08:55:16.009645Z",
          "iopub.execute_input": "2021-09-09T08:55:16.010058Z",
          "iopub.status.idle": "2021-09-09T08:55:16.225880Z",
          "shell.execute_reply.started": "2021-09-09T08:55:16.010024Z",
          "shell.execute_reply": "2021-09-09T08:55:16.224747Z"
        },
        "trusted": true,
        "id": "nsGxtkITSg6Q",
        "colab": {
          "base_uri": "https://localhost:8080/",
          "height": 513
        },
        "outputId": "fbdbb2ba-99e0-4243-d55d-b6ef06191b71"
      },
      "source": [
        "plt.figure(figsize = (13,8))\n",
        "plt.plot(history.history[\"loss\"], label = \"Train Loss\")\n",
        "plt.plot(history.history[\"val_loss\"],label = \"Validation Loss\")\n",
        "plt.title(\"Losses\")\n",
        "plt.xlabel(\"Epochs\")\n",
        "plt.ylabel(\"Loss\")\n",
        "plt.legend()\n",
        "plt.show()"
      ],
      "execution_count": 26,
      "outputs": [
        {
          "output_type": "display_data",
          "data": {
            "image/png": "[encoded data removed]",
            "text/plain": [
              "<Figure size 936x576 with 1 Axes>"
            ]
          },
          "metadata": {
            "needs_background": "light"
          }
        }
      ]
    },
    {
      "cell_type": "code",
      "metadata": {
        "colab": {
          "base_uri": "https://localhost:8080/"
        },
        "id": "YFKGJBBoZRXm",
        "outputId": "d02d1bae-d7db-4f85-c487-414d83db595d"
      },
      "source": [
        "y_pred = model.predict(X_valid) #pedict on X_valid\n",
        "pred = np.argmax(y_pred, axis = 1) #index of largest value by column 열 기준 가장 큰 값의 인덱스\n",
        "\n",
        "result = pd.DataFrame(train_idt_valid) #BraTS21ID\n",
        "result[1] = pred #MGMT_value\n",
        "result.columns=[\"BraTS21ID\",\"MGMT_value\"]\n",
        "#Group by BraTS21ID and average + do not use index\n",
        "result_final = result.groupby(\"BraTS21ID\", as_index = False).mean()\n",
        "result_final = result_final.merge(train_df, on = \"BraTS21ID\") #merge train_df\n",
        "from sklearn.metrics import roc_auc_score\n",
        "roc_auc_score(result_final.MGMT_value_y, result_final.MGMT_value_x,)"
      ],
      "execution_count": 27,
      "outputs": [
        {
          "output_type": "execute_result",
          "data": {
            "text/plain": [
              "0.9646317103620474"
            ]
          },
          "metadata": {},
          "execution_count": 27
        }
      ]
    },
    {
      "cell_type": "code",
      "metadata": {
        "id": "Q29cSDmCZW5Z"
      },
      "source": [
        "X = np.concatenate([X_T2w, reversed_X_T2w], axis=0)\n",
        "y = np.concatenate([y_T2w, y_T2w], axis=0)\n",
        "train_idt = np.concatenate([train_idt_T2w, train_idt_T2w], axis=0)\n",
        "\n",
        "X_test = np.concatenate([X_test_FLAIR, X_test_T1w, X_test_T1wCE, X_test_T2w], axis=0)\n",
        "test_idt = np.concatenate([test_idt_FLAIR, test_idt_T1w, test_idt_T1wCE, test_idt_T2w], axis=0)"
      ],
      "execution_count": 28,
      "outputs": []
    },
    {
      "cell_type": "code",
      "metadata": {
        "id": "EkHGcfN1Auue"
      },
      "source": [
        "\n",
        "X_train, X_valid, y_train, y_valid, train_idt_train, train_idt_valid = train_test_split(X, y, train_idt, test_size=0.1)\n",
        "X_train = tf.expand_dims(X_train, axis=-1) #expand the dimension at the end of the array\n",
        "X_valid = tf.expand_dims(X_valid, axis=-1)\n",
        "X_test = tf.expand_dims(X_test, axis=-1)\n",
        "\n",
        "y_train = to_categorical(y_train) #one-hot incoding\n",
        "y_valid = to_categorical(y_valid)"
      ],
      "execution_count": 29,
      "outputs": []
    },
    {
      "cell_type": "code",
      "metadata": {
        "colab": {
          "base_uri": "https://localhost:8080/",
          "height": 1000
        },
        "id": "9eGm319mAlst",
        "outputId": "bf832bc5-d99a-4fbe-a0b4-5f7b92fc5ca4"
      },
      "source": [
        "history = model.fit(\n",
        "    x=X_train,\n",
        "    y=y_train,\n",
        "    epochs=N_EPOCHS,\n",
        "    steps_per_epoch=steps_per_epoch,\n",
        "    validation_data=(X_valid2, y_valid2),\n",
        ")"
      ],
      "execution_count": 30,
      "outputs": [
        {
          "output_type": "stream",
          "name": "stdout",
          "text": [
            "Epoch 1/50\n",
            "464/464 [==============================] - 13s 27ms/step - loss: 0.1309 - auc: 0.9982 - val_loss: 0.6927 - val_auc: 0.8790\n",
            "Epoch 2/50\n",
            "464/464 [==============================] - 12s 27ms/step - loss: 0.1061 - auc: 0.9995 - val_loss: 0.7951 - val_auc: 0.8699\n",
            "Epoch 3/50\n",
            "464/464 [==============================] - 12s 27ms/step - loss: 0.0860 - auc: 0.9999 - val_loss: 0.7687 - val_auc: 0.8667\n",
            "Epoch 4/50\n",
            "464/464 [==============================] - 12s 27ms/step - loss: 0.0761 - auc: 0.9999 - val_loss: 0.8031 - val_auc: 0.8616\n",
            "Epoch 5/50\n",
            "464/464 [==============================] - 12s 27ms/step - loss: 0.0677 - auc: 0.9999 - val_loss: 0.7682 - val_auc: 0.8621\n",
            "Epoch 6/50\n",
            "464/464 [==============================] - 12s 27ms/step - loss: 0.0668 - auc: 0.9999 - val_loss: 0.6994 - val_auc: 0.8652\n",
            "Epoch 7/50\n",
            "464/464 [==============================] - 12s 27ms/step - loss: 0.0676 - auc: 0.9999 - val_loss: 1.0671 - val_auc: 0.8107\n",
            "Epoch 8/50\n",
            "464/464 [==============================] - 12s 27ms/step - loss: 0.0646 - auc: 0.9999 - val_loss: 0.8356 - val_auc: 0.8456\n",
            "Epoch 9/50\n",
            "464/464 [==============================] - 12s 27ms/step - loss: 0.0637 - auc: 0.9999 - val_loss: 0.9034 - val_auc: 0.8341\n",
            "Epoch 10/50\n",
            "464/464 [==============================] - 12s 27ms/step - loss: 0.0629 - auc: 0.9999 - val_loss: 0.8359 - val_auc: 0.8346\n",
            "Epoch 11/50\n",
            "464/464 [==============================] - 12s 27ms/step - loss: 0.0596 - auc: 0.9999 - val_loss: 0.8615 - val_auc: 0.8347\n",
            "Epoch 12/50\n",
            "464/464 [==============================] - 12s 27ms/step - loss: 0.0577 - auc: 0.9999 - val_loss: 0.8305 - val_auc: 0.8345\n",
            "Epoch 13/50\n",
            "464/464 [==============================] - 12s 27ms/step - loss: 0.0554 - auc: 0.9999 - val_loss: 1.1193 - val_auc: 0.8047\n",
            "Epoch 14/50\n",
            "464/464 [==============================] - 12s 27ms/step - loss: 0.0568 - auc: 0.9999 - val_loss: 0.9711 - val_auc: 0.8197\n",
            "Epoch 15/50\n",
            "464/464 [==============================] - 12s 27ms/step - loss: 0.0541 - auc: 0.9999 - val_loss: 1.0138 - val_auc: 0.8145\n",
            "Epoch 16/50\n",
            "464/464 [==============================] - 12s 27ms/step - loss: 0.0506 - auc: 1.0000 - val_loss: 0.9608 - val_auc: 0.8155\n",
            "Epoch 17/50\n",
            "464/464 [==============================] - 12s 27ms/step - loss: 0.0468 - auc: 1.0000 - val_loss: 1.0420 - val_auc: 0.8100\n",
            "Epoch 18/50\n",
            "464/464 [==============================] - 12s 27ms/step - loss: 0.0499 - auc: 0.9999 - val_loss: 0.9653 - val_auc: 0.8155\n",
            "Epoch 19/50\n",
            "464/464 [==============================] - 12s 27ms/step - loss: 0.0469 - auc: 0.9999 - val_loss: 0.8877 - val_auc: 0.8227\n",
            "Epoch 20/50\n",
            "464/464 [==============================] - 12s 27ms/step - loss: 0.0482 - auc: 0.9999 - val_loss: 0.8717 - val_auc: 0.8291\n",
            "Epoch 21/50\n",
            "464/464 [==============================] - 12s 27ms/step - loss: 0.0460 - auc: 0.9999 - val_loss: 0.9061 - val_auc: 0.8199\n",
            "Epoch 22/50\n",
            "464/464 [==============================] - 12s 27ms/step - loss: 0.0388 - auc: 1.0000 - val_loss: 0.8557 - val_auc: 0.8295\n",
            "Epoch 23/50\n",
            "464/464 [==============================] - 12s 27ms/step - loss: 0.0370 - auc: 1.0000 - val_loss: 0.9250 - val_auc: 0.8216\n",
            "Epoch 24/50\n",
            "464/464 [==============================] - 12s 27ms/step - loss: 0.0327 - auc: 1.0000 - val_loss: 1.0026 - val_auc: 0.7992\n",
            "Epoch 25/50\n",
            "464/464 [==============================] - 12s 27ms/step - loss: 0.0341 - auc: 1.0000 - val_loss: 0.8933 - val_auc: 0.8161\n",
            "Epoch 26/50\n",
            "464/464 [==============================] - 12s 27ms/step - loss: 0.0418 - auc: 0.9999 - val_loss: 0.9486 - val_auc: 0.7977\n",
            "Epoch 27/50\n",
            "464/464 [==============================] - 12s 27ms/step - loss: 0.0531 - auc: 0.9998 - val_loss: 1.0183 - val_auc: 0.8031\n",
            "Epoch 28/50\n",
            "464/464 [==============================] - 12s 27ms/step - loss: 0.0441 - auc: 1.0000 - val_loss: 1.0727 - val_auc: 0.7966\n",
            "Epoch 29/50\n",
            "464/464 [==============================] - 12s 27ms/step - loss: 0.0358 - auc: 1.0000 - val_loss: 0.9659 - val_auc: 0.8074\n",
            "Epoch 30/50\n",
            "464/464 [==============================] - 12s 27ms/step - loss: 0.0310 - auc: 1.0000 - val_loss: 0.9243 - val_auc: 0.8139\n",
            "Epoch 31/50\n",
            "464/464 [==============================] - 12s 27ms/step - loss: 0.0263 - auc: 1.0000 - val_loss: 0.8664 - val_auc: 0.8152\n",
            "Epoch 32/50\n",
            "464/464 [==============================] - 12s 27ms/step - loss: 0.0236 - auc: 1.0000 - val_loss: 0.8165 - val_auc: 0.8179\n",
            "Epoch 33/50\n",
            "464/464 [==============================] - 12s 27ms/step - loss: 0.0216 - auc: 1.0000 - val_loss: 0.7992 - val_auc: 0.8229\n",
            "Epoch 34/50\n",
            "464/464 [==============================] - 13s 27ms/step - loss: 0.0204 - auc: 1.0000 - val_loss: 0.7629 - val_auc: 0.8270\n",
            "Epoch 35/50\n",
            "464/464 [==============================] - 12s 27ms/step - loss: 0.0199 - auc: 1.0000 - val_loss: 0.7980 - val_auc: 0.8174\n",
            "Epoch 36/50\n",
            "464/464 [==============================] - 12s 27ms/step - loss: 0.0254 - auc: 1.0000 - val_loss: 0.9399 - val_auc: 0.7954\n",
            "Epoch 37/50\n",
            "428/464 [==========================>...] - ETA: 0s - loss: 0.0751 - auc: 0.9990"
          ]
        },
        {
          "output_type": "error",
          "ename": "KeyboardInterrupt",
          "evalue": "ignored",
          "traceback": [
            "\u001b[0;31m---------------------------------------------------------------------------\u001b[0m",
            "\u001b[0;31mKeyboardInterrupt\u001b[0m                         Traceback (most recent call last)",
            "\u001b[0;32m<ipython-input-30-6af2e55b82d5>\u001b[0m in \u001b[0;36m<module>\u001b[0;34m()\u001b[0m\n\u001b[1;32m      4\u001b[0m     \u001b[0mepochs\u001b[0m\u001b[0;34m=\u001b[0m\u001b[0mN_EPOCHS\u001b[0m\u001b[0;34m,\u001b[0m\u001b[0;34m\u001b[0m\u001b[0;34m\u001b[0m\u001b[0m\n\u001b[1;32m      5\u001b[0m     \u001b[0msteps_per_epoch\u001b[0m\u001b[0;34m=\u001b[0m\u001b[0msteps_per_epoch\u001b[0m\u001b[0;34m,\u001b[0m\u001b[0;34m\u001b[0m\u001b[0;34m\u001b[0m\u001b[0m\n\u001b[0;32m----> 6\u001b[0;31m     \u001b[0mvalidation_data\u001b[0m\u001b[0;34m=\u001b[0m\u001b[0;34m(\u001b[0m\u001b[0mX_valid2\u001b[0m\u001b[0;34m,\u001b[0m \u001b[0my_valid2\u001b[0m\u001b[0;34m)\u001b[0m\u001b[0;34m,\u001b[0m\u001b[0;34m\u001b[0m\u001b[0;34m\u001b[0m\u001b[0m\n\u001b[0m\u001b[1;32m      7\u001b[0m )\n",
            "\u001b[0;32m/usr/local/lib/python3.7/dist-packages/keras/engine/training.py\u001b[0m in \u001b[0;36mfit\u001b[0;34m(self, x, y, batch_size, epochs, verbose, callbacks, validation_split, validation_data, shuffle, class_weight, sample_weight, initial_epoch, steps_per_epoch, validation_steps, validation_batch_size, validation_freq, max_queue_size, workers, use_multiprocessing)\u001b[0m\n\u001b[1;32m   1182\u001b[0m                 _r=1):\n\u001b[1;32m   1183\u001b[0m               \u001b[0mcallbacks\u001b[0m\u001b[0;34m.\u001b[0m\u001b[0mon_train_batch_begin\u001b[0m\u001b[0;34m(\u001b[0m\u001b[0mstep\u001b[0m\u001b[0;34m)\u001b[0m\u001b[0;34m\u001b[0m\u001b[0;34m\u001b[0m\u001b[0m\n\u001b[0;32m-> 1184\u001b[0;31m               \u001b[0mtmp_logs\u001b[0m \u001b[0;34m=\u001b[0m \u001b[0mself\u001b[0m\u001b[0;34m.\u001b[0m\u001b[0mtrain_function\u001b[0m\u001b[0;34m(\u001b[0m\u001b[0miterator\u001b[0m\u001b[0;34m)\u001b[0m\u001b[0;34m\u001b[0m\u001b[0;34m\u001b[0m\u001b[0m\n\u001b[0m\u001b[1;32m   1185\u001b[0m               \u001b[0;32mif\u001b[0m \u001b[0mdata_handler\u001b[0m\u001b[0;34m.\u001b[0m\u001b[0mshould_sync\u001b[0m\u001b[0;34m:\u001b[0m\u001b[0;34m\u001b[0m\u001b[0;34m\u001b[0m\u001b[0m\n\u001b[1;32m   1186\u001b[0m                 \u001b[0mcontext\u001b[0m\u001b[0;34m.\u001b[0m\u001b[0masync_wait\u001b[0m\u001b[0;34m(\u001b[0m\u001b[0;34m)\u001b[0m\u001b[0;34m\u001b[0m\u001b[0;34m\u001b[0m\u001b[0m\n",
            "\u001b[0;32m/usr/local/lib/python3.7/dist-packages/tensorflow/python/eager/def_function.py\u001b[0m in \u001b[0;36m__call__\u001b[0;34m(self, *args, **kwds)\u001b[0m\n\u001b[1;32m    883\u001b[0m \u001b[0;34m\u001b[0m\u001b[0m\n\u001b[1;32m    884\u001b[0m       \u001b[0;32mwith\u001b[0m \u001b[0mOptionalXlaContext\u001b[0m\u001b[0;34m(\u001b[0m\u001b[0mself\u001b[0m\u001b[0;34m.\u001b[0m\u001b[0m_jit_compile\u001b[0m\u001b[0;34m)\u001b[0m\u001b[0;34m:\u001b[0m\u001b[0;34m\u001b[0m\u001b[0;34m\u001b[0m\u001b[0m\n\u001b[0;32m--> 885\u001b[0;31m         \u001b[0mresult\u001b[0m \u001b[0;34m=\u001b[0m \u001b[0mself\u001b[0m\u001b[0;34m.\u001b[0m\u001b[0m_call\u001b[0m\u001b[0;34m(\u001b[0m\u001b[0;34m*\u001b[0m\u001b[0margs\u001b[0m\u001b[0;34m,\u001b[0m \u001b[0;34m**\u001b[0m\u001b[0mkwds\u001b[0m\u001b[0;34m)\u001b[0m\u001b[0;34m\u001b[0m\u001b[0;34m\u001b[0m\u001b[0m\n\u001b[0m\u001b[1;32m    886\u001b[0m \u001b[0;34m\u001b[0m\u001b[0m\n\u001b[1;32m    887\u001b[0m       \u001b[0mnew_tracing_count\u001b[0m \u001b[0;34m=\u001b[0m \u001b[0mself\u001b[0m\u001b[0;34m.\u001b[0m\u001b[0mexperimental_get_tracing_count\u001b[0m\u001b[0;34m(\u001b[0m\u001b[0;34m)\u001b[0m\u001b[0;34m\u001b[0m\u001b[0;34m\u001b[0m\u001b[0m\n",
            "\u001b[0;32m/usr/local/lib/python3.7/dist-packages/tensorflow/python/eager/def_function.py\u001b[0m in \u001b[0;36m_call\u001b[0;34m(self, *args, **kwds)\u001b[0m\n\u001b[1;32m    915\u001b[0m       \u001b[0;31m# In this case we have created variables on the first call, so we run the\u001b[0m\u001b[0;34m\u001b[0m\u001b[0;34m\u001b[0m\u001b[0;34m\u001b[0m\u001b[0m\n\u001b[1;32m    916\u001b[0m       \u001b[0;31m# defunned version which is guaranteed to never create variables.\u001b[0m\u001b[0;34m\u001b[0m\u001b[0;34m\u001b[0m\u001b[0;34m\u001b[0m\u001b[0m\n\u001b[0;32m--> 917\u001b[0;31m       \u001b[0;32mreturn\u001b[0m \u001b[0mself\u001b[0m\u001b[0;34m.\u001b[0m\u001b[0m_stateless_fn\u001b[0m\u001b[0;34m(\u001b[0m\u001b[0;34m*\u001b[0m\u001b[0margs\u001b[0m\u001b[0;34m,\u001b[0m \u001b[0;34m**\u001b[0m\u001b[0mkwds\u001b[0m\u001b[0;34m)\u001b[0m  \u001b[0;31m# pylint: disable=not-callable\u001b[0m\u001b[0;34m\u001b[0m\u001b[0;34m\u001b[0m\u001b[0m\n\u001b[0m\u001b[1;32m    918\u001b[0m     \u001b[0;32melif\u001b[0m \u001b[0mself\u001b[0m\u001b[0;34m.\u001b[0m\u001b[0m_stateful_fn\u001b[0m \u001b[0;32mis\u001b[0m \u001b[0;32mnot\u001b[0m \u001b[0;32mNone\u001b[0m\u001b[0;34m:\u001b[0m\u001b[0;34m\u001b[0m\u001b[0;34m\u001b[0m\u001b[0m\n\u001b[1;32m    919\u001b[0m       \u001b[0;31m# Release the lock early so that multiple threads can perform the call\u001b[0m\u001b[0;34m\u001b[0m\u001b[0;34m\u001b[0m\u001b[0;34m\u001b[0m\u001b[0m\n",
            "\u001b[0;32m/usr/local/lib/python3.7/dist-packages/tensorflow/python/eager/function.py\u001b[0m in \u001b[0;36m__call__\u001b[0;34m(self, *args, **kwargs)\u001b[0m\n\u001b[1;32m   3038\u001b[0m        filtered_flat_args) = self._maybe_define_function(args, kwargs)\n\u001b[1;32m   3039\u001b[0m     return graph_function._call_flat(\n\u001b[0;32m-> 3040\u001b[0;31m         filtered_flat_args, captured_inputs=graph_function.captured_inputs)  # pylint: disable=protected-access\n\u001b[0m\u001b[1;32m   3041\u001b[0m \u001b[0;34m\u001b[0m\u001b[0m\n\u001b[1;32m   3042\u001b[0m   \u001b[0;34m@\u001b[0m\u001b[0mproperty\u001b[0m\u001b[0;34m\u001b[0m\u001b[0;34m\u001b[0m\u001b[0m\n",
            "\u001b[0;32m/usr/local/lib/python3.7/dist-packages/tensorflow/python/eager/function.py\u001b[0m in \u001b[0;36m_call_flat\u001b[0;34m(self, args, captured_inputs, cancellation_manager)\u001b[0m\n\u001b[1;32m   1962\u001b[0m       \u001b[0;31m# No tape is watching; skip to running the function.\u001b[0m\u001b[0;34m\u001b[0m\u001b[0;34m\u001b[0m\u001b[0;34m\u001b[0m\u001b[0m\n\u001b[1;32m   1963\u001b[0m       return self._build_call_outputs(self._inference_function.call(\n\u001b[0;32m-> 1964\u001b[0;31m           ctx, args, cancellation_manager=cancellation_manager))\n\u001b[0m\u001b[1;32m   1965\u001b[0m     forward_backward = self._select_forward_and_backward_functions(\n\u001b[1;32m   1966\u001b[0m         \u001b[0margs\u001b[0m\u001b[0;34m,\u001b[0m\u001b[0;34m\u001b[0m\u001b[0;34m\u001b[0m\u001b[0m\n",
            "\u001b[0;32m/usr/local/lib/python3.7/dist-packages/tensorflow/python/eager/function.py\u001b[0m in \u001b[0;36mcall\u001b[0;34m(self, ctx, args, cancellation_manager)\u001b[0m\n\u001b[1;32m    594\u001b[0m               \u001b[0minputs\u001b[0m\u001b[0;34m=\u001b[0m\u001b[0margs\u001b[0m\u001b[0;34m,\u001b[0m\u001b[0;34m\u001b[0m\u001b[0;34m\u001b[0m\u001b[0m\n\u001b[1;32m    595\u001b[0m               \u001b[0mattrs\u001b[0m\u001b[0;34m=\u001b[0m\u001b[0mattrs\u001b[0m\u001b[0;34m,\u001b[0m\u001b[0;34m\u001b[0m\u001b[0;34m\u001b[0m\u001b[0m\n\u001b[0;32m--> 596\u001b[0;31m               ctx=ctx)\n\u001b[0m\u001b[1;32m    597\u001b[0m         \u001b[0;32melse\u001b[0m\u001b[0;34m:\u001b[0m\u001b[0;34m\u001b[0m\u001b[0;34m\u001b[0m\u001b[0m\n\u001b[1;32m    598\u001b[0m           outputs = execute.execute_with_cancellation(\n",
            "\u001b[0;32m/usr/local/lib/python3.7/dist-packages/tensorflow/python/eager/execute.py\u001b[0m in \u001b[0;36mquick_execute\u001b[0;34m(op_name, num_outputs, inputs, attrs, ctx, name)\u001b[0m\n\u001b[1;32m     58\u001b[0m     \u001b[0mctx\u001b[0m\u001b[0;34m.\u001b[0m\u001b[0mensure_initialized\u001b[0m\u001b[0;34m(\u001b[0m\u001b[0;34m)\u001b[0m\u001b[0;34m\u001b[0m\u001b[0;34m\u001b[0m\u001b[0m\n\u001b[1;32m     59\u001b[0m     tensors = pywrap_tfe.TFE_Py_Execute(ctx._handle, device_name, op_name,\n\u001b[0;32m---> 60\u001b[0;31m                                         inputs, attrs, num_outputs)\n\u001b[0m\u001b[1;32m     61\u001b[0m   \u001b[0;32mexcept\u001b[0m \u001b[0mcore\u001b[0m\u001b[0;34m.\u001b[0m\u001b[0m_NotOkStatusException\u001b[0m \u001b[0;32mas\u001b[0m \u001b[0me\u001b[0m\u001b[0;34m:\u001b[0m\u001b[0;34m\u001b[0m\u001b[0;34m\u001b[0m\u001b[0m\n\u001b[1;32m     62\u001b[0m     \u001b[0;32mif\u001b[0m \u001b[0mname\u001b[0m \u001b[0;32mis\u001b[0m \u001b[0;32mnot\u001b[0m \u001b[0;32mNone\u001b[0m\u001b[0;34m:\u001b[0m\u001b[0;34m\u001b[0m\u001b[0;34m\u001b[0m\u001b[0m\n",
            "\u001b[0;31mKeyboardInterrupt\u001b[0m: "
          ]
        }
      ]
    },
    {
      "cell_type": "code",
      "metadata": {
        "colab": {
          "base_uri": "https://localhost:8080/",
          "height": 513
        },
        "id": "6Li448DtCKfE",
        "outputId": "74259029-93b0-472b-dc2d-7fc77168118d"
      },
      "source": [
        "plt.figure(figsize = (13,8))\n",
        "plt.plot(history.history[\"auc\"], label = \"Train Accuracy\")\n",
        "plt.plot(history.history[\"val_auc\"],label = \"Validation Accuracy\")\n",
        "plt.title(\"Accuracies\")\n",
        "plt.xlabel(\"Epochs\")\n",
        "plt.ylabel(\"Accuracy\")\n",
        "plt.legend()\n",
        "plt.show()"
      ],
      "execution_count": 31,
      "outputs": [
        {
          "output_type": "display_data",
          "data": {
            "image/png": "[encoded data removed]",
            "text/plain": [
              "<Figure size 936x576 with 1 Axes>"
            ]
          },
          "metadata": {
            "needs_background": "light"
          }
        }
      ]
    },
    {
      "cell_type": "code",
      "metadata": {
        "colab": {
          "base_uri": "https://localhost:8080/",
          "height": 513
        },
        "id": "cM99ZgqMCPHw",
        "outputId": "745e8efb-f937-4138-f248-2f29f46fef2d"
      },
      "source": [
        "plt.figure(figsize = (13,8))\n",
        "plt.plot(history.history[\"loss\"], label = \"Train Loss\")\n",
        "plt.plot(history.history[\"val_loss\"],label = \"Validation Loss\")\n",
        "plt.title(\"Losses\")\n",
        "plt.xlabel(\"Epochs\")\n",
        "plt.ylabel(\"Loss\")\n",
        "plt.legend()\n",
        "plt.show()"
      ],
      "execution_count": 32,
      "outputs": [
        {
          "output_type": "display_data",
          "data": {
            "image/png": "[encoded data removed]",
            "text/plain": [
              "<Figure size 936x576 with 1 Axes>"
            ]
          },
          "metadata": {
            "needs_background": "light"
          }
        }
      ]
    },
    {
      "cell_type": "code",
      "metadata": {
        "id": "uiuMkj7fAwOF"
      },
      "source": [
        "## Hyper Parameters\n",
        "IMAGE_SIZE = 64\n",
        "N_EPOCHS = 15\n",
        "N_BATCH = 128\n",
        "N_TRAIN = X_train.shape[0]\n",
        "N_VAL = X_valid.shape[0]\n",
        "\n",
        "learning_rate = 0.00005\n",
        "steps_per_epoch = N_TRAIN / N_BATCH\n",
        "validation_steps = int(np.ceil(N_VAL / N_BATCH))\n",
        "\n",
        "def create_model():\n",
        "    model = keras.Sequential()\n",
        "    model.add(keras.layers.Conv2D(filters=32, kernel_size=3, activation='relu', padding='VALID', \n",
        "                                  input_shape=(IMAGE_SIZE, IMAGE_SIZE, 1)))\n",
        "    model.add(keras.layers.BatchNormalization())\n",
        "    \n",
        "    model.add(keras.layers.Conv2D(filters=64, kernel_size=3, activation='relu', padding='SAME'))\n",
        "    model.add(keras.layers.BatchNormalization())\n",
        "    model.add(keras.layers.MaxPool2D(pool_size=(2,2)))\n",
        "\n",
        "    model.add(keras.layers.Conv2D(filters=64, kernel_size=3, activation='relu', padding='SAME'))\n",
        "    model.add(keras.layers.BatchNormalization())\n",
        "\n",
        "    model.add(keras.layers.Conv2D(filters=128, kernel_size=3, activation='relu', padding='VALID'))\n",
        "    model.add(keras.layers.BatchNormalization())\n",
        "\n",
        "    model.add(keras.layers.Conv2D(filters=64, kernel_size=3, activation='relu', padding='SAME'))\n",
        "    model.add(keras.layers.BatchNormalization())\n",
        "\n",
        "    model.add(keras.layers.Conv2D(filters=128, kernel_size=3, activation='relu', padding='VALID'))\n",
        "    model.add(keras.layers.BatchNormalization())\n",
        "\n",
        "    model.add(keras.layers.Conv2D(filters=256, kernel_size=3, activation='relu', padding='SAME'))\n",
        "    model.add(keras.layers.BatchNormalization())\n",
        "\n",
        "    model.add(keras.layers.Conv2D(filters=128, kernel_size=3, activation='relu', padding='VALID'))\n",
        "    model.add(keras.layers.BatchNormalization())\n",
        "\n",
        "    model.add(keras.layers.Conv2D(filters=256, kernel_size=3, activation='relu', padding='SAME'))\n",
        "    model.add(keras.layers.BatchNormalization())\n",
        "\n",
        "    model.add(keras.layers.Conv2D(filters=128, kernel_size=3, activation='relu', padding='VALID'))\n",
        "    model.add(keras.layers.BatchNormalization())\n",
        "\n",
        "    model.add(keras.layers.Conv2D(filters=512, kernel_size=3, activation='relu', padding='SAME'))\n",
        "    model.add(keras.layers.BatchNormalization())\n",
        "\n",
        "    model.add(keras.layers.Conv2D(filters=256, kernel_size=3, activation='relu', padding='SAME'))\n",
        "    model.add(keras.layers.BatchNormalization())\n",
        "\n",
        "    model.add(keras.layers.Conv2D(filters=256, kernel_size=3, activation='relu', padding='VALID'))\n",
        "    model.add(keras.layers.BatchNormalization())\n",
        "\n",
        "    model.add(keras.layers.Conv2D(filters=128, kernel_size=3, activation='relu', padding='SAME'))\n",
        "    model.add(keras.layers.BatchNormalization())\n",
        "\n",
        "    model.add(keras.layers.Conv2D(filters=128, kernel_size=3, activation='relu', padding='VALID'))\n",
        "    model.add(keras.layers.BatchNormalization())\n",
        "\n",
        "    model.add(keras.layers.MaxPool2D(pool_size=(2,2)))\n",
        "    model.add(keras.layers.BatchNormalization())\n",
        "    model.add(keras.layers.Dropout(0.3))\n",
        "\n",
        "    model.add(keras.layers.Flatten())\n",
        "    model.add(keras.layers.Dense(1024, activation='relu', kernel_regularizer=keras.regularizers.l2(0.01)))\n",
        "    model.add(keras.layers.Dense(2, activation='softmax', kernel_regularizer=keras.regularizers.l2(0.01)))\n",
        "    return model"
      ],
      "execution_count": 33,
      "outputs": []
    },
    {
      "cell_type": "code",
      "metadata": {
        "colab": {
          "base_uri": "https://localhost:8080/"
        },
        "id": "uvZaLFHUCngg",
        "outputId": "4b1369c2-b075-4672-a6b2-b1849863c3cf"
      },
      "source": [
        "## Create model, compile & summary\n",
        "model = create_model()\n",
        "\n",
        "model.compile(optimizer=tf.keras.optimizers.Adam(learning_rate),\n",
        "              loss='categorical_crossentropy', #label이 ohe이 아니면 sparse를 쓰면 자동으로 ohe\n",
        "              metrics=[tf.keras.metrics.AUC()])\n",
        "\n",
        "history = model.fit(\n",
        "    x=X_train,\n",
        "    y=y_train,\n",
        "    epochs=N_EPOCHS,\n",
        "    steps_per_epoch=steps_per_epoch,\n",
        "    validation_data=(X_valid2, y_valid2),\n",
        ")"
      ],
      "execution_count": 37,
      "outputs": [
        {
          "output_type": "stream",
          "name": "stdout",
          "text": [
            "Epoch 1/15\n",
            "236/236 [==============================] - 44s 167ms/step - loss: 16.2436 - auc_1: 0.7278 - val_loss: 13.5543 - val_auc_1: 0.5739\n",
            "Epoch 2/15\n",
            "236/236 [==============================] - 37s 155ms/step - loss: 11.1139 - auc_1: 0.9547 - val_loss: 9.7813 - val_auc_1: 0.7188\n",
            "Epoch 3/15\n",
            "236/236 [==============================] - 37s 155ms/step - loss: 7.7305 - auc_1: 0.9961 - val_loss: 7.1112 - val_auc_1: 0.7520\n",
            "Epoch 4/15\n",
            "236/236 [==============================] - 37s 155ms/step - loss: 5.3533 - auc_1: 0.9994 - val_loss: 5.1763 - val_auc_1: 0.7628\n",
            "Epoch 5/15\n",
            "236/236 [==============================] - 37s 155ms/step - loss: 3.6369 - auc_1: 0.9998 - val_loss: 3.7226 - val_auc_1: 0.7631\n",
            "Epoch 6/15\n",
            "236/236 [==============================] - 37s 155ms/step - loss: 2.4101 - auc_1: 0.9999 - val_loss: 2.7606 - val_auc_1: 0.7589\n",
            "Epoch 7/15\n",
            "236/236 [==============================] - 37s 155ms/step - loss: 1.5540 - auc_1: 1.0000 - val_loss: 2.0257 - val_auc_1: 0.7655\n",
            "Epoch 8/15\n",
            "236/236 [==============================] - 37s 155ms/step - loss: 0.9754 - auc_1: 1.0000 - val_loss: 1.5680 - val_auc_1: 0.7685\n",
            "Epoch 9/15\n",
            "236/236 [==============================] - 37s 155ms/step - loss: 0.5964 - auc_1: 1.0000 - val_loss: 1.2795 - val_auc_1: 0.7673\n",
            "Epoch 10/15\n",
            "236/236 [==============================] - 37s 155ms/step - loss: 0.3583 - auc_1: 1.0000 - val_loss: 1.1127 - val_auc_1: 0.7674\n",
            "Epoch 11/15\n",
            "236/236 [==============================] - 37s 155ms/step - loss: 0.2136 - auc_1: 1.0000 - val_loss: 0.9858 - val_auc_1: 0.7673\n",
            "Epoch 12/15\n",
            "236/236 [==============================] - 37s 155ms/step - loss: 0.1298 - auc_1: 1.0000 - val_loss: 0.9175 - val_auc_1: 0.7712\n",
            "Epoch 13/15\n",
            "236/236 [==============================] - 37s 155ms/step - loss: 0.0827 - auc_1: 1.0000 - val_loss: 0.8793 - val_auc_1: 0.7692\n",
            "Epoch 14/15\n",
            "236/236 [==============================] - 37s 155ms/step - loss: 0.0582 - auc_1: 1.0000 - val_loss: 0.8452 - val_auc_1: 0.7731\n",
            "Epoch 15/15\n",
            "236/236 [==============================] - 37s 155ms/step - loss: 0.0448 - auc_1: 1.0000 - val_loss: 0.8260 - val_auc_1: 0.7750\n"
          ]
        }
      ]
    },
    {
      "cell_type": "code",
      "metadata": {
        "colab": {
          "base_uri": "https://localhost:8080/",
          "height": 513
        },
        "id": "MNrR8NDqCqpF",
        "outputId": "d539208d-8c28-4a87-d214-fb704215f4f5"
      },
      "source": [
        "plt.figure(figsize = (13,8))\n",
        "plt.plot(history.history[\"auc_1\"], label = \"Train Accuracy\")\n",
        "plt.plot(history.history[\"val_auc_1\"],label = \"Validation Accuracy\")\n",
        "plt.title(\"Accuracies\")\n",
        "plt.xlabel(\"Epochs\")\n",
        "plt.ylabel(\"Accuracy\")\n",
        "plt.legend()\n",
        "plt.show()"
      ],
      "execution_count": 39,
      "outputs": [
        {
          "output_type": "display_data",
          "data": {
            "image/png": "[encoded data removed]",
            "text/plain": [
              "<Figure size 936x576 with 1 Axes>"
            ]
          },
          "metadata": {
            "needs_background": "light"
          }
        }
      ]
    },
    {
      "cell_type": "code",
      "metadata": {
        "colab": {
          "base_uri": "https://localhost:8080/",
          "height": 513
        },
        "id": "s8tEg-szCxGC",
        "outputId": "0f82b395-bc7b-4779-a726-5b7da0f890b2"
      },
      "source": [
        "plt.figure(figsize = (13,8))\n",
        "plt.plot(history.history[\"loss\"], label = \"Train Loss\")\n",
        "plt.plot(history.history[\"val_loss\"],label = \"Validation Loss\")\n",
        "plt.title(\"Losses\")\n",
        "plt.xlabel(\"Epochs\")\n",
        "plt.ylabel(\"Loss\")\n",
        "plt.legend()\n",
        "plt.show()"
      ],
      "execution_count": 40,
      "outputs": [
        {
          "output_type": "display_data",
          "data": {
            "image/png": "[encoded data removed]",
            "text/plain": [
              "<Figure size 936x576 with 1 Axes>"
            ]
          },
          "metadata": {
            "needs_background": "light"
          }
        }
      ]
    },
    {
      "cell_type": "code",
      "metadata": {
        "id": "h9XSDOMXDScU"
      },
      "source": [
        ""
      ],
      "execution_count": null,
      "outputs": []
    }
  ]
}