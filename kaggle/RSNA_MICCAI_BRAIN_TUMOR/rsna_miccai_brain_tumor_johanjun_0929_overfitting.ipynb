{
  "nbformat": 4,
  "nbformat_minor": 0,
  "metadata": {
    "kernelspec": {
      "language": "python",
      "display_name": "Python 3",
      "name": "python3"
    },
    "language_info": {
      "name": "python",
      "version": "3.7.10",
      "mimetype": "text/x-python",
      "codemirror_mode": {
        "name": "ipython",
        "version": 3
      },
      "pygments_lexer": "ipython3",
      "nbconvert_exporter": "python",
      "file_extension": ".py"
    },
    "colab": {
      "name": "rsna-miccai-brain-tumor-johanjun_0929_overfitting.ipynb",
      "provenance": [],
      "collapsed_sections": [],
      "machine_shape": "hm",
      "include_colab_link": true
    },
    "accelerator": "GPU"
  },
  "cells": [
    {
      "cell_type": "markdown",
      "metadata": {
        "id": "view-in-github",
        "colab_type": "text"
      },
      "source": [
        "<a href=\"https://colab.research.google.com/github/johanjun/Google_Machine_Learning_Bootcamp_KR_2021/blob/main/kaggle/RSNA_MICCAI_BRAIN_TUMOR/rsna_miccai_brain_tumor_johanjun_0929_overfitting.ipynb\" target=\"_parent\"><img src=\"https://colab.research.google.com/assets/colab-badge.svg\" alt=\"Open In Colab\"/></a>"
      ]
    },
    {
      "cell_type": "code",
      "metadata": {
        "colab": {
          "base_uri": "https://localhost:8080/"
        },
        "id": "xOUCOQHHYjrI",
        "outputId": "b1408edf-7d91-404f-c893-26da0a27f07d"
      },
      "source": [
        "pip install pydicom"
      ],
      "execution_count": 1,
      "outputs": [
        {
          "output_type": "stream",
          "name": "stdout",
          "text": [
            "Collecting pydicom\n",
            "  Downloading pydicom-2.2.1-py3-none-any.whl (2.0 MB)\n",
            "\u001b[?25l\r\u001b[K     |▏                               | 10 kB 33.1 MB/s eta 0:00:01\r\u001b[K     |▍                               | 20 kB 38.9 MB/s eta 0:00:01\r\u001b[K     |▌                               | 30 kB 21.0 MB/s eta 0:00:01\r\u001b[K     |▊                               | 40 kB 17.4 MB/s eta 0:00:01\r\u001b[K     |▉                               | 51 kB 9.5 MB/s eta 0:00:01\r\u001b[K     |█                               | 61 kB 9.7 MB/s eta 0:00:01\r\u001b[K     |█▏                              | 71 kB 9.3 MB/s eta 0:00:01\r\u001b[K     |█▍                              | 81 kB 10.4 MB/s eta 0:00:01\r\u001b[K     |█▌                              | 92 kB 10.7 MB/s eta 0:00:01\r\u001b[K     |█▊                              | 102 kB 8.7 MB/s eta 0:00:01\r\u001b[K     |█▉                              | 112 kB 8.7 MB/s eta 0:00:01\r\u001b[K     |██                              | 122 kB 8.7 MB/s eta 0:00:01\r\u001b[K     |██▏                             | 133 kB 8.7 MB/s eta 0:00:01\r\u001b[K     |██▍                             | 143 kB 8.7 MB/s eta 0:00:01\r\u001b[K     |██▌                             | 153 kB 8.7 MB/s eta 0:00:01\r\u001b[K     |██▊                             | 163 kB 8.7 MB/s eta 0:00:01\r\u001b[K     |██▉                             | 174 kB 8.7 MB/s eta 0:00:01\r\u001b[K     |███                             | 184 kB 8.7 MB/s eta 0:00:01\r\u001b[K     |███▏                            | 194 kB 8.7 MB/s eta 0:00:01\r\u001b[K     |███▍                            | 204 kB 8.7 MB/s eta 0:00:01\r\u001b[K     |███▌                            | 215 kB 8.7 MB/s eta 0:00:01\r\u001b[K     |███▊                            | 225 kB 8.7 MB/s eta 0:00:01\r\u001b[K     |███▉                            | 235 kB 8.7 MB/s eta 0:00:01\r\u001b[K     |████                            | 245 kB 8.7 MB/s eta 0:00:01\r\u001b[K     |████▏                           | 256 kB 8.7 MB/s eta 0:00:01\r\u001b[K     |████▍                           | 266 kB 8.7 MB/s eta 0:00:01\r\u001b[K     |████▌                           | 276 kB 8.7 MB/s eta 0:00:01\r\u001b[K     |████▊                           | 286 kB 8.7 MB/s eta 0:00:01\r\u001b[K     |████▉                           | 296 kB 8.7 MB/s eta 0:00:01\r\u001b[K     |█████                           | 307 kB 8.7 MB/s eta 0:00:01\r\u001b[K     |█████▏                          | 317 kB 8.7 MB/s eta 0:00:01\r\u001b[K     |█████▍                          | 327 kB 8.7 MB/s eta 0:00:01\r\u001b[K     |█████▌                          | 337 kB 8.7 MB/s eta 0:00:01\r\u001b[K     |█████▊                          | 348 kB 8.7 MB/s eta 0:00:01\r\u001b[K     |█████▉                          | 358 kB 8.7 MB/s eta 0:00:01\r\u001b[K     |██████                          | 368 kB 8.7 MB/s eta 0:00:01\r\u001b[K     |██████▏                         | 378 kB 8.7 MB/s eta 0:00:01\r\u001b[K     |██████▍                         | 389 kB 8.7 MB/s eta 0:00:01\r\u001b[K     |██████▌                         | 399 kB 8.7 MB/s eta 0:00:01\r\u001b[K     |██████▊                         | 409 kB 8.7 MB/s eta 0:00:01\r\u001b[K     |███████                         | 419 kB 8.7 MB/s eta 0:00:01\r\u001b[K     |███████                         | 430 kB 8.7 MB/s eta 0:00:01\r\u001b[K     |███████▎                        | 440 kB 8.7 MB/s eta 0:00:01\r\u001b[K     |███████▍                        | 450 kB 8.7 MB/s eta 0:00:01\r\u001b[K     |███████▋                        | 460 kB 8.7 MB/s eta 0:00:01\r\u001b[K     |███████▊                        | 471 kB 8.7 MB/s eta 0:00:01\r\u001b[K     |████████                        | 481 kB 8.7 MB/s eta 0:00:01\r\u001b[K     |████████                        | 491 kB 8.7 MB/s eta 0:00:01\r\u001b[K     |████████▎                       | 501 kB 8.7 MB/s eta 0:00:01\r\u001b[K     |████████▍                       | 512 kB 8.7 MB/s eta 0:00:01\r\u001b[K     |████████▋                       | 522 kB 8.7 MB/s eta 0:00:01\r\u001b[K     |████████▊                       | 532 kB 8.7 MB/s eta 0:00:01\r\u001b[K     |█████████                       | 542 kB 8.7 MB/s eta 0:00:01\r\u001b[K     |█████████                       | 552 kB 8.7 MB/s eta 0:00:01\r\u001b[K     |█████████▎                      | 563 kB 8.7 MB/s eta 0:00:01\r\u001b[K     |█████████▍                      | 573 kB 8.7 MB/s eta 0:00:01\r\u001b[K     |█████████▋                      | 583 kB 8.7 MB/s eta 0:00:01\r\u001b[K     |█████████▊                      | 593 kB 8.7 MB/s eta 0:00:01\r\u001b[K     |██████████                      | 604 kB 8.7 MB/s eta 0:00:01\r\u001b[K     |██████████                      | 614 kB 8.7 MB/s eta 0:00:01\r\u001b[K     |██████████▎                     | 624 kB 8.7 MB/s eta 0:00:01\r\u001b[K     |██████████▍                     | 634 kB 8.7 MB/s eta 0:00:01\r\u001b[K     |██████████▋                     | 645 kB 8.7 MB/s eta 0:00:01\r\u001b[K     |██████████▊                     | 655 kB 8.7 MB/s eta 0:00:01\r\u001b[K     |███████████                     | 665 kB 8.7 MB/s eta 0:00:01\r\u001b[K     |███████████                     | 675 kB 8.7 MB/s eta 0:00:01\r\u001b[K     |███████████▎                    | 686 kB 8.7 MB/s eta 0:00:01\r\u001b[K     |███████████▍                    | 696 kB 8.7 MB/s eta 0:00:01\r\u001b[K     |███████████▋                    | 706 kB 8.7 MB/s eta 0:00:01\r\u001b[K     |███████████▊                    | 716 kB 8.7 MB/s eta 0:00:01\r\u001b[K     |████████████                    | 727 kB 8.7 MB/s eta 0:00:01\r\u001b[K     |████████████                    | 737 kB 8.7 MB/s eta 0:00:01\r\u001b[K     |████████████▎                   | 747 kB 8.7 MB/s eta 0:00:01\r\u001b[K     |████████████▍                   | 757 kB 8.7 MB/s eta 0:00:01\r\u001b[K     |████████████▋                   | 768 kB 8.7 MB/s eta 0:00:01\r\u001b[K     |████████████▊                   | 778 kB 8.7 MB/s eta 0:00:01\r\u001b[K     |█████████████                   | 788 kB 8.7 MB/s eta 0:00:01\r\u001b[K     |█████████████                   | 798 kB 8.7 MB/s eta 0:00:01\r\u001b[K     |█████████████▎                  | 808 kB 8.7 MB/s eta 0:00:01\r\u001b[K     |█████████████▍                  | 819 kB 8.7 MB/s eta 0:00:01\r\u001b[K     |█████████████▋                  | 829 kB 8.7 MB/s eta 0:00:01\r\u001b[K     |█████████████▉                  | 839 kB 8.7 MB/s eta 0:00:01\r\u001b[K     |██████████████                  | 849 kB 8.7 MB/s eta 0:00:01\r\u001b[K     |██████████████▏                 | 860 kB 8.7 MB/s eta 0:00:01\r\u001b[K     |██████████████▎                 | 870 kB 8.7 MB/s eta 0:00:01\r\u001b[K     |██████████████▌                 | 880 kB 8.7 MB/s eta 0:00:01\r\u001b[K     |██████████████▋                 | 890 kB 8.7 MB/s eta 0:00:01\r\u001b[K     |██████████████▉                 | 901 kB 8.7 MB/s eta 0:00:01\r\u001b[K     |███████████████                 | 911 kB 8.7 MB/s eta 0:00:01\r\u001b[K     |███████████████▏                | 921 kB 8.7 MB/s eta 0:00:01\r\u001b[K     |███████████████▎                | 931 kB 8.7 MB/s eta 0:00:01\r\u001b[K     |███████████████▌                | 942 kB 8.7 MB/s eta 0:00:01\r\u001b[K     |███████████████▋                | 952 kB 8.7 MB/s eta 0:00:01\r\u001b[K     |███████████████▉                | 962 kB 8.7 MB/s eta 0:00:01\r\u001b[K     |████████████████                | 972 kB 8.7 MB/s eta 0:00:01\r\u001b[K     |████████████████▏               | 983 kB 8.7 MB/s eta 0:00:01\r\u001b[K     |████████████████▎               | 993 kB 8.7 MB/s eta 0:00:01\r\u001b[K     |████████████████▌               | 1.0 MB 8.7 MB/s eta 0:00:01\r\u001b[K     |████████████████▋               | 1.0 MB 8.7 MB/s eta 0:00:01\r\u001b[K     |████████████████▉               | 1.0 MB 8.7 MB/s eta 0:00:01\r\u001b[K     |█████████████████               | 1.0 MB 8.7 MB/s eta 0:00:01\r\u001b[K     |█████████████████▏              | 1.0 MB 8.7 MB/s eta 0:00:01\r\u001b[K     |█████████████████▎              | 1.1 MB 8.7 MB/s eta 0:00:01\r\u001b[K     |█████████████████▌              | 1.1 MB 8.7 MB/s eta 0:00:01\r\u001b[K     |█████████████████▋              | 1.1 MB 8.7 MB/s eta 0:00:01\r\u001b[K     |█████████████████▉              | 1.1 MB 8.7 MB/s eta 0:00:01\r\u001b[K     |██████████████████              | 1.1 MB 8.7 MB/s eta 0:00:01\r\u001b[K     |██████████████████▏             | 1.1 MB 8.7 MB/s eta 0:00:01\r\u001b[K     |██████████████████▎             | 1.1 MB 8.7 MB/s eta 0:00:01\r\u001b[K     |██████████████████▌             | 1.1 MB 8.7 MB/s eta 0:00:01\r\u001b[K     |██████████████████▋             | 1.1 MB 8.7 MB/s eta 0:00:01\r\u001b[K     |██████████████████▉             | 1.1 MB 8.7 MB/s eta 0:00:01\r\u001b[K     |███████████████████             | 1.2 MB 8.7 MB/s eta 0:00:01\r\u001b[K     |███████████████████▏            | 1.2 MB 8.7 MB/s eta 0:00:01\r\u001b[K     |███████████████████▎            | 1.2 MB 8.7 MB/s eta 0:00:01\r\u001b[K     |███████████████████▌            | 1.2 MB 8.7 MB/s eta 0:00:01\r\u001b[K     |███████████████████▋            | 1.2 MB 8.7 MB/s eta 0:00:01\r\u001b[K     |███████████████████▉            | 1.2 MB 8.7 MB/s eta 0:00:01\r\u001b[K     |████████████████████            | 1.2 MB 8.7 MB/s eta 0:00:01\r\u001b[K     |████████████████████▏           | 1.2 MB 8.7 MB/s eta 0:00:01\r\u001b[K     |████████████████████▎           | 1.2 MB 8.7 MB/s eta 0:00:01\r\u001b[K     |████████████████████▌           | 1.2 MB 8.7 MB/s eta 0:00:01\r\u001b[K     |████████████████████▊           | 1.3 MB 8.7 MB/s eta 0:00:01\r\u001b[K     |████████████████████▉           | 1.3 MB 8.7 MB/s eta 0:00:01\r\u001b[K     |█████████████████████           | 1.3 MB 8.7 MB/s eta 0:00:01\r\u001b[K     |█████████████████████▏          | 1.3 MB 8.7 MB/s eta 0:00:01\r\u001b[K     |█████████████████████▍          | 1.3 MB 8.7 MB/s eta 0:00:01\r\u001b[K     |█████████████████████▌          | 1.3 MB 8.7 MB/s eta 0:00:01\r\u001b[K     |█████████████████████▊          | 1.3 MB 8.7 MB/s eta 0:00:01\r\u001b[K     |█████████████████████▉          | 1.3 MB 8.7 MB/s eta 0:00:01\r\u001b[K     |██████████████████████          | 1.3 MB 8.7 MB/s eta 0:00:01\r\u001b[K     |██████████████████████▏         | 1.4 MB 8.7 MB/s eta 0:00:01\r\u001b[K     |██████████████████████▍         | 1.4 MB 8.7 MB/s eta 0:00:01\r\u001b[K     |██████████████████████▌         | 1.4 MB 8.7 MB/s eta 0:00:01\r\u001b[K     |██████████████████████▊         | 1.4 MB 8.7 MB/s eta 0:00:01\r\u001b[K     |██████████████████████▉         | 1.4 MB 8.7 MB/s eta 0:00:01\r\u001b[K     |███████████████████████         | 1.4 MB 8.7 MB/s eta 0:00:01\r\u001b[K     |███████████████████████▏        | 1.4 MB 8.7 MB/s eta 0:00:01\r\u001b[K     |███████████████████████▍        | 1.4 MB 8.7 MB/s eta 0:00:01\r\u001b[K     |███████████████████████▌        | 1.4 MB 8.7 MB/s eta 0:00:01\r\u001b[K     |███████████████████████▊        | 1.4 MB 8.7 MB/s eta 0:00:01\r\u001b[K     |███████████████████████▉        | 1.5 MB 8.7 MB/s eta 0:00:01\r\u001b[K     |████████████████████████        | 1.5 MB 8.7 MB/s eta 0:00:01\r\u001b[K     |████████████████████████▏       | 1.5 MB 8.7 MB/s eta 0:00:01\r\u001b[K     |████████████████████████▍       | 1.5 MB 8.7 MB/s eta 0:00:01\r\u001b[K     |████████████████████████▌       | 1.5 MB 8.7 MB/s eta 0:00:01\r\u001b[K     |████████████████████████▊       | 1.5 MB 8.7 MB/s eta 0:00:01\r\u001b[K     |████████████████████████▉       | 1.5 MB 8.7 MB/s eta 0:00:01\r\u001b[K     |█████████████████████████       | 1.5 MB 8.7 MB/s eta 0:00:01\r\u001b[K     |█████████████████████████▏      | 1.5 MB 8.7 MB/s eta 0:00:01\r\u001b[K     |█████████████████████████▍      | 1.5 MB 8.7 MB/s eta 0:00:01\r\u001b[K     |█████████████████████████▌      | 1.6 MB 8.7 MB/s eta 0:00:01\r\u001b[K     |█████████████████████████▊      | 1.6 MB 8.7 MB/s eta 0:00:01\r\u001b[K     |█████████████████████████▉      | 1.6 MB 8.7 MB/s eta 0:00:01\r\u001b[K     |██████████████████████████      | 1.6 MB 8.7 MB/s eta 0:00:01\r\u001b[K     |██████████████████████████▏     | 1.6 MB 8.7 MB/s eta 0:00:01\r\u001b[K     |██████████████████████████▍     | 1.6 MB 8.7 MB/s eta 0:00:01\r\u001b[K     |██████████████████████████▌     | 1.6 MB 8.7 MB/s eta 0:00:01\r\u001b[K     |██████████████████████████▊     | 1.6 MB 8.7 MB/s eta 0:00:01\r\u001b[K     |██████████████████████████▉     | 1.6 MB 8.7 MB/s eta 0:00:01\r\u001b[K     |███████████████████████████     | 1.6 MB 8.7 MB/s eta 0:00:01\r\u001b[K     |███████████████████████████▎    | 1.7 MB 8.7 MB/s eta 0:00:01\r\u001b[K     |███████████████████████████▍    | 1.7 MB 8.7 MB/s eta 0:00:01\r\u001b[K     |███████████████████████████▋    | 1.7 MB 8.7 MB/s eta 0:00:01\r\u001b[K     |███████████████████████████▊    | 1.7 MB 8.7 MB/s eta 0:00:01\r\u001b[K     |████████████████████████████    | 1.7 MB 8.7 MB/s eta 0:00:01\r\u001b[K     |████████████████████████████    | 1.7 MB 8.7 MB/s eta 0:00:01\r\u001b[K     |████████████████████████████▎   | 1.7 MB 8.7 MB/s eta 0:00:01\r\u001b[K     |████████████████████████████▍   | 1.7 MB 8.7 MB/s eta 0:00:01\r\u001b[K     |████████████████████████████▋   | 1.7 MB 8.7 MB/s eta 0:00:01\r\u001b[K     |████████████████████████████▊   | 1.8 MB 8.7 MB/s eta 0:00:01\r\u001b[K     |█████████████████████████████   | 1.8 MB 8.7 MB/s eta 0:00:01\r\u001b[K     |█████████████████████████████   | 1.8 MB 8.7 MB/s eta 0:00:01\r\u001b[K     |█████████████████████████████▎  | 1.8 MB 8.7 MB/s eta 0:00:01\r\u001b[K     |█████████████████████████████▍  | 1.8 MB 8.7 MB/s eta 0:00:01\r\u001b[K     |█████████████████████████████▋  | 1.8 MB 8.7 MB/s eta 0:00:01\r\u001b[K     |█████████████████████████████▊  | 1.8 MB 8.7 MB/s eta 0:00:01\r\u001b[K     |██████████████████████████████  | 1.8 MB 8.7 MB/s eta 0:00:01\r\u001b[K     |██████████████████████████████  | 1.8 MB 8.7 MB/s eta 0:00:01\r\u001b[K     |██████████████████████████████▎ | 1.8 MB 8.7 MB/s eta 0:00:01\r\u001b[K     |██████████████████████████████▍ | 1.9 MB 8.7 MB/s eta 0:00:01\r\u001b[K     |██████████████████████████████▋ | 1.9 MB 8.7 MB/s eta 0:00:01\r\u001b[K     |██████████████████████████████▊ | 1.9 MB 8.7 MB/s eta 0:00:01\r\u001b[K     |███████████████████████████████ | 1.9 MB 8.7 MB/s eta 0:00:01\r\u001b[K     |███████████████████████████████ | 1.9 MB 8.7 MB/s eta 0:00:01\r\u001b[K     |███████████████████████████████▎| 1.9 MB 8.7 MB/s eta 0:00:01\r\u001b[K     |███████████████████████████████▍| 1.9 MB 8.7 MB/s eta 0:00:01\r\u001b[K     |███████████████████████████████▋| 1.9 MB 8.7 MB/s eta 0:00:01\r\u001b[K     |███████████████████████████████▊| 1.9 MB 8.7 MB/s eta 0:00:01\r\u001b[K     |████████████████████████████████| 1.9 MB 8.7 MB/s eta 0:00:01\r\u001b[K     |████████████████████████████████| 2.0 MB 8.7 MB/s \n",
            "\u001b[?25hInstalling collected packages: pydicom\n",
            "Successfully installed pydicom-2.2.1\n"
          ]
        }
      ]
    },
    {
      "cell_type": "code",
      "metadata": {
        "_uuid": "8f2839f25d086af736a60e9eeb907d3b93b6e0e5",
        "_cell_guid": "b1076dfc-b9ad-4769-8c92-a6c4dae69d19",
        "execution": {
          "iopub.status.busy": "2021-09-09T08:53:56.762280Z",
          "iopub.execute_input": "2021-09-09T08:53:56.762670Z",
          "iopub.status.idle": "2021-09-09T08:53:56.769176Z",
          "shell.execute_reply.started": "2021-09-09T08:53:56.762636Z",
          "shell.execute_reply": "2021-09-09T08:53:56.768094Z"
        },
        "trusted": true,
        "id": "0l9glKmsSg6D"
      },
      "source": [
        "import numpy as np # linear algebra\n",
        "import pandas as pd # data processing, CSV file I/O (e.g. pd.read_csv)\n",
        "import os\n",
        "from tqdm import tqdm\n",
        "import random\n",
        "import pydicom\n",
        "import cv2\n",
        "import pickle\n",
        "\n",
        "import matplotlib.pyplot as plt\n",
        "import glob\n",
        "\n",
        "import tensorflow as tf\n",
        "from tensorflow import keras\n",
        "from tensorflow.keras.utils import to_categorical\n",
        "from sklearn.model_selection import train_test_split"
      ],
      "execution_count": 3,
      "outputs": []
    },
    {
      "cell_type": "code",
      "metadata": {
        "id": "c6wQE57KS99g"
      },
      "source": [
        "data_dir = '/content/drive/MyDrive/Google_Machine_Learning_Bootcamp_KR_2021/RSNA_MICCAI/data/rsna-miccai/'"
      ],
      "execution_count": 7,
      "outputs": []
    },
    {
      "cell_type": "code",
      "metadata": {
        "execution": {
          "iopub.status.busy": "2021-09-09T08:05:05.559632Z",
          "iopub.execute_input": "2021-09-09T08:05:05.560291Z",
          "iopub.status.idle": "2021-09-09T08:05:05.588138Z",
          "shell.execute_reply.started": "2021-09-09T08:05:05.560236Z",
          "shell.execute_reply": "2021-09-09T08:05:05.587076Z"
        },
        "trusted": true,
        "id": "50rg9HSFSg6G"
      },
      "source": [
        "train_df = pd.read_csv(data_dir + \"train_labels.csv\")\n",
        "test_df = pd.read_csv(data_dir + \"sample_submission.csv\")"
      ],
      "execution_count": 8,
      "outputs": []
    },
    {
      "cell_type": "markdown",
      "metadata": {
        "id": "WFR8qocSSg6G"
      },
      "source": [
        "In this discussion a competition host has notified that there are some issues with these 3 cases\n",
        "Patient IDs -\n",
        "\n",
        "1. 00109 (FLAIR images are blank)\n",
        "2. 00123 (T1w images are blank)\n",
        "3. 00709 (FLAIR images are blank)\n",
        "<br><br>Hence these can be excluded"
      ]
    },
    {
      "cell_type": "code",
      "metadata": {
        "execution": {
          "iopub.status.busy": "2021-09-09T08:05:07.655722Z",
          "iopub.execute_input": "2021-09-09T08:05:07.656096Z",
          "iopub.status.idle": "2021-09-09T08:05:07.675143Z",
          "shell.execute_reply.started": "2021-09-09T08:05:07.656067Z",
          "shell.execute_reply": "2021-09-09T08:05:07.673869Z"
        },
        "trusted": true,
        "id": "ZNX625ndSg6I"
      },
      "source": [
        "#refer: https://www.kaggle.com/arnabs007/part-1-rsna-miccai-btrc-understanding-the-data\n",
        "EXCLUDE = [109, 123, 709]\n",
        "train_df = train_df[~train_df.BraTS21ID.isin(EXCLUDE)]"
      ],
      "execution_count": 9,
      "outputs": []
    },
    {
      "cell_type": "code",
      "metadata": {
        "execution": {
          "iopub.status.busy": "2021-09-09T08:05:08.179708Z",
          "iopub.execute_input": "2021-09-09T08:05:08.180276Z",
          "iopub.status.idle": "2021-09-09T08:05:08.184417Z",
          "shell.execute_reply.started": "2021-09-09T08:05:08.180233Z",
          "shell.execute_reply": "2021-09-09T08:05:08.183183Z"
        },
        "trusted": true,
        "id": "MC2xY5WrSg6I"
      },
      "source": [
        "TYPES = [\"FLAIR\", \"T1w\", \"T1wCE\", \"T2w\"] #mpMRI scans"
      ],
      "execution_count": 10,
      "outputs": []
    },
    {
      "cell_type": "code",
      "metadata": {
        "execution": {
          "iopub.status.busy": "2021-09-09T08:05:08.874839Z",
          "iopub.execute_input": "2021-09-09T08:05:08.875202Z",
          "iopub.status.idle": "2021-09-09T08:05:08.880569Z",
          "shell.execute_reply.started": "2021-09-09T08:05:08.875173Z",
          "shell.execute_reply": "2021-09-09T08:05:08.879818Z"
        },
        "trusted": true,
        "id": "OpI5yrzsSg6I"
      },
      "source": [
        "def load_dicom(path, size = 64): #load DICOM files\n",
        "    dicom = pydicom.read_file(path)\n",
        "    data = dicom.pixel_array #returns a numpy.ndarray containing the pixel data\n",
        "    if np.max(data) != 0:\n",
        "        data = data / np.max(data) #standardizes so that the pixel values are between 0 and 1\n",
        "    data = (data * 255).astype(np.uint8) #rescales to 0 and 255\n",
        "    return cv2.resize(data, (size, size))"
      ],
      "execution_count": 11,
      "outputs": []
    },
    {
      "cell_type": "code",
      "metadata": {
        "execution": {
          "iopub.status.busy": "2021-09-09T08:05:09.466375Z",
          "iopub.execute_input": "2021-09-09T08:05:09.466923Z",
          "iopub.status.idle": "2021-09-09T08:05:09.474187Z",
          "shell.execute_reply.started": "2021-09-09T08:05:09.466888Z",
          "shell.execute_reply": "2021-09-09T08:05:09.473386Z"
        },
        "trusted": true,
        "id": "3nirbxWXSg6J"
      },
      "source": [
        "def get_all_image_paths(BraTS21ID, image_type, folder=\"train\"): #get an array of all the images of a particular type or a particular patient id\n",
        "    assert(image_type in TYPES) #only in types\n",
        "    patient_path = os.path.join(data_dir + \"%s/\" % folder, str(BraTS21ID).zfill(5)) #다른 폴더일 수도 있음\n",
        "    #print(lambda x: int(x[:-4].split(\"-\")[-1]))\n",
        "    \n",
        "    paths = sorted(glob.glob(os.path.join(patient_path, image_type, \"*\")), key=lambda x: int(x[:-4].split(\"-\")[-1])) #sort\n",
        "    #print(paths)\n",
        "    \n",
        "    num_images = len(paths)\n",
        "    \n",
        "    start = int(num_images * 0.25)\n",
        "    end = int(num_images * 0.75)\n",
        "    if num_images < 10:\n",
        "        jump = 1\n",
        "    else:\n",
        "        jump = 3\n",
        "        \n",
        "    return np.array(paths[start:end:jump])"
      ],
      "execution_count": 12,
      "outputs": []
    },
    {
      "cell_type": "code",
      "metadata": {
        "execution": {
          "iopub.status.busy": "2021-09-09T08:05:09.961756Z",
          "iopub.execute_input": "2021-09-09T08:05:09.962152Z",
          "iopub.status.idle": "2021-09-09T08:05:09.966979Z",
          "shell.execute_reply.started": "2021-09-09T08:05:09.962116Z",
          "shell.execute_reply": "2021-09-09T08:05:09.966011Z"
        },
        "trusted": true,
        "id": "oWZMpAyBSg6K"
      },
      "source": [
        "def get_all_images(BraTS21ID, image_type, folder=\"train\", size=225):\n",
        "    return [load_dicom(path, size) for path in get_all_image_paths(BraTS21ID, image_type, folder)]"
      ],
      "execution_count": 13,
      "outputs": []
    },
    {
      "cell_type": "code",
      "metadata": {
        "execution": {
          "iopub.status.busy": "2021-09-09T08:05:10.416138Z",
          "iopub.execute_input": "2021-09-09T08:05:10.416626Z",
          "iopub.status.idle": "2021-09-09T08:05:10.425527Z",
          "shell.execute_reply.started": "2021-09-09T08:05:10.416595Z",
          "shell.execute_reply": "2021-09-09T08:05:10.424744Z"
        },
        "trusted": true,
        "id": "5DDIDg9dSg6L"
      },
      "source": [
        "def get_all_data_train(image_type):\n",
        "    global train_df\n",
        "    \n",
        "    X = []\n",
        "    y = []\n",
        "    train_ids = []\n",
        "\n",
        "    for i in tqdm(train_df.index):\n",
        "        tmp_x = train_df.loc[i]\n",
        "        images = get_all_images(int(tmp_x[\"BraTS21ID\"]), image_type, \"train\", IMAGE_SIZE)\n",
        "        label = tmp_x[\"MGMT_value\"]\n",
        "\n",
        "        X += images\n",
        "        y += [label] * len(images)\n",
        "        train_ids += [int(tmp_x[\"BraTS21ID\"])] * len(images)\n",
        "        assert(len(X) == len(y))\n",
        "    return np.array(X), np.array(y), np.array(train_ids)\n",
        "\n",
        "def get_all_data_test(image_type):\n",
        "    global test_df\n",
        "    \n",
        "    X = []\n",
        "    test_ids = []\n",
        "\n",
        "    for i in tqdm(test_df.index):\n",
        "        tmp_x = test_df.loc[i]\n",
        "        images = get_all_images(int(tmp_x[\"BraTS21ID\"]), image_type, \"test\", IMAGE_SIZE)\n",
        "        X += images\n",
        "        test_ids += [int(tmp_x[\"BraTS21ID\"])] * len(images)\n",
        "\n",
        "    return np.array(X), np.array(test_ids)"
      ],
      "execution_count": 14,
      "outputs": []
    },
    {
      "cell_type": "code",
      "metadata": {
        "id": "6nxfddqNa4TZ"
      },
      "source": [
        "#pickling\n",
        "with open(data_dir+'X_T1wCE.pkl', 'rb') as f:\n",
        "  X_T1wCE = pickle.load(f)\n",
        "\n",
        "with open(data_dir+'y_T1wCE.pkl', 'rb') as f:\n",
        "  y_T1wCE = pickle.load(f)\n",
        "\n",
        "with open(data_dir+'train_idt_T1wCE.pkl', 'rb') as f:\n",
        "  train_idt_T1wCE = pickle.load(f)\n",
        "\n",
        "with open(data_dir+'X_test_T1wCE.pkl', 'rb') as f:\n",
        "  X_test_T1wCE = pickle.load(f)\n",
        "\n",
        "with open(data_dir+'test_idt_T1wCE.pkl', 'rb') as f:\n",
        "  test_idt_T1wCE = pickle.load(f)\n",
        "#pickling\n",
        "with open(data_dir+'X_FLAIR.pkl', 'rb') as f:\n",
        "  X_FLAIR = pickle.load(f)\n",
        "\n",
        "with open(data_dir+'y_FLAIR.pkl', 'rb') as f:\n",
        "  y_FLAIR = pickle.load(f)\n",
        "\n",
        "with open(data_dir+'train_idt_FLAIR.pkl', 'rb') as f:\n",
        "  train_idt_FLAIR = pickle.load(f)\n",
        "\n",
        "with open(data_dir+'X_test_FLAIR.pkl', 'rb') as f:\n",
        "  X_test_FLAIR = pickle.load(f)\n",
        "\n",
        "with open(data_dir+'test_idt_FLAIR.pkl', 'rb') as f:\n",
        "  test_idt_FLAIR = pickle.load(f)\n",
        "#pickling\n",
        "with open(data_dir+'X_T2w.pkl', 'rb') as f:\n",
        "  X_T2w = pickle.load(f)\n",
        "\n",
        "with open(data_dir+'y_T2w.pkl', 'rb') as f:\n",
        "  y_T2w = pickle.load(f)\n",
        "\n",
        "with open(data_dir+'train_idt_T2w.pkl', 'rb') as f:\n",
        "  train_idt_T2w = pickle.load(f)\n",
        "\n",
        "with open(data_dir+'X_test_T2w.pkl', 'rb') as f:\n",
        "  X_test_T2w = pickle.load(f)\n",
        "\n",
        "with open(data_dir+'test_idt_T2w.pkl', 'rb') as f:\n",
        "  test_idt_T2w = pickle.load(f)\n",
        "#pickling\n",
        "with open(data_dir+'X_T1w.pkl', 'rb') as f:\n",
        "  X_T1w = pickle.load(f)\n",
        "\n",
        "with open(data_dir+'y_T1w.pkl', 'rb') as f:\n",
        "  y_T1w = pickle.load(f)\n",
        "\n",
        "with open(data_dir+'train_idt_T1w.pkl', 'rb') as f:\n",
        "  train_idt_T1w = pickle.load(f)\n",
        "\n",
        "with open(data_dir+'X_test_T1w.pkl', 'rb') as f:\n",
        "  X_test_T1w = pickle.load(f)\n",
        "\n",
        "with open(data_dir+'test_idt_T1w.pkl', 'rb') as f:\n",
        "  test_idt_T1w = pickle.load(f)"
      ],
      "execution_count": 18,
      "outputs": []
    },
    {
      "cell_type": "code",
      "metadata": {
        "id": "_xguSRrQbg5D"
      },
      "source": [
        "X = np.concatenate([X_FLAIR, X_T1wCE, X_T2w, X_T1w], axis=0)\n",
        "y = np.concatenate([y_FLAIR, y_T1wCE, y_T2w, y_T1w], axis=0)\n",
        "train_idt = np.concatenate([train_idt_FLAIR, train_idt_T1wCE, train_idt_T2w, train_idt_T1w], axis=0)\n",
        "\n",
        "X_test = np.concatenate([X_test_FLAIR, X_test_T1wCE, X_test_T2w, X_test_T1w], axis=0)\n",
        "test_idt = np.concatenate([test_idt_FLAIR, test_idt_T1wCE, test_idt_T2w, test_idt_T1w], axis=0)"
      ],
      "execution_count": 19,
      "outputs": []
    },
    {
      "cell_type": "code",
      "metadata": {
        "colab": {
          "base_uri": "https://localhost:8080/"
        },
        "id": "sfCqN-4TcC8l",
        "outputId": "b3cb5257-41d1-4eea-c036-cf18ee170b5e"
      },
      "source": [
        "X.shape, y.shape, train_idt.shape"
      ],
      "execution_count": 20,
      "outputs": [
        {
          "output_type": "execute_result",
          "data": {
            "text/plain": [
              "((58476, 64, 64), (58476,), (58476,))"
            ]
          },
          "metadata": {},
          "execution_count": 20
        }
      ]
    },
    {
      "cell_type": "code",
      "metadata": {
        "execution": {
          "iopub.status.busy": "2021-09-09T08:09:43.944235Z",
          "iopub.execute_input": "2021-09-09T08:09:43.944810Z",
          "iopub.status.idle": "2021-09-09T08:09:43.986052Z",
          "shell.execute_reply.started": "2021-09-09T08:09:43.944767Z",
          "shell.execute_reply": "2021-09-09T08:09:43.985157Z"
        },
        "trusted": true,
        "id": "wrK-MrfRSg6M"
      },
      "source": [
        "X_train, X_valid, y_train, y_valid, train_idt_train, train_idt_valid = train_test_split(X, y, train_idt, test_size=0.05)"
      ],
      "execution_count": 24,
      "outputs": []
    },
    {
      "cell_type": "code",
      "metadata": {
        "execution": {
          "iopub.status.busy": "2021-09-09T08:09:44.993484Z",
          "iopub.execute_input": "2021-09-09T08:09:44.993888Z",
          "iopub.status.idle": "2021-09-09T08:09:45.172717Z",
          "shell.execute_reply.started": "2021-09-09T08:09:44.993853Z",
          "shell.execute_reply": "2021-09-09T08:09:45.171572Z"
        },
        "trusted": true,
        "id": "bej50ftOSg6N"
      },
      "source": [
        "X_train = tf.expand_dims(X_train, axis=-1) #expand the dimension at the end of the array\n",
        "X_valid = tf.expand_dims(X_valid, axis=-1)\n",
        "X_test = tf.expand_dims(X_test, axis=-1)\n",
        "\n",
        "y_train = to_categorical(y_train) #one-hot incoding\n",
        "y_valid = to_categorical(y_valid)"
      ],
      "execution_count": 25,
      "outputs": []
    },
    {
      "cell_type": "code",
      "metadata": {
        "execution": {
          "iopub.status.busy": "2021-09-09T08:09:46.085374Z",
          "iopub.execute_input": "2021-09-09T08:09:46.085773Z",
          "iopub.status.idle": "2021-09-09T08:09:46.093809Z",
          "shell.execute_reply.started": "2021-09-09T08:09:46.085717Z",
          "shell.execute_reply": "2021-09-09T08:09:46.092398Z"
        },
        "trusted": true,
        "id": "RQr6CiokSg6N",
        "colab": {
          "base_uri": "https://localhost:8080/"
        },
        "outputId": "ed73d376-24d8-4a1d-d85e-cd94edf1a555"
      },
      "source": [
        "X_train.shape, y_train.shape, X_valid.shape, y_valid.shape, train_idt_train.shape, train_idt_valid.shape"
      ],
      "execution_count": 26,
      "outputs": [
        {
          "output_type": "execute_result",
          "data": {
            "text/plain": [
              "(TensorShape([55552, 64, 64, 1]),\n",
              " (55552, 2),\n",
              " TensorShape([2924, 64, 64, 1]),\n",
              " (2924, 2),\n",
              " (55552,),\n",
              " (2924,))"
            ]
          },
          "metadata": {},
          "execution_count": 26
        }
      ]
    },
    {
      "cell_type": "code",
      "metadata": {
        "execution": {
          "iopub.status.busy": "2021-09-09T08:13:38.917128Z",
          "iopub.execute_input": "2021-09-09T08:13:38.917572Z",
          "iopub.status.idle": "2021-09-09T08:13:38.930258Z",
          "shell.execute_reply.started": "2021-09-09T08:13:38.917535Z",
          "shell.execute_reply": "2021-09-09T08:13:38.929014Z"
        },
        "trusted": true,
        "id": "gpuY_HLMSg6N"
      },
      "source": [
        "def create_model():\n",
        "    model = keras.Sequential()\n",
        "    model.add(keras.layers.Conv2D(filters=32, kernel_size=3, activation='relu', padding='SAME', \n",
        "                                  input_shape=(IMAGE_SIZE, IMAGE_SIZE, 1)))\n",
        "    model.add(keras.layers.BatchNormalization())\n",
        "    model.add(keras.layers.MaxPool2D(padding='SAME'))\n",
        "    \n",
        "    model.add(keras.layers.Conv2D(filters=64, kernel_size=3, activation='relu', padding='SAME'))\n",
        "    model.add(keras.layers.BatchNormalization())\n",
        "    model.add(keras.layers.MaxPool2D(padding='SAME'))\n",
        "\n",
        "    model.add(keras.layers.Conv2D(filters=128, kernel_size=3, activation='relu', padding='SAME'))\n",
        "    model.add(keras.layers.BatchNormalization())\n",
        "    model.add(keras.layers.MaxPool2D(padding='SAME'))\n",
        "\n",
        "    model.add(keras.layers.Conv2D(filters=256, kernel_size=3, activation='relu', padding='SAME'))\n",
        "    model.add(keras.layers.BatchNormalization())\n",
        "    model.add(keras.layers.MaxPool2D(padding='SAME'))\n",
        "\n",
        "    model.add(keras.layers.Conv2D(filters=256, kernel_size=3, activation='relu', padding='SAME'))\n",
        "    model.add(keras.layers.BatchNormalization())\n",
        "    model.add(keras.layers.MaxPool2D(padding='SAME'))\n",
        "\n",
        "    model.add(keras.layers.Flatten())\n",
        "    model.add(keras.layers.Dense(1024, activation='relu', kernel_regularizer=keras.regularizers.l2(0.01)))\n",
        "    model.add(keras.layers.BatchNormalization())\n",
        "    model.add(keras.layers.Dropout(0.4))\n",
        "    model.add(keras.layers.Dense(2, activation='softmax', kernel_regularizer=keras.regularizers.l2(0.01)))\n",
        "    return model"
      ],
      "execution_count": 39,
      "outputs": []
    },
    {
      "cell_type": "code",
      "metadata": {
        "execution": {
          "iopub.status.busy": "2021-09-09T08:13:41.051663Z",
          "iopub.execute_input": "2021-09-09T08:13:41.052059Z",
          "iopub.status.idle": "2021-09-09T08:13:41.057920Z",
          "shell.execute_reply.started": "2021-09-09T08:13:41.052027Z",
          "shell.execute_reply": "2021-09-09T08:13:41.056771Z"
        },
        "trusted": true,
        "id": "ydTkzEloSg6O"
      },
      "source": [
        "## Hyper Parameters\n",
        "IMAGE_SIZE = 64\n",
        "N_EPOCHS = 20\n",
        "N_BATCH = 100\n",
        "N_TRAIN = X_train.shape[0]\n",
        "N_VAL = X_valid.shape[0]\n",
        "\n",
        "learning_rate = 0.0001\n",
        "steps_per_epoch = N_TRAIN / N_BATCH\n",
        "validation_steps = int(np.ceil(N_VAL / N_BATCH))"
      ],
      "execution_count": 40,
      "outputs": []
    },
    {
      "cell_type": "code",
      "metadata": {
        "execution": {
          "iopub.status.busy": "2021-09-09T08:15:33.633960Z",
          "iopub.execute_input": "2021-09-09T08:15:33.634516Z",
          "iopub.status.idle": "2021-09-09T08:15:33.769136Z",
          "shell.execute_reply.started": "2021-09-09T08:15:33.634482Z",
          "shell.execute_reply": "2021-09-09T08:15:33.768205Z"
        },
        "trusted": true,
        "id": "2Nh-2Cl1Sg6O"
      },
      "source": [
        "## Create model, compile & summary\n",
        "model = create_model()\n",
        "\n",
        "model.compile(optimizer=tf.keras.optimizers.Adam(learning_rate),\n",
        "              loss='categorical_crossentropy', #label이 ohe이 아니면 sparse를 쓰면 자동으로 ohe\n",
        "              metrics=[tf.keras.metrics.AUC()])"
      ],
      "execution_count": 41,
      "outputs": []
    },
    {
      "cell_type": "code",
      "metadata": {
        "execution": {
          "iopub.status.busy": "2021-09-09T08:15:35.206055Z",
          "iopub.execute_input": "2021-09-09T08:15:35.206421Z",
          "iopub.status.idle": "2021-09-09T08:48:26.009687Z",
          "shell.execute_reply.started": "2021-09-09T08:15:35.206392Z",
          "shell.execute_reply": "2021-09-09T08:48:26.008689Z"
        },
        "trusted": true,
        "id": "DSWdjGPoSg6O",
        "colab": {
          "base_uri": "https://localhost:8080/"
        },
        "outputId": "d9f83e5f-22b4-41db-9d8e-0a38ff43e9fd"
      },
      "source": [
        "history = model.fit(\n",
        "    x=X_train,\n",
        "    y=y_train,\n",
        "    epochs=N_EPOCHS,\n",
        "    steps_per_epoch=steps_per_epoch,\n",
        "    validation_data=(X_valid, y_valid),\n",
        ")"
      ],
      "execution_count": 42,
      "outputs": [
        {
          "output_type": "stream",
          "name": "stdout",
          "text": [
            "Epoch 1/20\n",
            "555/555 [==============================] - 9s 14ms/step - loss: 8.2196 - auc_1: 0.5836 - val_loss: 5.8979 - val_auc_1: 0.6518\n",
            "Epoch 2/20\n",
            "555/555 [==============================] - 8s 14ms/step - loss: 4.7171 - auc_1: 0.6585 - val_loss: 3.6298 - val_auc_1: 0.6936\n",
            "Epoch 3/20\n",
            "555/555 [==============================] - 8s 14ms/step - loss: 2.9452 - auc_1: 0.7253 - val_loss: 2.3549 - val_auc_1: 0.7346\n",
            "Epoch 4/20\n",
            "555/555 [==============================] - 8s 14ms/step - loss: 1.9120 - auc_1: 0.7970 - val_loss: 1.6356 - val_auc_1: 0.7573\n",
            "Epoch 5/20\n",
            "555/555 [==============================] - 8s 14ms/step - loss: 1.2780 - auc_1: 0.8638 - val_loss: 1.2269 - val_auc_1: 0.7868\n",
            "Epoch 6/20\n",
            "555/555 [==============================] - 8s 14ms/step - loss: 0.8757 - auc_1: 0.9144 - val_loss: 1.2448 - val_auc_1: 0.7532\n",
            "Epoch 7/20\n",
            "555/555 [==============================] - 8s 14ms/step - loss: 0.5987 - auc_1: 0.9526 - val_loss: 1.0203 - val_auc_1: 0.7809\n",
            "Epoch 8/20\n",
            "555/555 [==============================] - 8s 14ms/step - loss: 0.4165 - auc_1: 0.9743 - val_loss: 0.8284 - val_auc_1: 0.8222\n",
            "Epoch 9/20\n",
            "555/555 [==============================] - 8s 14ms/step - loss: 0.2995 - auc_1: 0.9853 - val_loss: 0.8410 - val_auc_1: 0.8217\n",
            "Epoch 10/20\n",
            "555/555 [==============================] - 8s 14ms/step - loss: 0.2228 - auc_1: 0.9912 - val_loss: 1.0504 - val_auc_1: 0.7725\n",
            "Epoch 11/20\n",
            "555/555 [==============================] - 8s 14ms/step - loss: 0.1714 - auc_1: 0.9945 - val_loss: 0.8506 - val_auc_1: 0.8420\n",
            "Epoch 12/20\n",
            "555/555 [==============================] - 8s 14ms/step - loss: 0.1472 - auc_1: 0.9951 - val_loss: 0.8300 - val_auc_1: 0.8384\n",
            "Epoch 13/20\n",
            "555/555 [==============================] - 8s 14ms/step - loss: 0.1269 - auc_1: 0.9961 - val_loss: 0.8602 - val_auc_1: 0.8462\n",
            "Epoch 14/20\n",
            "555/555 [==============================] - 8s 14ms/step - loss: 0.1103 - auc_1: 0.9969 - val_loss: 0.8346 - val_auc_1: 0.8451\n",
            "Epoch 15/20\n",
            "555/555 [==============================] - 8s 14ms/step - loss: 0.0985 - auc_1: 0.9974 - val_loss: 0.8066 - val_auc_1: 0.8486\n",
            "Epoch 16/20\n",
            "555/555 [==============================] - 8s 14ms/step - loss: 0.0852 - auc_1: 0.9980 - val_loss: 0.8407 - val_auc_1: 0.8514\n",
            "Epoch 17/20\n",
            "555/555 [==============================] - 8s 14ms/step - loss: 0.0831 - auc_1: 0.9979 - val_loss: 0.9757 - val_auc_1: 0.8309\n",
            "Epoch 18/20\n",
            "555/555 [==============================] - 8s 14ms/step - loss: 0.0743 - auc_1: 0.9983 - val_loss: 0.8744 - val_auc_1: 0.8482\n",
            "Epoch 19/20\n",
            "555/555 [==============================] - 8s 14ms/step - loss: 0.0696 - auc_1: 0.9985 - val_loss: 0.8264 - val_auc_1: 0.8575\n",
            "Epoch 20/20\n",
            "555/555 [==============================] - 8s 14ms/step - loss: 0.0668 - auc_1: 0.9986 - val_loss: 0.7539 - val_auc_1: 0.8672\n"
          ]
        }
      ]
    },
    {
      "cell_type": "code",
      "metadata": {
        "execution": {
          "iopub.status.busy": "2021-09-09T08:54:56.564208Z",
          "iopub.execute_input": "2021-09-09T08:54:56.564589Z",
          "iopub.status.idle": "2021-09-09T08:54:56.821291Z",
          "shell.execute_reply.started": "2021-09-09T08:54:56.564557Z",
          "shell.execute_reply": "2021-09-09T08:54:56.820104Z"
        },
        "trusted": true,
        "id": "hOyjRAXkSg6P",
        "colab": {
          "base_uri": "https://localhost:8080/",
          "height": 513
        },
        "outputId": "2be2bf0f-61ae-468f-dfe9-fadc35f7fadb"
      },
      "source": [
        "plt.figure(figsize = (13,8))\n",
        "plt.plot(history.history[\"auc_1\"], label = \"Train Accuracy\")\n",
        "plt.plot(history.history[\"val_auc_1\"],label = \"Validation Accuracy\")\n",
        "plt.title(\"Accuracies\")\n",
        "plt.xlabel(\"Epochs\")\n",
        "plt.ylabel(\"Accuracy\")\n",
        "plt.legend()\n",
        "plt.show()"
      ],
      "execution_count": 43,
      "outputs": [
        {
          "output_type": "display_data",
          "data": {
            "image/png": "[encoded data removed]",
            "text/plain": [
              "<Figure size 936x576 with 1 Axes>"
            ]
          },
          "metadata": {
            "needs_background": "light"
          }
        }
      ]
    },
    {
      "cell_type": "code",
      "metadata": {
        "execution": {
          "iopub.status.busy": "2021-09-09T08:55:16.009645Z",
          "iopub.execute_input": "2021-09-09T08:55:16.010058Z",
          "iopub.status.idle": "2021-09-09T08:55:16.225880Z",
          "shell.execute_reply.started": "2021-09-09T08:55:16.010024Z",
          "shell.execute_reply": "2021-09-09T08:55:16.224747Z"
        },
        "trusted": true,
        "id": "nsGxtkITSg6Q",
        "colab": {
          "base_uri": "https://localhost:8080/",
          "height": 513
        },
        "outputId": "7043b5ca-7567-40d9-d671-3c038ea37192"
      },
      "source": [
        "plt.figure(figsize = (13,8))\n",
        "plt.plot(history.history[\"loss\"], label = \"Train Loss\")\n",
        "plt.plot(history.history[\"val_loss\"],label = \"Validation Loss\")\n",
        "plt.title(\"Losses\")\n",
        "plt.xlabel(\"Epochs\")\n",
        "plt.ylabel(\"Loss\")\n",
        "plt.legend()\n",
        "plt.show()"
      ],
      "execution_count": 44,
      "outputs": [
        {
          "output_type": "display_data",
          "data": {
            "image/png": "[encoded data removed]",
            "text/plain": [
              "<Figure size 936x576 with 1 Axes>"
            ]
          },
          "metadata": {
            "needs_background": "light"
          }
        }
      ]
    },
    {
      "cell_type": "code",
      "metadata": {
        "execution": {
          "iopub.status.busy": "2021-09-09T08:56:04.161131Z",
          "iopub.execute_input": "2021-09-09T08:56:04.161517Z",
          "iopub.status.idle": "2021-09-09T08:56:08.319897Z",
          "shell.execute_reply.started": "2021-09-09T08:56:04.161484Z",
          "shell.execute_reply": "2021-09-09T08:56:08.318478Z"
        },
        "trusted": true,
        "id": "XB2Kuu5gSg6Q"
      },
      "source": [
        "y_pred = model.predict(X_valid) #pedict on X_valid\n",
        "pred = np.argmax(y_pred, axis = 1) #index of largest value by column 열 기준 가장 큰 값의 인덱스\n",
        "\n",
        "result = pd.DataFrame(train_idt_valid) #BraTS21ID\n",
        "result[1] = pred #MGMT_value\n",
        "result.columns=[\"BraTS21ID\",\"MGMT_value\"]"
      ],
      "execution_count": 45,
      "outputs": []
    },
    {
      "cell_type": "code",
      "metadata": {
        "execution": {
          "iopub.status.busy": "2021-09-09T08:56:23.771438Z",
          "iopub.execute_input": "2021-09-09T08:56:23.771911Z",
          "iopub.status.idle": "2021-09-09T08:56:23.806657Z",
          "shell.execute_reply.started": "2021-09-09T08:56:23.771869Z",
          "shell.execute_reply": "2021-09-09T08:56:23.805600Z"
        },
        "trusted": true,
        "id": "qQ1RKbfuSg6R"
      },
      "source": [
        "#Group by BraTS21ID and average + do not use index\n",
        "result_final = result.groupby(\"BraTS21ID\", as_index = False).mean()\n",
        "result_final = result_final.merge(train_df, on = \"BraTS21ID\") #merge train_df"
      ],
      "execution_count": 46,
      "outputs": []
    },
    {
      "cell_type": "code",
      "metadata": {
        "execution": {
          "iopub.status.busy": "2021-09-09T08:56:58.686233Z",
          "iopub.execute_input": "2021-09-09T08:56:58.686633Z",
          "iopub.status.idle": "2021-09-09T08:56:58.702249Z",
          "shell.execute_reply.started": "2021-09-09T08:56:58.686598Z",
          "shell.execute_reply": "2021-09-09T08:56:58.700725Z"
        },
        "trusted": true,
        "id": "MF5O6Iy7Sg6R",
        "colab": {
          "base_uri": "https://localhost:8080/"
        },
        "outputId": "56347d8a-5dcc-4d76-c9da-2445dc6b406e"
      },
      "source": [
        "from sklearn.metrics import roc_auc_score\n",
        "roc_auc_score(result_final.MGMT_value_y, result_final.MGMT_value_x,)"
      ],
      "execution_count": 47,
      "outputs": [
        {
          "output_type": "execute_result",
          "data": {
            "text/plain": [
              "0.9068858131487889"
            ]
          },
          "metadata": {},
          "execution_count": 47
        }
      ]
    },
    {
      "cell_type": "code",
      "metadata": {
        "execution": {
          "iopub.status.busy": "2021-09-09T09:01:19.315758Z",
          "iopub.execute_input": "2021-09-09T09:01:19.316144Z",
          "iopub.status.idle": "2021-09-09T09:01:19.328548Z",
          "shell.execute_reply.started": "2021-09-09T09:01:19.316113Z",
          "shell.execute_reply": "2021-09-09T09:01:19.327123Z"
        },
        "trusted": true,
        "id": "y6HKV_mVSg6R"
      },
      "source": [
        "X_test2 = tf.expand_dims(X_test, axis=-1)"
      ],
      "execution_count": null,
      "outputs": []
    },
    {
      "cell_type": "code",
      "metadata": {
        "execution": {
          "iopub.status.busy": "2021-09-09T09:01:37.126724Z",
          "iopub.execute_input": "2021-09-09T09:01:37.127297Z",
          "iopub.status.idle": "2021-09-09T09:01:41.037679Z",
          "shell.execute_reply.started": "2021-09-09T09:01:37.127261Z",
          "shell.execute_reply": "2021-09-09T09:01:41.036740Z"
        },
        "trusted": true,
        "id": "rZWs6ZzOSg6R",
        "outputId": "a66417eb-6d70-46c8-c161-a061d8412312"
      },
      "source": [
        "#submission\n",
        "sample_sub = pd.read_csv(\"../input/rsna-miccai-brain-tumor-radiogenomic-classification/sample_submission.csv\")\n",
        "\n",
        "y_pred = model.predict(X_test2) #predict test\n",
        "pred = np.argmax(y_pred, axis = 1)\n",
        "\n",
        "result = pd.DataFrame(test_idt)\n",
        "result[1] = pred\n",
        "\n",
        "result.columns=[\"BraTS21ID\",\"MGMT_value\"]\n",
        "result_final = result.groupby(\"BraTS21ID\",as_index = False).mean()\n",
        "\n",
        "result_final[\"BraTS21ID\"] = sample_sub[\"BraTS21ID\"]\n",
        "result_final[\"MGMT_value\"] = result_final[\"MGMT_value\"]\n",
        "result_final"
      ],
      "execution_count": null,
      "outputs": [
        {
          "execution_count": 59,
          "output_type": "execute_result",
          "data": {
            "text/plain": "    BraTS21ID  MGMT_value\n0           1    0.909091\n1          13    0.909091\n2          15    0.901961\n3          27    0.921569\n4          37    0.954545\n..        ...         ...\n82        826    0.857143\n83        829    0.800000\n84        833    0.375000\n85        997    0.500000\n86       1006    0.952381\n\n[87 rows x 2 columns]",
            "text/html": "<div>\n<style scoped>\n    .dataframe tbody tr th:only-of-type {\n        vertical-align: middle;\n    }\n\n    .dataframe tbody tr th {\n        vertical-align: top;\n    }\n\n    .dataframe thead th {\n        text-align: right;\n    }\n</style>\n<table border=\"1\" class=\"dataframe\">\n  <thead>\n    <tr style=\"text-align: right;\">\n      <th></th>\n      <th>BraTS21ID</th>\n      <th>MGMT_value</th>\n    </tr>\n  </thead>\n  <tbody>\n    <tr>\n      <th>0</th>\n      <td>1</td>\n      <td>0.909091</td>\n    </tr>\n    <tr>\n      <th>1</th>\n      <td>13</td>\n      <td>0.909091</td>\n    </tr>\n    <tr>\n      <th>2</th>\n      <td>15</td>\n      <td>0.901961</td>\n    </tr>\n    <tr>\n      <th>3</th>\n      <td>27</td>\n      <td>0.921569</td>\n    </tr>\n    <tr>\n      <th>4</th>\n      <td>37</td>\n      <td>0.954545</td>\n    </tr>\n    <tr>\n      <th>...</th>\n      <td>...</td>\n      <td>...</td>\n    </tr>\n    <tr>\n      <th>82</th>\n      <td>826</td>\n      <td>0.857143</td>\n    </tr>\n    <tr>\n      <th>83</th>\n      <td>829</td>\n      <td>0.800000</td>\n    </tr>\n    <tr>\n      <th>84</th>\n      <td>833</td>\n      <td>0.375000</td>\n    </tr>\n    <tr>\n      <th>85</th>\n      <td>997</td>\n      <td>0.500000</td>\n    </tr>\n    <tr>\n      <th>86</th>\n      <td>1006</td>\n      <td>0.952381</td>\n    </tr>\n  </tbody>\n</table>\n<p>87 rows × 2 columns</p>\n</div>"
          },
          "metadata": {}
        }
      ]
    },
    {
      "cell_type": "code",
      "metadata": {
        "execution": {
          "iopub.status.busy": "2021-09-09T09:02:05.908041Z",
          "iopub.execute_input": "2021-09-09T09:02:05.908454Z",
          "iopub.status.idle": "2021-09-09T09:02:05.917081Z",
          "shell.execute_reply.started": "2021-09-09T09:02:05.908419Z",
          "shell.execute_reply": "2021-09-09T09:02:05.915899Z"
        },
        "trusted": true,
        "id": "_qSz70GNSg6S"
      },
      "source": [
        "result_final.to_csv(\"submission.csv\",index=False)"
      ],
      "execution_count": null,
      "outputs": []
    },
    {
      "cell_type": "code",
      "metadata": {
        "id": "lZtsVyRRSg6S"
      },
      "source": [
        ""
      ],
      "execution_count": null,
      "outputs": []
    }
  ]
}