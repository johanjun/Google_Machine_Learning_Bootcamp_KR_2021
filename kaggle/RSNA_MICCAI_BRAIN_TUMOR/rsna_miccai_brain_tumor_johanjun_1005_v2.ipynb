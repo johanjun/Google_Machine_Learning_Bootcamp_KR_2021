{
  "nbformat": 4,
  "nbformat_minor": 0,
  "metadata": {
    "kernelspec": {
      "language": "python",
      "display_name": "Python 3",
      "name": "python3"
    },
    "language_info": {
      "name": "python",
      "version": "3.7.10",
      "mimetype": "text/x-python",
      "codemirror_mode": {
        "name": "ipython",
        "version": 3
      },
      "pygments_lexer": "ipython3",
      "nbconvert_exporter": "python",
      "file_extension": ".py"
    },
    "colab": {
      "name": "rsna-miccai-brain-tumor-johanjun_1005-v2.ipynb",
      "provenance": [],
      "collapsed_sections": [],
      "machine_shape": "hm",
      "include_colab_link": true
    },
    "accelerator": "GPU"
  },
  "cells": [
    {
      "cell_type": "markdown",
      "metadata": {
        "id": "view-in-github",
        "colab_type": "text"
      },
      "source": [
        "<a href=\"https://colab.research.google.com/github/johanjun/Google_Machine_Learning_Bootcamp_KR_2021/blob/main/kaggle/RSNA_MICCAI_BRAIN_TUMOR/rsna_miccai_brain_tumor_johanjun_1005_v2.ipynb\" target=\"_parent\"><img src=\"https://colab.research.google.com/assets/colab-badge.svg\" alt=\"Open In Colab\"/></a>"
      ]
    },
    {
      "cell_type": "code",
      "metadata": {
        "colab": {
          "base_uri": "https://localhost:8080/"
        },
        "id": "xOUCOQHHYjrI",
        "outputId": "4886df54-aba7-4839-c79e-0aa03d2a1370"
      },
      "source": [
        "pip install pydicom"
      ],
      "execution_count": 3,
      "outputs": [
        {
          "output_type": "stream",
          "name": "stdout",
          "text": [
            "Collecting pydicom\n",
            "  Downloading pydicom-2.2.2-py3-none-any.whl (2.0 MB)\n",
            "\u001b[K     |████████████████████████████████| 2.0 MB 4.3 MB/s \n",
            "\u001b[?25hInstalling collected packages: pydicom\n",
            "Successfully installed pydicom-2.2.2\n"
          ]
        }
      ]
    },
    {
      "cell_type": "code",
      "metadata": {
        "_uuid": "8f2839f25d086af736a60e9eeb907d3b93b6e0e5",
        "_cell_guid": "b1076dfc-b9ad-4769-8c92-a6c4dae69d19",
        "execution": {
          "iopub.status.busy": "2021-09-09T08:53:56.762280Z",
          "iopub.execute_input": "2021-09-09T08:53:56.762670Z",
          "iopub.status.idle": "2021-09-09T08:53:56.769176Z",
          "shell.execute_reply.started": "2021-09-09T08:53:56.762636Z",
          "shell.execute_reply": "2021-09-09T08:53:56.768094Z"
        },
        "trusted": true,
        "id": "0l9glKmsSg6D"
      },
      "source": [
        "import numpy as np # linear algebra\n",
        "import pandas as pd # data processing, CSV file I/O (e.g. pd.read_csv)\n",
        "import os\n",
        "from tqdm import tqdm\n",
        "import random\n",
        "import pydicom\n",
        "import cv2\n",
        "import pickle\n",
        "\n",
        "import matplotlib.pyplot as plt\n",
        "import glob\n",
        "\n",
        "import tensorflow as tf\n",
        "from tensorflow import keras\n",
        "from tensorflow.keras.utils import to_categorical\n",
        "from sklearn.model_selection import train_test_split"
      ],
      "execution_count": 4,
      "outputs": []
    },
    {
      "cell_type": "code",
      "metadata": {
        "id": "c6wQE57KS99g"
      },
      "source": [
        "data_dir = '/content/drive/MyDrive/Google_Machine_Learning_Bootcamp_KR_2021/RSNA_MICCAI/data/rsna-miccai/'"
      ],
      "execution_count": 5,
      "outputs": []
    },
    {
      "cell_type": "code",
      "metadata": {
        "execution": {
          "iopub.status.busy": "2021-09-09T08:05:05.559632Z",
          "iopub.execute_input": "2021-09-09T08:05:05.560291Z",
          "iopub.status.idle": "2021-09-09T08:05:05.588138Z",
          "shell.execute_reply.started": "2021-09-09T08:05:05.560236Z",
          "shell.execute_reply": "2021-09-09T08:05:05.587076Z"
        },
        "trusted": true,
        "id": "50rg9HSFSg6G"
      },
      "source": [
        "train_df = pd.read_csv(data_dir + \"train_labels.csv\")\n",
        "test_df = pd.read_csv(data_dir + \"sample_submission.csv\")"
      ],
      "execution_count": 6,
      "outputs": []
    },
    {
      "cell_type": "markdown",
      "metadata": {
        "id": "WFR8qocSSg6G"
      },
      "source": [
        "In this discussion a competition host has notified that there are some issues with these 3 cases\n",
        "Patient IDs -\n",
        "\n",
        "1. 00109 (FLAIR images are blank)\n",
        "2. 00123 (T1w images are blank)\n",
        "3. 00709 (FLAIR images are blank)\n",
        "<br><br>Hence these can be excluded"
      ]
    },
    {
      "cell_type": "code",
      "metadata": {
        "execution": {
          "iopub.status.busy": "2021-09-09T08:05:07.655722Z",
          "iopub.execute_input": "2021-09-09T08:05:07.656096Z",
          "iopub.status.idle": "2021-09-09T08:05:07.675143Z",
          "shell.execute_reply.started": "2021-09-09T08:05:07.656067Z",
          "shell.execute_reply": "2021-09-09T08:05:07.673869Z"
        },
        "trusted": true,
        "id": "ZNX625ndSg6I"
      },
      "source": [
        "#refer: https://www.kaggle.com/arnabs007/part-1-rsna-miccai-btrc-understanding-the-data\n",
        "EXCLUDE = [109, 123, 709]\n",
        "train_df = train_df[~train_df.BraTS21ID.isin(EXCLUDE)]"
      ],
      "execution_count": 7,
      "outputs": []
    },
    {
      "cell_type": "code",
      "metadata": {
        "colab": {
          "base_uri": "https://localhost:8080/",
          "height": 204
        },
        "id": "y2LnMMwXpzyb",
        "outputId": "d0d939f4-1d98-4f4d-ed53-44f580a3d63d"
      },
      "source": [
        "train_df.head()"
      ],
      "execution_count": 10,
      "outputs": [
        {
          "output_type": "execute_result",
          "data": {
            "text/html": [
              "<div>\n",
              "<style scoped>\n",
              "    .dataframe tbody tr th:only-of-type {\n",
              "        vertical-align: middle;\n",
              "    }\n",
              "\n",
              "    .dataframe tbody tr th {\n",
              "        vertical-align: top;\n",
              "    }\n",
              "\n",
              "    .dataframe thead th {\n",
              "        text-align: right;\n",
              "    }\n",
              "</style>\n",
              "<table border=\"1\" class=\"dataframe\">\n",
              "  <thead>\n",
              "    <tr style=\"text-align: right;\">\n",
              "      <th></th>\n",
              "      <th>BraTS21ID</th>\n",
              "      <th>MGMT_value</th>\n",
              "    </tr>\n",
              "  </thead>\n",
              "  <tbody>\n",
              "    <tr>\n",
              "      <th>0</th>\n",
              "      <td>0</td>\n",
              "      <td>1</td>\n",
              "    </tr>\n",
              "    <tr>\n",
              "      <th>1</th>\n",
              "      <td>2</td>\n",
              "      <td>1</td>\n",
              "    </tr>\n",
              "    <tr>\n",
              "      <th>2</th>\n",
              "      <td>3</td>\n",
              "      <td>0</td>\n",
              "    </tr>\n",
              "    <tr>\n",
              "      <th>3</th>\n",
              "      <td>5</td>\n",
              "      <td>1</td>\n",
              "    </tr>\n",
              "    <tr>\n",
              "      <th>4</th>\n",
              "      <td>6</td>\n",
              "      <td>1</td>\n",
              "    </tr>\n",
              "  </tbody>\n",
              "</table>\n",
              "</div>"
            ],
            "text/plain": [
              "   BraTS21ID  MGMT_value\n",
              "0          0           1\n",
              "1          2           1\n",
              "2          3           0\n",
              "3          5           1\n",
              "4          6           1"
            ]
          },
          "metadata": {},
          "execution_count": 10
        }
      ]
    },
    {
      "cell_type": "code",
      "metadata": {
        "colab": {
          "base_uri": "https://localhost:8080/"
        },
        "id": "gRmjWixhqrIT",
        "outputId": "41c1a084-a8de-47b1-feff-742a105ee06b"
      },
      "source": [
        "cd /content/drive/MyDrive/Google_Machine_Learning_Bootcamp_KR_2021/RSNA_MICCAI/data/rsna-miccai/"
      ],
      "execution_count": 12,
      "outputs": [
        {
          "output_type": "stream",
          "name": "stdout",
          "text": [
            "/content/drive/MyDrive/Google_Machine_Learning_Bootcamp_KR_2021/RSNA_MICCAI/data/rsna-miccai\n"
          ]
        }
      ]
    },
    {
      "cell_type": "code",
      "metadata": {
        "id": "tclgbj8mpto4"
      },
      "source": [
        "train_df = pd.read_csv('train_df(T1wCE).csv')"
      ],
      "execution_count": 13,
      "outputs": []
    },
    {
      "cell_type": "code",
      "metadata": {
        "execution": {
          "iopub.status.busy": "2021-09-09T08:05:08.179708Z",
          "iopub.execute_input": "2021-09-09T08:05:08.180276Z",
          "iopub.status.idle": "2021-09-09T08:05:08.184417Z",
          "shell.execute_reply.started": "2021-09-09T08:05:08.180233Z",
          "shell.execute_reply": "2021-09-09T08:05:08.183183Z"
        },
        "trusted": true,
        "id": "MC2xY5WrSg6I"
      },
      "source": [
        "TYPES = [\"FLAIR\", \"T1w\", \"T1wCE\", \"T2w\"] #mpMRI scans"
      ],
      "execution_count": 14,
      "outputs": []
    },
    {
      "cell_type": "code",
      "metadata": {
        "execution": {
          "iopub.status.busy": "2021-09-09T08:05:08.874839Z",
          "iopub.execute_input": "2021-09-09T08:05:08.875202Z",
          "iopub.status.idle": "2021-09-09T08:05:08.880569Z",
          "shell.execute_reply.started": "2021-09-09T08:05:08.875173Z",
          "shell.execute_reply": "2021-09-09T08:05:08.879818Z"
        },
        "trusted": true,
        "id": "OpI5yrzsSg6I"
      },
      "source": [
        "def load_dicom(path, size = 128): #load DICOM files\n",
        "    dicom = pydicom.read_file(path)\n",
        "    data = dicom.pixel_array #returns a numpy.ndarray containing the pixel data\n",
        "    if np.max(data) != 0:\n",
        "        data = data / np.max(data) #standardizes so that the pixel values are between 0 and 1\n",
        "    data = (data * 255).astype(np.uint8) #rescales to 0 and 255\n",
        "    return cv2.resize(data, (size, size))"
      ],
      "execution_count": 15,
      "outputs": []
    },
    {
      "cell_type": "code",
      "metadata": {
        "execution": {
          "iopub.status.busy": "2021-09-09T08:05:09.466375Z",
          "iopub.execute_input": "2021-09-09T08:05:09.466923Z",
          "iopub.status.idle": "2021-09-09T08:05:09.474187Z",
          "shell.execute_reply.started": "2021-09-09T08:05:09.466888Z",
          "shell.execute_reply": "2021-09-09T08:05:09.473386Z"
        },
        "trusted": true,
        "id": "3nirbxWXSg6J"
      },
      "source": [
        "def get_all_image_paths(BraTS21ID, image_type, folder=\"train\"): #get an array of all the images of a particular type or a particular patient id\n",
        "    assert(image_type in TYPES) #only in types\n",
        "    patient_path = os.path.join(data_dir + \"%s/\" % folder, str(BraTS21ID).zfill(5)) #다른 폴더일 수도 있음\n",
        "    #print(lambda x: int(x[:-4].split(\"-\")[-1]))\n",
        "    \n",
        "    paths = sorted(glob.glob(os.path.join(patient_path, image_type, \"*\")), key=lambda x: int(x[:-4].split(\"-\")[-1])) #sort\n",
        "    #print(paths)\n",
        "    \n",
        "    num_images = len(paths)\n",
        "    \n",
        "    start = int(num_images * 0.25)\n",
        "    end = int(num_images * 0.75)\n",
        "    if num_images < 10:\n",
        "        jump = 1\n",
        "    else:\n",
        "        jump = 3\n",
        "        \n",
        "    return np.array(paths[start:end:jump])"
      ],
      "execution_count": 16,
      "outputs": []
    },
    {
      "cell_type": "code",
      "metadata": {
        "execution": {
          "iopub.status.busy": "2021-09-09T08:05:09.961756Z",
          "iopub.execute_input": "2021-09-09T08:05:09.962152Z",
          "iopub.status.idle": "2021-09-09T08:05:09.966979Z",
          "shell.execute_reply.started": "2021-09-09T08:05:09.962116Z",
          "shell.execute_reply": "2021-09-09T08:05:09.966011Z"
        },
        "trusted": true,
        "id": "oWZMpAyBSg6K"
      },
      "source": [
        "def get_all_images(BraTS21ID, image_type, folder=\"train\", size=225):\n",
        "    return [load_dicom(path, size) for path in get_all_image_paths(BraTS21ID, image_type, folder)]"
      ],
      "execution_count": 17,
      "outputs": []
    },
    {
      "cell_type": "code",
      "metadata": {
        "execution": {
          "iopub.status.busy": "2021-09-09T08:05:10.416138Z",
          "iopub.execute_input": "2021-09-09T08:05:10.416626Z",
          "iopub.status.idle": "2021-09-09T08:05:10.425527Z",
          "shell.execute_reply.started": "2021-09-09T08:05:10.416595Z",
          "shell.execute_reply": "2021-09-09T08:05:10.424744Z"
        },
        "trusted": true,
        "id": "5DDIDg9dSg6L"
      },
      "source": [
        "def get_all_data_train(image_type):\n",
        "    global train_df\n",
        "    \n",
        "    X = []\n",
        "    y = []\n",
        "    train_ids = []\n",
        "\n",
        "    for i in tqdm(train_df.index):\n",
        "        tmp_x = train_df.loc[i]\n",
        "        images = get_all_images(int(tmp_x[\"BraTS21ID\"]), image_type, \"train\", IMAGE_SIZE)\n",
        "        label = tmp_x[\"MGMT_value\"]\n",
        "\n",
        "        X += images\n",
        "        y += [label] * len(images)\n",
        "        train_ids += [int(tmp_x[\"BraTS21ID\"])] * len(images)\n",
        "        assert(len(X) == len(y))\n",
        "    return np.array(X), np.array(y), np.array(train_ids)\n",
        "\n",
        "def get_all_data_test(image_type):\n",
        "    global test_df\n",
        "    \n",
        "    X = []\n",
        "    test_ids = []\n",
        "\n",
        "    for i in tqdm(test_df.index):\n",
        "        tmp_x = test_df.loc[i]\n",
        "        images = get_all_images(int(tmp_x[\"BraTS21ID\"]), image_type, \"test\", IMAGE_SIZE)\n",
        "        X += images\n",
        "        test_ids += [int(tmp_x[\"BraTS21ID\"])] * len(images)\n",
        "\n",
        "    return np.array(X), np.array(test_ids)"
      ],
      "execution_count": 18,
      "outputs": []
    },
    {
      "cell_type": "code",
      "metadata": {
        "colab": {
          "base_uri": "https://localhost:8080/",
          "height": 375
        },
        "id": "a3mVAQpDrKe0",
        "outputId": "6afd7f97-4dca-41f3-a439-4a1d868f26d9"
      },
      "source": [
        "IMAGE_SIZE = 64\n",
        "X, y, train_idt = get_all_data_train(\"T1wCE\")\n",
        "X_test, test_idt = get_all_data_test(\"T1wCE\")\n",
        "X.shape, y.shape, train_idt.shape"
      ],
      "execution_count": 21,
      "outputs": [
        {
          "output_type": "stream",
          "name": "stderr",
          "text": [
            " 14%|█▎        | 44/321 [17:30<1:50:10, 23.86s/it]\n"
          ]
        },
        {
          "output_type": "error",
          "ename": "KeyboardInterrupt",
          "evalue": "ignored",
          "traceback": [
            "\u001b[0;31m---------------------------------------------------------------------------\u001b[0m",
            "\u001b[0;31mKeyboardInterrupt\u001b[0m                         Traceback (most recent call last)",
            "\u001b[0;32m<ipython-input-21-43af0926a587>\u001b[0m in \u001b[0;36m<module>\u001b[0;34m()\u001b[0m\n\u001b[1;32m      1\u001b[0m \u001b[0mIMAGE_SIZE\u001b[0m \u001b[0;34m=\u001b[0m \u001b[0;36m64\u001b[0m\u001b[0;34m\u001b[0m\u001b[0;34m\u001b[0m\u001b[0m\n\u001b[0;32m----> 2\u001b[0;31m \u001b[0mX\u001b[0m\u001b[0;34m,\u001b[0m \u001b[0my\u001b[0m\u001b[0;34m,\u001b[0m \u001b[0mtrain_idt\u001b[0m \u001b[0;34m=\u001b[0m \u001b[0mget_all_data_train\u001b[0m\u001b[0;34m(\u001b[0m\u001b[0;34m\"T1wCE\"\u001b[0m\u001b[0;34m)\u001b[0m\u001b[0;34m\u001b[0m\u001b[0;34m\u001b[0m\u001b[0m\n\u001b[0m\u001b[1;32m      3\u001b[0m \u001b[0mX_test\u001b[0m\u001b[0;34m,\u001b[0m \u001b[0mtest_idt\u001b[0m \u001b[0;34m=\u001b[0m \u001b[0mget_all_data_test\u001b[0m\u001b[0;34m(\u001b[0m\u001b[0;34m\"T1wCE\"\u001b[0m\u001b[0;34m)\u001b[0m\u001b[0;34m\u001b[0m\u001b[0;34m\u001b[0m\u001b[0m\n\u001b[1;32m      4\u001b[0m \u001b[0mX\u001b[0m\u001b[0;34m.\u001b[0m\u001b[0mshape\u001b[0m\u001b[0;34m,\u001b[0m \u001b[0my\u001b[0m\u001b[0;34m.\u001b[0m\u001b[0mshape\u001b[0m\u001b[0;34m,\u001b[0m \u001b[0mtrain_idt\u001b[0m\u001b[0;34m.\u001b[0m\u001b[0mshape\u001b[0m\u001b[0;34m\u001b[0m\u001b[0;34m\u001b[0m\u001b[0m\n",
            "\u001b[0;32m<ipython-input-18-1b1d9bf2cb27>\u001b[0m in \u001b[0;36mget_all_data_train\u001b[0;34m(image_type)\u001b[0m\n\u001b[1;32m      8\u001b[0m     \u001b[0;32mfor\u001b[0m \u001b[0mi\u001b[0m \u001b[0;32min\u001b[0m \u001b[0mtqdm\u001b[0m\u001b[0;34m(\u001b[0m\u001b[0mtrain_df\u001b[0m\u001b[0;34m.\u001b[0m\u001b[0mindex\u001b[0m\u001b[0;34m)\u001b[0m\u001b[0;34m:\u001b[0m\u001b[0;34m\u001b[0m\u001b[0;34m\u001b[0m\u001b[0m\n\u001b[1;32m      9\u001b[0m         \u001b[0mtmp_x\u001b[0m \u001b[0;34m=\u001b[0m \u001b[0mtrain_df\u001b[0m\u001b[0;34m.\u001b[0m\u001b[0mloc\u001b[0m\u001b[0;34m[\u001b[0m\u001b[0mi\u001b[0m\u001b[0;34m]\u001b[0m\u001b[0;34m\u001b[0m\u001b[0;34m\u001b[0m\u001b[0m\n\u001b[0;32m---> 10\u001b[0;31m         \u001b[0mimages\u001b[0m \u001b[0;34m=\u001b[0m \u001b[0mget_all_images\u001b[0m\u001b[0;34m(\u001b[0m\u001b[0mint\u001b[0m\u001b[0;34m(\u001b[0m\u001b[0mtmp_x\u001b[0m\u001b[0;34m[\u001b[0m\u001b[0;34m\"BraTS21ID\"\u001b[0m\u001b[0;34m]\u001b[0m\u001b[0;34m)\u001b[0m\u001b[0;34m,\u001b[0m \u001b[0mimage_type\u001b[0m\u001b[0;34m,\u001b[0m \u001b[0;34m\"train\"\u001b[0m\u001b[0;34m,\u001b[0m \u001b[0mIMAGE_SIZE\u001b[0m\u001b[0;34m)\u001b[0m\u001b[0;34m\u001b[0m\u001b[0;34m\u001b[0m\u001b[0m\n\u001b[0m\u001b[1;32m     11\u001b[0m         \u001b[0mlabel\u001b[0m \u001b[0;34m=\u001b[0m \u001b[0mtmp_x\u001b[0m\u001b[0;34m[\u001b[0m\u001b[0;34m\"MGMT_value\"\u001b[0m\u001b[0;34m]\u001b[0m\u001b[0;34m\u001b[0m\u001b[0;34m\u001b[0m\u001b[0m\n\u001b[1;32m     12\u001b[0m \u001b[0;34m\u001b[0m\u001b[0m\n",
            "\u001b[0;32m<ipython-input-17-4a14f6cdec79>\u001b[0m in \u001b[0;36mget_all_images\u001b[0;34m(BraTS21ID, image_type, folder, size)\u001b[0m\n\u001b[1;32m      1\u001b[0m \u001b[0;32mdef\u001b[0m \u001b[0mget_all_images\u001b[0m\u001b[0;34m(\u001b[0m\u001b[0mBraTS21ID\u001b[0m\u001b[0;34m,\u001b[0m \u001b[0mimage_type\u001b[0m\u001b[0;34m,\u001b[0m \u001b[0mfolder\u001b[0m\u001b[0;34m=\u001b[0m\u001b[0;34m\"train\"\u001b[0m\u001b[0;34m,\u001b[0m \u001b[0msize\u001b[0m\u001b[0;34m=\u001b[0m\u001b[0;36m225\u001b[0m\u001b[0;34m)\u001b[0m\u001b[0;34m:\u001b[0m\u001b[0;34m\u001b[0m\u001b[0;34m\u001b[0m\u001b[0m\n\u001b[0;32m----> 2\u001b[0;31m     \u001b[0;32mreturn\u001b[0m \u001b[0;34m[\u001b[0m\u001b[0mload_dicom\u001b[0m\u001b[0;34m(\u001b[0m\u001b[0mpath\u001b[0m\u001b[0;34m,\u001b[0m \u001b[0msize\u001b[0m\u001b[0;34m)\u001b[0m \u001b[0;32mfor\u001b[0m \u001b[0mpath\u001b[0m \u001b[0;32min\u001b[0m \u001b[0mget_all_image_paths\u001b[0m\u001b[0;34m(\u001b[0m\u001b[0mBraTS21ID\u001b[0m\u001b[0;34m,\u001b[0m \u001b[0mimage_type\u001b[0m\u001b[0;34m,\u001b[0m \u001b[0mfolder\u001b[0m\u001b[0;34m)\u001b[0m\u001b[0;34m]\u001b[0m\u001b[0;34m\u001b[0m\u001b[0;34m\u001b[0m\u001b[0m\n\u001b[0m",
            "\u001b[0;32m<ipython-input-17-4a14f6cdec79>\u001b[0m in \u001b[0;36m<listcomp>\u001b[0;34m(.0)\u001b[0m\n\u001b[1;32m      1\u001b[0m \u001b[0;32mdef\u001b[0m \u001b[0mget_all_images\u001b[0m\u001b[0;34m(\u001b[0m\u001b[0mBraTS21ID\u001b[0m\u001b[0;34m,\u001b[0m \u001b[0mimage_type\u001b[0m\u001b[0;34m,\u001b[0m \u001b[0mfolder\u001b[0m\u001b[0;34m=\u001b[0m\u001b[0;34m\"train\"\u001b[0m\u001b[0;34m,\u001b[0m \u001b[0msize\u001b[0m\u001b[0;34m=\u001b[0m\u001b[0;36m225\u001b[0m\u001b[0;34m)\u001b[0m\u001b[0;34m:\u001b[0m\u001b[0;34m\u001b[0m\u001b[0;34m\u001b[0m\u001b[0m\n\u001b[0;32m----> 2\u001b[0;31m     \u001b[0;32mreturn\u001b[0m \u001b[0;34m[\u001b[0m\u001b[0mload_dicom\u001b[0m\u001b[0;34m(\u001b[0m\u001b[0mpath\u001b[0m\u001b[0;34m,\u001b[0m \u001b[0msize\u001b[0m\u001b[0;34m)\u001b[0m \u001b[0;32mfor\u001b[0m \u001b[0mpath\u001b[0m \u001b[0;32min\u001b[0m \u001b[0mget_all_image_paths\u001b[0m\u001b[0;34m(\u001b[0m\u001b[0mBraTS21ID\u001b[0m\u001b[0;34m,\u001b[0m \u001b[0mimage_type\u001b[0m\u001b[0;34m,\u001b[0m \u001b[0mfolder\u001b[0m\u001b[0;34m)\u001b[0m\u001b[0;34m]\u001b[0m\u001b[0;34m\u001b[0m\u001b[0;34m\u001b[0m\u001b[0m\n\u001b[0m",
            "\u001b[0;32m<ipython-input-15-e340b48ebd7f>\u001b[0m in \u001b[0;36mload_dicom\u001b[0;34m(path, size)\u001b[0m\n\u001b[1;32m      1\u001b[0m \u001b[0;32mdef\u001b[0m \u001b[0mload_dicom\u001b[0m\u001b[0;34m(\u001b[0m\u001b[0mpath\u001b[0m\u001b[0;34m,\u001b[0m \u001b[0msize\u001b[0m \u001b[0;34m=\u001b[0m \u001b[0;36m128\u001b[0m\u001b[0;34m)\u001b[0m\u001b[0;34m:\u001b[0m \u001b[0;31m#load DICOM files\u001b[0m\u001b[0;34m\u001b[0m\u001b[0;34m\u001b[0m\u001b[0m\n\u001b[0;32m----> 2\u001b[0;31m     \u001b[0mdicom\u001b[0m \u001b[0;34m=\u001b[0m \u001b[0mpydicom\u001b[0m\u001b[0;34m.\u001b[0m\u001b[0mread_file\u001b[0m\u001b[0;34m(\u001b[0m\u001b[0mpath\u001b[0m\u001b[0;34m)\u001b[0m\u001b[0;34m\u001b[0m\u001b[0;34m\u001b[0m\u001b[0m\n\u001b[0m\u001b[1;32m      3\u001b[0m     \u001b[0mdata\u001b[0m \u001b[0;34m=\u001b[0m \u001b[0mdicom\u001b[0m\u001b[0;34m.\u001b[0m\u001b[0mpixel_array\u001b[0m \u001b[0;31m#returns a numpy.ndarray containing the pixel data\u001b[0m\u001b[0;34m\u001b[0m\u001b[0;34m\u001b[0m\u001b[0m\n\u001b[1;32m      4\u001b[0m     \u001b[0;32mif\u001b[0m \u001b[0mnp\u001b[0m\u001b[0;34m.\u001b[0m\u001b[0mmax\u001b[0m\u001b[0;34m(\u001b[0m\u001b[0mdata\u001b[0m\u001b[0;34m)\u001b[0m \u001b[0;34m!=\u001b[0m \u001b[0;36m0\u001b[0m\u001b[0;34m:\u001b[0m\u001b[0;34m\u001b[0m\u001b[0;34m\u001b[0m\u001b[0m\n\u001b[1;32m      5\u001b[0m         \u001b[0mdata\u001b[0m \u001b[0;34m=\u001b[0m \u001b[0mdata\u001b[0m \u001b[0;34m/\u001b[0m \u001b[0mnp\u001b[0m\u001b[0;34m.\u001b[0m\u001b[0mmax\u001b[0m\u001b[0;34m(\u001b[0m\u001b[0mdata\u001b[0m\u001b[0;34m)\u001b[0m \u001b[0;31m#standardizes so that the pixel values are between 0 and 1\u001b[0m\u001b[0;34m\u001b[0m\u001b[0;34m\u001b[0m\u001b[0m\n",
            "\u001b[0;32m/usr/local/lib/python3.7/dist-packages/pydicom/filereader.py\u001b[0m in \u001b[0;36mdcmread\u001b[0;34m(fp, defer_size, stop_before_pixels, force, specific_tags)\u001b[0m\n\u001b[1;32m   1032\u001b[0m             \u001b[0mdefer_size\u001b[0m\u001b[0;34m=\u001b[0m\u001b[0msize_in_bytes\u001b[0m\u001b[0;34m(\u001b[0m\u001b[0mdefer_size\u001b[0m\u001b[0;34m)\u001b[0m\u001b[0;34m,\u001b[0m\u001b[0;34m\u001b[0m\u001b[0;34m\u001b[0m\u001b[0m\n\u001b[1;32m   1033\u001b[0m             \u001b[0mforce\u001b[0m\u001b[0;34m=\u001b[0m\u001b[0mforce\u001b[0m\u001b[0;34m,\u001b[0m\u001b[0;34m\u001b[0m\u001b[0;34m\u001b[0m\u001b[0m\n\u001b[0;32m-> 1034\u001b[0;31m             \u001b[0mspecific_tags\u001b[0m\u001b[0;34m=\u001b[0m\u001b[0mspecific_tags\u001b[0m\u001b[0;34m,\u001b[0m\u001b[0;34m\u001b[0m\u001b[0;34m\u001b[0m\u001b[0m\n\u001b[0m\u001b[1;32m   1035\u001b[0m         )\n\u001b[1;32m   1036\u001b[0m     \u001b[0;32mfinally\u001b[0m\u001b[0;34m:\u001b[0m\u001b[0;34m\u001b[0m\u001b[0;34m\u001b[0m\u001b[0m\n",
            "\u001b[0;32m/usr/local/lib/python3.7/dist-packages/pydicom/filereader.py\u001b[0m in \u001b[0;36mread_partial\u001b[0;34m(fileobj, stop_when, defer_size, force, specific_tags)\u001b[0m\n\u001b[1;32m    778\u001b[0m \u001b[0;34m\u001b[0m\u001b[0m\n\u001b[1;32m    779\u001b[0m     \u001b[0;31m# Read preamble (if present)\u001b[0m\u001b[0;34m\u001b[0m\u001b[0;34m\u001b[0m\u001b[0;34m\u001b[0m\u001b[0m\n\u001b[0;32m--> 780\u001b[0;31m     \u001b[0mpreamble\u001b[0m \u001b[0;34m=\u001b[0m \u001b[0mread_preamble\u001b[0m\u001b[0;34m(\u001b[0m\u001b[0mfileobj\u001b[0m\u001b[0;34m,\u001b[0m \u001b[0mforce\u001b[0m\u001b[0;34m)\u001b[0m\u001b[0;34m\u001b[0m\u001b[0;34m\u001b[0m\u001b[0m\n\u001b[0m\u001b[1;32m    781\u001b[0m     \u001b[0;31m# Read any File Meta Information group (0002,eeee) elements (if present)\u001b[0m\u001b[0;34m\u001b[0m\u001b[0;34m\u001b[0m\u001b[0;34m\u001b[0m\u001b[0m\n\u001b[1;32m    782\u001b[0m     \u001b[0mfile_meta_dataset\u001b[0m \u001b[0;34m=\u001b[0m \u001b[0m_read_file_meta_info\u001b[0m\u001b[0;34m(\u001b[0m\u001b[0mfileobj\u001b[0m\u001b[0;34m)\u001b[0m\u001b[0;34m\u001b[0m\u001b[0;34m\u001b[0m\u001b[0m\n",
            "\u001b[0;32m/usr/local/lib/python3.7/dist-packages/pydicom/filereader.py\u001b[0m in \u001b[0;36mread_preamble\u001b[0;34m(fp, force)\u001b[0m\n\u001b[1;32m    704\u001b[0m     \"\"\"\n\u001b[1;32m    705\u001b[0m     \u001b[0mlogger\u001b[0m\u001b[0;34m.\u001b[0m\u001b[0mdebug\u001b[0m\u001b[0;34m(\u001b[0m\u001b[0;34m\"Reading File Meta Information preamble...\"\u001b[0m\u001b[0;34m)\u001b[0m\u001b[0;34m\u001b[0m\u001b[0;34m\u001b[0m\u001b[0m\n\u001b[0;32m--> 706\u001b[0;31m     \u001b[0mpreamble\u001b[0m \u001b[0;34m=\u001b[0m \u001b[0mfp\u001b[0m\u001b[0;34m.\u001b[0m\u001b[0mread\u001b[0m\u001b[0;34m(\u001b[0m\u001b[0;36m128\u001b[0m\u001b[0;34m)\u001b[0m\u001b[0;34m\u001b[0m\u001b[0;34m\u001b[0m\u001b[0m\n\u001b[0m\u001b[1;32m    707\u001b[0m     \u001b[0;32mif\u001b[0m \u001b[0mconfig\u001b[0m\u001b[0;34m.\u001b[0m\u001b[0mdebugging\u001b[0m\u001b[0;34m:\u001b[0m\u001b[0;34m\u001b[0m\u001b[0;34m\u001b[0m\u001b[0m\n\u001b[1;32m    708\u001b[0m         \u001b[0msample\u001b[0m \u001b[0;34m=\u001b[0m \u001b[0mbytes2hex\u001b[0m\u001b[0;34m(\u001b[0m\u001b[0mpreamble\u001b[0m\u001b[0;34m[\u001b[0m\u001b[0;34m:\u001b[0m\u001b[0;36m8\u001b[0m\u001b[0;34m]\u001b[0m\u001b[0;34m)\u001b[0m \u001b[0;34m+\u001b[0m \u001b[0;34m\"...\"\u001b[0m \u001b[0;34m+\u001b[0m \u001b[0mbytes2hex\u001b[0m\u001b[0;34m(\u001b[0m\u001b[0mpreamble\u001b[0m\u001b[0;34m[\u001b[0m\u001b[0;34m-\u001b[0m\u001b[0;36m8\u001b[0m\u001b[0;34m:\u001b[0m\u001b[0;34m]\u001b[0m\u001b[0;34m)\u001b[0m\u001b[0;34m\u001b[0m\u001b[0;34m\u001b[0m\u001b[0m\n",
            "\u001b[0;31mKeyboardInterrupt\u001b[0m: "
          ]
        }
      ]
    },
    {
      "cell_type": "code",
      "metadata": {
        "id": "z_ej1QMMrZhw"
      },
      "source": [
        "# #pickling\n",
        "with open(data_dir+'X_T1wCE_pre.pkl', 'wb') as f:\n",
        "  pickle.dump(f)\n",
        "\n",
        "with open(data_dir+'y_T1wCE_pre.pkl', 'wb') as f:\n",
        "  pickle.dump(f)\n",
        "\n",
        "with open(data_dir+'train_idt_T1wCE_pre.pkl', 'wb') as f:\n",
        "  pickle.dump(f)\n",
        "\n",
        "with open(data_dir+'X_test_T1wCE_pre.pkl', 'wb') as f:\n",
        "  pickle.dump(f)\n",
        "\n",
        "with open(data_dir+'test_idt_T1wCE_pre.pkl', 'wb') as f:\n",
        "  pickle.dump(f)"
      ],
      "execution_count": null,
      "outputs": []
    },
    {
      "cell_type": "code",
      "metadata": {
        "id": "6nxfddqNa4TZ"
      },
      "source": [
        "# #pickling\n",
        "# with open(data_dir+'X_T1wCE.pkl', 'rb') as f:\n",
        "#   X_T1wCE = pickle.load(f)\n",
        "\n",
        "# with open(data_dir+'y_T1wCE.pkl', 'rb') as f:\n",
        "#   y_T1wCE = pickle.load(f)\n",
        "\n",
        "# with open(data_dir+'train_idt_T1wCE.pkl', 'rb') as f:\n",
        "#   train_idt_T1wCE = pickle.load(f)\n",
        "\n",
        "# with open(data_dir+'X_test_T1wCE.pkl', 'rb') as f:\n",
        "#   X_test_T1wCE = pickle.load(f)\n",
        "\n",
        "# with open(data_dir+'test_idt_T1wCE.pkl', 'rb') as f:\n",
        "#   test_idt_T1wCE = pickle.load(f)\n",
        "# #pickling\n",
        "# with open(data_dir+'X_FLAIR.pkl', 'rb') as f:\n",
        "#   X_FLAIR = pickle.load(f)\n",
        "\n",
        "# with open(data_dir+'y_FLAIR.pkl', 'rb') as f:\n",
        "#   y_FLAIR = pickle.load(f)\n",
        "\n",
        "# with open(data_dir+'train_idt_FLAIR.pkl', 'rb') as f:\n",
        "#   train_idt_FLAIR = pickle.load(f)\n",
        "\n",
        "# with open(data_dir+'X_test_FLAIR.pkl', 'rb') as f:\n",
        "#   X_test_FLAIR = pickle.load(f)\n",
        "\n",
        "# with open(data_dir+'test_idt_FLAIR.pkl', 'rb') as f:\n",
        "#   test_idt_FLAIR = pickle.load(f)\n",
        "# #pickling\n",
        "# with open(data_dir+'X_T2w.pkl', 'rb') as f:\n",
        "#   X_T2w = pickle.load(f)\n",
        "\n",
        "# with open(data_dir+'y_T2w.pkl', 'rb') as f:\n",
        "#   y_T2w = pickle.load(f)\n",
        "\n",
        "# with open(data_dir+'train_idt_T2w.pkl', 'rb') as f:\n",
        "#   train_idt_T2w = pickle.load(f)\n",
        "\n",
        "# with open(data_dir+'X_test_T2w.pkl', 'rb') as f:\n",
        "#   X_test_T2w = pickle.load(f)\n",
        "\n",
        "# with open(data_dir+'test_idt_T2w.pkl', 'rb') as f:\n",
        "#   test_idt_T2w = pickle.load(f)\n",
        "# #pickling\n",
        "# with open(data_dir+'X_T1w.pkl', 'rb') as f:\n",
        "#   X_T1w = pickle.load(f)\n",
        "\n",
        "# with open(data_dir+'y_T1w.pkl', 'rb') as f:\n",
        "#   y_T1w = pickle.load(f)\n",
        "\n",
        "# with open(data_dir+'train_idt_T1w.pkl', 'rb') as f:\n",
        "#   train_idt_T1w = pickle.load(f)\n",
        "\n",
        "# with open(data_dir+'X_test_T1w.pkl', 'rb') as f:\n",
        "#   X_test_T1w = pickle.load(f)\n",
        "\n",
        "# with open(data_dir+'test_idt_T1w.pkl', 'rb') as f:\n",
        "#   test_idt_T1w = pickle.load(f)"
      ],
      "execution_count": null,
      "outputs": []
    },
    {
      "cell_type": "code",
      "metadata": {
        "colab": {
          "base_uri": "https://localhost:8080/"
        },
        "id": "DXSyWVLqaIL9",
        "outputId": "b6769b6f-70fc-4c41-f493-f278221b98bd"
      },
      "source": [
        "X_FLAIR.shape, X_T1w.shape, X_T1wCE.shape, X_T2w.shape"
      ],
      "execution_count": null,
      "outputs": [
        {
          "output_type": "execute_result",
          "data": {
            "text/plain": [
              "((12463, 64, 64), (13004, 64, 64), (16196, 64, 64), (16813, 64, 64))"
            ]
          },
          "metadata": {},
          "execution_count": 13
        }
      ]
    },
    {
      "cell_type": "code",
      "metadata": {
        "id": "KGNn8n8pbMjR"
      },
      "source": [
        "# import random"
      ],
      "execution_count": null,
      "outputs": []
    },
    {
      "cell_type": "code",
      "metadata": {
        "id": "CqwYpwsAbNs6"
      },
      "source": [
        "# np.random.choice(X_FLAIR, 10000)"
      ],
      "execution_count": null,
      "outputs": []
    },
    {
      "cell_type": "code",
      "metadata": {
        "id": "_xguSRrQbg5D"
      },
      "source": [
        "X = np.concatenate([X_FLAIR[:4000], X_T1wCE[:4000], X_T2w], axis=0)\n",
        "y = np.concatenate([y_FLAIR[:4000], y_T1wCE[:4000], y_T2w], axis=0)\n",
        "train_idt = np.concatenate([train_idt_FLAIR[:4000], train_idt_T1wCE[:4000], train_idt_T2w], axis=0)\n",
        "\n",
        "X_test = np.concatenate([X_test_FLAIR, X_test_T1w, X_test_T1wCE, X_test_T2w], axis=0)\n",
        "test_idt = np.concatenate([test_idt_FLAIR, test_idt_T1w, test_idt_T1wCE, test_idt_T2w], axis=0)"
      ],
      "execution_count": null,
      "outputs": []
    },
    {
      "cell_type": "code",
      "metadata": {
        "execution": {
          "iopub.status.busy": "2021-09-09T08:09:43.944235Z",
          "iopub.execute_input": "2021-09-09T08:09:43.944810Z",
          "iopub.status.idle": "2021-09-09T08:09:43.986052Z",
          "shell.execute_reply.started": "2021-09-09T08:09:43.944767Z",
          "shell.execute_reply": "2021-09-09T08:09:43.985157Z"
        },
        "trusted": true,
        "id": "wrK-MrfRSg6M"
      },
      "source": [
        "X_train, X_valid, y_train, y_valid, train_idt_train, train_idt_valid = train_test_split(X, y, train_idt, test_size=0.2)"
      ],
      "execution_count": null,
      "outputs": []
    },
    {
      "cell_type": "code",
      "metadata": {
        "id": "fw4ugCkC5WLf"
      },
      "source": [
        "# X2 = np.concatenate([X_FLAIR, X_T2w, X_T1w, X_T1wCE], axis=0)\n",
        "# y2 = np.concatenate([y_FLAIR, y_T2w, y_T1w, y_T1wCE], axis=0)\n",
        "# train_idt2 = np.concatenate([train_idt_FLAIR, train_idt_T2w, train_idt_T1w, train_idt_T1wCE], axis=0)"
      ],
      "execution_count": null,
      "outputs": []
    },
    {
      "cell_type": "code",
      "metadata": {
        "id": "MZYYmo4N5lR5"
      },
      "source": [
        "# X_train2, X_valid2, y_train2, y_valid2, train_idt_train2, train_idt_valid2 = train_test_split(X2, y2, train_idt2, test_size=0.05)"
      ],
      "execution_count": null,
      "outputs": []
    },
    {
      "cell_type": "code",
      "metadata": {
        "execution": {
          "iopub.status.busy": "2021-09-09T08:09:44.993484Z",
          "iopub.execute_input": "2021-09-09T08:09:44.993888Z",
          "iopub.status.idle": "2021-09-09T08:09:45.172717Z",
          "shell.execute_reply.started": "2021-09-09T08:09:44.993853Z",
          "shell.execute_reply": "2021-09-09T08:09:45.171572Z"
        },
        "trusted": true,
        "id": "bej50ftOSg6N"
      },
      "source": [
        "X_train = tf.expand_dims(X_train, axis=-1) #expand the dimension at the end of the array\n",
        "X_valid = tf.expand_dims(X_valid, axis=-1)\n",
        "X_test = tf.expand_dims(X_test, axis=-1)\n",
        "\n",
        "y_train = to_categorical(y_train) #one-hot incoding\n",
        "y_valid = to_categorical(y_valid)"
      ],
      "execution_count": null,
      "outputs": []
    },
    {
      "cell_type": "code",
      "metadata": {
        "id": "gEF68ED25sSr"
      },
      "source": [
        "# X_train2 = tf.expand_dims(X_train2, axis=-1) #expand the dimension at the end of the array\n",
        "# X_valid2 = tf.expand_dims(X_valid2, axis=-1)\n",
        "\n",
        "# y_train2 = to_categorical(y_train2) #one-hot incoding\n",
        "# y_valid2 = to_categorical(y_valid2)"
      ],
      "execution_count": null,
      "outputs": []
    },
    {
      "cell_type": "code",
      "metadata": {
        "execution": {
          "iopub.status.busy": "2021-09-09T08:09:46.085374Z",
          "iopub.execute_input": "2021-09-09T08:09:46.085773Z",
          "iopub.status.idle": "2021-09-09T08:09:46.093809Z",
          "shell.execute_reply.started": "2021-09-09T08:09:46.085717Z",
          "shell.execute_reply": "2021-09-09T08:09:46.092398Z"
        },
        "trusted": true,
        "id": "RQr6CiokSg6N",
        "colab": {
          "base_uri": "https://localhost:8080/"
        },
        "outputId": "6d39f260-a3cc-45e0-c126-c692a0ade786"
      },
      "source": [
        "X_train.shape, y_train.shape, X_valid.shape, y_valid.shape, train_idt_train.shape, train_idt_valid.shape"
      ],
      "execution_count": null,
      "outputs": [
        {
          "output_type": "execute_result",
          "data": {
            "text/plain": [
              "(TensorShape([19850, 64, 64, 1]),\n",
              " (19850, 2),\n",
              " TensorShape([4963, 64, 64, 1]),\n",
              " (4963, 2),\n",
              " (19850,),\n",
              " (4963,))"
            ]
          },
          "metadata": {},
          "execution_count": 44
        }
      ]
    },
    {
      "cell_type": "code",
      "metadata": {
        "execution": {
          "iopub.status.busy": "2021-09-09T08:13:38.917128Z",
          "iopub.execute_input": "2021-09-09T08:13:38.917572Z",
          "iopub.status.idle": "2021-09-09T08:13:38.930258Z",
          "shell.execute_reply.started": "2021-09-09T08:13:38.917535Z",
          "shell.execute_reply": "2021-09-09T08:13:38.929014Z"
        },
        "trusted": true,
        "id": "gpuY_HLMSg6N"
      },
      "source": [
        "def create_model():\n",
        "    model = keras.Sequential()\n",
        "    model.add(keras.layers.Conv2D(filters=32, kernel_size=3, activation='relu', padding='VALID', \n",
        "                                  input_shape=(IMAGE_SIZE, IMAGE_SIZE, 1)))\n",
        "    model.add(keras.layers.BatchNormalization())\n",
        "    \n",
        "    model.add(keras.layers.Conv2D(filters=64, kernel_size=3, activation='relu', padding='SAME'))\n",
        "    model.add(keras.layers.BatchNormalization())\n",
        "    model.add(keras.layers.MaxPool2D(pool_size=(2,2)))\n",
        "\n",
        "    model.add(keras.layers.Conv2D(filters=64, kernel_size=3, activation='relu', padding='SAME'))\n",
        "    model.add(keras.layers.BatchNormalization())\n",
        "\n",
        "    model.add(keras.layers.Conv2D(filters=128, kernel_size=3, activation='relu', padding='VALID'))\n",
        "    model.add(keras.layers.BatchNormalization())\n",
        "\n",
        "    model.add(keras.layers.Conv2D(filters=128, kernel_size=3, activation='relu', padding='SAME'))\n",
        "    model.add(keras.layers.BatchNormalization())\n",
        "\n",
        "    model.add(keras.layers.MaxPool2D(pool_size=(2,2)))\n",
        "    model.add(keras.layers.BatchNormalization())\n",
        "    model.add(keras.layers.Dropout(0.3))\n",
        "\n",
        "    model.add(keras.layers.Flatten())\n",
        "    model.add(keras.layers.Dense(512, activation='relu', kernel_regularizer=keras.regularizers.l2(0.01)))\n",
        "    model.add(keras.layers.Dense(2, activation='softmax', kernel_regularizer=keras.regularizers.l2(0.01)))\n",
        "    return model"
      ],
      "execution_count": null,
      "outputs": []
    },
    {
      "cell_type": "code",
      "metadata": {
        "id": "31CxBNPcMNbD"
      },
      "source": [
        "from tensorflow.keras.applications import EfficientNetB7\n",
        "model = EfficientNetB7(input_shape=(IMAGE_SIZE, IMAGE_SIZE, 1), weights=None, classes=2)"
      ],
      "execution_count": null,
      "outputs": []
    },
    {
      "cell_type": "code",
      "metadata": {
        "execution": {
          "iopub.status.busy": "2021-09-09T08:13:41.051663Z",
          "iopub.execute_input": "2021-09-09T08:13:41.052059Z",
          "iopub.status.idle": "2021-09-09T08:13:41.057920Z",
          "shell.execute_reply.started": "2021-09-09T08:13:41.052027Z",
          "shell.execute_reply": "2021-09-09T08:13:41.056771Z"
        },
        "trusted": true,
        "id": "ydTkzEloSg6O"
      },
      "source": [
        "## Hyper Parameters\n",
        "IMAGE_SIZE = 64\n",
        "N_EPOCHS = 60\n",
        "N_BATCH = 32\n",
        "N_TRAIN = X_train.shape[0]\n",
        "N_VAL = X_valid.shape[0]\n",
        "\n",
        "learning_rate = 0.0001\n",
        "steps_per_epoch = N_TRAIN / N_BATCH\n",
        "validation_steps = int(np.ceil(N_VAL / N_BATCH))"
      ],
      "execution_count": null,
      "outputs": []
    },
    {
      "cell_type": "code",
      "metadata": {
        "execution": {
          "iopub.status.busy": "2021-09-09T08:15:33.633960Z",
          "iopub.execute_input": "2021-09-09T08:15:33.634516Z",
          "iopub.status.idle": "2021-09-09T08:15:33.769136Z",
          "shell.execute_reply.started": "2021-09-09T08:15:33.634482Z",
          "shell.execute_reply": "2021-09-09T08:15:33.768205Z"
        },
        "trusted": true,
        "id": "2Nh-2Cl1Sg6O"
      },
      "source": [
        "## Create model, compile & summary\n",
        "model = create_model()\n",
        "\n",
        "model.compile(optimizer=tf.keras.optimizers.Adam(learning_rate),\n",
        "              loss='categorical_crossentropy', #label이 ohe이 아니면 sparse를 쓰면 자동으로 ohe\n",
        "              metrics=[tf.keras.metrics.AUC()])"
      ],
      "execution_count": null,
      "outputs": []
    },
    {
      "cell_type": "code",
      "metadata": {
        "execution": {
          "iopub.status.busy": "2021-09-09T08:15:35.206055Z",
          "iopub.execute_input": "2021-09-09T08:15:35.206421Z",
          "iopub.status.idle": "2021-09-09T08:48:26.009687Z",
          "shell.execute_reply.started": "2021-09-09T08:15:35.206392Z",
          "shell.execute_reply": "2021-09-09T08:48:26.008689Z"
        },
        "trusted": true,
        "id": "DSWdjGPoSg6O",
        "colab": {
          "base_uri": "https://localhost:8080/"
        },
        "outputId": "bac3e89c-61d6-427b-a882-637fbfb59028"
      },
      "source": [
        "history = model.fit(\n",
        "    x=X_train,\n",
        "    y=y_train,\n",
        "    epochs=N_EPOCHS,\n",
        "    steps_per_epoch=steps_per_epoch,\n",
        "    validation_data=(X_valid, y_valid),\n",
        ")"
      ],
      "execution_count": null,
      "outputs": [
        {
          "output_type": "stream",
          "name": "stdout",
          "text": [
            "Epoch 1/100\n",
            "404/404 [==============================] - 21s 9ms/step - loss: 7.7023 - auc_1: 0.5836 - val_loss: 5.8669 - val_auc_1: 0.6457\n",
            "Epoch 2/100\n",
            "404/404 [==============================] - 3s 8ms/step - loss: 4.8272 - auc_1: 0.6818 - val_loss: 3.9699 - val_auc_1: 0.7073\n",
            "Epoch 3/100\n",
            "404/404 [==============================] - 3s 8ms/step - loss: 3.3710 - auc_1: 0.7390 - val_loss: 2.9085 - val_auc_1: 0.7150\n",
            "Epoch 4/100\n",
            "404/404 [==============================] - 3s 8ms/step - loss: 2.4819 - auc_1: 0.7924 - val_loss: 2.2412 - val_auc_1: 0.7270\n",
            "Epoch 5/100\n",
            "404/404 [==============================] - 3s 8ms/step - loss: 1.8927 - auc_1: 0.8476 - val_loss: 1.7782 - val_auc_1: 0.7805\n",
            "Epoch 6/100\n",
            "404/404 [==============================] - 3s 8ms/step - loss: 1.4928 - auc_1: 0.8904 - val_loss: 1.5238 - val_auc_1: 0.7675\n",
            "Epoch 7/100\n",
            "404/404 [==============================] - 3s 8ms/step - loss: 1.1956 - auc_1: 0.9292 - val_loss: 1.3492 - val_auc_1: 0.7837\n",
            "Epoch 8/100\n",
            "404/404 [==============================] - 3s 8ms/step - loss: 0.9706 - auc_1: 0.9568 - val_loss: 1.1442 - val_auc_1: 0.8284\n",
            "Epoch 9/100\n",
            "404/404 [==============================] - 3s 8ms/step - loss: 0.7964 - auc_1: 0.9747 - val_loss: 1.0595 - val_auc_1: 0.8270\n",
            "Epoch 10/100\n",
            "404/404 [==============================] - 3s 8ms/step - loss: 0.6739 - auc_1: 0.9822 - val_loss: 1.0124 - val_auc_1: 0.8168\n",
            "Epoch 11/100\n",
            "404/404 [==============================] - 3s 8ms/step - loss: 0.5756 - auc_1: 0.9885 - val_loss: 0.9547 - val_auc_1: 0.8266\n",
            "Epoch 12/100\n",
            "404/404 [==============================] - 3s 8ms/step - loss: 0.4945 - auc_1: 0.9921 - val_loss: 0.9097 - val_auc_1: 0.8304\n",
            "Epoch 13/100\n",
            "404/404 [==============================] - 3s 8ms/step - loss: 0.4375 - auc_1: 0.9933 - val_loss: 0.8595 - val_auc_1: 0.8363\n",
            "Epoch 14/100\n",
            "404/404 [==============================] - 3s 8ms/step - loss: 0.3901 - auc_1: 0.9946 - val_loss: 0.8346 - val_auc_1: 0.8358\n",
            "Epoch 15/100\n",
            "404/404 [==============================] - 3s 8ms/step - loss: 0.3496 - auc_1: 0.9957 - val_loss: 0.8389 - val_auc_1: 0.8346\n",
            "Epoch 16/100\n",
            "404/404 [==============================] - 3s 8ms/step - loss: 0.3160 - auc_1: 0.9965 - val_loss: 0.8341 - val_auc_1: 0.8274\n",
            "Epoch 17/100\n",
            "404/404 [==============================] - 3s 8ms/step - loss: 0.2893 - auc_1: 0.9969 - val_loss: 0.8060 - val_auc_1: 0.8306\n",
            "Epoch 18/100\n",
            "404/404 [==============================] - 3s 8ms/step - loss: 0.2634 - auc_1: 0.9976 - val_loss: 0.7888 - val_auc_1: 0.8387\n",
            "Epoch 19/100\n",
            "404/404 [==============================] - 3s 8ms/step - loss: 0.2510 - auc_1: 0.9973 - val_loss: 0.8298 - val_auc_1: 0.8322\n",
            "Epoch 20/100\n",
            "404/404 [==============================] - 3s 8ms/step - loss: 0.2376 - auc_1: 0.9975 - val_loss: 0.7955 - val_auc_1: 0.8350\n",
            "Epoch 21/100\n",
            "404/404 [==============================] - 3s 8ms/step - loss: 0.2271 - auc_1: 0.9974 - val_loss: 0.8613 - val_auc_1: 0.8086\n",
            "Epoch 22/100\n",
            "404/404 [==============================] - 3s 8ms/step - loss: 0.2133 - auc_1: 0.9980 - val_loss: 0.8483 - val_auc_1: 0.8220\n",
            "Epoch 23/100\n",
            "404/404 [==============================] - 3s 8ms/step - loss: 0.2003 - auc_1: 0.9983 - val_loss: 0.7898 - val_auc_1: 0.8292\n",
            "Epoch 24/100\n",
            "404/404 [==============================] - 3s 8ms/step - loss: 0.1928 - auc_1: 0.9980 - val_loss: 0.7683 - val_auc_1: 0.8316\n",
            "Epoch 25/100\n",
            "404/404 [==============================] - 3s 8ms/step - loss: 0.1857 - auc_1: 0.9984 - val_loss: 0.7490 - val_auc_1: 0.8371\n",
            "Epoch 26/100\n",
            "404/404 [==============================] - 3s 8ms/step - loss: 0.1800 - auc_1: 0.9983 - val_loss: 0.8073 - val_auc_1: 0.8219\n",
            "Epoch 27/100\n",
            "404/404 [==============================] - 3s 8ms/step - loss: 0.1732 - auc_1: 0.9982 - val_loss: 0.7561 - val_auc_1: 0.8295\n",
            "Epoch 28/100\n",
            "404/404 [==============================] - 3s 8ms/step - loss: 0.1661 - auc_1: 0.9986 - val_loss: 0.8243 - val_auc_1: 0.8237\n",
            "Epoch 29/100\n",
            "404/404 [==============================] - 3s 8ms/step - loss: 0.1682 - auc_1: 0.9980 - val_loss: 0.7783 - val_auc_1: 0.8290\n",
            "Epoch 30/100\n",
            "404/404 [==============================] - 3s 8ms/step - loss: 0.1640 - auc_1: 0.9983 - val_loss: 0.7802 - val_auc_1: 0.8351\n",
            "Epoch 31/100\n",
            "404/404 [==============================] - 3s 8ms/step - loss: 0.1542 - auc_1: 0.9987 - val_loss: 0.7624 - val_auc_1: 0.8367\n",
            "Epoch 32/100\n",
            "404/404 [==============================] - 3s 8ms/step - loss: 0.1432 - auc_1: 0.9989 - val_loss: 0.8183 - val_auc_1: 0.8335\n",
            "Epoch 33/100\n",
            "404/404 [==============================] - 3s 8ms/step - loss: 0.1460 - auc_1: 0.9987 - val_loss: 0.8011 - val_auc_1: 0.8284\n",
            "Epoch 34/100\n",
            "404/404 [==============================] - 3s 8ms/step - loss: 0.1388 - auc_1: 0.9986 - val_loss: 0.7760 - val_auc_1: 0.8169\n",
            "Epoch 35/100\n",
            "404/404 [==============================] - 3s 8ms/step - loss: 0.1428 - auc_1: 0.9985 - val_loss: 0.7766 - val_auc_1: 0.8269\n",
            "Epoch 36/100\n",
            "404/404 [==============================] - 3s 8ms/step - loss: 0.1330 - auc_1: 0.9991 - val_loss: 0.7939 - val_auc_1: 0.8211\n",
            "Epoch 37/100\n",
            "404/404 [==============================] - 3s 8ms/step - loss: 0.1210 - auc_1: 0.9994 - val_loss: 0.8498 - val_auc_1: 0.8143\n",
            "Epoch 38/100\n",
            "404/404 [==============================] - 3s 8ms/step - loss: 0.1276 - auc_1: 0.9987 - val_loss: 0.7794 - val_auc_1: 0.8200\n",
            "Epoch 39/100\n",
            "404/404 [==============================] - 3s 8ms/step - loss: 0.1259 - auc_1: 0.9990 - val_loss: 0.9091 - val_auc_1: 0.8098\n",
            "Epoch 40/100\n",
            "404/404 [==============================] - 3s 8ms/step - loss: 0.1231 - auc_1: 0.9990 - val_loss: 0.8051 - val_auc_1: 0.8189\n",
            "Epoch 41/100\n",
            "404/404 [==============================] - 3s 8ms/step - loss: 0.1155 - auc_1: 0.9993 - val_loss: 0.8331 - val_auc_1: 0.8143\n",
            "Epoch 42/100\n",
            "404/404 [==============================] - 3s 8ms/step - loss: 0.1170 - auc_1: 0.9992 - val_loss: 0.9511 - val_auc_1: 0.8099\n",
            "Epoch 43/100\n",
            "404/404 [==============================] - 3s 8ms/step - loss: 0.1244 - auc_1: 0.9985 - val_loss: 0.8895 - val_auc_1: 0.8182\n",
            "Epoch 44/100\n",
            "404/404 [==============================] - 3s 8ms/step - loss: 0.1124 - auc_1: 0.9992 - val_loss: 0.8326 - val_auc_1: 0.8126\n",
            "Epoch 45/100\n",
            "404/404 [==============================] - 3s 8ms/step - loss: 0.1121 - auc_1: 0.9992 - val_loss: 0.8135 - val_auc_1: 0.8162\n",
            "Epoch 46/100\n",
            "404/404 [==============================] - 3s 8ms/step - loss: 0.1114 - auc_1: 0.9990 - val_loss: 0.8500 - val_auc_1: 0.8164\n",
            "Epoch 47/100\n",
            "404/404 [==============================] - 3s 8ms/step - loss: 0.1038 - auc_1: 0.9994 - val_loss: 0.8495 - val_auc_1: 0.8178\n",
            "Epoch 48/100\n",
            "404/404 [==============================] - 3s 8ms/step - loss: 0.1001 - auc_1: 0.9995 - val_loss: 0.8369 - val_auc_1: 0.8178\n",
            "Epoch 49/100\n",
            "404/404 [==============================] - 3s 8ms/step - loss: 0.0967 - auc_1: 0.9994 - val_loss: 0.8638 - val_auc_1: 0.8108\n",
            "Epoch 50/100\n",
            "404/404 [==============================] - 3s 8ms/step - loss: 0.1027 - auc_1: 0.9992 - val_loss: 0.8716 - val_auc_1: 0.8172\n",
            "Epoch 51/100\n",
            "404/404 [==============================] - 3s 8ms/step - loss: 0.1005 - auc_1: 0.9993 - val_loss: 0.9109 - val_auc_1: 0.8159\n",
            "Epoch 52/100\n",
            "404/404 [==============================] - 3s 8ms/step - loss: 0.0948 - auc_1: 0.9995 - val_loss: 0.8734 - val_auc_1: 0.8015\n",
            "Epoch 53/100\n",
            "404/404 [==============================] - 3s 8ms/step - loss: 0.1008 - auc_1: 0.9992 - val_loss: 0.8530 - val_auc_1: 0.8189\n",
            "Epoch 54/100\n",
            "404/404 [==============================] - 3s 8ms/step - loss: 0.0909 - auc_1: 0.9995 - val_loss: 0.8697 - val_auc_1: 0.8137\n",
            "Epoch 55/100\n",
            "404/404 [==============================] - 3s 8ms/step - loss: 0.0910 - auc_1: 0.9994 - val_loss: 0.8363 - val_auc_1: 0.8170\n",
            "Epoch 56/100\n",
            "404/404 [==============================] - 3s 8ms/step - loss: 0.0905 - auc_1: 0.9994 - val_loss: 0.8552 - val_auc_1: 0.8186\n",
            "Epoch 57/100\n",
            "404/404 [==============================] - 3s 8ms/step - loss: 0.0910 - auc_1: 0.9992 - val_loss: 0.8271 - val_auc_1: 0.8166\n",
            "Epoch 58/100\n",
            "404/404 [==============================] - 3s 8ms/step - loss: 0.0860 - auc_1: 0.9994 - val_loss: 0.9217 - val_auc_1: 0.8059\n",
            "Epoch 59/100\n",
            "404/404 [==============================] - 3s 8ms/step - loss: 0.0855 - auc_1: 0.9994 - val_loss: 0.9391 - val_auc_1: 0.7998\n",
            "Epoch 60/100\n",
            "404/404 [==============================] - 3s 8ms/step - loss: 0.0818 - auc_1: 0.9995 - val_loss: 0.8600 - val_auc_1: 0.8101\n",
            "Epoch 61/100\n",
            "404/404 [==============================] - 3s 8ms/step - loss: 0.0828 - auc_1: 0.9994 - val_loss: 0.9193 - val_auc_1: 0.8032\n",
            "Epoch 62/100\n",
            "404/404 [==============================] - 3s 8ms/step - loss: 0.0845 - auc_1: 0.9993 - val_loss: 0.8579 - val_auc_1: 0.8135\n",
            "Epoch 63/100\n",
            "404/404 [==============================] - 3s 8ms/step - loss: 0.0761 - auc_1: 0.9997 - val_loss: 0.8964 - val_auc_1: 0.8088\n",
            "Epoch 64/100\n",
            "404/404 [==============================] - 3s 8ms/step - loss: 0.0800 - auc_1: 0.9995 - val_loss: 0.8289 - val_auc_1: 0.8095\n",
            "Epoch 65/100\n",
            "404/404 [==============================] - 3s 8ms/step - loss: 0.0782 - auc_1: 0.9996 - val_loss: 0.9443 - val_auc_1: 0.8036\n",
            "Epoch 66/100\n",
            "404/404 [==============================] - 3s 8ms/step - loss: 0.0758 - auc_1: 0.9996 - val_loss: 1.0188 - val_auc_1: 0.7952\n",
            "Epoch 67/100\n",
            "404/404 [==============================] - 3s 8ms/step - loss: 0.0741 - auc_1: 0.9996 - val_loss: 0.9181 - val_auc_1: 0.8061\n",
            "Epoch 68/100\n",
            "404/404 [==============================] - 3s 8ms/step - loss: 0.0790 - auc_1: 0.9994 - val_loss: 0.8664 - val_auc_1: 0.8057\n",
            "Epoch 69/100\n",
            "404/404 [==============================] - 3s 8ms/step - loss: 0.0734 - auc_1: 0.9995 - val_loss: 0.9265 - val_auc_1: 0.8098\n",
            "Epoch 70/100\n",
            "404/404 [==============================] - 3s 8ms/step - loss: 0.0717 - auc_1: 0.9996 - val_loss: 0.9453 - val_auc_1: 0.8098\n",
            "Epoch 71/100\n",
            "404/404 [==============================] - 3s 8ms/step - loss: 0.0698 - auc_1: 0.9996 - val_loss: 0.9489 - val_auc_1: 0.7926\n",
            "Epoch 72/100\n",
            "404/404 [==============================] - 3s 8ms/step - loss: 0.0665 - auc_1: 0.9998 - val_loss: 0.9712 - val_auc_1: 0.7919\n",
            "Epoch 73/100\n",
            "404/404 [==============================] - 3s 8ms/step - loss: 0.0728 - auc_1: 0.9993 - val_loss: 0.9387 - val_auc_1: 0.8039\n",
            "Epoch 74/100\n",
            "404/404 [==============================] - 3s 8ms/step - loss: 0.0689 - auc_1: 0.9997 - val_loss: 0.9512 - val_auc_1: 0.8032\n",
            "Epoch 75/100\n",
            "404/404 [==============================] - 3s 8ms/step - loss: 0.0717 - auc_1: 0.9993 - val_loss: 0.9316 - val_auc_1: 0.8090\n",
            "Epoch 76/100\n",
            "404/404 [==============================] - 3s 8ms/step - loss: 0.0696 - auc_1: 0.9995 - val_loss: 0.9949 - val_auc_1: 0.8049\n",
            "Epoch 77/100\n",
            "404/404 [==============================] - 3s 8ms/step - loss: 0.0653 - auc_1: 0.9997 - val_loss: 0.8980 - val_auc_1: 0.8120\n",
            "Epoch 78/100\n",
            "404/404 [==============================] - 3s 8ms/step - loss: 0.0621 - auc_1: 0.9998 - val_loss: 0.9940 - val_auc_1: 0.8035\n",
            "Epoch 79/100\n",
            "404/404 [==============================] - 3s 8ms/step - loss: 0.0678 - auc_1: 0.9995 - val_loss: 0.9312 - val_auc_1: 0.8023\n",
            "Epoch 80/100\n",
            "404/404 [==============================] - 3s 8ms/step - loss: 0.0640 - auc_1: 0.9997 - val_loss: 0.9756 - val_auc_1: 0.8018\n",
            "Epoch 81/100\n",
            "404/404 [==============================] - 3s 8ms/step - loss: 0.0594 - auc_1: 0.9998 - val_loss: 0.9937 - val_auc_1: 0.7961\n",
            "Epoch 82/100\n",
            "404/404 [==============================] - 3s 8ms/step - loss: 0.0636 - auc_1: 0.9997 - val_loss: 0.9650 - val_auc_1: 0.8033\n",
            "Epoch 83/100\n",
            "404/404 [==============================] - 3s 8ms/step - loss: 0.0610 - auc_1: 0.9996 - val_loss: 0.9233 - val_auc_1: 0.8015\n",
            "Epoch 84/100\n",
            "404/404 [==============================] - 3s 8ms/step - loss: 0.0621 - auc_1: 0.9997 - val_loss: 0.9173 - val_auc_1: 0.7986\n",
            "Epoch 85/100\n",
            "404/404 [==============================] - 3s 8ms/step - loss: 0.0583 - auc_1: 0.9996 - val_loss: 0.9850 - val_auc_1: 0.8040\n",
            "Epoch 86/100\n",
            "404/404 [==============================] - 3s 8ms/step - loss: 0.0655 - auc_1: 0.9995 - val_loss: 0.9317 - val_auc_1: 0.7989\n",
            "Epoch 87/100\n",
            "404/404 [==============================] - 3s 8ms/step - loss: 0.0611 - auc_1: 0.9997 - val_loss: 0.9846 - val_auc_1: 0.7941\n",
            "Epoch 88/100\n",
            "404/404 [==============================] - 3s 8ms/step - loss: 0.0582 - auc_1: 0.9997 - val_loss: 0.9687 - val_auc_1: 0.7991\n",
            "Epoch 89/100\n",
            "404/404 [==============================] - 3s 8ms/step - loss: 0.0522 - auc_1: 0.9998 - val_loss: 0.9489 - val_auc_1: 0.8049\n",
            "Epoch 90/100\n",
            "404/404 [==============================] - 3s 8ms/step - loss: 0.0515 - auc_1: 0.9998 - val_loss: 0.9877 - val_auc_1: 0.7987\n",
            "Epoch 91/100\n",
            "404/404 [==============================] - 3s 8ms/step - loss: 0.0523 - auc_1: 0.9998 - val_loss: 0.9796 - val_auc_1: 0.7953\n",
            "Epoch 92/100\n",
            "404/404 [==============================] - 3s 8ms/step - loss: 0.0575 - auc_1: 0.9997 - val_loss: 0.9805 - val_auc_1: 0.8025\n",
            "Epoch 93/100\n",
            "404/404 [==============================] - 3s 8ms/step - loss: 0.0578 - auc_1: 0.9997 - val_loss: 1.0098 - val_auc_1: 0.7938\n",
            "Epoch 94/100\n",
            "404/404 [==============================] - 3s 8ms/step - loss: 0.0597 - auc_1: 0.9996 - val_loss: 0.9345 - val_auc_1: 0.7998\n",
            "Epoch 95/100\n",
            "404/404 [==============================] - 3s 8ms/step - loss: 0.0525 - auc_1: 0.9998 - val_loss: 0.9784 - val_auc_1: 0.8012\n",
            "Epoch 96/100\n",
            "404/404 [==============================] - 3s 8ms/step - loss: 0.0518 - auc_1: 0.9998 - val_loss: 0.9102 - val_auc_1: 0.8051\n",
            "Epoch 97/100\n",
            "404/404 [==============================] - 3s 8ms/step - loss: 0.0515 - auc_1: 0.9998 - val_loss: 0.9499 - val_auc_1: 0.7970\n",
            "Epoch 98/100\n",
            "404/404 [==============================] - 3s 8ms/step - loss: 0.0466 - auc_1: 0.9999 - val_loss: 0.9999 - val_auc_1: 0.7917\n",
            "Epoch 99/100\n",
            "404/404 [==============================] - 3s 8ms/step - loss: 0.0486 - auc_1: 0.9997 - val_loss: 0.9611 - val_auc_1: 0.8065\n",
            "Epoch 100/100\n",
            "404/404 [==============================] - 3s 8ms/step - loss: 0.0537 - auc_1: 0.9997 - val_loss: 0.9350 - val_auc_1: 0.7865\n"
          ]
        }
      ]
    },
    {
      "cell_type": "code",
      "metadata": {
        "execution": {
          "iopub.status.busy": "2021-09-09T08:54:56.564208Z",
          "iopub.execute_input": "2021-09-09T08:54:56.564589Z",
          "iopub.status.idle": "2021-09-09T08:54:56.821291Z",
          "shell.execute_reply.started": "2021-09-09T08:54:56.564557Z",
          "shell.execute_reply": "2021-09-09T08:54:56.820104Z"
        },
        "trusted": true,
        "id": "hOyjRAXkSg6P",
        "colab": {
          "base_uri": "https://localhost:8080/",
          "height": 513
        },
        "outputId": "668da011-b585-4ec6-f4d8-5e5aeaa0dd9e"
      },
      "source": [
        "plt.figure(figsize = (13,8))\n",
        "plt.plot(history.history[\"auc_1\"], label = \"Train Accuracy\")\n",
        "plt.plot(history.history[\"val_auc_1\"],label = \"Validation Accuracy\")\n",
        "plt.title(\"Accuracies\")\n",
        "plt.xlabel(\"Epochs\")\n",
        "plt.ylabel(\"Accuracy\")\n",
        "plt.legend()\n",
        "plt.show()"
      ],
      "execution_count": null,
      "outputs": [
        {
          "output_type": "display_data",
          "data": {
            "image/png": "[encoded data removed]",
            "text/plain": [
              "<Figure size 936x576 with 1 Axes>"
            ]
          },
          "metadata": {
            "needs_background": "light"
          }
        }
      ]
    },
    {
      "cell_type": "code",
      "metadata": {
        "execution": {
          "iopub.status.busy": "2021-09-09T08:55:16.009645Z",
          "iopub.execute_input": "2021-09-09T08:55:16.010058Z",
          "iopub.status.idle": "2021-09-09T08:55:16.225880Z",
          "shell.execute_reply.started": "2021-09-09T08:55:16.010024Z",
          "shell.execute_reply": "2021-09-09T08:55:16.224747Z"
        },
        "trusted": true,
        "id": "nsGxtkITSg6Q",
        "colab": {
          "base_uri": "https://localhost:8080/",
          "height": 513
        },
        "outputId": "5f28d8e4-fc28-4cee-d741-b6dc681c8383"
      },
      "source": [
        "plt.figure(figsize = (13,8))\n",
        "plt.plot(history.history[\"loss\"], label = \"Train Loss\")\n",
        "plt.plot(history.history[\"val_loss\"],label = \"Validation Loss\")\n",
        "plt.title(\"Losses\")\n",
        "plt.xlabel(\"Epochs\")\n",
        "plt.ylabel(\"Loss\")\n",
        "plt.legend()\n",
        "plt.show()"
      ],
      "execution_count": null,
      "outputs": [
        {
          "output_type": "display_data",
          "data": {
            "image/png": "[encoded data removed]",
            "text/plain": [
              "<Figure size 936x576 with 1 Axes>"
            ]
          },
          "metadata": {
            "needs_background": "light"
          }
        }
      ]
    },
    {
      "cell_type": "code",
      "metadata": {
        "colab": {
          "base_uri": "https://localhost:8080/"
        },
        "id": "AQTpXnuNzTBx",
        "outputId": "951b9ca6-8c2b-44d7-bb47-0ef19b6a6a14"
      },
      "source": [
        "#0.4 : 0.4 : 1\n",
        "history = model.fit(\n",
        "    x=X_train,\n",
        "    y=y_train,\n",
        "    epochs=N_EPOCHS,\n",
        "    steps_per_epoch=steps_per_epoch,\n",
        "    validation_data=(X_valid, y_valid),\n",
        ")"
      ],
      "execution_count": null,
      "outputs": [
        {
          "output_type": "stream",
          "name": "stdout",
          "text": [
            "Epoch 1/100\n",
            "620/620 [==============================] - 6s 9ms/step - loss: 6.9246 - auc_2: 0.6398 - val_loss: 4.7534 - val_auc_2: 0.7328\n",
            "Epoch 2/100\n",
            "620/620 [==============================] - 5s 8ms/step - loss: 3.6574 - auc_2: 0.7564 - val_loss: 2.8090 - val_auc_2: 0.7752\n",
            "Epoch 3/100\n",
            "620/620 [==============================] - 5s 8ms/step - loss: 2.2572 - auc_2: 0.8169 - val_loss: 1.8665 - val_auc_2: 0.8126\n",
            "Epoch 4/100\n",
            "620/620 [==============================] - 5s 8ms/step - loss: 1.5271 - auc_2: 0.8744 - val_loss: 1.3583 - val_auc_2: 0.8458\n",
            "Epoch 5/100\n",
            "620/620 [==============================] - 5s 8ms/step - loss: 1.1110 - auc_2: 0.9149 - val_loss: 1.0513 - val_auc_2: 0.8807\n",
            "Epoch 6/100\n",
            "620/620 [==============================] - 5s 8ms/step - loss: 0.8523 - auc_2: 0.9429 - val_loss: 0.9142 - val_auc_2: 0.8775\n",
            "Epoch 7/100\n",
            "620/620 [==============================] - 5s 8ms/step - loss: 0.6766 - auc_2: 0.9639 - val_loss: 0.8140 - val_auc_2: 0.8814\n",
            "Epoch 8/100\n",
            "620/620 [==============================] - 5s 8ms/step - loss: 0.5671 - auc_2: 0.9734 - val_loss: 0.7339 - val_auc_2: 0.8949\n",
            "Epoch 9/100\n",
            "620/620 [==============================] - 5s 8ms/step - loss: 0.4748 - auc_2: 0.9830 - val_loss: 0.6746 - val_auc_2: 0.9022\n",
            "Epoch 10/100\n",
            "620/620 [==============================] - 5s 8ms/step - loss: 0.4115 - auc_2: 0.9875 - val_loss: 0.6341 - val_auc_2: 0.9046\n",
            "Epoch 11/100\n",
            "620/620 [==============================] - 5s 8ms/step - loss: 0.3631 - auc_2: 0.9908 - val_loss: 0.6220 - val_auc_2: 0.9046\n",
            "Epoch 12/100\n",
            "620/620 [==============================] - 5s 8ms/step - loss: 0.3254 - auc_2: 0.9930 - val_loss: 0.5997 - val_auc_2: 0.9088\n",
            "Epoch 13/100\n",
            "620/620 [==============================] - 5s 8ms/step - loss: 0.3038 - auc_2: 0.9932 - val_loss: 0.5798 - val_auc_2: 0.9112\n",
            "Epoch 14/100\n",
            "620/620 [==============================] - 5s 8ms/step - loss: 0.2805 - auc_2: 0.9945 - val_loss: 0.6032 - val_auc_2: 0.9035\n",
            "Epoch 15/100\n",
            "620/620 [==============================] - 5s 8ms/step - loss: 0.2612 - auc_2: 0.9956 - val_loss: 0.5729 - val_auc_2: 0.9085\n",
            "Epoch 16/100\n",
            "620/620 [==============================] - 5s 8ms/step - loss: 0.2430 - auc_2: 0.9962 - val_loss: 0.5601 - val_auc_2: 0.9101\n",
            "Epoch 17/100\n",
            "620/620 [==============================] - 5s 8ms/step - loss: 0.2345 - auc_2: 0.9964 - val_loss: 0.5555 - val_auc_2: 0.9104\n",
            "Epoch 18/100\n",
            "620/620 [==============================] - 5s 8ms/step - loss: 0.2299 - auc_2: 0.9960 - val_loss: 0.5805 - val_auc_2: 0.8990\n",
            "Epoch 19/100\n",
            "620/620 [==============================] - 5s 8ms/step - loss: 0.2114 - auc_2: 0.9974 - val_loss: 0.5565 - val_auc_2: 0.9110\n",
            "Epoch 20/100\n",
            "620/620 [==============================] - 5s 8ms/step - loss: 0.2051 - auc_2: 0.9973 - val_loss: 0.5789 - val_auc_2: 0.9026\n",
            "Epoch 21/100\n",
            "620/620 [==============================] - 5s 8ms/step - loss: 0.2018 - auc_2: 0.9971 - val_loss: 0.5653 - val_auc_2: 0.9059\n",
            "Epoch 22/100\n",
            "620/620 [==============================] - 5s 8ms/step - loss: 0.1929 - auc_2: 0.9974 - val_loss: 0.5603 - val_auc_2: 0.9056\n",
            "Epoch 23/100\n",
            "620/620 [==============================] - 5s 8ms/step - loss: 0.1851 - auc_2: 0.9978 - val_loss: 0.5680 - val_auc_2: 0.9012\n",
            "Epoch 24/100\n",
            "620/620 [==============================] - 5s 8ms/step - loss: 0.1794 - auc_2: 0.9979 - val_loss: 0.5682 - val_auc_2: 0.9083\n",
            "Epoch 25/100\n",
            "620/620 [==============================] - 5s 8ms/step - loss: 0.1761 - auc_2: 0.9977 - val_loss: 0.5623 - val_auc_2: 0.9038\n",
            "Epoch 26/100\n",
            "620/620 [==============================] - 5s 8ms/step - loss: 0.1712 - auc_2: 0.9978 - val_loss: 0.5921 - val_auc_2: 0.9033\n",
            "Epoch 27/100\n",
            "620/620 [==============================] - 5s 8ms/step - loss: 0.1612 - auc_2: 0.9984 - val_loss: 0.6145 - val_auc_2: 0.8918\n",
            "Epoch 28/100\n",
            "620/620 [==============================] - 5s 8ms/step - loss: 0.1643 - auc_2: 0.9978 - val_loss: 0.5513 - val_auc_2: 0.9062\n",
            "Epoch 29/100\n",
            "620/620 [==============================] - 5s 8ms/step - loss: 0.1558 - auc_2: 0.9983 - val_loss: 0.5619 - val_auc_2: 0.9069\n",
            "Epoch 30/100\n",
            "620/620 [==============================] - 5s 8ms/step - loss: 0.1510 - auc_2: 0.9985 - val_loss: 0.5788 - val_auc_2: 0.9011\n",
            "Epoch 31/100\n",
            "620/620 [==============================] - 5s 8ms/step - loss: 0.1480 - auc_2: 0.9982 - val_loss: 0.5786 - val_auc_2: 0.9005\n",
            "Epoch 32/100\n",
            "620/620 [==============================] - 5s 8ms/step - loss: 0.1439 - auc_2: 0.9986 - val_loss: 0.5723 - val_auc_2: 0.8996\n",
            "Epoch 33/100\n",
            "620/620 [==============================] - 5s 8ms/step - loss: 0.1396 - auc_2: 0.9986 - val_loss: 0.5579 - val_auc_2: 0.9035\n",
            "Epoch 34/100\n",
            "620/620 [==============================] - 5s 8ms/step - loss: 0.1388 - auc_2: 0.9985 - val_loss: 0.5924 - val_auc_2: 0.8935\n",
            "Epoch 35/100\n",
            "620/620 [==============================] - 5s 8ms/step - loss: 0.1374 - auc_2: 0.9983 - val_loss: 0.5933 - val_auc_2: 0.8982\n",
            "Epoch 36/100\n",
            "620/620 [==============================] - 5s 8ms/step - loss: 0.1289 - auc_2: 0.9988 - val_loss: 0.5826 - val_auc_2: 0.8999\n",
            "Epoch 37/100\n",
            "620/620 [==============================] - 5s 8ms/step - loss: 0.1285 - auc_2: 0.9987 - val_loss: 0.5712 - val_auc_2: 0.8997\n",
            "Epoch 38/100\n",
            "620/620 [==============================] - 5s 8ms/step - loss: 0.1258 - auc_2: 0.9986 - val_loss: 0.5693 - val_auc_2: 0.8986\n",
            "Epoch 39/100\n",
            "620/620 [==============================] - 5s 8ms/step - loss: 0.1260 - auc_2: 0.9986 - val_loss: 0.6086 - val_auc_2: 0.8911\n",
            "Epoch 40/100\n",
            "620/620 [==============================] - 5s 8ms/step - loss: 0.1196 - auc_2: 0.9989 - val_loss: 0.5867 - val_auc_2: 0.8979\n",
            "Epoch 41/100\n",
            "620/620 [==============================] - 5s 8ms/step - loss: 0.1143 - auc_2: 0.9990 - val_loss: 0.6158 - val_auc_2: 0.8929\n",
            "Epoch 42/100\n",
            "620/620 [==============================] - 5s 8ms/step - loss: 0.1141 - auc_2: 0.9990 - val_loss: 0.6482 - val_auc_2: 0.8914\n",
            "Epoch 43/100\n",
            "620/620 [==============================] - 5s 8ms/step - loss: 0.1133 - auc_2: 0.9989 - val_loss: 0.5862 - val_auc_2: 0.8946\n",
            "Epoch 44/100\n",
            "620/620 [==============================] - 5s 8ms/step - loss: 0.1113 - auc_2: 0.9990 - val_loss: 0.5792 - val_auc_2: 0.8977\n",
            "Epoch 45/100\n",
            "620/620 [==============================] - 5s 8ms/step - loss: 0.1118 - auc_2: 0.9988 - val_loss: 0.6058 - val_auc_2: 0.8933\n",
            "Epoch 46/100\n",
            "620/620 [==============================] - 5s 8ms/step - loss: 0.1065 - auc_2: 0.9989 - val_loss: 0.5838 - val_auc_2: 0.8987\n",
            "Epoch 47/100\n",
            "620/620 [==============================] - 5s 8ms/step - loss: 0.1022 - auc_2: 0.9991 - val_loss: 0.6064 - val_auc_2: 0.8961\n",
            "Epoch 48/100\n",
            "620/620 [==============================] - 5s 8ms/step - loss: 0.1039 - auc_2: 0.9988 - val_loss: 0.5931 - val_auc_2: 0.8943\n",
            "Epoch 49/100\n",
            "620/620 [==============================] - 5s 8ms/step - loss: 0.1017 - auc_2: 0.9990 - val_loss: 0.5853 - val_auc_2: 0.8960\n",
            "Epoch 50/100\n",
            "620/620 [==============================] - 5s 8ms/step - loss: 0.0941 - auc_2: 0.9994 - val_loss: 0.6431 - val_auc_2: 0.8893\n",
            "Epoch 51/100\n",
            "620/620 [==============================] - 5s 8ms/step - loss: 0.0964 - auc_2: 0.9992 - val_loss: 0.6169 - val_auc_2: 0.8924\n",
            "Epoch 52/100\n",
            "620/620 [==============================] - 5s 8ms/step - loss: 0.0916 - auc_2: 0.9994 - val_loss: 0.6257 - val_auc_2: 0.8868\n",
            "Epoch 53/100\n",
            "620/620 [==============================] - 5s 8ms/step - loss: 0.0944 - auc_2: 0.9992 - val_loss: 0.6094 - val_auc_2: 0.8928\n",
            "Epoch 54/100\n",
            "620/620 [==============================] - 5s 8ms/step - loss: 0.0959 - auc_2: 0.9991 - val_loss: 0.5984 - val_auc_2: 0.8955\n",
            "Epoch 55/100\n",
            "620/620 [==============================] - 5s 8ms/step - loss: 0.0887 - auc_2: 0.9994 - val_loss: 0.6254 - val_auc_2: 0.8917\n",
            "Epoch 56/100\n",
            "620/620 [==============================] - 5s 8ms/step - loss: 0.0904 - auc_2: 0.9991 - val_loss: 0.6454 - val_auc_2: 0.8895\n",
            "Epoch 57/100\n",
            "620/620 [==============================] - 5s 8ms/step - loss: 0.0881 - auc_2: 0.9993 - val_loss: 0.5766 - val_auc_2: 0.8971\n",
            "Epoch 58/100\n",
            "620/620 [==============================] - 5s 8ms/step - loss: 0.0860 - auc_2: 0.9992 - val_loss: 0.5875 - val_auc_2: 0.8952\n",
            "Epoch 59/100\n",
            "620/620 [==============================] - 5s 8ms/step - loss: 0.0834 - auc_2: 0.9993 - val_loss: 0.6199 - val_auc_2: 0.8920\n",
            "Epoch 60/100\n",
            "620/620 [==============================] - 5s 8ms/step - loss: 0.0831 - auc_2: 0.9993 - val_loss: 0.6264 - val_auc_2: 0.8931\n",
            "Epoch 61/100\n",
            "620/620 [==============================] - 5s 8ms/step - loss: 0.0810 - auc_2: 0.9993 - val_loss: 0.6401 - val_auc_2: 0.8857\n",
            "Epoch 62/100\n",
            "620/620 [==============================] - 5s 8ms/step - loss: 0.0804 - auc_2: 0.9993 - val_loss: 0.6677 - val_auc_2: 0.8854\n",
            "Epoch 63/100\n",
            "620/620 [==============================] - 5s 8ms/step - loss: 0.0789 - auc_2: 0.9993 - val_loss: 0.6122 - val_auc_2: 0.8894\n",
            "Epoch 64/100\n",
            "620/620 [==============================] - 5s 8ms/step - loss: 0.0785 - auc_2: 0.9994 - val_loss: 0.6549 - val_auc_2: 0.8837\n",
            "Epoch 65/100\n",
            "620/620 [==============================] - 5s 8ms/step - loss: 0.0786 - auc_2: 0.9993 - val_loss: 0.6376 - val_auc_2: 0.8896\n",
            "Epoch 66/100\n",
            "620/620 [==============================] - 5s 8ms/step - loss: 0.0699 - auc_2: 0.9997 - val_loss: 0.6475 - val_auc_2: 0.8821\n",
            "Epoch 67/100\n",
            "620/620 [==============================] - 5s 8ms/step - loss: 0.0748 - auc_2: 0.9994 - val_loss: 0.6575 - val_auc_2: 0.8849\n",
            "Epoch 68/100\n",
            "620/620 [==============================] - 5s 8ms/step - loss: 0.0747 - auc_2: 0.9995 - val_loss: 0.6512 - val_auc_2: 0.8863\n",
            "Epoch 69/100\n",
            "620/620 [==============================] - 5s 8ms/step - loss: 0.0754 - auc_2: 0.9993 - val_loss: 0.6566 - val_auc_2: 0.8846\n",
            "Epoch 70/100\n",
            "620/620 [==============================] - 5s 8ms/step - loss: 0.0722 - auc_2: 0.9995 - val_loss: 0.6554 - val_auc_2: 0.8892\n",
            "Epoch 71/100\n",
            "620/620 [==============================] - 5s 8ms/step - loss: 0.0725 - auc_2: 0.9994 - val_loss: 0.6839 - val_auc_2: 0.8847\n",
            "Epoch 72/100\n",
            "620/620 [==============================] - 5s 8ms/step - loss: 0.0677 - auc_2: 0.9996 - val_loss: 0.6225 - val_auc_2: 0.8888\n",
            "Epoch 73/100\n",
            "620/620 [==============================] - 5s 8ms/step - loss: 0.0654 - auc_2: 0.9997 - val_loss: 0.6919 - val_auc_2: 0.8803\n",
            "Epoch 74/100\n",
            "620/620 [==============================] - 5s 8ms/step - loss: 0.0693 - auc_2: 0.9994 - val_loss: 0.6902 - val_auc_2: 0.8763\n",
            "Epoch 75/100\n",
            "620/620 [==============================] - 5s 8ms/step - loss: 0.0668 - auc_2: 0.9995 - val_loss: 0.6313 - val_auc_2: 0.8884\n",
            "Epoch 76/100\n",
            "620/620 [==============================] - 5s 8ms/step - loss: 0.0685 - auc_2: 0.9994 - val_loss: 0.6482 - val_auc_2: 0.8808\n",
            "Epoch 77/100\n",
            "620/620 [==============================] - 5s 8ms/step - loss: 0.0659 - auc_2: 0.9995 - val_loss: 0.6379 - val_auc_2: 0.8904\n",
            "Epoch 78/100\n",
            "620/620 [==============================] - 5s 8ms/step - loss: 0.0653 - auc_2: 0.9996 - val_loss: 0.6302 - val_auc_2: 0.8838\n",
            "Epoch 79/100\n",
            "620/620 [==============================] - 5s 8ms/step - loss: 0.0648 - auc_2: 0.9995 - val_loss: 0.6419 - val_auc_2: 0.8881\n",
            "Epoch 80/100\n",
            "620/620 [==============================] - 5s 8ms/step - loss: 0.0598 - auc_2: 0.9996 - val_loss: 0.6670 - val_auc_2: 0.8838\n",
            "Epoch 81/100\n",
            "620/620 [==============================] - 5s 8ms/step - loss: 0.0620 - auc_2: 0.9996 - val_loss: 0.6755 - val_auc_2: 0.8864\n",
            "Epoch 82/100\n",
            "620/620 [==============================] - 5s 8ms/step - loss: 0.0582 - auc_2: 0.9996 - val_loss: 0.7060 - val_auc_2: 0.8790\n",
            "Epoch 83/100\n",
            "620/620 [==============================] - 5s 8ms/step - loss: 0.0586 - auc_2: 0.9996 - val_loss: 0.6915 - val_auc_2: 0.8842\n",
            "Epoch 84/100\n",
            "620/620 [==============================] - 5s 8ms/step - loss: 0.0588 - auc_2: 0.9996 - val_loss: 0.6610 - val_auc_2: 0.8861\n",
            "Epoch 85/100\n",
            "620/620 [==============================] - 5s 8ms/step - loss: 0.0577 - auc_2: 0.9996 - val_loss: 0.6715 - val_auc_2: 0.8828\n",
            "Epoch 86/100\n",
            "620/620 [==============================] - 5s 8ms/step - loss: 0.0555 - auc_2: 0.9997 - val_loss: 0.8141 - val_auc_2: 0.8563\n",
            "Epoch 87/100\n",
            "620/620 [==============================] - 5s 8ms/step - loss: 0.0601 - auc_2: 0.9995 - val_loss: 0.7635 - val_auc_2: 0.8620\n",
            "Epoch 88/100\n",
            "620/620 [==============================] - 5s 8ms/step - loss: 0.0564 - auc_2: 0.9997 - val_loss: 0.6693 - val_auc_2: 0.8856\n",
            "Epoch 89/100\n",
            "620/620 [==============================] - 5s 8ms/step - loss: 0.0566 - auc_2: 0.9996 - val_loss: 0.6765 - val_auc_2: 0.8835\n",
            "Epoch 90/100\n",
            "620/620 [==============================] - 5s 8ms/step - loss: 0.0499 - auc_2: 0.9997 - val_loss: 0.7002 - val_auc_2: 0.8784\n",
            "Epoch 91/100\n",
            "620/620 [==============================] - 5s 8ms/step - loss: 0.0548 - auc_2: 0.9996 - val_loss: 0.6325 - val_auc_2: 0.8878\n",
            "Epoch 92/100\n",
            "620/620 [==============================] - 5s 8ms/step - loss: 0.0570 - auc_2: 0.9995 - val_loss: 0.6623 - val_auc_2: 0.8837\n",
            "Epoch 93/100\n",
            "620/620 [==============================] - 5s 8ms/step - loss: 0.0535 - auc_2: 0.9997 - val_loss: 0.6901 - val_auc_2: 0.8820\n",
            "Epoch 94/100\n",
            "620/620 [==============================] - 5s 8ms/step - loss: 0.0516 - auc_2: 0.9997 - val_loss: 0.6533 - val_auc_2: 0.8839\n",
            "Epoch 95/100\n",
            "620/620 [==============================] - 5s 8ms/step - loss: 0.0548 - auc_2: 0.9995 - val_loss: 0.7128 - val_auc_2: 0.8761\n",
            "Epoch 96/100\n",
            "620/620 [==============================] - 5s 8ms/step - loss: 0.0535 - auc_2: 0.9996 - val_loss: 0.6492 - val_auc_2: 0.8854\n",
            "Epoch 97/100\n",
            "620/620 [==============================] - 5s 8ms/step - loss: 0.0479 - auc_2: 0.9998 - val_loss: 0.6715 - val_auc_2: 0.8825\n",
            "Epoch 98/100\n",
            "620/620 [==============================] - 5s 8ms/step - loss: 0.0517 - auc_2: 0.9996 - val_loss: 0.6593 - val_auc_2: 0.8850\n",
            "Epoch 99/100\n",
            "620/620 [==============================] - 5s 8ms/step - loss: 0.0471 - auc_2: 0.9998 - val_loss: 0.6805 - val_auc_2: 0.8854\n",
            "Epoch 100/100\n",
            "620/620 [==============================] - 5s 8ms/step - loss: 0.0463 - auc_2: 0.9998 - val_loss: 0.6993 - val_auc_2: 0.8785\n"
          ]
        }
      ]
    },
    {
      "cell_type": "code",
      "metadata": {
        "colab": {
          "base_uri": "https://localhost:8080/",
          "height": 513
        },
        "id": "128ABPcjzbjn",
        "outputId": "47d73325-72bf-4b10-8910-2d282b7cdaf3"
      },
      "source": [
        "plt.figure(figsize = (13,8))\n",
        "plt.plot(history.history[\"auc_2\"], label = \"Train Accuracy\")\n",
        "plt.plot(history.history[\"val_auc_2\"],label = \"Validation Accuracy\")\n",
        "plt.title(\"Accuracies\")\n",
        "plt.xlabel(\"Epochs\")\n",
        "plt.ylabel(\"Accuracy\")\n",
        "plt.legend()\n",
        "plt.show()"
      ],
      "execution_count": null,
      "outputs": [
        {
          "output_type": "display_data",
          "data": {
            "image/png": "[encoded data removed]",
            "text/plain": [
              "<Figure size 936x576 with 1 Axes>"
            ]
          },
          "metadata": {
            "needs_background": "light"
          }
        }
      ]
    },
    {
      "cell_type": "code",
      "metadata": {
        "colab": {
          "base_uri": "https://localhost:8080/",
          "height": 513
        },
        "id": "4rHHAH82zd_Z",
        "outputId": "b7c56723-eebc-4c51-da3a-86d6cc298938"
      },
      "source": [
        "plt.figure(figsize = (13,8))\n",
        "plt.plot(history.history[\"loss\"], label = \"Train Loss\")\n",
        "plt.plot(history.history[\"val_loss\"],label = \"Validation Loss\")\n",
        "plt.title(\"Losses\")\n",
        "plt.xlabel(\"Epochs\")\n",
        "plt.ylabel(\"Loss\")\n",
        "plt.legend()\n",
        "plt.show()"
      ],
      "execution_count": null,
      "outputs": [
        {
          "output_type": "display_data",
          "data": {
            "image/png": "[encoded data removed]",
            "text/plain": [
              "<Figure size 936x576 with 1 Axes>"
            ]
          },
          "metadata": {
            "needs_background": "light"
          }
        }
      ]
    },
    {
      "cell_type": "code",
      "metadata": {
        "colab": {
          "base_uri": "https://localhost:8080/"
        },
        "id": "IJ7G6hLB_UY6",
        "outputId": "1132292e-5502-4e5c-cf11-d8b6be6e7a68"
      },
      "source": [
        "history = model.fit(\n",
        "    x=X_train,\n",
        "    y=y_train,\n",
        "    epochs=N_EPOCHS,\n",
        "    steps_per_epoch=steps_per_epoch,\n",
        "    validation_data=(X_valid, y_valid),\n",
        ")"
      ],
      "execution_count": null,
      "outputs": [
        {
          "output_type": "stream",
          "name": "stdout",
          "text": [
            "Epoch 1/60\n",
            "620/620 [==============================] - 12s 17ms/step - loss: 6.5056 - auc_3: 0.6921 - val_loss: 3.6615 - val_auc_3: 0.7268\n",
            "Epoch 2/60\n",
            "620/620 [==============================] - 10s 16ms/step - loss: 2.4114 - auc_3: 0.8683 - val_loss: 1.7248 - val_auc_3: 0.8494\n",
            "Epoch 3/60\n",
            "620/620 [==============================] - 10s 16ms/step - loss: 1.2182 - auc_3: 0.9525 - val_loss: 1.1112 - val_auc_3: 0.8966\n",
            "Epoch 4/60\n",
            "620/620 [==============================] - 10s 16ms/step - loss: 0.7681 - auc_3: 0.9823 - val_loss: 0.8549 - val_auc_3: 0.9242\n",
            "Epoch 5/60\n",
            "620/620 [==============================] - 10s 16ms/step - loss: 0.5782 - auc_3: 0.9909 - val_loss: 0.7731 - val_auc_3: 0.9182\n",
            "Epoch 6/60\n",
            "620/620 [==============================] - 10s 16ms/step - loss: 0.4884 - auc_3: 0.9930 - val_loss: 0.7645 - val_auc_3: 0.9093\n",
            "Epoch 7/60\n",
            "620/620 [==============================] - 10s 16ms/step - loss: 0.4393 - auc_3: 0.9947 - val_loss: 0.6791 - val_auc_3: 0.9258\n",
            "Epoch 8/60\n",
            "620/620 [==============================] - 10s 16ms/step - loss: 0.4126 - auc_3: 0.9947 - val_loss: 0.6512 - val_auc_3: 0.9312\n",
            "Epoch 9/60\n",
            "620/620 [==============================] - 10s 16ms/step - loss: 0.3668 - auc_3: 0.9963 - val_loss: 0.6599 - val_auc_3: 0.9199\n",
            "Epoch 10/60\n",
            "620/620 [==============================] - 10s 16ms/step - loss: 0.3533 - auc_3: 0.9962 - val_loss: 0.6342 - val_auc_3: 0.9243\n",
            "Epoch 11/60\n",
            "620/620 [==============================] - 10s 16ms/step - loss: 0.3329 - auc_3: 0.9967 - val_loss: 0.6374 - val_auc_3: 0.9188\n",
            "Epoch 12/60\n",
            "620/620 [==============================] - 10s 16ms/step - loss: 0.3067 - auc_3: 0.9976 - val_loss: 0.6014 - val_auc_3: 0.9251\n",
            "Epoch 13/60\n",
            "620/620 [==============================] - 10s 16ms/step - loss: 0.2737 - auc_3: 0.9984 - val_loss: 0.6073 - val_auc_3: 0.9162\n",
            "Epoch 14/60\n",
            "620/620 [==============================] - 10s 16ms/step - loss: 0.2840 - auc_3: 0.9972 - val_loss: 0.5978 - val_auc_3: 0.9240\n",
            "Epoch 15/60\n",
            "620/620 [==============================] - 10s 16ms/step - loss: 0.2620 - auc_3: 0.9983 - val_loss: 0.5892 - val_auc_3: 0.9209\n",
            "Epoch 16/60\n",
            "620/620 [==============================] - 10s 16ms/step - loss: 0.2518 - auc_3: 0.9981 - val_loss: 0.5874 - val_auc_3: 0.9200\n",
            "Epoch 17/60\n",
            "620/620 [==============================] - 10s 16ms/step - loss: 0.2467 - auc_3: 0.9982 - val_loss: 0.5598 - val_auc_3: 0.9248\n",
            "Epoch 18/60\n",
            "620/620 [==============================] - 10s 16ms/step - loss: 0.2326 - auc_3: 0.9984 - val_loss: 0.6160 - val_auc_3: 0.9117\n",
            "Epoch 19/60\n",
            "620/620 [==============================] - 10s 16ms/step - loss: 0.2195 - auc_3: 0.9988 - val_loss: 0.5619 - val_auc_3: 0.9221\n",
            "Epoch 20/60\n",
            "620/620 [==============================] - 10s 16ms/step - loss: 0.2055 - auc_3: 0.9988 - val_loss: 0.5848 - val_auc_3: 0.9147\n",
            "Epoch 21/60\n",
            "620/620 [==============================] - 10s 16ms/step - loss: 0.2051 - auc_3: 0.9987 - val_loss: 0.5611 - val_auc_3: 0.9180\n",
            "Epoch 22/60\n",
            "620/620 [==============================] - 10s 16ms/step - loss: 0.1983 - auc_3: 0.9988 - val_loss: 0.5949 - val_auc_3: 0.9104\n",
            "Epoch 23/60\n",
            "620/620 [==============================] - 10s 16ms/step - loss: 0.1826 - auc_3: 0.9992 - val_loss: 0.5904 - val_auc_3: 0.9128\n",
            "Epoch 24/60\n",
            "620/620 [==============================] - 10s 16ms/step - loss: 0.1892 - auc_3: 0.9985 - val_loss: 0.5593 - val_auc_3: 0.9171\n",
            "Epoch 25/60\n",
            "620/620 [==============================] - 10s 16ms/step - loss: 0.1768 - auc_3: 0.9991 - val_loss: 0.5652 - val_auc_3: 0.9153\n",
            "Epoch 26/60\n",
            "620/620 [==============================] - 10s 16ms/step - loss: 0.1613 - auc_3: 0.9994 - val_loss: 0.5575 - val_auc_3: 0.9166\n",
            "Epoch 27/60\n",
            "620/620 [==============================] - 10s 16ms/step - loss: 0.1709 - auc_3: 0.9988 - val_loss: 0.5872 - val_auc_3: 0.9097\n",
            "Epoch 28/60\n",
            "620/620 [==============================] - 10s 16ms/step - loss: 0.1665 - auc_3: 0.9989 - val_loss: 0.6103 - val_auc_3: 0.9083\n",
            "Epoch 29/60\n",
            "620/620 [==============================] - 10s 16ms/step - loss: 0.1665 - auc_3: 0.9989 - val_loss: 0.5582 - val_auc_3: 0.9142\n",
            "Epoch 30/60\n",
            "620/620 [==============================] - 10s 16ms/step - loss: 0.1522 - auc_3: 0.9993 - val_loss: 0.5293 - val_auc_3: 0.9179\n",
            "Epoch 31/60\n",
            "620/620 [==============================] - 10s 16ms/step - loss: 0.1386 - auc_3: 0.9996 - val_loss: 0.5356 - val_auc_3: 0.9163\n",
            "Epoch 32/60\n",
            "620/620 [==============================] - 10s 16ms/step - loss: 0.1447 - auc_3: 0.9992 - val_loss: 0.6336 - val_auc_3: 0.8937\n",
            "Epoch 33/60\n",
            "620/620 [==============================] - 10s 16ms/step - loss: 0.1475 - auc_3: 0.9991 - val_loss: 0.5655 - val_auc_3: 0.9131\n",
            "Epoch 34/60\n",
            "620/620 [==============================] - 10s 16ms/step - loss: 0.1368 - auc_3: 0.9993 - val_loss: 0.5971 - val_auc_3: 0.9056\n",
            "Epoch 35/60\n",
            "620/620 [==============================] - 10s 16ms/step - loss: 0.1311 - auc_3: 0.9994 - val_loss: 0.5623 - val_auc_3: 0.9104\n",
            "Epoch 36/60\n",
            "620/620 [==============================] - 10s 16ms/step - loss: 0.1274 - auc_3: 0.9995 - val_loss: 0.5966 - val_auc_3: 0.9027\n",
            "Epoch 37/60\n",
            "620/620 [==============================] - 10s 16ms/step - loss: 0.1338 - auc_3: 0.9992 - val_loss: 0.5731 - val_auc_3: 0.9096\n",
            "Epoch 38/60\n",
            "620/620 [==============================] - 10s 16ms/step - loss: 0.1325 - auc_3: 0.9992 - val_loss: 0.6077 - val_auc_3: 0.9030\n",
            "Epoch 39/60\n",
            "620/620 [==============================] - 10s 16ms/step - loss: 0.1302 - auc_3: 0.9992 - val_loss: 0.5591 - val_auc_3: 0.9099\n",
            "Epoch 40/60\n",
            "620/620 [==============================] - 10s 16ms/step - loss: 0.1171 - auc_3: 0.9996 - val_loss: 0.6159 - val_auc_3: 0.8976\n",
            "Epoch 41/60\n",
            "620/620 [==============================] - 10s 16ms/step - loss: 0.1178 - auc_3: 0.9995 - val_loss: 0.5831 - val_auc_3: 0.9044\n",
            "Epoch 42/60\n",
            "620/620 [==============================] - 10s 16ms/step - loss: 0.1166 - auc_3: 0.9995 - val_loss: 0.6143 - val_auc_3: 0.8984\n",
            "Epoch 43/60\n",
            "620/620 [==============================] - 10s 16ms/step - loss: 0.1151 - auc_3: 0.9994 - val_loss: 0.5952 - val_auc_3: 0.9023\n",
            "Epoch 44/60\n",
            "620/620 [==============================] - 10s 16ms/step - loss: 0.1139 - auc_3: 0.9995 - val_loss: 0.6037 - val_auc_3: 0.9014\n",
            "Epoch 45/60\n",
            "620/620 [==============================] - 10s 16ms/step - loss: 0.1097 - auc_3: 0.9995 - val_loss: 0.6074 - val_auc_3: 0.9000\n",
            "Epoch 46/60\n",
            "620/620 [==============================] - 10s 16ms/step - loss: 0.1136 - auc_3: 0.9993 - val_loss: 0.5856 - val_auc_3: 0.9042\n",
            "Epoch 47/60\n",
            "620/620 [==============================] - 10s 16ms/step - loss: 0.1082 - auc_3: 0.9995 - val_loss: 0.6277 - val_auc_3: 0.8950\n",
            "Epoch 48/60\n",
            "620/620 [==============================] - 10s 16ms/step - loss: 0.1018 - auc_3: 0.9997 - val_loss: 0.5836 - val_auc_3: 0.9029\n",
            "Epoch 49/60\n",
            "620/620 [==============================] - 10s 16ms/step - loss: 0.1055 - auc_3: 0.9994 - val_loss: 0.5861 - val_auc_3: 0.9036\n",
            "Epoch 50/60\n",
            "620/620 [==============================] - 10s 16ms/step - loss: 0.1036 - auc_3: 0.9995 - val_loss: 0.6570 - val_auc_3: 0.8891\n",
            "Epoch 51/60\n",
            "620/620 [==============================] - 10s 16ms/step - loss: 0.1062 - auc_3: 0.9994 - val_loss: 0.6165 - val_auc_3: 0.9004\n",
            "Epoch 52/60\n",
            "620/620 [==============================] - 10s 16ms/step - loss: 0.0995 - auc_3: 0.9996 - val_loss: 0.6056 - val_auc_3: 0.9008\n",
            "Epoch 53/60\n",
            "620/620 [==============================] - 10s 16ms/step - loss: 0.0923 - auc_3: 0.9996 - val_loss: 0.6259 - val_auc_3: 0.8889\n",
            "Epoch 54/60\n",
            "620/620 [==============================] - 10s 16ms/step - loss: 0.0954 - auc_3: 0.9996 - val_loss: 0.5754 - val_auc_3: 0.9033\n",
            "Epoch 55/60\n",
            "620/620 [==============================] - 10s 16ms/step - loss: 0.0866 - auc_3: 0.9997 - val_loss: 0.6198 - val_auc_3: 0.8980\n",
            "Epoch 56/60\n",
            "620/620 [==============================] - 10s 16ms/step - loss: 0.0903 - auc_3: 0.9997 - val_loss: 0.6257 - val_auc_3: 0.8957\n",
            "Epoch 57/60\n",
            "620/620 [==============================] - 10s 16ms/step - loss: 0.0901 - auc_3: 0.9996 - val_loss: 0.6025 - val_auc_3: 0.9001\n",
            "Epoch 58/60\n",
            "620/620 [==============================] - 10s 16ms/step - loss: 0.0862 - auc_3: 0.9996 - val_loss: 0.6088 - val_auc_3: 0.8966\n",
            "Epoch 59/60\n",
            "620/620 [==============================] - 10s 16ms/step - loss: 0.0860 - auc_3: 0.9996 - val_loss: 0.6025 - val_auc_3: 0.8984\n",
            "Epoch 60/60\n",
            "620/620 [==============================] - 10s 16ms/step - loss: 0.0890 - auc_3: 0.9995 - val_loss: 0.6167 - val_auc_3: 0.8953\n"
          ]
        }
      ]
    },
    {
      "cell_type": "code",
      "metadata": {
        "colab": {
          "base_uri": "https://localhost:8080/",
          "height": 513
        },
        "id": "dVTni351_WqE",
        "outputId": "fa3a0b2f-3ddb-44fc-d1f7-97f137d80909"
      },
      "source": [
        "plt.figure(figsize = (13,8))\n",
        "plt.plot(history.history[\"auc_3\"], label = \"Train Accuracy\")\n",
        "plt.plot(history.history[\"val_auc_3\"],label = \"Validation Accuracy\")\n",
        "plt.title(\"Accuracies\")\n",
        "plt.xlabel(\"Epochs\")\n",
        "plt.ylabel(\"Accuracy\")\n",
        "plt.legend()\n",
        "plt.show()"
      ],
      "execution_count": null,
      "outputs": [
        {
          "output_type": "display_data",
          "data": {
            "image/png": "[encoded data removed]",
            "text/plain": [
              "<Figure size 936x576 with 1 Axes>"
            ]
          },
          "metadata": {
            "needs_background": "light"
          }
        }
      ]
    },
    {
      "cell_type": "code",
      "metadata": {
        "colab": {
          "base_uri": "https://localhost:8080/",
          "height": 513
        },
        "id": "n0T_ipbw_ZPp",
        "outputId": "bc56829f-15eb-49e0-d877-8bc0efbd9852"
      },
      "source": [
        "plt.figure(figsize = (13,8))\n",
        "plt.plot(history.history[\"loss\"], label = \"Train Loss\")\n",
        "plt.plot(history.history[\"val_loss\"],label = \"Validation Loss\")\n",
        "plt.title(\"Losses\")\n",
        "plt.xlabel(\"Epochs\")\n",
        "plt.ylabel(\"Loss\")\n",
        "plt.legend()\n",
        "plt.show()"
      ],
      "execution_count": null,
      "outputs": [
        {
          "output_type": "display_data",
          "data": {
            "image/png": "[encoded data removed]",
            "text/plain": [
              "<Figure size 936x576 with 1 Axes>"
            ]
          },
          "metadata": {
            "needs_background": "light"
          }
        }
      ]
    },
    {
      "cell_type": "code",
      "metadata": {
        "colab": {
          "base_uri": "https://localhost:8080/"
        },
        "id": "dGIWMB0MMS1p",
        "outputId": "e0420434-bcbf-4bb7-e37d-78e974f04a57"
      },
      "source": [
        "#effi B7\n",
        "history = model.fit(\n",
        "    x=X_train,\n",
        "    y=y_train,\n",
        "    epochs=N_EPOCHS,\n",
        "    steps_per_epoch=steps_per_epoch,\n",
        "    validation_data=(X_valid, y_valid),\n",
        ")"
      ],
      "execution_count": null,
      "outputs": [
        {
          "output_type": "stream",
          "name": "stdout",
          "text": [
            "Epoch 1/60\n",
            "620/620 [==============================] - 11s 17ms/step - loss: 6.6009 - auc_4: 0.6708 - val_loss: 3.7604 - val_auc_4: 0.7377\n",
            "Epoch 2/60\n",
            "620/620 [==============================] - 10s 16ms/step - loss: 2.5201 - auc_4: 0.8441 - val_loss: 1.7522 - val_auc_4: 0.8621\n",
            "Epoch 3/60\n",
            "620/620 [==============================] - 10s 16ms/step - loss: 1.2654 - auc_4: 0.9453 - val_loss: 1.1292 - val_auc_4: 0.8955\n",
            "Epoch 4/60\n",
            "620/620 [==============================] - 10s 16ms/step - loss: 0.7854 - auc_4: 0.9810 - val_loss: 0.8996 - val_auc_4: 0.9074\n",
            "Epoch 5/60\n",
            "620/620 [==============================] - 10s 16ms/step - loss: 0.5817 - auc_4: 0.9909 - val_loss: 0.7880 - val_auc_4: 0.9134\n",
            "Epoch 6/60\n",
            "620/620 [==============================] - 10s 16ms/step - loss: 0.4791 - auc_4: 0.9934 - val_loss: 0.7278 - val_auc_4: 0.9180\n",
            "Epoch 7/60\n",
            "620/620 [==============================] - 10s 16ms/step - loss: 0.4315 - auc_4: 0.9946 - val_loss: 0.7248 - val_auc_4: 0.9097\n",
            "Epoch 8/60\n",
            "620/620 [==============================] - 10s 16ms/step - loss: 0.3860 - auc_4: 0.9960 - val_loss: 0.6649 - val_auc_4: 0.9201\n",
            "Epoch 9/60\n",
            "620/620 [==============================] - 10s 16ms/step - loss: 0.3528 - auc_4: 0.9964 - val_loss: 0.6921 - val_auc_4: 0.9090\n",
            "Epoch 10/60\n",
            "620/620 [==============================] - 10s 16ms/step - loss: 0.3339 - auc_4: 0.9969 - val_loss: 0.6704 - val_auc_4: 0.9090\n",
            "Epoch 11/60\n",
            "620/620 [==============================] - 10s 16ms/step - loss: 0.3090 - auc_4: 0.9973 - val_loss: 0.7209 - val_auc_4: 0.8927\n",
            "Epoch 12/60\n",
            "620/620 [==============================] - 10s 16ms/step - loss: 0.2904 - auc_4: 0.9979 - val_loss: 0.6398 - val_auc_4: 0.9120\n",
            "Epoch 13/60\n",
            "620/620 [==============================] - 10s 16ms/step - loss: 0.2688 - auc_4: 0.9980 - val_loss: 0.6281 - val_auc_4: 0.9118\n",
            "Epoch 14/60\n",
            "620/620 [==============================] - 10s 16ms/step - loss: 0.2548 - auc_4: 0.9980 - val_loss: 0.6404 - val_auc_4: 0.9045\n",
            "Epoch 15/60\n",
            "620/620 [==============================] - 10s 16ms/step - loss: 0.2511 - auc_4: 0.9978 - val_loss: 0.6234 - val_auc_4: 0.9073\n",
            "Epoch 16/60\n",
            "620/620 [==============================] - 10s 16ms/step - loss: 0.2325 - auc_4: 0.9984 - val_loss: 0.6089 - val_auc_4: 0.9100\n",
            "Epoch 17/60\n",
            "620/620 [==============================] - 10s 16ms/step - loss: 0.2278 - auc_4: 0.9984 - val_loss: 0.6251 - val_auc_4: 0.9071\n",
            "Epoch 18/60\n",
            "620/620 [==============================] - 10s 16ms/step - loss: 0.2157 - auc_4: 0.9986 - val_loss: 0.6137 - val_auc_4: 0.9026\n",
            "Epoch 19/60\n",
            "620/620 [==============================] - 10s 16ms/step - loss: 0.2142 - auc_4: 0.9985 - val_loss: 0.6176 - val_auc_4: 0.9085\n",
            "Epoch 20/60\n",
            "620/620 [==============================] - 10s 16ms/step - loss: 0.2028 - auc_4: 0.9988 - val_loss: 0.6100 - val_auc_4: 0.9043\n",
            "Epoch 21/60\n",
            "620/620 [==============================] - 10s 16ms/step - loss: 0.1900 - auc_4: 0.9990 - val_loss: 0.6311 - val_auc_4: 0.9017\n",
            "Epoch 22/60\n",
            "620/620 [==============================] - 10s 16ms/step - loss: 0.1833 - auc_4: 0.9990 - val_loss: 0.6224 - val_auc_4: 0.9001\n",
            "Epoch 23/60\n",
            "620/620 [==============================] - 10s 16ms/step - loss: 0.1807 - auc_4: 0.9989 - val_loss: 0.6313 - val_auc_4: 0.8978\n",
            "Epoch 24/60\n",
            "620/620 [==============================] - 10s 16ms/step - loss: 0.1800 - auc_4: 0.9988 - val_loss: 0.6085 - val_auc_4: 0.9050\n",
            "Epoch 25/60\n",
            "620/620 [==============================] - 10s 16ms/step - loss: 0.1681 - auc_4: 0.9992 - val_loss: 0.6005 - val_auc_4: 0.9031\n",
            "Epoch 26/60\n",
            "620/620 [==============================] - 10s 16ms/step - loss: 0.1653 - auc_4: 0.9991 - val_loss: 0.6101 - val_auc_4: 0.8998\n",
            "Epoch 27/60\n",
            "620/620 [==============================] - 10s 16ms/step - loss: 0.1631 - auc_4: 0.9992 - val_loss: 0.6230 - val_auc_4: 0.8999\n",
            "Epoch 28/60\n",
            "620/620 [==============================] - 10s 16ms/step - loss: 0.1589 - auc_4: 0.9991 - val_loss: 0.6059 - val_auc_4: 0.9042\n",
            "Epoch 29/60\n",
            "620/620 [==============================] - 10s 16ms/step - loss: 0.1535 - auc_4: 0.9992 - val_loss: 0.6401 - val_auc_4: 0.8936\n",
            "Epoch 30/60\n",
            "620/620 [==============================] - 10s 16ms/step - loss: 0.1475 - auc_4: 0.9992 - val_loss: 0.6522 - val_auc_4: 0.8876\n",
            "Epoch 31/60\n",
            "620/620 [==============================] - 10s 16ms/step - loss: 0.1427 - auc_4: 0.9994 - val_loss: 0.6693 - val_auc_4: 0.8871\n",
            "Epoch 32/60\n",
            "620/620 [==============================] - 10s 16ms/step - loss: 0.1464 - auc_4: 0.9990 - val_loss: 0.6588 - val_auc_4: 0.8921\n",
            "Epoch 33/60\n",
            "620/620 [==============================] - 10s 16ms/step - loss: 0.1442 - auc_4: 0.9990 - val_loss: 0.5903 - val_auc_4: 0.9005\n",
            "Epoch 34/60\n",
            "620/620 [==============================] - 10s 16ms/step - loss: 0.1403 - auc_4: 0.9992 - val_loss: 0.6056 - val_auc_4: 0.8974\n",
            "Epoch 35/60\n",
            "620/620 [==============================] - 10s 16ms/step - loss: 0.1269 - auc_4: 0.9995 - val_loss: 0.6344 - val_auc_4: 0.8934\n",
            "Epoch 36/60\n",
            "620/620 [==============================] - 10s 16ms/step - loss: 0.1257 - auc_4: 0.9993 - val_loss: 0.6009 - val_auc_4: 0.8971\n",
            "Epoch 37/60\n",
            "620/620 [==============================] - 10s 16ms/step - loss: 0.1280 - auc_4: 0.9992 - val_loss: 0.6560 - val_auc_4: 0.8878\n",
            "Epoch 38/60\n",
            "620/620 [==============================] - 10s 16ms/step - loss: 0.1226 - auc_4: 0.9995 - val_loss: 0.6480 - val_auc_4: 0.8889\n",
            "Epoch 39/60\n",
            "620/620 [==============================] - 10s 16ms/step - loss: 0.1199 - auc_4: 0.9995 - val_loss: 0.6248 - val_auc_4: 0.8902\n",
            "Epoch 40/60\n",
            "620/620 [==============================] - 10s 16ms/step - loss: 0.1176 - auc_4: 0.9994 - val_loss: 0.6175 - val_auc_4: 0.8925\n",
            "Epoch 41/60\n",
            "620/620 [==============================] - 10s 16ms/step - loss: 0.1122 - auc_4: 0.9996 - val_loss: 0.6191 - val_auc_4: 0.8964\n",
            "Epoch 42/60\n",
            "620/620 [==============================] - 10s 16ms/step - loss: 0.1131 - auc_4: 0.9995 - val_loss: 0.6249 - val_auc_4: 0.8915\n",
            "Epoch 43/60\n",
            "620/620 [==============================] - 10s 16ms/step - loss: 0.1052 - auc_4: 0.9996 - val_loss: 0.6508 - val_auc_4: 0.8875\n",
            "Epoch 44/60\n",
            "620/620 [==============================] - 10s 16ms/step - loss: 0.1090 - auc_4: 0.9994 - val_loss: 0.6426 - val_auc_4: 0.8906\n",
            "Epoch 45/60\n",
            "620/620 [==============================] - 10s 16ms/step - loss: 0.1080 - auc_4: 0.9994 - val_loss: 0.6704 - val_auc_4: 0.8861\n",
            "Epoch 46/60\n",
            "620/620 [==============================] - 10s 16ms/step - loss: 0.0988 - auc_4: 0.9996 - val_loss: 0.6255 - val_auc_4: 0.8950\n",
            "Epoch 47/60\n",
            "620/620 [==============================] - 10s 16ms/step - loss: 0.0991 - auc_4: 0.9995 - val_loss: 0.7127 - val_auc_4: 0.8672\n",
            "Epoch 48/60\n",
            "620/620 [==============================] - 10s 16ms/step - loss: 0.1007 - auc_4: 0.9994 - val_loss: 0.6261 - val_auc_4: 0.8923\n",
            "Epoch 49/60\n",
            "620/620 [==============================] - 10s 16ms/step - loss: 0.1033 - auc_4: 0.9994 - val_loss: 0.6958 - val_auc_4: 0.8807\n",
            "Epoch 50/60\n",
            "620/620 [==============================] - 10s 16ms/step - loss: 0.0921 - auc_4: 0.9996 - val_loss: 0.6841 - val_auc_4: 0.8827\n",
            "Epoch 51/60\n",
            "620/620 [==============================] - 10s 16ms/step - loss: 0.0936 - auc_4: 0.9995 - val_loss: 0.6575 - val_auc_4: 0.8834\n",
            "Epoch 52/60\n",
            "620/620 [==============================] - 10s 16ms/step - loss: 0.0883 - auc_4: 0.9996 - val_loss: 0.6314 - val_auc_4: 0.8862\n",
            "Epoch 53/60\n",
            "620/620 [==============================] - 10s 16ms/step - loss: 0.0865 - auc_4: 0.9997 - val_loss: 0.6579 - val_auc_4: 0.8840\n",
            "Epoch 54/60\n",
            "620/620 [==============================] - 10s 16ms/step - loss: 0.0826 - auc_4: 0.9997 - val_loss: 0.6579 - val_auc_4: 0.8838\n",
            "Epoch 55/60\n",
            "620/620 [==============================] - 10s 16ms/step - loss: 0.0816 - auc_4: 0.9997 - val_loss: 0.6488 - val_auc_4: 0.8815\n",
            "Epoch 56/60\n",
            "620/620 [==============================] - 10s 16ms/step - loss: 0.0812 - auc_4: 0.9997 - val_loss: 0.6035 - val_auc_4: 0.8878\n",
            "Epoch 57/60\n",
            "620/620 [==============================] - 10s 16ms/step - loss: 0.0778 - auc_4: 0.9997 - val_loss: 0.6628 - val_auc_4: 0.8835\n",
            "Epoch 58/60\n",
            "620/620 [==============================] - 10s 16ms/step - loss: 0.0796 - auc_4: 0.9996 - val_loss: 0.6444 - val_auc_4: 0.8812\n",
            "Epoch 59/60\n",
            "620/620 [==============================] - 10s 16ms/step - loss: 0.0762 - auc_4: 0.9996 - val_loss: 0.7020 - val_auc_4: 0.8767\n",
            "Epoch 60/60\n",
            "620/620 [==============================] - 10s 16ms/step - loss: 0.0706 - auc_4: 0.9997 - val_loss: 0.6497 - val_auc_4: 0.8856\n"
          ]
        }
      ]
    },
    {
      "cell_type": "code",
      "metadata": {
        "id": "2oKwEFmrMX0t"
      },
      "source": [
        "plt.figure(figsize = (13,8))\n",
        "plt.plot(history.history[\"auc_4\"], label = \"Train Accuracy\")\n",
        "plt.plot(history.history[\"val_auc_4\"],label = \"Validation Accuracy\")\n",
        "plt.title(\"Accuracies\")\n",
        "plt.xlabel(\"Epochs\")\n",
        "plt.ylabel(\"Accuracy\")\n",
        "plt.legend()\n",
        "plt.show()"
      ],
      "execution_count": null,
      "outputs": []
    },
    {
      "cell_type": "code",
      "metadata": {
        "execution": {
          "iopub.status.busy": "2021-09-09T08:56:04.161131Z",
          "iopub.execute_input": "2021-09-09T08:56:04.161517Z",
          "iopub.status.idle": "2021-09-09T08:56:08.319897Z",
          "shell.execute_reply.started": "2021-09-09T08:56:04.161484Z",
          "shell.execute_reply": "2021-09-09T08:56:08.318478Z"
        },
        "trusted": true,
        "id": "XB2Kuu5gSg6Q"
      },
      "source": [
        "y_pred = model.predict(X_valid) #pedict on X_valid\n",
        "pred = np.argmax(y_pred, axis = 1) #index of largest value by column 열 기준 가장 큰 값의 인덱스\n",
        "\n",
        "result = pd.DataFrame(train_idt_valid) #BraTS21ID\n",
        "result[1] = pred #MGMT_value\n",
        "result.columns=[\"BraTS21ID\",\"MGMT_value\"]"
      ],
      "execution_count": null,
      "outputs": []
    },
    {
      "cell_type": "code",
      "metadata": {
        "execution": {
          "iopub.status.busy": "2021-09-09T08:56:23.771438Z",
          "iopub.execute_input": "2021-09-09T08:56:23.771911Z",
          "iopub.status.idle": "2021-09-09T08:56:23.806657Z",
          "shell.execute_reply.started": "2021-09-09T08:56:23.771869Z",
          "shell.execute_reply": "2021-09-09T08:56:23.805600Z"
        },
        "trusted": true,
        "id": "qQ1RKbfuSg6R"
      },
      "source": [
        "#Group by BraTS21ID and average + do not use index\n",
        "result_final = result.groupby(\"BraTS21ID\", as_index = False).mean()\n",
        "result_final = result_final.merge(train_df, on = \"BraTS21ID\") #merge train_df"
      ],
      "execution_count": null,
      "outputs": []
    },
    {
      "cell_type": "code",
      "metadata": {
        "execution": {
          "iopub.status.busy": "2021-09-09T08:56:58.686233Z",
          "iopub.execute_input": "2021-09-09T08:56:58.686633Z",
          "iopub.status.idle": "2021-09-09T08:56:58.702249Z",
          "shell.execute_reply.started": "2021-09-09T08:56:58.686598Z",
          "shell.execute_reply": "2021-09-09T08:56:58.700725Z"
        },
        "trusted": true,
        "id": "MF5O6Iy7Sg6R",
        "colab": {
          "base_uri": "https://localhost:8080/"
        },
        "outputId": "cc6505b9-9dab-4741-ac71-17ee25a4cd48"
      },
      "source": [
        "from sklearn.metrics import roc_auc_score\n",
        "roc_auc_score(result_final.MGMT_value_y, result_final.MGMT_value_x,)"
      ],
      "execution_count": null,
      "outputs": [
        {
          "output_type": "execute_result",
          "data": {
            "text/plain": [
              "0.8986320815589108"
            ]
          },
          "metadata": {},
          "execution_count": 39
        }
      ]
    },
    {
      "cell_type": "code",
      "metadata": {
        "execution": {
          "iopub.status.busy": "2021-09-09T09:01:19.315758Z",
          "iopub.execute_input": "2021-09-09T09:01:19.316144Z",
          "iopub.status.idle": "2021-09-09T09:01:19.328548Z",
          "shell.execute_reply.started": "2021-09-09T09:01:19.316113Z",
          "shell.execute_reply": "2021-09-09T09:01:19.327123Z"
        },
        "trusted": true,
        "id": "y6HKV_mVSg6R"
      },
      "source": [
        "X_test2 = tf.expand_dims(X_test, axis=-1)"
      ],
      "execution_count": null,
      "outputs": []
    },
    {
      "cell_type": "code",
      "metadata": {
        "execution": {
          "iopub.status.busy": "2021-09-09T09:01:37.126724Z",
          "iopub.execute_input": "2021-09-09T09:01:37.127297Z",
          "iopub.status.idle": "2021-09-09T09:01:41.037679Z",
          "shell.execute_reply.started": "2021-09-09T09:01:37.127261Z",
          "shell.execute_reply": "2021-09-09T09:01:41.036740Z"
        },
        "trusted": true,
        "id": "rZWs6ZzOSg6R",
        "outputId": "a66417eb-6d70-46c8-c161-a061d8412312"
      },
      "source": [
        "#submission\n",
        "sample_sub = pd.read_csv(\"../input/rsna-miccai-brain-tumor-radiogenomic-classification/sample_submission.csv\")\n",
        "\n",
        "y_pred = model.predict(X_test2) #predict test\n",
        "pred = np.argmax(y_pred, axis = 1)\n",
        "\n",
        "result = pd.DataFrame(test_idt)\n",
        "result[1] = pred\n",
        "\n",
        "result.columns=[\"BraTS21ID\",\"MGMT_value\"]\n",
        "result_final = result.groupby(\"BraTS21ID\",as_index = False).mean()\n",
        "\n",
        "result_final[\"BraTS21ID\"] = sample_sub[\"BraTS21ID\"]\n",
        "result_final[\"MGMT_value\"] = result_final[\"MGMT_value\"]\n",
        "result_final"
      ],
      "execution_count": null,
      "outputs": [
        {
          "execution_count": 59,
          "output_type": "execute_result",
          "data": {
            "text/plain": "    BraTS21ID  MGMT_value\n0           1    0.909091\n1          13    0.909091\n2          15    0.901961\n3          27    0.921569\n4          37    0.954545\n..        ...         ...\n82        826    0.857143\n83        829    0.800000\n84        833    0.375000\n85        997    0.500000\n86       1006    0.952381\n\n[87 rows x 2 columns]",
            "text/html": "<div>\n<style scoped>\n    .dataframe tbody tr th:only-of-type {\n        vertical-align: middle;\n    }\n\n    .dataframe tbody tr th {\n        vertical-align: top;\n    }\n\n    .dataframe thead th {\n        text-align: right;\n    }\n</style>\n<table border=\"1\" class=\"dataframe\">\n  <thead>\n    <tr style=\"text-align: right;\">\n      <th></th>\n      <th>BraTS21ID</th>\n      <th>MGMT_value</th>\n    </tr>\n  </thead>\n  <tbody>\n    <tr>\n      <th>0</th>\n      <td>1</td>\n      <td>0.909091</td>\n    </tr>\n    <tr>\n      <th>1</th>\n      <td>13</td>\n      <td>0.909091</td>\n    </tr>\n    <tr>\n      <th>2</th>\n      <td>15</td>\n      <td>0.901961</td>\n    </tr>\n    <tr>\n      <th>3</th>\n      <td>27</td>\n      <td>0.921569</td>\n    </tr>\n    <tr>\n      <th>4</th>\n      <td>37</td>\n      <td>0.954545</td>\n    </tr>\n    <tr>\n      <th>...</th>\n      <td>...</td>\n      <td>...</td>\n    </tr>\n    <tr>\n      <th>82</th>\n      <td>826</td>\n      <td>0.857143</td>\n    </tr>\n    <tr>\n      <th>83</th>\n      <td>829</td>\n      <td>0.800000</td>\n    </tr>\n    <tr>\n      <th>84</th>\n      <td>833</td>\n      <td>0.375000</td>\n    </tr>\n    <tr>\n      <th>85</th>\n      <td>997</td>\n      <td>0.500000</td>\n    </tr>\n    <tr>\n      <th>86</th>\n      <td>1006</td>\n      <td>0.952381</td>\n    </tr>\n  </tbody>\n</table>\n<p>87 rows × 2 columns</p>\n</div>"
          },
          "metadata": {}
        }
      ]
    },
    {
      "cell_type": "code",
      "metadata": {
        "execution": {
          "iopub.status.busy": "2021-09-09T09:02:05.908041Z",
          "iopub.execute_input": "2021-09-09T09:02:05.908454Z",
          "iopub.status.idle": "2021-09-09T09:02:05.917081Z",
          "shell.execute_reply.started": "2021-09-09T09:02:05.908419Z",
          "shell.execute_reply": "2021-09-09T09:02:05.915899Z"
        },
        "trusted": true,
        "id": "_qSz70GNSg6S"
      },
      "source": [
        "result_final.to_csv(\"submission.csv\",index=False)"
      ],
      "execution_count": null,
      "outputs": []
    },
    {
      "cell_type": "code",
      "metadata": {
        "id": "lZtsVyRRSg6S"
      },
      "source": [
        ""
      ],
      "execution_count": null,
      "outputs": []
    }
  ]
}