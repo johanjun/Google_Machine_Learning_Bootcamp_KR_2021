{
  "nbformat": 4,
  "nbformat_minor": 0,
  "metadata": {
    "kernelspec": {
      "language": "python",
      "display_name": "Python 3",
      "name": "python3"
    },
    "language_info": {
      "name": "python",
      "version": "3.7.10",
      "mimetype": "text/x-python",
      "codemirror_mode": {
        "name": "ipython",
        "version": 3
      },
      "pygments_lexer": "ipython3",
      "nbconvert_exporter": "python",
      "file_extension": ".py"
    },
    "colab": {
      "name": "rsna-miccai-brain-tumor-johanjun_1006-v4(no shuffle).ipynb",
      "provenance": [],
      "collapsed_sections": [],
      "machine_shape": "hm",
      "include_colab_link": true
    },
    "accelerator": "GPU"
  },
  "cells": [
    {
      "cell_type": "markdown",
      "metadata": {
        "id": "view-in-github",
        "colab_type": "text"
      },
      "source": [
        "<a href=\"https://colab.research.google.com/github/johanjun/Google_Machine_Learning_Bootcamp_KR_2021/blob/main/kaggle/RSNA_MICCAI_BRAIN_TUMOR/rsna_miccai_brain_tumor_johanjun_1006_v4(no_shuffle).ipynb\" target=\"_parent\"><img src=\"https://colab.research.google.com/assets/colab-badge.svg\" alt=\"Open In Colab\"/></a>"
      ]
    },
    {
      "cell_type": "code",
      "metadata": {
        "colab": {
          "base_uri": "https://localhost:8080/"
        },
        "id": "xOUCOQHHYjrI",
        "outputId": "59e9c847-dc5f-4159-bf04-ad315481e308"
      },
      "source": [
        "pip install pydicom"
      ],
      "execution_count": 2,
      "outputs": [
        {
          "output_type": "stream",
          "name": "stdout",
          "text": [
            "Collecting pydicom\n",
            "  Downloading pydicom-2.2.2-py3-none-any.whl (2.0 MB)\n",
            "\u001b[K     |████████████████████████████████| 2.0 MB 5.1 MB/s \n",
            "\u001b[?25hInstalling collected packages: pydicom\n",
            "Successfully installed pydicom-2.2.2\n"
          ]
        }
      ]
    },
    {
      "cell_type": "code",
      "metadata": {
        "_uuid": "8f2839f25d086af736a60e9eeb907d3b93b6e0e5",
        "_cell_guid": "b1076dfc-b9ad-4769-8c92-a6c4dae69d19",
        "execution": {
          "iopub.status.busy": "2021-09-09T08:53:56.762280Z",
          "iopub.execute_input": "2021-09-09T08:53:56.762670Z",
          "iopub.status.idle": "2021-09-09T08:53:56.769176Z",
          "shell.execute_reply.started": "2021-09-09T08:53:56.762636Z",
          "shell.execute_reply": "2021-09-09T08:53:56.768094Z"
        },
        "trusted": true,
        "id": "0l9glKmsSg6D"
      },
      "source": [
        "import numpy as np # linear algebra\n",
        "import pandas as pd # data processing, CSV file I/O (e.g. pd.read_csv)\n",
        "import os\n",
        "from tqdm import tqdm\n",
        "import random\n",
        "import pydicom\n",
        "import cv2\n",
        "import pickle\n",
        "\n",
        "import matplotlib.pyplot as plt\n",
        "import glob\n",
        "\n",
        "import tensorflow as tf\n",
        "from tensorflow import keras\n",
        "from tensorflow.keras.utils import to_categorical\n",
        "from sklearn.model_selection import train_test_split"
      ],
      "execution_count": 4,
      "outputs": []
    },
    {
      "cell_type": "code",
      "metadata": {
        "id": "c6wQE57KS99g"
      },
      "source": [
        "data_dir = '/content/drive/MyDrive/Google_Machine_Learning_Bootcamp_KR_2021/RSNA_MICCAI/data/rsna-miccai/'"
      ],
      "execution_count": 5,
      "outputs": []
    },
    {
      "cell_type": "code",
      "metadata": {
        "execution": {
          "iopub.status.busy": "2021-09-09T08:05:05.559632Z",
          "iopub.execute_input": "2021-09-09T08:05:05.560291Z",
          "iopub.status.idle": "2021-09-09T08:05:05.588138Z",
          "shell.execute_reply.started": "2021-09-09T08:05:05.560236Z",
          "shell.execute_reply": "2021-09-09T08:05:05.587076Z"
        },
        "trusted": true,
        "id": "50rg9HSFSg6G"
      },
      "source": [
        "train_df = pd.read_csv(data_dir + \"train_labels.csv\")\n",
        "test_df = pd.read_csv(data_dir + \"sample_submission.csv\")"
      ],
      "execution_count": 6,
      "outputs": []
    },
    {
      "cell_type": "markdown",
      "metadata": {
        "id": "WFR8qocSSg6G"
      },
      "source": [
        "In this discussion a competition host has notified that there are some issues with these 3 cases\n",
        "Patient IDs -\n",
        "\n",
        "1. 00109 (FLAIR images are blank)\n",
        "2. 00123 (T1w images are blank)\n",
        "3. 00709 (FLAIR images are blank)\n",
        "<br><br>Hence these can be excluded"
      ]
    },
    {
      "cell_type": "code",
      "metadata": {
        "execution": {
          "iopub.status.busy": "2021-09-09T08:05:07.655722Z",
          "iopub.execute_input": "2021-09-09T08:05:07.656096Z",
          "iopub.status.idle": "2021-09-09T08:05:07.675143Z",
          "shell.execute_reply.started": "2021-09-09T08:05:07.656067Z",
          "shell.execute_reply": "2021-09-09T08:05:07.673869Z"
        },
        "trusted": true,
        "id": "ZNX625ndSg6I"
      },
      "source": [
        "#refer: https://www.kaggle.com/arnabs007/part-1-rsna-miccai-btrc-understanding-the-data\n",
        "EXCLUDE = [109, 123, 709]\n",
        "train_df = train_df[~train_df.BraTS21ID.isin(EXCLUDE)]"
      ],
      "execution_count": 7,
      "outputs": []
    },
    {
      "cell_type": "code",
      "metadata": {
        "execution": {
          "iopub.status.busy": "2021-09-09T08:05:08.179708Z",
          "iopub.execute_input": "2021-09-09T08:05:08.180276Z",
          "iopub.status.idle": "2021-09-09T08:05:08.184417Z",
          "shell.execute_reply.started": "2021-09-09T08:05:08.180233Z",
          "shell.execute_reply": "2021-09-09T08:05:08.183183Z"
        },
        "trusted": true,
        "id": "MC2xY5WrSg6I"
      },
      "source": [
        "TYPES = [\"FLAIR\", \"T1w\", \"T1wCE\", \"T2w\"] #mpMRI scans"
      ],
      "execution_count": 8,
      "outputs": []
    },
    {
      "cell_type": "code",
      "metadata": {
        "execution": {
          "iopub.status.busy": "2021-09-09T08:05:08.874839Z",
          "iopub.execute_input": "2021-09-09T08:05:08.875202Z",
          "iopub.status.idle": "2021-09-09T08:05:08.880569Z",
          "shell.execute_reply.started": "2021-09-09T08:05:08.875173Z",
          "shell.execute_reply": "2021-09-09T08:05:08.879818Z"
        },
        "trusted": true,
        "id": "OpI5yrzsSg6I"
      },
      "source": [
        "def load_dicom(path, size = 128): #load DICOM files\n",
        "    dicom = pydicom.read_file(path)\n",
        "    data = dicom.pixel_array #returns a numpy.ndarray containing the pixel data\n",
        "    if np.max(data) != 0:\n",
        "        data = data / np.max(data) #standardizes so that the pixel values are between 0 and 1\n",
        "    data = (data * 255).astype(np.uint8) #rescales to 0 and 255\n",
        "    return cv2.resize(data, (size, size))"
      ],
      "execution_count": 9,
      "outputs": []
    },
    {
      "cell_type": "code",
      "metadata": {
        "execution": {
          "iopub.status.busy": "2021-09-09T08:05:09.466375Z",
          "iopub.execute_input": "2021-09-09T08:05:09.466923Z",
          "iopub.status.idle": "2021-09-09T08:05:09.474187Z",
          "shell.execute_reply.started": "2021-09-09T08:05:09.466888Z",
          "shell.execute_reply": "2021-09-09T08:05:09.473386Z"
        },
        "trusted": true,
        "id": "3nirbxWXSg6J"
      },
      "source": [
        "def get_all_image_paths(BraTS21ID, image_type, folder=\"train\"): #get an array of all the images of a particular type or a particular patient id\n",
        "    assert(image_type in TYPES) #only in types\n",
        "    patient_path = os.path.join(data_dir + \"%s/\" % folder, str(BraTS21ID).zfill(5)) #다른 폴더일 수도 있음\n",
        "    #print(lambda x: int(x[:-4].split(\"-\")[-1]))\n",
        "    \n",
        "    paths = sorted(glob.glob(os.path.join(patient_path, image_type, \"*\")), key=lambda x: int(x[:-4].split(\"-\")[-1])) #sort\n",
        "    #print(paths)\n",
        "    \n",
        "    num_images = len(paths)\n",
        "    \n",
        "    start = int(num_images * 0.25)\n",
        "    end = int(num_images * 0.75)\n",
        "    if num_images < 10:\n",
        "        jump = 1\n",
        "    else:\n",
        "        jump = 3\n",
        "        \n",
        "    return np.array(paths[start:end:jump])"
      ],
      "execution_count": 10,
      "outputs": []
    },
    {
      "cell_type": "code",
      "metadata": {
        "execution": {
          "iopub.status.busy": "2021-09-09T08:05:09.961756Z",
          "iopub.execute_input": "2021-09-09T08:05:09.962152Z",
          "iopub.status.idle": "2021-09-09T08:05:09.966979Z",
          "shell.execute_reply.started": "2021-09-09T08:05:09.962116Z",
          "shell.execute_reply": "2021-09-09T08:05:09.966011Z"
        },
        "trusted": true,
        "id": "oWZMpAyBSg6K"
      },
      "source": [
        "def get_all_images(BraTS21ID, image_type, folder=\"train\", size=225):\n",
        "    return [load_dicom(path, size) for path in get_all_image_paths(BraTS21ID, image_type, folder)]"
      ],
      "execution_count": 11,
      "outputs": []
    },
    {
      "cell_type": "code",
      "metadata": {
        "execution": {
          "iopub.status.busy": "2021-09-09T08:05:10.416138Z",
          "iopub.execute_input": "2021-09-09T08:05:10.416626Z",
          "iopub.status.idle": "2021-09-09T08:05:10.425527Z",
          "shell.execute_reply.started": "2021-09-09T08:05:10.416595Z",
          "shell.execute_reply": "2021-09-09T08:05:10.424744Z"
        },
        "trusted": true,
        "id": "5DDIDg9dSg6L"
      },
      "source": [
        "def get_all_data_train(image_type):\n",
        "    global train_df\n",
        "    \n",
        "    X = []\n",
        "    y = []\n",
        "    train_ids = []\n",
        "\n",
        "    for i in tqdm(train_df.index):\n",
        "        tmp_x = train_df.loc[i]\n",
        "        images = get_all_images(int(tmp_x[\"BraTS21ID\"]), image_type, \"train\", IMAGE_SIZE)\n",
        "        label = tmp_x[\"MGMT_value\"]\n",
        "\n",
        "        X += images\n",
        "        y += [label] * len(images)\n",
        "        train_ids += [int(tmp_x[\"BraTS21ID\"])] * len(images)\n",
        "        assert(len(X) == len(y))\n",
        "    return np.array(X), np.array(y), np.array(train_ids)\n",
        "\n",
        "def get_all_data_test(image_type):\n",
        "    global test_df\n",
        "    \n",
        "    X = []\n",
        "    test_ids = []\n",
        "\n",
        "    for i in tqdm(test_df.index):\n",
        "        tmp_x = test_df.loc[i]\n",
        "        images = get_all_images(int(tmp_x[\"BraTS21ID\"]), image_type, \"test\", IMAGE_SIZE)\n",
        "        X += images\n",
        "        test_ids += [int(tmp_x[\"BraTS21ID\"])] * len(images)\n",
        "\n",
        "    return np.array(X), np.array(test_ids)"
      ],
      "execution_count": 12,
      "outputs": []
    },
    {
      "cell_type": "code",
      "metadata": {
        "id": "lc0aULRpaUyf"
      },
      "source": [
        "#pickling\n",
        "with open(data_dir+'X_T1wCE.pkl', 'rb') as f:\n",
        "  X_T1wCE = pickle.load(f)\n",
        "\n",
        "with open(data_dir+'y_T1wCE.pkl', 'rb') as f:\n",
        "  y_T1wCE = pickle.load(f)\n",
        "\n",
        "with open(data_dir+'train_idt_T1wCE.pkl', 'rb') as f:\n",
        "  train_idt_T1wCE = pickle.load(f)\n",
        "\n",
        "with open(data_dir+'X_test_T1wCE.pkl', 'rb') as f:\n",
        "  X_test_T1wCE = pickle.load(f)\n",
        "\n",
        "with open(data_dir+'test_idt_T1wCE.pkl', 'rb') as f:\n",
        "  test_idt_T1wCE = pickle.load(f)\n",
        "#pickling\n",
        "with open(data_dir+'X_FLAIR.pkl', 'rb') as f:\n",
        "  X_FLAIR = pickle.load(f)\n",
        "\n",
        "with open(data_dir+'y_FLAIR.pkl', 'rb') as f:\n",
        "  y_FLAIR = pickle.load(f)\n",
        "\n",
        "with open(data_dir+'train_idt_FLAIR.pkl', 'rb') as f:\n",
        "  train_idt_FLAIR = pickle.load(f)\n",
        "\n",
        "with open(data_dir+'X_test_FLAIR.pkl', 'rb') as f:\n",
        "  X_test_FLAIR = pickle.load(f)\n",
        "\n",
        "with open(data_dir+'test_idt_FLAIR.pkl', 'rb') as f:\n",
        "  test_idt_FLAIR = pickle.load(f)\n",
        "#pickling\n",
        "with open(data_dir+'X_T2w.pkl', 'rb') as f:\n",
        "  X_T2w = pickle.load(f)\n",
        "\n",
        "with open(data_dir+'y_T2w.pkl', 'rb') as f:\n",
        "  y_T2w = pickle.load(f)\n",
        "\n",
        "with open(data_dir+'train_idt_T2w.pkl', 'rb') as f:\n",
        "  train_idt_T2w = pickle.load(f)\n",
        "\n",
        "with open(data_dir+'X_test_T2w.pkl', 'rb') as f:\n",
        "  X_test_T2w = pickle.load(f)\n",
        "\n",
        "with open(data_dir+'test_idt_T2w.pkl', 'rb') as f:\n",
        "  test_idt_T2w = pickle.load(f)\n",
        "#pickling\n",
        "with open(data_dir+'X_T1w.pkl', 'rb') as f:\n",
        "  X_T1w = pickle.load(f)\n",
        "\n",
        "with open(data_dir+'y_T1w.pkl', 'rb') as f:\n",
        "  y_T1w = pickle.load(f)\n",
        "\n",
        "with open(data_dir+'train_idt_T1w.pkl', 'rb') as f:\n",
        "  train_idt_T1w = pickle.load(f)\n",
        "\n",
        "with open(data_dir+'X_test_T1w.pkl', 'rb') as f:\n",
        "  X_test_T1w = pickle.load(f)\n",
        "\n",
        "with open(data_dir+'test_idt_T1w.pkl', 'rb') as f:\n",
        "  test_idt_T1w = pickle.load(f)"
      ],
      "execution_count": 13,
      "outputs": []
    },
    {
      "cell_type": "code",
      "metadata": {
        "id": "_xguSRrQbg5D"
      },
      "source": [
        "X = np.concatenate([X_T1wCE, X_T2w], axis=0)\n",
        "y = np.concatenate([y_T1wCE, y_T2w], axis=0)\n",
        "train_idt = np.concatenate([train_idt_T1wCE, train_idt_T2w], axis=0)\n",
        "\n",
        "X_test = np.concatenate([X_test_FLAIR, X_test_T1w, X_test_T1wCE, X_test_T2w], axis=0)\n",
        "test_idt = np.concatenate([test_idt_FLAIR, test_idt_T1w, test_idt_T1wCE, test_idt_T2w], axis=0)"
      ],
      "execution_count": 14,
      "outputs": []
    },
    {
      "cell_type": "code",
      "metadata": {
        "execution": {
          "iopub.status.busy": "2021-09-09T08:09:43.944235Z",
          "iopub.execute_input": "2021-09-09T08:09:43.944810Z",
          "iopub.status.idle": "2021-09-09T08:09:43.986052Z",
          "shell.execute_reply.started": "2021-09-09T08:09:43.944767Z",
          "shell.execute_reply": "2021-09-09T08:09:43.985157Z"
        },
        "trusted": true,
        "id": "wrK-MrfRSg6M"
      },
      "source": [
        "X_train, X_valid, y_train, y_valid, train_idt_train, train_idt_valid = train_test_split(X, y, train_idt, test_size=0.05, shuffle=False)"
      ],
      "execution_count": 15,
      "outputs": []
    },
    {
      "cell_type": "code",
      "metadata": {
        "execution": {
          "iopub.status.busy": "2021-09-09T08:09:44.993484Z",
          "iopub.execute_input": "2021-09-09T08:09:44.993888Z",
          "iopub.status.idle": "2021-09-09T08:09:45.172717Z",
          "shell.execute_reply.started": "2021-09-09T08:09:44.993853Z",
          "shell.execute_reply": "2021-09-09T08:09:45.171572Z"
        },
        "trusted": true,
        "id": "bej50ftOSg6N"
      },
      "source": [
        "X_train = tf.expand_dims(X_train, axis=-1) #expand the dimension at the end of the array\n",
        "X_valid = tf.expand_dims(X_valid, axis=-1)\n",
        "X_test = tf.expand_dims(X_test, axis=-1)\n",
        "\n",
        "y_train = to_categorical(y_train) #one-hot incoding\n",
        "y_valid = to_categorical(y_valid)"
      ],
      "execution_count": 16,
      "outputs": []
    },
    {
      "cell_type": "code",
      "metadata": {
        "execution": {
          "iopub.status.busy": "2021-09-09T08:09:46.085374Z",
          "iopub.execute_input": "2021-09-09T08:09:46.085773Z",
          "iopub.status.idle": "2021-09-09T08:09:46.093809Z",
          "shell.execute_reply.started": "2021-09-09T08:09:46.085717Z",
          "shell.execute_reply": "2021-09-09T08:09:46.092398Z"
        },
        "trusted": true,
        "id": "RQr6CiokSg6N",
        "colab": {
          "base_uri": "https://localhost:8080/"
        },
        "outputId": "467d0245-fb20-4b73-a404-4a7aa6658a30"
      },
      "source": [
        "X_train.shape, y_train.shape, X_valid.shape, y_valid.shape, train_idt_train.shape, train_idt_valid.shape"
      ],
      "execution_count": 17,
      "outputs": [
        {
          "output_type": "execute_result",
          "data": {
            "text/plain": [
              "(TensorShape([31358, 64, 64, 1]),\n",
              " (31358, 2),\n",
              " TensorShape([1651, 64, 64, 1]),\n",
              " (1651, 2),\n",
              " (31358,),\n",
              " (1651,))"
            ]
          },
          "metadata": {},
          "execution_count": 17
        }
      ]
    },
    {
      "cell_type": "code",
      "metadata": {
        "id": "EXvtRCywarfY"
      },
      "source": [
        "X2 = np.concatenate([X_FLAIR, X_T2w, X_T1w, X_T1wCE], axis=0)\n",
        "y2 = np.concatenate([y_FLAIR, y_T2w, y_T1w, y_T1wCE], axis=0)\n",
        "train_idt2 = np.concatenate([train_idt_FLAIR, train_idt_T2w, train_idt_T1w, train_idt_T1wCE], axis=0)"
      ],
      "execution_count": 18,
      "outputs": []
    },
    {
      "cell_type": "code",
      "metadata": {
        "id": "kweY7jJCbK9o"
      },
      "source": [
        "X_train2, X_valid2, y_train2, y_valid2, train_idt_train2, train_idt_valid2 = train_test_split(X2, y2, train_idt2, test_size=0.05, shuffle=True)"
      ],
      "execution_count": 28,
      "outputs": []
    },
    {
      "cell_type": "code",
      "metadata": {
        "id": "x6Sos8Jlb6bT"
      },
      "source": [
        "X_train2 = np.expand_dims(X_train2, axis=-1) \n",
        "X_valid2 = np.expand_dims(X_valid2, axis=-1)\n",
        "\n",
        "y_train2 = to_categorical(y_train2) \n",
        "y_valid2 = to_categorical(y_valid2)"
      ],
      "execution_count": 29,
      "outputs": []
    },
    {
      "cell_type": "code",
      "metadata": {
        "execution": {
          "iopub.status.busy": "2021-09-09T08:13:38.917128Z",
          "iopub.execute_input": "2021-09-09T08:13:38.917572Z",
          "iopub.status.idle": "2021-09-09T08:13:38.930258Z",
          "shell.execute_reply.started": "2021-09-09T08:13:38.917535Z",
          "shell.execute_reply": "2021-09-09T08:13:38.929014Z"
        },
        "trusted": true,
        "id": "gpuY_HLMSg6N"
      },
      "source": [
        "def create_model():\n",
        "    model = keras.Sequential()\n",
        "    model.add(keras.layers.Conv2D(filters=32, kernel_size=3, activation='relu', padding='VALID', \n",
        "                                  input_shape=(IMAGE_SIZE, IMAGE_SIZE, 1)))\n",
        "    model.add(keras.layers.BatchNormalization())\n",
        "    \n",
        "    model.add(keras.layers.Conv2D(filters=64, kernel_size=3, activation='relu', padding='SAME'))\n",
        "    model.add(keras.layers.BatchNormalization())\n",
        "    model.add(keras.layers.MaxPool2D(pool_size=(2,2)))\n",
        "\n",
        "    model.add(keras.layers.Conv2D(filters=64, kernel_size=3, activation='relu', padding='SAME'))\n",
        "    model.add(keras.layers.BatchNormalization())\n",
        "\n",
        "    model.add(keras.layers.Conv2D(filters=128, kernel_size=3, activation='relu', padding='VALID'))\n",
        "    model.add(keras.layers.BatchNormalization())\n",
        "\n",
        "    model.add(keras.layers.Conv2D(filters=128, kernel_size=3, activation='relu', padding='SAME'))\n",
        "    model.add(keras.layers.BatchNormalization())\n",
        "\n",
        "    model.add(keras.layers.MaxPool2D(pool_size=(2,2)))\n",
        "    model.add(keras.layers.BatchNormalization())\n",
        "    model.add(keras.layers.Dropout(0.3))\n",
        "\n",
        "    model.add(keras.layers.Flatten())\n",
        "    model.add(keras.layers.Dense(512, activation='relu', kernel_regularizer=keras.regularizers.l2(0.01)))\n",
        "    model.add(keras.layers.Dense(2, activation='softmax', kernel_regularizer=keras.regularizers.l2(0.01)))\n",
        "    return model"
      ],
      "execution_count": 30,
      "outputs": []
    },
    {
      "cell_type": "code",
      "metadata": {
        "execution": {
          "iopub.status.busy": "2021-09-09T08:13:41.051663Z",
          "iopub.execute_input": "2021-09-09T08:13:41.052059Z",
          "iopub.status.idle": "2021-09-09T08:13:41.057920Z",
          "shell.execute_reply.started": "2021-09-09T08:13:41.052027Z",
          "shell.execute_reply": "2021-09-09T08:13:41.056771Z"
        },
        "trusted": true,
        "id": "ydTkzEloSg6O"
      },
      "source": [
        "## Hyper Parameters\n",
        "IMAGE_SIZE = 64\n",
        "N_EPOCHS = 30\n",
        "N_BATCH = 128\n",
        "N_TRAIN = X_train.shape[0]\n",
        "N_VAL = X_valid.shape[0]\n",
        "\n",
        "learning_rate = 0.0001\n",
        "steps_per_epoch = N_TRAIN / N_BATCH\n",
        "validation_steps = int(np.ceil(N_VAL / N_BATCH))"
      ],
      "execution_count": 31,
      "outputs": []
    },
    {
      "cell_type": "code",
      "metadata": {
        "execution": {
          "iopub.status.busy": "2021-09-09T08:15:33.633960Z",
          "iopub.execute_input": "2021-09-09T08:15:33.634516Z",
          "iopub.status.idle": "2021-09-09T08:15:33.769136Z",
          "shell.execute_reply.started": "2021-09-09T08:15:33.634482Z",
          "shell.execute_reply": "2021-09-09T08:15:33.768205Z"
        },
        "trusted": true,
        "id": "2Nh-2Cl1Sg6O"
      },
      "source": [
        "## Create model, compile & summary\n",
        "model = create_model()\n",
        "\n",
        "model.compile(optimizer=tf.keras.optimizers.Adam(learning_rate),\n",
        "              loss='categorical_crossentropy', #label이 ohe이 아니면 sparse를 쓰면 자동으로 ohe\n",
        "              metrics=[tf.keras.metrics.AUC()])"
      ],
      "execution_count": 32,
      "outputs": []
    },
    {
      "cell_type": "code",
      "metadata": {
        "execution": {
          "iopub.status.busy": "2021-09-09T08:15:35.206055Z",
          "iopub.execute_input": "2021-09-09T08:15:35.206421Z",
          "iopub.status.idle": "2021-09-09T08:48:26.009687Z",
          "shell.execute_reply.started": "2021-09-09T08:15:35.206392Z",
          "shell.execute_reply": "2021-09-09T08:48:26.008689Z"
        },
        "trusted": true,
        "id": "DSWdjGPoSg6O",
        "colab": {
          "base_uri": "https://localhost:8080/"
        },
        "outputId": "24e395c4-47ed-4b45-9135-bc152c51d83b"
      },
      "source": [
        "history = model.fit(\n",
        "    x=X_train,\n",
        "    y=y_train,\n",
        "    epochs=N_EPOCHS,\n",
        "    steps_per_epoch=steps_per_epoch,\n",
        "    validation_data=(X_valid2, y_valid2),\n",
        ")"
      ],
      "execution_count": 24,
      "outputs": [
        {
          "output_type": "stream",
          "name": "stdout",
          "text": [
            "Epoch 1/50\n",
            "244/244 [==============================] - 30s 49ms/step - loss: 7.7239 - auc: 0.6579 - val_loss: 5.1797 - val_auc: 0.6354\n",
            "Epoch 2/50\n",
            "244/244 [==============================] - 11s 44ms/step - loss: 3.7252 - auc: 0.8165 - val_loss: 2.7622 - val_auc: 0.8363\n",
            "Epoch 3/50\n",
            "244/244 [==============================] - 11s 44ms/step - loss: 2.0570 - auc: 0.9134 - val_loss: 1.6290 - val_auc: 0.9497\n",
            "Epoch 4/50\n",
            "244/244 [==============================] - 11s 44ms/step - loss: 1.2564 - auc: 0.9665 - val_loss: 1.0232 - val_auc: 0.9914\n",
            "Epoch 5/50\n",
            "244/244 [==============================] - 11s 44ms/step - loss: 0.8343 - auc: 0.9871 - val_loss: 0.7266 - val_auc: 0.9919\n",
            "Epoch 6/50\n",
            "244/244 [==============================] - 11s 44ms/step - loss: 0.6021 - auc: 0.9940 - val_loss: 0.5303 - val_auc: 0.9981\n",
            "Epoch 7/50\n",
            "244/244 [==============================] - 11s 44ms/step - loss: 0.4766 - auc: 0.9962 - val_loss: 0.4341 - val_auc: 0.9984\n",
            "Epoch 8/50\n",
            "244/244 [==============================] - 11s 44ms/step - loss: 0.3951 - auc: 0.9976 - val_loss: 0.3566 - val_auc: 0.9997\n",
            "Epoch 9/50\n",
            "244/244 [==============================] - 11s 44ms/step - loss: 0.3563 - auc: 0.9973 - val_loss: 0.3395 - val_auc: 0.9996\n",
            "Epoch 10/50\n",
            "244/244 [==============================] - 11s 44ms/step - loss: 0.3337 - auc: 0.9975 - val_loss: 0.3124 - val_auc: 0.9996\n",
            "Epoch 11/50\n",
            "244/244 [==============================] - 11s 44ms/step - loss: 0.3214 - auc: 0.9973 - val_loss: 0.3066 - val_auc: 0.9995\n",
            "Epoch 12/50\n",
            "244/244 [==============================] - 11s 44ms/step - loss: 0.3055 - auc: 0.9978 - val_loss: 0.2870 - val_auc: 0.9994\n",
            "Epoch 13/50\n",
            "244/244 [==============================] - 11s 44ms/step - loss: 0.2946 - auc: 0.9980 - val_loss: 0.2688 - val_auc: 0.9999\n",
            "Epoch 14/50\n",
            "244/244 [==============================] - 11s 44ms/step - loss: 0.2748 - auc: 0.9986 - val_loss: 0.2534 - val_auc: 0.9999\n",
            "Epoch 15/50\n",
            "244/244 [==============================] - 11s 44ms/step - loss: 0.2689 - auc: 0.9982 - val_loss: 0.2455 - val_auc: 1.0000\n",
            "Epoch 16/50\n",
            "244/244 [==============================] - 11s 44ms/step - loss: 0.2631 - auc: 0.9983 - val_loss: 0.2370 - val_auc: 0.9998\n",
            "Epoch 17/50\n",
            "244/244 [==============================] - 11s 44ms/step - loss: 0.2570 - auc: 0.9984 - val_loss: 0.2488 - val_auc: 0.9997\n",
            "Epoch 18/50\n",
            "244/244 [==============================] - 11s 44ms/step - loss: 0.2556 - auc: 0.9984 - val_loss: 0.2324 - val_auc: 0.9999\n",
            "Epoch 19/50\n",
            "244/244 [==============================] - 11s 44ms/step - loss: 0.2393 - auc: 0.9987 - val_loss: 0.2133 - val_auc: 1.0000\n",
            "Epoch 20/50\n",
            "244/244 [==============================] - 11s 44ms/step - loss: 0.2274 - auc: 0.9989 - val_loss: 0.2128 - val_auc: 0.9998\n",
            "Epoch 21/50\n",
            "244/244 [==============================] - 11s 44ms/step - loss: 0.2138 - auc: 0.9991 - val_loss: 0.1928 - val_auc: 1.0000\n",
            "Epoch 22/50\n",
            "244/244 [==============================] - 11s 44ms/step - loss: 0.2131 - auc: 0.9988 - val_loss: 0.1952 - val_auc: 1.0000\n",
            "Epoch 23/50\n",
            "244/244 [==============================] - 11s 44ms/step - loss: 0.2127 - auc: 0.9989 - val_loss: 0.1921 - val_auc: 0.9999\n",
            "Epoch 24/50\n",
            "244/244 [==============================] - 11s 44ms/step - loss: 0.2079 - auc: 0.9990 - val_loss: 0.1779 - val_auc: 1.0000\n",
            "Epoch 25/50\n",
            "244/244 [==============================] - 11s 44ms/step - loss: 0.1948 - auc: 0.9992 - val_loss: 0.1719 - val_auc: 0.9999\n",
            "Epoch 26/50\n",
            "244/244 [==============================] - 11s 44ms/step - loss: 0.1920 - auc: 0.9991 - val_loss: 0.1663 - val_auc: 1.0000\n",
            "Epoch 27/50\n",
            "244/244 [==============================] - 11s 44ms/step - loss: 0.1810 - auc: 0.9994 - val_loss: 0.1854 - val_auc: 0.9993\n",
            "Epoch 28/50\n",
            "244/244 [==============================] - 11s 44ms/step - loss: 0.1808 - auc: 0.9991 - val_loss: 0.1587 - val_auc: 1.0000\n",
            "Epoch 29/50\n",
            "244/244 [==============================] - 11s 44ms/step - loss: 0.1837 - auc: 0.9990 - val_loss: 0.1661 - val_auc: 1.0000\n",
            "Epoch 30/50\n",
            "244/244 [==============================] - 11s 44ms/step - loss: 0.1749 - auc: 0.9993 - val_loss: 0.1490 - val_auc: 1.0000\n",
            "Epoch 31/50\n",
            "244/244 [==============================] - 11s 44ms/step - loss: 0.1624 - auc: 0.9995 - val_loss: 0.1410 - val_auc: 1.0000\n",
            "Epoch 32/50\n",
            "244/244 [==============================] - 11s 44ms/step - loss: 0.1577 - auc: 0.9994 - val_loss: 0.1373 - val_auc: 1.0000\n",
            "Epoch 33/50\n",
            "244/244 [==============================] - 11s 44ms/step - loss: 0.1604 - auc: 0.9992 - val_loss: 0.1376 - val_auc: 1.0000\n",
            "Epoch 34/50\n",
            "244/244 [==============================] - 11s 44ms/step - loss: 0.1570 - auc: 0.9994 - val_loss: 0.1354 - val_auc: 1.0000\n",
            "Epoch 35/50\n",
            "244/244 [==============================] - 11s 44ms/step - loss: 0.1487 - auc: 0.9995 - val_loss: 0.1260 - val_auc: 1.0000\n",
            "Epoch 36/50\n",
            "244/244 [==============================] - 11s 44ms/step - loss: 0.1461 - auc: 0.9994 - val_loss: 0.1376 - val_auc: 0.9999\n",
            "Epoch 37/50\n",
            "244/244 [==============================] - 11s 44ms/step - loss: 0.1421 - auc: 0.9995 - val_loss: 0.1230 - val_auc: 1.0000\n",
            "Epoch 38/50\n",
            "244/244 [==============================] - 11s 44ms/step - loss: 0.1431 - auc: 0.9994 - val_loss: 0.1316 - val_auc: 0.9999\n",
            "Epoch 39/50\n",
            "244/244 [==============================] - 11s 44ms/step - loss: 0.1387 - auc: 0.9995 - val_loss: 0.1221 - val_auc: 0.9999\n",
            "Epoch 40/50\n",
            "244/244 [==============================] - 11s 44ms/step - loss: 0.1345 - auc: 0.9995 - val_loss: 0.1233 - val_auc: 1.0000\n",
            "Epoch 41/50\n",
            "244/244 [==============================] - 11s 44ms/step - loss: 0.1302 - auc: 0.9996 - val_loss: 0.1124 - val_auc: 1.0000\n",
            "Epoch 42/50\n",
            "244/244 [==============================] - 11s 44ms/step - loss: 0.1345 - auc: 0.9994 - val_loss: 0.1151 - val_auc: 1.0000\n",
            "Epoch 43/50\n",
            "244/244 [==============================] - 11s 44ms/step - loss: 0.1329 - auc: 0.9994 - val_loss: 0.1157 - val_auc: 1.0000\n",
            "Epoch 44/50\n",
            "244/244 [==============================] - 11s 44ms/step - loss: 0.1237 - auc: 0.9996 - val_loss: 0.1075 - val_auc: 1.0000\n",
            "Epoch 45/50\n",
            "244/244 [==============================] - 11s 44ms/step - loss: 0.1209 - auc: 0.9996 - val_loss: 0.1027 - val_auc: 1.0000\n",
            "Epoch 46/50\n",
            "244/244 [==============================] - 11s 44ms/step - loss: 0.1184 - auc: 0.9996 - val_loss: 0.1136 - val_auc: 0.9999\n",
            "Epoch 47/50\n",
            "244/244 [==============================] - 11s 44ms/step - loss: 0.1162 - auc: 0.9996 - val_loss: 0.0999 - val_auc: 1.0000\n",
            "Epoch 48/50\n",
            "244/244 [==============================] - 11s 44ms/step - loss: 0.1123 - auc: 0.9996 - val_loss: 0.0950 - val_auc: 1.0000\n",
            "Epoch 49/50\n",
            "244/244 [==============================] - 11s 44ms/step - loss: 0.1086 - auc: 0.9996 - val_loss: 0.0932 - val_auc: 1.0000\n",
            "Epoch 50/50\n",
            "244/244 [==============================] - 11s 44ms/step - loss: 0.1098 - auc: 0.9996 - val_loss: 0.0950 - val_auc: 1.0000\n"
          ]
        }
      ]
    },
    {
      "cell_type": "code",
      "metadata": {
        "execution": {
          "iopub.status.busy": "2021-09-09T08:54:56.564208Z",
          "iopub.execute_input": "2021-09-09T08:54:56.564589Z",
          "iopub.status.idle": "2021-09-09T08:54:56.821291Z",
          "shell.execute_reply.started": "2021-09-09T08:54:56.564557Z",
          "shell.execute_reply": "2021-09-09T08:54:56.820104Z"
        },
        "trusted": true,
        "id": "hOyjRAXkSg6P",
        "colab": {
          "base_uri": "https://localhost:8080/",
          "height": 513
        },
        "outputId": "c09b15e7-34d5-4761-8f44-bbe8ae27aa45"
      },
      "source": [
        "plt.figure(figsize = (13,8))\n",
        "plt.plot(history.history[\"auc\"], label = \"Train Accuracy\")\n",
        "plt.plot(history.history[\"val_auc\"],label = \"Validation Accuracy\")\n",
        "plt.title(\"Accuracies\")\n",
        "plt.xlabel(\"Epochs\")\n",
        "plt.ylabel(\"Accuracy\")\n",
        "plt.legend()\n",
        "plt.show()"
      ],
      "execution_count": 26,
      "outputs": [
        {
          "output_type": "display_data",
          "data": {
            "image/png": "[encoded data removed]",
            "text/plain": [
              "<Figure size 936x576 with 1 Axes>"
            ]
          },
          "metadata": {
            "needs_background": "light"
          }
        }
      ]
    },
    {
      "cell_type": "code",
      "metadata": {
        "execution": {
          "iopub.status.busy": "2021-09-09T08:55:16.009645Z",
          "iopub.execute_input": "2021-09-09T08:55:16.010058Z",
          "iopub.status.idle": "2021-09-09T08:55:16.225880Z",
          "shell.execute_reply.started": "2021-09-09T08:55:16.010024Z",
          "shell.execute_reply": "2021-09-09T08:55:16.224747Z"
        },
        "trusted": true,
        "id": "nsGxtkITSg6Q",
        "colab": {
          "base_uri": "https://localhost:8080/",
          "height": 513
        },
        "outputId": "ed2a2bda-0b11-4e82-8d74-69703bdbf3a1"
      },
      "source": [
        "plt.figure(figsize = (13,8))\n",
        "plt.plot(history.history[\"loss\"], label = \"Train Loss\")\n",
        "plt.plot(history.history[\"val_loss\"],label = \"Validation Loss\")\n",
        "plt.title(\"Losses\")\n",
        "plt.xlabel(\"Epochs\")\n",
        "plt.ylabel(\"Loss\")\n",
        "plt.legend()\n",
        "plt.show()"
      ],
      "execution_count": 27,
      "outputs": [
        {
          "output_type": "display_data",
          "data": {
            "image/png": "[encoded data removed]",
            "text/plain": [
              "<Figure size 936x576 with 1 Axes>"
            ]
          },
          "metadata": {
            "needs_background": "light"
          }
        }
      ]
    },
    {
      "cell_type": "code",
      "metadata": {
        "colab": {
          "base_uri": "https://localhost:8080/"
        },
        "id": "YFKGJBBoZRXm",
        "outputId": "b33954ad-fbd2-46e2-c222-d88d4356ae21"
      },
      "source": [
        "y_pred = model.predict(X_valid) #pedict on X_valid\n",
        "pred = np.argmax(y_pred, axis = 1) #index of largest value by column 열 기준 가장 큰 값의 인덱스\n",
        "\n",
        "result = pd.DataFrame(train_idt_valid) #BraTS21ID\n",
        "result[1] = pred #MGMT_value\n",
        "result.columns=[\"BraTS21ID\",\"MGMT_value\"]\n",
        "#Group by BraTS21ID and average + do not use index\n",
        "result_final = result.groupby(\"BraTS21ID\", as_index = False).mean()\n",
        "result_final = result_final.merge(train_df, on = \"BraTS21ID\") #merge train_df\n",
        "from sklearn.metrics import roc_auc_score\n",
        "roc_auc_score(result_final.MGMT_value_y, result_final.MGMT_value_x,)"
      ],
      "execution_count": 33,
      "outputs": [
        {
          "output_type": "execute_result",
          "data": {
            "text/plain": [
              "0.5429660429660429"
            ]
          },
          "metadata": {},
          "execution_count": 33
        }
      ]
    },
    {
      "cell_type": "code",
      "metadata": {
        "id": "Q29cSDmCZW5Z",
        "colab": {
          "base_uri": "https://localhost:8080/"
        },
        "outputId": "378584f3-1877-4bcb-f900-59f8b2a1e641"
      },
      "source": [
        "history = model.fit(\n",
        "    x=X_train,\n",
        "    y=y_train,\n",
        "    epochs=N_EPOCHS,\n",
        "    steps_per_epoch=steps_per_epoch,\n",
        "    validation_data=(X_valid2, y_valid2),\n",
        ")"
      ],
      "execution_count": 34,
      "outputs": [
        {
          "output_type": "stream",
          "name": "stdout",
          "text": [
            "Epoch 1/30\n",
            "244/244 [==============================] - 12s 46ms/step - loss: 7.8506 - auc_1: 0.6626 - val_loss: 5.2981 - val_auc_1: 0.7022\n",
            "Epoch 2/30\n",
            "244/244 [==============================] - 11s 44ms/step - loss: 3.8592 - auc_1: 0.8149 - val_loss: 2.8880 - val_auc_1: 0.8015\n",
            "Epoch 3/30\n",
            "244/244 [==============================] - 11s 44ms/step - loss: 2.1468 - auc_1: 0.9160 - val_loss: 1.8180 - val_auc_1: 0.8514\n",
            "Epoch 4/30\n",
            "244/244 [==============================] - 11s 44ms/step - loss: 1.3078 - auc_1: 0.9684 - val_loss: 1.2687 - val_auc_1: 0.8861\n",
            "Epoch 5/30\n",
            "244/244 [==============================] - 11s 44ms/step - loss: 0.8664 - auc_1: 0.9873 - val_loss: 1.0047 - val_auc_1: 0.8937\n",
            "Epoch 6/30\n",
            "244/244 [==============================] - 11s 44ms/step - loss: 0.6213 - auc_1: 0.9941 - val_loss: 0.8584 - val_auc_1: 0.8957\n",
            "Epoch 7/30\n",
            "244/244 [==============================] - 11s 44ms/step - loss: 0.4817 - auc_1: 0.9964 - val_loss: 0.7931 - val_auc_1: 0.8948\n",
            "Epoch 8/30\n",
            "244/244 [==============================] - 11s 44ms/step - loss: 0.4057 - auc_1: 0.9970 - val_loss: 0.7513 - val_auc_1: 0.8951\n",
            "Epoch 9/30\n",
            "244/244 [==============================] - 11s 44ms/step - loss: 0.3726 - auc_1: 0.9967 - val_loss: 0.7155 - val_auc_1: 0.9027\n",
            "Epoch 10/30\n",
            "244/244 [==============================] - 11s 44ms/step - loss: 0.3461 - auc_1: 0.9972 - val_loss: 0.7242 - val_auc_1: 0.8976\n",
            "Epoch 11/30\n",
            "244/244 [==============================] - 11s 44ms/step - loss: 0.3364 - auc_1: 0.9967 - val_loss: 0.7168 - val_auc_1: 0.8991\n",
            "Epoch 12/30\n",
            "244/244 [==============================] - 11s 44ms/step - loss: 0.3175 - auc_1: 0.9978 - val_loss: 0.6937 - val_auc_1: 0.9024\n",
            "Epoch 13/30\n",
            "244/244 [==============================] - 11s 44ms/step - loss: 0.3031 - auc_1: 0.9978 - val_loss: 0.7004 - val_auc_1: 0.9003\n",
            "Epoch 14/30\n",
            "244/244 [==============================] - 11s 44ms/step - loss: 0.2823 - auc_1: 0.9984 - val_loss: 0.6930 - val_auc_1: 0.9005\n",
            "Epoch 15/30\n",
            "244/244 [==============================] - 11s 44ms/step - loss: 0.2753 - auc_1: 0.9982 - val_loss: 0.7572 - val_auc_1: 0.8886\n",
            "Epoch 16/30\n",
            "244/244 [==============================] - 11s 44ms/step - loss: 0.2721 - auc_1: 0.9982 - val_loss: 0.7056 - val_auc_1: 0.8996\n",
            "Epoch 17/30\n",
            "244/244 [==============================] - 11s 44ms/step - loss: 0.2615 - auc_1: 0.9985 - val_loss: 0.6700 - val_auc_1: 0.9061\n",
            "Epoch 18/30\n",
            "244/244 [==============================] - 11s 44ms/step - loss: 0.2580 - auc_1: 0.9984 - val_loss: 0.6962 - val_auc_1: 0.8975\n",
            "Epoch 19/30\n",
            "244/244 [==============================] - 11s 44ms/step - loss: 0.2492 - auc_1: 0.9986 - val_loss: 0.6794 - val_auc_1: 0.9006\n",
            "Epoch 20/30\n",
            "244/244 [==============================] - 11s 44ms/step - loss: 0.2409 - auc_1: 0.9987 - val_loss: 0.6889 - val_auc_1: 0.8962\n",
            "Epoch 21/30\n",
            "244/244 [==============================] - 11s 44ms/step - loss: 0.2401 - auc_1: 0.9984 - val_loss: 0.7572 - val_auc_1: 0.8899\n",
            "Epoch 22/30\n",
            "244/244 [==============================] - 11s 44ms/step - loss: 0.2234 - auc_1: 0.9990 - val_loss: 0.6689 - val_auc_1: 0.9018\n",
            "Epoch 23/30\n",
            "244/244 [==============================] - 11s 44ms/step - loss: 0.2087 - auc_1: 0.9992 - val_loss: 0.6604 - val_auc_1: 0.9043\n",
            "Epoch 24/30\n",
            "244/244 [==============================] - 11s 44ms/step - loss: 0.2021 - auc_1: 0.9992 - val_loss: 0.6821 - val_auc_1: 0.9009\n",
            "Epoch 25/30\n",
            "244/244 [==============================] - 11s 44ms/step - loss: 0.2057 - auc_1: 0.9989 - val_loss: 0.6746 - val_auc_1: 0.9020\n",
            "Epoch 26/30\n",
            "244/244 [==============================] - 11s 44ms/step - loss: 0.2033 - auc_1: 0.9989 - val_loss: 0.6828 - val_auc_1: 0.9032\n",
            "Epoch 27/30\n",
            "244/244 [==============================] - 11s 45ms/step - loss: 0.1986 - auc_1: 0.9990 - val_loss: 0.6889 - val_auc_1: 0.8923\n",
            "Epoch 28/30\n",
            "244/244 [==============================] - 11s 45ms/step - loss: 0.1893 - auc_1: 0.9991 - val_loss: 0.7230 - val_auc_1: 0.8968\n",
            "Epoch 29/30\n",
            "244/244 [==============================] - 11s 44ms/step - loss: 0.1817 - auc_1: 0.9993 - val_loss: 0.6792 - val_auc_1: 0.8968\n",
            "Epoch 30/30\n",
            "244/244 [==============================] - 11s 44ms/step - loss: 0.1743 - auc_1: 0.9994 - val_loss: 0.6459 - val_auc_1: 0.9040\n"
          ]
        }
      ]
    },
    {
      "cell_type": "code",
      "metadata": {
        "colab": {
          "base_uri": "https://localhost:8080/",
          "height": 232
        },
        "id": "Kkn5Wkp10DIc",
        "outputId": "9dc25930-08c7-4652-88f9-d31be1b8e12a"
      },
      "source": [
        "plt.figure(figsize = (13,8))\n",
        "plt.plot(history.history[\"auc_1\"], label = \"Train Accuracy\")\n",
        "plt.plot(history.history[\"val_auc_1\"],label = \"Validation Accuracy\")\n",
        "plt.title(\"Accuracies\")\n",
        "plt.xlabel(\"Epochs\")\n",
        "plt.ylabel(\"Accuracy\")\n",
        "plt.legend()\n",
        "plt.show()"
      ],
      "execution_count": 1,
      "outputs": [
        {
          "output_type": "error",
          "ename": "NameError",
          "evalue": "ignored",
          "traceback": [
            "\u001b[0;31m---------------------------------------------------------------------------\u001b[0m",
            "\u001b[0;31mNameError\u001b[0m                                 Traceback (most recent call last)",
            "\u001b[0;32m<ipython-input-1-fc282c9112f8>\u001b[0m in \u001b[0;36m<module>\u001b[0;34m()\u001b[0m\n\u001b[0;32m----> 1\u001b[0;31m \u001b[0mplt\u001b[0m\u001b[0;34m.\u001b[0m\u001b[0mfigure\u001b[0m\u001b[0;34m(\u001b[0m\u001b[0mfigsize\u001b[0m \u001b[0;34m=\u001b[0m \u001b[0;34m(\u001b[0m\u001b[0;36m13\u001b[0m\u001b[0;34m,\u001b[0m\u001b[0;36m8\u001b[0m\u001b[0;34m)\u001b[0m\u001b[0;34m)\u001b[0m\u001b[0;34m\u001b[0m\u001b[0;34m\u001b[0m\u001b[0m\n\u001b[0m\u001b[1;32m      2\u001b[0m \u001b[0mplt\u001b[0m\u001b[0;34m.\u001b[0m\u001b[0mplot\u001b[0m\u001b[0;34m(\u001b[0m\u001b[0mhistory\u001b[0m\u001b[0;34m.\u001b[0m\u001b[0mhistory\u001b[0m\u001b[0;34m[\u001b[0m\u001b[0;34m\"auc_1\"\u001b[0m\u001b[0;34m]\u001b[0m\u001b[0;34m,\u001b[0m \u001b[0mlabel\u001b[0m \u001b[0;34m=\u001b[0m \u001b[0;34m\"Train Accuracy\"\u001b[0m\u001b[0;34m)\u001b[0m\u001b[0;34m\u001b[0m\u001b[0;34m\u001b[0m\u001b[0m\n\u001b[1;32m      3\u001b[0m \u001b[0mplt\u001b[0m\u001b[0;34m.\u001b[0m\u001b[0mplot\u001b[0m\u001b[0;34m(\u001b[0m\u001b[0mhistory\u001b[0m\u001b[0;34m.\u001b[0m\u001b[0mhistory\u001b[0m\u001b[0;34m[\u001b[0m\u001b[0;34m\"val_auc_1\"\u001b[0m\u001b[0;34m]\u001b[0m\u001b[0;34m,\u001b[0m\u001b[0mlabel\u001b[0m \u001b[0;34m=\u001b[0m \u001b[0;34m\"Validation Accuracy\"\u001b[0m\u001b[0;34m)\u001b[0m\u001b[0;34m\u001b[0m\u001b[0;34m\u001b[0m\u001b[0m\n\u001b[1;32m      4\u001b[0m \u001b[0mplt\u001b[0m\u001b[0;34m.\u001b[0m\u001b[0mtitle\u001b[0m\u001b[0;34m(\u001b[0m\u001b[0;34m\"Accuracies\"\u001b[0m\u001b[0;34m)\u001b[0m\u001b[0;34m\u001b[0m\u001b[0;34m\u001b[0m\u001b[0m\n\u001b[1;32m      5\u001b[0m \u001b[0mplt\u001b[0m\u001b[0;34m.\u001b[0m\u001b[0mxlabel\u001b[0m\u001b[0;34m(\u001b[0m\u001b[0;34m\"Epochs\"\u001b[0m\u001b[0;34m)\u001b[0m\u001b[0;34m\u001b[0m\u001b[0;34m\u001b[0m\u001b[0m\n",
            "\u001b[0;31mNameError\u001b[0m: name 'plt' is not defined"
          ]
        }
      ]
    },
    {
      "cell_type": "code",
      "metadata": {
        "id": "JY2utw2R0HhW"
      },
      "source": [
        "plt.figure(figsize = (13,8))\n",
        "plt.plot(history.history[\"loss\"], label = \"Train Loss\")\n",
        "plt.plot(history.history[\"val_loss\"],label = \"Validation Loss\")\n",
        "plt.title(\"Losses\")\n",
        "plt.xlabel(\"Epochs\")\n",
        "plt.ylabel(\"Loss\")\n",
        "plt.legend()\n",
        "plt.show()"
      ],
      "execution_count": null,
      "outputs": []
    }
  ]
}