{
  "nbformat": 4,
  "nbformat_minor": 0,
  "metadata": {
    "colab": {
      "name": "1007_EDA2.ipynb",
      "provenance": [],
      "machine_shape": "hm",
      "mount_file_id": "1Jq7KVL6_kfqLYAo1lDzGiorkb46kmlrv",
      "authorship_tag": "ABX9TyOWy5bbcjEyTSBYf0413WMG",
      "include_colab_link": true
    },
    "kernelspec": {
      "name": "python3",
      "display_name": "Python 3"
    },
    "language_info": {
      "name": "python"
    }
  },
  "cells": [
    {
      "cell_type": "markdown",
      "metadata": {
        "id": "view-in-github",
        "colab_type": "text"
      },
      "source": [
        "<a href=\"https://colab.research.google.com/github/johanjun/Google_Machine_Learning_Bootcamp_KR_2021/blob/main/kaggle/RSNA_MICCAI_BRAIN_TUMOR/1007_EDA2.ipynb\" target=\"_parent\"><img src=\"https://colab.research.google.com/assets/colab-badge.svg\" alt=\"Open In Colab\"/></a>"
      ]
    },
    {
      "cell_type": "code",
      "metadata": {
        "colab": {
          "base_uri": "https://localhost:8080/"
        },
        "id": "GheBTP8pq2HT",
        "outputId": "685437fe-dc8e-4627-8a78-ac7ce54abb27"
      },
      "source": [
        "pip install pydicom"
      ],
      "execution_count": null,
      "outputs": [
        {
          "output_type": "stream",
          "name": "stdout",
          "text": [
            "Collecting pydicom\n",
            "  Downloading pydicom-2.2.2-py3-none-any.whl (2.0 MB)\n",
            "\u001b[K     |████████████████████████████████| 2.0 MB 4.1 MB/s \n",
            "\u001b[?25hInstalling collected packages: pydicom\n",
            "Successfully installed pydicom-2.2.2\n"
          ]
        }
      ]
    },
    {
      "cell_type": "code",
      "metadata": {
        "id": "h1_E_CRIrgSo"
      },
      "source": [
        "import numpy as np # linear algebra\n",
        "import pandas as pd # data processing, CSV file I/O (e.g. pd.read_csv)\n",
        "import os\n",
        "from tqdm import tqdm\n",
        "import random\n",
        "import pydicom\n",
        "import cv2\n",
        "import pickle\n",
        "\n",
        "import matplotlib.pyplot as plt\n",
        "import glob\n",
        "\n",
        "import tensorflow as tf\n",
        "from tensorflow import keras\n",
        "from tensorflow.keras.utils import to_categorical\n",
        "from sklearn.model_selection import train_test_split"
      ],
      "execution_count": null,
      "outputs": []
    },
    {
      "cell_type": "code",
      "metadata": {
        "id": "xL4Lc3PirjcN"
      },
      "source": [
        "data_dir = '/content/drive/MyDrive/Google_Machine_Learning_Bootcamp_KR_2021/RSNA_MICCAI/data/rsna-miccai/'"
      ],
      "execution_count": null,
      "outputs": []
    },
    {
      "cell_type": "code",
      "metadata": {
        "id": "p85Y04PAro0W"
      },
      "source": [
        "train_df = pd.read_csv(data_dir + \"train_labels.csv\")\n",
        "test_df = pd.read_csv(data_dir + \"sample_submission.csv\")"
      ],
      "execution_count": null,
      "outputs": []
    },
    {
      "cell_type": "code",
      "metadata": {
        "id": "LjB7SlIUrpwU"
      },
      "source": [
        "#refer: https://www.kaggle.com/arnabs007/part-1-rsna-miccai-btrc-understanding-the-data\n",
        "EXCLUDE = [109, 123, 709]\n",
        "train_df = train_df[~train_df.BraTS21ID.isin(EXCLUDE)]"
      ],
      "execution_count": null,
      "outputs": []
    },
    {
      "cell_type": "code",
      "metadata": {
        "colab": {
          "base_uri": "https://localhost:8080/",
          "height": 204
        },
        "id": "70zT2rzQrrIC",
        "outputId": "572edf23-bd14-4954-f500-f1ba711cb932"
      },
      "source": [
        "train_df.head()"
      ],
      "execution_count": null,
      "outputs": [
        {
          "output_type": "execute_result",
          "data": {
            "text/html": [
              "<div>\n",
              "<style scoped>\n",
              "    .dataframe tbody tr th:only-of-type {\n",
              "        vertical-align: middle;\n",
              "    }\n",
              "\n",
              "    .dataframe tbody tr th {\n",
              "        vertical-align: top;\n",
              "    }\n",
              "\n",
              "    .dataframe thead th {\n",
              "        text-align: right;\n",
              "    }\n",
              "</style>\n",
              "<table border=\"1\" class=\"dataframe\">\n",
              "  <thead>\n",
              "    <tr style=\"text-align: right;\">\n",
              "      <th></th>\n",
              "      <th>BraTS21ID</th>\n",
              "      <th>MGMT_value</th>\n",
              "    </tr>\n",
              "  </thead>\n",
              "  <tbody>\n",
              "    <tr>\n",
              "      <th>0</th>\n",
              "      <td>0</td>\n",
              "      <td>1</td>\n",
              "    </tr>\n",
              "    <tr>\n",
              "      <th>1</th>\n",
              "      <td>2</td>\n",
              "      <td>1</td>\n",
              "    </tr>\n",
              "    <tr>\n",
              "      <th>2</th>\n",
              "      <td>3</td>\n",
              "      <td>0</td>\n",
              "    </tr>\n",
              "    <tr>\n",
              "      <th>3</th>\n",
              "      <td>5</td>\n",
              "      <td>1</td>\n",
              "    </tr>\n",
              "    <tr>\n",
              "      <th>4</th>\n",
              "      <td>6</td>\n",
              "      <td>1</td>\n",
              "    </tr>\n",
              "  </tbody>\n",
              "</table>\n",
              "</div>"
            ],
            "text/plain": [
              "   BraTS21ID  MGMT_value\n",
              "0          0           1\n",
              "1          2           1\n",
              "2          3           0\n",
              "3          5           1\n",
              "4          6           1"
            ]
          },
          "metadata": {},
          "execution_count": 6
        }
      ]
    },
    {
      "cell_type": "code",
      "metadata": {
        "colab": {
          "base_uri": "https://localhost:8080/",
          "height": 419
        },
        "id": "z2L07hZcr5li",
        "outputId": "31025e7e-d77a-4c77-f52e-60b144258175"
      },
      "source": [
        "train_df[\"imfolder\"] = ['{0:05d}'.format(s) for s in train_df[\"BraTS21ID\"]]\n",
        "train_df"
      ],
      "execution_count": null,
      "outputs": [
        {
          "output_type": "execute_result",
          "data": {
            "text/html": [
              "<div>\n",
              "<style scoped>\n",
              "    .dataframe tbody tr th:only-of-type {\n",
              "        vertical-align: middle;\n",
              "    }\n",
              "\n",
              "    .dataframe tbody tr th {\n",
              "        vertical-align: top;\n",
              "    }\n",
              "\n",
              "    .dataframe thead th {\n",
              "        text-align: right;\n",
              "    }\n",
              "</style>\n",
              "<table border=\"1\" class=\"dataframe\">\n",
              "  <thead>\n",
              "    <tr style=\"text-align: right;\">\n",
              "      <th></th>\n",
              "      <th>BraTS21ID</th>\n",
              "      <th>MGMT_value</th>\n",
              "      <th>imfolder</th>\n",
              "    </tr>\n",
              "  </thead>\n",
              "  <tbody>\n",
              "    <tr>\n",
              "      <th>0</th>\n",
              "      <td>0</td>\n",
              "      <td>1</td>\n",
              "      <td>00000</td>\n",
              "    </tr>\n",
              "    <tr>\n",
              "      <th>1</th>\n",
              "      <td>2</td>\n",
              "      <td>1</td>\n",
              "      <td>00002</td>\n",
              "    </tr>\n",
              "    <tr>\n",
              "      <th>2</th>\n",
              "      <td>3</td>\n",
              "      <td>0</td>\n",
              "      <td>00003</td>\n",
              "    </tr>\n",
              "    <tr>\n",
              "      <th>3</th>\n",
              "      <td>5</td>\n",
              "      <td>1</td>\n",
              "      <td>00005</td>\n",
              "    </tr>\n",
              "    <tr>\n",
              "      <th>4</th>\n",
              "      <td>6</td>\n",
              "      <td>1</td>\n",
              "      <td>00006</td>\n",
              "    </tr>\n",
              "    <tr>\n",
              "      <th>...</th>\n",
              "      <td>...</td>\n",
              "      <td>...</td>\n",
              "      <td>...</td>\n",
              "    </tr>\n",
              "    <tr>\n",
              "      <th>580</th>\n",
              "      <td>1005</td>\n",
              "      <td>1</td>\n",
              "      <td>01005</td>\n",
              "    </tr>\n",
              "    <tr>\n",
              "      <th>581</th>\n",
              "      <td>1007</td>\n",
              "      <td>1</td>\n",
              "      <td>01007</td>\n",
              "    </tr>\n",
              "    <tr>\n",
              "      <th>582</th>\n",
              "      <td>1008</td>\n",
              "      <td>1</td>\n",
              "      <td>01008</td>\n",
              "    </tr>\n",
              "    <tr>\n",
              "      <th>583</th>\n",
              "      <td>1009</td>\n",
              "      <td>0</td>\n",
              "      <td>01009</td>\n",
              "    </tr>\n",
              "    <tr>\n",
              "      <th>584</th>\n",
              "      <td>1010</td>\n",
              "      <td>0</td>\n",
              "      <td>01010</td>\n",
              "    </tr>\n",
              "  </tbody>\n",
              "</table>\n",
              "<p>582 rows × 3 columns</p>\n",
              "</div>"
            ],
            "text/plain": [
              "     BraTS21ID  MGMT_value imfolder\n",
              "0            0           1    00000\n",
              "1            2           1    00002\n",
              "2            3           0    00003\n",
              "3            5           1    00005\n",
              "4            6           1    00006\n",
              "..         ...         ...      ...\n",
              "580       1005           1    01005\n",
              "581       1007           1    01007\n",
              "582       1008           1    01008\n",
              "583       1009           0    01009\n",
              "584       1010           0    01010\n",
              "\n",
              "[582 rows x 3 columns]"
            ]
          },
          "metadata": {},
          "execution_count": 7
        }
      ]
    },
    {
      "cell_type": "code",
      "metadata": {
        "colab": {
          "base_uri": "https://localhost:8080/",
          "height": 204
        },
        "id": "JE3s9mIps7sH",
        "outputId": "6c82d0d8-f5ea-4ca0-8a02-a68d7420a8e9"
      },
      "source": [
        "train_path = data_dir + \"train\"\n",
        "\n",
        "train_df[\"path\"] = [os.path.join(train_path,s) for s in train_df[\"imfolder\"]  ]\n",
        "train_df.head()"
      ],
      "execution_count": null,
      "outputs": [
        {
          "output_type": "execute_result",
          "data": {
            "text/html": [
              "<div>\n",
              "<style scoped>\n",
              "    .dataframe tbody tr th:only-of-type {\n",
              "        vertical-align: middle;\n",
              "    }\n",
              "\n",
              "    .dataframe tbody tr th {\n",
              "        vertical-align: top;\n",
              "    }\n",
              "\n",
              "    .dataframe thead th {\n",
              "        text-align: right;\n",
              "    }\n",
              "</style>\n",
              "<table border=\"1\" class=\"dataframe\">\n",
              "  <thead>\n",
              "    <tr style=\"text-align: right;\">\n",
              "      <th></th>\n",
              "      <th>BraTS21ID</th>\n",
              "      <th>MGMT_value</th>\n",
              "      <th>imfolder</th>\n",
              "      <th>path</th>\n",
              "    </tr>\n",
              "  </thead>\n",
              "  <tbody>\n",
              "    <tr>\n",
              "      <th>0</th>\n",
              "      <td>0</td>\n",
              "      <td>1</td>\n",
              "      <td>00000</td>\n",
              "      <td>/content/drive/MyDrive/Google_Machine_Learning...</td>\n",
              "    </tr>\n",
              "    <tr>\n",
              "      <th>1</th>\n",
              "      <td>2</td>\n",
              "      <td>1</td>\n",
              "      <td>00002</td>\n",
              "      <td>/content/drive/MyDrive/Google_Machine_Learning...</td>\n",
              "    </tr>\n",
              "    <tr>\n",
              "      <th>2</th>\n",
              "      <td>3</td>\n",
              "      <td>0</td>\n",
              "      <td>00003</td>\n",
              "      <td>/content/drive/MyDrive/Google_Machine_Learning...</td>\n",
              "    </tr>\n",
              "    <tr>\n",
              "      <th>3</th>\n",
              "      <td>5</td>\n",
              "      <td>1</td>\n",
              "      <td>00005</td>\n",
              "      <td>/content/drive/MyDrive/Google_Machine_Learning...</td>\n",
              "    </tr>\n",
              "    <tr>\n",
              "      <th>4</th>\n",
              "      <td>6</td>\n",
              "      <td>1</td>\n",
              "      <td>00006</td>\n",
              "      <td>/content/drive/MyDrive/Google_Machine_Learning...</td>\n",
              "    </tr>\n",
              "  </tbody>\n",
              "</table>\n",
              "</div>"
            ],
            "text/plain": [
              "   BraTS21ID  ...                                               path\n",
              "0          0  ...  /content/drive/MyDrive/Google_Machine_Learning...\n",
              "1          2  ...  /content/drive/MyDrive/Google_Machine_Learning...\n",
              "2          3  ...  /content/drive/MyDrive/Google_Machine_Learning...\n",
              "3          5  ...  /content/drive/MyDrive/Google_Machine_Learning...\n",
              "4          6  ...  /content/drive/MyDrive/Google_Machine_Learning...\n",
              "\n",
              "[5 rows x 4 columns]"
            ]
          },
          "metadata": {},
          "execution_count": 8
        }
      ]
    },
    {
      "cell_type": "code",
      "metadata": {
        "id": "-Zol_KkesaAW"
      },
      "source": [
        "Scans = [\"FLAIR\",\"T1w\",\"T1wCE\",\"T2w\"]"
      ],
      "execution_count": null,
      "outputs": []
    },
    {
      "cell_type": "code",
      "metadata": {
        "colab": {
          "base_uri": "https://localhost:8080/",
          "height": 300
        },
        "id": "luodLyNKsu0E",
        "outputId": "a9ba4276-6bec-4332-c36c-441a6891b472"
      },
      "source": [
        "for scan in Scans:\n",
        "    train_df[scan +\"_count\"] = [ len(os.listdir(os.path.join(train_df[\"path\"].iloc[s],scan))) for s in tqdm(range(len(train_df)))]"
      ],
      "execution_count": null,
      "outputs": [
        {
          "output_type": "stream",
          "name": "stderr",
          "text": [
            "  0%|          | 2/582 [00:09<40:42,  4.21s/it]  "
          ]
        },
        {
          "output_type": "error",
          "ename": "KeyboardInterrupt",
          "evalue": "ignored",
          "traceback": [
            "\u001b[0;31m---------------------------------------------------------------------------\u001b[0m",
            "\u001b[0;31mKeyboardInterrupt\u001b[0m                         Traceback (most recent call last)",
            "\u001b[0;32m<ipython-input-10-49c3342aac1b>\u001b[0m in \u001b[0;36m<module>\u001b[0;34m()\u001b[0m\n\u001b[1;32m      1\u001b[0m \u001b[0;32mfor\u001b[0m \u001b[0mscan\u001b[0m \u001b[0;32min\u001b[0m \u001b[0mScans\u001b[0m\u001b[0;34m:\u001b[0m\u001b[0;34m\u001b[0m\u001b[0;34m\u001b[0m\u001b[0m\n\u001b[0;32m----> 2\u001b[0;31m     \u001b[0mtrain_df\u001b[0m\u001b[0;34m[\u001b[0m\u001b[0mscan\u001b[0m \u001b[0;34m+\u001b[0m\u001b[0;34m\"_count\"\u001b[0m\u001b[0;34m]\u001b[0m \u001b[0;34m=\u001b[0m \u001b[0;34m[\u001b[0m \u001b[0mlen\u001b[0m\u001b[0;34m(\u001b[0m\u001b[0mos\u001b[0m\u001b[0;34m.\u001b[0m\u001b[0mlistdir\u001b[0m\u001b[0;34m(\u001b[0m\u001b[0mos\u001b[0m\u001b[0;34m.\u001b[0m\u001b[0mpath\u001b[0m\u001b[0;34m.\u001b[0m\u001b[0mjoin\u001b[0m\u001b[0;34m(\u001b[0m\u001b[0mtrain_df\u001b[0m\u001b[0;34m[\u001b[0m\u001b[0;34m\"path\"\u001b[0m\u001b[0;34m]\u001b[0m\u001b[0;34m.\u001b[0m\u001b[0miloc\u001b[0m\u001b[0;34m[\u001b[0m\u001b[0ms\u001b[0m\u001b[0;34m]\u001b[0m\u001b[0;34m,\u001b[0m\u001b[0mscan\u001b[0m\u001b[0;34m)\u001b[0m\u001b[0;34m)\u001b[0m\u001b[0;34m)\u001b[0m \u001b[0;32mfor\u001b[0m \u001b[0ms\u001b[0m \u001b[0;32min\u001b[0m \u001b[0mtqdm\u001b[0m\u001b[0;34m(\u001b[0m\u001b[0mrange\u001b[0m\u001b[0;34m(\u001b[0m\u001b[0mlen\u001b[0m\u001b[0;34m(\u001b[0m\u001b[0mtrain_df\u001b[0m\u001b[0;34m)\u001b[0m\u001b[0;34m)\u001b[0m\u001b[0;34m)\u001b[0m\u001b[0;34m]\u001b[0m\u001b[0;34m\u001b[0m\u001b[0;34m\u001b[0m\u001b[0m\n\u001b[0m",
            "\u001b[0;32m<ipython-input-10-49c3342aac1b>\u001b[0m in \u001b[0;36m<listcomp>\u001b[0;34m(.0)\u001b[0m\n\u001b[1;32m      1\u001b[0m \u001b[0;32mfor\u001b[0m \u001b[0mscan\u001b[0m \u001b[0;32min\u001b[0m \u001b[0mScans\u001b[0m\u001b[0;34m:\u001b[0m\u001b[0;34m\u001b[0m\u001b[0;34m\u001b[0m\u001b[0m\n\u001b[0;32m----> 2\u001b[0;31m     \u001b[0mtrain_df\u001b[0m\u001b[0;34m[\u001b[0m\u001b[0mscan\u001b[0m \u001b[0;34m+\u001b[0m\u001b[0;34m\"_count\"\u001b[0m\u001b[0;34m]\u001b[0m \u001b[0;34m=\u001b[0m \u001b[0;34m[\u001b[0m \u001b[0mlen\u001b[0m\u001b[0;34m(\u001b[0m\u001b[0mos\u001b[0m\u001b[0;34m.\u001b[0m\u001b[0mlistdir\u001b[0m\u001b[0;34m(\u001b[0m\u001b[0mos\u001b[0m\u001b[0;34m.\u001b[0m\u001b[0mpath\u001b[0m\u001b[0;34m.\u001b[0m\u001b[0mjoin\u001b[0m\u001b[0;34m(\u001b[0m\u001b[0mtrain_df\u001b[0m\u001b[0;34m[\u001b[0m\u001b[0;34m\"path\"\u001b[0m\u001b[0;34m]\u001b[0m\u001b[0;34m.\u001b[0m\u001b[0miloc\u001b[0m\u001b[0;34m[\u001b[0m\u001b[0ms\u001b[0m\u001b[0;34m]\u001b[0m\u001b[0;34m,\u001b[0m\u001b[0mscan\u001b[0m\u001b[0;34m)\u001b[0m\u001b[0;34m)\u001b[0m\u001b[0;34m)\u001b[0m \u001b[0;32mfor\u001b[0m \u001b[0ms\u001b[0m \u001b[0;32min\u001b[0m \u001b[0mtqdm\u001b[0m\u001b[0;34m(\u001b[0m\u001b[0mrange\u001b[0m\u001b[0;34m(\u001b[0m\u001b[0mlen\u001b[0m\u001b[0;34m(\u001b[0m\u001b[0mtrain_df\u001b[0m\u001b[0;34m)\u001b[0m\u001b[0;34m)\u001b[0m\u001b[0;34m)\u001b[0m\u001b[0;34m]\u001b[0m\u001b[0;34m\u001b[0m\u001b[0;34m\u001b[0m\u001b[0m\n\u001b[0m",
            "\u001b[0;31mKeyboardInterrupt\u001b[0m: "
          ]
        }
      ]
    },
    {
      "cell_type": "code",
      "metadata": {
        "id": "v7Dy57ZfriHC"
      },
      "source": [
        "train_df.to_csv('train_df_count.csv')"
      ],
      "execution_count": null,
      "outputs": []
    },
    {
      "cell_type": "code",
      "metadata": {
        "id": "ZNrSr1pgjmxj"
      },
      "source": [
        "train_df = pd.read_csv(data_dir+'train_df_count.csv')"
      ],
      "execution_count": null,
      "outputs": []
    },
    {
      "cell_type": "code",
      "metadata": {
        "id": "QXnLVpZtKCa1"
      },
      "source": [
        "train_df.reset_index(drop=True, inplace=True)"
      ],
      "execution_count": null,
      "outputs": []
    },
    {
      "cell_type": "code",
      "metadata": {
        "colab": {
          "base_uri": "https://localhost:8080/",
          "height": 241
        },
        "id": "1QI4Pka9s32h",
        "outputId": "acff3be6-c0f9-4ee6-b040-079d184f3385"
      },
      "source": [
        "train_df.head()"
      ],
      "execution_count": null,
      "outputs": [
        {
          "output_type": "execute_result",
          "data": {
            "text/html": [
              "<div>\n",
              "<style scoped>\n",
              "    .dataframe tbody tr th:only-of-type {\n",
              "        vertical-align: middle;\n",
              "    }\n",
              "\n",
              "    .dataframe tbody tr th {\n",
              "        vertical-align: top;\n",
              "    }\n",
              "\n",
              "    .dataframe thead th {\n",
              "        text-align: right;\n",
              "    }\n",
              "</style>\n",
              "<table border=\"1\" class=\"dataframe\">\n",
              "  <thead>\n",
              "    <tr style=\"text-align: right;\">\n",
              "      <th></th>\n",
              "      <th>Unnamed: 0</th>\n",
              "      <th>BraTS21ID</th>\n",
              "      <th>MGMT_value</th>\n",
              "      <th>imfolder</th>\n",
              "      <th>path</th>\n",
              "      <th>FLAIR_count</th>\n",
              "      <th>T1w_count</th>\n",
              "      <th>T1wCE_count</th>\n",
              "      <th>T2w_count</th>\n",
              "    </tr>\n",
              "  </thead>\n",
              "  <tbody>\n",
              "    <tr>\n",
              "      <th>0</th>\n",
              "      <td>0</td>\n",
              "      <td>0</td>\n",
              "      <td>1</td>\n",
              "      <td>0</td>\n",
              "      <td>/content/drive/MyDrive/Google_Machine_Learning...</td>\n",
              "      <td>400</td>\n",
              "      <td>33</td>\n",
              "      <td>129</td>\n",
              "      <td>408</td>\n",
              "    </tr>\n",
              "    <tr>\n",
              "      <th>1</th>\n",
              "      <td>1</td>\n",
              "      <td>2</td>\n",
              "      <td>1</td>\n",
              "      <td>2</td>\n",
              "      <td>/content/drive/MyDrive/Google_Machine_Learning...</td>\n",
              "      <td>129</td>\n",
              "      <td>31</td>\n",
              "      <td>129</td>\n",
              "      <td>384</td>\n",
              "    </tr>\n",
              "    <tr>\n",
              "      <th>2</th>\n",
              "      <td>2</td>\n",
              "      <td>3</td>\n",
              "      <td>0</td>\n",
              "      <td>3</td>\n",
              "      <td>/content/drive/MyDrive/Google_Machine_Learning...</td>\n",
              "      <td>129</td>\n",
              "      <td>33</td>\n",
              "      <td>129</td>\n",
              "      <td>408</td>\n",
              "    </tr>\n",
              "    <tr>\n",
              "      <th>3</th>\n",
              "      <td>3</td>\n",
              "      <td>5</td>\n",
              "      <td>1</td>\n",
              "      <td>5</td>\n",
              "      <td>/content/drive/MyDrive/Google_Machine_Learning...</td>\n",
              "      <td>400</td>\n",
              "      <td>28</td>\n",
              "      <td>129</td>\n",
              "      <td>424</td>\n",
              "    </tr>\n",
              "    <tr>\n",
              "      <th>4</th>\n",
              "      <td>4</td>\n",
              "      <td>6</td>\n",
              "      <td>1</td>\n",
              "      <td>6</td>\n",
              "      <td>/content/drive/MyDrive/Google_Machine_Learning...</td>\n",
              "      <td>129</td>\n",
              "      <td>32</td>\n",
              "      <td>129</td>\n",
              "      <td>408</td>\n",
              "    </tr>\n",
              "  </tbody>\n",
              "</table>\n",
              "</div>"
            ],
            "text/plain": [
              "   Unnamed: 0  BraTS21ID  MGMT_value  ...  T1w_count T1wCE_count  T2w_count\n",
              "0           0          0           1  ...         33         129        408\n",
              "1           1          2           1  ...         31         129        384\n",
              "2           2          3           0  ...         33         129        408\n",
              "3           3          5           1  ...         28         129        424\n",
              "4           4          6           1  ...         32         129        408\n",
              "\n",
              "[5 rows x 9 columns]"
            ]
          },
          "metadata": {},
          "execution_count": 49
        }
      ]
    },
    {
      "cell_type": "code",
      "metadata": {
        "id": "gDUc4A14I7QZ"
      },
      "source": [
        "train_df_corr = train_df.corr()"
      ],
      "execution_count": null,
      "outputs": []
    },
    {
      "cell_type": "code",
      "metadata": {
        "colab": {
          "base_uri": "https://localhost:8080/",
          "height": 747
        },
        "id": "14zxBfDQJDZi",
        "outputId": "bfa83e92-e172-4722-9f61-cde2c15662b5"
      },
      "source": [
        "import seaborn as sns\n",
        "sns.clustermap(train_df_corr, \n",
        "               annot = True,      # 실제 값 화면에 나타내기\n",
        "               cmap = 'RdYlBu_r',  # Red, Yellow, Blue 색상으로 표시\n",
        "               vmin = -1, vmax = 1, #컬러차트 -1 ~ 1 범위로 표시\n",
        "              )"
      ],
      "execution_count": null,
      "outputs": [
        {
          "output_type": "execute_result",
          "data": {
            "text/plain": [
              "<seaborn.matrix.ClusterGrid at 0x7fc9a7457a50>"
            ]
          },
          "metadata": {},
          "execution_count": 51
        },
        {
          "output_type": "display_data",
          "data": {
            "image/png": "[encoded data removed]",
            "text/plain": [
              "<Figure size 720x720 with 4 Axes>"
            ]
          },
          "metadata": {
            "needs_background": "light"
          }
        }
      ]
    },
    {
      "cell_type": "code",
      "metadata": {
        "id": "WOYJ1yIwpc2g"
      },
      "source": [
        "train_df2 = train_df.copy()\n",
        "for i, v in train_df.iterrows():\n",
        "  # print(i)\n",
        "  if train_df.iloc[i, :].FLAIR_count < 150 or train_df.iloc[i, :].T1w_count < 150 or train_df.iloc[i, :].T1wCE_count < 150 or train_df.iloc[i, :].T2w_count < 150 :\n",
        "    train_df2.drop([i], inplace=True)"
      ],
      "execution_count": null,
      "outputs": []
    },
    {
      "cell_type": "code",
      "metadata": {
        "colab": {
          "base_uri": "https://localhost:8080/"
        },
        "id": "bMZPnrr7H8Z8",
        "outputId": "ba84fcb6-7b3b-4cb3-e590-a5aee25fd68c"
      },
      "source": [
        "train_df2.shape"
      ],
      "execution_count": null,
      "outputs": [
        {
          "output_type": "execute_result",
          "data": {
            "text/plain": [
              "(129, 9)"
            ]
          },
          "metadata": {},
          "execution_count": 68
        }
      ]
    },
    {
      "cell_type": "code",
      "metadata": {
        "colab": {
          "base_uri": "https://localhost:8080/"
        },
        "id": "fxNnUnUcpizP",
        "outputId": "bd5637e3-d28d-4e1d-926a-444dea820ec5"
      },
      "source": [
        "cd /content/drive/MyDrive/Google_Machine_Learning_Bootcamp_KR_2021/RSNA_MICCAI/data/rsna-miccai/"
      ],
      "execution_count": null,
      "outputs": [
        {
          "output_type": "stream",
          "name": "stdout",
          "text": [
            "/content/drive/MyDrive/Google_Machine_Learning_Bootcamp_KR_2021/RSNA_MICCAI/data/rsna-miccai\n"
          ]
        }
      ]
    },
    {
      "cell_type": "code",
      "metadata": {
        "colab": {
          "base_uri": "https://localhost:8080/",
          "height": 241
        },
        "id": "HClixvCPlKFS",
        "outputId": "424f2082-729e-47cd-8697-16de1f7bd1a0"
      },
      "source": [
        "train_df2.head()"
      ],
      "execution_count": null,
      "outputs": [
        {
          "output_type": "execute_result",
          "data": {
            "text/html": [
              "<div>\n",
              "<style scoped>\n",
              "    .dataframe tbody tr th:only-of-type {\n",
              "        vertical-align: middle;\n",
              "    }\n",
              "\n",
              "    .dataframe tbody tr th {\n",
              "        vertical-align: top;\n",
              "    }\n",
              "\n",
              "    .dataframe thead th {\n",
              "        text-align: right;\n",
              "    }\n",
              "</style>\n",
              "<table border=\"1\" class=\"dataframe\">\n",
              "  <thead>\n",
              "    <tr style=\"text-align: right;\">\n",
              "      <th></th>\n",
              "      <th>Unnamed: 0</th>\n",
              "      <th>BraTS21ID</th>\n",
              "      <th>MGMT_value</th>\n",
              "      <th>imfolder</th>\n",
              "      <th>path</th>\n",
              "      <th>FLAIR_count</th>\n",
              "      <th>T1w_count</th>\n",
              "      <th>T1wCE_count</th>\n",
              "      <th>T2w_count</th>\n",
              "    </tr>\n",
              "  </thead>\n",
              "  <tbody>\n",
              "    <tr>\n",
              "      <th>316</th>\n",
              "      <td>318</td>\n",
              "      <td>468</td>\n",
              "      <td>1</td>\n",
              "      <td>468</td>\n",
              "      <td>/content/drive/MyDrive/Google_Machine_Learning...</td>\n",
              "      <td>256</td>\n",
              "      <td>178</td>\n",
              "      <td>240</td>\n",
              "      <td>188</td>\n",
              "    </tr>\n",
              "    <tr>\n",
              "      <th>319</th>\n",
              "      <td>321</td>\n",
              "      <td>472</td>\n",
              "      <td>1</td>\n",
              "      <td>472</td>\n",
              "      <td>/content/drive/MyDrive/Google_Machine_Learning...</td>\n",
              "      <td>216</td>\n",
              "      <td>206</td>\n",
              "      <td>206</td>\n",
              "      <td>408</td>\n",
              "    </tr>\n",
              "    <tr>\n",
              "      <th>321</th>\n",
              "      <td>323</td>\n",
              "      <td>478</td>\n",
              "      <td>1</td>\n",
              "      <td>478</td>\n",
              "      <td>/content/drive/MyDrive/Google_Machine_Learning...</td>\n",
              "      <td>196</td>\n",
              "      <td>214</td>\n",
              "      <td>214</td>\n",
              "      <td>376</td>\n",
              "    </tr>\n",
              "    <tr>\n",
              "      <th>322</th>\n",
              "      <td>324</td>\n",
              "      <td>479</td>\n",
              "      <td>1</td>\n",
              "      <td>479</td>\n",
              "      <td>/content/drive/MyDrive/Google_Machine_Learning...</td>\n",
              "      <td>216</td>\n",
              "      <td>156</td>\n",
              "      <td>256</td>\n",
              "      <td>256</td>\n",
              "    </tr>\n",
              "    <tr>\n",
              "      <th>323</th>\n",
              "      <td>325</td>\n",
              "      <td>480</td>\n",
              "      <td>1</td>\n",
              "      <td>480</td>\n",
              "      <td>/content/drive/MyDrive/Google_Machine_Learning...</td>\n",
              "      <td>196</td>\n",
              "      <td>296</td>\n",
              "      <td>296</td>\n",
              "      <td>192</td>\n",
              "    </tr>\n",
              "  </tbody>\n",
              "</table>\n",
              "</div>"
            ],
            "text/plain": [
              "     Unnamed: 0  BraTS21ID  MGMT_value  ...  T1w_count T1wCE_count  T2w_count\n",
              "316         318        468           1  ...        178         240        188\n",
              "319         321        472           1  ...        206         206        408\n",
              "321         323        478           1  ...        214         214        376\n",
              "322         324        479           1  ...        156         256        256\n",
              "323         325        480           1  ...        296         296        192\n",
              "\n",
              "[5 rows x 9 columns]"
            ]
          },
          "metadata": {},
          "execution_count": 69
        }
      ]
    },
    {
      "cell_type": "code",
      "metadata": {
        "id": "_l037Ttep5Ta"
      },
      "source": [
        "del train_df2['Unnamed: 0']"
      ],
      "execution_count": null,
      "outputs": []
    },
    {
      "cell_type": "code",
      "metadata": {
        "id": "U0_YICa1qLmA"
      },
      "source": [
        "del train_df2['imfolder']"
      ],
      "execution_count": null,
      "outputs": []
    },
    {
      "cell_type": "code",
      "metadata": {
        "id": "d2IpcEKdqOIj"
      },
      "source": [
        "del train_df2['path']"
      ],
      "execution_count": null,
      "outputs": []
    },
    {
      "cell_type": "code",
      "metadata": {
        "id": "V88Q0i9hqQId"
      },
      "source": [
        "del train_df2['FLAIR_count']\n",
        "del train_df2['T1w_count']\n",
        "del train_df2['T1wCE_count']\n",
        "del train_df2['T2w_count']"
      ],
      "execution_count": null,
      "outputs": []
    },
    {
      "cell_type": "code",
      "metadata": {
        "colab": {
          "base_uri": "https://localhost:8080/",
          "height": 204
        },
        "id": "dyt9GdyBqVwL",
        "outputId": "c39b13d3-c8a0-4a73-dc26-4b52194df82a"
      },
      "source": [
        "train_df2.head()"
      ],
      "execution_count": null,
      "outputs": [
        {
          "output_type": "execute_result",
          "data": {
            "text/html": [
              "<div>\n",
              "<style scoped>\n",
              "    .dataframe tbody tr th:only-of-type {\n",
              "        vertical-align: middle;\n",
              "    }\n",
              "\n",
              "    .dataframe tbody tr th {\n",
              "        vertical-align: top;\n",
              "    }\n",
              "\n",
              "    .dataframe thead th {\n",
              "        text-align: right;\n",
              "    }\n",
              "</style>\n",
              "<table border=\"1\" class=\"dataframe\">\n",
              "  <thead>\n",
              "    <tr style=\"text-align: right;\">\n",
              "      <th></th>\n",
              "      <th>BraTS21ID</th>\n",
              "      <th>MGMT_value</th>\n",
              "    </tr>\n",
              "  </thead>\n",
              "  <tbody>\n",
              "    <tr>\n",
              "      <th>316</th>\n",
              "      <td>468</td>\n",
              "      <td>1</td>\n",
              "    </tr>\n",
              "    <tr>\n",
              "      <th>319</th>\n",
              "      <td>472</td>\n",
              "      <td>1</td>\n",
              "    </tr>\n",
              "    <tr>\n",
              "      <th>321</th>\n",
              "      <td>478</td>\n",
              "      <td>1</td>\n",
              "    </tr>\n",
              "    <tr>\n",
              "      <th>322</th>\n",
              "      <td>479</td>\n",
              "      <td>1</td>\n",
              "    </tr>\n",
              "    <tr>\n",
              "      <th>323</th>\n",
              "      <td>480</td>\n",
              "      <td>1</td>\n",
              "    </tr>\n",
              "  </tbody>\n",
              "</table>\n",
              "</div>"
            ],
            "text/plain": [
              "     BraTS21ID  MGMT_value\n",
              "316        468           1\n",
              "319        472           1\n",
              "321        478           1\n",
              "322        479           1\n",
              "323        480           1"
            ]
          },
          "metadata": {},
          "execution_count": 74
        }
      ]
    },
    {
      "cell_type": "code",
      "metadata": {
        "id": "sqXoD_aKqW9g"
      },
      "source": [
        "train_df2.reset_index(drop=True, inplace=True)"
      ],
      "execution_count": null,
      "outputs": []
    },
    {
      "cell_type": "code",
      "metadata": {
        "id": "OWEzsKOtqeBn",
        "colab": {
          "base_uri": "https://localhost:8080/",
          "height": 204
        },
        "outputId": "fd6698ca-819c-48e0-ce69-9bb5106352ef"
      },
      "source": [
        "train_df2.tail()"
      ],
      "execution_count": null,
      "outputs": [
        {
          "output_type": "execute_result",
          "data": {
            "text/html": [
              "<div>\n",
              "<style scoped>\n",
              "    .dataframe tbody tr th:only-of-type {\n",
              "        vertical-align: middle;\n",
              "    }\n",
              "\n",
              "    .dataframe tbody tr th {\n",
              "        vertical-align: top;\n",
              "    }\n",
              "\n",
              "    .dataframe thead th {\n",
              "        text-align: right;\n",
              "    }\n",
              "</style>\n",
              "<table border=\"1\" class=\"dataframe\">\n",
              "  <thead>\n",
              "    <tr style=\"text-align: right;\">\n",
              "      <th></th>\n",
              "      <th>BraTS21ID</th>\n",
              "      <th>MGMT_value</th>\n",
              "    </tr>\n",
              "  </thead>\n",
              "  <tbody>\n",
              "    <tr>\n",
              "      <th>124</th>\n",
              "      <td>768</td>\n",
              "      <td>1</td>\n",
              "    </tr>\n",
              "    <tr>\n",
              "      <th>125</th>\n",
              "      <td>772</td>\n",
              "      <td>1</td>\n",
              "    </tr>\n",
              "    <tr>\n",
              "      <th>126</th>\n",
              "      <td>773</td>\n",
              "      <td>1</td>\n",
              "    </tr>\n",
              "    <tr>\n",
              "      <th>127</th>\n",
              "      <td>774</td>\n",
              "      <td>0</td>\n",
              "    </tr>\n",
              "    <tr>\n",
              "      <th>128</th>\n",
              "      <td>775</td>\n",
              "      <td>1</td>\n",
              "    </tr>\n",
              "  </tbody>\n",
              "</table>\n",
              "</div>"
            ],
            "text/plain": [
              "     BraTS21ID  MGMT_value\n",
              "124        768           1\n",
              "125        772           1\n",
              "126        773           1\n",
              "127        774           0\n",
              "128        775           1"
            ]
          },
          "metadata": {},
          "execution_count": 76
        }
      ]
    },
    {
      "cell_type": "code",
      "metadata": {
        "id": "JJ8sBKavMZ16",
        "colab": {
          "base_uri": "https://localhost:8080/",
          "height": 35
        },
        "outputId": "6984777c-87cf-4a94-8e0a-bd139fc4215a"
      },
      "source": [
        "pwd"
      ],
      "execution_count": null,
      "outputs": [
        {
          "output_type": "execute_result",
          "data": {
            "application/vnd.google.colaboratory.intrinsic+json": {
              "type": "string"
            },
            "text/plain": [
              "'/content/drive/My Drive/Google_Machine_Learning_Bootcamp_KR_2021/RSNA_MICCAI/data/rsna-miccai'"
            ]
          },
          "metadata": {},
          "execution_count": 88
        }
      ]
    },
    {
      "cell_type": "code",
      "metadata": {
        "id": "F0Lx3hllmo7v"
      },
      "source": [
        "train_df2.to_csv('train_df(over150).csv')"
      ],
      "execution_count": null,
      "outputs": []
    },
    {
      "cell_type": "code",
      "metadata": {
        "colab": {
          "base_uri": "https://localhost:8080/"
        },
        "id": "0jOgQalCmQ3M",
        "outputId": "764a2218-6e1d-425a-f05a-6957afe8176c"
      },
      "source": [
        "train_df2.MGMT_value.value_counts()"
      ],
      "execution_count": null,
      "outputs": [
        {
          "output_type": "execute_result",
          "data": {
            "text/plain": [
              "1    80\n",
              "0    49\n",
              "Name: MGMT_value, dtype: int64"
            ]
          },
          "metadata": {},
          "execution_count": 79
        }
      ]
    },
    {
      "cell_type": "code",
      "metadata": {
        "id": "mkQJNFZDwDJO",
        "colab": {
          "base_uri": "https://localhost:8080/",
          "height": 580
        },
        "outputId": "a62263eb-e7db-4e63-d129-cae206b8fe31"
      },
      "source": [
        "plt.figure(figsize=(18,10))\n",
        "plt.hist(train_df2.FLAIR_count, bins=50)\n",
        "plt.show()"
      ],
      "execution_count": null,
      "outputs": [
        {
          "output_type": "display_data",
          "data": {
            "image/png": "[encoded data removed]",
            "text/plain": [
              "<Figure size 1296x720 with 1 Axes>"
            ]
          },
          "metadata": {
            "needs_background": "light"
          }
        }
      ]
    },
    {
      "cell_type": "code",
      "metadata": {
        "colab": {
          "base_uri": "https://localhost:8080/",
          "height": 204
        },
        "id": "guQY8I8tzII4",
        "outputId": "42179050-3fac-4816-9d9b-c1082244ad27"
      },
      "source": [
        "train_df2.iloc[:, -4:].head()"
      ],
      "execution_count": null,
      "outputs": [
        {
          "output_type": "execute_result",
          "data": {
            "text/html": [
              "<div>\n",
              "<style scoped>\n",
              "    .dataframe tbody tr th:only-of-type {\n",
              "        vertical-align: middle;\n",
              "    }\n",
              "\n",
              "    .dataframe tbody tr th {\n",
              "        vertical-align: top;\n",
              "    }\n",
              "\n",
              "    .dataframe thead th {\n",
              "        text-align: right;\n",
              "    }\n",
              "</style>\n",
              "<table border=\"1\" class=\"dataframe\">\n",
              "  <thead>\n",
              "    <tr style=\"text-align: right;\">\n",
              "      <th></th>\n",
              "      <th>FLAIR_count</th>\n",
              "      <th>T1w_count</th>\n",
              "      <th>T1wCE_count</th>\n",
              "      <th>T2w_count</th>\n",
              "    </tr>\n",
              "  </thead>\n",
              "  <tbody>\n",
              "    <tr>\n",
              "      <th>316</th>\n",
              "      <td>256</td>\n",
              "      <td>178</td>\n",
              "      <td>240</td>\n",
              "      <td>188</td>\n",
              "    </tr>\n",
              "    <tr>\n",
              "      <th>319</th>\n",
              "      <td>216</td>\n",
              "      <td>206</td>\n",
              "      <td>206</td>\n",
              "      <td>408</td>\n",
              "    </tr>\n",
              "    <tr>\n",
              "      <th>321</th>\n",
              "      <td>196</td>\n",
              "      <td>214</td>\n",
              "      <td>214</td>\n",
              "      <td>376</td>\n",
              "    </tr>\n",
              "    <tr>\n",
              "      <th>322</th>\n",
              "      <td>216</td>\n",
              "      <td>156</td>\n",
              "      <td>256</td>\n",
              "      <td>256</td>\n",
              "    </tr>\n",
              "    <tr>\n",
              "      <th>323</th>\n",
              "      <td>196</td>\n",
              "      <td>296</td>\n",
              "      <td>296</td>\n",
              "      <td>192</td>\n",
              "    </tr>\n",
              "  </tbody>\n",
              "</table>\n",
              "</div>"
            ],
            "text/plain": [
              "     FLAIR_count  T1w_count  T1wCE_count  T2w_count\n",
              "316          256        178          240        188\n",
              "319          216        206          206        408\n",
              "321          196        214          214        376\n",
              "322          216        156          256        256\n",
              "323          196        296          296        192"
            ]
          },
          "metadata": {},
          "execution_count": 86
        }
      ]
    },
    {
      "cell_type": "code",
      "metadata": {
        "colab": {
          "base_uri": "https://localhost:8080/",
          "height": 579
        },
        "id": "ArsHDhDRy5gZ",
        "outputId": "9f816be0-2e94-414a-d1aa-dbfdb250e6e7"
      },
      "source": [
        "graph1, graph2, graph3, graph4 = train_df2.iloc[:, -4:].plot(subplots=True, figsize=(14,10))\n",
        "plt.figure(figsize=(18,10))\n",
        "graph1.set_title(\"FLAIR\")\n",
        "graph2.set_title(\"T1w\")\n",
        "graph3.set_title(\"T1wCE\")\n",
        "graph4.set_title(\"T2w\")\n",
        "plt.show()"
      ],
      "execution_count": null,
      "outputs": [
        {
          "output_type": "display_data",
          "data": {
            "image/png": "[encoded data removed]",
            "text/plain": [
              "<Figure size 1008x720 with 4 Axes>"
            ]
          },
          "metadata": {
            "needs_background": "light"
          }
        },
        {
          "output_type": "display_data",
          "data": {
            "text/plain": [
              "<Figure size 1296x720 with 0 Axes>"
            ]
          },
          "metadata": {}
        }
      ]
    },
    {
      "cell_type": "code",
      "metadata": {
        "colab": {
          "base_uri": "https://localhost:8080/",
          "height": 297
        },
        "id": "YUVN9VvYv6wd",
        "outputId": "5075d9f8-e6b4-4574-e465-483a591bf7bf"
      },
      "source": [
        "train_df.describe()"
      ],
      "execution_count": null,
      "outputs": [
        {
          "output_type": "execute_result",
          "data": {
            "text/html": [
              "<div>\n",
              "<style scoped>\n",
              "    .dataframe tbody tr th:only-of-type {\n",
              "        vertical-align: middle;\n",
              "    }\n",
              "\n",
              "    .dataframe tbody tr th {\n",
              "        vertical-align: top;\n",
              "    }\n",
              "\n",
              "    .dataframe thead th {\n",
              "        text-align: right;\n",
              "    }\n",
              "</style>\n",
              "<table border=\"1\" class=\"dataframe\">\n",
              "  <thead>\n",
              "    <tr style=\"text-align: right;\">\n",
              "      <th></th>\n",
              "      <th>BraTS21ID</th>\n",
              "      <th>MGMT_value</th>\n",
              "      <th>FLAIR_count</th>\n",
              "      <th>T1w_count</th>\n",
              "      <th>T1wCE_count</th>\n",
              "      <th>T2w_count</th>\n",
              "    </tr>\n",
              "  </thead>\n",
              "  <tbody>\n",
              "    <tr>\n",
              "      <th>count</th>\n",
              "      <td>582.000000</td>\n",
              "      <td>582.000000</td>\n",
              "      <td>582.000000</td>\n",
              "      <td>582.000000</td>\n",
              "      <td>582.000000</td>\n",
              "      <td>582.000000</td>\n",
              "    </tr>\n",
              "    <tr>\n",
              "      <th>mean</th>\n",
              "      <td>431.785223</td>\n",
              "      <td>0.525773</td>\n",
              "      <td>127.164948</td>\n",
              "      <td>132.522337</td>\n",
              "      <td>165.580756</td>\n",
              "      <td>171.432990</td>\n",
              "    </tr>\n",
              "    <tr>\n",
              "      <th>std</th>\n",
              "      <td>251.249415</td>\n",
              "      <td>0.499765</td>\n",
              "      <td>101.333673</td>\n",
              "      <td>91.388893</td>\n",
              "      <td>81.362322</td>\n",
              "      <td>156.753097</td>\n",
              "    </tr>\n",
              "    <tr>\n",
              "      <th>min</th>\n",
              "      <td>0.000000</td>\n",
              "      <td>0.000000</td>\n",
              "      <td>15.000000</td>\n",
              "      <td>19.000000</td>\n",
              "      <td>19.000000</td>\n",
              "      <td>19.000000</td>\n",
              "    </tr>\n",
              "    <tr>\n",
              "      <th>25%</th>\n",
              "      <td>220.250000</td>\n",
              "      <td>0.000000</td>\n",
              "      <td>60.000000</td>\n",
              "      <td>32.000000</td>\n",
              "      <td>129.000000</td>\n",
              "      <td>64.000000</td>\n",
              "    </tr>\n",
              "    <tr>\n",
              "      <th>50%</th>\n",
              "      <td>424.000000</td>\n",
              "      <td>1.000000</td>\n",
              "      <td>60.000000</td>\n",
              "      <td>180.000000</td>\n",
              "      <td>192.000000</td>\n",
              "      <td>64.000000</td>\n",
              "    </tr>\n",
              "    <tr>\n",
              "      <th>75%</th>\n",
              "      <td>629.500000</td>\n",
              "      <td>1.000000</td>\n",
              "      <td>200.000000</td>\n",
              "      <td>192.000000</td>\n",
              "      <td>192.000000</td>\n",
              "      <td>376.000000</td>\n",
              "    </tr>\n",
              "    <tr>\n",
              "      <th>max</th>\n",
              "      <td>1010.000000</td>\n",
              "      <td>1.000000</td>\n",
              "      <td>514.000000</td>\n",
              "      <td>400.000000</td>\n",
              "      <td>400.000000</td>\n",
              "      <td>472.000000</td>\n",
              "    </tr>\n",
              "  </tbody>\n",
              "</table>\n",
              "</div>"
            ],
            "text/plain": [
              "         BraTS21ID  MGMT_value  ...  T1wCE_count   T2w_count\n",
              "count   582.000000  582.000000  ...   582.000000  582.000000\n",
              "mean    431.785223    0.525773  ...   165.580756  171.432990\n",
              "std     251.249415    0.499765  ...    81.362322  156.753097\n",
              "min       0.000000    0.000000  ...    19.000000   19.000000\n",
              "25%     220.250000    0.000000  ...   129.000000   64.000000\n",
              "50%     424.000000    1.000000  ...   192.000000   64.000000\n",
              "75%     629.500000    1.000000  ...   192.000000  376.000000\n",
              "max    1010.000000    1.000000  ...   400.000000  472.000000\n",
              "\n",
              "[8 rows x 6 columns]"
            ]
          },
          "metadata": {},
          "execution_count": 16
        }
      ]
    },
    {
      "cell_type": "code",
      "metadata": {
        "id": "2Td4Mo_Zv-Gj"
      },
      "source": [
        "allsame = [train_df[\"FLAIR_count\"].iloc[s] ==   train_df[\"T1w_count\"].iloc[s] ==train_df[\"T1wCE_count\"].iloc[s] ==train_df[\"T2w_count\"].iloc[s] \n",
        "          for s in range(len(train_df))]"
      ],
      "execution_count": null,
      "outputs": []
    },
    {
      "cell_type": "code",
      "metadata": {
        "colab": {
          "base_uri": "https://localhost:8080/",
          "height": 204
        },
        "id": "pRDNp3KIwPg0",
        "outputId": "13a2ad22-910f-44d3-eb00-f93726b32dda"
      },
      "source": [
        "train_df['allsame'] = allsame\n",
        "train_df.head()"
      ],
      "execution_count": null,
      "outputs": [
        {
          "output_type": "execute_result",
          "data": {
            "text/html": [
              "<div>\n",
              "<style scoped>\n",
              "    .dataframe tbody tr th:only-of-type {\n",
              "        vertical-align: middle;\n",
              "    }\n",
              "\n",
              "    .dataframe tbody tr th {\n",
              "        vertical-align: top;\n",
              "    }\n",
              "\n",
              "    .dataframe thead th {\n",
              "        text-align: right;\n",
              "    }\n",
              "</style>\n",
              "<table border=\"1\" class=\"dataframe\">\n",
              "  <thead>\n",
              "    <tr style=\"text-align: right;\">\n",
              "      <th></th>\n",
              "      <th>BraTS21ID</th>\n",
              "      <th>MGMT_value</th>\n",
              "      <th>imfolder</th>\n",
              "      <th>path</th>\n",
              "      <th>FLAIR_count</th>\n",
              "      <th>T1w_count</th>\n",
              "      <th>T1wCE_count</th>\n",
              "      <th>T2w_count</th>\n",
              "      <th>allsame</th>\n",
              "    </tr>\n",
              "  </thead>\n",
              "  <tbody>\n",
              "    <tr>\n",
              "      <th>0</th>\n",
              "      <td>0</td>\n",
              "      <td>1</td>\n",
              "      <td>00000</td>\n",
              "      <td>/content/drive/MyDrive/Google_Machine_Learning...</td>\n",
              "      <td>400</td>\n",
              "      <td>33</td>\n",
              "      <td>129</td>\n",
              "      <td>408</td>\n",
              "      <td>False</td>\n",
              "    </tr>\n",
              "    <tr>\n",
              "      <th>1</th>\n",
              "      <td>2</td>\n",
              "      <td>1</td>\n",
              "      <td>00002</td>\n",
              "      <td>/content/drive/MyDrive/Google_Machine_Learning...</td>\n",
              "      <td>129</td>\n",
              "      <td>31</td>\n",
              "      <td>129</td>\n",
              "      <td>384</td>\n",
              "      <td>False</td>\n",
              "    </tr>\n",
              "    <tr>\n",
              "      <th>2</th>\n",
              "      <td>3</td>\n",
              "      <td>0</td>\n",
              "      <td>00003</td>\n",
              "      <td>/content/drive/MyDrive/Google_Machine_Learning...</td>\n",
              "      <td>129</td>\n",
              "      <td>33</td>\n",
              "      <td>129</td>\n",
              "      <td>408</td>\n",
              "      <td>False</td>\n",
              "    </tr>\n",
              "    <tr>\n",
              "      <th>3</th>\n",
              "      <td>5</td>\n",
              "      <td>1</td>\n",
              "      <td>00005</td>\n",
              "      <td>/content/drive/MyDrive/Google_Machine_Learning...</td>\n",
              "      <td>400</td>\n",
              "      <td>28</td>\n",
              "      <td>129</td>\n",
              "      <td>424</td>\n",
              "      <td>False</td>\n",
              "    </tr>\n",
              "    <tr>\n",
              "      <th>4</th>\n",
              "      <td>6</td>\n",
              "      <td>1</td>\n",
              "      <td>00006</td>\n",
              "      <td>/content/drive/MyDrive/Google_Machine_Learning...</td>\n",
              "      <td>129</td>\n",
              "      <td>32</td>\n",
              "      <td>129</td>\n",
              "      <td>408</td>\n",
              "      <td>False</td>\n",
              "    </tr>\n",
              "  </tbody>\n",
              "</table>\n",
              "</div>"
            ],
            "text/plain": [
              "   BraTS21ID  MGMT_value imfolder  ... T1wCE_count  T2w_count  allsame\n",
              "0          0           1    00000  ...         129        408    False\n",
              "1          2           1    00002  ...         129        384    False\n",
              "2          3           0    00003  ...         129        408    False\n",
              "3          5           1    00005  ...         129        424    False\n",
              "4          6           1    00006  ...         129        408    False\n",
              "\n",
              "[5 rows x 9 columns]"
            ]
          },
          "metadata": {},
          "execution_count": 19
        }
      ]
    },
    {
      "cell_type": "code",
      "metadata": {
        "id": "lbF5XgA0wTSM"
      },
      "source": [
        "train_df_allsame = train_df[train_df['allsame']]"
      ],
      "execution_count": null,
      "outputs": []
    },
    {
      "cell_type": "code",
      "metadata": {
        "id": "z9nz3CTmxzKb"
      },
      "source": [
        "TYPES = [\"FLAIR\", \"T1w\", \"T1wCE\", \"T2w\"] "
      ],
      "execution_count": null,
      "outputs": []
    },
    {
      "cell_type": "code",
      "metadata": {
        "id": "lYiByPT0weXG"
      },
      "source": [
        "def load_dicom(path, size = 64): #load DICOM files\n",
        "    dicom = pydicom.read_file(path)\n",
        "    data = dicom.pixel_array #returns a numpy.ndarray containing the pixel data\n",
        "    if np.max(data) != 0:\n",
        "        data = data / np.max(data) #standardizes so that the pixel values are between 0 and 1\n",
        "    data = (data * 255).astype(np.uint8) #rescales to 0 and 255\n",
        "    return cv2.resize(data, (size, size))"
      ],
      "execution_count": null,
      "outputs": []
    },
    {
      "cell_type": "code",
      "metadata": {
        "id": "k67PLmuYwoCO"
      },
      "source": [
        "def get_all_image_paths(BraTS21ID, image_type, folder=\"train\"): #get an array of all the images of a particular type or a particular patient id\n",
        "    assert(image_type in TYPES) #only in types\n",
        "    patient_path = os.path.join(data_dir + \"%s/\" % folder, str(BraTS21ID).zfill(5)) #다른 폴더일 수도 있음\n",
        "    #print(lambda x: int(x[:-4].split(\"-\")[-1]))\n",
        "    \n",
        "    paths = sorted(glob.glob(os.path.join(patient_path, image_type, \"*\")), key=lambda x: int(x[:-4].split(\"-\")[-1])) #sort\n",
        "    #print(paths)\n",
        "    \n",
        "    num_images = len(paths)\n",
        "    \n",
        "    start = int(num_images * 0.25)\n",
        "    end = int(num_images * 0.75)\n",
        "    if num_images < 10:\n",
        "        jump = 1\n",
        "    else:\n",
        "        jump = 3\n",
        "        \n",
        "    return np.array(paths[start:end:jump])"
      ],
      "execution_count": null,
      "outputs": []
    },
    {
      "cell_type": "code",
      "metadata": {
        "id": "VF9WmkPWwyE5"
      },
      "source": [
        "def get_all_images(BraTS21ID, image_type, folder=\"train\", size=225):\n",
        "    return [load_dicom(path, size) for path in get_all_image_paths(BraTS21ID, image_type, folder)]"
      ],
      "execution_count": null,
      "outputs": []
    },
    {
      "cell_type": "code",
      "metadata": {
        "id": "CbLabk-JwyLY"
      },
      "source": [
        "def get_all_data_train(image_type):\n",
        "    global train_df_allsame\n",
        "    \n",
        "    X = []\n",
        "    y = []\n",
        "    train_ids = []\n",
        "\n",
        "    for i in tqdm(train_df_allsame.index):\n",
        "        tmp_x = train_df_allsame.loc[i]\n",
        "        images = get_all_images(int(tmp_x[\"BraTS21ID\"]), image_type, \"train\", IMAGE_SIZE)\n",
        "        label = tmp_x[\"MGMT_value\"]\n",
        "\n",
        "        X += images\n",
        "        y += [label] * len(images)\n",
        "        train_ids += [int(tmp_x[\"BraTS21ID\"])] * len(images)\n",
        "        assert(len(X) == len(y))\n",
        "    return np.array(X), np.array(y), np.array(train_ids)\n",
        "\n",
        "def get_all_data_test(image_type):\n",
        "    global test_df\n",
        "    \n",
        "    X = []\n",
        "    test_ids = []\n",
        "\n",
        "    for i in tqdm(test_df.index):\n",
        "        tmp_x = test_df.loc[i]\n",
        "        images = get_all_images(int(tmp_x[\"BraTS21ID\"]), image_type, \"test\", IMAGE_SIZE)\n",
        "        X += images\n",
        "        test_ids += [int(tmp_x[\"BraTS21ID\"])] * len(images)\n",
        "\n",
        "    return np.array(X), np.array(test_ids)"
      ],
      "execution_count": null,
      "outputs": []
    },
    {
      "cell_type": "code",
      "metadata": {
        "colab": {
          "base_uri": "https://localhost:8080/"
        },
        "id": "S7JwMoacw-Dq",
        "outputId": "daaf2aad-6fec-4e72-c27c-bcbb458e5cea"
      },
      "source": [
        "IMAGE_SIZE = 64\n",
        "\n",
        "X_T1wCE, y_T1wCE, train_idt_T1wCE = get_all_data_train(\"T1wCE\")\n",
        "X_test_T1wCE, test_idt_T1wCE = get_all_data_test(\"T1wCE\")\n",
        "\n",
        "X_T2w, y_T2w, train_idt_T2w = get_all_data_train(\"T2w\")\n",
        "X_test_T2w, test_idt_T2w = get_all_data_test(\"T2w\")\n",
        "\n",
        "X_T1w, y_T1w, train_idt_T1w = get_all_data_train(\"T1w\")\n",
        "X_test_T1w, test_idt_T1w = get_all_data_test(\"T1w\")\n",
        "\n",
        "X_FLAIR, y_FLAIR, train_idt_FLAIR = get_all_data_train(\"FLAIR\")\n",
        "X_test_FLAIR, test_idt_FLAIR = get_all_data_test(\"FLAIR\")"
      ],
      "execution_count": null,
      "outputs": [
        {
          "output_type": "stream",
          "name": "stderr",
          "text": [
            "\n",
            "  0%|          | 0/62 [00:00<?, ?it/s]\u001b[A\n",
            "  2%|▏         | 1/62 [00:02<02:56,  2.89s/it]\u001b[A\n",
            "  3%|▎         | 2/62 [00:05<02:48,  2.80s/it]\u001b[A\n",
            "  5%|▍         | 3/62 [00:09<03:05,  3.15s/it]\u001b[A\n",
            "  6%|▋         | 4/62 [00:11<02:54,  3.01s/it]\u001b[A\n",
            "  8%|▊         | 5/62 [00:14<02:44,  2.88s/it]\u001b[A\n",
            " 10%|▉         | 6/62 [00:17<02:49,  3.02s/it]\u001b[A\n",
            " 11%|█▏        | 7/62 [00:20<02:38,  2.88s/it]\u001b[A\n",
            " 13%|█▎        | 8/62 [00:23<02:32,  2.83s/it]\u001b[A\n",
            " 15%|█▍        | 9/62 [00:25<02:27,  2.78s/it]\u001b[A\n",
            " 16%|█▌        | 10/62 [00:28<02:25,  2.79s/it]\u001b[A\n",
            " 18%|█▊        | 11/62 [00:31<02:21,  2.78s/it]\u001b[A\n",
            " 19%|█▉        | 12/62 [00:34<02:19,  2.79s/it]\u001b[A\n",
            " 21%|██        | 13/62 [00:36<02:12,  2.70s/it]\u001b[A\n",
            " 23%|██▎       | 14/62 [00:41<02:35,  3.23s/it]\u001b[A\n",
            " 24%|██▍       | 15/62 [00:44<02:28,  3.17s/it]\u001b[A\n",
            " 26%|██▌       | 16/62 [00:48<02:36,  3.41s/it]\u001b[A\n",
            " 27%|██▋       | 17/62 [00:51<02:30,  3.35s/it]\u001b[A\n",
            " 29%|██▉       | 18/62 [00:54<02:29,  3.40s/it]\u001b[A\n",
            " 31%|███       | 19/62 [01:00<02:51,  4.00s/it]\u001b[A\n",
            " 32%|███▏      | 20/62 [01:03<02:41,  3.86s/it]\u001b[A\n",
            " 34%|███▍      | 21/62 [01:08<02:46,  4.06s/it]\u001b[A\n",
            " 35%|███▌      | 22/62 [01:13<02:54,  4.36s/it]\u001b[A\n",
            " 37%|███▋      | 23/62 [01:17<02:49,  4.34s/it]\u001b[A\n",
            " 39%|███▊      | 24/62 [01:20<02:26,  3.87s/it]\u001b[A\n",
            " 40%|████      | 25/62 [01:23<02:15,  3.65s/it]\u001b[A\n",
            " 42%|████▏     | 26/62 [01:27<02:15,  3.78s/it]\u001b[A\n",
            " 44%|████▎     | 27/62 [01:31<02:06,  3.62s/it]\u001b[A\n",
            " 45%|████▌     | 28/62 [01:33<01:54,  3.37s/it]\u001b[A\n",
            " 47%|████▋     | 29/62 [01:36<01:43,  3.15s/it]\u001b[A\n",
            " 48%|████▊     | 30/62 [01:39<01:39,  3.10s/it]\u001b[A\n",
            " 50%|█████     | 31/62 [01:42<01:31,  2.96s/it]\u001b[A\n",
            " 52%|█████▏    | 32/62 [01:44<01:27,  2.92s/it]\u001b[A\n",
            " 53%|█████▎    | 33/62 [01:47<01:23,  2.88s/it]\u001b[A\n",
            " 55%|█████▍    | 34/62 [01:50<01:19,  2.83s/it]\u001b[A\n",
            " 56%|█████▋    | 35/62 [01:53<01:22,  3.04s/it]\u001b[A\n",
            " 58%|█████▊    | 36/62 [01:57<01:26,  3.33s/it]\u001b[A\n",
            " 60%|█████▉    | 37/62 [02:00<01:17,  3.10s/it]\u001b[A\n",
            " 61%|██████▏   | 38/62 [02:03<01:16,  3.20s/it]\u001b[A\n",
            " 63%|██████▎   | 39/62 [02:07<01:16,  3.34s/it]\u001b[A\n",
            " 65%|██████▍   | 40/62 [02:11<01:14,  3.41s/it]\u001b[A\n",
            " 66%|██████▌   | 41/62 [02:13<01:06,  3.16s/it]\u001b[A\n",
            " 68%|██████▊   | 42/62 [02:16<01:01,  3.07s/it]\u001b[A\n",
            " 69%|██████▉   | 43/62 [02:19<00:56,  2.97s/it]\u001b[A\n",
            " 71%|███████   | 44/62 [02:21<00:50,  2.82s/it]\u001b[A\n",
            " 73%|███████▎  | 45/62 [02:24<00:46,  2.72s/it]\u001b[A\n",
            " 74%|███████▍  | 46/62 [02:26<00:43,  2.71s/it]\u001b[A\n",
            " 76%|███████▌  | 47/62 [02:30<00:43,  2.92s/it]\u001b[A\n",
            " 77%|███████▋  | 48/62 [02:32<00:39,  2.81s/it]\u001b[A\n",
            " 79%|███████▉  | 49/62 [02:36<00:40,  3.13s/it]\u001b[A\n",
            " 81%|████████  | 50/62 [02:38<00:33,  2.83s/it]\u001b[A\n",
            " 82%|████████▏ | 51/62 [02:41<00:30,  2.77s/it]\u001b[A\n",
            " 84%|████████▍ | 52/62 [02:45<00:30,  3.00s/it]\u001b[A\n",
            " 85%|████████▌ | 53/62 [02:48<00:28,  3.18s/it]\u001b[A\n",
            " 87%|████████▋ | 54/62 [02:51<00:24,  3.02s/it]\u001b[A\n",
            " 89%|████████▊ | 55/62 [02:56<00:24,  3.57s/it]\u001b[A\n",
            " 90%|█████████ | 56/62 [02:59<00:20,  3.41s/it]\u001b[A\n",
            " 92%|█████████▏| 57/62 [03:01<00:14,  2.98s/it]\u001b[A\n",
            " 94%|█████████▎| 58/62 [03:03<00:10,  2.70s/it]\u001b[A\n",
            " 95%|█████████▌| 59/62 [03:05<00:07,  2.50s/it]\u001b[A\n",
            " 97%|█████████▋| 60/62 [03:07<00:04,  2.36s/it]\u001b[A\n",
            " 98%|█████████▊| 61/62 [03:17<00:04,  4.84s/it]\u001b[A\n",
            "100%|██████████| 62/62 [03:20<00:00,  3.23s/it]\n",
            "\n",
            "  0%|          | 0/87 [00:00<?, ?it/s]\u001b[A\n",
            "  1%|          | 1/87 [00:22<32:02, 22.35s/it]\u001b[A\n",
            "  2%|▏         | 2/87 [00:44<31:09, 21.99s/it]\u001b[A\n",
            "  3%|▎         | 3/87 [01:32<47:56, 34.25s/it]\u001b[A\n",
            "  5%|▍         | 4/87 [02:18<53:44, 38.85s/it]\u001b[A\n",
            "  6%|▌         | 5/87 [02:45<47:06, 34.47s/it]\u001b[A\n",
            "  7%|▋         | 6/87 [03:10<42:13, 31.28s/it]\u001b[A\n",
            "  8%|▊         | 7/87 [03:34<38:37, 28.97s/it]\u001b[A\n",
            "  9%|▉         | 8/87 [03:52<33:20, 25.33s/it]\u001b[A\n",
            " 10%|█         | 9/87 [04:12<30:41, 23.61s/it]\u001b[A\n",
            " 11%|█▏        | 10/87 [04:37<30:55, 24.10s/it]\u001b[A\n",
            " 13%|█▎        | 11/87 [05:04<31:45, 25.08s/it]\u001b[A\n",
            " 14%|█▍        | 12/87 [05:21<28:16, 22.63s/it]\u001b[A\n",
            " 15%|█▍        | 13/87 [05:25<21:00, 17.04s/it]\u001b[A\n",
            " 16%|█▌        | 14/87 [05:30<16:10, 13.30s/it]\u001b[A\n",
            " 17%|█▋        | 15/87 [05:41<15:16, 12.73s/it]\u001b[A\n",
            " 18%|█▊        | 16/87 [05:45<11:52, 10.04s/it]\u001b[A\n",
            " 20%|█▉        | 17/87 [06:16<18:48, 16.12s/it]\u001b[A\n",
            " 21%|██        | 18/87 [06:41<21:48, 18.97s/it]\u001b[A\n",
            " 22%|██▏       | 19/87 [07:08<24:07, 21.29s/it]\u001b[A\n",
            " 23%|██▎       | 20/87 [07:34<25:19, 22.68s/it]\u001b[A\n",
            " 24%|██▍       | 21/87 [08:00<26:10, 23.79s/it]\u001b[A\n",
            " 25%|██▌       | 22/87 [08:06<19:48, 18.28s/it]\u001b[A\n",
            " 26%|██▋       | 23/87 [08:31<21:53, 20.52s/it]\u001b[A\n",
            " 28%|██▊       | 24/87 [08:57<23:12, 22.10s/it]\u001b[A\n",
            " 29%|██▊       | 25/87 [09:23<23:59, 23.21s/it]\u001b[A\n",
            " 30%|██▉       | 26/87 [09:49<24:24, 24.01s/it]\u001b[A\n",
            " 31%|███       | 27/87 [10:15<24:32, 24.54s/it]\u001b[A\n",
            " 32%|███▏      | 28/87 [10:41<24:33, 24.98s/it]\u001b[A\n",
            " 33%|███▎      | 29/87 [11:08<24:46, 25.62s/it]\u001b[A\n",
            " 34%|███▍      | 30/87 [11:33<24:18, 25.58s/it]\u001b[A\n",
            " 36%|███▌      | 31/87 [11:59<24:01, 25.75s/it]\u001b[A\n",
            " 37%|███▋      | 32/87 [12:05<18:01, 19.67s/it]\u001b[A\n",
            " 38%|███▊      | 33/87 [12:31<19:22, 21.52s/it]\u001b[A\n",
            " 39%|███▉      | 34/87 [12:57<20:11, 22.86s/it]\u001b[A\n",
            " 40%|████      | 35/87 [13:23<20:49, 24.04s/it]\u001b[A\n",
            " 41%|████▏     | 36/87 [13:50<21:06, 24.84s/it]\u001b[A\n",
            " 43%|████▎     | 37/87 [14:18<21:25, 25.71s/it]\u001b[A\n",
            " 44%|████▎     | 38/87 [14:44<21:05, 25.84s/it]\u001b[A\n",
            " 45%|████▍     | 39/87 [15:09<20:33, 25.69s/it]\u001b[A\n",
            " 46%|████▌     | 40/87 [15:35<20:13, 25.82s/it]\u001b[A\n",
            " 47%|████▋     | 41/87 [16:01<19:51, 25.89s/it]\u001b[A\n",
            " 48%|████▊     | 42/87 [16:27<19:20, 25.79s/it]\u001b[A\n",
            " 49%|████▉     | 43/87 [16:53<19:00, 25.91s/it]\u001b[A\n",
            " 51%|█████     | 44/87 [17:19<18:27, 25.75s/it]\u001b[A\n",
            " 52%|█████▏    | 45/87 [17:44<18:01, 25.75s/it]\u001b[A\n",
            " 53%|█████▎    | 46/87 [18:09<17:24, 25.47s/it]\u001b[A\n",
            " 54%|█████▍    | 47/87 [18:15<13:06, 19.66s/it]\u001b[A\n",
            " 55%|█████▌    | 48/87 [18:45<14:42, 22.64s/it]\u001b[A\n",
            " 56%|█████▋    | 49/87 [18:49<10:45, 16.99s/it]\u001b[A\n",
            " 57%|█████▋    | 50/87 [19:09<11:00, 17.86s/it]\u001b[A\n",
            " 59%|█████▊    | 51/87 [19:58<16:18, 27.19s/it]\u001b[A\n",
            " 60%|█████▉    | 52/87 [20:22<15:27, 26.50s/it]\u001b[A\n",
            " 61%|██████    | 53/87 [20:42<13:53, 24.53s/it]\u001b[A\n",
            " 62%|██████▏   | 54/87 [21:07<13:31, 24.59s/it]\u001b[A\n",
            " 63%|██████▎   | 55/87 [21:29<12:40, 23.75s/it]\u001b[A\n",
            " 64%|██████▍   | 56/87 [22:17<15:59, 30.97s/it]\u001b[A\n",
            " 66%|██████▌   | 57/87 [23:09<18:38, 37.29s/it]\u001b[A\n",
            " 67%|██████▋   | 58/87 [23:29<15:30, 32.07s/it]\u001b[A\n",
            " 68%|██████▊   | 59/87 [23:49<13:17, 28.47s/it]\u001b[A\n",
            " 69%|██████▉   | 60/87 [24:26<14:00, 31.11s/it]\u001b[A\n",
            " 70%|███████   | 61/87 [24:31<10:08, 23.42s/it]\u001b[A\n",
            " 71%|███████▏  | 62/87 [24:46<08:41, 20.86s/it]\u001b[A\n",
            " 72%|███████▏  | 63/87 [25:05<08:05, 20.23s/it]\u001b[A\n",
            " 74%|███████▎  | 64/87 [25:22<07:25, 19.36s/it]\u001b[A\n",
            " 75%|███████▍  | 65/87 [25:51<08:07, 22.16s/it]\u001b[A\n",
            " 76%|███████▌  | 66/87 [26:18<08:14, 23.54s/it]\u001b[A\n",
            " 77%|███████▋  | 67/87 [27:09<10:34, 31.75s/it]\u001b[A\n",
            " 78%|███████▊  | 68/87 [27:34<09:25, 29.77s/it]\u001b[A\n",
            " 79%|███████▉  | 69/87 [28:04<08:56, 29.80s/it]\u001b[A\n",
            " 80%|████████  | 70/87 [28:46<09:27, 33.38s/it]\u001b[A\n",
            " 82%|████████▏ | 71/87 [29:15<08:36, 32.31s/it]\u001b[A\n",
            " 83%|████████▎ | 72/87 [29:39<07:27, 29.83s/it]\u001b[A\n",
            " 84%|████████▍ | 73/87 [30:06<06:43, 28.81s/it]\u001b[A\n",
            " 85%|████████▌ | 74/87 [30:59<07:48, 36.03s/it]\u001b[A\n",
            " 86%|████████▌ | 75/87 [31:25<06:38, 33.17s/it]\u001b[A\n",
            " 87%|████████▋ | 76/87 [31:51<05:40, 30.97s/it]\u001b[A\n",
            " 89%|████████▊ | 77/87 [32:12<04:38, 27.87s/it]\u001b[A\n",
            " 90%|████████▉ | 78/87 [32:38<04:06, 27.41s/it]\u001b[A\n",
            " 91%|█████████ | 79/87 [32:59<03:23, 25.46s/it]\u001b[A\n",
            " 92%|█████████▏| 80/87 [33:03<02:14, 19.19s/it]\u001b[A\n",
            " 93%|█████████▎| 81/87 [33:08<01:28, 14.71s/it]\u001b[A\n",
            " 94%|█████████▍| 82/87 [33:13<00:58, 11.78s/it]\u001b[A\n",
            " 95%|█████████▌| 83/87 [33:23<00:45, 11.31s/it]\u001b[A\n",
            " 97%|█████████▋| 84/87 [33:28<00:27,  9.32s/it]\u001b[A\n",
            " 98%|█████████▊| 85/87 [33:50<00:26, 13.39s/it]\u001b[A\n",
            " 99%|█████████▉| 86/87 [33:55<00:10, 10.84s/it]\u001b[A\n",
            "100%|██████████| 87/87 [34:11<00:00, 23.58s/it]\n",
            "\n",
            "  0%|          | 0/62 [00:00<?, ?it/s]\u001b[A\n",
            "  2%|▏         | 1/62 [00:02<02:38,  2.61s/it]\u001b[A\n",
            "  3%|▎         | 2/62 [00:05<02:40,  2.67s/it]\u001b[A\n",
            "  5%|▍         | 3/62 [00:08<02:53,  2.95s/it]\u001b[A\n",
            "  6%|▋         | 4/62 [00:11<02:44,  2.83s/it]\u001b[A\n",
            "  8%|▊         | 5/62 [00:14<02:39,  2.80s/it]\u001b[A\n",
            " 10%|▉         | 6/62 [00:17<02:46,  2.98s/it]\u001b[A\n",
            " 11%|█▏        | 7/62 [00:20<02:40,  2.91s/it]\u001b[A\n",
            " 13%|█▎        | 8/62 [00:22<02:32,  2.83s/it]\u001b[A\n",
            " 15%|█▍        | 9/62 [00:25<02:28,  2.79s/it]\u001b[A\n",
            " 16%|█▌        | 10/62 [00:28<02:23,  2.75s/it]\u001b[A\n",
            " 18%|█▊        | 11/62 [00:30<02:17,  2.70s/it]\u001b[A\n",
            " 19%|█▉        | 12/62 [00:33<02:19,  2.79s/it]\u001b[A\n",
            " 21%|██        | 13/62 [00:36<02:14,  2.74s/it]\u001b[A\n",
            " 23%|██▎       | 14/62 [00:40<02:29,  3.12s/it]\u001b[A\n",
            " 24%|██▍       | 15/62 [00:42<02:19,  2.96s/it]\u001b[A\n",
            " 26%|██▌       | 16/62 [00:47<02:45,  3.60s/it]\u001b[A\n",
            " 27%|██▋       | 17/62 [00:50<02:29,  3.33s/it]\u001b[A\n",
            " 29%|██▉       | 18/62 [00:54<02:26,  3.33s/it]\u001b[A\n",
            " 31%|███       | 19/62 [00:58<02:33,  3.56s/it]\u001b[A\n",
            " 32%|███▏      | 20/62 [01:02<02:34,  3.68s/it]\u001b[A\n",
            " 34%|███▍      | 21/62 [01:04<02:18,  3.37s/it]\u001b[A\n",
            " 35%|███▌      | 22/62 [01:08<02:16,  3.42s/it]\u001b[A\n",
            " 37%|███▋      | 23/62 [01:12<02:19,  3.57s/it]\u001b[A\n",
            " 39%|███▊      | 24/62 [01:15<02:12,  3.49s/it]\u001b[A\n",
            " 40%|████      | 25/62 [01:18<02:06,  3.41s/it]\u001b[A\n",
            " 42%|████▏     | 26/62 [01:23<02:20,  3.91s/it]\u001b[A\n",
            " 44%|████▎     | 27/62 [01:27<02:18,  3.95s/it]\u001b[A\n",
            " 45%|████▌     | 28/62 [01:31<02:10,  3.83s/it]\u001b[A\n",
            " 47%|████▋     | 29/62 [01:34<01:59,  3.62s/it]\u001b[A\n",
            " 48%|████▊     | 30/62 [01:38<01:57,  3.68s/it]\u001b[A\n",
            " 50%|█████     | 31/62 [01:41<01:47,  3.47s/it]\u001b[A\n",
            " 52%|█████▏    | 32/62 [01:44<01:38,  3.30s/it]\u001b[A\n",
            " 53%|█████▎    | 33/62 [01:46<01:29,  3.08s/it]\u001b[A\n",
            " 55%|█████▍    | 34/62 [01:49<01:24,  3.02s/it]\u001b[A\n",
            " 56%|█████▋    | 35/62 [01:53<01:29,  3.33s/it]\u001b[A\n",
            " 58%|█████▊    | 36/62 [01:58<01:34,  3.64s/it]\u001b[A\n",
            " 60%|█████▉    | 37/62 [02:00<01:24,  3.38s/it]\u001b[A\n",
            " 61%|██████▏   | 38/62 [02:05<01:32,  3.85s/it]\u001b[A\n",
            " 63%|██████▎   | 39/62 [02:10<01:32,  4.02s/it]\u001b[A\n",
            " 65%|██████▍   | 40/62 [02:15<01:33,  4.27s/it]\u001b[A\n",
            " 66%|██████▌   | 41/62 [02:18<01:27,  4.16s/it]\u001b[A\n",
            " 68%|██████▊   | 42/62 [02:22<01:19,  4.00s/it]\u001b[A\n",
            " 69%|██████▉   | 43/62 [02:26<01:15,  4.00s/it]\u001b[A\n",
            " 71%|███████   | 44/62 [02:30<01:13,  4.06s/it]\u001b[A\n",
            " 73%|███████▎  | 45/62 [02:33<01:01,  3.62s/it]\u001b[A\n",
            " 74%|███████▍  | 46/62 [02:36<00:55,  3.50s/it]\u001b[A\n",
            " 76%|███████▌  | 47/62 [02:40<00:52,  3.48s/it]\u001b[A\n",
            " 77%|███████▋  | 48/62 [02:43<00:48,  3.45s/it]\u001b[A\n",
            " 79%|███████▉  | 49/62 [02:48<00:49,  3.79s/it]\u001b[A\n",
            " 81%|████████  | 50/62 [02:51<00:44,  3.67s/it]\u001b[A\n",
            " 82%|████████▏ | 51/62 [02:55<00:40,  3.69s/it]\u001b[A\n",
            " 84%|████████▍ | 52/62 [02:58<00:36,  3.63s/it]\u001b[A\n",
            " 85%|████████▌ | 53/62 [03:02<00:32,  3.58s/it]\u001b[A\n",
            " 87%|████████▋ | 54/62 [03:05<00:28,  3.54s/it]\u001b[A\n",
            " 89%|████████▊ | 55/62 [03:10<00:26,  3.82s/it]\u001b[A\n",
            " 90%|█████████ | 56/62 [03:12<00:21,  3.56s/it]\u001b[A\n",
            " 92%|█████████▏| 57/62 [03:14<00:15,  3.09s/it]\u001b[A\n",
            " 94%|█████████▎| 58/62 [03:17<00:11,  2.83s/it]\u001b[A\n",
            " 95%|█████████▌| 59/62 [03:19<00:07,  2.58s/it]\u001b[A\n",
            " 97%|█████████▋| 60/62 [03:21<00:04,  2.41s/it]\u001b[A\n",
            " 98%|█████████▊| 61/62 [03:31<00:04,  4.78s/it]\u001b[A\n",
            "100%|██████████| 62/62 [03:33<00:00,  3.44s/it]\n",
            "\n",
            "  0%|          | 0/87 [00:00<?, ?it/s]\u001b[A\n",
            "  1%|          | 1/87 [00:17<25:17, 17.64s/it]\u001b[A\n",
            "  2%|▏         | 2/87 [01:13<56:30, 39.88s/it]\u001b[A\n",
            "  3%|▎         | 3/87 [02:05<1:04:07, 45.81s/it]\u001b[A\n",
            "  5%|▍         | 4/87 [02:22<47:35, 34.40s/it]  \u001b[A\n",
            "  6%|▌         | 5/87 [03:22<59:26, 43.49s/it]\u001b[A\n",
            "  7%|▋         | 6/87 [04:14<1:02:42, 46.45s/it]\u001b[A\n",
            "  8%|▊         | 7/87 [05:16<1:08:45, 51.57s/it]\u001b[A\n",
            "  9%|▉         | 8/87 [06:23<1:14:10, 56.34s/it]\u001b[A\n",
            " 10%|█         | 9/87 [07:23<1:14:59, 57.69s/it]\u001b[A\n",
            " 11%|█▏        | 10/87 [07:41<58:04, 45.25s/it] \u001b[A\n",
            " 13%|█▎        | 11/87 [07:44<40:56, 32.33s/it]\u001b[A\n",
            " 14%|█▍        | 12/87 [07:48<29:29, 23.59s/it]\u001b[A\n",
            " 15%|█▍        | 13/87 [08:05<26:55, 21.83s/it]\u001b[A\n",
            " 16%|█▌        | 14/87 [08:09<19:54, 16.36s/it]\u001b[A\n",
            " 17%|█▋        | 15/87 [08:15<15:42, 13.10s/it]\u001b[A\n",
            " 18%|█▊        | 16/87 [08:17<11:51, 10.02s/it]\u001b[A\n",
            " 20%|█▉        | 17/87 [08:25<10:51,  9.31s/it]\u001b[A\n",
            " 21%|██        | 18/87 [08:33<10:18,  8.96s/it]\u001b[A\n",
            " 22%|██▏       | 19/87 [08:41<09:49,  8.67s/it]\u001b[A\n",
            " 23%|██▎       | 20/87 [08:49<09:28,  8.48s/it]\u001b[A\n",
            " 24%|██▍       | 21/87 [08:58<09:22,  8.53s/it]\u001b[A\n",
            " 25%|██▌       | 22/87 [09:02<07:55,  7.31s/it]\u001b[A\n",
            " 26%|██▋       | 23/87 [09:10<07:59,  7.49s/it]\u001b[A\n",
            " 28%|██▊       | 24/87 [09:18<08:03,  7.68s/it]\u001b[A\n",
            " 29%|██▊       | 25/87 [09:27<08:06,  7.85s/it]\u001b[A\n",
            " 30%|██▉       | 26/87 [09:35<08:01,  7.90s/it]\u001b[A\n",
            " 31%|███       | 27/87 [09:44<08:14,  8.23s/it]\u001b[A\n",
            " 32%|███▏      | 28/87 [09:52<08:04,  8.21s/it]\u001b[A\n",
            " 33%|███▎      | 29/87 [10:00<07:50,  8.11s/it]\u001b[A\n",
            " 34%|███▍      | 30/87 [10:04<06:34,  6.92s/it]\u001b[A\n",
            " 36%|███▌      | 31/87 [10:13<07:07,  7.63s/it]\u001b[A\n",
            " 37%|███▋      | 32/87 [10:17<06:04,  6.63s/it]\u001b[A\n",
            " 38%|███▊      | 33/87 [10:26<06:21,  7.06s/it]\u001b[A\n",
            " 39%|███▉      | 34/87 [10:34<06:30,  7.36s/it]\u001b[A\n",
            " 40%|████      | 35/87 [10:41<06:30,  7.52s/it]\u001b[A\n",
            " 41%|████▏     | 36/87 [10:49<06:28,  7.61s/it]\u001b[A\n",
            " 43%|████▎     | 37/87 [10:57<06:28,  7.77s/it]\u001b[A\n",
            " 44%|████▎     | 38/87 [11:06<06:25,  7.88s/it]\u001b[A\n",
            " 45%|████▍     | 39/87 [11:11<05:42,  7.14s/it]\u001b[A\n",
            " 46%|████▌     | 40/87 [11:19<05:49,  7.44s/it]\u001b[A\n",
            " 47%|████▋     | 41/87 [11:27<05:52,  7.67s/it]\u001b[A\n",
            " 48%|████▊     | 42/87 [11:35<05:50,  7.80s/it]\u001b[A\n",
            " 49%|████▉     | 43/87 [11:41<05:13,  7.12s/it]\u001b[A\n",
            " 51%|█████     | 44/87 [11:48<05:09,  7.20s/it]\u001b[A\n",
            " 52%|█████▏    | 45/87 [11:56<05:12,  7.43s/it]\u001b[A\n",
            " 53%|█████▎    | 46/87 [12:00<04:19,  6.32s/it]\u001b[A\n",
            " 54%|█████▍    | 47/87 [12:05<03:59,  5.98s/it]\u001b[A\n",
            " 55%|█████▌    | 48/87 [12:17<05:06,  7.86s/it]\u001b[A\n",
            " 56%|█████▋    | 49/87 [12:20<04:03,  6.41s/it]\u001b[A\n",
            " 57%|█████▋    | 50/87 [12:37<05:46,  9.36s/it]\u001b[A\n",
            " 59%|█████▊    | 51/87 [12:54<07:07, 11.87s/it]\u001b[A\n",
            " 60%|█████▉    | 52/87 [13:29<10:54, 18.69s/it]\u001b[A\n",
            " 61%|██████    | 53/87 [14:00<12:37, 22.28s/it]\u001b[A\n",
            " 62%|██████▏   | 54/87 [14:57<18:00, 32.74s/it]\u001b[A\n",
            " 63%|██████▎   | 55/87 [15:46<20:06, 37.69s/it]\u001b[A\n",
            " 64%|██████▍   | 56/87 [16:13<17:45, 34.38s/it]\u001b[A\n",
            " 66%|██████▌   | 57/87 [16:42<16:23, 32.79s/it]\u001b[A\n",
            " 67%|██████▋   | 58/87 [17:01<13:55, 28.79s/it]\u001b[A\n",
            " 68%|██████▊   | 59/87 [17:20<11:59, 25.69s/it]\u001b[A\n",
            " 69%|██████▉   | 60/87 [18:15<15:36, 34.69s/it]\u001b[A\n",
            " 70%|███████   | 61/87 [18:27<12:04, 27.87s/it]\u001b[A\n",
            " 71%|███████▏  | 62/87 [18:30<08:29, 20.39s/it]\u001b[A\n",
            " 72%|███████▏  | 63/87 [18:43<07:14, 18.10s/it]\u001b[A\n",
            " 74%|███████▎  | 64/87 [18:55<06:14, 16.27s/it]\u001b[A\n",
            " 75%|███████▍  | 65/87 [19:49<10:03, 27.42s/it]\u001b[A\n",
            " 76%|███████▌  | 66/87 [20:41<12:16, 35.07s/it]\u001b[A\n",
            " 77%|███████▋  | 67/87 [21:10<11:01, 33.05s/it]\u001b[A\n",
            " 78%|███████▊  | 68/87 [22:08<12:50, 40.56s/it]\u001b[A\n",
            " 79%|███████▉  | 69/87 [23:07<13:51, 46.19s/it]\u001b[A\n",
            " 80%|████████  | 70/87 [24:06<14:07, 49.86s/it]\u001b[A\n",
            " 82%|████████▏ | 71/87 [24:56<13:20, 50.01s/it]\u001b[A\n",
            " 83%|████████▎ | 72/87 [25:44<12:20, 49.35s/it]\u001b[A\n",
            " 84%|████████▍ | 73/87 [26:43<12:12, 52.32s/it]\u001b[A\n",
            " 85%|████████▌ | 74/87 [27:41<11:42, 54.06s/it]\u001b[A\n",
            " 86%|████████▌ | 75/87 [28:11<09:23, 46.93s/it]\u001b[A\n",
            " 87%|████████▋ | 76/87 [29:10<09:13, 50.30s/it]\u001b[A\n",
            " 89%|████████▊ | 77/87 [29:56<08:10, 49.02s/it]\u001b[A\n",
            " 90%|████████▉ | 78/87 [30:43<07:15, 48.37s/it]\u001b[A\n",
            " 91%|█████████ | 79/87 [31:40<06:47, 50.97s/it]\u001b[A\n",
            " 92%|█████████▏| 80/87 [31:45<04:22, 37.45s/it]\u001b[A\n",
            " 93%|█████████▎| 81/87 [31:51<02:46, 27.83s/it]\u001b[A\n",
            " 94%|█████████▍| 82/87 [31:55<01:44, 20.86s/it]\u001b[A\n",
            " 95%|█████████▌| 83/87 [32:00<01:03, 15.87s/it]\u001b[A\n",
            " 97%|█████████▋| 84/87 [32:04<00:37, 12.40s/it]\u001b[A\n",
            " 98%|█████████▊| 85/87 [32:09<00:20, 10.25s/it]\u001b[A\n",
            " 99%|█████████▉| 86/87 [32:14<00:08,  8.53s/it]\u001b[A\n",
            "100%|██████████| 87/87 [32:28<00:00, 22.39s/it]\n",
            "\n",
            "  0%|          | 0/62 [00:00<?, ?it/s]\u001b[A\n",
            "  2%|▏         | 1/62 [00:02<02:54,  2.86s/it]\u001b[A\n",
            "  3%|▎         | 2/62 [00:05<02:44,  2.74s/it]\u001b[A\n",
            "  5%|▍         | 3/62 [00:08<02:56,  2.99s/it]\u001b[A\n",
            "  6%|▋         | 4/62 [00:11<02:46,  2.86s/it]\u001b[A\n",
            "  8%|▊         | 5/62 [00:14<02:38,  2.78s/it]\u001b[A\n",
            " 10%|▉         | 6/62 [00:17<02:49,  3.02s/it]\u001b[A\n",
            " 11%|█▏        | 7/62 [00:20<02:41,  2.94s/it]\u001b[A\n",
            " 13%|█▎        | 8/62 [00:23<02:37,  2.91s/it]\u001b[A\n",
            " 15%|█▍        | 9/62 [00:25<02:30,  2.84s/it]\u001b[A\n",
            " 16%|█▌        | 10/62 [00:28<02:26,  2.81s/it]\u001b[A\n",
            " 18%|█▊        | 11/62 [00:31<02:21,  2.77s/it]\u001b[A\n",
            " 19%|█▉        | 12/62 [00:34<02:23,  2.87s/it]\u001b[A\n",
            " 21%|██        | 13/62 [00:37<02:17,  2.80s/it]\u001b[A\n",
            " 23%|██▎       | 14/62 [00:39<02:11,  2.75s/it]\u001b[A\n",
            " 24%|██▍       | 15/62 [00:42<02:08,  2.74s/it]\u001b[A\n",
            " 26%|██▌       | 16/62 [00:46<02:25,  3.16s/it]\u001b[A\n",
            " 27%|██▋       | 17/62 [00:49<02:15,  3.02s/it]\u001b[A\n",
            " 29%|██▉       | 18/62 [00:52<02:16,  3.11s/it]\u001b[A\n",
            " 31%|███       | 19/62 [00:56<02:25,  3.38s/it]\u001b[A\n",
            " 32%|███▏      | 20/62 [01:00<02:23,  3.42s/it]\u001b[A\n",
            " 34%|███▍      | 21/62 [01:02<02:12,  3.23s/it]\u001b[A\n",
            " 35%|███▌      | 22/62 [01:06<02:10,  3.27s/it]\u001b[A\n",
            " 37%|███▋      | 23/62 [01:10<02:17,  3.51s/it]\u001b[A\n",
            " 39%|███▊      | 24/62 [01:12<02:03,  3.25s/it]\u001b[A\n",
            " 40%|████      | 25/62 [01:15<01:56,  3.15s/it]\u001b[A\n",
            " 42%|████▏     | 26/62 [01:18<01:52,  3.13s/it]\u001b[A\n",
            " 44%|████▎     | 27/62 [01:21<01:43,  2.97s/it]\u001b[A\n",
            " 45%|████▌     | 28/62 [01:24<01:37,  2.88s/it]\u001b[A\n",
            " 47%|████▋     | 29/62 [01:26<01:31,  2.76s/it]\u001b[A\n",
            " 48%|████▊     | 30/62 [01:29<01:27,  2.75s/it]\u001b[A\n",
            " 50%|█████     | 31/62 [01:32<01:24,  2.74s/it]\u001b[A\n",
            " 52%|█████▏    | 32/62 [01:34<01:21,  2.73s/it]\u001b[A\n",
            " 53%|█████▎    | 33/62 [01:37<01:16,  2.65s/it]\u001b[A\n",
            " 55%|█████▍    | 34/62 [01:39<01:12,  2.60s/it]\u001b[A\n",
            " 56%|█████▋    | 35/62 [01:42<01:08,  2.56s/it]\u001b[A\n",
            " 58%|█████▊    | 36/62 [01:46<01:16,  2.95s/it]\u001b[A\n",
            " 60%|█████▉    | 37/62 [01:48<01:11,  2.86s/it]\u001b[A\n",
            " 61%|██████▏   | 38/62 [01:51<01:07,  2.81s/it]\u001b[A\n",
            " 63%|██████▎   | 39/62 [01:54<01:07,  2.95s/it]\u001b[A\n",
            " 65%|██████▍   | 40/62 [01:58<01:08,  3.13s/it]\u001b[A\n",
            " 66%|██████▌   | 41/62 [02:00<01:01,  2.94s/it]\u001b[A\n",
            " 68%|██████▊   | 42/62 [02:03<00:56,  2.83s/it]\u001b[A\n",
            " 69%|██████▉   | 43/62 [02:05<00:51,  2.74s/it]\u001b[A\n",
            " 71%|███████   | 44/62 [02:08<00:50,  2.80s/it]\u001b[A\n",
            " 73%|███████▎  | 45/62 [02:11<00:48,  2.83s/it]\u001b[A\n",
            " 74%|███████▍  | 46/62 [02:15<00:48,  3.00s/it]\u001b[A\n",
            " 76%|███████▌  | 47/62 [02:18<00:47,  3.17s/it]\u001b[A\n",
            " 77%|███████▋  | 48/62 [02:21<00:43,  3.12s/it]\u001b[A\n",
            " 79%|███████▉  | 49/62 [02:25<00:41,  3.22s/it]\u001b[A\n",
            " 81%|████████  | 50/62 [02:27<00:34,  2.88s/it]\u001b[A\n",
            " 82%|████████▏ | 51/62 [02:29<00:31,  2.84s/it]\u001b[A\n",
            " 84%|████████▍ | 52/62 [02:33<00:30,  3.01s/it]\u001b[A\n",
            " 85%|████████▌ | 53/62 [02:36<00:27,  3.10s/it]\u001b[A\n",
            " 87%|████████▋ | 54/62 [02:39<00:23,  3.00s/it]\u001b[A\n",
            " 89%|████████▊ | 55/62 [02:48<00:33,  4.75s/it]\u001b[A\n",
            " 90%|█████████ | 56/62 [02:51<00:26,  4.35s/it]\u001b[A\n",
            " 92%|█████████▏| 57/62 [02:53<00:18,  3.65s/it]\u001b[A\n",
            " 94%|█████████▎| 58/62 [02:55<00:12,  3.17s/it]\u001b[A\n",
            " 95%|█████████▌| 59/62 [02:57<00:08,  2.88s/it]\u001b[A\n",
            " 97%|█████████▋| 60/62 [02:59<00:05,  2.61s/it]\u001b[A\n",
            " 98%|█████████▊| 61/62 [03:10<00:04,  4.97s/it]\u001b[A\n",
            "100%|██████████| 62/62 [03:12<00:00,  3.10s/it]\n",
            "\n",
            "  0%|          | 0/87 [00:00<?, ?it/s]\u001b[A\n",
            "  1%|          | 1/87 [00:04<06:05,  4.25s/it]\u001b[A\n",
            "  2%|▏         | 2/87 [00:09<07:02,  4.97s/it]\u001b[A\n",
            "  3%|▎         | 3/87 [00:14<06:40,  4.76s/it]\u001b[A\n",
            "  5%|▍         | 4/87 [00:18<06:15,  4.53s/it]\u001b[A\n",
            "  6%|▌         | 5/87 [00:22<06:08,  4.49s/it]\u001b[A\n",
            "  7%|▋         | 6/87 [00:27<06:21,  4.71s/it]\u001b[A\n",
            "  8%|▊         | 7/87 [00:33<06:50,  5.13s/it]\u001b[A\n",
            "  9%|▉         | 8/87 [00:38<06:21,  4.83s/it]\u001b[A\n",
            " 10%|█         | 9/87 [00:43<06:18,  4.86s/it]\u001b[A\n",
            " 11%|█▏        | 10/87 [00:48<06:18,  4.92s/it]\u001b[A\n",
            " 13%|█▎        | 11/87 [00:51<05:26,  4.30s/it]\u001b[A\n",
            " 14%|█▍        | 12/87 [00:54<05:08,  4.11s/it]\u001b[A\n",
            " 15%|█▍        | 13/87 [00:57<04:37,  3.75s/it]\u001b[A\n",
            " 16%|█▌        | 14/87 [01:01<04:36,  3.79s/it]\u001b[A\n",
            " 17%|█▋        | 15/87 [01:06<05:05,  4.25s/it]\u001b[A\n",
            " 18%|█▊        | 16/87 [01:09<04:38,  3.92s/it]\u001b[A\n",
            " 20%|█▉        | 17/87 [01:35<12:12, 10.47s/it]\u001b[A\n",
            " 21%|██        | 18/87 [01:59<16:36, 14.43s/it]\u001b[A\n",
            " 22%|██▏       | 19/87 [02:22<19:24, 17.12s/it]\u001b[A\n",
            " 23%|██▎       | 20/87 [02:46<21:14, 19.03s/it]\u001b[A\n",
            " 24%|██▍       | 21/87 [03:10<22:31, 20.47s/it]\u001b[A\n",
            " 25%|██▌       | 22/87 [03:14<16:58, 15.66s/it]\u001b[A\n",
            " 26%|██▋       | 23/87 [03:37<19:01, 17.83s/it]\u001b[A\n",
            " 28%|██▊       | 24/87 [04:00<20:31, 19.54s/it]\u001b[A\n",
            " 29%|██▊       | 25/87 [04:24<21:23, 20.70s/it]\u001b[A\n",
            " 30%|██▉       | 26/87 [04:47<21:55, 21.57s/it]\u001b[A\n",
            " 31%|███       | 27/87 [05:11<22:12, 22.21s/it]\u001b[A\n",
            " 32%|███▏      | 28/87 [05:34<22:10, 22.55s/it]\u001b[A\n",
            " 33%|███▎      | 29/87 [05:59<22:25, 23.20s/it]\u001b[A\n",
            " 34%|███▍      | 30/87 [06:03<16:27, 17.32s/it]\u001b[A\n",
            " 36%|███▌      | 31/87 [06:26<17:51, 19.14s/it]\u001b[A\n",
            " 37%|███▋      | 32/87 [06:31<13:31, 14.76s/it]\u001b[A\n",
            " 38%|███▊      | 33/87 [06:55<15:43, 17.48s/it]\u001b[A\n",
            " 39%|███▉      | 34/87 [07:18<17:04, 19.33s/it]\u001b[A\n",
            " 40%|████      | 35/87 [07:42<17:57, 20.72s/it]\u001b[A\n",
            " 41%|████▏     | 36/87 [08:05<18:16, 21.50s/it]\u001b[A\n",
            " 43%|████▎     | 37/87 [08:30<18:45, 22.51s/it]\u001b[A\n",
            " 44%|████▎     | 38/87 [08:53<18:31, 22.67s/it]\u001b[A\n",
            " 45%|████▍     | 39/87 [09:17<18:23, 22.99s/it]\u001b[A\n",
            " 46%|████▌     | 40/87 [09:41<18:07, 23.14s/it]\u001b[A\n",
            " 47%|████▋     | 41/87 [10:04<17:54, 23.36s/it]\u001b[A\n",
            " 48%|████▊     | 42/87 [10:28<17:33, 23.40s/it]\u001b[A\n",
            " 49%|████▉     | 43/87 [10:32<12:57, 17.67s/it]\u001b[A\n",
            " 51%|█████     | 44/87 [10:55<13:47, 19.25s/it]\u001b[A\n",
            " 52%|█████▏    | 45/87 [11:19<14:24, 20.58s/it]\u001b[A\n",
            " 53%|█████▎    | 46/87 [11:43<14:48, 21.66s/it]\u001b[A\n",
            " 54%|█████▍    | 47/87 [11:47<10:54, 16.35s/it]\u001b[A\n",
            " 55%|█████▌    | 48/87 [12:23<14:24, 22.17s/it]\u001b[A\n",
            " 56%|█████▋    | 49/87 [12:26<10:24, 16.43s/it]\u001b[A\n",
            " 57%|█████▋    | 50/87 [13:12<15:42, 25.46s/it]\u001b[A\n",
            " 59%|█████▊    | 51/87 [13:17<11:34, 19.30s/it]\u001b[A\n",
            " 60%|█████▉    | 52/87 [13:52<14:00, 24.02s/it]\u001b[A\n",
            " 61%|██████    | 53/87 [14:33<16:26, 29.01s/it]\u001b[A\n",
            " 62%|██████▏   | 54/87 [14:55<14:52, 27.06s/it]\u001b[A\n",
            " 63%|██████▎   | 55/87 [15:16<13:22, 25.08s/it]\u001b[A\n",
            " 64%|██████▍   | 56/87 [16:02<16:16, 31.49s/it]\u001b[A\n",
            " 66%|██████▌   | 57/87 [16:49<17:57, 35.90s/it]\u001b[A\n",
            " 67%|██████▋   | 58/87 [16:54<12:56, 26.77s/it]\u001b[A\n",
            " 68%|██████▊   | 59/87 [17:00<09:31, 20.40s/it]\u001b[A\n",
            " 69%|██████▉   | 60/87 [17:24<09:45, 21.70s/it]\u001b[A\n",
            " 70%|███████   | 61/87 [17:27<06:56, 16.00s/it]\u001b[A\n",
            " 71%|███████▏  | 62/87 [17:30<05:02, 12.10s/it]\u001b[A\n",
            " 72%|███████▏  | 63/87 [17:47<05:28, 13.67s/it]\u001b[A\n",
            " 74%|███████▎  | 64/87 [18:03<05:26, 14.20s/it]\u001b[A\n",
            " 75%|███████▍  | 65/87 [18:29<06:28, 17.68s/it]\u001b[A\n",
            " 76%|███████▌  | 66/87 [18:54<06:58, 19.93s/it]\u001b[A\n",
            " 77%|███████▋  | 67/87 [19:41<09:21, 28.07s/it]\u001b[A\n",
            " 78%|███████▊  | 68/87 [20:03<08:21, 26.37s/it]\u001b[A\n",
            " 79%|███████▉  | 69/87 [20:33<08:14, 27.49s/it]\u001b[A\n",
            " 80%|████████  | 70/87 [20:38<05:52, 20.71s/it]\u001b[A\n",
            " 82%|████████▏ | 71/87 [20:52<04:59, 18.73s/it]\u001b[A\n",
            " 83%|████████▎ | 72/87 [21:15<04:58, 19.90s/it]\u001b[A\n",
            " 84%|████████▍ | 73/87 [21:39<04:54, 21.07s/it]\u001b[A\n",
            " 85%|████████▌ | 74/87 [22:27<06:19, 29.22s/it]\u001b[A\n",
            " 86%|████████▌ | 75/87 [22:51<05:30, 27.57s/it]\u001b[A\n",
            " 87%|████████▋ | 76/87 [23:13<04:46, 26.09s/it]\u001b[A\n",
            " 89%|████████▊ | 77/87 [23:32<03:59, 23.96s/it]\u001b[A\n",
            " 90%|████████▉ | 78/87 [23:56<03:34, 23.82s/it]\u001b[A\n",
            " 91%|█████████ | 79/87 [24:15<02:58, 22.29s/it]\u001b[A\n",
            " 92%|█████████▏| 80/87 [24:18<01:56, 16.59s/it]\u001b[A\n",
            " 93%|█████████▎| 81/87 [24:21<01:15, 12.58s/it]\u001b[A\n",
            " 94%|█████████▍| 82/87 [24:24<00:48,  9.77s/it]\u001b[A\n",
            " 95%|█████████▌| 83/87 [24:34<00:38,  9.75s/it]\u001b[A\n",
            " 97%|█████████▋| 84/87 [24:37<00:23,  7.80s/it]\u001b[A\n",
            " 98%|█████████▊| 85/87 [24:58<00:23, 11.71s/it]\u001b[A\n",
            " 99%|█████████▉| 86/87 [25:02<00:09,  9.51s/it]\u001b[A\n",
            "100%|██████████| 87/87 [25:16<00:00, 17.43s/it]\n",
            "\n",
            "  0%|          | 0/62 [00:00<?, ?it/s]\u001b[A\n",
            "  2%|▏         | 1/62 [00:02<02:41,  2.64s/it]\u001b[A\n",
            "  3%|▎         | 2/62 [00:05<02:35,  2.59s/it]\u001b[A\n",
            "  5%|▍         | 3/62 [00:08<02:54,  2.95s/it]\u001b[A\n",
            "  6%|▋         | 4/62 [00:11<02:44,  2.83s/it]\u001b[A\n",
            "  8%|▊         | 5/62 [00:13<02:36,  2.74s/it]\u001b[A\n",
            " 10%|▉         | 6/62 [00:17<02:50,  3.05s/it]\u001b[A\n",
            " 11%|█▏        | 7/62 [00:20<02:40,  2.91s/it]\u001b[A\n",
            " 13%|█▎        | 8/62 [00:22<02:32,  2.82s/it]\u001b[A\n",
            " 15%|█▍        | 9/62 [00:25<02:25,  2.75s/it]\u001b[A\n",
            " 16%|█▌        | 10/62 [00:27<02:20,  2.71s/it]\u001b[A\n",
            " 18%|█▊        | 11/62 [00:30<02:17,  2.70s/it]\u001b[A\n",
            " 19%|█▉        | 12/62 [00:34<02:28,  2.98s/it]\u001b[A\n",
            " 21%|██        | 13/62 [00:36<02:20,  2.87s/it]\u001b[A\n",
            " 23%|██▎       | 14/62 [00:40<02:33,  3.20s/it]\u001b[A\n",
            " 24%|██▍       | 15/62 [00:43<02:20,  2.99s/it]\u001b[A\n",
            " 26%|██▌       | 16/62 [00:47<02:31,  3.30s/it]\u001b[A\n",
            " 27%|██▋       | 17/62 [00:50<02:20,  3.13s/it]\u001b[A\n",
            " 29%|██▉       | 18/62 [00:53<02:20,  3.18s/it]\u001b[A\n",
            " 31%|███       | 19/62 [00:57<02:27,  3.44s/it]\u001b[A\n",
            " 32%|███▏      | 20/62 [01:00<02:24,  3.44s/it]\u001b[A\n",
            " 34%|███▍      | 21/62 [01:04<02:18,  3.39s/it]\u001b[A\n",
            " 35%|███▌      | 22/62 [01:07<02:20,  3.52s/it]\u001b[A\n",
            " 37%|███▋      | 23/62 [01:11<02:22,  3.65s/it]\u001b[A\n",
            " 39%|███▊      | 24/62 [01:14<02:06,  3.32s/it]\u001b[A\n",
            " 40%|████      | 25/62 [01:17<01:59,  3.24s/it]\u001b[A\n",
            " 42%|████▏     | 26/62 [01:19<01:48,  3.00s/it]\u001b[A\n",
            " 44%|████▎     | 27/62 [01:22<01:45,  3.01s/it]\u001b[A\n",
            " 45%|████▌     | 28/62 [01:25<01:37,  2.86s/it]\u001b[A\n",
            " 47%|████▋     | 29/62 [01:27<01:31,  2.76s/it]\u001b[A\n",
            " 48%|████▊     | 30/62 [01:30<01:27,  2.75s/it]\u001b[A\n",
            " 50%|█████     | 31/62 [01:33<01:23,  2.69s/it]\u001b[A\n",
            " 52%|█████▏    | 32/62 [01:36<01:22,  2.76s/it]\u001b[A\n",
            " 53%|█████▎    | 33/62 [01:38<01:18,  2.71s/it]\u001b[A\n",
            " 55%|█████▍    | 34/62 [01:41<01:14,  2.65s/it]\u001b[A\n",
            " 56%|█████▋    | 35/62 [01:44<01:14,  2.75s/it]\u001b[A\n",
            " 58%|█████▊    | 36/62 [01:47<01:16,  2.96s/it]\u001b[A\n",
            " 60%|█████▉    | 37/62 [01:50<01:11,  2.85s/it]\u001b[A\n",
            " 61%|██████▏   | 38/62 [01:52<01:06,  2.77s/it]\u001b[A\n",
            " 63%|██████▎   | 39/62 [01:56<01:07,  2.93s/it]\u001b[A\n",
            " 65%|██████▍   | 40/62 [01:59<01:07,  3.08s/it]\u001b[A\n",
            " 66%|██████▌   | 41/62 [02:02<01:01,  2.95s/it]\u001b[A\n",
            " 68%|██████▊   | 42/62 [02:05<00:58,  2.91s/it]\u001b[A\n",
            " 69%|██████▉   | 43/62 [02:08<00:56,  3.00s/it]\u001b[A\n",
            " 71%|███████   | 44/62 [02:10<00:51,  2.87s/it]\u001b[A\n",
            " 73%|███████▎  | 45/62 [02:13<00:49,  2.92s/it]\u001b[A\n",
            " 74%|███████▍  | 46/62 [02:16<00:44,  2.80s/it]\u001b[A\n",
            " 76%|███████▌  | 47/62 [02:19<00:45,  3.01s/it]\u001b[A\n",
            " 77%|███████▋  | 48/62 [02:22<00:40,  2.87s/it]\u001b[A\n",
            " 79%|███████▉  | 49/62 [02:25<00:39,  3.04s/it]\u001b[A\n",
            " 81%|████████  | 50/62 [02:27<00:32,  2.71s/it]\u001b[A\n",
            " 82%|████████▏ | 51/62 [02:30<00:29,  2.71s/it]\u001b[A\n",
            " 84%|████████▍ | 52/62 [02:33<00:28,  2.89s/it]\u001b[A\n",
            " 85%|████████▌ | 53/62 [02:37<00:27,  3.04s/it]\u001b[A\n",
            " 87%|████████▋ | 54/62 [02:39<00:23,  2.88s/it]\u001b[A\n",
            " 89%|████████▊ | 55/62 [02:43<00:21,  3.08s/it]\u001b[A\n",
            " 90%|█████████ | 56/62 [02:46<00:18,  3.06s/it]\u001b[A\n",
            " 92%|█████████▏| 57/62 [02:48<00:13,  2.74s/it]\u001b[A\n",
            " 94%|█████████▎| 58/62 [02:50<00:10,  2.54s/it]\u001b[A\n",
            " 95%|█████████▌| 59/62 [02:52<00:07,  2.38s/it]\u001b[A\n",
            " 97%|█████████▋| 60/62 [02:54<00:04,  2.26s/it]\u001b[A\n",
            " 98%|█████████▊| 61/62 [03:04<00:04,  4.68s/it]\u001b[A\n",
            "100%|██████████| 62/62 [03:06<00:00,  3.01s/it]\n",
            "\n",
            "  0%|          | 0/87 [00:00<?, ?it/s]\u001b[A\n",
            "  1%|          | 1/87 [00:27<39:32, 27.59s/it]\u001b[A\n",
            "  2%|▏         | 2/87 [00:47<32:41, 23.07s/it]\u001b[A\n",
            "  3%|▎         | 3/87 [01:07<30:04, 21.48s/it]\u001b[A\n",
            "  5%|▍         | 4/87 [01:25<27:53, 20.17s/it]\u001b[A\n",
            "  6%|▌         | 5/87 [01:56<33:05, 24.22s/it]\u001b[A\n",
            "  7%|▋         | 6/87 [02:27<35:39, 26.41s/it]\u001b[A\n",
            "  8%|▊         | 7/87 [02:47<32:24, 24.30s/it]\u001b[A\n",
            "  9%|▉         | 8/87 [03:45<46:09, 35.06s/it]\u001b[A\n",
            " 10%|█         | 9/87 [04:45<55:55, 43.02s/it]\u001b[A\n",
            " 11%|█▏        | 10/87 [05:40<59:55, 46.69s/it]\u001b[A\n",
            " 13%|█▎        | 11/87 [05:43<42:16, 33.38s/it]\u001b[A\n",
            " 14%|█▍        | 12/87 [05:47<30:27, 24.37s/it]\u001b[A\n",
            " 15%|█▍        | 13/87 [05:50<21:54, 17.77s/it]\u001b[A\n",
            " 16%|█▌        | 14/87 [05:54<16:27, 13.53s/it]\u001b[A\n",
            " 17%|█▋        | 15/87 [06:06<15:40, 13.07s/it]\u001b[A\n",
            " 18%|█▊        | 16/87 [06:09<11:52, 10.04s/it]\u001b[A\n",
            " 20%|█▉        | 17/87 [06:34<17:04, 14.63s/it]\u001b[A\n",
            " 21%|██        | 18/87 [06:41<14:16, 12.42s/it]\u001b[A\n",
            " 22%|██▏       | 19/87 [06:49<12:24, 10.95s/it]\u001b[A\n",
            " 23%|██▎       | 20/87 [06:56<11:06,  9.95s/it]\u001b[A\n",
            " 24%|██▍       | 21/87 [07:04<10:08,  9.21s/it]\u001b[A\n",
            " 25%|██▌       | 22/87 [07:11<09:25,  8.70s/it]\u001b[A\n",
            " 26%|██▋       | 23/87 [07:19<08:52,  8.32s/it]\u001b[A\n",
            " 28%|██▊       | 24/87 [07:26<08:30,  8.11s/it]\u001b[A\n",
            " 29%|██▊       | 25/87 [07:34<08:05,  7.83s/it]\u001b[A\n",
            " 30%|██▉       | 26/87 [07:41<07:53,  7.76s/it]\u001b[A\n",
            " 31%|███       | 27/87 [07:49<07:52,  7.88s/it]\u001b[A\n",
            " 32%|███▏      | 28/87 [07:57<07:35,  7.71s/it]\u001b[A\n",
            " 33%|███▎      | 29/87 [08:04<07:23,  7.64s/it]\u001b[A\n",
            " 34%|███▍      | 30/87 [08:11<07:07,  7.50s/it]\u001b[A\n",
            " 36%|███▌      | 31/87 [08:19<07:01,  7.53s/it]\u001b[A\n",
            " 37%|███▋      | 32/87 [08:23<06:02,  6.58s/it]\u001b[A\n",
            " 38%|███▊      | 33/87 [08:31<06:12,  6.90s/it]\u001b[A\n",
            " 39%|███▉      | 34/87 [08:38<06:14,  7.07s/it]\u001b[A\n",
            " 40%|████      | 35/87 [09:02<10:24, 12.01s/it]\u001b[A\n",
            " 41%|████▏     | 36/87 [09:09<08:59, 10.57s/it]\u001b[A\n",
            " 43%|████▎     | 37/87 [09:18<08:25, 10.12s/it]\u001b[A\n",
            " 44%|████▎     | 38/87 [09:26<07:36,  9.32s/it]\u001b[A\n",
            " 45%|████▍     | 39/87 [09:30<06:19,  7.90s/it]\u001b[A\n",
            " 46%|████▌     | 40/87 [09:38<06:05,  7.78s/it]\u001b[A\n",
            " 47%|████▋     | 41/87 [09:45<05:53,  7.68s/it]\u001b[A\n",
            " 48%|████▊     | 42/87 [09:52<05:41,  7.59s/it]\u001b[A\n",
            " 49%|████▉     | 43/87 [10:00<05:33,  7.58s/it]\u001b[A\n",
            " 51%|█████     | 44/87 [10:08<05:26,  7.59s/it]\u001b[A\n",
            " 52%|█████▏    | 45/87 [10:15<05:10,  7.39s/it]\u001b[A\n",
            " 53%|█████▎    | 46/87 [10:19<04:24,  6.44s/it]\u001b[A\n",
            " 54%|█████▍    | 47/87 [10:22<03:43,  5.60s/it]\u001b[A\n",
            " 55%|█████▌    | 48/87 [10:26<03:17,  5.06s/it]\u001b[A\n",
            " 56%|█████▋    | 49/87 [10:29<02:50,  4.48s/it]\u001b[A\n",
            " 57%|█████▋    | 50/87 [10:59<07:24, 12.00s/it]\u001b[A\n",
            " 59%|█████▊    | 51/87 [11:29<10:25, 17.39s/it]\u001b[A\n",
            " 60%|█████▉    | 52/87 [11:54<11:24, 19.56s/it]\u001b[A\n",
            " 61%|██████    | 53/87 [12:22<12:30, 22.08s/it]\u001b[A\n",
            " 62%|██████▏   | 54/87 [12:51<13:17, 24.18s/it]\u001b[A\n",
            " 63%|██████▎   | 55/87 [13:16<13:00, 24.40s/it]\u001b[A\n",
            " 64%|██████▍   | 56/87 [13:41<12:50, 24.85s/it]\u001b[A\n",
            " 66%|██████▌   | 57/87 [14:09<12:48, 25.61s/it]\u001b[A\n",
            " 67%|██████▋   | 58/87 [15:06<16:56, 35.06s/it]\u001b[A\n",
            " 68%|██████▊   | 59/87 [15:59<18:51, 40.40s/it]\u001b[A\n",
            " 69%|██████▉   | 60/87 [16:26<16:23, 36.42s/it]\u001b[A\n",
            " 70%|███████   | 61/87 [16:34<12:04, 27.87s/it]\u001b[A\n",
            " 71%|███████▏  | 62/87 [16:37<08:31, 20.44s/it]\u001b[A\n",
            " 72%|███████▏  | 63/87 [16:46<06:49, 17.06s/it]\u001b[A\n",
            " 74%|███████▎  | 64/87 [16:53<05:25, 14.14s/it]\u001b[A\n",
            " 75%|███████▍  | 65/87 [17:20<06:35, 17.99s/it]\u001b[A\n",
            " 76%|███████▌  | 66/87 [17:51<07:34, 21.66s/it]\u001b[A\n",
            " 77%|███████▋  | 67/87 [18:19<07:53, 23.66s/it]\u001b[A\n",
            " 78%|███████▊  | 68/87 [18:47<07:54, 24.95s/it]\u001b[A\n",
            " 79%|███████▉  | 69/87 [19:14<07:39, 25.54s/it]\u001b[A\n",
            " 80%|████████  | 70/87 [19:43<07:30, 26.52s/it]\u001b[A\n",
            " 82%|████████▏ | 71/87 [20:09<07:05, 26.58s/it]\u001b[A\n",
            " 83%|████████▎ | 72/87 [20:45<07:20, 29.34s/it]\u001b[A\n",
            " 84%|████████▍ | 73/87 [21:14<06:49, 29.23s/it]\u001b[A\n",
            " 85%|████████▌ | 74/87 [21:45<06:28, 29.86s/it]\u001b[A\n",
            " 86%|████████▌ | 75/87 [21:58<04:56, 24.71s/it]\u001b[A\n",
            " 87%|████████▋ | 76/87 [22:28<04:48, 26.22s/it]\u001b[A\n",
            " 89%|████████▊ | 77/87 [22:50<04:10, 25.09s/it]\u001b[A\n",
            " 90%|████████▉ | 78/87 [23:14<03:42, 24.76s/it]\u001b[A\n",
            " 91%|█████████ | 79/87 [23:40<03:19, 24.95s/it]\u001b[A\n",
            " 92%|█████████▏| 80/87 [23:43<02:09, 18.49s/it]\u001b[A\n",
            " 93%|█████████▎| 81/87 [23:47<01:23, 13.97s/it]\u001b[A\n",
            " 94%|█████████▍| 82/87 [23:50<00:53, 10.74s/it]\u001b[A\n",
            " 95%|█████████▌| 83/87 [24:01<00:43, 10.97s/it]\u001b[A\n",
            " 97%|█████████▋| 84/87 [24:05<00:26,  8.81s/it]\u001b[A\n",
            " 98%|█████████▊| 85/87 [24:12<00:16,  8.20s/it]\u001b[A\n",
            " 99%|█████████▉| 86/87 [24:16<00:06,  6.91s/it]\u001b[A\n",
            "100%|██████████| 87/87 [24:30<00:00, 16.90s/it]\n"
          ]
        }
      ]
    },
    {
      "cell_type": "code",
      "metadata": {
        "id": "zg8FDZlMQvhx",
        "colab": {
          "base_uri": "https://localhost:8080/"
        },
        "outputId": "70e8d358-c399-436b-aa5e-0c7b6bdfe5bf"
      },
      "source": [
        "cd /content/drive/MyDrive/Google_Machine_Learning_Bootcamp_KR_2021/RSNA_MICCAI/data/rsna-miccai/"
      ],
      "execution_count": null,
      "outputs": [
        {
          "output_type": "stream",
          "name": "stdout",
          "text": [
            "/content/drive/MyDrive/Google_Machine_Learning_Bootcamp_KR_2021/RSNA_MICCAI/data/rsna-miccai\n"
          ]
        }
      ]
    },
    {
      "cell_type": "code",
      "metadata": {
        "id": "pUVryVUjxgxj"
      },
      "source": [
        "#pickling\n",
        "with open('X_T1wCE_allsame.pkl', 'wb') as f:\n",
        "  pickle.dump(X_T1wCE, f)\n",
        "\n",
        "with open('y_T1wCE_allsame.pkl', 'wb') as f:\n",
        "  pickle.dump(y_T1wCE, f)\n",
        "\n",
        "with open('train_idt_T1wCE_allsame.pkl', 'wb') as f:\n",
        "  pickle.dump(train_idt_T1wCE, f)\n",
        "\n",
        "with open('X_test_T1wCE_allsame.pkl', 'wb') as f:\n",
        "  pickle.dump(X_test_T1wCE, f)\n",
        "\n",
        "with open('test_idt_T1wCE_allsame.pkl', 'wb') as f:\n",
        "  pickle.dump(X_test_T1wCE, f)"
      ],
      "execution_count": null,
      "outputs": []
    },
    {
      "cell_type": "code",
      "metadata": {
        "id": "ZDAR0n8bQViX"
      },
      "source": [
        "#pickling\n",
        "with open('X_FLAIR_allsame.pkl', 'wb') as f:\n",
        "  pickle.dump(X_FLAIR, f)\n",
        "\n",
        "with open('y_FLAIR_allsame.pkl', 'wb') as f:\n",
        "  pickle.dump(y_FLAIR, f)\n",
        "\n",
        "with open('train_idt_FLAIR_allsame.pkl', 'wb') as f:\n",
        "  pickle.dump(train_idt_FLAIR, f)\n",
        "\n",
        "with open('X_test_FLAIR_allsame.pkl', 'wb') as f:\n",
        "  pickle.dump(X_test_FLAIR, f)\n",
        "\n",
        "with open('test_idt_FLAIR_allsame.pkl', 'wb') as f:\n",
        "  pickle.dump(X_test_FLAIR, f)"
      ],
      "execution_count": null,
      "outputs": []
    },
    {
      "cell_type": "code",
      "metadata": {
        "id": "S-QfYPZBQa5I"
      },
      "source": [
        "#pickling\n",
        "with open('X_T2w_allsame.pkl', 'wb') as f:\n",
        "  pickle.dump(X_T2w, f)\n",
        "\n",
        "with open('y_T2w_allsame.pkl', 'wb') as f:\n",
        "  pickle.dump(y_T2w, f)\n",
        "\n",
        "with open('train_idt_T2w_allsame.pkl', 'wb') as f:\n",
        "  pickle.dump(train_idt_T2w, f)\n",
        "\n",
        "with open('X_test_T2w_allsame.pkl', 'wb') as f:\n",
        "  pickle.dump(X_test_T2w, f)\n",
        "\n",
        "with open('test_idt_T2w_allsame.pkl', 'wb') as f:\n",
        "  pickle.dump(X_test_T2w, f)"
      ],
      "execution_count": null,
      "outputs": []
    },
    {
      "cell_type": "code",
      "metadata": {
        "id": "035FgWuwQe4A"
      },
      "source": [
        "#pickling\n",
        "with open('X_T1w_allsame.pkl', 'wb') as f:\n",
        "  pickle.dump(X_T1w, f)\n",
        "\n",
        "with open('y_T1w_allsame.pkl', 'wb') as f:\n",
        "  pickle.dump(y_T1w, f)\n",
        "\n",
        "with open('train_idt_T1w_allsame.pkl', 'wb') as f:\n",
        "  pickle.dump(train_idt_T1w, f)\n",
        "\n",
        "with open('X_test_T1w_allsame.pkl', 'wb') as f:\n",
        "  pickle.dump(X_test_T1w, f)\n",
        "\n",
        "with open('test_idt_T1w_allsame.pkl', 'wb') as f:\n",
        "  pickle.dump(X_test_T1w, f)"
      ],
      "execution_count": null,
      "outputs": []
    },
    {
      "cell_type": "code",
      "metadata": {
        "id": "OttSLJVoQjLe"
      },
      "source": [
        ""
      ],
      "execution_count": null,
      "outputs": []
    }
  ]
}