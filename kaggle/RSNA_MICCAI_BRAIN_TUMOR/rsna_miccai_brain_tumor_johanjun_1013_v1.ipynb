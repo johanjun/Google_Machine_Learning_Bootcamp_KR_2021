{
  "nbformat": 4,
  "nbformat_minor": 0,
  "metadata": {
    "kernelspec": {
      "language": "python",
      "display_name": "Python 3",
      "name": "python3"
    },
    "language_info": {
      "name": "python",
      "version": "3.7.10",
      "mimetype": "text/x-python",
      "codemirror_mode": {
        "name": "ipython",
        "version": 3
      },
      "pygments_lexer": "ipython3",
      "nbconvert_exporter": "python",
      "file_extension": ".py"
    },
    "colab": {
      "name": "rsna-miccai-brain-tumor-johanjun_1013-v1.ipynb",
      "provenance": [],
      "collapsed_sections": [],
      "machine_shape": "hm",
      "include_colab_link": true
    },
    "accelerator": "GPU"
  },
  "cells": [
    {
      "cell_type": "markdown",
      "metadata": {
        "id": "view-in-github",
        "colab_type": "text"
      },
      "source": [
        "<a href=\"https://colab.research.google.com/github/johanjun/Google_Machine_Learning_Bootcamp_KR_2021/blob/main/kaggle/RSNA_MICCAI_BRAIN_TUMOR/rsna_miccai_brain_tumor_johanjun_1013_v1.ipynb\" target=\"_parent\"><img src=\"https://colab.research.google.com/assets/colab-badge.svg\" alt=\"Open In Colab\"/></a>"
      ]
    },
    {
      "cell_type": "code",
      "metadata": {
        "colab": {
          "base_uri": "https://localhost:8080/"
        },
        "id": "xOUCOQHHYjrI",
        "outputId": "4d93e938-6e2e-49ac-f0cc-5eada7728103"
      },
      "source": [
        "pip install pydicom"
      ],
      "execution_count": 2,
      "outputs": [
        {
          "output_type": "stream",
          "name": "stdout",
          "text": [
            "Collecting pydicom\n",
            "  Downloading pydicom-2.2.2-py3-none-any.whl (2.0 MB)\n",
            "\u001b[K     |████████████████████████████████| 2.0 MB 1.1 MB/s \n",
            "\u001b[?25hInstalling collected packages: pydicom\n",
            "Successfully installed pydicom-2.2.2\n"
          ]
        }
      ]
    },
    {
      "cell_type": "code",
      "metadata": {
        "_uuid": "8f2839f25d086af736a60e9eeb907d3b93b6e0e5",
        "_cell_guid": "b1076dfc-b9ad-4769-8c92-a6c4dae69d19",
        "execution": {
          "iopub.status.busy": "2021-09-09T08:53:56.762280Z",
          "iopub.execute_input": "2021-09-09T08:53:56.762670Z",
          "iopub.status.idle": "2021-09-09T08:53:56.769176Z",
          "shell.execute_reply.started": "2021-09-09T08:53:56.762636Z",
          "shell.execute_reply": "2021-09-09T08:53:56.768094Z"
        },
        "trusted": true,
        "id": "0l9glKmsSg6D"
      },
      "source": [
        "import numpy as np # linear algebra\n",
        "import pandas as pd # data processing, CSV file I/O (e.g. pd.read_csv)\n",
        "import os\n",
        "from tqdm import tqdm\n",
        "import random\n",
        "import pydicom\n",
        "from pydicom.pixel_data_handlers.util import apply_voi_lut\n",
        "\n",
        "import cv2\n",
        "import pickle\n",
        "\n",
        "import matplotlib.pyplot as plt\n",
        "import glob\n",
        "\n",
        "import tensorflow as tf\n",
        "from tensorflow import keras\n",
        "from tensorflow.keras.utils import to_categorical\n",
        "from sklearn.model_selection import train_test_split"
      ],
      "execution_count": 3,
      "outputs": []
    },
    {
      "cell_type": "code",
      "metadata": {
        "id": "c6wQE57KS99g"
      },
      "source": [
        "data_dir = '/content/drive/MyDrive/Google_Machine_Learning_Bootcamp_KR_2021/RSNA_MICCAI/data/rsna-miccai/'"
      ],
      "execution_count": 4,
      "outputs": []
    },
    {
      "cell_type": "code",
      "metadata": {
        "execution": {
          "iopub.status.busy": "2021-09-09T08:05:05.559632Z",
          "iopub.execute_input": "2021-09-09T08:05:05.560291Z",
          "iopub.status.idle": "2021-09-09T08:05:05.588138Z",
          "shell.execute_reply.started": "2021-09-09T08:05:05.560236Z",
          "shell.execute_reply": "2021-09-09T08:05:05.587076Z"
        },
        "trusted": true,
        "id": "50rg9HSFSg6G"
      },
      "source": [
        "train_df = pd.read_csv(data_dir + \"train_labels.csv\")\n",
        "test_df = pd.read_csv(data_dir + \"sample_submission.csv\")"
      ],
      "execution_count": 5,
      "outputs": []
    },
    {
      "cell_type": "markdown",
      "metadata": {
        "id": "WFR8qocSSg6G"
      },
      "source": [
        "In this discussion a competition host has notified that there are some issues with these 3 cases\n",
        "Patient IDs -\n",
        "\n",
        "1. 00109 (FLAIR images are blank)\n",
        "2. 00123 (T1w images are blank)\n",
        "3. 00709 (FLAIR images are blank)\n",
        "<br><br>Hence these can be excluded"
      ]
    },
    {
      "cell_type": "code",
      "metadata": {
        "execution": {
          "iopub.status.busy": "2021-09-09T08:05:07.655722Z",
          "iopub.execute_input": "2021-09-09T08:05:07.656096Z",
          "iopub.status.idle": "2021-09-09T08:05:07.675143Z",
          "shell.execute_reply.started": "2021-09-09T08:05:07.656067Z",
          "shell.execute_reply": "2021-09-09T08:05:07.673869Z"
        },
        "trusted": true,
        "id": "ZNX625ndSg6I"
      },
      "source": [
        "#refer: https://www.kaggle.com/arnabs007/part-1-rsna-miccai-btrc-understanding-the-data\n",
        "EXCLUDE = [109, 123, 709]\n",
        "train_df = train_df[~train_df.BraTS21ID.isin(EXCLUDE)]"
      ],
      "execution_count": 6,
      "outputs": []
    },
    {
      "cell_type": "code",
      "metadata": {
        "colab": {
          "base_uri": "https://localhost:8080/",
          "height": 204
        },
        "id": "y2LnMMwXpzyb",
        "outputId": "240f300e-89b4-4a0a-c0a6-d00fd53a35ec"
      },
      "source": [
        "train_df.head()"
      ],
      "execution_count": 7,
      "outputs": [
        {
          "output_type": "execute_result",
          "data": {
            "text/html": [
              "<div>\n",
              "<style scoped>\n",
              "    .dataframe tbody tr th:only-of-type {\n",
              "        vertical-align: middle;\n",
              "    }\n",
              "\n",
              "    .dataframe tbody tr th {\n",
              "        vertical-align: top;\n",
              "    }\n",
              "\n",
              "    .dataframe thead th {\n",
              "        text-align: right;\n",
              "    }\n",
              "</style>\n",
              "<table border=\"1\" class=\"dataframe\">\n",
              "  <thead>\n",
              "    <tr style=\"text-align: right;\">\n",
              "      <th></th>\n",
              "      <th>BraTS21ID</th>\n",
              "      <th>MGMT_value</th>\n",
              "    </tr>\n",
              "  </thead>\n",
              "  <tbody>\n",
              "    <tr>\n",
              "      <th>0</th>\n",
              "      <td>0</td>\n",
              "      <td>1</td>\n",
              "    </tr>\n",
              "    <tr>\n",
              "      <th>1</th>\n",
              "      <td>2</td>\n",
              "      <td>1</td>\n",
              "    </tr>\n",
              "    <tr>\n",
              "      <th>2</th>\n",
              "      <td>3</td>\n",
              "      <td>0</td>\n",
              "    </tr>\n",
              "    <tr>\n",
              "      <th>3</th>\n",
              "      <td>5</td>\n",
              "      <td>1</td>\n",
              "    </tr>\n",
              "    <tr>\n",
              "      <th>4</th>\n",
              "      <td>6</td>\n",
              "      <td>1</td>\n",
              "    </tr>\n",
              "  </tbody>\n",
              "</table>\n",
              "</div>"
            ],
            "text/plain": [
              "   BraTS21ID  MGMT_value\n",
              "0          0           1\n",
              "1          2           1\n",
              "2          3           0\n",
              "3          5           1\n",
              "4          6           1"
            ]
          },
          "metadata": {},
          "execution_count": 7
        }
      ]
    },
    {
      "cell_type": "code",
      "metadata": {
        "colab": {
          "base_uri": "https://localhost:8080/"
        },
        "id": "gRmjWixhqrIT",
        "outputId": "b5e3fcd5-6bb2-4560-d11b-e4475fd4bf97"
      },
      "source": [
        "cd /content/drive/MyDrive/Google_Machine_Learning_Bootcamp_KR_2021/RSNA_MICCAI/data/rsna-miccai/"
      ],
      "execution_count": 8,
      "outputs": [
        {
          "output_type": "stream",
          "name": "stdout",
          "text": [
            "/content/drive/MyDrive/Google_Machine_Learning_Bootcamp_KR_2021/RSNA_MICCAI/data/rsna-miccai\n"
          ]
        }
      ]
    },
    {
      "cell_type": "code",
      "metadata": {
        "id": "tclgbj8mpto4"
      },
      "source": [
        "# train_df = pd.read_csv('train_df(over150).csv')"
      ],
      "execution_count": 9,
      "outputs": []
    },
    {
      "cell_type": "code",
      "metadata": {
        "execution": {
          "iopub.status.busy": "2021-09-09T08:05:08.179708Z",
          "iopub.execute_input": "2021-09-09T08:05:08.180276Z",
          "iopub.status.idle": "2021-09-09T08:05:08.184417Z",
          "shell.execute_reply.started": "2021-09-09T08:05:08.180233Z",
          "shell.execute_reply": "2021-09-09T08:05:08.183183Z"
        },
        "trusted": true,
        "id": "MC2xY5WrSg6I"
      },
      "source": [
        "TYPES = [\"FLAIR\", \"T1w\", \"T1wCE\", \"T2w\"] #mpMRI scans"
      ],
      "execution_count": 10,
      "outputs": []
    },
    {
      "cell_type": "code",
      "metadata": {
        "execution": {
          "iopub.status.busy": "2021-09-09T08:05:09.466375Z",
          "iopub.execute_input": "2021-09-09T08:05:09.466923Z",
          "iopub.status.idle": "2021-09-09T08:05:09.474187Z",
          "shell.execute_reply.started": "2021-09-09T08:05:09.466888Z",
          "shell.execute_reply": "2021-09-09T08:05:09.473386Z"
        },
        "trusted": true,
        "id": "3nirbxWXSg6J"
      },
      "source": [
        "def get_all_image_paths(BraTS21ID, image_type, folder=\"train\"): #get an array of all the images of a particular type or a particular patient id\n",
        "    assert(image_type in TYPES) #only in types\n",
        "    patient_path = os.path.join(data_dir + \"%s/\" % folder, str(BraTS21ID).zfill(5)) #다른 폴더일 수도 있음\n",
        "    #print(lambda x: int(x[:-4].split(\"-\")[-1]))\n",
        "    \n",
        "    paths = sorted(glob.glob(os.path.join(patient_path, image_type, \"*\")), key=lambda x: int(x[:-4].split(\"-\")[-1])) #sort\n",
        "    #print(paths)\n",
        "    \n",
        "    num_images = len(paths)\n",
        "    \n",
        "    start = int(num_images * 0.25)\n",
        "    end = int(num_images * 0.75)\n",
        "    if num_images < 10:\n",
        "        jump = 1\n",
        "    else:\n",
        "        jump = 3\n",
        "        \n",
        "    return np.array(paths[start:end:jump])"
      ],
      "execution_count": 12,
      "outputs": []
    },
    {
      "cell_type": "code",
      "metadata": {
        "execution": {
          "iopub.status.busy": "2021-09-09T08:05:09.961756Z",
          "iopub.execute_input": "2021-09-09T08:05:09.962152Z",
          "iopub.status.idle": "2021-09-09T08:05:09.966979Z",
          "shell.execute_reply.started": "2021-09-09T08:05:09.962116Z",
          "shell.execute_reply": "2021-09-09T08:05:09.966011Z"
        },
        "trusted": true,
        "id": "oWZMpAyBSg6K"
      },
      "source": [
        "def get_all_images(BraTS21ID, image_type, folder=\"train\", size=225):\n",
        "    return [load_dicom(path, size) for path in get_all_image_paths(BraTS21ID, image_type, folder)]"
      ],
      "execution_count": 13,
      "outputs": []
    },
    {
      "cell_type": "code",
      "metadata": {
        "execution": {
          "iopub.status.busy": "2021-09-09T08:05:10.416138Z",
          "iopub.execute_input": "2021-09-09T08:05:10.416626Z",
          "iopub.status.idle": "2021-09-09T08:05:10.425527Z",
          "shell.execute_reply.started": "2021-09-09T08:05:10.416595Z",
          "shell.execute_reply": "2021-09-09T08:05:10.424744Z"
        },
        "trusted": true,
        "id": "5DDIDg9dSg6L"
      },
      "source": [
        "def get_all_data_train(image_type):\n",
        "    global train_df\n",
        "    \n",
        "    X = []\n",
        "    y = []\n",
        "    train_ids = []\n",
        "\n",
        "    for i in tqdm(train_df.index):\n",
        "        tmp_x = train_df.loc[i]\n",
        "        images = get_all_images(int(tmp_x[\"BraTS21ID\"]), image_type, \"train\", IMAGE_SIZE)\n",
        "        label = tmp_x[\"MGMT_value\"]\n",
        "\n",
        "        X += images\n",
        "        y += [label] * len(images)\n",
        "        train_ids += [int(tmp_x[\"BraTS21ID\"])] * len(images)\n",
        "        assert(len(X) == len(y))\n",
        "    return np.array(X), np.array(y), np.array(train_ids)\n",
        "\n",
        "def get_all_data_test(image_type):\n",
        "    global test_df\n",
        "    \n",
        "    X = []\n",
        "    test_ids = []\n",
        "\n",
        "    for i in tqdm(test_df.index):\n",
        "        tmp_x = test_df.loc[i]\n",
        "        images = get_all_images(int(tmp_x[\"BraTS21ID\"]), image_type, \"test\", IMAGE_SIZE)\n",
        "        X += images\n",
        "        test_ids += [int(tmp_x[\"BraTS21ID\"])] * len(images)\n",
        "\n",
        "    return np.array(X), np.array(test_ids)"
      ],
      "execution_count": 14,
      "outputs": []
    },
    {
      "cell_type": "code",
      "metadata": {
        "id": "a3mVAQpDrKe0"
      },
      "source": [
        "IMAGE_SIZE = 64"
      ],
      "execution_count": 15,
      "outputs": []
    },
    {
      "cell_type": "code",
      "metadata": {
        "id": "z_ej1QMMrZhw"
      },
      "source": [
        "# pickling\n",
        "with open(data_dir+'X_T1wCE.pkl', 'rb') as f:\n",
        "  X_T1wCE = pickle.load(f)\n",
        "\n",
        "with open(data_dir+'y_T1wCE.pkl', 'rb') as f:\n",
        "  y_T1wCE = pickle.load(f)\n",
        "\n",
        "with open(data_dir+'train_idt_T1wCE.pkl', 'rb') as f:\n",
        "  train_idt_T1wCE = pickle.load(f)\n",
        "\n",
        "with open(data_dir+'X_test_T1wCE.pkl', 'rb') as f:\n",
        "  X_test_T1wCE = pickle.load(f)\n",
        "\n",
        "with open(data_dir+'test_idt_T1wCE.pkl', 'rb') as f:\n",
        "  test_idt_T1wCE = pickle.load(f)\n",
        "#pickling\n",
        "with open(data_dir+'X_FLAIR.pkl', 'rb') as f:\n",
        "  X_FLAIR = pickle.load(f)\n",
        "\n",
        "with open(data_dir+'y_FLAIR.pkl', 'rb') as f:\n",
        "  y_FLAIR = pickle.load(f)\n",
        "\n",
        "with open(data_dir+'train_idt_FLAIR.pkl', 'rb') as f:\n",
        "  train_idt_FLAIR = pickle.load(f)\n",
        "\n",
        "with open(data_dir+'X_test_FLAIR.pkl', 'rb') as f:\n",
        "  X_test_FLAIR = pickle.load(f)\n",
        "\n",
        "with open(data_dir+'test_idt_FLAIR.pkl', 'rb') as f:\n",
        "  test_idt_FLAIR = pickle.load(f)\n",
        "#pickling\n",
        "with open(data_dir+'X_T2w.pkl', 'rb') as f:\n",
        "  X_T2w = pickle.load(f)\n",
        "\n",
        "with open(data_dir+'y_T2w.pkl', 'rb') as f:\n",
        "  y_T2w = pickle.load(f)\n",
        "\n",
        "with open(data_dir+'train_idt_T2w.pkl', 'rb') as f:\n",
        "  train_idt_T2w = pickle.load(f)\n",
        "\n",
        "with open(data_dir+'X_test_T2w.pkl', 'rb') as f:\n",
        "  X_test_T2w = pickle.load(f)\n",
        "\n",
        "with open(data_dir+'test_idt_T2w.pkl', 'rb') as f:\n",
        "  test_idt_T2w = pickle.load(f)\n",
        "#pickling\n",
        "with open(data_dir+'X_T1w.pkl', 'rb') as f:\n",
        "  X_T1w = pickle.load(f)\n",
        "\n",
        "with open(data_dir+'y_T1w.pkl', 'rb') as f:\n",
        "  y_T1w = pickle.load(f)\n",
        "\n",
        "with open(data_dir+'train_idt_T1w.pkl', 'rb') as f:\n",
        "  train_idt_T1w = pickle.load(f)\n",
        "\n",
        "with open(data_dir+'X_test_T1w.pkl', 'rb') as f:\n",
        "  X_test_T1w = pickle.load(f)\n",
        "\n",
        "with open(data_dir+'test_idt_T1w.pkl', 'rb') as f:\n",
        "  test_idt_T1w = pickle.load(f)"
      ],
      "execution_count": 16,
      "outputs": []
    },
    {
      "cell_type": "code",
      "metadata": {
        "id": "_xguSRrQbg5D"
      },
      "source": [
        "X_test = np.concatenate([X_test_FLAIR, X_test_T1w, X_test_T1wCE, X_test_T2w], axis=0)\n",
        "test_idt = np.concatenate([test_idt_FLAIR, test_idt_T1w, test_idt_T1wCE, test_idt_T2w], axis=0)"
      ],
      "execution_count": 17,
      "outputs": []
    },
    {
      "cell_type": "code",
      "metadata": {
        "execution": {
          "iopub.status.busy": "2021-09-09T08:09:43.944235Z",
          "iopub.execute_input": "2021-09-09T08:09:43.944810Z",
          "iopub.status.idle": "2021-09-09T08:09:43.986052Z",
          "shell.execute_reply.started": "2021-09-09T08:09:43.944767Z",
          "shell.execute_reply": "2021-09-09T08:09:43.985157Z"
        },
        "trusted": true,
        "id": "wrK-MrfRSg6M"
      },
      "source": [
        "X_train, X_valid, y_train, y_valid, train_idt_train, train_idt_valid = train_test_split(X_T1wCE, y_T1wCE, train_idt_T1wCE, test_size=0.05)"
      ],
      "execution_count": 28,
      "outputs": []
    },
    {
      "cell_type": "code",
      "metadata": {
        "id": "nDRmsImbuGpw"
      },
      "source": [
        "from tensorflow.keras import layers\n",
        "\n",
        "data_augmentation = tf.keras.Sequential([\n",
        "  layers.experimental.preprocessing.RandomFlip(\"horizontal_and_vertical\"),\n",
        "  layers.experimental.preprocessing.RandomRotation(0.2),\n",
        "])"
      ],
      "execution_count": 29,
      "outputs": []
    },
    {
      "cell_type": "code",
      "metadata": {
        "id": "IddRG8oiuJwP"
      },
      "source": [
        "X_train_exp = tf.expand_dims(X_train, -1)\n",
        "augmented_image = data_augmentation(X_train_exp)\n",
        "X_train_sq = tf.squeeze(augmented_image)\n",
        "\n",
        "X_train = np.concatenate([X_train, X_train_sq], axis=0)\n",
        "y_train = np.concatenate([y_train, y_train], axis=0)\n",
        "\n",
        "train_idt_train = np.concatenate([train_idt_train, train_idt_train], axis=0)"
      ],
      "execution_count": 30,
      "outputs": []
    },
    {
      "cell_type": "code",
      "metadata": {
        "execution": {
          "iopub.status.busy": "2021-09-09T08:09:44.993484Z",
          "iopub.execute_input": "2021-09-09T08:09:44.993888Z",
          "iopub.status.idle": "2021-09-09T08:09:45.172717Z",
          "shell.execute_reply.started": "2021-09-09T08:09:44.993853Z",
          "shell.execute_reply": "2021-09-09T08:09:45.171572Z"
        },
        "trusted": true,
        "id": "bej50ftOSg6N"
      },
      "source": [
        "X_train = tf.expand_dims(X_train, axis=-1) #expand the dimension at the end of the array\n",
        "X_valid = tf.expand_dims(X_valid, axis=-1)\n",
        "X_test = tf.expand_dims(X_test, axis=-1)\n",
        "\n",
        "y_train = to_categorical(y_train) #one-hot incoding\n",
        "y_valid = to_categorical(y_valid)"
      ],
      "execution_count": 31,
      "outputs": []
    },
    {
      "cell_type": "code",
      "metadata": {
        "colab": {
          "base_uri": "https://localhost:8080/"
        },
        "id": "qX9lcG87MpM9",
        "outputId": "6dd5bfb9-5509-4a30-d7be-2838c3ababb4"
      },
      "source": [
        "X_train.shape, y_train.shape, X_valid.shape, y_valid.shape, train_idt_train.shape, train_idt_valid.shape\n"
      ],
      "execution_count": 34,
      "outputs": [
        {
          "output_type": "execute_result",
          "data": {
            "text/plain": [
              "(TensorShape([30772, 64, 64, 1]),\n",
              " (30772, 2),\n",
              " TensorShape([810, 64, 64, 1]),\n",
              " (810, 2),\n",
              " (30772,),\n",
              " (810,))"
            ]
          },
          "metadata": {},
          "execution_count": 34
        }
      ]
    },
    {
      "cell_type": "code",
      "metadata": {
        "id": "U2ZPH-6JMaY9"
      },
      "source": [
        "X2 = np.concatenate([X_FLAIR, X_T2w, X_T1w, X_T1wCE], axis=0)\n",
        "y2 = np.concatenate([y_FLAIR, y_T2w, y_T1w, y_T1wCE], axis=0)\n",
        "train_idt2 = np.concatenate([train_idt_FLAIR, train_idt_T2w, train_idt_T1w, train_idt_T1wCE], axis=0)"
      ],
      "execution_count": 35,
      "outputs": []
    },
    {
      "cell_type": "code",
      "metadata": {
        "id": "yeiZGtSdMcEr"
      },
      "source": [
        "X_train2, X_valid2, y_train2, y_valid2, train_idt_train2, train_idt_valid2 = train_test_split(X2, y2, train_idt2, test_size=0.05)"
      ],
      "execution_count": 36,
      "outputs": []
    },
    {
      "cell_type": "code",
      "metadata": {
        "id": "O2ssfyeKMePC"
      },
      "source": [
        "X_train2 = np.expand_dims(X_train2, axis=-1) \n",
        "X_valid2 = np.expand_dims(X_valid2, axis=-1)\n",
        "\n",
        "y_train2 = to_categorical(y_train2) \n",
        "y_valid2 = to_categorical(y_valid2)"
      ],
      "execution_count": 37,
      "outputs": []
    },
    {
      "cell_type": "code",
      "metadata": {
        "execution": {
          "iopub.status.busy": "2021-09-09T08:13:38.917128Z",
          "iopub.execute_input": "2021-09-09T08:13:38.917572Z",
          "iopub.status.idle": "2021-09-09T08:13:38.930258Z",
          "shell.execute_reply.started": "2021-09-09T08:13:38.917535Z",
          "shell.execute_reply": "2021-09-09T08:13:38.929014Z"
        },
        "trusted": true,
        "id": "gpuY_HLMSg6N"
      },
      "source": [
        "def create_model():\n",
        "    model = keras.Sequential()\n",
        "    model.add(keras.layers.Conv2D(filters=32, kernel_size=3, activation='relu', padding='VALID', \n",
        "                                  input_shape=(IMAGE_SIZE, IMAGE_SIZE, 1)))\n",
        "    model.add(keras.layers.BatchNormalization())\n",
        "    \n",
        "    model.add(keras.layers.Conv2D(filters=64, kernel_size=3, activation='relu', padding='SAME'))\n",
        "    model.add(keras.layers.BatchNormalization())\n",
        "    model.add(keras.layers.MaxPool2D(pool_size=(2,2)))\n",
        "\n",
        "    model.add(keras.layers.Conv2D(filters=64, kernel_size=3, activation='relu', padding='SAME'))\n",
        "    model.add(keras.layers.BatchNormalization())\n",
        "\n",
        "    model.add(keras.layers.Conv2D(filters=128, kernel_size=3, activation='relu', padding='VALID'))\n",
        "    model.add(keras.layers.BatchNormalization())\n",
        "\n",
        "    model.add(keras.layers.Conv2D(filters=128, kernel_size=3, activation='relu', padding='SAME'))\n",
        "    model.add(keras.layers.BatchNormalization())\n",
        "\n",
        "    model.add(keras.layers.MaxPool2D(pool_size=(2,2)))\n",
        "    model.add(keras.layers.BatchNormalization())\n",
        "    model.add(keras.layers.Dropout(0.3))\n",
        "\n",
        "    model.add(keras.layers.BatchNormalization())\n",
        "    model.add(keras.layers.Flatten())\n",
        "    model.add(keras.layers.Dense(128, activation='relu', kernel_regularizer=keras.regularizers.l2(0.01)))\n",
        "    model.add(keras.layers.Dense(2, activation='softmax', kernel_regularizer=keras.regularizers.l2(0.01)))\n",
        "    return model"
      ],
      "execution_count": 39,
      "outputs": []
    },
    {
      "cell_type": "code",
      "metadata": {
        "execution": {
          "iopub.status.busy": "2021-09-09T08:13:41.051663Z",
          "iopub.execute_input": "2021-09-09T08:13:41.052059Z",
          "iopub.status.idle": "2021-09-09T08:13:41.057920Z",
          "shell.execute_reply.started": "2021-09-09T08:13:41.052027Z",
          "shell.execute_reply": "2021-09-09T08:13:41.056771Z"
        },
        "trusted": true,
        "id": "ydTkzEloSg6O"
      },
      "source": [
        "## Hyper Parameters\n",
        "IMAGE_SIZE = 64\n",
        "N_EPOCHS = 50\n",
        "N_BATCH = 32\n",
        "N_TRAIN = X_train.shape[0]\n",
        "N_VAL = X_valid.shape[0]\n",
        "\n",
        "learning_rate = 0.0001\n",
        "steps_per_epoch = N_TRAIN / N_BATCH\n",
        "validation_steps = int(np.ceil(N_VAL / N_BATCH))"
      ],
      "execution_count": 40,
      "outputs": []
    },
    {
      "cell_type": "code",
      "metadata": {
        "execution": {
          "iopub.status.busy": "2021-09-09T08:15:33.633960Z",
          "iopub.execute_input": "2021-09-09T08:15:33.634516Z",
          "iopub.status.idle": "2021-09-09T08:15:33.769136Z",
          "shell.execute_reply.started": "2021-09-09T08:15:33.634482Z",
          "shell.execute_reply": "2021-09-09T08:15:33.768205Z"
        },
        "trusted": true,
        "id": "2Nh-2Cl1Sg6O"
      },
      "source": [
        "## Create model, compile & summary\n",
        "model = create_model()\n",
        "\n",
        "model.compile(optimizer=tf.keras.optimizers.Adam(learning_rate),\n",
        "              loss='categorical_crossentropy', #label이 ohe이 아니면 sparse를 쓰면 자동으로 ohe\n",
        "              metrics=[tf.keras.metrics.AUC()])"
      ],
      "execution_count": 41,
      "outputs": []
    },
    {
      "cell_type": "code",
      "metadata": {
        "execution": {
          "iopub.status.busy": "2021-09-09T08:15:35.206055Z",
          "iopub.execute_input": "2021-09-09T08:15:35.206421Z",
          "iopub.status.idle": "2021-09-09T08:48:26.009687Z",
          "shell.execute_reply.started": "2021-09-09T08:15:35.206392Z",
          "shell.execute_reply": "2021-09-09T08:48:26.008689Z"
        },
        "trusted": true,
        "id": "DSWdjGPoSg6O",
        "colab": {
          "base_uri": "https://localhost:8080/"
        },
        "outputId": "f4e6456f-795f-48bb-e1b3-c85bc9a6e3e3"
      },
      "source": [
        "history = model.fit(\n",
        "    x=X_train,\n",
        "    y=y_train,\n",
        "    epochs=N_EPOCHS,\n",
        "    steps_per_epoch=steps_per_epoch,\n",
        "    validation_data=(X_valid2, y_valid2),\n",
        ")"
      ],
      "execution_count": 42,
      "outputs": [
        {
          "output_type": "stream",
          "name": "stdout",
          "text": [
            "Epoch 1/50\n",
            "961/961 [==============================] - 32s 14ms/step - loss: 2.0587 - auc: 0.5863 - val_loss: 1.3404 - val_auc: 0.6221\n",
            "Epoch 2/50\n",
            "961/961 [==============================] - 13s 14ms/step - loss: 1.0136 - auc: 0.6402 - val_loss: 0.9073 - val_auc: 0.6451\n",
            "Epoch 3/50\n",
            "961/961 [==============================] - 13s 14ms/step - loss: 0.8026 - auc: 0.7139 - val_loss: 0.8698 - val_auc: 0.7023\n",
            "Epoch 4/50\n",
            "961/961 [==============================] - 13s 14ms/step - loss: 0.7308 - auc: 0.7964 - val_loss: 0.9041 - val_auc: 0.7230\n",
            "Epoch 5/50\n",
            "961/961 [==============================] - 13s 14ms/step - loss: 0.6501 - auc: 0.8735 - val_loss: 0.8577 - val_auc: 0.7568\n",
            "Epoch 6/50\n",
            "961/961 [==============================] - 13s 14ms/step - loss: 0.5749 - auc: 0.9242 - val_loss: 0.9478 - val_auc: 0.7435\n",
            "Epoch 7/50\n",
            "961/961 [==============================] - 13s 14ms/step - loss: 0.5078 - auc: 0.9557 - val_loss: 0.9901 - val_auc: 0.7442\n",
            "Epoch 8/50\n",
            "961/961 [==============================] - 13s 14ms/step - loss: 0.4529 - auc: 0.9729 - val_loss: 1.0027 - val_auc: 0.7550\n",
            "Epoch 9/50\n",
            "961/961 [==============================] - 13s 14ms/step - loss: 0.4132 - auc: 0.9821 - val_loss: 1.1025 - val_auc: 0.7546\n",
            "Epoch 10/50\n",
            "961/961 [==============================] - 13s 14ms/step - loss: 0.3844 - auc: 0.9867 - val_loss: 1.1694 - val_auc: 0.7397\n",
            "Epoch 11/50\n",
            "961/961 [==============================] - 13s 14ms/step - loss: 0.3616 - auc: 0.9902 - val_loss: 1.1507 - val_auc: 0.7613\n",
            "Epoch 12/50\n",
            "961/961 [==============================] - 13s 14ms/step - loss: 0.3532 - auc: 0.9905 - val_loss: 1.1565 - val_auc: 0.7649\n",
            "Epoch 13/50\n",
            "961/961 [==============================] - 13s 14ms/step - loss: 0.3392 - auc: 0.9922 - val_loss: 1.1849 - val_auc: 0.7486\n",
            "Epoch 14/50\n",
            "961/961 [==============================] - 13s 14ms/step - loss: 0.3293 - auc: 0.9929 - val_loss: 1.1711 - val_auc: 0.7522\n",
            "Epoch 15/50\n",
            "961/961 [==============================] - 13s 14ms/step - loss: 0.3172 - auc: 0.9939 - val_loss: 1.1389 - val_auc: 0.7557\n",
            "Epoch 16/50\n",
            "961/961 [==============================] - 13s 14ms/step - loss: 0.3199 - auc: 0.9931 - val_loss: 1.1292 - val_auc: 0.7606\n",
            "Epoch 17/50\n",
            "961/961 [==============================] - 13s 14ms/step - loss: 0.3024 - auc: 0.9948 - val_loss: 1.1672 - val_auc: 0.7640\n",
            "Epoch 18/50\n",
            "961/961 [==============================] - 13s 14ms/step - loss: 0.2994 - auc: 0.9943 - val_loss: 1.1971 - val_auc: 0.7557\n",
            "Epoch 19/50\n",
            "961/961 [==============================] - 13s 14ms/step - loss: 0.2889 - auc: 0.9951 - val_loss: 1.1269 - val_auc: 0.7563\n",
            "Epoch 20/50\n",
            "961/961 [==============================] - 13s 14ms/step - loss: 0.2859 - auc: 0.9949 - val_loss: 1.1664 - val_auc: 0.7527\n",
            "Epoch 21/50\n",
            "961/961 [==============================] - 13s 14ms/step - loss: 0.2788 - auc: 0.9952 - val_loss: 1.2041 - val_auc: 0.7630\n",
            "Epoch 22/50\n",
            "961/961 [==============================] - 13s 14ms/step - loss: 0.2695 - auc: 0.9956 - val_loss: 1.1952 - val_auc: 0.7611\n",
            "Epoch 23/50\n",
            "961/961 [==============================] - 13s 14ms/step - loss: 0.2624 - auc: 0.9958 - val_loss: 1.1717 - val_auc: 0.7628\n",
            "Epoch 24/50\n",
            "961/961 [==============================] - 13s 14ms/step - loss: 0.2567 - auc: 0.9960 - val_loss: 1.2278 - val_auc: 0.7681\n",
            "Epoch 25/50\n",
            "961/961 [==============================] - 13s 14ms/step - loss: 0.2511 - auc: 0.9962 - val_loss: 1.2076 - val_auc: 0.7591\n",
            "Epoch 26/50\n",
            "961/961 [==============================] - 13s 14ms/step - loss: 0.2447 - auc: 0.9965 - val_loss: 1.2508 - val_auc: 0.7490\n",
            "Epoch 27/50\n",
            "961/961 [==============================] - 13s 14ms/step - loss: 0.2415 - auc: 0.9966 - val_loss: 1.1883 - val_auc: 0.7631\n",
            "Epoch 28/50\n",
            "961/961 [==============================] - 13s 14ms/step - loss: 0.2351 - auc: 0.9966 - val_loss: 1.2457 - val_auc: 0.7509\n",
            "Epoch 29/50\n",
            "961/961 [==============================] - 13s 14ms/step - loss: 0.2334 - auc: 0.9966 - val_loss: 1.2406 - val_auc: 0.7542\n",
            "Epoch 30/50\n",
            "961/961 [==============================] - 13s 14ms/step - loss: 0.2306 - auc: 0.9966 - val_loss: 1.2197 - val_auc: 0.7523\n",
            "Epoch 31/50\n",
            "961/961 [==============================] - 13s 14ms/step - loss: 0.2249 - auc: 0.9967 - val_loss: 1.2369 - val_auc: 0.7634\n",
            "Epoch 32/50\n",
            "961/961 [==============================] - 13s 14ms/step - loss: 0.2214 - auc: 0.9968 - val_loss: 1.1516 - val_auc: 0.7645\n",
            "Epoch 33/50\n",
            "961/961 [==============================] - 13s 14ms/step - loss: 0.2096 - auc: 0.9974 - val_loss: 1.2114 - val_auc: 0.7405\n",
            "Epoch 34/50\n",
            "961/961 [==============================] - 13s 14ms/step - loss: 0.2053 - auc: 0.9973 - val_loss: 1.3033 - val_auc: 0.7394\n",
            "Epoch 35/50\n",
            "961/961 [==============================] - 13s 14ms/step - loss: 0.2018 - auc: 0.9973 - val_loss: 1.2139 - val_auc: 0.7667\n",
            "Epoch 36/50\n",
            "961/961 [==============================] - 13s 14ms/step - loss: 0.1943 - auc: 0.9976 - val_loss: 1.2166 - val_auc: 0.7621\n",
            "Epoch 37/50\n",
            "961/961 [==============================] - 13s 14ms/step - loss: 0.1963 - auc: 0.9972 - val_loss: 1.2271 - val_auc: 0.7608\n",
            "Epoch 38/50\n",
            "961/961 [==============================] - 13s 14ms/step - loss: 0.1892 - auc: 0.9975 - val_loss: 1.2063 - val_auc: 0.7608\n",
            "Epoch 39/50\n",
            "961/961 [==============================] - 13s 14ms/step - loss: 0.1848 - auc: 0.9976 - val_loss: 1.1110 - val_auc: 0.7687\n",
            "Epoch 40/50\n",
            "961/961 [==============================] - 13s 14ms/step - loss: 0.1782 - auc: 0.9980 - val_loss: 1.2270 - val_auc: 0.7610\n",
            "Epoch 41/50\n",
            "961/961 [==============================] - 13s 14ms/step - loss: 0.1773 - auc: 0.9977 - val_loss: 1.2308 - val_auc: 0.7630\n",
            "Epoch 42/50\n",
            "961/961 [==============================] - 13s 14ms/step - loss: 0.1735 - auc: 0.9978 - val_loss: 1.2748 - val_auc: 0.7625\n",
            "Epoch 43/50\n",
            "961/961 [==============================] - 13s 14ms/step - loss: 0.1698 - auc: 0.9977 - val_loss: 1.2347 - val_auc: 0.7569\n",
            "Epoch 44/50\n",
            "961/961 [==============================] - 13s 14ms/step - loss: 0.1675 - auc: 0.9979 - val_loss: 1.2860 - val_auc: 0.7558\n",
            "Epoch 45/50\n",
            "961/961 [==============================] - 13s 14ms/step - loss: 0.1669 - auc: 0.9978 - val_loss: 1.2246 - val_auc: 0.7399\n",
            "Epoch 46/50\n",
            "961/961 [==============================] - 13s 14ms/step - loss: 0.1630 - auc: 0.9979 - val_loss: 1.2704 - val_auc: 0.7480\n",
            "Epoch 47/50\n",
            "961/961 [==============================] - 13s 14ms/step - loss: 0.1538 - auc: 0.9984 - val_loss: 1.2850 - val_auc: 0.7403\n",
            "Epoch 48/50\n",
            "961/961 [==============================] - 13s 14ms/step - loss: 0.1546 - auc: 0.9982 - val_loss: 1.2328 - val_auc: 0.7577\n",
            "Epoch 49/50\n",
            "961/961 [==============================] - 13s 14ms/step - loss: 0.1523 - auc: 0.9981 - val_loss: 1.3121 - val_auc: 0.7630\n",
            "Epoch 50/50\n",
            "961/961 [==============================] - 13s 14ms/step - loss: 0.1494 - auc: 0.9982 - val_loss: 1.2669 - val_auc: 0.7660\n"
          ]
        }
      ]
    },
    {
      "cell_type": "code",
      "metadata": {
        "execution": {
          "iopub.status.busy": "2021-09-09T08:54:56.564208Z",
          "iopub.execute_input": "2021-09-09T08:54:56.564589Z",
          "iopub.status.idle": "2021-09-09T08:54:56.821291Z",
          "shell.execute_reply.started": "2021-09-09T08:54:56.564557Z",
          "shell.execute_reply": "2021-09-09T08:54:56.820104Z"
        },
        "trusted": true,
        "id": "hOyjRAXkSg6P",
        "colab": {
          "base_uri": "https://localhost:8080/",
          "height": 513
        },
        "outputId": "46489842-6c6b-4fad-c2d7-63521bf671e7"
      },
      "source": [
        "plt.figure(figsize = (13,8))\n",
        "plt.plot(history.history[\"auc\"], label = \"Train Accuracy\")\n",
        "plt.plot(history.history[\"val_auc\"],label = \"Validation Accuracy\")\n",
        "plt.title(\"Accuracies\")\n",
        "plt.xlabel(\"Epochs\")\n",
        "plt.ylabel(\"Accuracy\")\n",
        "plt.legend()\n",
        "plt.show()"
      ],
      "execution_count": 43,
      "outputs": [
        {
          "output_type": "display_data",
          "data": {
            "image/png": "[encoded data removed]",
            "text/plain": [
              "<Figure size 936x576 with 1 Axes>"
            ]
          },
          "metadata": {
            "needs_background": "light"
          }
        }
      ]
    },
    {
      "cell_type": "code",
      "metadata": {
        "execution": {
          "iopub.status.busy": "2021-09-09T08:55:16.009645Z",
          "iopub.execute_input": "2021-09-09T08:55:16.010058Z",
          "iopub.status.idle": "2021-09-09T08:55:16.225880Z",
          "shell.execute_reply.started": "2021-09-09T08:55:16.010024Z",
          "shell.execute_reply": "2021-09-09T08:55:16.224747Z"
        },
        "trusted": true,
        "id": "nsGxtkITSg6Q",
        "colab": {
          "base_uri": "https://localhost:8080/",
          "height": 513
        },
        "outputId": "4bcb30b1-c78a-44f1-fd99-4c6aa056348f"
      },
      "source": [
        "plt.figure(figsize = (13,8))\n",
        "plt.plot(history.history[\"loss\"], label = \"Train Loss\")\n",
        "plt.plot(history.history[\"val_loss\"],label = \"Validation Loss\")\n",
        "plt.title(\"Losses\")\n",
        "plt.xlabel(\"Epochs\")\n",
        "plt.ylabel(\"Loss\")\n",
        "plt.legend()\n",
        "plt.show()"
      ],
      "execution_count": 44,
      "outputs": [
        {
          "output_type": "display_data",
          "data": {
            "image/png": "[encoded data removed]",
            "text/plain": [
              "<Figure size 936x576 with 1 Axes>"
            ]
          },
          "metadata": {
            "needs_background": "light"
          }
        }
      ]
    },
    {
      "cell_type": "code",
      "metadata": {
        "execution": {
          "iopub.status.busy": "2021-09-09T08:56:04.161131Z",
          "iopub.execute_input": "2021-09-09T08:56:04.161517Z",
          "iopub.status.idle": "2021-09-09T08:56:08.319897Z",
          "shell.execute_reply.started": "2021-09-09T08:56:04.161484Z",
          "shell.execute_reply": "2021-09-09T08:56:08.318478Z"
        },
        "trusted": true,
        "id": "XB2Kuu5gSg6Q"
      },
      "source": [
        "y_pred = model.predict(X_valid) #pedict on X_valid\n",
        "pred = np.argmax(y_pred, axis = 1) #index of largest value by column 열 기준 가장 큰 값의 인덱스\n",
        "\n",
        "result = pd.DataFrame(train_idt_valid) #BraTS21ID\n",
        "result[1] = pred #MGMT_value\n",
        "result.columns=[\"BraTS21ID\",\"MGMT_value\"]\n",
        "#Group by BraTS21ID and average + do not use index\n",
        "result_final = result.groupby(\"BraTS21ID\", as_index = False).mean()\n",
        "result_final = result_final.merge(train_df, on = \"BraTS21ID\") #merge train_df\n",
        "from sklearn.metrics import roc_auc_score\n",
        "roc_auc_score(result_final.MGMT_value_y, result_final.MGMT_value_x,)"
      ],
      "execution_count": null,
      "outputs": []
    },
    {
      "cell_type": "code",
      "metadata": {
        "id": "lZtsVyRRSg6S"
      },
      "source": [
        "\n",
        "#pickling\n",
        "with open(data_dir+'X_T1wCE.pkl', 'rb') as f:\n",
        "  X_T1wCE = pickle.load(f)\n",
        "\n",
        "with open(data_dir+'y_T1wCE.pkl', 'rb') as f:\n",
        "  y_T1wCE = pickle.load(f)\n",
        "\n",
        "with open(data_dir+'train_idt_T1wCE.pkl', 'rb') as f:\n",
        "  train_idt_T1wCE = pickle.load(f)\n",
        "\n",
        "with open(data_dir+'X_test_T1wCE.pkl', 'rb') as f:\n",
        "  X_test_T1wCE = pickle.load(f)\n",
        "\n",
        "with open(data_dir+'test_idt_T1wCE.pkl', 'rb') as f:\n",
        "  test_idt_T1wCE = pickle.load(f)\n",
        "#pickling\n",
        "with open(data_dir+'X_FLAIR.pkl', 'rb') as f:\n",
        "  X_FLAIR = pickle.load(f)\n",
        "\n",
        "with open(data_dir+'y_FLAIR.pkl', 'rb') as f:\n",
        "  y_FLAIR = pickle.load(f)\n",
        "\n",
        "with open(data_dir+'train_idt_FLAIR.pkl', 'rb') as f:\n",
        "  train_idt_FLAIR = pickle.load(f)\n",
        "\n",
        "with open(data_dir+'X_test_FLAIR.pkl', 'rb') as f:\n",
        "  X_test_FLAIR = pickle.load(f)\n",
        "\n",
        "with open(data_dir+'test_idt_FLAIR.pkl', 'rb') as f:\n",
        "  test_idt_FLAIR = pickle.load(f)\n",
        "#pickling\n",
        "with open(data_dir+'X_T2w.pkl', 'rb') as f:\n",
        "  X_T2w = pickle.load(f)\n",
        "\n",
        "with open(data_dir+'y_T2w.pkl', 'rb') as f:\n",
        "  y_T2w = pickle.load(f)\n",
        "\n",
        "with open(data_dir+'train_idt_T2w.pkl', 'rb') as f:\n",
        "  train_idt_T2w = pickle.load(f)\n",
        "\n",
        "with open(data_dir+'X_test_T2w.pkl', 'rb') as f:\n",
        "  X_test_T2w = pickle.load(f)\n",
        "\n",
        "with open(data_dir+'test_idt_T2w.pkl', 'rb') as f:\n",
        "  test_idt_T2w = pickle.load(f)\n",
        "#pickling\n",
        "with open(data_dir+'X_T1w.pkl', 'rb') as f:\n",
        "  X_T1w = pickle.load(f)\n",
        "\n",
        "with open(data_dir+'y_T1w.pkl', 'rb') as f:\n",
        "  y_T1w = pickle.load(f)\n",
        "\n",
        "with open(data_dir+'train_idt_T1w.pkl', 'rb') as f:\n",
        "  train_idt_T1w = pickle.load(f)\n",
        "\n",
        "with open(data_dir+'X_test_T1w.pkl', 'rb') as f:\n",
        "  X_test_T1w = pickle.load(f)\n",
        "\n",
        "with open(data_dir+'test_idt_T1w.pkl', 'rb') as f:\n",
        "  test_idt_T1w = pickle.load(f)"
      ],
      "execution_count": null,
      "outputs": []
    },
    {
      "cell_type": "code",
      "metadata": {
        "id": "aQHRs7H_XRw3"
      },
      "source": [
        "X2 = np.concatenate([X_FLAIR, X_T2w, X_T1w, X_T1wCE], axis=0)\n",
        "y2 = np.concatenate([y_FLAIR, y_T2w, y_T1w, y_T1wCE], axis=0)\n",
        "train_idt2 = np.concatenate([train_idt_FLAIR, train_idt_T2w, train_idt_T1w, train_idt_T1wCE], axis=0)"
      ],
      "execution_count": null,
      "outputs": []
    },
    {
      "cell_type": "code",
      "metadata": {
        "id": "shy5SMyYXcDy"
      },
      "source": [
        "X_train2, X_valid2, y_train2, y_valid2, train_idt_train2, train_idt_valid2 = train_test_split(X2, y2, train_idt2, test_size=0.2)"
      ],
      "execution_count": null,
      "outputs": []
    },
    {
      "cell_type": "code",
      "metadata": {
        "id": "XP9ijHLxXeiJ"
      },
      "source": [
        "X_train2 = tf.expand_dims(X_train2, axis=-1) #expand the dimension at the end of the array\n",
        "X_valid2 = tf.expand_dims(X_valid2, axis=-1)\n",
        "\n",
        "y_train2 = to_categorical(y_train2) #one-hot incoding\n",
        "y_valid2 = to_categorical(y_valid2)"
      ],
      "execution_count": null,
      "outputs": []
    },
    {
      "cell_type": "code",
      "metadata": {
        "colab": {
          "base_uri": "https://localhost:8080/"
        },
        "id": "hlsdcv4hXghk",
        "outputId": "e97fe8f5-6d76-4b0d-fee0-74a6810beda7"
      },
      "source": [
        "history = model.fit(\n",
        "    x=X_train,\n",
        "    y=y_train,\n",
        "    epochs=N_EPOCHS,\n",
        "    steps_per_epoch=steps_per_epoch,\n",
        "    validation_data=(X_valid2, y_valid2),\n",
        ")"
      ],
      "execution_count": null,
      "outputs": [
        {
          "output_type": "stream",
          "name": "stdout",
          "text": [
            "Epoch 1/60\n",
            "301/301 [==============================] - 7s 25ms/step - loss: 0.0669 - auc: 0.9999 - val_loss: 1.4234 - val_auc: 0.6921\n",
            "Epoch 2/60\n",
            "301/301 [==============================] - 7s 22ms/step - loss: 0.0726 - auc: 0.9998 - val_loss: 1.4681 - val_auc: 0.7043\n",
            "Epoch 3/60\n",
            "301/301 [==============================] - 7s 22ms/step - loss: 0.0707 - auc: 0.9998 - val_loss: 1.3609 - val_auc: 0.6965\n",
            "Epoch 4/60\n",
            "301/301 [==============================] - 7s 22ms/step - loss: 0.0721 - auc: 0.9999 - val_loss: 1.4840 - val_auc: 0.6927\n",
            "Epoch 5/60\n",
            "301/301 [==============================] - 7s 22ms/step - loss: 0.0673 - auc: 0.9999 - val_loss: 1.4969 - val_auc: 0.6907\n",
            "Epoch 6/60\n",
            "301/301 [==============================] - 7s 22ms/step - loss: 0.0644 - auc: 0.9999 - val_loss: 1.4808 - val_auc: 0.6985\n",
            "Epoch 7/60\n",
            "301/301 [==============================] - 7s 22ms/step - loss: 0.0597 - auc: 1.0000 - val_loss: 1.4993 - val_auc: 0.6974\n",
            "Epoch 8/60\n",
            "301/301 [==============================] - 7s 22ms/step - loss: 0.0584 - auc: 0.9999 - val_loss: 1.4352 - val_auc: 0.6885\n",
            "Epoch 9/60\n",
            "301/301 [==============================] - 7s 22ms/step - loss: 0.0553 - auc: 1.0000 - val_loss: 1.4414 - val_auc: 0.6997\n",
            "Epoch 10/60\n",
            "301/301 [==============================] - 7s 22ms/step - loss: 0.0544 - auc: 1.0000 - val_loss: 1.5601 - val_auc: 0.6963\n",
            "Epoch 11/60\n",
            "301/301 [==============================] - 7s 22ms/step - loss: 0.0600 - auc: 0.9999 - val_loss: 1.5288 - val_auc: 0.7012\n",
            "Epoch 12/60\n",
            "301/301 [==============================] - 7s 22ms/step - loss: 0.0574 - auc: 0.9999 - val_loss: 1.3326 - val_auc: 0.6904\n",
            "Epoch 13/60\n",
            "301/301 [==============================] - 7s 22ms/step - loss: 0.0600 - auc: 0.9999 - val_loss: 1.6341 - val_auc: 0.6862\n",
            "Epoch 14/60\n",
            "301/301 [==============================] - 7s 22ms/step - loss: 0.0550 - auc: 1.0000 - val_loss: 1.4167 - val_auc: 0.6928\n",
            "Epoch 15/60\n",
            "301/301 [==============================] - 7s 22ms/step - loss: 0.0492 - auc: 1.0000 - val_loss: 1.5557 - val_auc: 0.7006\n",
            "Epoch 16/60\n",
            "301/301 [==============================] - 7s 22ms/step - loss: 0.0484 - auc: 1.0000 - val_loss: 1.4562 - val_auc: 0.6878\n",
            "Epoch 17/60\n",
            "301/301 [==============================] - 7s 22ms/step - loss: 0.0418 - auc: 1.0000 - val_loss: 1.3677 - val_auc: 0.6960\n",
            "Epoch 18/60\n",
            "301/301 [==============================] - 7s 22ms/step - loss: 0.0385 - auc: 1.0000 - val_loss: 1.3816 - val_auc: 0.6979\n",
            "Epoch 19/60\n",
            "301/301 [==============================] - 7s 22ms/step - loss: 0.0348 - auc: 1.0000 - val_loss: 1.3949 - val_auc: 0.7047\n",
            "Epoch 20/60\n",
            "301/301 [==============================] - 7s 22ms/step - loss: 0.0314 - auc: 1.0000 - val_loss: 1.3436 - val_auc: 0.7034\n",
            "Epoch 21/60\n",
            "301/301 [==============================] - 7s 22ms/step - loss: 0.0342 - auc: 1.0000 - val_loss: 1.2760 - val_auc: 0.7005\n",
            "Epoch 22/60\n",
            "301/301 [==============================] - 7s 22ms/step - loss: 0.0348 - auc: 1.0000 - val_loss: 1.3287 - val_auc: 0.7024\n",
            "Epoch 23/60\n",
            "301/301 [==============================] - 7s 22ms/step - loss: 0.0346 - auc: 1.0000 - val_loss: 1.3098 - val_auc: 0.6926\n",
            "Epoch 24/60\n",
            "301/301 [==============================] - 7s 22ms/step - loss: 0.0461 - auc: 0.9999 - val_loss: 1.5189 - val_auc: 0.6994\n",
            "Epoch 25/60\n",
            "301/301 [==============================] - 7s 22ms/step - loss: 0.0710 - auc: 0.9992 - val_loss: 1.5820 - val_auc: 0.6890\n",
            "Epoch 26/60\n",
            "301/301 [==============================] - 7s 22ms/step - loss: 0.0653 - auc: 0.9996 - val_loss: 1.4879 - val_auc: 0.6986\n",
            "Epoch 27/60\n",
            "301/301 [==============================] - 7s 22ms/step - loss: 0.0517 - auc: 0.9999 - val_loss: 1.4717 - val_auc: 0.7039\n",
            "Epoch 28/60\n",
            "301/301 [==============================] - 7s 22ms/step - loss: 0.0447 - auc: 1.0000 - val_loss: 1.5592 - val_auc: 0.7099\n",
            "Epoch 29/60\n",
            "301/301 [==============================] - 7s 22ms/step - loss: 0.0382 - auc: 1.0000 - val_loss: 1.4798 - val_auc: 0.7054\n",
            "Epoch 30/60\n",
            "301/301 [==============================] - 7s 22ms/step - loss: 0.0337 - auc: 1.0000 - val_loss: 1.3693 - val_auc: 0.7079\n",
            "Epoch 31/60\n",
            "301/301 [==============================] - 7s 22ms/step - loss: 0.0302 - auc: 1.0000 - val_loss: 1.2933 - val_auc: 0.7099\n",
            "Epoch 32/60\n",
            "301/301 [==============================] - 7s 22ms/step - loss: 0.0271 - auc: 1.0000 - val_loss: 1.2863 - val_auc: 0.7107\n",
            "Epoch 33/60\n",
            "301/301 [==============================] - 7s 22ms/step - loss: 0.0246 - auc: 1.0000 - val_loss: 1.2121 - val_auc: 0.7151\n",
            "Epoch 34/60\n",
            "301/301 [==============================] - 7s 22ms/step - loss: 0.0231 - auc: 1.0000 - val_loss: 1.1051 - val_auc: 0.7103\n",
            "Epoch 35/60\n",
            "301/301 [==============================] - 7s 22ms/step - loss: 0.0231 - auc: 1.0000 - val_loss: 1.1277 - val_auc: 0.7161\n",
            "Epoch 36/60\n",
            "301/301 [==============================] - 7s 22ms/step - loss: 0.0211 - auc: 1.0000 - val_loss: 1.1829 - val_auc: 0.7177\n",
            "Epoch 37/60\n",
            "301/301 [==============================] - 7s 22ms/step - loss: 0.0204 - auc: 1.0000 - val_loss: 1.1570 - val_auc: 0.7191\n",
            "Epoch 38/60\n",
            "301/301 [==============================] - 7s 22ms/step - loss: 0.0196 - auc: 1.0000 - val_loss: 1.1965 - val_auc: 0.7187\n",
            "Epoch 39/60\n",
            "301/301 [==============================] - 7s 24ms/step - loss: 0.0194 - auc: 1.0000 - val_loss: 1.1104 - val_auc: 0.7156\n",
            "Epoch 40/60\n",
            "301/301 [==============================] - 7s 22ms/step - loss: 0.0190 - auc: 1.0000 - val_loss: 1.1651 - val_auc: 0.7157\n",
            "Epoch 41/60\n",
            "301/301 [==============================] - 7s 22ms/step - loss: 0.0192 - auc: 1.0000 - val_loss: 1.1687 - val_auc: 0.7174\n",
            "Epoch 42/60\n",
            "301/301 [==============================] - 7s 22ms/step - loss: 0.0191 - auc: 1.0000 - val_loss: 1.2063 - val_auc: 0.7117\n",
            "Epoch 43/60\n",
            "301/301 [==============================] - 7s 22ms/step - loss: 0.0995 - auc: 0.9970 - val_loss: 1.5110 - val_auc: 0.6745\n",
            "Epoch 44/60\n",
            "301/301 [==============================] - 7s 22ms/step - loss: 0.0767 - auc: 0.9994 - val_loss: 1.5157 - val_auc: 0.6981\n",
            "Epoch 45/60\n",
            "301/301 [==============================] - 7s 22ms/step - loss: 0.0510 - auc: 0.9999 - val_loss: 1.5307 - val_auc: 0.7012\n",
            "Epoch 46/60\n",
            "301/301 [==============================] - 7s 22ms/step - loss: 0.0440 - auc: 1.0000 - val_loss: 1.4821 - val_auc: 0.7056\n",
            "Epoch 47/60\n",
            "301/301 [==============================] - 7s 22ms/step - loss: 0.0368 - auc: 1.0000 - val_loss: 1.5258 - val_auc: 0.7066\n",
            "Epoch 48/60\n",
            "301/301 [==============================] - 7s 22ms/step - loss: 0.0338 - auc: 1.0000 - val_loss: 1.4205 - val_auc: 0.7066\n",
            "Epoch 49/60\n",
            "301/301 [==============================] - 7s 22ms/step - loss: 0.0304 - auc: 1.0000 - val_loss: 1.3279 - val_auc: 0.7099\n",
            "Epoch 50/60\n",
            "301/301 [==============================] - 7s 22ms/step - loss: 0.0270 - auc: 1.0000 - val_loss: 1.3341 - val_auc: 0.7118\n",
            "Epoch 51/60\n",
            "301/301 [==============================] - 7s 22ms/step - loss: 0.0245 - auc: 1.0000 - val_loss: 1.2960 - val_auc: 0.7122\n",
            "Epoch 52/60\n",
            "301/301 [==============================] - 7s 22ms/step - loss: 0.0228 - auc: 1.0000 - val_loss: 1.2252 - val_auc: 0.7150\n",
            "Epoch 53/60\n",
            "301/301 [==============================] - 7s 22ms/step - loss: 0.0210 - auc: 1.0000 - val_loss: 1.1457 - val_auc: 0.7117\n",
            "Epoch 54/60\n",
            "301/301 [==============================] - 7s 22ms/step - loss: 0.0203 - auc: 1.0000 - val_loss: 1.1632 - val_auc: 0.7165\n",
            "Epoch 55/60\n",
            "301/301 [==============================] - 7s 22ms/step - loss: 0.0187 - auc: 1.0000 - val_loss: 1.1270 - val_auc: 0.7116\n",
            "Epoch 56/60\n",
            "301/301 [==============================] - 7s 22ms/step - loss: 0.0183 - auc: 1.0000 - val_loss: 1.1320 - val_auc: 0.7182\n",
            "Epoch 57/60\n",
            "301/301 [==============================] - 7s 22ms/step - loss: 0.0176 - auc: 1.0000 - val_loss: 1.1460 - val_auc: 0.7189\n",
            "Epoch 58/60\n",
            "301/301 [==============================] - 7s 25ms/step - loss: 0.0171 - auc: 1.0000 - val_loss: 1.0824 - val_auc: 0.7183\n",
            "Epoch 59/60\n",
            "301/301 [==============================] - 7s 22ms/step - loss: 0.0169 - auc: 1.0000 - val_loss: 1.1036 - val_auc: 0.7184\n",
            "Epoch 60/60\n",
            "301/301 [==============================] - 7s 22ms/step - loss: 0.0167 - auc: 1.0000 - val_loss: 1.1178 - val_auc: 0.7178\n"
          ]
        }
      ]
    },
    {
      "cell_type": "code",
      "metadata": {
        "colab": {
          "base_uri": "https://localhost:8080/",
          "height": 513
        },
        "id": "m3yOGMpVXjht",
        "outputId": "6dd65992-5089-4b78-b629-5185958eb704"
      },
      "source": [
        "plt.figure(figsize = (13,8))\n",
        "plt.plot(history.history[\"auc\"], label = \"Train Accuracy\")\n",
        "plt.plot(history.history[\"val_auc\"],label = \"Validation Accuracy\")\n",
        "plt.title(\"Accuracies\")\n",
        "plt.xlabel(\"Epochs\")\n",
        "plt.ylabel(\"Accuracy\")\n",
        "plt.legend()\n",
        "plt.show()"
      ],
      "execution_count": null,
      "outputs": [
        {
          "output_type": "display_data",
          "data": {
            "image/png": "[encoded data removed]",
            "text/plain": [
              "<Figure size 936x576 with 1 Axes>"
            ]
          },
          "metadata": {
            "needs_background": "light"
          }
        }
      ]
    },
    {
      "cell_type": "code",
      "metadata": {
        "colab": {
          "base_uri": "https://localhost:8080/",
          "height": 513
        },
        "id": "K4WVCFL2ZFzh",
        "outputId": "eb44de57-5d01-416d-a425-7d99dcc428d0"
      },
      "source": [
        "plt.figure(figsize = (13,8))\n",
        "plt.plot(history.history[\"loss\"], label = \"Train Loss\")\n",
        "plt.plot(history.history[\"val_loss\"],label = \"Validation Loss\")\n",
        "plt.title(\"Losses\")\n",
        "plt.xlabel(\"Epochs\")\n",
        "plt.ylabel(\"Loss\")\n",
        "plt.legend()\n",
        "plt.show()"
      ],
      "execution_count": null,
      "outputs": [
        {
          "output_type": "display_data",
          "data": {
            "image/png": "[encoded data removed]",
            "text/plain": [
              "<Figure size 936x576 with 1 Axes>"
            ]
          },
          "metadata": {
            "needs_background": "light"
          }
        }
      ]
    },
    {
      "cell_type": "code",
      "metadata": {
        "colab": {
          "base_uri": "https://localhost:8080/"
        },
        "id": "YFKGJBBoZRXm",
        "outputId": "db00e8ba-66be-4bee-8de7-d97d0159ed7c"
      },
      "source": [
        "y_pred = model.predict(X_valid) #pedict on X_valid\n",
        "pred = np.argmax(y_pred, axis = 1) #index of largest value by column 열 기준 가장 큰 값의 인덱스\n",
        "\n",
        "result = pd.DataFrame(train_idt_valid) #BraTS21ID\n",
        "result[1] = pred #MGMT_value\n",
        "result.columns=[\"BraTS21ID\",\"MGMT_value\"]\n",
        "#Group by BraTS21ID and average + do not use index\n",
        "result_final = result.groupby(\"BraTS21ID\", as_index = False).mean()\n",
        "result_final = result_final.merge(train_df, on = \"BraTS21ID\") #merge train_df\n",
        "from sklearn.metrics import roc_auc_score\n",
        "roc_auc_score(result_final.MGMT_value_y, result_final.MGMT_value_x,)"
      ],
      "execution_count": null,
      "outputs": [
        {
          "output_type": "execute_result",
          "data": {
            "text/plain": [
              "0.8631860839890036"
            ]
          },
          "metadata": {},
          "execution_count": 43
        }
      ]
    },
    {
      "cell_type": "code",
      "metadata": {
        "id": "Q29cSDmCZW5Z"
      },
      "source": [
        ""
      ],
      "execution_count": null,
      "outputs": []
    }
  ]
}