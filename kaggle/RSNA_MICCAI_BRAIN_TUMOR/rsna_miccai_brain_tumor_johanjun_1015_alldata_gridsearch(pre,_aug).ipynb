{
  "nbformat": 4,
  "nbformat_minor": 0,
  "metadata": {
    "kernelspec": {
      "language": "python",
      "display_name": "Python 3",
      "name": "python3"
    },
    "language_info": {
      "name": "python",
      "version": "3.7.10",
      "mimetype": "text/x-python",
      "codemirror_mode": {
        "name": "ipython",
        "version": 3
      },
      "pygments_lexer": "ipython3",
      "nbconvert_exporter": "python",
      "file_extension": ".py"
    },
    "colab": {
      "name": "rsna-miccai-brain-tumor-johanjun_1015_alldata_gridsearch(pre, aug).ipynb",
      "provenance": [],
      "collapsed_sections": [],
      "machine_shape": "hm",
      "include_colab_link": true
    },
    "accelerator": "GPU",
    "widgets": {
      "application/vnd.jupyter.widget-state+json": {
        "5b9b2dbd0dfe4a3aa21da75c11a2e0a5": {
          "model_module": "@jupyter-widgets/controls",
          "model_name": "VBoxModel",
          "model_module_version": "1.5.0",
          "state": {
            "_view_name": "VBoxView",
            "_dom_classes": [],
            "_model_name": "VBoxModel",
            "_view_module": "@jupyter-widgets/controls",
            "_model_module_version": "1.5.0",
            "_view_count": null,
            "_view_module_version": "1.5.0",
            "box_style": "",
            "layout": "IPY_MODEL_575f44da42c9472cb70b43905e3aceb5",
            "_model_module": "@jupyter-widgets/controls",
            "children": [
              "IPY_MODEL_69c34207298d4dac822ee1df4b0ccc05",
              "IPY_MODEL_e727086e49174708a87af47b13d41fce"
            ]
          }
        },
        "575f44da42c9472cb70b43905e3aceb5": {
          "model_module": "@jupyter-widgets/base",
          "model_name": "LayoutModel",
          "model_module_version": "1.2.0",
          "state": {
            "_view_name": "LayoutView",
            "grid_template_rows": null,
            "right": null,
            "justify_content": null,
            "_view_module": "@jupyter-widgets/base",
            "overflow": null,
            "_model_module_version": "1.2.0",
            "_view_count": null,
            "flex_flow": null,
            "width": null,
            "min_width": null,
            "border": null,
            "align_items": null,
            "bottom": null,
            "_model_module": "@jupyter-widgets/base",
            "top": null,
            "grid_column": null,
            "overflow_y": null,
            "overflow_x": null,
            "grid_auto_flow": null,
            "grid_area": null,
            "grid_template_columns": null,
            "flex": null,
            "_model_name": "LayoutModel",
            "justify_items": null,
            "grid_row": null,
            "max_height": null,
            "align_content": null,
            "visibility": null,
            "align_self": null,
            "height": null,
            "min_height": null,
            "padding": null,
            "grid_auto_rows": null,
            "grid_gap": null,
            "max_width": null,
            "order": null,
            "_view_module_version": "1.2.0",
            "grid_template_areas": null,
            "object_position": null,
            "object_fit": null,
            "grid_auto_columns": null,
            "margin": null,
            "display": null,
            "left": null
          }
        },
        "69c34207298d4dac822ee1df4b0ccc05": {
          "model_module": "@jupyter-widgets/controls",
          "model_name": "LabelModel",
          "model_module_version": "1.5.0",
          "state": {
            "_view_name": "LabelView",
            "style": "IPY_MODEL_065b8f6f267a4644842badb9cfe67b91",
            "_dom_classes": [],
            "description": "",
            "_model_name": "LabelModel",
            "placeholder": "​",
            "_view_module": "@jupyter-widgets/controls",
            "_model_module_version": "1.5.0",
            "value": " 0.01MB of 0.01MB uploaded (0.00MB deduped)\r",
            "_view_count": null,
            "_view_module_version": "1.5.0",
            "description_tooltip": null,
            "_model_module": "@jupyter-widgets/controls",
            "layout": "IPY_MODEL_9e381f54c13848f5bf91d5b74a7a23b7"
          }
        },
        "e727086e49174708a87af47b13d41fce": {
          "model_module": "@jupyter-widgets/controls",
          "model_name": "FloatProgressModel",
          "model_module_version": "1.5.0",
          "state": {
            "_view_name": "ProgressView",
            "style": "IPY_MODEL_e3df17171d0348d4ba6096a0aa0f5486",
            "_dom_classes": [],
            "description": "",
            "_model_name": "FloatProgressModel",
            "bar_style": "",
            "max": 1,
            "_view_module": "@jupyter-widgets/controls",
            "_model_module_version": "1.5.0",
            "value": 1,
            "_view_count": null,
            "_view_module_version": "1.5.0",
            "orientation": "horizontal",
            "min": 0,
            "description_tooltip": null,
            "_model_module": "@jupyter-widgets/controls",
            "layout": "IPY_MODEL_39535b2b1bd14d29afa3082a720151cf"
          }
        },
        "065b8f6f267a4644842badb9cfe67b91": {
          "model_module": "@jupyter-widgets/controls",
          "model_name": "DescriptionStyleModel",
          "model_module_version": "1.5.0",
          "state": {
            "_view_name": "StyleView",
            "_model_name": "DescriptionStyleModel",
            "description_width": "",
            "_view_module": "@jupyter-widgets/base",
            "_model_module_version": "1.5.0",
            "_view_count": null,
            "_view_module_version": "1.2.0",
            "_model_module": "@jupyter-widgets/controls"
          }
        },
        "9e381f54c13848f5bf91d5b74a7a23b7": {
          "model_module": "@jupyter-widgets/base",
          "model_name": "LayoutModel",
          "model_module_version": "1.2.0",
          "state": {
            "_view_name": "LayoutView",
            "grid_template_rows": null,
            "right": null,
            "justify_content": null,
            "_view_module": "@jupyter-widgets/base",
            "overflow": null,
            "_model_module_version": "1.2.0",
            "_view_count": null,
            "flex_flow": null,
            "width": null,
            "min_width": null,
            "border": null,
            "align_items": null,
            "bottom": null,
            "_model_module": "@jupyter-widgets/base",
            "top": null,
            "grid_column": null,
            "overflow_y": null,
            "overflow_x": null,
            "grid_auto_flow": null,
            "grid_area": null,
            "grid_template_columns": null,
            "flex": null,
            "_model_name": "LayoutModel",
            "justify_items": null,
            "grid_row": null,
            "max_height": null,
            "align_content": null,
            "visibility": null,
            "align_self": null,
            "height": null,
            "min_height": null,
            "padding": null,
            "grid_auto_rows": null,
            "grid_gap": null,
            "max_width": null,
            "order": null,
            "_view_module_version": "1.2.0",
            "grid_template_areas": null,
            "object_position": null,
            "object_fit": null,
            "grid_auto_columns": null,
            "margin": null,
            "display": null,
            "left": null
          }
        },
        "e3df17171d0348d4ba6096a0aa0f5486": {
          "model_module": "@jupyter-widgets/controls",
          "model_name": "ProgressStyleModel",
          "model_module_version": "1.5.0",
          "state": {
            "_view_name": "StyleView",
            "_model_name": "ProgressStyleModel",
            "description_width": "",
            "_view_module": "@jupyter-widgets/base",
            "_model_module_version": "1.5.0",
            "_view_count": null,
            "_view_module_version": "1.2.0",
            "bar_color": null,
            "_model_module": "@jupyter-widgets/controls"
          }
        },
        "39535b2b1bd14d29afa3082a720151cf": {
          "model_module": "@jupyter-widgets/base",
          "model_name": "LayoutModel",
          "model_module_version": "1.2.0",
          "state": {
            "_view_name": "LayoutView",
            "grid_template_rows": null,
            "right": null,
            "justify_content": null,
            "_view_module": "@jupyter-widgets/base",
            "overflow": null,
            "_model_module_version": "1.2.0",
            "_view_count": null,
            "flex_flow": null,
            "width": null,
            "min_width": null,
            "border": null,
            "align_items": null,
            "bottom": null,
            "_model_module": "@jupyter-widgets/base",
            "top": null,
            "grid_column": null,
            "overflow_y": null,
            "overflow_x": null,
            "grid_auto_flow": null,
            "grid_area": null,
            "grid_template_columns": null,
            "flex": null,
            "_model_name": "LayoutModel",
            "justify_items": null,
            "grid_row": null,
            "max_height": null,
            "align_content": null,
            "visibility": null,
            "align_self": null,
            "height": null,
            "min_height": null,
            "padding": null,
            "grid_auto_rows": null,
            "grid_gap": null,
            "max_width": null,
            "order": null,
            "_view_module_version": "1.2.0",
            "grid_template_areas": null,
            "object_position": null,
            "object_fit": null,
            "grid_auto_columns": null,
            "margin": null,
            "display": null,
            "left": null
          }
        },
        "3c5843eeef154845b128f1a44d4b6518": {
          "model_module": "@jupyter-widgets/controls",
          "model_name": "VBoxModel",
          "model_module_version": "1.5.0",
          "state": {
            "_view_name": "VBoxView",
            "_dom_classes": [],
            "_model_name": "VBoxModel",
            "_view_module": "@jupyter-widgets/controls",
            "_model_module_version": "1.5.0",
            "_view_count": null,
            "_view_module_version": "1.5.0",
            "box_style": "",
            "layout": "IPY_MODEL_9b3914ca470149ecb12d2732f29ec515",
            "_model_module": "@jupyter-widgets/controls",
            "children": [
              "IPY_MODEL_5f9e29b86c8841b082fff66765eaa330",
              "IPY_MODEL_1fa08c66fc2a431b9648829abe36c1e9"
            ]
          }
        },
        "9b3914ca470149ecb12d2732f29ec515": {
          "model_module": "@jupyter-widgets/base",
          "model_name": "LayoutModel",
          "model_module_version": "1.2.0",
          "state": {
            "_view_name": "LayoutView",
            "grid_template_rows": null,
            "right": null,
            "justify_content": null,
            "_view_module": "@jupyter-widgets/base",
            "overflow": null,
            "_model_module_version": "1.2.0",
            "_view_count": null,
            "flex_flow": null,
            "width": null,
            "min_width": null,
            "border": null,
            "align_items": null,
            "bottom": null,
            "_model_module": "@jupyter-widgets/base",
            "top": null,
            "grid_column": null,
            "overflow_y": null,
            "overflow_x": null,
            "grid_auto_flow": null,
            "grid_area": null,
            "grid_template_columns": null,
            "flex": null,
            "_model_name": "LayoutModel",
            "justify_items": null,
            "grid_row": null,
            "max_height": null,
            "align_content": null,
            "visibility": null,
            "align_self": null,
            "height": null,
            "min_height": null,
            "padding": null,
            "grid_auto_rows": null,
            "grid_gap": null,
            "max_width": null,
            "order": null,
            "_view_module_version": "1.2.0",
            "grid_template_areas": null,
            "object_position": null,
            "object_fit": null,
            "grid_auto_columns": null,
            "margin": null,
            "display": null,
            "left": null
          }
        },
        "5f9e29b86c8841b082fff66765eaa330": {
          "model_module": "@jupyter-widgets/controls",
          "model_name": "LabelModel",
          "model_module_version": "1.5.0",
          "state": {
            "_view_name": "LabelView",
            "style": "IPY_MODEL_9da54b3fd7ab428da02c3e5999565fb6",
            "_dom_classes": [],
            "description": "",
            "_model_name": "LabelModel",
            "placeholder": "​",
            "_view_module": "@jupyter-widgets/controls",
            "_model_module_version": "1.5.0",
            "value": " 11.34MB of 11.34MB uploaded (0.00MB deduped)\r",
            "_view_count": null,
            "_view_module_version": "1.5.0",
            "description_tooltip": null,
            "_model_module": "@jupyter-widgets/controls",
            "layout": "IPY_MODEL_6cdfca85db1d4073beb62c8955cccd3d"
          }
        },
        "1fa08c66fc2a431b9648829abe36c1e9": {
          "model_module": "@jupyter-widgets/controls",
          "model_name": "FloatProgressModel",
          "model_module_version": "1.5.0",
          "state": {
            "_view_name": "ProgressView",
            "style": "IPY_MODEL_b4bf5106683f4f2fbe4da037ecaacaea",
            "_dom_classes": [],
            "description": "",
            "_model_name": "FloatProgressModel",
            "bar_style": "",
            "max": 1,
            "_view_module": "@jupyter-widgets/controls",
            "_model_module_version": "1.5.0",
            "value": 1,
            "_view_count": null,
            "_view_module_version": "1.5.0",
            "orientation": "horizontal",
            "min": 0,
            "description_tooltip": null,
            "_model_module": "@jupyter-widgets/controls",
            "layout": "IPY_MODEL_201c8b245fe24124921f2a76adaace56"
          }
        },
        "9da54b3fd7ab428da02c3e5999565fb6": {
          "model_module": "@jupyter-widgets/controls",
          "model_name": "DescriptionStyleModel",
          "model_module_version": "1.5.0",
          "state": {
            "_view_name": "StyleView",
            "_model_name": "DescriptionStyleModel",
            "description_width": "",
            "_view_module": "@jupyter-widgets/base",
            "_model_module_version": "1.5.0",
            "_view_count": null,
            "_view_module_version": "1.2.0",
            "_model_module": "@jupyter-widgets/controls"
          }
        },
        "6cdfca85db1d4073beb62c8955cccd3d": {
          "model_module": "@jupyter-widgets/base",
          "model_name": "LayoutModel",
          "model_module_version": "1.2.0",
          "state": {
            "_view_name": "LayoutView",
            "grid_template_rows": null,
            "right": null,
            "justify_content": null,
            "_view_module": "@jupyter-widgets/base",
            "overflow": null,
            "_model_module_version": "1.2.0",
            "_view_count": null,
            "flex_flow": null,
            "width": null,
            "min_width": null,
            "border": null,
            "align_items": null,
            "bottom": null,
            "_model_module": "@jupyter-widgets/base",
            "top": null,
            "grid_column": null,
            "overflow_y": null,
            "overflow_x": null,
            "grid_auto_flow": null,
            "grid_area": null,
            "grid_template_columns": null,
            "flex": null,
            "_model_name": "LayoutModel",
            "justify_items": null,
            "grid_row": null,
            "max_height": null,
            "align_content": null,
            "visibility": null,
            "align_self": null,
            "height": null,
            "min_height": null,
            "padding": null,
            "grid_auto_rows": null,
            "grid_gap": null,
            "max_width": null,
            "order": null,
            "_view_module_version": "1.2.0",
            "grid_template_areas": null,
            "object_position": null,
            "object_fit": null,
            "grid_auto_columns": null,
            "margin": null,
            "display": null,
            "left": null
          }
        },
        "b4bf5106683f4f2fbe4da037ecaacaea": {
          "model_module": "@jupyter-widgets/controls",
          "model_name": "ProgressStyleModel",
          "model_module_version": "1.5.0",
          "state": {
            "_view_name": "StyleView",
            "_model_name": "ProgressStyleModel",
            "description_width": "",
            "_view_module": "@jupyter-widgets/base",
            "_model_module_version": "1.5.0",
            "_view_count": null,
            "_view_module_version": "1.2.0",
            "bar_color": null,
            "_model_module": "@jupyter-widgets/controls"
          }
        },
        "201c8b245fe24124921f2a76adaace56": {
          "model_module": "@jupyter-widgets/base",
          "model_name": "LayoutModel",
          "model_module_version": "1.2.0",
          "state": {
            "_view_name": "LayoutView",
            "grid_template_rows": null,
            "right": null,
            "justify_content": null,
            "_view_module": "@jupyter-widgets/base",
            "overflow": null,
            "_model_module_version": "1.2.0",
            "_view_count": null,
            "flex_flow": null,
            "width": null,
            "min_width": null,
            "border": null,
            "align_items": null,
            "bottom": null,
            "_model_module": "@jupyter-widgets/base",
            "top": null,
            "grid_column": null,
            "overflow_y": null,
            "overflow_x": null,
            "grid_auto_flow": null,
            "grid_area": null,
            "grid_template_columns": null,
            "flex": null,
            "_model_name": "LayoutModel",
            "justify_items": null,
            "grid_row": null,
            "max_height": null,
            "align_content": null,
            "visibility": null,
            "align_self": null,
            "height": null,
            "min_height": null,
            "padding": null,
            "grid_auto_rows": null,
            "grid_gap": null,
            "max_width": null,
            "order": null,
            "_view_module_version": "1.2.0",
            "grid_template_areas": null,
            "object_position": null,
            "object_fit": null,
            "grid_auto_columns": null,
            "margin": null,
            "display": null,
            "left": null
          }
        },
        "574c61737d7e4d2f97b0d399ee547239": {
          "model_module": "@jupyter-widgets/controls",
          "model_name": "VBoxModel",
          "model_module_version": "1.5.0",
          "state": {
            "_view_name": "VBoxView",
            "_dom_classes": [],
            "_model_name": "VBoxModel",
            "_view_module": "@jupyter-widgets/controls",
            "_model_module_version": "1.5.0",
            "_view_count": null,
            "_view_module_version": "1.5.0",
            "box_style": "",
            "layout": "IPY_MODEL_64063268ce5d4dfa8b7089a863853b7d",
            "_model_module": "@jupyter-widgets/controls",
            "children": [
              "IPY_MODEL_65901f53cafc45fd98568e5d3588ca8a",
              "IPY_MODEL_bc0c16abb7a44d86a6653c009b982a14"
            ]
          }
        },
        "64063268ce5d4dfa8b7089a863853b7d": {
          "model_module": "@jupyter-widgets/base",
          "model_name": "LayoutModel",
          "model_module_version": "1.2.0",
          "state": {
            "_view_name": "LayoutView",
            "grid_template_rows": null,
            "right": null,
            "justify_content": null,
            "_view_module": "@jupyter-widgets/base",
            "overflow": null,
            "_model_module_version": "1.2.0",
            "_view_count": null,
            "flex_flow": null,
            "width": null,
            "min_width": null,
            "border": null,
            "align_items": null,
            "bottom": null,
            "_model_module": "@jupyter-widgets/base",
            "top": null,
            "grid_column": null,
            "overflow_y": null,
            "overflow_x": null,
            "grid_auto_flow": null,
            "grid_area": null,
            "grid_template_columns": null,
            "flex": null,
            "_model_name": "LayoutModel",
            "justify_items": null,
            "grid_row": null,
            "max_height": null,
            "align_content": null,
            "visibility": null,
            "align_self": null,
            "height": null,
            "min_height": null,
            "padding": null,
            "grid_auto_rows": null,
            "grid_gap": null,
            "max_width": null,
            "order": null,
            "_view_module_version": "1.2.0",
            "grid_template_areas": null,
            "object_position": null,
            "object_fit": null,
            "grid_auto_columns": null,
            "margin": null,
            "display": null,
            "left": null
          }
        },
        "65901f53cafc45fd98568e5d3588ca8a": {
          "model_module": "@jupyter-widgets/controls",
          "model_name": "LabelModel",
          "model_module_version": "1.5.0",
          "state": {
            "_view_name": "LabelView",
            "style": "IPY_MODEL_614195f703f24adcb9327cc2e66304fe",
            "_dom_classes": [],
            "description": "",
            "_model_name": "LabelModel",
            "placeholder": "​",
            "_view_module": "@jupyter-widgets/controls",
            "_model_module_version": "1.5.0",
            "value": " 12.22MB of 12.22MB uploaded (0.00MB deduped)\r",
            "_view_count": null,
            "_view_module_version": "1.5.0",
            "description_tooltip": null,
            "_model_module": "@jupyter-widgets/controls",
            "layout": "IPY_MODEL_47b96a39c6f54b3b88f673df57e5d23f"
          }
        },
        "bc0c16abb7a44d86a6653c009b982a14": {
          "model_module": "@jupyter-widgets/controls",
          "model_name": "FloatProgressModel",
          "model_module_version": "1.5.0",
          "state": {
            "_view_name": "ProgressView",
            "style": "IPY_MODEL_18853d8834aa4cee8aa0157ef834b327",
            "_dom_classes": [],
            "description": "",
            "_model_name": "FloatProgressModel",
            "bar_style": "",
            "max": 1,
            "_view_module": "@jupyter-widgets/controls",
            "_model_module_version": "1.5.0",
            "value": 1,
            "_view_count": null,
            "_view_module_version": "1.5.0",
            "orientation": "horizontal",
            "min": 0,
            "description_tooltip": null,
            "_model_module": "@jupyter-widgets/controls",
            "layout": "IPY_MODEL_8b4c1aec1b944f04ad66bfa34bd78d70"
          }
        },
        "614195f703f24adcb9327cc2e66304fe": {
          "model_module": "@jupyter-widgets/controls",
          "model_name": "DescriptionStyleModel",
          "model_module_version": "1.5.0",
          "state": {
            "_view_name": "StyleView",
            "_model_name": "DescriptionStyleModel",
            "description_width": "",
            "_view_module": "@jupyter-widgets/base",
            "_model_module_version": "1.5.0",
            "_view_count": null,
            "_view_module_version": "1.2.0",
            "_model_module": "@jupyter-widgets/controls"
          }
        },
        "47b96a39c6f54b3b88f673df57e5d23f": {
          "model_module": "@jupyter-widgets/base",
          "model_name": "LayoutModel",
          "model_module_version": "1.2.0",
          "state": {
            "_view_name": "LayoutView",
            "grid_template_rows": null,
            "right": null,
            "justify_content": null,
            "_view_module": "@jupyter-widgets/base",
            "overflow": null,
            "_model_module_version": "1.2.0",
            "_view_count": null,
            "flex_flow": null,
            "width": null,
            "min_width": null,
            "border": null,
            "align_items": null,
            "bottom": null,
            "_model_module": "@jupyter-widgets/base",
            "top": null,
            "grid_column": null,
            "overflow_y": null,
            "overflow_x": null,
            "grid_auto_flow": null,
            "grid_area": null,
            "grid_template_columns": null,
            "flex": null,
            "_model_name": "LayoutModel",
            "justify_items": null,
            "grid_row": null,
            "max_height": null,
            "align_content": null,
            "visibility": null,
            "align_self": null,
            "height": null,
            "min_height": null,
            "padding": null,
            "grid_auto_rows": null,
            "grid_gap": null,
            "max_width": null,
            "order": null,
            "_view_module_version": "1.2.0",
            "grid_template_areas": null,
            "object_position": null,
            "object_fit": null,
            "grid_auto_columns": null,
            "margin": null,
            "display": null,
            "left": null
          }
        },
        "18853d8834aa4cee8aa0157ef834b327": {
          "model_module": "@jupyter-widgets/controls",
          "model_name": "ProgressStyleModel",
          "model_module_version": "1.5.0",
          "state": {
            "_view_name": "StyleView",
            "_model_name": "ProgressStyleModel",
            "description_width": "",
            "_view_module": "@jupyter-widgets/base",
            "_model_module_version": "1.5.0",
            "_view_count": null,
            "_view_module_version": "1.2.0",
            "bar_color": null,
            "_model_module": "@jupyter-widgets/controls"
          }
        },
        "8b4c1aec1b944f04ad66bfa34bd78d70": {
          "model_module": "@jupyter-widgets/base",
          "model_name": "LayoutModel",
          "model_module_version": "1.2.0",
          "state": {
            "_view_name": "LayoutView",
            "grid_template_rows": null,
            "right": null,
            "justify_content": null,
            "_view_module": "@jupyter-widgets/base",
            "overflow": null,
            "_model_module_version": "1.2.0",
            "_view_count": null,
            "flex_flow": null,
            "width": null,
            "min_width": null,
            "border": null,
            "align_items": null,
            "bottom": null,
            "_model_module": "@jupyter-widgets/base",
            "top": null,
            "grid_column": null,
            "overflow_y": null,
            "overflow_x": null,
            "grid_auto_flow": null,
            "grid_area": null,
            "grid_template_columns": null,
            "flex": null,
            "_model_name": "LayoutModel",
            "justify_items": null,
            "grid_row": null,
            "max_height": null,
            "align_content": null,
            "visibility": null,
            "align_self": null,
            "height": null,
            "min_height": null,
            "padding": null,
            "grid_auto_rows": null,
            "grid_gap": null,
            "max_width": null,
            "order": null,
            "_view_module_version": "1.2.0",
            "grid_template_areas": null,
            "object_position": null,
            "object_fit": null,
            "grid_auto_columns": null,
            "margin": null,
            "display": null,
            "left": null
          }
        },
        "889b83d2b0954b968fb7f939cf987e24": {
          "model_module": "@jupyter-widgets/controls",
          "model_name": "VBoxModel",
          "model_module_version": "1.5.0",
          "state": {
            "_view_name": "VBoxView",
            "_dom_classes": [],
            "_model_name": "VBoxModel",
            "_view_module": "@jupyter-widgets/controls",
            "_model_module_version": "1.5.0",
            "_view_count": null,
            "_view_module_version": "1.5.0",
            "box_style": "",
            "layout": "IPY_MODEL_c7c94620091249eb99837840d671d3f9",
            "_model_module": "@jupyter-widgets/controls",
            "children": [
              "IPY_MODEL_7348bdcb520545d28d99e0d2c8f24fb4",
              "IPY_MODEL_e4e64e7563564aed938fe823541488de"
            ]
          }
        },
        "c7c94620091249eb99837840d671d3f9": {
          "model_module": "@jupyter-widgets/base",
          "model_name": "LayoutModel",
          "model_module_version": "1.2.0",
          "state": {
            "_view_name": "LayoutView",
            "grid_template_rows": null,
            "right": null,
            "justify_content": null,
            "_view_module": "@jupyter-widgets/base",
            "overflow": null,
            "_model_module_version": "1.2.0",
            "_view_count": null,
            "flex_flow": null,
            "width": null,
            "min_width": null,
            "border": null,
            "align_items": null,
            "bottom": null,
            "_model_module": "@jupyter-widgets/base",
            "top": null,
            "grid_column": null,
            "overflow_y": null,
            "overflow_x": null,
            "grid_auto_flow": null,
            "grid_area": null,
            "grid_template_columns": null,
            "flex": null,
            "_model_name": "LayoutModel",
            "justify_items": null,
            "grid_row": null,
            "max_height": null,
            "align_content": null,
            "visibility": null,
            "align_self": null,
            "height": null,
            "min_height": null,
            "padding": null,
            "grid_auto_rows": null,
            "grid_gap": null,
            "max_width": null,
            "order": null,
            "_view_module_version": "1.2.0",
            "grid_template_areas": null,
            "object_position": null,
            "object_fit": null,
            "grid_auto_columns": null,
            "margin": null,
            "display": null,
            "left": null
          }
        },
        "7348bdcb520545d28d99e0d2c8f24fb4": {
          "model_module": "@jupyter-widgets/controls",
          "model_name": "LabelModel",
          "model_module_version": "1.5.0",
          "state": {
            "_view_name": "LabelView",
            "style": "IPY_MODEL_59d50f280e4b41bebfbe915b404ab816",
            "_dom_classes": [],
            "description": "",
            "_model_name": "LabelModel",
            "placeholder": "​",
            "_view_module": "@jupyter-widgets/controls",
            "_model_module_version": "1.5.0",
            "value": " 12.20MB of 12.20MB uploaded (0.00MB deduped)\r",
            "_view_count": null,
            "_view_module_version": "1.5.0",
            "description_tooltip": null,
            "_model_module": "@jupyter-widgets/controls",
            "layout": "IPY_MODEL_0af52926e5ff4e1eb4c3c010953bd09f"
          }
        },
        "e4e64e7563564aed938fe823541488de": {
          "model_module": "@jupyter-widgets/controls",
          "model_name": "FloatProgressModel",
          "model_module_version": "1.5.0",
          "state": {
            "_view_name": "ProgressView",
            "style": "IPY_MODEL_ae6a5666d061490d8aa07907c7c061be",
            "_dom_classes": [],
            "description": "",
            "_model_name": "FloatProgressModel",
            "bar_style": "",
            "max": 1,
            "_view_module": "@jupyter-widgets/controls",
            "_model_module_version": "1.5.0",
            "value": 1,
            "_view_count": null,
            "_view_module_version": "1.5.0",
            "orientation": "horizontal",
            "min": 0,
            "description_tooltip": null,
            "_model_module": "@jupyter-widgets/controls",
            "layout": "IPY_MODEL_73f02b7382284369951a435dca72b7b9"
          }
        },
        "59d50f280e4b41bebfbe915b404ab816": {
          "model_module": "@jupyter-widgets/controls",
          "model_name": "DescriptionStyleModel",
          "model_module_version": "1.5.0",
          "state": {
            "_view_name": "StyleView",
            "_model_name": "DescriptionStyleModel",
            "description_width": "",
            "_view_module": "@jupyter-widgets/base",
            "_model_module_version": "1.5.0",
            "_view_count": null,
            "_view_module_version": "1.2.0",
            "_model_module": "@jupyter-widgets/controls"
          }
        },
        "0af52926e5ff4e1eb4c3c010953bd09f": {
          "model_module": "@jupyter-widgets/base",
          "model_name": "LayoutModel",
          "model_module_version": "1.2.0",
          "state": {
            "_view_name": "LayoutView",
            "grid_template_rows": null,
            "right": null,
            "justify_content": null,
            "_view_module": "@jupyter-widgets/base",
            "overflow": null,
            "_model_module_version": "1.2.0",
            "_view_count": null,
            "flex_flow": null,
            "width": null,
            "min_width": null,
            "border": null,
            "align_items": null,
            "bottom": null,
            "_model_module": "@jupyter-widgets/base",
            "top": null,
            "grid_column": null,
            "overflow_y": null,
            "overflow_x": null,
            "grid_auto_flow": null,
            "grid_area": null,
            "grid_template_columns": null,
            "flex": null,
            "_model_name": "LayoutModel",
            "justify_items": null,
            "grid_row": null,
            "max_height": null,
            "align_content": null,
            "visibility": null,
            "align_self": null,
            "height": null,
            "min_height": null,
            "padding": null,
            "grid_auto_rows": null,
            "grid_gap": null,
            "max_width": null,
            "order": null,
            "_view_module_version": "1.2.0",
            "grid_template_areas": null,
            "object_position": null,
            "object_fit": null,
            "grid_auto_columns": null,
            "margin": null,
            "display": null,
            "left": null
          }
        },
        "ae6a5666d061490d8aa07907c7c061be": {
          "model_module": "@jupyter-widgets/controls",
          "model_name": "ProgressStyleModel",
          "model_module_version": "1.5.0",
          "state": {
            "_view_name": "StyleView",
            "_model_name": "ProgressStyleModel",
            "description_width": "",
            "_view_module": "@jupyter-widgets/base",
            "_model_module_version": "1.5.0",
            "_view_count": null,
            "_view_module_version": "1.2.0",
            "bar_color": null,
            "_model_module": "@jupyter-widgets/controls"
          }
        },
        "73f02b7382284369951a435dca72b7b9": {
          "model_module": "@jupyter-widgets/base",
          "model_name": "LayoutModel",
          "model_module_version": "1.2.0",
          "state": {
            "_view_name": "LayoutView",
            "grid_template_rows": null,
            "right": null,
            "justify_content": null,
            "_view_module": "@jupyter-widgets/base",
            "overflow": null,
            "_model_module_version": "1.2.0",
            "_view_count": null,
            "flex_flow": null,
            "width": null,
            "min_width": null,
            "border": null,
            "align_items": null,
            "bottom": null,
            "_model_module": "@jupyter-widgets/base",
            "top": null,
            "grid_column": null,
            "overflow_y": null,
            "overflow_x": null,
            "grid_auto_flow": null,
            "grid_area": null,
            "grid_template_columns": null,
            "flex": null,
            "_model_name": "LayoutModel",
            "justify_items": null,
            "grid_row": null,
            "max_height": null,
            "align_content": null,
            "visibility": null,
            "align_self": null,
            "height": null,
            "min_height": null,
            "padding": null,
            "grid_auto_rows": null,
            "grid_gap": null,
            "max_width": null,
            "order": null,
            "_view_module_version": "1.2.0",
            "grid_template_areas": null,
            "object_position": null,
            "object_fit": null,
            "grid_auto_columns": null,
            "margin": null,
            "display": null,
            "left": null
          }
        },
        "e29e5b2c04054ca4b3fd3fdb5c994877": {
          "model_module": "@jupyter-widgets/controls",
          "model_name": "VBoxModel",
          "model_module_version": "1.5.0",
          "state": {
            "_view_name": "VBoxView",
            "_dom_classes": [],
            "_model_name": "VBoxModel",
            "_view_module": "@jupyter-widgets/controls",
            "_model_module_version": "1.5.0",
            "_view_count": null,
            "_view_module_version": "1.5.0",
            "box_style": "",
            "layout": "IPY_MODEL_8cfa45ea85054b529e38d7cf0236c061",
            "_model_module": "@jupyter-widgets/controls",
            "children": [
              "IPY_MODEL_240c76f2694e48f6b427f2c24082001a",
              "IPY_MODEL_9292cb3d5200430eba90e894969dbc2b"
            ]
          }
        },
        "8cfa45ea85054b529e38d7cf0236c061": {
          "model_module": "@jupyter-widgets/base",
          "model_name": "LayoutModel",
          "model_module_version": "1.2.0",
          "state": {
            "_view_name": "LayoutView",
            "grid_template_rows": null,
            "right": null,
            "justify_content": null,
            "_view_module": "@jupyter-widgets/base",
            "overflow": null,
            "_model_module_version": "1.2.0",
            "_view_count": null,
            "flex_flow": null,
            "width": null,
            "min_width": null,
            "border": null,
            "align_items": null,
            "bottom": null,
            "_model_module": "@jupyter-widgets/base",
            "top": null,
            "grid_column": null,
            "overflow_y": null,
            "overflow_x": null,
            "grid_auto_flow": null,
            "grid_area": null,
            "grid_template_columns": null,
            "flex": null,
            "_model_name": "LayoutModel",
            "justify_items": null,
            "grid_row": null,
            "max_height": null,
            "align_content": null,
            "visibility": null,
            "align_self": null,
            "height": null,
            "min_height": null,
            "padding": null,
            "grid_auto_rows": null,
            "grid_gap": null,
            "max_width": null,
            "order": null,
            "_view_module_version": "1.2.0",
            "grid_template_areas": null,
            "object_position": null,
            "object_fit": null,
            "grid_auto_columns": null,
            "margin": null,
            "display": null,
            "left": null
          }
        },
        "240c76f2694e48f6b427f2c24082001a": {
          "model_module": "@jupyter-widgets/controls",
          "model_name": "LabelModel",
          "model_module_version": "1.5.0",
          "state": {
            "_view_name": "LabelView",
            "style": "IPY_MODEL_609fe697799a43d2895d2a15f16de088",
            "_dom_classes": [],
            "description": "",
            "_model_name": "LabelModel",
            "placeholder": "​",
            "_view_module": "@jupyter-widgets/controls",
            "_model_module_version": "1.5.0",
            "value": " 12.22MB of 12.22MB uploaded (0.00MB deduped)\r",
            "_view_count": null,
            "_view_module_version": "1.5.0",
            "description_tooltip": null,
            "_model_module": "@jupyter-widgets/controls",
            "layout": "IPY_MODEL_6091b3d9e63043c5955eb1d002b7cb24"
          }
        },
        "9292cb3d5200430eba90e894969dbc2b": {
          "model_module": "@jupyter-widgets/controls",
          "model_name": "FloatProgressModel",
          "model_module_version": "1.5.0",
          "state": {
            "_view_name": "ProgressView",
            "style": "IPY_MODEL_6b0a87d449b041b29368205ea67d114e",
            "_dom_classes": [],
            "description": "",
            "_model_name": "FloatProgressModel",
            "bar_style": "",
            "max": 1,
            "_view_module": "@jupyter-widgets/controls",
            "_model_module_version": "1.5.0",
            "value": 1,
            "_view_count": null,
            "_view_module_version": "1.5.0",
            "orientation": "horizontal",
            "min": 0,
            "description_tooltip": null,
            "_model_module": "@jupyter-widgets/controls",
            "layout": "IPY_MODEL_fa85f43f0f5440e7ab193afe9c60bceb"
          }
        },
        "609fe697799a43d2895d2a15f16de088": {
          "model_module": "@jupyter-widgets/controls",
          "model_name": "DescriptionStyleModel",
          "model_module_version": "1.5.0",
          "state": {
            "_view_name": "StyleView",
            "_model_name": "DescriptionStyleModel",
            "description_width": "",
            "_view_module": "@jupyter-widgets/base",
            "_model_module_version": "1.5.0",
            "_view_count": null,
            "_view_module_version": "1.2.0",
            "_model_module": "@jupyter-widgets/controls"
          }
        },
        "6091b3d9e63043c5955eb1d002b7cb24": {
          "model_module": "@jupyter-widgets/base",
          "model_name": "LayoutModel",
          "model_module_version": "1.2.0",
          "state": {
            "_view_name": "LayoutView",
            "grid_template_rows": null,
            "right": null,
            "justify_content": null,
            "_view_module": "@jupyter-widgets/base",
            "overflow": null,
            "_model_module_version": "1.2.0",
            "_view_count": null,
            "flex_flow": null,
            "width": null,
            "min_width": null,
            "border": null,
            "align_items": null,
            "bottom": null,
            "_model_module": "@jupyter-widgets/base",
            "top": null,
            "grid_column": null,
            "overflow_y": null,
            "overflow_x": null,
            "grid_auto_flow": null,
            "grid_area": null,
            "grid_template_columns": null,
            "flex": null,
            "_model_name": "LayoutModel",
            "justify_items": null,
            "grid_row": null,
            "max_height": null,
            "align_content": null,
            "visibility": null,
            "align_self": null,
            "height": null,
            "min_height": null,
            "padding": null,
            "grid_auto_rows": null,
            "grid_gap": null,
            "max_width": null,
            "order": null,
            "_view_module_version": "1.2.0",
            "grid_template_areas": null,
            "object_position": null,
            "object_fit": null,
            "grid_auto_columns": null,
            "margin": null,
            "display": null,
            "left": null
          }
        },
        "6b0a87d449b041b29368205ea67d114e": {
          "model_module": "@jupyter-widgets/controls",
          "model_name": "ProgressStyleModel",
          "model_module_version": "1.5.0",
          "state": {
            "_view_name": "StyleView",
            "_model_name": "ProgressStyleModel",
            "description_width": "",
            "_view_module": "@jupyter-widgets/base",
            "_model_module_version": "1.5.0",
            "_view_count": null,
            "_view_module_version": "1.2.0",
            "bar_color": null,
            "_model_module": "@jupyter-widgets/controls"
          }
        },
        "fa85f43f0f5440e7ab193afe9c60bceb": {
          "model_module": "@jupyter-widgets/base",
          "model_name": "LayoutModel",
          "model_module_version": "1.2.0",
          "state": {
            "_view_name": "LayoutView",
            "grid_template_rows": null,
            "right": null,
            "justify_content": null,
            "_view_module": "@jupyter-widgets/base",
            "overflow": null,
            "_model_module_version": "1.2.0",
            "_view_count": null,
            "flex_flow": null,
            "width": null,
            "min_width": null,
            "border": null,
            "align_items": null,
            "bottom": null,
            "_model_module": "@jupyter-widgets/base",
            "top": null,
            "grid_column": null,
            "overflow_y": null,
            "overflow_x": null,
            "grid_auto_flow": null,
            "grid_area": null,
            "grid_template_columns": null,
            "flex": null,
            "_model_name": "LayoutModel",
            "justify_items": null,
            "grid_row": null,
            "max_height": null,
            "align_content": null,
            "visibility": null,
            "align_self": null,
            "height": null,
            "min_height": null,
            "padding": null,
            "grid_auto_rows": null,
            "grid_gap": null,
            "max_width": null,
            "order": null,
            "_view_module_version": "1.2.0",
            "grid_template_areas": null,
            "object_position": null,
            "object_fit": null,
            "grid_auto_columns": null,
            "margin": null,
            "display": null,
            "left": null
          }
        },
        "c3854ac07a7443b68c3d70f5cf1e7147": {
          "model_module": "@jupyter-widgets/controls",
          "model_name": "VBoxModel",
          "model_module_version": "1.5.0",
          "state": {
            "_view_name": "VBoxView",
            "_dom_classes": [],
            "_model_name": "VBoxModel",
            "_view_module": "@jupyter-widgets/controls",
            "_model_module_version": "1.5.0",
            "_view_count": null,
            "_view_module_version": "1.5.0",
            "box_style": "",
            "layout": "IPY_MODEL_75dccfdc545f45718f7fc9c84981b404",
            "_model_module": "@jupyter-widgets/controls",
            "children": [
              "IPY_MODEL_a73e95e889b84074a9eba860035b6a66",
              "IPY_MODEL_2cc9bb01e16c4c7d9fe0c0a289af1cb3"
            ]
          }
        },
        "75dccfdc545f45718f7fc9c84981b404": {
          "model_module": "@jupyter-widgets/base",
          "model_name": "LayoutModel",
          "model_module_version": "1.2.0",
          "state": {
            "_view_name": "LayoutView",
            "grid_template_rows": null,
            "right": null,
            "justify_content": null,
            "_view_module": "@jupyter-widgets/base",
            "overflow": null,
            "_model_module_version": "1.2.0",
            "_view_count": null,
            "flex_flow": null,
            "width": null,
            "min_width": null,
            "border": null,
            "align_items": null,
            "bottom": null,
            "_model_module": "@jupyter-widgets/base",
            "top": null,
            "grid_column": null,
            "overflow_y": null,
            "overflow_x": null,
            "grid_auto_flow": null,
            "grid_area": null,
            "grid_template_columns": null,
            "flex": null,
            "_model_name": "LayoutModel",
            "justify_items": null,
            "grid_row": null,
            "max_height": null,
            "align_content": null,
            "visibility": null,
            "align_self": null,
            "height": null,
            "min_height": null,
            "padding": null,
            "grid_auto_rows": null,
            "grid_gap": null,
            "max_width": null,
            "order": null,
            "_view_module_version": "1.2.0",
            "grid_template_areas": null,
            "object_position": null,
            "object_fit": null,
            "grid_auto_columns": null,
            "margin": null,
            "display": null,
            "left": null
          }
        },
        "a73e95e889b84074a9eba860035b6a66": {
          "model_module": "@jupyter-widgets/controls",
          "model_name": "LabelModel",
          "model_module_version": "1.5.0",
          "state": {
            "_view_name": "LabelView",
            "style": "IPY_MODEL_73c4054ee43b4a3a8f0849b7dfaeef4b",
            "_dom_classes": [],
            "description": "",
            "_model_name": "LabelModel",
            "placeholder": "​",
            "_view_module": "@jupyter-widgets/controls",
            "_model_module_version": "1.5.0",
            "value": " 21.27MB of 21.27MB uploaded (0.00MB deduped)\r",
            "_view_count": null,
            "_view_module_version": "1.5.0",
            "description_tooltip": null,
            "_model_module": "@jupyter-widgets/controls",
            "layout": "IPY_MODEL_ec841192e088442a8bbe528cebc6ea13"
          }
        },
        "2cc9bb01e16c4c7d9fe0c0a289af1cb3": {
          "model_module": "@jupyter-widgets/controls",
          "model_name": "FloatProgressModel",
          "model_module_version": "1.5.0",
          "state": {
            "_view_name": "ProgressView",
            "style": "IPY_MODEL_46463f5d144d43aab1c4471001041152",
            "_dom_classes": [],
            "description": "",
            "_model_name": "FloatProgressModel",
            "bar_style": "",
            "max": 1,
            "_view_module": "@jupyter-widgets/controls",
            "_model_module_version": "1.5.0",
            "value": 1,
            "_view_count": null,
            "_view_module_version": "1.5.0",
            "orientation": "horizontal",
            "min": 0,
            "description_tooltip": null,
            "_model_module": "@jupyter-widgets/controls",
            "layout": "IPY_MODEL_ddc9d42f294c4c0a9a59e5de56c27900"
          }
        },
        "73c4054ee43b4a3a8f0849b7dfaeef4b": {
          "model_module": "@jupyter-widgets/controls",
          "model_name": "DescriptionStyleModel",
          "model_module_version": "1.5.0",
          "state": {
            "_view_name": "StyleView",
            "_model_name": "DescriptionStyleModel",
            "description_width": "",
            "_view_module": "@jupyter-widgets/base",
            "_model_module_version": "1.5.0",
            "_view_count": null,
            "_view_module_version": "1.2.0",
            "_model_module": "@jupyter-widgets/controls"
          }
        },
        "ec841192e088442a8bbe528cebc6ea13": {
          "model_module": "@jupyter-widgets/base",
          "model_name": "LayoutModel",
          "model_module_version": "1.2.0",
          "state": {
            "_view_name": "LayoutView",
            "grid_template_rows": null,
            "right": null,
            "justify_content": null,
            "_view_module": "@jupyter-widgets/base",
            "overflow": null,
            "_model_module_version": "1.2.0",
            "_view_count": null,
            "flex_flow": null,
            "width": null,
            "min_width": null,
            "border": null,
            "align_items": null,
            "bottom": null,
            "_model_module": "@jupyter-widgets/base",
            "top": null,
            "grid_column": null,
            "overflow_y": null,
            "overflow_x": null,
            "grid_auto_flow": null,
            "grid_area": null,
            "grid_template_columns": null,
            "flex": null,
            "_model_name": "LayoutModel",
            "justify_items": null,
            "grid_row": null,
            "max_height": null,
            "align_content": null,
            "visibility": null,
            "align_self": null,
            "height": null,
            "min_height": null,
            "padding": null,
            "grid_auto_rows": null,
            "grid_gap": null,
            "max_width": null,
            "order": null,
            "_view_module_version": "1.2.0",
            "grid_template_areas": null,
            "object_position": null,
            "object_fit": null,
            "grid_auto_columns": null,
            "margin": null,
            "display": null,
            "left": null
          }
        },
        "46463f5d144d43aab1c4471001041152": {
          "model_module": "@jupyter-widgets/controls",
          "model_name": "ProgressStyleModel",
          "model_module_version": "1.5.0",
          "state": {
            "_view_name": "StyleView",
            "_model_name": "ProgressStyleModel",
            "description_width": "",
            "_view_module": "@jupyter-widgets/base",
            "_model_module_version": "1.5.0",
            "_view_count": null,
            "_view_module_version": "1.2.0",
            "bar_color": null,
            "_model_module": "@jupyter-widgets/controls"
          }
        },
        "ddc9d42f294c4c0a9a59e5de56c27900": {
          "model_module": "@jupyter-widgets/base",
          "model_name": "LayoutModel",
          "model_module_version": "1.2.0",
          "state": {
            "_view_name": "LayoutView",
            "grid_template_rows": null,
            "right": null,
            "justify_content": null,
            "_view_module": "@jupyter-widgets/base",
            "overflow": null,
            "_model_module_version": "1.2.0",
            "_view_count": null,
            "flex_flow": null,
            "width": null,
            "min_width": null,
            "border": null,
            "align_items": null,
            "bottom": null,
            "_model_module": "@jupyter-widgets/base",
            "top": null,
            "grid_column": null,
            "overflow_y": null,
            "overflow_x": null,
            "grid_auto_flow": null,
            "grid_area": null,
            "grid_template_columns": null,
            "flex": null,
            "_model_name": "LayoutModel",
            "justify_items": null,
            "grid_row": null,
            "max_height": null,
            "align_content": null,
            "visibility": null,
            "align_self": null,
            "height": null,
            "min_height": null,
            "padding": null,
            "grid_auto_rows": null,
            "grid_gap": null,
            "max_width": null,
            "order": null,
            "_view_module_version": "1.2.0",
            "grid_template_areas": null,
            "object_position": null,
            "object_fit": null,
            "grid_auto_columns": null,
            "margin": null,
            "display": null,
            "left": null
          }
        },
        "e014d7bfabab4028b4ff21b12ab3348b": {
          "model_module": "@jupyter-widgets/controls",
          "model_name": "VBoxModel",
          "model_module_version": "1.5.0",
          "state": {
            "_view_name": "VBoxView",
            "_dom_classes": [],
            "_model_name": "VBoxModel",
            "_view_module": "@jupyter-widgets/controls",
            "_model_module_version": "1.5.0",
            "_view_count": null,
            "_view_module_version": "1.5.0",
            "box_style": "",
            "layout": "IPY_MODEL_3d53b403cfd1493e99d1725a7b2a41dc",
            "_model_module": "@jupyter-widgets/controls",
            "children": [
              "IPY_MODEL_ff1c5704cdb0480b9157c3a4aa158150",
              "IPY_MODEL_7643a1a09b7447f59b8888ad13a4fc86"
            ]
          }
        },
        "3d53b403cfd1493e99d1725a7b2a41dc": {
          "model_module": "@jupyter-widgets/base",
          "model_name": "LayoutModel",
          "model_module_version": "1.2.0",
          "state": {
            "_view_name": "LayoutView",
            "grid_template_rows": null,
            "right": null,
            "justify_content": null,
            "_view_module": "@jupyter-widgets/base",
            "overflow": null,
            "_model_module_version": "1.2.0",
            "_view_count": null,
            "flex_flow": null,
            "width": null,
            "min_width": null,
            "border": null,
            "align_items": null,
            "bottom": null,
            "_model_module": "@jupyter-widgets/base",
            "top": null,
            "grid_column": null,
            "overflow_y": null,
            "overflow_x": null,
            "grid_auto_flow": null,
            "grid_area": null,
            "grid_template_columns": null,
            "flex": null,
            "_model_name": "LayoutModel",
            "justify_items": null,
            "grid_row": null,
            "max_height": null,
            "align_content": null,
            "visibility": null,
            "align_self": null,
            "height": null,
            "min_height": null,
            "padding": null,
            "grid_auto_rows": null,
            "grid_gap": null,
            "max_width": null,
            "order": null,
            "_view_module_version": "1.2.0",
            "grid_template_areas": null,
            "object_position": null,
            "object_fit": null,
            "grid_auto_columns": null,
            "margin": null,
            "display": null,
            "left": null
          }
        },
        "ff1c5704cdb0480b9157c3a4aa158150": {
          "model_module": "@jupyter-widgets/controls",
          "model_name": "LabelModel",
          "model_module_version": "1.5.0",
          "state": {
            "_view_name": "LabelView",
            "style": "IPY_MODEL_d0ee21c58e094757b628c444bb926743",
            "_dom_classes": [],
            "description": "",
            "_model_name": "LabelModel",
            "placeholder": "​",
            "_view_module": "@jupyter-widgets/controls",
            "_model_module_version": "1.5.0",
            "value": " 21.17MB of 21.17MB uploaded (0.00MB deduped)\r",
            "_view_count": null,
            "_view_module_version": "1.5.0",
            "description_tooltip": null,
            "_model_module": "@jupyter-widgets/controls",
            "layout": "IPY_MODEL_ecfaf62e236649baaa8cae29e3433ea9"
          }
        },
        "7643a1a09b7447f59b8888ad13a4fc86": {
          "model_module": "@jupyter-widgets/controls",
          "model_name": "FloatProgressModel",
          "model_module_version": "1.5.0",
          "state": {
            "_view_name": "ProgressView",
            "style": "IPY_MODEL_541df959b1434ed8903c9a0918fbd330",
            "_dom_classes": [],
            "description": "",
            "_model_name": "FloatProgressModel",
            "bar_style": "",
            "max": 1,
            "_view_module": "@jupyter-widgets/controls",
            "_model_module_version": "1.5.0",
            "value": 1,
            "_view_count": null,
            "_view_module_version": "1.5.0",
            "orientation": "horizontal",
            "min": 0,
            "description_tooltip": null,
            "_model_module": "@jupyter-widgets/controls",
            "layout": "IPY_MODEL_161949aa47814d3e8ba8fd13c7a5992d"
          }
        },
        "d0ee21c58e094757b628c444bb926743": {
          "model_module": "@jupyter-widgets/controls",
          "model_name": "DescriptionStyleModel",
          "model_module_version": "1.5.0",
          "state": {
            "_view_name": "StyleView",
            "_model_name": "DescriptionStyleModel",
            "description_width": "",
            "_view_module": "@jupyter-widgets/base",
            "_model_module_version": "1.5.0",
            "_view_count": null,
            "_view_module_version": "1.2.0",
            "_model_module": "@jupyter-widgets/controls"
          }
        },
        "ecfaf62e236649baaa8cae29e3433ea9": {
          "model_module": "@jupyter-widgets/base",
          "model_name": "LayoutModel",
          "model_module_version": "1.2.0",
          "state": {
            "_view_name": "LayoutView",
            "grid_template_rows": null,
            "right": null,
            "justify_content": null,
            "_view_module": "@jupyter-widgets/base",
            "overflow": null,
            "_model_module_version": "1.2.0",
            "_view_count": null,
            "flex_flow": null,
            "width": null,
            "min_width": null,
            "border": null,
            "align_items": null,
            "bottom": null,
            "_model_module": "@jupyter-widgets/base",
            "top": null,
            "grid_column": null,
            "overflow_y": null,
            "overflow_x": null,
            "grid_auto_flow": null,
            "grid_area": null,
            "grid_template_columns": null,
            "flex": null,
            "_model_name": "LayoutModel",
            "justify_items": null,
            "grid_row": null,
            "max_height": null,
            "align_content": null,
            "visibility": null,
            "align_self": null,
            "height": null,
            "min_height": null,
            "padding": null,
            "grid_auto_rows": null,
            "grid_gap": null,
            "max_width": null,
            "order": null,
            "_view_module_version": "1.2.0",
            "grid_template_areas": null,
            "object_position": null,
            "object_fit": null,
            "grid_auto_columns": null,
            "margin": null,
            "display": null,
            "left": null
          }
        },
        "541df959b1434ed8903c9a0918fbd330": {
          "model_module": "@jupyter-widgets/controls",
          "model_name": "ProgressStyleModel",
          "model_module_version": "1.5.0",
          "state": {
            "_view_name": "StyleView",
            "_model_name": "ProgressStyleModel",
            "description_width": "",
            "_view_module": "@jupyter-widgets/base",
            "_model_module_version": "1.5.0",
            "_view_count": null,
            "_view_module_version": "1.2.0",
            "bar_color": null,
            "_model_module": "@jupyter-widgets/controls"
          }
        },
        "161949aa47814d3e8ba8fd13c7a5992d": {
          "model_module": "@jupyter-widgets/base",
          "model_name": "LayoutModel",
          "model_module_version": "1.2.0",
          "state": {
            "_view_name": "LayoutView",
            "grid_template_rows": null,
            "right": null,
            "justify_content": null,
            "_view_module": "@jupyter-widgets/base",
            "overflow": null,
            "_model_module_version": "1.2.0",
            "_view_count": null,
            "flex_flow": null,
            "width": null,
            "min_width": null,
            "border": null,
            "align_items": null,
            "bottom": null,
            "_model_module": "@jupyter-widgets/base",
            "top": null,
            "grid_column": null,
            "overflow_y": null,
            "overflow_x": null,
            "grid_auto_flow": null,
            "grid_area": null,
            "grid_template_columns": null,
            "flex": null,
            "_model_name": "LayoutModel",
            "justify_items": null,
            "grid_row": null,
            "max_height": null,
            "align_content": null,
            "visibility": null,
            "align_self": null,
            "height": null,
            "min_height": null,
            "padding": null,
            "grid_auto_rows": null,
            "grid_gap": null,
            "max_width": null,
            "order": null,
            "_view_module_version": "1.2.0",
            "grid_template_areas": null,
            "object_position": null,
            "object_fit": null,
            "grid_auto_columns": null,
            "margin": null,
            "display": null,
            "left": null
          }
        },
        "65ea1b456bd34cf0ab4745cf36493df8": {
          "model_module": "@jupyter-widgets/controls",
          "model_name": "VBoxModel",
          "model_module_version": "1.5.0",
          "state": {
            "_view_name": "VBoxView",
            "_dom_classes": [],
            "_model_name": "VBoxModel",
            "_view_module": "@jupyter-widgets/controls",
            "_model_module_version": "1.5.0",
            "_view_count": null,
            "_view_module_version": "1.5.0",
            "box_style": "",
            "layout": "IPY_MODEL_048a5e2cadc049f1a9216e63ba79a904",
            "_model_module": "@jupyter-widgets/controls",
            "children": [
              "IPY_MODEL_a5a5702f88e74d29b25685844a8fa52f",
              "IPY_MODEL_6d9b29978230460491a428e722ba4fc4"
            ]
          }
        },
        "048a5e2cadc049f1a9216e63ba79a904": {
          "model_module": "@jupyter-widgets/base",
          "model_name": "LayoutModel",
          "model_module_version": "1.2.0",
          "state": {
            "_view_name": "LayoutView",
            "grid_template_rows": null,
            "right": null,
            "justify_content": null,
            "_view_module": "@jupyter-widgets/base",
            "overflow": null,
            "_model_module_version": "1.2.0",
            "_view_count": null,
            "flex_flow": null,
            "width": null,
            "min_width": null,
            "border": null,
            "align_items": null,
            "bottom": null,
            "_model_module": "@jupyter-widgets/base",
            "top": null,
            "grid_column": null,
            "overflow_y": null,
            "overflow_x": null,
            "grid_auto_flow": null,
            "grid_area": null,
            "grid_template_columns": null,
            "flex": null,
            "_model_name": "LayoutModel",
            "justify_items": null,
            "grid_row": null,
            "max_height": null,
            "align_content": null,
            "visibility": null,
            "align_self": null,
            "height": null,
            "min_height": null,
            "padding": null,
            "grid_auto_rows": null,
            "grid_gap": null,
            "max_width": null,
            "order": null,
            "_view_module_version": "1.2.0",
            "grid_template_areas": null,
            "object_position": null,
            "object_fit": null,
            "grid_auto_columns": null,
            "margin": null,
            "display": null,
            "left": null
          }
        },
        "a5a5702f88e74d29b25685844a8fa52f": {
          "model_module": "@jupyter-widgets/controls",
          "model_name": "LabelModel",
          "model_module_version": "1.5.0",
          "state": {
            "_view_name": "LabelView",
            "style": "IPY_MODEL_d35e8f03f9a344d6a2645ed39d4c3084",
            "_dom_classes": [],
            "description": "",
            "_model_name": "LabelModel",
            "placeholder": "​",
            "_view_module": "@jupyter-widgets/controls",
            "_model_module_version": "1.5.0",
            "value": " 21.26MB of 21.26MB uploaded (0.00MB deduped)\r",
            "_view_count": null,
            "_view_module_version": "1.5.0",
            "description_tooltip": null,
            "_model_module": "@jupyter-widgets/controls",
            "layout": "IPY_MODEL_978619340d1f410c82eab2d5ab5247c5"
          }
        },
        "6d9b29978230460491a428e722ba4fc4": {
          "model_module": "@jupyter-widgets/controls",
          "model_name": "FloatProgressModel",
          "model_module_version": "1.5.0",
          "state": {
            "_view_name": "ProgressView",
            "style": "IPY_MODEL_7e2d97821a0643db8bcfe91a7066125b",
            "_dom_classes": [],
            "description": "",
            "_model_name": "FloatProgressModel",
            "bar_style": "",
            "max": 1,
            "_view_module": "@jupyter-widgets/controls",
            "_model_module_version": "1.5.0",
            "value": 1,
            "_view_count": null,
            "_view_module_version": "1.5.0",
            "orientation": "horizontal",
            "min": 0,
            "description_tooltip": null,
            "_model_module": "@jupyter-widgets/controls",
            "layout": "IPY_MODEL_7451e7bd548f477da4ed4b4fbe6d3bc4"
          }
        },
        "d35e8f03f9a344d6a2645ed39d4c3084": {
          "model_module": "@jupyter-widgets/controls",
          "model_name": "DescriptionStyleModel",
          "model_module_version": "1.5.0",
          "state": {
            "_view_name": "StyleView",
            "_model_name": "DescriptionStyleModel",
            "description_width": "",
            "_view_module": "@jupyter-widgets/base",
            "_model_module_version": "1.5.0",
            "_view_count": null,
            "_view_module_version": "1.2.0",
            "_model_module": "@jupyter-widgets/controls"
          }
        },
        "978619340d1f410c82eab2d5ab5247c5": {
          "model_module": "@jupyter-widgets/base",
          "model_name": "LayoutModel",
          "model_module_version": "1.2.0",
          "state": {
            "_view_name": "LayoutView",
            "grid_template_rows": null,
            "right": null,
            "justify_content": null,
            "_view_module": "@jupyter-widgets/base",
            "overflow": null,
            "_model_module_version": "1.2.0",
            "_view_count": null,
            "flex_flow": null,
            "width": null,
            "min_width": null,
            "border": null,
            "align_items": null,
            "bottom": null,
            "_model_module": "@jupyter-widgets/base",
            "top": null,
            "grid_column": null,
            "overflow_y": null,
            "overflow_x": null,
            "grid_auto_flow": null,
            "grid_area": null,
            "grid_template_columns": null,
            "flex": null,
            "_model_name": "LayoutModel",
            "justify_items": null,
            "grid_row": null,
            "max_height": null,
            "align_content": null,
            "visibility": null,
            "align_self": null,
            "height": null,
            "min_height": null,
            "padding": null,
            "grid_auto_rows": null,
            "grid_gap": null,
            "max_width": null,
            "order": null,
            "_view_module_version": "1.2.0",
            "grid_template_areas": null,
            "object_position": null,
            "object_fit": null,
            "grid_auto_columns": null,
            "margin": null,
            "display": null,
            "left": null
          }
        },
        "7e2d97821a0643db8bcfe91a7066125b": {
          "model_module": "@jupyter-widgets/controls",
          "model_name": "ProgressStyleModel",
          "model_module_version": "1.5.0",
          "state": {
            "_view_name": "StyleView",
            "_model_name": "ProgressStyleModel",
            "description_width": "",
            "_view_module": "@jupyter-widgets/base",
            "_model_module_version": "1.5.0",
            "_view_count": null,
            "_view_module_version": "1.2.0",
            "bar_color": null,
            "_model_module": "@jupyter-widgets/controls"
          }
        },
        "7451e7bd548f477da4ed4b4fbe6d3bc4": {
          "model_module": "@jupyter-widgets/base",
          "model_name": "LayoutModel",
          "model_module_version": "1.2.0",
          "state": {
            "_view_name": "LayoutView",
            "grid_template_rows": null,
            "right": null,
            "justify_content": null,
            "_view_module": "@jupyter-widgets/base",
            "overflow": null,
            "_model_module_version": "1.2.0",
            "_view_count": null,
            "flex_flow": null,
            "width": null,
            "min_width": null,
            "border": null,
            "align_items": null,
            "bottom": null,
            "_model_module": "@jupyter-widgets/base",
            "top": null,
            "grid_column": null,
            "overflow_y": null,
            "overflow_x": null,
            "grid_auto_flow": null,
            "grid_area": null,
            "grid_template_columns": null,
            "flex": null,
            "_model_name": "LayoutModel",
            "justify_items": null,
            "grid_row": null,
            "max_height": null,
            "align_content": null,
            "visibility": null,
            "align_self": null,
            "height": null,
            "min_height": null,
            "padding": null,
            "grid_auto_rows": null,
            "grid_gap": null,
            "max_width": null,
            "order": null,
            "_view_module_version": "1.2.0",
            "grid_template_areas": null,
            "object_position": null,
            "object_fit": null,
            "grid_auto_columns": null,
            "margin": null,
            "display": null,
            "left": null
          }
        },
        "ba26866e14d4409ab4dc9dcc4ca80e54": {
          "model_module": "@jupyter-widgets/controls",
          "model_name": "VBoxModel",
          "model_module_version": "1.5.0",
          "state": {
            "_view_name": "VBoxView",
            "_dom_classes": [],
            "_model_name": "VBoxModel",
            "_view_module": "@jupyter-widgets/controls",
            "_model_module_version": "1.5.0",
            "_view_count": null,
            "_view_module_version": "1.5.0",
            "box_style": "",
            "layout": "IPY_MODEL_d917295177404f82a3ba9b969319b2ce",
            "_model_module": "@jupyter-widgets/controls",
            "children": [
              "IPY_MODEL_8ae68071f47d4e9a8469e291a6d4fd9b",
              "IPY_MODEL_000491dc40254504a856aebd5e49681d"
            ]
          }
        },
        "d917295177404f82a3ba9b969319b2ce": {
          "model_module": "@jupyter-widgets/base",
          "model_name": "LayoutModel",
          "model_module_version": "1.2.0",
          "state": {
            "_view_name": "LayoutView",
            "grid_template_rows": null,
            "right": null,
            "justify_content": null,
            "_view_module": "@jupyter-widgets/base",
            "overflow": null,
            "_model_module_version": "1.2.0",
            "_view_count": null,
            "flex_flow": null,
            "width": null,
            "min_width": null,
            "border": null,
            "align_items": null,
            "bottom": null,
            "_model_module": "@jupyter-widgets/base",
            "top": null,
            "grid_column": null,
            "overflow_y": null,
            "overflow_x": null,
            "grid_auto_flow": null,
            "grid_area": null,
            "grid_template_columns": null,
            "flex": null,
            "_model_name": "LayoutModel",
            "justify_items": null,
            "grid_row": null,
            "max_height": null,
            "align_content": null,
            "visibility": null,
            "align_self": null,
            "height": null,
            "min_height": null,
            "padding": null,
            "grid_auto_rows": null,
            "grid_gap": null,
            "max_width": null,
            "order": null,
            "_view_module_version": "1.2.0",
            "grid_template_areas": null,
            "object_position": null,
            "object_fit": null,
            "grid_auto_columns": null,
            "margin": null,
            "display": null,
            "left": null
          }
        },
        "8ae68071f47d4e9a8469e291a6d4fd9b": {
          "model_module": "@jupyter-widgets/controls",
          "model_name": "LabelModel",
          "model_module_version": "1.5.0",
          "state": {
            "_view_name": "LabelView",
            "style": "IPY_MODEL_19d4d1b59e9b4e0ba2932318dc8cb481",
            "_dom_classes": [],
            "description": "",
            "_model_name": "LabelModel",
            "placeholder": "​",
            "_view_module": "@jupyter-widgets/controls",
            "_model_module_version": "1.5.0",
            "value": " 21.28MB of 21.28MB uploaded (0.00MB deduped)\r",
            "_view_count": null,
            "_view_module_version": "1.5.0",
            "description_tooltip": null,
            "_model_module": "@jupyter-widgets/controls",
            "layout": "IPY_MODEL_fa90a85837114dc5b25a0a044dbb2451"
          }
        },
        "000491dc40254504a856aebd5e49681d": {
          "model_module": "@jupyter-widgets/controls",
          "model_name": "FloatProgressModel",
          "model_module_version": "1.5.0",
          "state": {
            "_view_name": "ProgressView",
            "style": "IPY_MODEL_b0007b5259db4e4cb98e949972ecfaab",
            "_dom_classes": [],
            "description": "",
            "_model_name": "FloatProgressModel",
            "bar_style": "",
            "max": 1,
            "_view_module": "@jupyter-widgets/controls",
            "_model_module_version": "1.5.0",
            "value": 1,
            "_view_count": null,
            "_view_module_version": "1.5.0",
            "orientation": "horizontal",
            "min": 0,
            "description_tooltip": null,
            "_model_module": "@jupyter-widgets/controls",
            "layout": "IPY_MODEL_70d3127a825645b0a01fd8a107c0947e"
          }
        },
        "19d4d1b59e9b4e0ba2932318dc8cb481": {
          "model_module": "@jupyter-widgets/controls",
          "model_name": "DescriptionStyleModel",
          "model_module_version": "1.5.0",
          "state": {
            "_view_name": "StyleView",
            "_model_name": "DescriptionStyleModel",
            "description_width": "",
            "_view_module": "@jupyter-widgets/base",
            "_model_module_version": "1.5.0",
            "_view_count": null,
            "_view_module_version": "1.2.0",
            "_model_module": "@jupyter-widgets/controls"
          }
        },
        "fa90a85837114dc5b25a0a044dbb2451": {
          "model_module": "@jupyter-widgets/base",
          "model_name": "LayoutModel",
          "model_module_version": "1.2.0",
          "state": {
            "_view_name": "LayoutView",
            "grid_template_rows": null,
            "right": null,
            "justify_content": null,
            "_view_module": "@jupyter-widgets/base",
            "overflow": null,
            "_model_module_version": "1.2.0",
            "_view_count": null,
            "flex_flow": null,
            "width": null,
            "min_width": null,
            "border": null,
            "align_items": null,
            "bottom": null,
            "_model_module": "@jupyter-widgets/base",
            "top": null,
            "grid_column": null,
            "overflow_y": null,
            "overflow_x": null,
            "grid_auto_flow": null,
            "grid_area": null,
            "grid_template_columns": null,
            "flex": null,
            "_model_name": "LayoutModel",
            "justify_items": null,
            "grid_row": null,
            "max_height": null,
            "align_content": null,
            "visibility": null,
            "align_self": null,
            "height": null,
            "min_height": null,
            "padding": null,
            "grid_auto_rows": null,
            "grid_gap": null,
            "max_width": null,
            "order": null,
            "_view_module_version": "1.2.0",
            "grid_template_areas": null,
            "object_position": null,
            "object_fit": null,
            "grid_auto_columns": null,
            "margin": null,
            "display": null,
            "left": null
          }
        },
        "b0007b5259db4e4cb98e949972ecfaab": {
          "model_module": "@jupyter-widgets/controls",
          "model_name": "ProgressStyleModel",
          "model_module_version": "1.5.0",
          "state": {
            "_view_name": "StyleView",
            "_model_name": "ProgressStyleModel",
            "description_width": "",
            "_view_module": "@jupyter-widgets/base",
            "_model_module_version": "1.5.0",
            "_view_count": null,
            "_view_module_version": "1.2.0",
            "bar_color": null,
            "_model_module": "@jupyter-widgets/controls"
          }
        },
        "70d3127a825645b0a01fd8a107c0947e": {
          "model_module": "@jupyter-widgets/base",
          "model_name": "LayoutModel",
          "model_module_version": "1.2.0",
          "state": {
            "_view_name": "LayoutView",
            "grid_template_rows": null,
            "right": null,
            "justify_content": null,
            "_view_module": "@jupyter-widgets/base",
            "overflow": null,
            "_model_module_version": "1.2.0",
            "_view_count": null,
            "flex_flow": null,
            "width": null,
            "min_width": null,
            "border": null,
            "align_items": null,
            "bottom": null,
            "_model_module": "@jupyter-widgets/base",
            "top": null,
            "grid_column": null,
            "overflow_y": null,
            "overflow_x": null,
            "grid_auto_flow": null,
            "grid_area": null,
            "grid_template_columns": null,
            "flex": null,
            "_model_name": "LayoutModel",
            "justify_items": null,
            "grid_row": null,
            "max_height": null,
            "align_content": null,
            "visibility": null,
            "align_self": null,
            "height": null,
            "min_height": null,
            "padding": null,
            "grid_auto_rows": null,
            "grid_gap": null,
            "max_width": null,
            "order": null,
            "_view_module_version": "1.2.0",
            "grid_template_areas": null,
            "object_position": null,
            "object_fit": null,
            "grid_auto_columns": null,
            "margin": null,
            "display": null,
            "left": null
          }
        }
      }
    }
  },
  "cells": [
    {
      "cell_type": "markdown",
      "metadata": {
        "id": "view-in-github",
        "colab_type": "text"
      },
      "source": [
        "<a href=\"https://colab.research.google.com/github/johanjun/Google_Machine_Learning_Bootcamp_KR_2021/blob/main/kaggle/RSNA_MICCAI_BRAIN_TUMOR/rsna_miccai_brain_tumor_johanjun_1015_alldata_gridsearch(pre%2C_aug).ipynb\" target=\"_parent\"><img src=\"https://colab.research.google.com/assets/colab-badge.svg\" alt=\"Open In Colab\"/></a>"
      ]
    },
    {
      "cell_type": "code",
      "metadata": {
        "colab": {
          "base_uri": "https://localhost:8080/"
        },
        "id": "xOUCOQHHYjrI",
        "outputId": "09687a89-8b97-41e2-f436-3ce8e50ac8d4"
      },
      "source": [
        "pip install pydicom"
      ],
      "execution_count": 2,
      "outputs": [
        {
          "output_type": "stream",
          "name": "stdout",
          "text": [
            "Collecting pydicom\n",
            "  Downloading pydicom-2.2.2-py3-none-any.whl (2.0 MB)\n",
            "\u001b[K     |████████████████████████████████| 2.0 MB 5.2 MB/s \n",
            "\u001b[?25hInstalling collected packages: pydicom\n",
            "Successfully installed pydicom-2.2.2\n"
          ]
        }
      ]
    },
    {
      "cell_type": "code",
      "metadata": {
        "_uuid": "8f2839f25d086af736a60e9eeb907d3b93b6e0e5",
        "_cell_guid": "b1076dfc-b9ad-4769-8c92-a6c4dae69d19",
        "execution": {
          "iopub.status.busy": "2021-09-09T08:53:56.762280Z",
          "iopub.execute_input": "2021-09-09T08:53:56.762670Z",
          "iopub.status.idle": "2021-09-09T08:53:56.769176Z",
          "shell.execute_reply.started": "2021-09-09T08:53:56.762636Z",
          "shell.execute_reply": "2021-09-09T08:53:56.768094Z"
        },
        "trusted": true,
        "id": "0l9glKmsSg6D"
      },
      "source": [
        "import numpy as np # linear algebra\n",
        "import pandas as pd # data processing, CSV file I/O (e.g. pd.read_csv)\n",
        "import os\n",
        "from tqdm import tqdm\n",
        "import random\n",
        "import pydicom\n",
        "import cv2\n",
        "import pickle\n",
        "\n",
        "from pydicom.pixel_data_handlers.util import apply_voi_lut\n",
        "\n",
        "window_center = -500\n",
        "\n",
        "import matplotlib.pyplot as plt\n",
        "import glob\n",
        "\n",
        "import tensorflow as tf\n",
        "from tensorflow import keras\n",
        "from tensorflow.keras.utils import to_categorical\n",
        "from sklearn.model_selection import train_test_split"
      ],
      "execution_count": 3,
      "outputs": []
    },
    {
      "cell_type": "code",
      "metadata": {
        "id": "c6wQE57KS99g"
      },
      "source": [
        "data_dir = '/content/drive/MyDrive/Google_Machine_Learning_Bootcamp_KR_2021/RSNA_MICCAI/data/rsna-miccai/'"
      ],
      "execution_count": 4,
      "outputs": []
    },
    {
      "cell_type": "code",
      "metadata": {
        "execution": {
          "iopub.status.busy": "2021-09-09T08:05:05.559632Z",
          "iopub.execute_input": "2021-09-09T08:05:05.560291Z",
          "iopub.status.idle": "2021-09-09T08:05:05.588138Z",
          "shell.execute_reply.started": "2021-09-09T08:05:05.560236Z",
          "shell.execute_reply": "2021-09-09T08:05:05.587076Z"
        },
        "trusted": true,
        "id": "50rg9HSFSg6G"
      },
      "source": [
        "train_df = pd.read_csv(data_dir + \"train_labels.csv\")\n",
        "test_df = pd.read_csv(data_dir + \"sample_submission.csv\")"
      ],
      "execution_count": 5,
      "outputs": []
    },
    {
      "cell_type": "markdown",
      "metadata": {
        "id": "WFR8qocSSg6G"
      },
      "source": [
        "In this discussion a competition host has notified that there are some issues with these 3 cases\n",
        "Patient IDs -\n",
        "\n",
        "1. 00109 (FLAIR images are blank)\n",
        "2. 00123 (T1w images are blank)\n",
        "3. 00709 (FLAIR images are blank)\n",
        "<br><br>Hence these can be excluded"
      ]
    },
    {
      "cell_type": "code",
      "metadata": {
        "execution": {
          "iopub.status.busy": "2021-09-09T08:05:07.655722Z",
          "iopub.execute_input": "2021-09-09T08:05:07.656096Z",
          "iopub.status.idle": "2021-09-09T08:05:07.675143Z",
          "shell.execute_reply.started": "2021-09-09T08:05:07.656067Z",
          "shell.execute_reply": "2021-09-09T08:05:07.673869Z"
        },
        "trusted": true,
        "id": "ZNX625ndSg6I"
      },
      "source": [
        "#refer: https://www.kaggle.com/arnabs007/part-1-rsna-miccai-btrc-understanding-the-data\n",
        "EXCLUDE = [109, 123, 709]\n",
        "train_df = train_df[~train_df.BraTS21ID.isin(EXCLUDE)]"
      ],
      "execution_count": 6,
      "outputs": []
    },
    {
      "cell_type": "code",
      "metadata": {
        "execution": {
          "iopub.status.busy": "2021-09-09T08:05:08.179708Z",
          "iopub.execute_input": "2021-09-09T08:05:08.180276Z",
          "iopub.status.idle": "2021-09-09T08:05:08.184417Z",
          "shell.execute_reply.started": "2021-09-09T08:05:08.180233Z",
          "shell.execute_reply": "2021-09-09T08:05:08.183183Z"
        },
        "trusted": true,
        "id": "MC2xY5WrSg6I"
      },
      "source": [
        "TYPES = [\"FLAIR\", \"T1w\", \"T1wCE\", \"T2w\"] #mpMRI scans"
      ],
      "execution_count": 7,
      "outputs": []
    },
    {
      "cell_type": "code",
      "metadata": {
        "execution": {
          "iopub.status.busy": "2021-09-09T08:05:08.874839Z",
          "iopub.execute_input": "2021-09-09T08:05:08.875202Z",
          "iopub.status.idle": "2021-09-09T08:05:08.880569Z",
          "shell.execute_reply.started": "2021-09-09T08:05:08.875173Z",
          "shell.execute_reply": "2021-09-09T08:05:08.879818Z"
        },
        "trusted": true,
        "id": "OpI5yrzsSg6I"
      },
      "source": [
        "def load_dicom(path, size = 128): #load DICOM files\n",
        "    dicom = pydicom.read_file(path)\n",
        "    s = int(dicom.RescaleSlope)\n",
        "    b = int(dicom.RescaleIntercept)\n",
        "    data = s * dicom.pixel_array + b\n",
        "\n",
        "    dicom.WindowCenter = window_center\n",
        "    dicom.WindowWidth = window_width\n",
        "\n",
        "    data = apply_voi_lut(data, dicom)\n",
        "\n",
        "    data = np.clip(data, window_center - (window_width / 2), window_center + (window_width / 2))\n",
        "\n",
        "    data = dicom.pixel_array #returns a numpy.ndarray containing the pixel data\n",
        "    if np.max(data) != 0:\n",
        "        data = data / np.max(data) #standardizes so that the pixel values are between 0 and 1\n",
        "    data = (data * 255).astype(np.uint8) #rescales to 0 and 255\n",
        "    return cv2.resize(data, (size, size))"
      ],
      "execution_count": 8,
      "outputs": []
    },
    {
      "cell_type": "code",
      "metadata": {
        "execution": {
          "iopub.status.busy": "2021-09-09T08:05:09.466375Z",
          "iopub.execute_input": "2021-09-09T08:05:09.466923Z",
          "iopub.status.idle": "2021-09-09T08:05:09.474187Z",
          "shell.execute_reply.started": "2021-09-09T08:05:09.466888Z",
          "shell.execute_reply": "2021-09-09T08:05:09.473386Z"
        },
        "trusted": true,
        "id": "3nirbxWXSg6J"
      },
      "source": [
        "def get_all_image_paths(BraTS21ID, image_type, folder=\"train\"): #get an array of all the images of a particular type or a particular patient id\n",
        "    assert(image_type in TYPES) #only in types\n",
        "    patient_path = os.path.join(data_dir + \"%s/\" % folder, str(BraTS21ID).zfill(5)) #다른 폴더일 수도 있음\n",
        "    #print(lambda x: int(x[:-4].split(\"-\")[-1]))\n",
        "    \n",
        "    paths = sorted(glob.glob(os.path.join(patient_path, image_type, \"*\")), key=lambda x: int(x[:-4].split(\"-\")[-1])) #sort\n",
        "    #print(paths)\n",
        "    \n",
        "    num_images = len(paths)\n",
        "    \n",
        "    start = int(num_images * 0.25)\n",
        "    end = int(num_images * 0.75)\n",
        "    if num_images < 10:\n",
        "        jump = 1\n",
        "    else:\n",
        "        jump = 3\n",
        "        \n",
        "    return np.array(paths[start:end:jump])"
      ],
      "execution_count": 9,
      "outputs": []
    },
    {
      "cell_type": "code",
      "metadata": {
        "execution": {
          "iopub.status.busy": "2021-09-09T08:05:09.961756Z",
          "iopub.execute_input": "2021-09-09T08:05:09.962152Z",
          "iopub.status.idle": "2021-09-09T08:05:09.966979Z",
          "shell.execute_reply.started": "2021-09-09T08:05:09.962116Z",
          "shell.execute_reply": "2021-09-09T08:05:09.966011Z"
        },
        "trusted": true,
        "id": "oWZMpAyBSg6K"
      },
      "source": [
        "def get_all_images(BraTS21ID, image_type, folder=\"train\", size=225):\n",
        "    return [load_dicom(path, size) for path in get_all_image_paths(BraTS21ID, image_type, folder)]"
      ],
      "execution_count": 10,
      "outputs": []
    },
    {
      "cell_type": "code",
      "metadata": {
        "execution": {
          "iopub.status.busy": "2021-09-09T08:05:10.416138Z",
          "iopub.execute_input": "2021-09-09T08:05:10.416626Z",
          "iopub.status.idle": "2021-09-09T08:05:10.425527Z",
          "shell.execute_reply.started": "2021-09-09T08:05:10.416595Z",
          "shell.execute_reply": "2021-09-09T08:05:10.424744Z"
        },
        "trusted": true,
        "id": "5DDIDg9dSg6L"
      },
      "source": [
        "def get_all_data_train(image_type):\n",
        "    global train_df\n",
        "    \n",
        "    X = []\n",
        "    y = []\n",
        "    train_ids = []\n",
        "\n",
        "    for i in tqdm(train_df.index):\n",
        "        tmp_x = train_df.loc[i]\n",
        "        images = get_all_images(int(tmp_x[\"BraTS21ID\"]), image_type, \"train\", IMAGE_SIZE)\n",
        "        label = tmp_x[\"MGMT_value\"]\n",
        "\n",
        "        X += images\n",
        "        y += [label] * len(images)\n",
        "        train_ids += [int(tmp_x[\"BraTS21ID\"])] * len(images)\n",
        "        assert(len(X) == len(y))\n",
        "    return np.array(X), np.array(y), np.array(train_ids)\n",
        "\n",
        "def get_all_data_test(image_type):\n",
        "    global test_df\n",
        "    \n",
        "    X = []\n",
        "    test_ids = []\n",
        "\n",
        "    for i in tqdm(test_df.index):\n",
        "        tmp_x = test_df.loc[i]\n",
        "        images = get_all_images(int(tmp_x[\"BraTS21ID\"]), image_type, \"test\", IMAGE_SIZE)\n",
        "        X += images\n",
        "        test_ids += [int(tmp_x[\"BraTS21ID\"])] * len(images)\n",
        "\n",
        "    return np.array(X), np.array(test_ids)"
      ],
      "execution_count": 11,
      "outputs": []
    },
    {
      "cell_type": "code",
      "metadata": {
        "id": "-RL-sFlmMhMF"
      },
      "source": [
        "#pickling\n",
        "with open(data_dir+'X_T1wCE.pkl', 'rb') as f:\n",
        "  X_T1wCE = pickle.load(f)\n",
        "\n",
        "with open(data_dir+'y_T1wCE.pkl', 'rb') as f:\n",
        "  y_T1wCE = pickle.load(f)\n",
        "\n",
        "with open(data_dir+'train_idt_T1wCE.pkl', 'rb') as f:\n",
        "  train_idt_T1wCE = pickle.load(f)\n",
        "\n",
        "with open(data_dir+'X_test_T1wCE.pkl', 'rb') as f:\n",
        "  X_test_T1wCE = pickle.load(f)\n",
        "\n",
        "with open(data_dir+'test_idt_T1wCE.pkl', 'rb') as f:\n",
        "  test_idt_T1wCE = pickle.load(f)\n",
        "#pickling\n",
        "with open(data_dir+'X_FLAIR.pkl', 'rb') as f:\n",
        "  X_FLAIR = pickle.load(f)\n",
        "\n",
        "with open(data_dir+'y_FLAIR.pkl', 'rb') as f:\n",
        "  y_FLAIR = pickle.load(f)\n",
        "\n",
        "with open(data_dir+'train_idt_FLAIR.pkl', 'rb') as f:\n",
        "  train_idt_FLAIR = pickle.load(f)\n",
        "\n",
        "with open(data_dir+'X_test_FLAIR.pkl', 'rb') as f:\n",
        "  X_test_FLAIR = pickle.load(f)\n",
        "\n",
        "with open(data_dir+'test_idt_FLAIR.pkl', 'rb') as f:\n",
        "  test_idt_FLAIR = pickle.load(f)\n",
        "#pickling\n",
        "with open(data_dir+'X_T2w.pkl', 'rb') as f:\n",
        "  X_T2w = pickle.load(f)\n",
        "\n",
        "with open(data_dir+'y_T2w.pkl', 'rb') as f:\n",
        "  y_T2w = pickle.load(f)\n",
        "\n",
        "with open(data_dir+'train_idt_T2w.pkl', 'rb') as f:\n",
        "  train_idt_T2w = pickle.load(f)\n",
        "\n",
        "with open(data_dir+'X_test_T2w.pkl', 'rb') as f:\n",
        "  X_test_T2w = pickle.load(f)\n",
        "\n",
        "with open(data_dir+'test_idt_T2w.pkl', 'rb') as f:\n",
        "  test_idt_T2w = pickle.load(f)\n",
        "#pickling\n",
        "with open(data_dir+'X_T1w.pkl', 'rb') as f:\n",
        "  X_T1w = pickle.load(f)\n",
        "\n",
        "with open(data_dir+'y_T1w.pkl', 'rb') as f:\n",
        "  y_T1w = pickle.load(f)\n",
        "\n",
        "with open(data_dir+'train_idt_T1w.pkl', 'rb') as f:\n",
        "  train_idt_T1w = pickle.load(f)\n",
        "\n",
        "with open(data_dir+'X_test_T1w.pkl', 'rb') as f:\n",
        "  X_test_T1w = pickle.load(f)\n",
        "\n",
        "with open(data_dir+'test_idt_T1w.pkl', 'rb') as f:\n",
        "  test_idt_T1w = pickle.load(f)"
      ],
      "execution_count": 12,
      "outputs": []
    },
    {
      "cell_type": "code",
      "metadata": {
        "id": "_xguSRrQbg5D"
      },
      "source": [
        "X = np.concatenate([X_T1wCE, X_T2w, X_T1w, X_FLAIR], axis=0)\n",
        "y = np.concatenate([y_T1wCE, y_T2w, y_T1w, y_FLAIR], axis=0)\n",
        "train_idt = np.concatenate([train_idt_T1wCE, train_idt_T2w, train_idt_T1w, train_idt_FLAIR], axis=0)\n",
        "\n",
        "X_test = np.concatenate([X_test_FLAIR, X_test_T1wCE, X_test_T2w, X_test_T1w], axis=0)\n",
        "test_idt = np.concatenate([test_idt_FLAIR, test_idt_T1wCE, test_idt_T2w, test_idt_T1w], axis=0)"
      ],
      "execution_count": 13,
      "outputs": []
    },
    {
      "cell_type": "code",
      "metadata": {
        "id": "0razEWhDNeyL"
      },
      "source": [
        "from tensorflow.keras import layers\n",
        "\n",
        "data_augmentation = tf.keras.Sequential([\n",
        "  layers.experimental.preprocessing.RandomFlip(\"horizontal_and_vertical\"),\n",
        "  layers.experimental.preprocessing.RandomRotation(0.2),\n",
        "])"
      ],
      "execution_count": 14,
      "outputs": []
    },
    {
      "cell_type": "code",
      "metadata": {
        "id": "mZBMHu96NVl2"
      },
      "source": [
        "X_train, X_valid, y_train, y_valid, train_idt_train, train_idt_valid = train_test_split(X, y, train_idt, test_size=0.1, random_state=42)\n",
        "\n",
        "X_train_exp = tf.expand_dims(X_train, -1)\n",
        "augmented_image = data_augmentation(X_train_exp)\n",
        "X_train_sq = tf.squeeze(augmented_image)\n",
        "\n",
        "X_train = np.concatenate([X_train, X_train_sq], axis=0)\n",
        "y_train = np.concatenate([y_train, y_train], axis=0)\n",
        "\n",
        "train_idt_train = np.concatenate([train_idt_train, train_idt_train], axis=0)"
      ],
      "execution_count": 21,
      "outputs": []
    },
    {
      "cell_type": "code",
      "metadata": {
        "execution": {
          "iopub.status.busy": "2021-09-09T08:09:44.993484Z",
          "iopub.execute_input": "2021-09-09T08:09:44.993888Z",
          "iopub.status.idle": "2021-09-09T08:09:45.172717Z",
          "shell.execute_reply.started": "2021-09-09T08:09:44.993853Z",
          "shell.execute_reply": "2021-09-09T08:09:45.171572Z"
        },
        "trusted": true,
        "id": "bej50ftOSg6N"
      },
      "source": [
        "X_train = tf.expand_dims(X_train, axis=-1) #expand the dimension at the end of the array\n",
        "X_valid = tf.expand_dims(X_valid, axis=-1)\n",
        "X_test = tf.expand_dims(X_test, axis=-1)\n",
        "\n",
        "y_train = to_categorical(y_train) #one-hot incoding\n",
        "y_valid = to_categorical(y_valid)"
      ],
      "execution_count": 22,
      "outputs": []
    },
    {
      "cell_type": "code",
      "metadata": {
        "execution": {
          "iopub.status.busy": "2021-09-09T08:09:46.085374Z",
          "iopub.execute_input": "2021-09-09T08:09:46.085773Z",
          "iopub.status.idle": "2021-09-09T08:09:46.093809Z",
          "shell.execute_reply.started": "2021-09-09T08:09:46.085717Z",
          "shell.execute_reply": "2021-09-09T08:09:46.092398Z"
        },
        "trusted": true,
        "id": "RQr6CiokSg6N",
        "colab": {
          "base_uri": "https://localhost:8080/"
        },
        "outputId": "ecc5ade8-367c-4246-e0da-966de5a27792"
      },
      "source": [
        "X_train.shape, y_train.shape, X_valid.shape, y_valid.shape, train_idt_train.shape, train_idt_valid.shape"
      ],
      "execution_count": 23,
      "outputs": [
        {
          "output_type": "execute_result",
          "data": {
            "text/plain": [
              "(TensorShape([105256, 128, 128, 1]),\n",
              " (105256, 2),\n",
              " TensorShape([5848, 128, 128, 1]),\n",
              " (5848, 2),\n",
              " (105256,),\n",
              " (5848,))"
            ]
          },
          "metadata": {},
          "execution_count": 23
        }
      ]
    },
    {
      "cell_type": "code",
      "metadata": {
        "id": "EXvtRCywarfY"
      },
      "source": [
        "X2 = np.concatenate([X_FLAIR, X_T2w, X_T1w, X_T1wCE], axis=0)\n",
        "y2 = np.concatenate([y_FLAIR, y_T2w, y_T1w, y_T1wCE], axis=0)\n",
        "train_idt2 = np.concatenate([train_idt_FLAIR, train_idt_T2w, train_idt_T1w, train_idt_T1wCE], axis=0)"
      ],
      "execution_count": 24,
      "outputs": []
    },
    {
      "cell_type": "code",
      "metadata": {
        "id": "kweY7jJCbK9o"
      },
      "source": [
        "X_train2, X_valid2, y_train2, y_valid2, train_idt_train2, train_idt_valid2 = train_test_split(X2, y2, train_idt2, test_size=0.05)"
      ],
      "execution_count": 25,
      "outputs": []
    },
    {
      "cell_type": "code",
      "metadata": {
        "id": "x6Sos8Jlb6bT"
      },
      "source": [
        "X_train2 = np.expand_dims(X_train2, axis=-1) \n",
        "X_valid2 = np.expand_dims(X_valid2, axis=-1)\n",
        "\n",
        "y_train2 = to_categorical(y_train2) \n",
        "y_valid2 = to_categorical(y_valid2)"
      ],
      "execution_count": 26,
      "outputs": []
    },
    {
      "cell_type": "code",
      "metadata": {
        "execution": {
          "iopub.status.busy": "2021-09-09T08:13:38.917128Z",
          "iopub.execute_input": "2021-09-09T08:13:38.917572Z",
          "iopub.status.idle": "2021-09-09T08:13:38.930258Z",
          "shell.execute_reply.started": "2021-09-09T08:13:38.917535Z",
          "shell.execute_reply": "2021-09-09T08:13:38.929014Z"
        },
        "trusted": true,
        "id": "gpuY_HLMSg6N"
      },
      "source": [
        "# %load train_lib.py\n",
        "\n",
        "def train():\n",
        "    import wandb\n",
        "    config_defaults = {\n",
        "        # 'N_EPOCHS' : 15,\n",
        "        'N_BATCH' : 32,\n",
        "        'DENSE' : 128,\n",
        "        'DROUPOUT' : 0.1\n",
        "    }\n",
        "    wandb.init(project='RSNA_1015_alldata_augmented',\n",
        "               config=config_defaults,\n",
        "               magic=True)\n",
        "\n",
        "    config = wandb.config\n",
        "    \n",
        "\n",
        "    IMAGE_SIZE = 128\n",
        "    N_EPOCHS = 40\n",
        "    N_BATCH = config.N_BATCH\n",
        "    # N_BATCH = 32\n",
        "    N_TRAIN = X_train.shape[0]\n",
        "    N_VAL = X_valid.shape[0]\n",
        "    steps_per_epoch = N_TRAIN / N_BATCH\n",
        "    validation_steps = int(np.ceil(N_VAL / N_BATCH))\n",
        "\n",
        "    def create_model():\n",
        "      model = tf.keras.Sequential()\n",
        "      model.add(tf.keras.layers.Conv2D(filters=32, kernel_size=3, activation='relu', padding='VALID', \n",
        "                                    input_shape=(IMAGE_SIZE, IMAGE_SIZE, 1)))\n",
        "      model.add(tf.keras.layers.BatchNormalization())\n",
        "      model.add(tf.keras.layers.MaxPool2D(padding='SAME'))\n",
        "      \n",
        "      model.add(tf.keras.layers.Conv2D(filters=64, kernel_size=3, activation='relu', padding='SAME'))\n",
        "      model.add(tf.keras.layers.BatchNormalization())\n",
        "      model.add(tf.keras.layers.MaxPool2D(padding='SAME'))\n",
        "\n",
        "      model.add(tf.keras.layers.Conv2D(filters=64, kernel_size=3, activation='relu', padding='SAME'))\n",
        "      model.add(tf.keras.layers.BatchNormalization())\n",
        "      model.add(tf.keras.layers.MaxPool2D(padding='SAME'))\n",
        "\n",
        "      model.add(tf.keras.layers.Conv2D(filters=128, kernel_size=3, activation='relu', padding='VALID'))\n",
        "      model.add(tf.keras.layers.BatchNormalization())\n",
        "      model.add(tf.keras.layers.MaxPool2D(padding='SAME'))\n",
        "      \n",
        "\n",
        "      model.add(tf.keras.layers.Conv2D(filters=128, kernel_size=3, activation='relu', padding='SAME'))\n",
        "      model.add(tf.keras.layers.BatchNormalization())\n",
        "      model.add(tf.keras.layers.MaxPool2D(padding='SAME'))\n",
        "      model.add(tf.keras.layers.Dropout(config.DROPOUT))\n",
        "\n",
        "      model.add(tf.keras.layers.Flatten())\n",
        "      model.add(tf.keras.layers.Dense(config.DENSE, activation='relu'))\n",
        "      model.add(tf.keras.layers.Dense(2, activation='softmax'))\n",
        "      return model\n",
        "    \n",
        "    model = create_model()\n",
        "    \n",
        "\n",
        "    model.compile(optimizer=tf.keras.optimizers.Adam(learning_rate=0.001),\n",
        "              loss='categorical_crossentropy',\n",
        "              metrics=[tf.keras.metrics.AUC()])\n",
        "    \n",
        "    model.fit(\n",
        "    x=X_train,\n",
        "    y=y_train,\n",
        "    epochs=N_EPOCHS,\n",
        "    steps_per_epoch=steps_per_epoch,\n",
        "    validation_data=(X_valid2, y_valid2))"
      ],
      "execution_count": 27,
      "outputs": []
    },
    {
      "cell_type": "code",
      "metadata": {
        "id": "I7oJw_zY3hvE"
      },
      "source": [
        "sweep_config = {\n",
        "    'method': 'grid',\n",
        "    'parameters': {\n",
        "        # 'N_EPOCHS': {\n",
        "        #     'values': [40, 65, 90, 150]\n",
        "        # },\n",
        "        'N_BATCH': {\n",
        "            'values': [32, 128]\n",
        "        },\n",
        "        'DENSE': {\n",
        "            'values': [128, 512]\n",
        "        },\n",
        "        'DROPOUT': {\n",
        "            'values': [0.1, 0.4]\n",
        "        },\n",
        "    }\n",
        "}"
      ],
      "execution_count": 28,
      "outputs": []
    },
    {
      "cell_type": "code",
      "metadata": {
        "id": "Q29cSDmCZW5Z",
        "colab": {
          "base_uri": "https://localhost:8080/"
        },
        "outputId": "e901ff09-58a2-440c-ae1c-a4c0d3099c03"
      },
      "source": [
        "%pip install -q wandb"
      ],
      "execution_count": 29,
      "outputs": [
        {
          "output_type": "stream",
          "name": "stdout",
          "text": [
            "\u001b[K     |████████████████████████████████| 1.7 MB 6.6 MB/s \n",
            "\u001b[K     |████████████████████████████████| 180 kB 52.6 MB/s \n",
            "\u001b[K     |████████████████████████████████| 139 kB 83.7 MB/s \n",
            "\u001b[K     |████████████████████████████████| 97 kB 7.2 MB/s \n",
            "\u001b[K     |████████████████████████████████| 63 kB 2.0 MB/s \n",
            "\u001b[?25h  Building wheel for subprocess32 (setup.py) ... \u001b[?25l\u001b[?25hdone\n",
            "  Building wheel for pathtools (setup.py) ... \u001b[?25l\u001b[?25hdone\n"
          ]
        }
      ]
    },
    {
      "cell_type": "code",
      "metadata": {
        "colab": {
          "base_uri": "https://localhost:8080/"
        },
        "id": "ARtbKPVk3-Rq",
        "outputId": "0e17018a-b93a-431f-c53d-2b6a072d04ce"
      },
      "source": [
        "!wandb login"
      ],
      "execution_count": 30,
      "outputs": [
        {
          "output_type": "stream",
          "name": "stdout",
          "text": [
            "\u001b[34m\u001b[1mwandb\u001b[0m: You can find your API key in your browser here: https://wandb.ai/authorize\n",
            "\u001b[34m\u001b[1mwandb\u001b[0m: Paste an API key from your profile and hit enter: \n",
            "\u001b[34m\u001b[1mwandb\u001b[0m: Appending key for api.wandb.ai to your netrc file: /root/.netrc\n"
          ]
        }
      ]
    },
    {
      "cell_type": "code",
      "metadata": {
        "colab": {
          "base_uri": "https://localhost:8080/"
        },
        "id": "z0PelaN24fFC",
        "outputId": "3367e810-4335-41da-ea26-aa741369b2ef"
      },
      "source": [
        "import wandb\n",
        "sweep_id = wandb.sweep(sweep_config, project='RSNA_1015_alldata_augmented')"
      ],
      "execution_count": 32,
      "outputs": [
        {
          "output_type": "stream",
          "name": "stdout",
          "text": [
            "Create sweep with ID: 04x235h9\n",
            "Sweep URL: https://wandb.ai/johanjunme/RSNA_1015_alldata_augmented/sweeps/04x235h9\n"
          ]
        }
      ]
    },
    {
      "cell_type": "code",
      "metadata": {
        "colab": {
          "base_uri": "https://localhost:8080/",
          "height": 1000,
          "referenced_widgets": [
            "5b9b2dbd0dfe4a3aa21da75c11a2e0a5",
            "575f44da42c9472cb70b43905e3aceb5",
            "69c34207298d4dac822ee1df4b0ccc05",
            "e727086e49174708a87af47b13d41fce",
            "065b8f6f267a4644842badb9cfe67b91",
            "9e381f54c13848f5bf91d5b74a7a23b7",
            "e3df17171d0348d4ba6096a0aa0f5486",
            "39535b2b1bd14d29afa3082a720151cf",
            "3c5843eeef154845b128f1a44d4b6518",
            "9b3914ca470149ecb12d2732f29ec515",
            "5f9e29b86c8841b082fff66765eaa330",
            "1fa08c66fc2a431b9648829abe36c1e9",
            "9da54b3fd7ab428da02c3e5999565fb6",
            "6cdfca85db1d4073beb62c8955cccd3d",
            "b4bf5106683f4f2fbe4da037ecaacaea",
            "201c8b245fe24124921f2a76adaace56",
            "574c61737d7e4d2f97b0d399ee547239",
            "64063268ce5d4dfa8b7089a863853b7d",
            "65901f53cafc45fd98568e5d3588ca8a",
            "bc0c16abb7a44d86a6653c009b982a14",
            "614195f703f24adcb9327cc2e66304fe",
            "47b96a39c6f54b3b88f673df57e5d23f",
            "18853d8834aa4cee8aa0157ef834b327",
            "8b4c1aec1b944f04ad66bfa34bd78d70",
            "889b83d2b0954b968fb7f939cf987e24",
            "c7c94620091249eb99837840d671d3f9",
            "7348bdcb520545d28d99e0d2c8f24fb4",
            "e4e64e7563564aed938fe823541488de",
            "59d50f280e4b41bebfbe915b404ab816",
            "0af52926e5ff4e1eb4c3c010953bd09f",
            "ae6a5666d061490d8aa07907c7c061be",
            "73f02b7382284369951a435dca72b7b9",
            "e29e5b2c04054ca4b3fd3fdb5c994877",
            "8cfa45ea85054b529e38d7cf0236c061",
            "240c76f2694e48f6b427f2c24082001a",
            "9292cb3d5200430eba90e894969dbc2b",
            "609fe697799a43d2895d2a15f16de088",
            "6091b3d9e63043c5955eb1d002b7cb24",
            "6b0a87d449b041b29368205ea67d114e",
            "fa85f43f0f5440e7ab193afe9c60bceb",
            "c3854ac07a7443b68c3d70f5cf1e7147",
            "75dccfdc545f45718f7fc9c84981b404",
            "a73e95e889b84074a9eba860035b6a66",
            "2cc9bb01e16c4c7d9fe0c0a289af1cb3",
            "73c4054ee43b4a3a8f0849b7dfaeef4b",
            "ec841192e088442a8bbe528cebc6ea13",
            "46463f5d144d43aab1c4471001041152",
            "ddc9d42f294c4c0a9a59e5de56c27900",
            "e014d7bfabab4028b4ff21b12ab3348b",
            "3d53b403cfd1493e99d1725a7b2a41dc",
            "ff1c5704cdb0480b9157c3a4aa158150",
            "7643a1a09b7447f59b8888ad13a4fc86",
            "d0ee21c58e094757b628c444bb926743",
            "ecfaf62e236649baaa8cae29e3433ea9",
            "541df959b1434ed8903c9a0918fbd330",
            "161949aa47814d3e8ba8fd13c7a5992d",
            "65ea1b456bd34cf0ab4745cf36493df8",
            "048a5e2cadc049f1a9216e63ba79a904",
            "a5a5702f88e74d29b25685844a8fa52f",
            "6d9b29978230460491a428e722ba4fc4",
            "d35e8f03f9a344d6a2645ed39d4c3084",
            "978619340d1f410c82eab2d5ab5247c5",
            "7e2d97821a0643db8bcfe91a7066125b",
            "7451e7bd548f477da4ed4b4fbe6d3bc4",
            "ba26866e14d4409ab4dc9dcc4ca80e54",
            "d917295177404f82a3ba9b969319b2ce",
            "8ae68071f47d4e9a8469e291a6d4fd9b",
            "000491dc40254504a856aebd5e49681d",
            "19d4d1b59e9b4e0ba2932318dc8cb481",
            "fa90a85837114dc5b25a0a044dbb2451",
            "b0007b5259db4e4cb98e949972ecfaab",
            "70d3127a825645b0a01fd8a107c0947e"
          ]
        },
        "id": "hZEtOZmR4hwQ",
        "outputId": "bbb3d1af-e3aa-4e5f-e085-a10fba6484a9"
      },
      "source": [
        "wandb.agent(sweep_id, function=train)"
      ],
      "execution_count": 33,
      "outputs": [
        {
          "output_type": "stream",
          "name": "stderr",
          "text": [
            "\u001b[34m\u001b[1mwandb\u001b[0m: Agent Starting Run: hun4cv8m with config:\n",
            "\u001b[34m\u001b[1mwandb\u001b[0m: \tDENSE: 128\n",
            "\u001b[34m\u001b[1mwandb\u001b[0m: \tDROPOUT: 0.1\n",
            "\u001b[34m\u001b[1mwandb\u001b[0m: \tN_BATCH: 32\n",
            "\u001b[34m\u001b[1mwandb\u001b[0m: Currently logged in as: \u001b[33mjohanjunme\u001b[0m (use `wandb login --relogin` to force relogin)\n",
            "\u001b[34m\u001b[1mwandb\u001b[0m: \u001b[33mWARNING\u001b[0m Ignored wandb.init() arg project when running a sweep\n"
          ]
        },
        {
          "output_type": "display_data",
          "data": {
            "text/html": [
              "\n",
              "                    Syncing run <strong><a href=\"https://wandb.ai/johanjunme/RSNA_1015_alldata_augmented/runs/hun4cv8m\" target=\"_blank\">fragrant-sweep-1</a></strong> to <a href=\"https://wandb.ai/johanjunme/RSNA_1015_alldata_augmented\" target=\"_blank\">Weights & Biases</a> (<a href=\"https://docs.wandb.com/integrations/jupyter.html\" target=\"_blank\">docs</a>).<br/>\n",
              "Sweep page: <a href=\"https://wandb.ai/johanjunme/RSNA_1015_alldata_augmented/sweeps/04x235h9\" target=\"_blank\">https://wandb.ai/johanjunme/RSNA_1015_alldata_augmented/sweeps/04x235h9</a><br/>\n",
              "\n",
              "                "
            ],
            "text/plain": [
              "<IPython.core.display.HTML object>"
            ]
          },
          "metadata": {}
        },
        {
          "output_type": "stream",
          "name": "stderr",
          "text": [
            "\u001b[34m\u001b[1mwandb\u001b[0m: \u001b[33mWARNING\u001b[0m Ignored wandb.init() arg project when running a sweep\n"
          ]
        },
        {
          "output_type": "display_data",
          "data": {
            "text/html": [
              "Finishing last run (ID:hun4cv8m) before initializing another..."
            ],
            "text/plain": [
              "<IPython.core.display.HTML object>"
            ]
          },
          "metadata": {}
        },
        {
          "output_type": "display_data",
          "data": {
            "text/html": [
              "<br/>Waiting for W&B process to finish, PID 419... <strong style=\"color:green\">(success).</strong>"
            ],
            "text/plain": [
              "<IPython.core.display.HTML object>"
            ]
          },
          "metadata": {}
        },
        {
          "output_type": "display_data",
          "data": {
            "application/vnd.jupyter.widget-view+json": {
              "model_id": "5b9b2dbd0dfe4a3aa21da75c11a2e0a5",
              "version_minor": 0,
              "version_major": 2
            },
            "text/plain": [
              "VBox(children=(Label(value=' 0.00MB of 0.00MB uploaded (0.00MB deduped)\\r'), FloatProgress(value=1.0, max=1.0)…"
            ]
          },
          "metadata": {}
        },
        {
          "output_type": "display_data",
          "data": {
            "text/html": [
              "<style>\n",
              "    table.wandb td:nth-child(1) { padding: 0 10px; text-align: right }\n",
              "    .wandb-row { display: flex; flex-direction: row; flex-wrap: wrap; width: 100% }\n",
              "    .wandb-col { display: flex; flex-direction: column; flex-basis: 100%; flex: 1; padding: 10px; }\n",
              "    </style>\n",
              "<div class=\"wandb-row\"><div class=\"wandb-col\">\n",
              "</div><div class=\"wandb-col\">\n",
              "</div></div>\n",
              "Synced 5 W&B file(s), 0 media file(s), 0 artifact file(s) and 0 other file(s)\n",
              "<br/>Synced <strong style=\"color:#cdcd00\">fragrant-sweep-1</strong>: <a href=\"https://wandb.ai/johanjunme/RSNA_1015_alldata_augmented/runs/hun4cv8m\" target=\"_blank\">https://wandb.ai/johanjunme/RSNA_1015_alldata_augmented/runs/hun4cv8m</a><br/>\n",
              "Find logs at: <code>./wandb/run-20211015_074937-hun4cv8m/logs</code><br/>\n"
            ],
            "text/plain": [
              "<IPython.core.display.HTML object>"
            ]
          },
          "metadata": {}
        },
        {
          "output_type": "display_data",
          "data": {
            "text/html": [
              "Successfully finished last run (ID:hun4cv8m). Initializing new run:<br/>"
            ],
            "text/plain": [
              "<IPython.core.display.HTML object>"
            ]
          },
          "metadata": {}
        },
        {
          "output_type": "display_data",
          "data": {
            "text/html": [
              "\n",
              "                    Syncing run <strong><a href=\"https://wandb.ai/johanjunme/RSNA_1015_alldata_augmented/runs/hun4cv8m\" target=\"_blank\">fragrant-sweep-1</a></strong> to <a href=\"https://wandb.ai/johanjunme/RSNA_1015_alldata_augmented\" target=\"_blank\">Weights & Biases</a> (<a href=\"https://docs.wandb.com/integrations/jupyter.html\" target=\"_blank\">docs</a>).<br/>\n",
              "Sweep page: <a href=\"https://wandb.ai/johanjunme/RSNA_1015_alldata_augmented/sweeps/04x235h9\" target=\"_blank\">https://wandb.ai/johanjunme/RSNA_1015_alldata_augmented/sweeps/04x235h9</a><br/>\n",
              "\n",
              "                "
            ],
            "text/plain": [
              "<IPython.core.display.HTML object>"
            ]
          },
          "metadata": {}
        },
        {
          "output_type": "stream",
          "name": "stdout",
          "text": [
            "Epoch 1/40\n",
            "   3/3289 [..............................] - ETA: 11:02 - loss: 3.2377 - auc: 0.5069WARNING:tensorflow:Callback method `on_train_batch_begin` is slow compared to the batch time (batch time: 0.0081s vs `on_train_batch_begin` time: 0.0387s). Check your callbacks.\n",
            "WARNING:tensorflow:Callback method `on_train_batch_end` is slow compared to the batch time (batch time: 0.0081s vs `on_train_batch_end` time: 0.0289s). Check your callbacks.\n",
            "3289/3289 [==============================] - 62s 14ms/step - loss: 0.6833 - auc: 0.6015 - val_loss: 0.6692 - val_auc: 0.6284\n",
            "Epoch 2/40\n",
            "3289/3289 [==============================] - 45s 14ms/step - loss: 0.6711 - auc: 0.6184 - val_loss: 0.6536 - val_auc: 0.6544\n",
            "Epoch 3/40\n",
            "3289/3289 [==============================] - 45s 14ms/step - loss: 0.6595 - auc: 0.6402 - val_loss: 0.6353 - val_auc: 0.6847\n",
            "Epoch 4/40\n",
            "3289/3289 [==============================] - 45s 14ms/step - loss: 0.6355 - auc: 0.6752 - val_loss: 0.5752 - val_auc: 0.7498\n",
            "Epoch 5/40\n",
            "3289/3289 [==============================] - 44s 14ms/step - loss: 0.6047 - auc: 0.7136 - val_loss: 0.4947 - val_auc: 0.8332\n",
            "Epoch 6/40\n",
            "3289/3289 [==============================] - 45s 14ms/step - loss: 0.5743 - auc: 0.7479 - val_loss: 0.4455 - val_auc: 0.8754\n",
            "Epoch 7/40\n",
            "3289/3289 [==============================] - 45s 14ms/step - loss: 0.5461 - auc: 0.7774 - val_loss: 0.4129 - val_auc: 0.8888\n",
            "Epoch 8/40\n",
            "3289/3289 [==============================] - 45s 14ms/step - loss: 0.5148 - auc: 0.8068 - val_loss: 0.4106 - val_auc: 0.8856\n",
            "Epoch 9/40\n",
            "3289/3289 [==============================] - 44s 14ms/step - loss: 0.4894 - auc: 0.8295 - val_loss: 0.3241 - val_auc: 0.9354\n",
            "Epoch 10/40\n",
            "3289/3289 [==============================] - 44s 14ms/step - loss: 0.4615 - auc: 0.8502 - val_loss: 0.3020 - val_auc: 0.9430\n",
            "Epoch 11/40\n",
            "3289/3289 [==============================] - 44s 13ms/step - loss: 0.4336 - auc: 0.8699 - val_loss: 0.2738 - val_auc: 0.9549\n",
            "Epoch 12/40\n",
            "3289/3289 [==============================] - 44s 14ms/step - loss: 0.4084 - auc: 0.8868 - val_loss: 0.2456 - val_auc: 0.9654\n",
            "Epoch 13/40\n",
            "3289/3289 [==============================] - 44s 14ms/step - loss: 0.3819 - auc: 0.9025 - val_loss: 0.2150 - val_auc: 0.9721\n",
            "Epoch 14/40\n",
            "3289/3289 [==============================] - 44s 13ms/step - loss: 0.3608 - auc: 0.9140 - val_loss: 0.1965 - val_auc: 0.9777\n",
            "Epoch 15/40\n",
            "3289/3289 [==============================] - 44s 14ms/step - loss: 0.3393 - auc: 0.9248 - val_loss: 0.1712 - val_auc: 0.9838\n",
            "Epoch 16/40\n",
            "3289/3289 [==============================] - 44s 14ms/step - loss: 0.3190 - auc: 0.9343 - val_loss: 0.1749 - val_auc: 0.9823\n",
            "Epoch 17/40\n",
            "3289/3289 [==============================] - 45s 14ms/step - loss: 0.3004 - auc: 0.9424 - val_loss: 0.1619 - val_auc: 0.9846\n",
            "Epoch 18/40\n",
            "3289/3289 [==============================] - 44s 13ms/step - loss: 0.2828 - auc: 0.9494 - val_loss: 0.1433 - val_auc: 0.9869\n",
            "Epoch 19/40\n",
            "3289/3289 [==============================] - 44s 13ms/step - loss: 0.2657 - auc: 0.9555 - val_loss: 0.1573 - val_auc: 0.9840\n",
            "Epoch 20/40\n",
            "3289/3289 [==============================] - 44s 13ms/step - loss: 0.2511 - auc: 0.9606 - val_loss: 0.1389 - val_auc: 0.9876\n",
            "Epoch 21/40\n",
            "3289/3289 [==============================] - 44s 13ms/step - loss: 0.2386 - auc: 0.9646 - val_loss: 0.1406 - val_auc: 0.9870\n",
            "Epoch 22/40\n",
            "3289/3289 [==============================] - 44s 13ms/step - loss: 0.2250 - auc: 0.9686 - val_loss: 0.1285 - val_auc: 0.9893\n",
            "Epoch 23/40\n",
            "3289/3289 [==============================] - 44s 14ms/step - loss: 0.2145 - auc: 0.9716 - val_loss: 0.1119 - val_auc: 0.9916\n",
            "Epoch 24/40\n",
            "3289/3289 [==============================] - 45s 14ms/step - loss: 0.2032 - auc: 0.9746 - val_loss: 0.1303 - val_auc: 0.9890\n",
            "Epoch 25/40\n",
            "3289/3289 [==============================] - 44s 13ms/step - loss: 0.1926 - auc: 0.9772 - val_loss: 0.1067 - val_auc: 0.9913\n",
            "Epoch 26/40\n",
            "3289/3289 [==============================] - 44s 13ms/step - loss: 0.1798 - auc: 0.9801 - val_loss: 0.1067 - val_auc: 0.9916\n",
            "Epoch 27/40\n",
            "3289/3289 [==============================] - 44s 13ms/step - loss: 0.1747 - auc: 0.9813 - val_loss: 0.1027 - val_auc: 0.9924\n",
            "Epoch 28/40\n",
            "3289/3289 [==============================] - 44s 14ms/step - loss: 0.1658 - auc: 0.9831 - val_loss: 0.1027 - val_auc: 0.9929\n",
            "Epoch 29/40\n",
            "3289/3289 [==============================] - 44s 14ms/step - loss: 0.1586 - auc: 0.9844 - val_loss: 0.0884 - val_auc: 0.9940\n",
            "Epoch 30/40\n",
            "3289/3289 [==============================] - 44s 13ms/step - loss: 0.1540 - auc: 0.9854 - val_loss: 0.0977 - val_auc: 0.9928\n",
            "Epoch 31/40\n",
            "3289/3289 [==============================] - 45s 14ms/step - loss: 0.1487 - auc: 0.9863 - val_loss: 0.0983 - val_auc: 0.9929\n",
            "Epoch 32/40\n",
            "3289/3289 [==============================] - 44s 13ms/step - loss: 0.1422 - auc: 0.9875 - val_loss: 0.1081 - val_auc: 0.9909\n",
            "Epoch 33/40\n",
            "3289/3289 [==============================] - 44s 14ms/step - loss: 0.1363 - auc: 0.9884 - val_loss: 0.0949 - val_auc: 0.9932\n",
            "Epoch 34/40\n",
            "3289/3289 [==============================] - 44s 13ms/step - loss: 0.1314 - auc: 0.9892 - val_loss: 0.1018 - val_auc: 0.9925\n",
            "Epoch 35/40\n",
            "3289/3289 [==============================] - 44s 13ms/step - loss: 0.1248 - auc: 0.9902 - val_loss: 0.0992 - val_auc: 0.9925\n",
            "Epoch 36/40\n",
            "3289/3289 [==============================] - 44s 13ms/step - loss: 0.1206 - auc: 0.9908 - val_loss: 0.1145 - val_auc: 0.9917\n",
            "Epoch 37/40\n",
            "3289/3289 [==============================] - 44s 14ms/step - loss: 0.1154 - auc: 0.9915 - val_loss: 0.1332 - val_auc: 0.9884\n",
            "Epoch 38/40\n",
            "3289/3289 [==============================] - 45s 14ms/step - loss: 0.1114 - auc: 0.9921 - val_loss: 0.0920 - val_auc: 0.9930\n",
            "Epoch 39/40\n",
            "3289/3289 [==============================] - 44s 13ms/step - loss: 0.1084 - auc: 0.9924 - val_loss: 0.0921 - val_auc: 0.9927\n",
            "Epoch 40/40\n",
            "3289/3289 [==============================] - 44s 13ms/step - loss: 0.1057 - auc: 0.9928 - val_loss: 0.0981 - val_auc: 0.9926\n"
          ]
        },
        {
          "output_type": "display_data",
          "data": {
            "text/html": [
              "<br/>Waiting for W&B process to finish, PID 456... <strong style=\"color:green\">(success).</strong>"
            ],
            "text/plain": [
              "<IPython.core.display.HTML object>"
            ]
          },
          "metadata": {}
        },
        {
          "output_type": "display_data",
          "data": {
            "application/vnd.jupyter.widget-view+json": {
              "model_id": "3c5843eeef154845b128f1a44d4b6518",
              "version_minor": 0,
              "version_major": 2
            },
            "text/plain": [
              "VBox(children=(Label(value=' 10.96MB of 10.97MB uploaded (0.00MB deduped)\\r'), FloatProgress(value=0.999107827…"
            ]
          },
          "metadata": {}
        },
        {
          "output_type": "display_data",
          "data": {
            "text/html": [
              "<style>\n",
              "    table.wandb td:nth-child(1) { padding: 0 10px; text-align: right }\n",
              "    .wandb-row { display: flex; flex-direction: row; flex-wrap: wrap; width: 100% }\n",
              "    .wandb-col { display: flex; flex-direction: column; flex-basis: 100%; flex: 1; padding: 10px; }\n",
              "    </style>\n",
              "<div class=\"wandb-row\"><div class=\"wandb-col\">\n",
              "<h3>Run history:</h3><br/><table class=\"wandb\"><tr><td>auc</td><td>▁▁▂▂▃▄▄▅▅▅▆▆▆▇▇▇▇▇▇▇▇███████████████████</td></tr><tr><td>epoch</td><td>▁▁▁▂▂▂▂▂▂▃▃▃▃▃▄▄▄▄▄▄▅▅▅▅▅▅▆▆▆▆▆▇▇▇▇▇▇███</td></tr><tr><td>loss</td><td>███▇▇▇▆▆▆▅▅▅▄▄▄▄▃▃▃▃▃▂▂▂▂▂▂▂▂▂▂▁▁▁▁▁▁▁▁▁</td></tr><tr><td>val_auc</td><td>▁▁▂▃▅▆▆▆▇▇▇▇████████████████████████████</td></tr><tr><td>val_loss</td><td>███▇▆▅▅▅▄▄▃▃▃▂▂▂▂▂▂▂▂▁▁▂▁▁▁▁▁▁▁▁▁▁▁▁▂▁▁▁</td></tr></table><br/></div><div class=\"wandb-col\">\n",
              "<h3>Run summary:</h3><br/><table class=\"wandb\"><tr><td>auc</td><td>0.99282</td></tr><tr><td>best_epoch</td><td>28</td></tr><tr><td>best_val_loss</td><td>0.08841</td></tr><tr><td>epoch</td><td>39</td></tr><tr><td>loss</td><td>0.10573</td></tr><tr><td>val_auc</td><td>0.99265</td></tr><tr><td>val_loss</td><td>0.09813</td></tr></table>\n",
              "</div></div>\n",
              "Synced 5 W&B file(s), 1441 media file(s), 0 artifact file(s) and 11 other file(s)\n",
              "<br/>Synced <strong style=\"color:#cdcd00\">fragrant-sweep-1</strong>: <a href=\"https://wandb.ai/johanjunme/RSNA_1015_alldata_augmented/runs/hun4cv8m\" target=\"_blank\">https://wandb.ai/johanjunme/RSNA_1015_alldata_augmented/runs/hun4cv8m</a><br/>\n",
              "Find logs at: <code>./wandb/run-20211015_074939-hun4cv8m/logs</code><br/>\n"
            ],
            "text/plain": [
              "<IPython.core.display.HTML object>"
            ]
          },
          "metadata": {}
        },
        {
          "output_type": "stream",
          "name": "stderr",
          "text": [
            "\u001b[34m\u001b[1mwandb\u001b[0m: Agent Starting Run: 4ve52fep with config:\n",
            "\u001b[34m\u001b[1mwandb\u001b[0m: \tDENSE: 128\n",
            "\u001b[34m\u001b[1mwandb\u001b[0m: \tDROPOUT: 0.1\n",
            "\u001b[34m\u001b[1mwandb\u001b[0m: \tN_BATCH: 128\n",
            "\u001b[34m\u001b[1mwandb\u001b[0m: \u001b[33mWARNING\u001b[0m Ignored wandb.init() arg project when running a sweep\n"
          ]
        },
        {
          "output_type": "display_data",
          "data": {
            "text/html": [
              "\n",
              "                    Syncing run <strong><a href=\"https://wandb.ai/johanjunme/RSNA_1015_alldata_augmented/runs/4ve52fep\" target=\"_blank\">legendary-sweep-2</a></strong> to <a href=\"https://wandb.ai/johanjunme/RSNA_1015_alldata_augmented\" target=\"_blank\">Weights & Biases</a> (<a href=\"https://docs.wandb.com/integrations/jupyter.html\" target=\"_blank\">docs</a>).<br/>\n",
              "Sweep page: <a href=\"https://wandb.ai/johanjunme/RSNA_1015_alldata_augmented/sweeps/04x235h9\" target=\"_blank\">https://wandb.ai/johanjunme/RSNA_1015_alldata_augmented/sweeps/04x235h9</a><br/>\n",
              "\n",
              "                "
            ],
            "text/plain": [
              "<IPython.core.display.HTML object>"
            ]
          },
          "metadata": {}
        },
        {
          "output_type": "stream",
          "name": "stdout",
          "text": [
            "Epoch 1/40\n",
            "  5/822 [..............................] - ETA: 1:45 - loss: 2.8030 - auc: 0.4800WARNING:tensorflow:Callback method `on_train_batch_begin` is slow compared to the batch time (batch time: 0.0172s vs `on_train_batch_begin` time: 0.0272s). Check your callbacks.\n",
            "WARNING:tensorflow:Callback method `on_train_batch_end` is slow compared to the batch time (batch time: 0.0172s vs `on_train_batch_end` time: 0.0513s). Check your callbacks.\n",
            "822/822 [==============================] - 35s 41ms/step - loss: 0.6902 - auc: 0.6033 - val_loss: 0.6660 - val_auc: 0.6368\n",
            "Epoch 2/40\n",
            "822/822 [==============================] - 33s 40ms/step - loss: 0.6674 - auc: 0.6256 - val_loss: 0.6563 - val_auc: 0.6462\n",
            "Epoch 3/40\n",
            "822/822 [==============================] - 33s 40ms/step - loss: 0.6532 - auc: 0.6493 - val_loss: 0.5982 - val_auc: 0.7329\n",
            "Epoch 4/40\n",
            "822/822 [==============================] - 33s 40ms/step - loss: 0.6308 - auc: 0.6812 - val_loss: 0.5791 - val_auc: 0.7478\n",
            "Epoch 5/40\n",
            "822/822 [==============================] - 33s 40ms/step - loss: 0.6036 - auc: 0.7145 - val_loss: 0.5166 - val_auc: 0.8069\n",
            "Epoch 6/40\n",
            "822/822 [==============================] - 33s 40ms/step - loss: 0.5733 - auc: 0.7487 - val_loss: 0.4722 - val_auc: 0.8474\n",
            "Epoch 7/40\n",
            "822/822 [==============================] - 33s 40ms/step - loss: 0.5416 - auc: 0.7803 - val_loss: 0.4068 - val_auc: 0.9046\n",
            "Epoch 8/40\n",
            "822/822 [==============================] - 33s 40ms/step - loss: 0.5075 - auc: 0.8117 - val_loss: 0.3515 - val_auc: 0.9217\n",
            "Epoch 9/40\n",
            "822/822 [==============================] - 33s 40ms/step - loss: 0.4756 - auc: 0.8379 - val_loss: 0.3275 - val_auc: 0.9340\n",
            "Epoch 10/40\n",
            "822/822 [==============================] - 33s 40ms/step - loss: 0.4414 - auc: 0.8631 - val_loss: 0.2770 - val_auc: 0.9520\n",
            "Epoch 11/40\n",
            "822/822 [==============================] - 33s 40ms/step - loss: 0.4121 - auc: 0.8821 - val_loss: 0.2351 - val_auc: 0.9703\n",
            "Epoch 12/40\n",
            "822/822 [==============================] - 33s 40ms/step - loss: 0.3844 - auc: 0.8989 - val_loss: 0.2324 - val_auc: 0.9670\n",
            "Epoch 13/40\n",
            "822/822 [==============================] - 33s 40ms/step - loss: 0.3603 - auc: 0.9123 - val_loss: 0.2188 - val_auc: 0.9709\n",
            "Epoch 14/40\n",
            "822/822 [==============================] - 33s 40ms/step - loss: 0.3320 - auc: 0.9267 - val_loss: 0.1964 - val_auc: 0.9766\n",
            "Epoch 15/40\n",
            "822/822 [==============================] - 33s 40ms/step - loss: 0.3081 - auc: 0.9378 - val_loss: 0.1529 - val_auc: 0.9850\n",
            "Epoch 16/40\n",
            "822/822 [==============================] - 33s 40ms/step - loss: 0.2877 - auc: 0.9464 - val_loss: 0.1565 - val_auc: 0.9844\n",
            "Epoch 17/40\n",
            "822/822 [==============================] - 33s 40ms/step - loss: 0.2652 - auc: 0.9549 - val_loss: 0.1351 - val_auc: 0.9876\n",
            "Epoch 18/40\n",
            "822/822 [==============================] - 33s 40ms/step - loss: 0.2470 - auc: 0.9613 - val_loss: 0.1376 - val_auc: 0.9878\n",
            "Epoch 19/40\n",
            "822/822 [==============================] - 33s 41ms/step - loss: 0.2324 - auc: 0.9662 - val_loss: 0.1277 - val_auc: 0.9897\n",
            "Epoch 20/40\n",
            "822/822 [==============================] - 33s 40ms/step - loss: 0.2141 - auc: 0.9715 - val_loss: 0.1314 - val_auc: 0.9877\n",
            "Epoch 21/40\n",
            "822/822 [==============================] - 33s 40ms/step - loss: 0.1990 - auc: 0.9754 - val_loss: 0.1214 - val_auc: 0.9890\n",
            "Epoch 22/40\n",
            "822/822 [==============================] - 33s 40ms/step - loss: 0.1864 - auc: 0.9786 - val_loss: 0.1157 - val_auc: 0.9908\n",
            "Epoch 23/40\n",
            "822/822 [==============================] - 33s 40ms/step - loss: 0.1741 - auc: 0.9813 - val_loss: 0.1227 - val_auc: 0.9899\n",
            "Epoch 24/40\n",
            "822/822 [==============================] - 33s 40ms/step - loss: 0.1615 - auc: 0.9839 - val_loss: 0.1152 - val_auc: 0.9905\n",
            "Epoch 25/40\n",
            "822/822 [==============================] - 33s 40ms/step - loss: 0.1514 - auc: 0.9858 - val_loss: 0.1135 - val_auc: 0.9910\n",
            "Epoch 26/40\n",
            "822/822 [==============================] - 33s 40ms/step - loss: 0.1434 - auc: 0.9873 - val_loss: 0.1140 - val_auc: 0.9907\n",
            "Epoch 27/40\n",
            "822/822 [==============================] - 33s 40ms/step - loss: 0.1376 - auc: 0.9882 - val_loss: 0.1121 - val_auc: 0.9925\n",
            "Epoch 28/40\n",
            "822/822 [==============================] - 33s 40ms/step - loss: 0.1289 - auc: 0.9897 - val_loss: 0.1067 - val_auc: 0.9917\n",
            "Epoch 29/40\n",
            "822/822 [==============================] - 33s 40ms/step - loss: 0.1208 - auc: 0.9908 - val_loss: 0.1151 - val_auc: 0.9896\n",
            "Epoch 30/40\n",
            "822/822 [==============================] - 33s 40ms/step - loss: 0.1167 - auc: 0.9914 - val_loss: 0.1281 - val_auc: 0.9885\n",
            "Epoch 31/40\n",
            "822/822 [==============================] - 33s 40ms/step - loss: 0.1084 - auc: 0.9925 - val_loss: 0.1213 - val_auc: 0.9890\n",
            "Epoch 32/40\n",
            "822/822 [==============================] - 33s 40ms/step - loss: 0.1094 - auc: 0.9924 - val_loss: 0.1017 - val_auc: 0.9907\n",
            "Epoch 33/40\n",
            "822/822 [==============================] - 33s 40ms/step - loss: 0.1002 - auc: 0.9935 - val_loss: 0.1045 - val_auc: 0.9912\n",
            "Epoch 34/40\n",
            "822/822 [==============================] - 33s 40ms/step - loss: 0.0930 - auc: 0.9944 - val_loss: 0.1027 - val_auc: 0.9904\n",
            "Epoch 35/40\n",
            "822/822 [==============================] - 33s 40ms/step - loss: 0.0953 - auc: 0.9941 - val_loss: 0.0978 - val_auc: 0.9920\n",
            "Epoch 36/40\n",
            "822/822 [==============================] - 33s 40ms/step - loss: 0.0906 - auc: 0.9946 - val_loss: 0.1063 - val_auc: 0.9914\n",
            "Epoch 37/40\n",
            "822/822 [==============================] - 33s 40ms/step - loss: 0.0854 - auc: 0.9952 - val_loss: 0.1189 - val_auc: 0.9905\n",
            "Epoch 38/40\n",
            "822/822 [==============================] - 33s 40ms/step - loss: 0.0815 - auc: 0.9955 - val_loss: 0.1244 - val_auc: 0.9902\n",
            "Epoch 39/40\n",
            "822/822 [==============================] - 33s 40ms/step - loss: 0.0806 - auc: 0.9956 - val_loss: 0.1141 - val_auc: 0.9913\n",
            "Epoch 40/40\n",
            "822/822 [==============================] - 33s 40ms/step - loss: 0.0795 - auc: 0.9956 - val_loss: 0.0991 - val_auc: 0.9926\n"
          ]
        },
        {
          "output_type": "display_data",
          "data": {
            "text/html": [
              "<br/>Waiting for W&B process to finish, PID 2607... <strong style=\"color:green\">(success).</strong>"
            ],
            "text/plain": [
              "<IPython.core.display.HTML object>"
            ]
          },
          "metadata": {}
        },
        {
          "output_type": "display_data",
          "data": {
            "application/vnd.jupyter.widget-view+json": {
              "model_id": "574c61737d7e4d2f97b0d399ee547239",
              "version_minor": 0,
              "version_major": 2
            },
            "text/plain": [
              "VBox(children=(Label(value=' 11.85MB of 11.85MB uploaded (0.00MB deduped)\\r'), FloatProgress(value=1.0, max=1.…"
            ]
          },
          "metadata": {}
        },
        {
          "output_type": "display_data",
          "data": {
            "text/html": [
              "<style>\n",
              "    table.wandb td:nth-child(1) { padding: 0 10px; text-align: right }\n",
              "    .wandb-row { display: flex; flex-direction: row; flex-wrap: wrap; width: 100% }\n",
              "    .wandb-col { display: flex; flex-direction: column; flex-basis: 100%; flex: 1; padding: 10px; }\n",
              "    </style>\n",
              "<div class=\"wandb-row\"><div class=\"wandb-col\">\n",
              "<h3>Run history:</h3><br/><table class=\"wandb\"><tr><td>auc</td><td>▁▁▂▂▃▄▄▅▅▆▆▆▇▇▇▇▇▇▇█████████████████████</td></tr><tr><td>epoch</td><td>▁▁▁▂▂▂▂▂▂▃▃▃▃▃▄▄▄▄▄▄▅▅▅▅▅▅▆▆▆▆▆▇▇▇▇▇▇███</td></tr><tr><td>loss</td><td>███▇▇▇▆▆▆▅▅▄▄▄▄▃▃▃▃▃▂▂▂▂▂▂▂▂▁▁▁▁▁▁▁▁▁▁▁▁</td></tr><tr><td>val_auc</td><td>▁▁▃▃▄▅▆▇▇▇█▇████████████████████████████</td></tr><tr><td>val_loss</td><td>██▇▇▆▆▅▄▄▃▃▃▂▂▂▂▁▁▁▁▁▁▁▁▁▁▁▁▁▁▁▁▁▁▁▁▁▁▁▁</td></tr></table><br/></div><div class=\"wandb-col\">\n",
              "<h3>Run summary:</h3><br/><table class=\"wandb\"><tr><td>auc</td><td>0.99564</td></tr><tr><td>best_epoch</td><td>34</td></tr><tr><td>best_val_loss</td><td>0.09778</td></tr><tr><td>epoch</td><td>39</td></tr><tr><td>loss</td><td>0.07952</td></tr><tr><td>val_auc</td><td>0.99263</td></tr><tr><td>val_loss</td><td>0.0991</td></tr></table>\n",
              "</div></div>\n",
              "Synced 5 W&B file(s), 1441 media file(s), 0 artifact file(s) and 11 other file(s)\n",
              "<br/>Synced <strong style=\"color:#cdcd00\">legendary-sweep-2</strong>: <a href=\"https://wandb.ai/johanjunme/RSNA_1015_alldata_augmented/runs/4ve52fep\" target=\"_blank\">https://wandb.ai/johanjunme/RSNA_1015_alldata_augmented/runs/4ve52fep</a><br/>\n",
              "Find logs at: <code>./wandb/run-20211015_081954-4ve52fep/logs</code><br/>\n"
            ],
            "text/plain": [
              "<IPython.core.display.HTML object>"
            ]
          },
          "metadata": {}
        },
        {
          "output_type": "stream",
          "name": "stderr",
          "text": [
            "\u001b[34m\u001b[1mwandb\u001b[0m: Agent Starting Run: sxh0rp09 with config:\n",
            "\u001b[34m\u001b[1mwandb\u001b[0m: \tDENSE: 128\n",
            "\u001b[34m\u001b[1mwandb\u001b[0m: \tDROPOUT: 0.4\n",
            "\u001b[34m\u001b[1mwandb\u001b[0m: \tN_BATCH: 32\n",
            "\u001b[34m\u001b[1mwandb\u001b[0m: \u001b[33mWARNING\u001b[0m Ignored wandb.init() arg project when running a sweep\n"
          ]
        },
        {
          "output_type": "display_data",
          "data": {
            "text/html": [
              "\n",
              "                    Syncing run <strong><a href=\"https://wandb.ai/johanjunme/RSNA_1015_alldata_augmented/runs/sxh0rp09\" target=\"_blank\">glowing-sweep-3</a></strong> to <a href=\"https://wandb.ai/johanjunme/RSNA_1015_alldata_augmented\" target=\"_blank\">Weights & Biases</a> (<a href=\"https://docs.wandb.com/integrations/jupyter.html\" target=\"_blank\">docs</a>).<br/>\n",
              "Sweep page: <a href=\"https://wandb.ai/johanjunme/RSNA_1015_alldata_augmented/sweeps/04x235h9\" target=\"_blank\">https://wandb.ai/johanjunme/RSNA_1015_alldata_augmented/sweeps/04x235h9</a><br/>\n",
              "\n",
              "                "
            ],
            "text/plain": [
              "<IPython.core.display.HTML object>"
            ]
          },
          "metadata": {}
        },
        {
          "output_type": "stream",
          "name": "stdout",
          "text": [
            "Epoch 1/40\n",
            "   3/3289 [..............................] - ETA: 10:29 - loss: 4.5204 - auc: 0.3891WARNING:tensorflow:Callback method `on_train_batch_begin` is slow compared to the batch time (batch time: 0.0079s vs `on_train_batch_begin` time: 0.0266s). Check your callbacks.\n",
            "WARNING:tensorflow:Callback method `on_train_batch_end` is slow compared to the batch time (batch time: 0.0079s vs `on_train_batch_end` time: 0.0377s). Check your callbacks.\n",
            "3289/3289 [==============================] - 46s 14ms/step - loss: 0.6847 - auc: 0.5987 - val_loss: 0.6689 - val_auc: 0.6255\n",
            "Epoch 2/40\n",
            "3289/3289 [==============================] - 45s 14ms/step - loss: 0.6734 - auc: 0.6137 - val_loss: 0.6639 - val_auc: 0.6367\n",
            "Epoch 3/40\n",
            "3289/3289 [==============================] - 44s 13ms/step - loss: 0.6647 - auc: 0.6307 - val_loss: 0.6290 - val_auc: 0.6907\n",
            "Epoch 4/40\n",
            "3289/3289 [==============================] - 44s 13ms/step - loss: 0.6508 - auc: 0.6517 - val_loss: 0.6016 - val_auc: 0.7242\n",
            "Epoch 5/40\n",
            "3289/3289 [==============================] - 44s 13ms/step - loss: 0.6301 - auc: 0.6817 - val_loss: 0.5662 - val_auc: 0.7695\n",
            "Epoch 6/40\n",
            "3289/3289 [==============================] - 44s 13ms/step - loss: 0.6089 - auc: 0.7082 - val_loss: 0.5138 - val_auc: 0.8094\n",
            "Epoch 7/40\n",
            "3289/3289 [==============================] - 44s 13ms/step - loss: 0.5871 - auc: 0.7336 - val_loss: 0.4859 - val_auc: 0.8429\n",
            "Epoch 8/40\n",
            "3289/3289 [==============================] - 44s 13ms/step - loss: 0.5658 - auc: 0.7574 - val_loss: 0.4412 - val_auc: 0.8718\n",
            "Epoch 9/40\n",
            "3289/3289 [==============================] - 44s 13ms/step - loss: 0.5446 - auc: 0.7784 - val_loss: 0.4177 - val_auc: 0.8806\n",
            "Epoch 10/40\n",
            "3289/3289 [==============================] - 44s 13ms/step - loss: 0.5250 - auc: 0.7968 - val_loss: 0.3654 - val_auc: 0.9223\n",
            "Epoch 11/40\n",
            "3289/3289 [==============================] - 44s 13ms/step - loss: 0.5056 - auc: 0.8143 - val_loss: 0.3300 - val_auc: 0.9348\n",
            "Epoch 12/40\n",
            "3289/3289 [==============================] - 44s 13ms/step - loss: 0.4887 - auc: 0.8297 - val_loss: 0.3311 - val_auc: 0.9382\n",
            "Epoch 13/40\n",
            "3289/3289 [==============================] - 44s 13ms/step - loss: 0.4716 - auc: 0.8424 - val_loss: 0.3356 - val_auc: 0.9275\n",
            "Epoch 14/40\n",
            "3289/3289 [==============================] - 44s 13ms/step - loss: 0.4553 - auc: 0.8546 - val_loss: 0.2763 - val_auc: 0.9579\n",
            "Epoch 15/40\n",
            "3289/3289 [==============================] - 44s 13ms/step - loss: 0.4407 - auc: 0.8663 - val_loss: 0.2694 - val_auc: 0.9577\n",
            "Epoch 16/40\n",
            "3289/3289 [==============================] - 44s 14ms/step - loss: 0.4263 - auc: 0.8760 - val_loss: 0.2366 - val_auc: 0.9693\n",
            "Epoch 17/40\n",
            "3289/3289 [==============================] - 44s 13ms/step - loss: 0.4134 - auc: 0.8841 - val_loss: 0.2354 - val_auc: 0.9660\n",
            "Epoch 18/40\n",
            "3289/3289 [==============================] - 44s 13ms/step - loss: 0.3991 - auc: 0.8930 - val_loss: 0.2017 - val_auc: 0.9785\n",
            "Epoch 19/40\n",
            "3289/3289 [==============================] - 44s 13ms/step - loss: 0.3854 - auc: 0.9013 - val_loss: 0.1886 - val_auc: 0.9827\n",
            "Epoch 20/40\n",
            "3289/3289 [==============================] - 44s 14ms/step - loss: 0.3741 - auc: 0.9069 - val_loss: 0.2199 - val_auc: 0.9706\n",
            "Epoch 21/40\n",
            "3289/3289 [==============================] - 44s 13ms/step - loss: 0.3641 - auc: 0.9130 - val_loss: 0.1764 - val_auc: 0.9837\n",
            "Epoch 22/40\n",
            "3289/3289 [==============================] - 44s 13ms/step - loss: 0.3500 - auc: 0.9203 - val_loss: 0.1563 - val_auc: 0.9853\n",
            "Epoch 23/40\n",
            "3289/3289 [==============================] - 44s 13ms/step - loss: 0.3415 - auc: 0.9244 - val_loss: 0.1640 - val_auc: 0.9858\n",
            "Epoch 24/40\n",
            "3289/3289 [==============================] - 44s 13ms/step - loss: 0.3312 - auc: 0.9294 - val_loss: 0.1471 - val_auc: 0.9882\n",
            "Epoch 25/40\n",
            "3289/3289 [==============================] - 44s 13ms/step - loss: 0.3209 - auc: 0.9341 - val_loss: 0.1354 - val_auc: 0.9899\n",
            "Epoch 26/40\n",
            "3289/3289 [==============================] - 44s 13ms/step - loss: 0.3106 - auc: 0.9387 - val_loss: 0.1285 - val_auc: 0.9897\n",
            "Epoch 27/40\n",
            "3289/3289 [==============================] - 44s 13ms/step - loss: 0.3027 - auc: 0.9421 - val_loss: 0.1254 - val_auc: 0.9908\n",
            "Epoch 28/40\n",
            "3289/3289 [==============================] - 44s 13ms/step - loss: 0.2951 - auc: 0.9452 - val_loss: 0.1272 - val_auc: 0.9899\n",
            "Epoch 29/40\n",
            "3289/3289 [==============================] - 44s 13ms/step - loss: 0.2855 - auc: 0.9488 - val_loss: 0.1314 - val_auc: 0.9892\n",
            "Epoch 30/40\n",
            "3289/3289 [==============================] - 44s 13ms/step - loss: 0.2781 - auc: 0.9516 - val_loss: 0.1188 - val_auc: 0.9924\n",
            "Epoch 31/40\n",
            "3289/3289 [==============================] - 44s 13ms/step - loss: 0.2687 - auc: 0.9551 - val_loss: 0.1104 - val_auc: 0.9929\n",
            "Epoch 32/40\n",
            "3289/3289 [==============================] - 44s 13ms/step - loss: 0.2633 - auc: 0.9570 - val_loss: 0.1088 - val_auc: 0.9920\n",
            "Epoch 33/40\n",
            "3289/3289 [==============================] - 44s 13ms/step - loss: 0.2566 - auc: 0.9594 - val_loss: 0.0965 - val_auc: 0.9940\n",
            "Epoch 34/40\n",
            "3289/3289 [==============================] - 44s 13ms/step - loss: 0.2498 - auc: 0.9614 - val_loss: 0.1023 - val_auc: 0.9927\n",
            "Epoch 35/40\n",
            "3289/3289 [==============================] - 44s 13ms/step - loss: 0.2430 - auc: 0.9636 - val_loss: 0.1070 - val_auc: 0.9919\n",
            "Epoch 36/40\n",
            "3289/3289 [==============================] - 44s 13ms/step - loss: 0.2331 - auc: 0.9666 - val_loss: 0.1192 - val_auc: 0.9905\n",
            "Epoch 37/40\n",
            "3289/3289 [==============================] - 44s 13ms/step - loss: 0.2289 - auc: 0.9678 - val_loss: 0.1001 - val_auc: 0.9932\n",
            "Epoch 38/40\n",
            "3289/3289 [==============================] - 44s 13ms/step - loss: 0.2223 - auc: 0.9697 - val_loss: 0.0954 - val_auc: 0.9937\n",
            "Epoch 39/40\n",
            "3289/3289 [==============================] - 44s 13ms/step - loss: 0.2191 - auc: 0.9706 - val_loss: 0.0859 - val_auc: 0.9950\n",
            "Epoch 40/40\n",
            "3289/3289 [==============================] - 44s 13ms/step - loss: 0.2144 - auc: 0.9719 - val_loss: 0.0946 - val_auc: 0.9929\n"
          ]
        },
        {
          "output_type": "display_data",
          "data": {
            "text/html": [
              "<br/>Waiting for W&B process to finish, PID 4740... <strong style=\"color:green\">(success).</strong>"
            ],
            "text/plain": [
              "<IPython.core.display.HTML object>"
            ]
          },
          "metadata": {}
        },
        {
          "output_type": "display_data",
          "data": {
            "application/vnd.jupyter.widget-view+json": {
              "model_id": "889b83d2b0954b968fb7f939cf987e24",
              "version_minor": 0,
              "version_major": 2
            },
            "text/plain": [
              "VBox(children=(Label(value=' 11.82MB of 11.83MB uploaded (0.00MB deduped)\\r'), FloatProgress(value=0.999528227…"
            ]
          },
          "metadata": {}
        },
        {
          "output_type": "display_data",
          "data": {
            "text/html": [
              "<style>\n",
              "    table.wandb td:nth-child(1) { padding: 0 10px; text-align: right }\n",
              "    .wandb-row { display: flex; flex-direction: row; flex-wrap: wrap; width: 100% }\n",
              "    .wandb-col { display: flex; flex-direction: column; flex-basis: 100%; flex: 1; padding: 10px; }\n",
              "    </style>\n",
              "<div class=\"wandb-row\"><div class=\"wandb-col\">\n",
              "<h3>Run history:</h3><br/><table class=\"wandb\"><tr><td>auc</td><td>▁▁▂▂▃▃▄▄▄▅▅▅▆▆▆▆▆▇▇▇▇▇▇▇▇▇▇▇████████████</td></tr><tr><td>epoch</td><td>▁▁▁▂▂▂▂▂▂▃▃▃▃▃▄▄▄▄▄▄▅▅▅▅▅▅▆▆▆▆▆▇▇▇▇▇▇███</td></tr><tr><td>loss</td><td>███▇▇▇▇▆▆▆▅▅▅▅▄▄▄▄▄▃▃▃▃▃▃▂▂▂▂▂▂▂▂▂▁▁▁▁▁▁</td></tr><tr><td>val_auc</td><td>▁▁▂▃▄▄▅▆▆▇▇▇▇▇▇█▇███████████████████████</td></tr><tr><td>val_loss</td><td>███▇▇▆▆▅▅▄▄▄▄▃▃▃▃▂▂▃▂▂▂▂▂▂▁▁▂▁▁▁▁▁▁▁▁▁▁▁</td></tr></table><br/></div><div class=\"wandb-col\">\n",
              "<h3>Run summary:</h3><br/><table class=\"wandb\"><tr><td>auc</td><td>0.97186</td></tr><tr><td>best_epoch</td><td>38</td></tr><tr><td>best_val_loss</td><td>0.0859</td></tr><tr><td>epoch</td><td>39</td></tr><tr><td>loss</td><td>0.21444</td></tr><tr><td>val_auc</td><td>0.99291</td></tr><tr><td>val_loss</td><td>0.09456</td></tr></table>\n",
              "</div></div>\n",
              "Synced 5 W&B file(s), 1441 media file(s), 0 artifact file(s) and 11 other file(s)\n",
              "<br/>Synced <strong style=\"color:#cdcd00\">glowing-sweep-3</strong>: <a href=\"https://wandb.ai/johanjunme/RSNA_1015_alldata_augmented/runs/sxh0rp09\" target=\"_blank\">https://wandb.ai/johanjunme/RSNA_1015_alldata_augmented/runs/sxh0rp09</a><br/>\n",
              "Find logs at: <code>./wandb/run-20211015_084226-sxh0rp09/logs</code><br/>\n"
            ],
            "text/plain": [
              "<IPython.core.display.HTML object>"
            ]
          },
          "metadata": {}
        },
        {
          "output_type": "stream",
          "name": "stderr",
          "text": [
            "\u001b[34m\u001b[1mwandb\u001b[0m: Agent Starting Run: nre7e8tz with config:\n",
            "\u001b[34m\u001b[1mwandb\u001b[0m: \tDENSE: 128\n",
            "\u001b[34m\u001b[1mwandb\u001b[0m: \tDROPOUT: 0.4\n",
            "\u001b[34m\u001b[1mwandb\u001b[0m: \tN_BATCH: 128\n",
            "\u001b[34m\u001b[1mwandb\u001b[0m: \u001b[33mWARNING\u001b[0m Ignored wandb.init() arg project when running a sweep\n"
          ]
        },
        {
          "output_type": "display_data",
          "data": {
            "text/html": [
              "\n",
              "                    Syncing run <strong><a href=\"https://wandb.ai/johanjunme/RSNA_1015_alldata_augmented/runs/nre7e8tz\" target=\"_blank\">silver-sweep-4</a></strong> to <a href=\"https://wandb.ai/johanjunme/RSNA_1015_alldata_augmented\" target=\"_blank\">Weights & Biases</a> (<a href=\"https://docs.wandb.com/integrations/jupyter.html\" target=\"_blank\">docs</a>).<br/>\n",
              "Sweep page: <a href=\"https://wandb.ai/johanjunme/RSNA_1015_alldata_augmented/sweeps/04x235h9\" target=\"_blank\">https://wandb.ai/johanjunme/RSNA_1015_alldata_augmented/sweeps/04x235h9</a><br/>\n",
              "\n",
              "                "
            ],
            "text/plain": [
              "<IPython.core.display.HTML object>"
            ]
          },
          "metadata": {}
        },
        {
          "output_type": "stream",
          "name": "stdout",
          "text": [
            "Epoch 1/40\n",
            "  5/822 [..............................] - ETA: 1:56 - loss: 2.7916 - auc: 0.5266WARNING:tensorflow:Callback method `on_train_batch_begin` is slow compared to the batch time (batch time: 0.0178s vs `on_train_batch_begin` time: 0.0294s). Check your callbacks.\n",
            "WARNING:tensorflow:Callback method `on_train_batch_end` is slow compared to the batch time (batch time: 0.0178s vs `on_train_batch_end` time: 0.0601s). Check your callbacks.\n",
            "822/822 [==============================] - 35s 41ms/step - loss: 0.6936 - auc: 0.5987 - val_loss: 0.6705 - val_auc: 0.6278\n",
            "Epoch 2/40\n",
            "822/822 [==============================] - 33s 40ms/step - loss: 0.6717 - auc: 0.6177 - val_loss: 0.6592 - val_auc: 0.6480\n",
            "Epoch 3/40\n",
            "822/822 [==============================] - 33s 40ms/step - loss: 0.6651 - auc: 0.6303 - val_loss: 0.6462 - val_auc: 0.6655\n",
            "Epoch 4/40\n",
            "822/822 [==============================] - 33s 40ms/step - loss: 0.6547 - auc: 0.6482 - val_loss: 0.6134 - val_auc: 0.7045\n",
            "Epoch 5/40\n",
            "822/822 [==============================] - 33s 40ms/step - loss: 0.6396 - auc: 0.6708 - val_loss: 0.5920 - val_auc: 0.7415\n",
            "Epoch 6/40\n",
            "822/822 [==============================] - 33s 40ms/step - loss: 0.6219 - auc: 0.6934 - val_loss: 0.5761 - val_auc: 0.7704\n",
            "Epoch 7/40\n",
            "822/822 [==============================] - 33s 40ms/step - loss: 0.5998 - auc: 0.7209 - val_loss: 0.5132 - val_auc: 0.8321\n",
            "Epoch 8/40\n",
            "822/822 [==============================] - 33s 40ms/step - loss: 0.5744 - auc: 0.7486 - val_loss: 0.4585 - val_auc: 0.8778\n",
            "Epoch 9/40\n",
            "822/822 [==============================] - 33s 40ms/step - loss: 0.5503 - auc: 0.7731 - val_loss: 0.4628 - val_auc: 0.8541\n",
            "Epoch 10/40\n",
            "822/822 [==============================] - 33s 40ms/step - loss: 0.5283 - auc: 0.7942 - val_loss: 0.3838 - val_auc: 0.9081\n",
            "Epoch 11/40\n",
            "822/822 [==============================] - 33s 40ms/step - loss: 0.5085 - auc: 0.8112 - val_loss: 0.3286 - val_auc: 0.9342\n",
            "Epoch 12/40\n",
            "822/822 [==============================] - 33s 40ms/step - loss: 0.4885 - auc: 0.8291 - val_loss: 0.3026 - val_auc: 0.9463\n",
            "Epoch 13/40\n",
            "822/822 [==============================] - 33s 40ms/step - loss: 0.4666 - auc: 0.8455 - val_loss: 0.2601 - val_auc: 0.9582\n",
            "Epoch 14/40\n",
            "822/822 [==============================] - 33s 40ms/step - loss: 0.4496 - auc: 0.8578 - val_loss: 0.2519 - val_auc: 0.9671\n",
            "Epoch 15/40\n",
            "822/822 [==============================] - 33s 40ms/step - loss: 0.4317 - auc: 0.8701 - val_loss: 0.2243 - val_auc: 0.9714\n",
            "Epoch 16/40\n",
            "822/822 [==============================] - 33s 40ms/step - loss: 0.4159 - auc: 0.8805 - val_loss: 0.2962 - val_auc: 0.9466\n",
            "Epoch 17/40\n",
            "822/822 [==============================] - 33s 40ms/step - loss: 0.4025 - auc: 0.8889 - val_loss: 0.1903 - val_auc: 0.9791\n",
            "Epoch 18/40\n",
            "822/822 [==============================] - 33s 40ms/step - loss: 0.3862 - auc: 0.8993 - val_loss: 0.1808 - val_auc: 0.9826\n",
            "Epoch 19/40\n",
            "822/822 [==============================] - 33s 40ms/step - loss: 0.3707 - auc: 0.9075 - val_loss: 0.1694 - val_auc: 0.9843\n",
            "Epoch 20/40\n",
            "822/822 [==============================] - 33s 40ms/step - loss: 0.3616 - auc: 0.9129 - val_loss: 0.1691 - val_auc: 0.9846\n",
            "Epoch 21/40\n",
            "822/822 [==============================] - 33s 41ms/step - loss: 0.3501 - auc: 0.9188 - val_loss: 0.1486 - val_auc: 0.9857\n",
            "Epoch 22/40\n",
            "822/822 [==============================] - 33s 40ms/step - loss: 0.3366 - auc: 0.9258 - val_loss: 0.1469 - val_auc: 0.9866\n",
            "Epoch 23/40\n",
            "822/822 [==============================] - 33s 40ms/step - loss: 0.3246 - auc: 0.9312 - val_loss: 0.1203 - val_auc: 0.9918\n",
            "Epoch 24/40\n",
            "822/822 [==============================] - 33s 40ms/step - loss: 0.3148 - auc: 0.9358 - val_loss: 0.1232 - val_auc: 0.9901\n",
            "Epoch 25/40\n",
            "822/822 [==============================] - 33s 40ms/step - loss: 0.3035 - auc: 0.9408 - val_loss: 0.1092 - val_auc: 0.9926\n",
            "Epoch 26/40\n",
            "822/822 [==============================] - 33s 40ms/step - loss: 0.2937 - auc: 0.9450 - val_loss: 0.0988 - val_auc: 0.9938\n",
            "Epoch 27/40\n",
            "822/822 [==============================] - 33s 40ms/step - loss: 0.2847 - auc: 0.9485 - val_loss: 0.1179 - val_auc: 0.9909\n",
            "Epoch 28/40\n",
            "822/822 [==============================] - 33s 40ms/step - loss: 0.2760 - auc: 0.9517 - val_loss: 0.1117 - val_auc: 0.9913\n",
            "Epoch 29/40\n",
            "822/822 [==============================] - 33s 40ms/step - loss: 0.2665 - auc: 0.9554 - val_loss: 0.1216 - val_auc: 0.9906\n",
            "Epoch 30/40\n",
            "822/822 [==============================] - 33s 40ms/step - loss: 0.2584 - auc: 0.9582 - val_loss: 0.1016 - val_auc: 0.9922\n",
            "Epoch 31/40\n",
            "822/822 [==============================] - 33s 40ms/step - loss: 0.2491 - auc: 0.9613 - val_loss: 0.1049 - val_auc: 0.9926\n",
            "Epoch 32/40\n",
            "822/822 [==============================] - 33s 40ms/step - loss: 0.2433 - auc: 0.9632 - val_loss: 0.0969 - val_auc: 0.9932\n",
            "Epoch 33/40\n",
            "822/822 [==============================] - 33s 40ms/step - loss: 0.2353 - auc: 0.9656 - val_loss: 0.0942 - val_auc: 0.9932\n",
            "Epoch 34/40\n",
            "822/822 [==============================] - 33s 40ms/step - loss: 0.2279 - auc: 0.9679 - val_loss: 0.0894 - val_auc: 0.9940\n",
            "Epoch 35/40\n",
            "822/822 [==============================] - 33s 40ms/step - loss: 0.2219 - auc: 0.9696 - val_loss: 0.0984 - val_auc: 0.9933\n",
            "Epoch 36/40\n",
            "822/822 [==============================] - 33s 40ms/step - loss: 0.2130 - auc: 0.9720 - val_loss: 0.1026 - val_auc: 0.9923\n",
            "Epoch 37/40\n",
            "822/822 [==============================] - 33s 40ms/step - loss: 0.2079 - auc: 0.9735 - val_loss: 0.1030 - val_auc: 0.9917\n",
            "Epoch 38/40\n",
            "822/822 [==============================] - 33s 40ms/step - loss: 0.2030 - auc: 0.9747 - val_loss: 0.0847 - val_auc: 0.9946\n",
            "Epoch 39/40\n",
            "822/822 [==============================] - 33s 40ms/step - loss: 0.1972 - auc: 0.9762 - val_loss: 0.0864 - val_auc: 0.9934\n",
            "Epoch 40/40\n",
            "822/822 [==============================] - 33s 40ms/step - loss: 0.1911 - auc: 0.9776 - val_loss: 0.1933 - val_auc: 0.9803\n"
          ]
        },
        {
          "output_type": "display_data",
          "data": {
            "text/html": [
              "<br/>Waiting for W&B process to finish, PID 6897... <strong style=\"color:green\">(success).</strong>"
            ],
            "text/plain": [
              "<IPython.core.display.HTML object>"
            ]
          },
          "metadata": {}
        },
        {
          "output_type": "display_data",
          "data": {
            "application/vnd.jupyter.widget-view+json": {
              "model_id": "e29e5b2c04054ca4b3fd3fdb5c994877",
              "version_minor": 0,
              "version_major": 2
            },
            "text/plain": [
              "VBox(children=(Label(value=' 11.85MB of 11.85MB uploaded (0.00MB deduped)\\r'), FloatProgress(value=0.999637515…"
            ]
          },
          "metadata": {}
        },
        {
          "output_type": "display_data",
          "data": {
            "text/html": [
              "<style>\n",
              "    table.wandb td:nth-child(1) { padding: 0 10px; text-align: right }\n",
              "    .wandb-row { display: flex; flex-direction: row; flex-wrap: wrap; width: 100% }\n",
              "    .wandb-col { display: flex; flex-direction: column; flex-basis: 100%; flex: 1; padding: 10px; }\n",
              "    </style>\n",
              "<div class=\"wandb-row\"><div class=\"wandb-col\">\n",
              "<h3>Run history:</h3><br/><table class=\"wandb\"><tr><td>auc</td><td>▁▁▂▂▂▃▃▄▄▅▅▅▆▆▆▆▆▇▇▇▇▇▇▇▇▇▇█████████████</td></tr><tr><td>epoch</td><td>▁▁▁▂▂▂▂▂▂▃▃▃▃▃▄▄▄▄▄▄▅▅▅▅▅▅▆▆▆▆▆▇▇▇▇▇▇███</td></tr><tr><td>loss</td><td>███▇▇▇▇▆▆▆▅▅▅▅▄▄▄▄▄▃▃▃▃▃▃▂▂▂▂▂▂▂▂▂▁▁▁▁▁▁</td></tr><tr><td>val_auc</td><td>▁▁▂▂▃▄▅▆▅▆▇▇▇▇█▇████████████████████████</td></tr><tr><td>val_loss</td><td>███▇▇▇▆▅▆▅▄▄▃▃▃▄▂▂▂▂▂▂▁▁▁▁▁▁▁▁▁▁▁▁▁▁▁▁▁▂</td></tr></table><br/></div><div class=\"wandb-col\">\n",
              "<h3>Run summary:</h3><br/><table class=\"wandb\"><tr><td>auc</td><td>0.97759</td></tr><tr><td>best_epoch</td><td>37</td></tr><tr><td>best_val_loss</td><td>0.0847</td></tr><tr><td>epoch</td><td>39</td></tr><tr><td>loss</td><td>0.19112</td></tr><tr><td>val_auc</td><td>0.98025</td></tr><tr><td>val_loss</td><td>0.19325</td></tr></table>\n",
              "</div></div>\n",
              "Synced 5 W&B file(s), 1441 media file(s), 0 artifact file(s) and 11 other file(s)\n",
              "<br/>Synced <strong style=\"color:#cdcd00\">silver-sweep-4</strong>: <a href=\"https://wandb.ai/johanjunme/RSNA_1015_alldata_augmented/runs/nre7e8tz\" target=\"_blank\">https://wandb.ai/johanjunme/RSNA_1015_alldata_augmented/runs/nre7e8tz</a><br/>\n",
              "Find logs at: <code>./wandb/run-20211015_091218-nre7e8tz/logs</code><br/>\n"
            ],
            "text/plain": [
              "<IPython.core.display.HTML object>"
            ]
          },
          "metadata": {}
        },
        {
          "output_type": "stream",
          "name": "stderr",
          "text": [
            "\u001b[34m\u001b[1mwandb\u001b[0m: Agent Starting Run: yfuf2aqa with config:\n",
            "\u001b[34m\u001b[1mwandb\u001b[0m: \tDENSE: 512\n",
            "\u001b[34m\u001b[1mwandb\u001b[0m: \tDROPOUT: 0.1\n",
            "\u001b[34m\u001b[1mwandb\u001b[0m: \tN_BATCH: 32\n",
            "\u001b[34m\u001b[1mwandb\u001b[0m: \u001b[33mWARNING\u001b[0m Ignored wandb.init() arg project when running a sweep\n"
          ]
        },
        {
          "output_type": "display_data",
          "data": {
            "text/html": [
              "\n",
              "                    Syncing run <strong><a href=\"https://wandb.ai/johanjunme/RSNA_1015_alldata_augmented/runs/yfuf2aqa\" target=\"_blank\">gentle-sweep-5</a></strong> to <a href=\"https://wandb.ai/johanjunme/RSNA_1015_alldata_augmented\" target=\"_blank\">Weights & Biases</a> (<a href=\"https://docs.wandb.com/integrations/jupyter.html\" target=\"_blank\">docs</a>).<br/>\n",
              "Sweep page: <a href=\"https://wandb.ai/johanjunme/RSNA_1015_alldata_augmented/sweeps/04x235h9\" target=\"_blank\">https://wandb.ai/johanjunme/RSNA_1015_alldata_augmented/sweeps/04x235h9</a><br/>\n",
              "\n",
              "                "
            ],
            "text/plain": [
              "<IPython.core.display.HTML object>"
            ]
          },
          "metadata": {}
        },
        {
          "output_type": "stream",
          "name": "stdout",
          "text": [
            "Epoch 1/40\n",
            "   3/3289 [..............................] - ETA: 11:05 - loss: 2.5503 - auc: 0.5148WARNING:tensorflow:Callback method `on_train_batch_begin` is slow compared to the batch time (batch time: 0.0084s vs `on_train_batch_begin` time: 0.0284s). Check your callbacks.\n",
            "WARNING:tensorflow:Callback method `on_train_batch_end` is slow compared to the batch time (batch time: 0.0084s vs `on_train_batch_end` time: 0.0393s). Check your callbacks.\n",
            "3289/3289 [==============================] - 46s 14ms/step - loss: 0.6872 - auc: 0.5969 - val_loss: 0.6867 - val_auc: 0.6059\n",
            "Epoch 2/40\n",
            "3289/3289 [==============================] - 45s 14ms/step - loss: 0.6730 - auc: 0.6141 - val_loss: 0.6673 - val_auc: 0.6323\n",
            "Epoch 3/40\n",
            "3289/3289 [==============================] - 44s 13ms/step - loss: 0.6621 - auc: 0.6344 - val_loss: 0.6386 - val_auc: 0.6783\n",
            "Epoch 4/40\n",
            "3289/3289 [==============================] - 44s 13ms/step - loss: 0.6420 - auc: 0.6656 - val_loss: 0.5785 - val_auc: 0.7517\n",
            "Epoch 5/40\n",
            "3289/3289 [==============================] - 44s 13ms/step - loss: 0.6118 - auc: 0.7053 - val_loss: 0.5430 - val_auc: 0.7814\n",
            "Epoch 6/40\n",
            "3289/3289 [==============================] - 44s 14ms/step - loss: 0.5785 - auc: 0.7437 - val_loss: 0.4845 - val_auc: 0.8501\n",
            "Epoch 7/40\n",
            "3289/3289 [==============================] - 44s 13ms/step - loss: 0.5447 - auc: 0.7775 - val_loss: 0.4313 - val_auc: 0.8783\n",
            "Epoch 8/40\n",
            "3289/3289 [==============================] - 44s 13ms/step - loss: 0.5152 - auc: 0.8051 - val_loss: 0.3667 - val_auc: 0.9236\n",
            "Epoch 9/40\n",
            "3289/3289 [==============================] - 44s 13ms/step - loss: 0.4834 - auc: 0.8315 - val_loss: 0.3260 - val_auc: 0.9342\n",
            "Epoch 10/40\n",
            "3289/3289 [==============================] - 44s 13ms/step - loss: 0.4546 - auc: 0.8536 - val_loss: 0.2709 - val_auc: 0.9599\n",
            "Epoch 11/40\n",
            "3289/3289 [==============================] - 44s 13ms/step - loss: 0.4265 - auc: 0.8730 - val_loss: 0.2186 - val_auc: 0.9745\n",
            "Epoch 12/40\n",
            "3289/3289 [==============================] - 44s 13ms/step - loss: 0.4036 - auc: 0.8881 - val_loss: 0.2230 - val_auc: 0.9695\n",
            "Epoch 13/40\n",
            "3289/3289 [==============================] - 44s 13ms/step - loss: 0.3807 - auc: 0.9011 - val_loss: 0.2714 - val_auc: 0.9592\n",
            "Epoch 14/40\n",
            "3289/3289 [==============================] - 44s 13ms/step - loss: 0.3550 - auc: 0.9150 - val_loss: 0.1601 - val_auc: 0.9848\n",
            "Epoch 15/40\n",
            "3289/3289 [==============================] - 44s 13ms/step - loss: 0.3371 - auc: 0.9244 - val_loss: 0.1980 - val_auc: 0.9777\n",
            "Epoch 16/40\n",
            "3289/3289 [==============================] - 44s 13ms/step - loss: 0.3182 - auc: 0.9333 - val_loss: 0.1338 - val_auc: 0.9881\n",
            "Epoch 17/40\n",
            "3289/3289 [==============================] - 44s 13ms/step - loss: 0.3001 - auc: 0.9414 - val_loss: 0.1343 - val_auc: 0.9886\n",
            "Epoch 18/40\n",
            "3289/3289 [==============================] - 44s 13ms/step - loss: 0.2846 - auc: 0.9475 - val_loss: 0.1269 - val_auc: 0.9896\n",
            "Epoch 19/40\n",
            "3289/3289 [==============================] - 44s 13ms/step - loss: 0.2662 - auc: 0.9547 - val_loss: 0.1260 - val_auc: 0.9900\n",
            "Epoch 20/40\n",
            "3289/3289 [==============================] - 44s 13ms/step - loss: 0.2525 - auc: 0.9595 - val_loss: 0.1384 - val_auc: 0.9878\n",
            "Epoch 21/40\n",
            "3289/3289 [==============================] - 44s 13ms/step - loss: 0.2377 - auc: 0.9643 - val_loss: 0.1206 - val_auc: 0.9905\n",
            "Epoch 22/40\n",
            "3289/3289 [==============================] - 44s 13ms/step - loss: 0.2272 - auc: 0.9676 - val_loss: 0.0937 - val_auc: 0.9929\n",
            "Epoch 23/40\n",
            "3289/3289 [==============================] - 44s 13ms/step - loss: 0.2148 - auc: 0.9712 - val_loss: 0.1113 - val_auc: 0.9921\n",
            "Epoch 24/40\n",
            "3289/3289 [==============================] - 44s 13ms/step - loss: 0.2007 - auc: 0.9749 - val_loss: 0.0978 - val_auc: 0.9938\n",
            "Epoch 25/40\n",
            "3289/3289 [==============================] - 44s 13ms/step - loss: 0.1943 - auc: 0.9766 - val_loss: 0.0966 - val_auc: 0.9930\n",
            "Epoch 26/40\n",
            "3289/3289 [==============================] - 44s 13ms/step - loss: 0.1831 - auc: 0.9792 - val_loss: 0.0986 - val_auc: 0.9933\n",
            "Epoch 27/40\n",
            "3289/3289 [==============================] - 44s 13ms/step - loss: 0.1738 - auc: 0.9814 - val_loss: 0.0886 - val_auc: 0.9950\n",
            "Epoch 28/40\n",
            "3289/3289 [==============================] - 44s 13ms/step - loss: 0.1640 - auc: 0.9834 - val_loss: 0.0953 - val_auc: 0.9937\n",
            "Epoch 29/40\n",
            "3289/3289 [==============================] - 44s 14ms/step - loss: 0.1581 - auc: 0.9846 - val_loss: 0.0939 - val_auc: 0.9942\n",
            "Epoch 30/40\n",
            "3289/3289 [==============================] - 44s 14ms/step - loss: 0.1509 - auc: 0.9859 - val_loss: 0.0867 - val_auc: 0.9947\n",
            "Epoch 31/40\n",
            "3289/3289 [==============================] - 44s 13ms/step - loss: 0.1445 - auc: 0.9870 - val_loss: 0.1102 - val_auc: 0.9920\n",
            "Epoch 32/40\n",
            "3289/3289 [==============================] - 45s 14ms/step - loss: 0.1409 - auc: 0.9877 - val_loss: 0.0931 - val_auc: 0.9940\n",
            "Epoch 33/40\n",
            "3289/3289 [==============================] - 44s 13ms/step - loss: 0.1344 - auc: 0.9887 - val_loss: 0.0965 - val_auc: 0.9939\n",
            "Epoch 34/40\n",
            "3289/3289 [==============================] - 44s 14ms/step - loss: 0.1261 - auc: 0.9901 - val_loss: 0.0852 - val_auc: 0.9939\n",
            "Epoch 35/40\n",
            "3289/3289 [==============================] - 44s 13ms/step - loss: 0.1224 - auc: 0.9905 - val_loss: 0.0904 - val_auc: 0.9928\n",
            "Epoch 36/40\n",
            "3289/3289 [==============================] - 44s 13ms/step - loss: 0.1173 - auc: 0.9913 - val_loss: 0.1232 - val_auc: 0.9903\n",
            "Epoch 37/40\n",
            "3289/3289 [==============================] - 44s 13ms/step - loss: 0.1147 - auc: 0.9916 - val_loss: 0.1277 - val_auc: 0.9886\n",
            "Epoch 38/40\n",
            "3289/3289 [==============================] - 45s 14ms/step - loss: 0.1088 - auc: 0.9923 - val_loss: 0.0827 - val_auc: 0.9948\n",
            "Epoch 39/40\n",
            "3289/3289 [==============================] - 44s 14ms/step - loss: 0.1062 - auc: 0.9927 - val_loss: 0.1037 - val_auc: 0.9911\n",
            "Epoch 40/40\n",
            "3289/3289 [==============================] - 44s 13ms/step - loss: 0.1033 - auc: 0.9931 - val_loss: 0.0920 - val_auc: 0.9929\n"
          ]
        },
        {
          "output_type": "display_data",
          "data": {
            "text/html": [
              "<br/>Waiting for W&B process to finish, PID 9044... <strong style=\"color:green\">(success).</strong>"
            ],
            "text/plain": [
              "<IPython.core.display.HTML object>"
            ]
          },
          "metadata": {}
        },
        {
          "output_type": "display_data",
          "data": {
            "application/vnd.jupyter.widget-view+json": {
              "model_id": "c3854ac07a7443b68c3d70f5cf1e7147",
              "version_minor": 0,
              "version_major": 2
            },
            "text/plain": [
              "VBox(children=(Label(value=' 20.89MB of 20.90MB uploaded (0.00MB deduped)\\r'), FloatProgress(value=0.999507630…"
            ]
          },
          "metadata": {}
        },
        {
          "output_type": "display_data",
          "data": {
            "text/html": [
              "<style>\n",
              "    table.wandb td:nth-child(1) { padding: 0 10px; text-align: right }\n",
              "    .wandb-row { display: flex; flex-direction: row; flex-wrap: wrap; width: 100% }\n",
              "    .wandb-col { display: flex; flex-direction: column; flex-basis: 100%; flex: 1; padding: 10px; }\n",
              "    </style>\n",
              "<div class=\"wandb-row\"><div class=\"wandb-col\">\n",
              "<h3>Run history:</h3><br/><table class=\"wandb\"><tr><td>auc</td><td>▁▁▂▂▃▄▄▅▅▆▆▆▆▇▇▇▇▇▇▇▇███████████████████</td></tr><tr><td>epoch</td><td>▁▁▁▂▂▂▂▂▂▃▃▃▃▃▄▄▄▄▄▄▅▅▅▅▅▅▆▆▆▆▆▇▇▇▇▇▇███</td></tr><tr><td>loss</td><td>███▇▇▇▆▆▆▅▅▅▄▄▄▄▃▃▃▃▃▂▂▂▂▂▂▂▂▂▁▁▁▁▁▁▁▁▁▁</td></tr><tr><td>val_auc</td><td>▁▁▂▄▄▅▆▇▇▇██▇███████████████████████████</td></tr><tr><td>val_loss</td><td>██▇▇▆▆▅▄▄▃▃▃▃▂▂▂▂▂▂▂▁▁▁▁▁▁▁▁▁▁▁▁▁▁▁▁▂▁▁▁</td></tr></table><br/></div><div class=\"wandb-col\">\n",
              "<h3>Run summary:</h3><br/><table class=\"wandb\"><tr><td>auc</td><td>0.99311</td></tr><tr><td>best_epoch</td><td>37</td></tr><tr><td>best_val_loss</td><td>0.08269</td></tr><tr><td>epoch</td><td>39</td></tr><tr><td>loss</td><td>0.10329</td></tr><tr><td>val_auc</td><td>0.99287</td></tr><tr><td>val_loss</td><td>0.09203</td></tr></table>\n",
              "</div></div>\n",
              "Synced 5 W&B file(s), 1441 media file(s), 0 artifact file(s) and 11 other file(s)\n",
              "<br/>Synced <strong style=\"color:#cdcd00\">gentle-sweep-5</strong>: <a href=\"https://wandb.ai/johanjunme/RSNA_1015_alldata_augmented/runs/yfuf2aqa\" target=\"_blank\">https://wandb.ai/johanjunme/RSNA_1015_alldata_augmented/runs/yfuf2aqa</a><br/>\n",
              "Find logs at: <code>./wandb/run-20211015_093442-yfuf2aqa/logs</code><br/>\n"
            ],
            "text/plain": [
              "<IPython.core.display.HTML object>"
            ]
          },
          "metadata": {}
        },
        {
          "output_type": "stream",
          "name": "stderr",
          "text": [
            "\u001b[34m\u001b[1mwandb\u001b[0m: Agent Starting Run: 1pa686s8 with config:\n",
            "\u001b[34m\u001b[1mwandb\u001b[0m: \tDENSE: 512\n",
            "\u001b[34m\u001b[1mwandb\u001b[0m: \tDROPOUT: 0.1\n",
            "\u001b[34m\u001b[1mwandb\u001b[0m: \tN_BATCH: 128\n",
            "\u001b[34m\u001b[1mwandb\u001b[0m: \u001b[33mWARNING\u001b[0m Ignored wandb.init() arg project when running a sweep\n"
          ]
        },
        {
          "output_type": "display_data",
          "data": {
            "text/html": [
              "\n",
              "                    Syncing run <strong><a href=\"https://wandb.ai/johanjunme/RSNA_1015_alldata_augmented/runs/1pa686s8\" target=\"_blank\">logical-sweep-6</a></strong> to <a href=\"https://wandb.ai/johanjunme/RSNA_1015_alldata_augmented\" target=\"_blank\">Weights & Biases</a> (<a href=\"https://docs.wandb.com/integrations/jupyter.html\" target=\"_blank\">docs</a>).<br/>\n",
              "Sweep page: <a href=\"https://wandb.ai/johanjunme/RSNA_1015_alldata_augmented/sweeps/04x235h9\" target=\"_blank\">https://wandb.ai/johanjunme/RSNA_1015_alldata_augmented/sweeps/04x235h9</a><br/>\n",
              "\n",
              "                "
            ],
            "text/plain": [
              "<IPython.core.display.HTML object>"
            ]
          },
          "metadata": {}
        },
        {
          "output_type": "stream",
          "name": "stdout",
          "text": [
            "Epoch 1/40\n",
            "  5/822 [..............................] - ETA: 1:45 - loss: 4.3759 - auc: 0.4837WARNING:tensorflow:Callback method `on_train_batch_begin` is slow compared to the batch time (batch time: 0.0220s vs `on_train_batch_begin` time: 0.0272s). Check your callbacks.\n",
            "WARNING:tensorflow:Callback method `on_train_batch_end` is slow compared to the batch time (batch time: 0.0220s vs `on_train_batch_end` time: 0.0472s). Check your callbacks.\n",
            "822/822 [==============================] - 35s 41ms/step - loss: 0.7085 - auc: 0.6005 - val_loss: 0.6605 - val_auc: 0.6505\n",
            "Epoch 2/40\n",
            "822/822 [==============================] - 33s 41ms/step - loss: 0.6673 - auc: 0.6257 - val_loss: 0.6335 - val_auc: 0.6878\n",
            "Epoch 3/40\n",
            "822/822 [==============================] - 33s 40ms/step - loss: 0.6525 - auc: 0.6522 - val_loss: 0.5972 - val_auc: 0.7312\n",
            "Epoch 4/40\n",
            "822/822 [==============================] - 33s 41ms/step - loss: 0.6305 - auc: 0.6821 - val_loss: 0.5826 - val_auc: 0.7481\n",
            "Epoch 5/40\n",
            "822/822 [==============================] - 33s 40ms/step - loss: 0.6052 - auc: 0.7125 - val_loss: 0.5186 - val_auc: 0.8105\n",
            "Epoch 6/40\n",
            "822/822 [==============================] - 33s 40ms/step - loss: 0.5794 - auc: 0.7419 - val_loss: 0.4703 - val_auc: 0.8477\n",
            "Epoch 7/40\n",
            "822/822 [==============================] - 33s 40ms/step - loss: 0.5505 - auc: 0.7718 - val_loss: 0.4236 - val_auc: 0.8774\n",
            "Epoch 8/40\n",
            "822/822 [==============================] - 33s 40ms/step - loss: 0.5197 - auc: 0.8001 - val_loss: 0.3686 - val_auc: 0.9116\n",
            "Epoch 9/40\n",
            "822/822 [==============================] - 33s 41ms/step - loss: 0.4880 - auc: 0.8277 - val_loss: 0.3207 - val_auc: 0.9346\n",
            "Epoch 10/40\n",
            "822/822 [==============================] - 33s 40ms/step - loss: 0.4565 - auc: 0.8527 - val_loss: 0.2842 - val_auc: 0.9489\n",
            "Epoch 11/40\n",
            "822/822 [==============================] - 33s 40ms/step - loss: 0.4235 - auc: 0.8751 - val_loss: 0.2628 - val_auc: 0.9581\n",
            "Epoch 12/40\n",
            "822/822 [==============================] - 33s 40ms/step - loss: 0.3953 - auc: 0.8933 - val_loss: 0.2113 - val_auc: 0.9745\n",
            "Epoch 13/40\n",
            "822/822 [==============================] - 33s 40ms/step - loss: 0.3631 - auc: 0.9115 - val_loss: 0.2199 - val_auc: 0.9703\n",
            "Epoch 14/40\n",
            "822/822 [==============================] - 33s 40ms/step - loss: 0.3338 - auc: 0.9267 - val_loss: 0.1845 - val_auc: 0.9797\n",
            "Epoch 15/40\n",
            "822/822 [==============================] - 33s 40ms/step - loss: 0.3049 - auc: 0.9393 - val_loss: 0.1639 - val_auc: 0.9838\n",
            "Epoch 16/40\n",
            "822/822 [==============================] - 33s 41ms/step - loss: 0.2811 - auc: 0.9495 - val_loss: 0.1715 - val_auc: 0.9818\n",
            "Epoch 17/40\n",
            "822/822 [==============================] - 33s 40ms/step - loss: 0.2601 - auc: 0.9573 - val_loss: 0.1417 - val_auc: 0.9873\n",
            "Epoch 18/40\n",
            "822/822 [==============================] - 33s 40ms/step - loss: 0.2345 - auc: 0.9656 - val_loss: 0.1077 - val_auc: 0.9920\n",
            "Epoch 19/40\n",
            "822/822 [==============================] - 33s 41ms/step - loss: 0.2145 - auc: 0.9715 - val_loss: 0.1254 - val_auc: 0.9894\n",
            "Epoch 20/40\n",
            "822/822 [==============================] - 34s 41ms/step - loss: 0.1989 - auc: 0.9755 - val_loss: 0.1567 - val_auc: 0.9851\n",
            "Epoch 21/40\n",
            "822/822 [==============================] - 33s 41ms/step - loss: 0.1776 - auc: 0.9805 - val_loss: 0.1530 - val_auc: 0.9863\n",
            "Epoch 22/40\n",
            "822/822 [==============================] - 33s 40ms/step - loss: 0.1676 - auc: 0.9827 - val_loss: 0.1980 - val_auc: 0.9841\n",
            "Epoch 23/40\n",
            "822/822 [==============================] - 33s 41ms/step - loss: 0.1573 - auc: 0.9848 - val_loss: 0.1149 - val_auc: 0.9904\n",
            "Epoch 24/40\n",
            "822/822 [==============================] - 33s 41ms/step - loss: 0.1461 - auc: 0.9868 - val_loss: 0.0999 - val_auc: 0.9922\n",
            "Epoch 25/40\n",
            "822/822 [==============================] - 33s 41ms/step - loss: 0.1305 - auc: 0.9894 - val_loss: 0.1082 - val_auc: 0.9909\n",
            "Epoch 26/40\n",
            "822/822 [==============================] - 33s 41ms/step - loss: 0.1262 - auc: 0.9900 - val_loss: 0.1290 - val_auc: 0.9890\n",
            "Epoch 27/40\n",
            "822/822 [==============================] - 33s 40ms/step - loss: 0.1189 - auc: 0.9911 - val_loss: 0.1219 - val_auc: 0.9899\n",
            "Epoch 28/40\n",
            "822/822 [==============================] - 33s 41ms/step - loss: 0.1115 - auc: 0.9921 - val_loss: 0.1136 - val_auc: 0.9902\n",
            "Epoch 29/40\n",
            "822/822 [==============================] - 33s 40ms/step - loss: 0.1038 - auc: 0.9930 - val_loss: 0.0991 - val_auc: 0.9922\n",
            "Epoch 30/40\n",
            "822/822 [==============================] - 33s 41ms/step - loss: 0.1025 - auc: 0.9932 - val_loss: 0.1019 - val_auc: 0.9923\n",
            "Epoch 31/40\n",
            "822/822 [==============================] - 33s 40ms/step - loss: 0.0929 - auc: 0.9943 - val_loss: 0.1050 - val_auc: 0.9904\n",
            "Epoch 32/40\n",
            "822/822 [==============================] - 33s 40ms/step - loss: 0.0881 - auc: 0.9948 - val_loss: 0.1025 - val_auc: 0.9914\n",
            "Epoch 33/40\n",
            "822/822 [==============================] - 33s 41ms/step - loss: 0.0907 - auc: 0.9945 - val_loss: 0.1354 - val_auc: 0.9891\n",
            "Epoch 34/40\n",
            "822/822 [==============================] - 33s 40ms/step - loss: 0.0803 - auc: 0.9956 - val_loss: 0.0907 - val_auc: 0.9932\n",
            "Epoch 35/40\n",
            "822/822 [==============================] - 33s 41ms/step - loss: 0.0793 - auc: 0.9956 - val_loss: 0.0887 - val_auc: 0.9941\n",
            "Epoch 36/40\n",
            "822/822 [==============================] - 33s 41ms/step - loss: 0.0768 - auc: 0.9959 - val_loss: 0.1064 - val_auc: 0.9913\n",
            "Epoch 37/40\n",
            "822/822 [==============================] - 33s 41ms/step - loss: 0.0730 - auc: 0.9962 - val_loss: 0.1175 - val_auc: 0.9912\n",
            "Epoch 38/40\n",
            "822/822 [==============================] - 33s 40ms/step - loss: 0.0723 - auc: 0.9963 - val_loss: 0.1152 - val_auc: 0.9905\n",
            "Epoch 39/40\n",
            "822/822 [==============================] - 33s 40ms/step - loss: 0.0688 - auc: 0.9966 - val_loss: 0.1138 - val_auc: 0.9911\n",
            "Epoch 40/40\n",
            "822/822 [==============================] - 33s 40ms/step - loss: 0.0641 - auc: 0.9971 - val_loss: 0.0881 - val_auc: 0.9932\n"
          ]
        },
        {
          "output_type": "display_data",
          "data": {
            "text/html": [
              "<br/>Waiting for W&B process to finish, PID 11203... <strong style=\"color:green\">(success).</strong>"
            ],
            "text/plain": [
              "<IPython.core.display.HTML object>"
            ]
          },
          "metadata": {}
        },
        {
          "output_type": "display_data",
          "data": {
            "application/vnd.jupyter.widget-view+json": {
              "model_id": "e014d7bfabab4028b4ff21b12ab3348b",
              "version_minor": 0,
              "version_major": 2
            },
            "text/plain": [
              "VBox(children=(Label(value=' 20.80MB of 20.80MB uploaded (0.00MB deduped)\\r'), FloatProgress(value=0.999862733…"
            ]
          },
          "metadata": {}
        },
        {
          "output_type": "display_data",
          "data": {
            "text/html": [
              "<style>\n",
              "    table.wandb td:nth-child(1) { padding: 0 10px; text-align: right }\n",
              "    .wandb-row { display: flex; flex-direction: row; flex-wrap: wrap; width: 100% }\n",
              "    .wandb-col { display: flex; flex-direction: column; flex-basis: 100%; flex: 1; padding: 10px; }\n",
              "    </style>\n",
              "<div class=\"wandb-row\"><div class=\"wandb-col\">\n",
              "<h3>Run history:</h3><br/><table class=\"wandb\"><tr><td>auc</td><td>▁▁▂▂▃▃▄▅▅▅▆▆▆▇▇▇▇▇██████████████████████</td></tr><tr><td>epoch</td><td>▁▁▁▂▂▂▂▂▂▃▃▃▃▃▄▄▄▄▄▄▅▅▅▅▅▅▆▆▆▆▆▇▇▇▇▇▇███</td></tr><tr><td>loss</td><td>██▇▇▇▇▆▆▆▅▅▅▄▄▄▃▃▃▃▂▂▂▂▂▂▂▂▂▁▁▁▁▁▁▁▁▁▁▁▁</td></tr><tr><td>val_auc</td><td>▁▂▃▃▄▅▆▆▇▇▇█████████████████████████████</td></tr><tr><td>val_loss</td><td>██▇▇▆▆▅▄▄▃▃▃▃▂▂▂▂▁▁▂▂▂▁▁▁▂▁▁▁▁▁▁▂▁▁▁▁▁▁▁</td></tr></table><br/></div><div class=\"wandb-col\">\n",
              "<h3>Run summary:</h3><br/><table class=\"wandb\"><tr><td>auc</td><td>0.99707</td></tr><tr><td>best_epoch</td><td>39</td></tr><tr><td>best_val_loss</td><td>0.08806</td></tr><tr><td>epoch</td><td>39</td></tr><tr><td>loss</td><td>0.06413</td></tr><tr><td>val_auc</td><td>0.99324</td></tr><tr><td>val_loss</td><td>0.08806</td></tr></table>\n",
              "</div></div>\n",
              "Synced 5 W&B file(s), 1441 media file(s), 0 artifact file(s) and 11 other file(s)\n",
              "<br/>Synced <strong style=\"color:#cdcd00\">logical-sweep-6</strong>: <a href=\"https://wandb.ai/johanjunme/RSNA_1015_alldata_augmented/runs/1pa686s8\" target=\"_blank\">https://wandb.ai/johanjunme/RSNA_1015_alldata_augmented/runs/1pa686s8</a><br/>\n",
              "Find logs at: <code>./wandb/run-20211015_100429-1pa686s8/logs</code><br/>\n"
            ],
            "text/plain": [
              "<IPython.core.display.HTML object>"
            ]
          },
          "metadata": {}
        },
        {
          "output_type": "stream",
          "name": "stderr",
          "text": [
            "\u001b[34m\u001b[1mwandb\u001b[0m: Agent Starting Run: 56r211c9 with config:\n",
            "\u001b[34m\u001b[1mwandb\u001b[0m: \tDENSE: 512\n",
            "\u001b[34m\u001b[1mwandb\u001b[0m: \tDROPOUT: 0.4\n",
            "\u001b[34m\u001b[1mwandb\u001b[0m: \tN_BATCH: 32\n",
            "\u001b[34m\u001b[1mwandb\u001b[0m: \u001b[33mWARNING\u001b[0m Ignored wandb.init() arg project when running a sweep\n"
          ]
        },
        {
          "output_type": "display_data",
          "data": {
            "text/html": [
              "\n",
              "                    Syncing run <strong><a href=\"https://wandb.ai/johanjunme/RSNA_1015_alldata_augmented/runs/56r211c9\" target=\"_blank\">super-sweep-7</a></strong> to <a href=\"https://wandb.ai/johanjunme/RSNA_1015_alldata_augmented\" target=\"_blank\">Weights & Biases</a> (<a href=\"https://docs.wandb.com/integrations/jupyter.html\" target=\"_blank\">docs</a>).<br/>\n",
              "Sweep page: <a href=\"https://wandb.ai/johanjunme/RSNA_1015_alldata_augmented/sweeps/04x235h9\" target=\"_blank\">https://wandb.ai/johanjunme/RSNA_1015_alldata_augmented/sweeps/04x235h9</a><br/>\n",
              "\n",
              "                "
            ],
            "text/plain": [
              "<IPython.core.display.HTML object>"
            ]
          },
          "metadata": {}
        },
        {
          "output_type": "stream",
          "name": "stdout",
          "text": [
            "Epoch 1/40\n",
            "   3/3289 [..............................] - ETA: 10:56 - loss: 2.3538 - auc: 0.5630WARNING:tensorflow:Callback method `on_train_batch_begin` is slow compared to the batch time (batch time: 0.0093s vs `on_train_batch_begin` time: 0.0282s). Check your callbacks.\n",
            "WARNING:tensorflow:Callback method `on_train_batch_end` is slow compared to the batch time (batch time: 0.0093s vs `on_train_batch_end` time: 0.0379s). Check your callbacks.\n",
            "3289/3289 [==============================] - 46s 14ms/step - loss: 0.6914 - auc: 0.5942 - val_loss: 0.6742 - val_auc: 0.6245\n",
            "Epoch 2/40\n",
            "3289/3289 [==============================] - 45s 14ms/step - loss: 0.6760 - auc: 0.6079 - val_loss: 0.6689 - val_auc: 0.6231\n",
            "Epoch 3/40\n",
            "3289/3289 [==============================] - 45s 14ms/step - loss: 0.6715 - auc: 0.6171 - val_loss: 0.6675 - val_auc: 0.6397\n",
            "Epoch 4/40\n",
            "3289/3289 [==============================] - 45s 14ms/step - loss: 0.6617 - auc: 0.6354 - val_loss: 0.6360 - val_auc: 0.6969\n",
            "Epoch 5/40\n",
            "3289/3289 [==============================] - 45s 14ms/step - loss: 0.6467 - auc: 0.6598 - val_loss: 0.5925 - val_auc: 0.7320\n",
            "Epoch 6/40\n",
            "3289/3289 [==============================] - 45s 14ms/step - loss: 0.6250 - auc: 0.6895 - val_loss: 0.5368 - val_auc: 0.7972\n",
            "Epoch 7/40\n",
            "3289/3289 [==============================] - 45s 14ms/step - loss: 0.6004 - auc: 0.7183 - val_loss: 0.5264 - val_auc: 0.8109\n",
            "Epoch 8/40\n",
            "3289/3289 [==============================] - 45s 14ms/step - loss: 0.5787 - auc: 0.7440 - val_loss: 0.4998 - val_auc: 0.8192\n",
            "Epoch 9/40\n",
            "3289/3289 [==============================] - 45s 14ms/step - loss: 0.5562 - auc: 0.7677 - val_loss: 0.4225 - val_auc: 0.8895\n",
            "Epoch 10/40\n",
            "3289/3289 [==============================] - 45s 14ms/step - loss: 0.5366 - auc: 0.7880 - val_loss: 0.3856 - val_auc: 0.9135\n",
            "Epoch 11/40\n",
            "3289/3289 [==============================] - 45s 14ms/step - loss: 0.5160 - auc: 0.8066 - val_loss: 0.3977 - val_auc: 0.9169\n",
            "Epoch 12/40\n",
            "3289/3289 [==============================] - 45s 14ms/step - loss: 0.4984 - auc: 0.8206 - val_loss: 0.3034 - val_auc: 0.9443\n",
            "Epoch 13/40\n",
            "3289/3289 [==============================] - 45s 14ms/step - loss: 0.4797 - auc: 0.8362 - val_loss: 0.3092 - val_auc: 0.9449\n",
            "Epoch 14/40\n",
            "3289/3289 [==============================] - 45s 14ms/step - loss: 0.4640 - auc: 0.8484 - val_loss: 0.2659 - val_auc: 0.9607\n",
            "Epoch 15/40\n",
            "3289/3289 [==============================] - 45s 14ms/step - loss: 0.4483 - auc: 0.8597 - val_loss: 0.2564 - val_auc: 0.9667\n",
            "Epoch 16/40\n",
            "3289/3289 [==============================] - 45s 14ms/step - loss: 0.4337 - auc: 0.8703 - val_loss: 0.2202 - val_auc: 0.9744\n",
            "Epoch 17/40\n",
            "3289/3289 [==============================] - 45s 14ms/step - loss: 0.4184 - auc: 0.8804 - val_loss: 0.2277 - val_auc: 0.9740\n",
            "Epoch 18/40\n",
            "3289/3289 [==============================] - 45s 14ms/step - loss: 0.4035 - auc: 0.8892 - val_loss: 0.1988 - val_auc: 0.9775\n",
            "Epoch 19/40\n",
            "3289/3289 [==============================] - 45s 14ms/step - loss: 0.3927 - auc: 0.8963 - val_loss: 0.2007 - val_auc: 0.9786\n",
            "Epoch 20/40\n",
            "3289/3289 [==============================] - 45s 14ms/step - loss: 0.3818 - auc: 0.9031 - val_loss: 0.1622 - val_auc: 0.9852\n",
            "Epoch 21/40\n",
            "3289/3289 [==============================] - 45s 14ms/step - loss: 0.3684 - auc: 0.9102 - val_loss: 0.1635 - val_auc: 0.9848\n",
            "Epoch 22/40\n",
            "3289/3289 [==============================] - 45s 14ms/step - loss: 0.3574 - auc: 0.9162 - val_loss: 0.1766 - val_auc: 0.9851\n",
            "Epoch 23/40\n",
            "3289/3289 [==============================] - 45s 14ms/step - loss: 0.3448 - auc: 0.9224 - val_loss: 0.1597 - val_auc: 0.9851\n",
            "Epoch 24/40\n",
            "3289/3289 [==============================] - 45s 14ms/step - loss: 0.3343 - auc: 0.9276 - val_loss: 0.1465 - val_auc: 0.9874\n",
            "Epoch 25/40\n",
            "3289/3289 [==============================] - 45s 14ms/step - loss: 0.3262 - auc: 0.9315 - val_loss: 0.1360 - val_auc: 0.9889\n",
            "Epoch 26/40\n",
            "3289/3289 [==============================] - 45s 14ms/step - loss: 0.3141 - auc: 0.9370 - val_loss: 0.1240 - val_auc: 0.9909\n",
            "Epoch 27/40\n",
            "3289/3289 [==============================] - 45s 14ms/step - loss: 0.3083 - auc: 0.9393 - val_loss: 0.1404 - val_auc: 0.9895\n",
            "Epoch 28/40\n",
            "3289/3289 [==============================] - 45s 14ms/step - loss: 0.2958 - auc: 0.9446 - val_loss: 0.1332 - val_auc: 0.9886\n",
            "Epoch 29/40\n",
            "3289/3289 [==============================] - 45s 14ms/step - loss: 0.2868 - auc: 0.9483 - val_loss: 0.1188 - val_auc: 0.9906\n",
            "Epoch 30/40\n",
            "3289/3289 [==============================] - 45s 14ms/step - loss: 0.2800 - auc: 0.9509 - val_loss: 0.1166 - val_auc: 0.9919\n",
            "Epoch 31/40\n",
            "3289/3289 [==============================] - 45s 14ms/step - loss: 0.2706 - auc: 0.9542 - val_loss: 0.1046 - val_auc: 0.9926\n",
            "Epoch 32/40\n",
            "3289/3289 [==============================] - 45s 14ms/step - loss: 0.2632 - auc: 0.9568 - val_loss: 0.1039 - val_auc: 0.9926\n",
            "Epoch 33/40\n",
            "3289/3289 [==============================] - 45s 14ms/step - loss: 0.2563 - auc: 0.9591 - val_loss: 0.1091 - val_auc: 0.9912\n",
            "Epoch 34/40\n",
            "3289/3289 [==============================] - 45s 14ms/step - loss: 0.2496 - auc: 0.9613 - val_loss: 0.1123 - val_auc: 0.9909\n",
            "Epoch 35/40\n",
            "3289/3289 [==============================] - 45s 14ms/step - loss: 0.2419 - auc: 0.9637 - val_loss: 0.1015 - val_auc: 0.9931\n",
            "Epoch 36/40\n",
            "3289/3289 [==============================] - 45s 14ms/step - loss: 0.2352 - auc: 0.9659 - val_loss: 0.0955 - val_auc: 0.9938\n",
            "Epoch 37/40\n",
            "3289/3289 [==============================] - 45s 14ms/step - loss: 0.2298 - auc: 0.9676 - val_loss: 0.1012 - val_auc: 0.9918\n",
            "Epoch 38/40\n",
            "3289/3289 [==============================] - 45s 14ms/step - loss: 0.2235 - auc: 0.9693 - val_loss: 0.0905 - val_auc: 0.9936\n",
            "Epoch 39/40\n",
            "3289/3289 [==============================] - 45s 14ms/step - loss: 0.2189 - auc: 0.9706 - val_loss: 0.1030 - val_auc: 0.9926\n",
            "Epoch 40/40\n",
            "3289/3289 [==============================] - 45s 14ms/step - loss: 0.2136 - auc: 0.9720 - val_loss: 0.0991 - val_auc: 0.9922\n"
          ]
        },
        {
          "output_type": "display_data",
          "data": {
            "text/html": [
              "<br/>Waiting for W&B process to finish, PID 13373... <strong style=\"color:green\">(success).</strong>"
            ],
            "text/plain": [
              "<IPython.core.display.HTML object>"
            ]
          },
          "metadata": {}
        },
        {
          "output_type": "display_data",
          "data": {
            "application/vnd.jupyter.widget-view+json": {
              "model_id": "65ea1b456bd34cf0ab4745cf36493df8",
              "version_minor": 0,
              "version_major": 2
            },
            "text/plain": [
              "VBox(children=(Label(value=' 20.88MB of 20.89MB uploaded (0.00MB deduped)\\r'), FloatProgress(value=0.999505335…"
            ]
          },
          "metadata": {}
        },
        {
          "output_type": "display_data",
          "data": {
            "text/html": [
              "<style>\n",
              "    table.wandb td:nth-child(1) { padding: 0 10px; text-align: right }\n",
              "    .wandb-row { display: flex; flex-direction: row; flex-wrap: wrap; width: 100% }\n",
              "    .wandb-col { display: flex; flex-direction: column; flex-basis: 100%; flex: 1; padding: 10px; }\n",
              "    </style>\n",
              "<div class=\"wandb-row\"><div class=\"wandb-col\">\n",
              "<h3>Run history:</h3><br/><table class=\"wandb\"><tr><td>auc</td><td>▁▁▁▂▂▃▃▄▄▅▅▅▅▆▆▆▆▆▇▇▇▇▇▇▇▇▇▇████████████</td></tr><tr><td>epoch</td><td>▁▁▁▂▂▂▂▂▂▃▃▃▃▃▄▄▄▄▄▄▅▅▅▅▅▅▆▆▆▆▆▇▇▇▇▇▇███</td></tr><tr><td>loss</td><td>████▇▇▇▆▆▆▅▅▅▅▄▄▄▄▄▃▃▃▃▃▃▂▂▂▂▂▂▂▂▂▁▁▁▁▁▁</td></tr><tr><td>val_auc</td><td>▁▁▁▂▃▄▅▅▆▆▇▇▇▇▇█████████████████████████</td></tr><tr><td>val_loss</td><td>████▇▆▆▆▅▅▅▄▄▃▃▃▃▂▂▂▂▂▂▂▂▁▂▂▁▁▁▁▁▁▁▁▁▁▁▁</td></tr></table><br/></div><div class=\"wandb-col\">\n",
              "<h3>Run summary:</h3><br/><table class=\"wandb\"><tr><td>auc</td><td>0.97199</td></tr><tr><td>best_epoch</td><td>37</td></tr><tr><td>best_val_loss</td><td>0.09048</td></tr><tr><td>epoch</td><td>39</td></tr><tr><td>loss</td><td>0.21359</td></tr><tr><td>val_auc</td><td>0.99222</td></tr><tr><td>val_loss</td><td>0.09905</td></tr></table>\n",
              "</div></div>\n",
              "Synced 5 W&B file(s), 1441 media file(s), 0 artifact file(s) and 11 other file(s)\n",
              "<br/>Synced <strong style=\"color:#cdcd00\">super-sweep-7</strong>: <a href=\"https://wandb.ai/johanjunme/RSNA_1015_alldata_augmented/runs/56r211c9\" target=\"_blank\">https://wandb.ai/johanjunme/RSNA_1015_alldata_augmented/runs/56r211c9</a><br/>\n",
              "Find logs at: <code>./wandb/run-20211015_102700-56r211c9/logs</code><br/>\n"
            ],
            "text/plain": [
              "<IPython.core.display.HTML object>"
            ]
          },
          "metadata": {}
        },
        {
          "output_type": "stream",
          "name": "stderr",
          "text": [
            "\u001b[34m\u001b[1mwandb\u001b[0m: Agent Starting Run: 3f0bfgni with config:\n",
            "\u001b[34m\u001b[1mwandb\u001b[0m: \tDENSE: 512\n",
            "\u001b[34m\u001b[1mwandb\u001b[0m: \tDROPOUT: 0.4\n",
            "\u001b[34m\u001b[1mwandb\u001b[0m: \tN_BATCH: 128\n",
            "\u001b[34m\u001b[1mwandb\u001b[0m: \u001b[33mWARNING\u001b[0m Ignored wandb.init() arg project when running a sweep\n"
          ]
        },
        {
          "output_type": "display_data",
          "data": {
            "text/html": [
              "\n",
              "                    Syncing run <strong><a href=\"https://wandb.ai/johanjunme/RSNA_1015_alldata_augmented/runs/3f0bfgni\" target=\"_blank\">ancient-sweep-8</a></strong> to <a href=\"https://wandb.ai/johanjunme/RSNA_1015_alldata_augmented\" target=\"_blank\">Weights & Biases</a> (<a href=\"https://docs.wandb.com/integrations/jupyter.html\" target=\"_blank\">docs</a>).<br/>\n",
              "Sweep page: <a href=\"https://wandb.ai/johanjunme/RSNA_1015_alldata_augmented/sweeps/04x235h9\" target=\"_blank\">https://wandb.ai/johanjunme/RSNA_1015_alldata_augmented/sweeps/04x235h9</a><br/>\n",
              "\n",
              "                "
            ],
            "text/plain": [
              "<IPython.core.display.HTML object>"
            ]
          },
          "metadata": {}
        },
        {
          "output_type": "stream",
          "name": "stdout",
          "text": [
            "Epoch 1/40\n",
            "  5/822 [..............................] - ETA: 1:51 - loss: 2.1286 - auc: 0.4892WARNING:tensorflow:Callback method `on_train_batch_begin` is slow compared to the batch time (batch time: 0.0224s vs `on_train_batch_begin` time: 0.0297s). Check your callbacks.\n",
            "WARNING:tensorflow:Callback method `on_train_batch_end` is slow compared to the batch time (batch time: 0.0224s vs `on_train_batch_end` time: 0.0525s). Check your callbacks.\n",
            "822/822 [==============================] - 35s 41ms/step - loss: 0.7052 - auc: 0.5924 - val_loss: 0.6716 - val_auc: 0.6300\n",
            "Epoch 2/40\n",
            "822/822 [==============================] - 33s 40ms/step - loss: 0.6732 - auc: 0.6130 - val_loss: 0.6628 - val_auc: 0.6442\n",
            "Epoch 3/40\n",
            "822/822 [==============================] - 33s 41ms/step - loss: 0.6667 - auc: 0.6269 - val_loss: 0.6301 - val_auc: 0.6902\n",
            "Epoch 4/40\n",
            "822/822 [==============================] - 33s 40ms/step - loss: 0.6554 - auc: 0.6458 - val_loss: 0.6112 - val_auc: 0.7188\n",
            "Epoch 5/40\n",
            "822/822 [==============================] - 33s 40ms/step - loss: 0.6424 - auc: 0.6660 - val_loss: 0.5791 - val_auc: 0.7487\n",
            "Epoch 6/40\n",
            "822/822 [==============================] - 33s 41ms/step - loss: 0.6237 - auc: 0.6909 - val_loss: 0.5488 - val_auc: 0.7817\n",
            "Epoch 7/40\n",
            "822/822 [==============================] - 33s 40ms/step - loss: 0.6020 - auc: 0.7179 - val_loss: 0.5168 - val_auc: 0.8114\n",
            "Epoch 8/40\n",
            "822/822 [==============================] - 33s 40ms/step - loss: 0.5811 - auc: 0.7407 - val_loss: 0.4764 - val_auc: 0.8415\n",
            "Epoch 9/40\n",
            "822/822 [==============================] - 33s 40ms/step - loss: 0.5604 - auc: 0.7626 - val_loss: 0.4489 - val_auc: 0.8597\n",
            "Epoch 10/40\n",
            "822/822 [==============================] - 33s 40ms/step - loss: 0.5403 - auc: 0.7826 - val_loss: 0.3979 - val_auc: 0.9040\n",
            "Epoch 11/40\n",
            "822/822 [==============================] - 33s 40ms/step - loss: 0.5205 - auc: 0.8008 - val_loss: 0.3525 - val_auc: 0.9313\n",
            "Epoch 12/40\n",
            "822/822 [==============================] - 33s 41ms/step - loss: 0.4986 - auc: 0.8204 - val_loss: 0.3453 - val_auc: 0.9236\n",
            "Epoch 13/40\n",
            "822/822 [==============================] - 33s 41ms/step - loss: 0.4804 - auc: 0.8356 - val_loss: 0.2794 - val_auc: 0.9543\n",
            "Epoch 14/40\n",
            "822/822 [==============================] - 33s 40ms/step - loss: 0.4618 - auc: 0.8494 - val_loss: 0.2626 - val_auc: 0.9618\n",
            "Epoch 15/40\n",
            "822/822 [==============================] - 33s 41ms/step - loss: 0.4433 - auc: 0.8625 - val_loss: 0.2574 - val_auc: 0.9628\n",
            "Epoch 16/40\n",
            "822/822 [==============================] - 33s 40ms/step - loss: 0.4261 - auc: 0.8737 - val_loss: 0.2088 - val_auc: 0.9755\n",
            "Epoch 17/40\n",
            "822/822 [==============================] - 33s 40ms/step - loss: 0.4140 - auc: 0.8824 - val_loss: 0.1941 - val_auc: 0.9785\n",
            "Epoch 18/40\n",
            "822/822 [==============================] - 33s 41ms/step - loss: 0.3983 - auc: 0.8917 - val_loss: 0.2137 - val_auc: 0.9790\n",
            "Epoch 19/40\n",
            "822/822 [==============================] - 33s 40ms/step - loss: 0.3840 - auc: 0.9007 - val_loss: 0.1683 - val_auc: 0.9841\n",
            "Epoch 20/40\n",
            "822/822 [==============================] - 33s 40ms/step - loss: 0.3701 - auc: 0.9088 - val_loss: 0.1855 - val_auc: 0.9793\n",
            "Epoch 21/40\n",
            "822/822 [==============================] - 33s 40ms/step - loss: 0.3561 - auc: 0.9160 - val_loss: 0.1420 - val_auc: 0.9879\n",
            "Epoch 22/40\n",
            "822/822 [==============================] - 33s 40ms/step - loss: 0.3446 - auc: 0.9221 - val_loss: 0.1573 - val_auc: 0.9874\n",
            "Epoch 23/40\n",
            "822/822 [==============================] - 33s 40ms/step - loss: 0.3337 - auc: 0.9275 - val_loss: 0.1507 - val_auc: 0.9879\n",
            "Epoch 24/40\n",
            "822/822 [==============================] - 33s 41ms/step - loss: 0.3230 - auc: 0.9323 - val_loss: 0.1177 - val_auc: 0.9914\n",
            "Epoch 25/40\n",
            "822/822 [==============================] - 33s 40ms/step - loss: 0.3119 - auc: 0.9372 - val_loss: 0.1177 - val_auc: 0.9915\n",
            "Epoch 26/40\n",
            "822/822 [==============================] - 33s 41ms/step - loss: 0.3027 - auc: 0.9413 - val_loss: 0.1094 - val_auc: 0.9928\n",
            "Epoch 27/40\n",
            "822/822 [==============================] - 33s 40ms/step - loss: 0.2907 - auc: 0.9463 - val_loss: 0.1200 - val_auc: 0.9910\n",
            "Epoch 28/40\n",
            "822/822 [==============================] - 33s 41ms/step - loss: 0.2833 - auc: 0.9492 - val_loss: 0.1068 - val_auc: 0.9921\n",
            "Epoch 29/40\n",
            "822/822 [==============================] - 33s 40ms/step - loss: 0.2726 - auc: 0.9533 - val_loss: 0.0951 - val_auc: 0.9941\n",
            "Epoch 30/40\n",
            "822/822 [==============================] - 33s 40ms/step - loss: 0.2637 - auc: 0.9564 - val_loss: 0.1090 - val_auc: 0.9923\n",
            "Epoch 31/40\n",
            "822/822 [==============================] - 33s 41ms/step - loss: 0.2534 - auc: 0.9599 - val_loss: 0.1068 - val_auc: 0.9922\n",
            "Epoch 32/40\n",
            "822/822 [==============================] - 33s 40ms/step - loss: 0.2471 - auc: 0.9620 - val_loss: 0.0793 - val_auc: 0.9954\n",
            "Epoch 33/40\n",
            "822/822 [==============================] - 33s 40ms/step - loss: 0.2415 - auc: 0.9638 - val_loss: 0.0852 - val_auc: 0.9945\n",
            "Epoch 34/40\n",
            "822/822 [==============================] - 33s 40ms/step - loss: 0.2323 - auc: 0.9666 - val_loss: 0.0889 - val_auc: 0.9939\n",
            "Epoch 35/40\n",
            "822/822 [==============================] - 33s 40ms/step - loss: 0.2251 - auc: 0.9688 - val_loss: 0.0812 - val_auc: 0.9954\n",
            "Epoch 36/40\n",
            "822/822 [==============================] - 33s 40ms/step - loss: 0.2192 - auc: 0.9705 - val_loss: 0.0863 - val_auc: 0.9955\n",
            "Epoch 37/40\n",
            "822/822 [==============================] - 33s 40ms/step - loss: 0.2118 - auc: 0.9725 - val_loss: 0.0897 - val_auc: 0.9947\n",
            "Epoch 38/40\n",
            "822/822 [==============================] - 33s 40ms/step - loss: 0.2073 - auc: 0.9736 - val_loss: 0.0732 - val_auc: 0.9962\n",
            "Epoch 39/40\n",
            "822/822 [==============================] - 33s 40ms/step - loss: 0.2009 - auc: 0.9753 - val_loss: 0.0751 - val_auc: 0.9953\n",
            "Epoch 40/40\n",
            "822/822 [==============================] - 33s 40ms/step - loss: 0.1929 - auc: 0.9771 - val_loss: 0.0771 - val_auc: 0.9951\n"
          ]
        },
        {
          "output_type": "display_data",
          "data": {
            "text/html": [
              "<br/>Waiting for W&B process to finish, PID 15714... <strong style=\"color:green\">(success).</strong>"
            ],
            "text/plain": [
              "<IPython.core.display.HTML object>"
            ]
          },
          "metadata": {}
        },
        {
          "output_type": "display_data",
          "data": {
            "application/vnd.jupyter.widget-view+json": {
              "model_id": "ba26866e14d4409ab4dc9dcc4ca80e54",
              "version_minor": 0,
              "version_major": 2
            },
            "text/plain": [
              "VBox(children=(Label(value=' 20.89MB of 20.90MB uploaded (0.00MB deduped)\\r'), FloatProgress(value=0.999441879…"
            ]
          },
          "metadata": {}
        },
        {
          "output_type": "display_data",
          "data": {
            "text/html": [
              "<style>\n",
              "    table.wandb td:nth-child(1) { padding: 0 10px; text-align: right }\n",
              "    .wandb-row { display: flex; flex-direction: row; flex-wrap: wrap; width: 100% }\n",
              "    .wandb-col { display: flex; flex-direction: column; flex-basis: 100%; flex: 1; padding: 10px; }\n",
              "    </style>\n",
              "<div class=\"wandb-row\"><div class=\"wandb-col\">\n",
              "<h3>Run history:</h3><br/><table class=\"wandb\"><tr><td>auc</td><td>▁▁▂▂▂▃▃▄▄▄▅▅▅▆▆▆▆▆▇▇▇▇▇▇▇▇▇▇████████████</td></tr><tr><td>epoch</td><td>▁▁▁▂▂▂▂▂▂▃▃▃▃▃▄▄▄▄▄▄▅▅▅▅▅▅▆▆▆▆▆▇▇▇▇▇▇███</td></tr><tr><td>loss</td><td>██▇▇▇▇▇▆▆▆▅▅▅▅▄▄▄▄▄▃▃▃▃▃▃▃▂▂▂▂▂▂▂▂▁▁▁▁▁▁</td></tr><tr><td>val_auc</td><td>▁▁▂▃▃▄▄▅▅▆▇▇▇▇▇█████████████████████████</td></tr><tr><td>val_loss</td><td>███▇▇▇▆▆▅▅▄▄▃▃▃▃▂▃▂▂▂▂▂▂▂▁▂▁▁▁▁▁▁▁▁▁▁▁▁▁</td></tr></table><br/></div><div class=\"wandb-col\">\n",
              "<h3>Run summary:</h3><br/><table class=\"wandb\"><tr><td>auc</td><td>0.97714</td></tr><tr><td>best_epoch</td><td>37</td></tr><tr><td>best_val_loss</td><td>0.07316</td></tr><tr><td>epoch</td><td>39</td></tr><tr><td>loss</td><td>0.19294</td></tr><tr><td>val_auc</td><td>0.99514</td></tr><tr><td>val_loss</td><td>0.07707</td></tr></table>\n",
              "</div></div>\n",
              "Synced 5 W&B file(s), 1441 media file(s), 0 artifact file(s) and 11 other file(s)\n",
              "<br/>Synced <strong style=\"color:#cdcd00\">ancient-sweep-8</strong>: <a href=\"https://wandb.ai/johanjunme/RSNA_1015_alldata_augmented/runs/3f0bfgni\" target=\"_blank\">https://wandb.ai/johanjunme/RSNA_1015_alldata_augmented/runs/3f0bfgni</a><br/>\n",
              "Find logs at: <code>./wandb/run-20211015_105708-3f0bfgni/logs</code><br/>\n"
            ],
            "text/plain": [
              "<IPython.core.display.HTML object>"
            ]
          },
          "metadata": {}
        },
        {
          "output_type": "stream",
          "name": "stderr",
          "text": [
            "\u001b[34m\u001b[1mwandb\u001b[0m: Sweep Agent: Waiting for job.\n",
            "\u001b[34m\u001b[1mwandb\u001b[0m: Sweep Agent: Exiting.\n"
          ]
        }
      ]
    },
    {
      "cell_type": "code",
      "metadata": {
        "id": "T-7icDtH4pm1"
      },
      "source": [
        ""
      ],
      "execution_count": null,
      "outputs": []
    }
  ]
}