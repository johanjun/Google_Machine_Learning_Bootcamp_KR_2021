{
  "nbformat": 4,
  "nbformat_minor": 0,
  "metadata": {
    "kernelspec": {
      "language": "python",
      "display_name": "Python 3",
      "name": "python3"
    },
    "language_info": {
      "name": "python",
      "version": "3.7.10",
      "mimetype": "text/x-python",
      "codemirror_mode": {
        "name": "ipython",
        "version": 3
      },
      "pygments_lexer": "ipython3",
      "nbconvert_exporter": "python",
      "file_extension": ".py"
    },
    "colab": {
      "name": "rsna-miccai-brain-tumor-johanjun_0929_effi.ipynb",
      "provenance": [],
      "collapsed_sections": [],
      "machine_shape": "hm",
      "include_colab_link": true
    },
    "accelerator": "GPU"
  },
  "cells": [
    {
      "cell_type": "markdown",
      "metadata": {
        "id": "view-in-github",
        "colab_type": "text"
      },
      "source": [
        "<a href=\"https://colab.research.google.com/github/johanjun/Google_Machine_Learning_Bootcamp_KR_2021/blob/main/kaggle/RSNA_MICCAI_BRAIN_TUMOR/rsna_miccai_brain_tumor_johanjun_0929_effi.ipynb\" target=\"_parent\"><img src=\"https://colab.research.google.com/assets/colab-badge.svg\" alt=\"Open In Colab\"/></a>"
      ]
    },
    {
      "cell_type": "code",
      "metadata": {
        "colab": {
          "base_uri": "https://localhost:8080/"
        },
        "id": "xOUCOQHHYjrI",
        "outputId": "88acb7b8-b133-4476-e312-762fd8fed628"
      },
      "source": [
        "pip install pydicom"
      ],
      "execution_count": 1,
      "outputs": [
        {
          "output_type": "stream",
          "name": "stdout",
          "text": [
            "Collecting pydicom\n",
            "  Downloading pydicom-2.2.1-py3-none-any.whl (2.0 MB)\n",
            "\u001b[K     |████████████████████████████████| 2.0 MB 8.2 MB/s \n",
            "\u001b[?25hInstalling collected packages: pydicom\n",
            "Successfully installed pydicom-2.2.1\n"
          ]
        }
      ]
    },
    {
      "cell_type": "code",
      "metadata": {
        "_uuid": "8f2839f25d086af736a60e9eeb907d3b93b6e0e5",
        "_cell_guid": "b1076dfc-b9ad-4769-8c92-a6c4dae69d19",
        "execution": {
          "iopub.status.busy": "2021-09-09T08:53:56.762280Z",
          "iopub.execute_input": "2021-09-09T08:53:56.762670Z",
          "iopub.status.idle": "2021-09-09T08:53:56.769176Z",
          "shell.execute_reply.started": "2021-09-09T08:53:56.762636Z",
          "shell.execute_reply": "2021-09-09T08:53:56.768094Z"
        },
        "trusted": true,
        "id": "0l9glKmsSg6D"
      },
      "source": [
        "import numpy as np # linear algebra\n",
        "import pandas as pd # data processing, CSV file I/O (e.g. pd.read_csv)\n",
        "import os\n",
        "from tqdm import tqdm\n",
        "import random\n",
        "# import pydicom\n",
        "import cv2\n",
        "import pickle\n",
        "\n",
        "import matplotlib.pyplot as plt\n",
        "import glob\n",
        "\n",
        "import tensorflow as tf\n",
        "from tensorflow import keras\n",
        "from tensorflow.keras.utils import to_categorical\n",
        "from sklearn.model_selection import train_test_split"
      ],
      "execution_count": 2,
      "outputs": []
    },
    {
      "cell_type": "code",
      "metadata": {
        "id": "c6wQE57KS99g"
      },
      "source": [
        "data_dir = '/content/drive/MyDrive/Google_Machine_Learning_Bootcamp_KR_2021/RSNA_MICCAI/data/rsna-miccai/'"
      ],
      "execution_count": 4,
      "outputs": []
    },
    {
      "cell_type": "code",
      "metadata": {
        "execution": {
          "iopub.status.busy": "2021-09-09T08:05:05.559632Z",
          "iopub.execute_input": "2021-09-09T08:05:05.560291Z",
          "iopub.status.idle": "2021-09-09T08:05:05.588138Z",
          "shell.execute_reply.started": "2021-09-09T08:05:05.560236Z",
          "shell.execute_reply": "2021-09-09T08:05:05.587076Z"
        },
        "trusted": true,
        "id": "50rg9HSFSg6G"
      },
      "source": [
        "train_df = pd.read_csv(data_dir + \"train_labels.csv\")\n",
        "test_df = pd.read_csv(data_dir + \"sample_submission.csv\")"
      ],
      "execution_count": 5,
      "outputs": []
    },
    {
      "cell_type": "markdown",
      "metadata": {
        "id": "WFR8qocSSg6G"
      },
      "source": [
        "In this discussion a competition host has notified that there are some issues with these 3 cases\n",
        "Patient IDs -\n",
        "\n",
        "1. 00109 (FLAIR images are blank)\n",
        "2. 00123 (T1w images are blank)\n",
        "3. 00709 (FLAIR images are blank)\n",
        "<br><br>Hence these can be excluded"
      ]
    },
    {
      "cell_type": "code",
      "metadata": {
        "execution": {
          "iopub.status.busy": "2021-09-09T08:05:07.655722Z",
          "iopub.execute_input": "2021-09-09T08:05:07.656096Z",
          "iopub.status.idle": "2021-09-09T08:05:07.675143Z",
          "shell.execute_reply.started": "2021-09-09T08:05:07.656067Z",
          "shell.execute_reply": "2021-09-09T08:05:07.673869Z"
        },
        "trusted": true,
        "id": "ZNX625ndSg6I"
      },
      "source": [
        "#refer: https://www.kaggle.com/arnabs007/part-1-rsna-miccai-btrc-understanding-the-data\n",
        "EXCLUDE = [109, 123, 709]\n",
        "train_df = train_df[~train_df.BraTS21ID.isin(EXCLUDE)]"
      ],
      "execution_count": 6,
      "outputs": []
    },
    {
      "cell_type": "code",
      "metadata": {
        "execution": {
          "iopub.status.busy": "2021-09-09T08:05:08.179708Z",
          "iopub.execute_input": "2021-09-09T08:05:08.180276Z",
          "iopub.status.idle": "2021-09-09T08:05:08.184417Z",
          "shell.execute_reply.started": "2021-09-09T08:05:08.180233Z",
          "shell.execute_reply": "2021-09-09T08:05:08.183183Z"
        },
        "trusted": true,
        "id": "MC2xY5WrSg6I"
      },
      "source": [
        "TYPES = [\"FLAIR\", \"T1w\", \"T1wCE\", \"T2w\"] #mpMRI scans"
      ],
      "execution_count": 7,
      "outputs": []
    },
    {
      "cell_type": "code",
      "metadata": {
        "execution": {
          "iopub.status.busy": "2021-09-09T08:05:08.874839Z",
          "iopub.execute_input": "2021-09-09T08:05:08.875202Z",
          "iopub.status.idle": "2021-09-09T08:05:08.880569Z",
          "shell.execute_reply.started": "2021-09-09T08:05:08.875173Z",
          "shell.execute_reply": "2021-09-09T08:05:08.879818Z"
        },
        "trusted": true,
        "id": "OpI5yrzsSg6I"
      },
      "source": [
        "def load_dicom(path, size = 64): #load DICOM files\n",
        "    dicom = pydicom.read_file(path)\n",
        "    data = dicom.pixel_array #returns a numpy.ndarray containing the pixel data\n",
        "    if np.max(data) != 0:\n",
        "        data = data / np.max(data) #standardizes so that the pixel values are between 0 and 1\n",
        "    data = (data * 255).astype(np.uint8) #rescales to 0 and 255\n",
        "    return cv2.resize(data, (size, size))"
      ],
      "execution_count": 8,
      "outputs": []
    },
    {
      "cell_type": "code",
      "metadata": {
        "execution": {
          "iopub.status.busy": "2021-09-09T08:05:09.466375Z",
          "iopub.execute_input": "2021-09-09T08:05:09.466923Z",
          "iopub.status.idle": "2021-09-09T08:05:09.474187Z",
          "shell.execute_reply.started": "2021-09-09T08:05:09.466888Z",
          "shell.execute_reply": "2021-09-09T08:05:09.473386Z"
        },
        "trusted": true,
        "id": "3nirbxWXSg6J"
      },
      "source": [
        "def get_all_image_paths(BraTS21ID, image_type, folder=\"train\"): #get an array of all the images of a particular type or a particular patient id\n",
        "    assert(image_type in TYPES) #only in types\n",
        "    patient_path = os.path.join(data_dir + \"%s/\" % folder, str(BraTS21ID).zfill(5)) #다른 폴더일 수도 있음\n",
        "    #print(lambda x: int(x[:-4].split(\"-\")[-1]))\n",
        "    \n",
        "    paths = sorted(glob.glob(os.path.join(patient_path, image_type, \"*\")), key=lambda x: int(x[:-4].split(\"-\")[-1])) #sort\n",
        "    #print(paths)\n",
        "    \n",
        "    num_images = len(paths)\n",
        "    \n",
        "    start = int(num_images * 0.25)\n",
        "    end = int(num_images * 0.75)\n",
        "    if num_images < 10:\n",
        "        jump = 1\n",
        "    else:\n",
        "        jump = 3\n",
        "        \n",
        "    return np.array(paths[start:end:jump])"
      ],
      "execution_count": 9,
      "outputs": []
    },
    {
      "cell_type": "code",
      "metadata": {
        "execution": {
          "iopub.status.busy": "2021-09-09T08:05:09.961756Z",
          "iopub.execute_input": "2021-09-09T08:05:09.962152Z",
          "iopub.status.idle": "2021-09-09T08:05:09.966979Z",
          "shell.execute_reply.started": "2021-09-09T08:05:09.962116Z",
          "shell.execute_reply": "2021-09-09T08:05:09.966011Z"
        },
        "trusted": true,
        "id": "oWZMpAyBSg6K"
      },
      "source": [
        "def get_all_images(BraTS21ID, image_type, folder=\"train\", size=225):\n",
        "    return [load_dicom(path, size) for path in get_all_image_paths(BraTS21ID, image_type, folder)]"
      ],
      "execution_count": 10,
      "outputs": []
    },
    {
      "cell_type": "code",
      "metadata": {
        "execution": {
          "iopub.status.busy": "2021-09-09T08:05:10.416138Z",
          "iopub.execute_input": "2021-09-09T08:05:10.416626Z",
          "iopub.status.idle": "2021-09-09T08:05:10.425527Z",
          "shell.execute_reply.started": "2021-09-09T08:05:10.416595Z",
          "shell.execute_reply": "2021-09-09T08:05:10.424744Z"
        },
        "trusted": true,
        "id": "5DDIDg9dSg6L"
      },
      "source": [
        "def get_all_data_train(image_type):\n",
        "    global train_df\n",
        "    \n",
        "    X = []\n",
        "    y = []\n",
        "    train_ids = []\n",
        "\n",
        "    for i in tqdm(train_df.index):\n",
        "        tmp_x = train_df.loc[i]\n",
        "        images = get_all_images(int(tmp_x[\"BraTS21ID\"]), image_type, \"train\", IMAGE_SIZE)\n",
        "        label = tmp_x[\"MGMT_value\"]\n",
        "\n",
        "        X += images\n",
        "        y += [label] * len(images)\n",
        "        train_ids += [int(tmp_x[\"BraTS21ID\"])] * len(images)\n",
        "        assert(len(X) == len(y))\n",
        "    return np.array(X), np.array(y), np.array(train_ids)\n",
        "\n",
        "def get_all_data_test(image_type):\n",
        "    global test_df\n",
        "    \n",
        "    X = []\n",
        "    test_ids = []\n",
        "\n",
        "    for i in tqdm(test_df.index):\n",
        "        tmp_x = test_df.loc[i]\n",
        "        images = get_all_images(int(tmp_x[\"BraTS21ID\"]), image_type, \"test\", IMAGE_SIZE)\n",
        "        X += images\n",
        "        test_ids += [int(tmp_x[\"BraTS21ID\"])] * len(images)\n",
        "\n",
        "    return np.array(X), np.array(test_ids)"
      ],
      "execution_count": 11,
      "outputs": []
    },
    {
      "cell_type": "code",
      "metadata": {
        "id": "eLyFI_-kAgH4"
      },
      "source": [
        "#pickling\n",
        "with open(data_dir+'X_T1wCE.pkl', 'rb') as f:\n",
        "  X_T1wCE = pickle.load(f)\n",
        "\n",
        "with open(data_dir+'y_T1wCE.pkl', 'rb') as f:\n",
        "  y_T1wCE = pickle.load(f)\n",
        "\n",
        "with open(data_dir+'train_idt_T1wCE.pkl', 'rb') as f:\n",
        "  train_idt_T1wCE = pickle.load(f)\n",
        "\n",
        "with open(data_dir+'X_test_T1wCE.pkl', 'rb') as f:\n",
        "  X_test_T1wCE = pickle.load(f)\n",
        "\n",
        "with open(data_dir+'test_idt_T1wCE.pkl', 'rb') as f:\n",
        "  test_idt_T1wCE = pickle.load(f)"
      ],
      "execution_count": 12,
      "outputs": []
    },
    {
      "cell_type": "code",
      "metadata": {
        "id": "-mILgF09iOes"
      },
      "source": [
        "#pickling\n",
        "with open(data_dir+'X_FLAIR.pkl', 'rb') as f:\n",
        "  X_FLAIR = pickle.load(f)\n",
        "\n",
        "with open(data_dir+'y_FLAIR.pkl', 'rb') as f:\n",
        "  y_FLAIR = pickle.load(f)\n",
        "\n",
        "with open(data_dir+'train_idt_FLAIR.pkl', 'rb') as f:\n",
        "  train_idt_FLAIR = pickle.load(f)\n",
        "\n",
        "with open(data_dir+'X_test_FLAIR.pkl', 'rb') as f:\n",
        "  X_test_FLAIR = pickle.load(f)\n",
        "\n",
        "with open(data_dir+'test_idt_FLAIR.pkl', 'rb') as f:\n",
        "  test_idt_FLAIR = pickle.load(f)"
      ],
      "execution_count": 13,
      "outputs": []
    },
    {
      "cell_type": "code",
      "metadata": {
        "id": "T9QU_J-uiOes"
      },
      "source": [
        "#pickling\n",
        "with open(data_dir+'X_T2w.pkl', 'rb') as f:\n",
        "  X_T2w = pickle.load(f)\n",
        "\n",
        "with open(data_dir+'y_T2w.pkl', 'rb') as f:\n",
        "  y_T2w = pickle.load(f)\n",
        "\n",
        "with open(data_dir+'train_idt_T2w.pkl', 'rb') as f:\n",
        "  train_idt_T2w = pickle.load(f)\n",
        "\n",
        "with open(data_dir+'X_test_T2w.pkl', 'rb') as f:\n",
        "  X_test_T2w = pickle.load(f)\n",
        "\n",
        "with open(data_dir+'test_idt_T2w.pkl', 'rb') as f:\n",
        "  test_idt_T2w = pickle.load(f)"
      ],
      "execution_count": 14,
      "outputs": []
    },
    {
      "cell_type": "code",
      "metadata": {
        "id": "bHZFh_hsiOes"
      },
      "source": [
        "#pickling\n",
        "with open(data_dir+'X_T1w.pkl', 'rb') as f:\n",
        "  X_T1w = pickle.load(f)\n",
        "\n",
        "with open(data_dir+'y_T1w.pkl', 'rb') as f:\n",
        "  y_T1w = pickle.load(f)\n",
        "\n",
        "with open(data_dir+'train_idt_T1w.pkl', 'rb') as f:\n",
        "  train_idt_T1w = pickle.load(f)\n",
        "\n",
        "with open(data_dir+'X_test_T1w.pkl', 'rb') as f:\n",
        "  X_test_T1w = pickle.load(f)\n",
        "\n",
        "with open(data_dir+'test_idt_T1w.pkl', 'rb') as f:\n",
        "  test_idt_T1w = pickle.load(f)"
      ],
      "execution_count": null,
      "outputs": []
    },
    {
      "cell_type": "code",
      "metadata": {
        "id": "BZDBVptxgMUR"
      },
      "source": [
        "X = np.concatenate([X_FLAIR, X_T1wCE, X_T2w], axis=0)\n",
        "y = np.concatenate([y_FLAIR, y_T1wCE, y_T2w], axis=0)\n",
        "train_idt = np.concatenate([train_idt_FLAIR, train_idt_T1wCE, train_idt_T2w], axis=0)\n",
        "\n",
        "X_test = np.concatenate([X_test_FLAIR, X_test_T1wCE, X_test_T2w], axis=0)\n",
        "test_idt = np.concatenate([test_idt_FLAIR, test_idt_T1wCE, test_idt_T2w], axis=0)"
      ],
      "execution_count": 15,
      "outputs": []
    },
    {
      "cell_type": "code",
      "metadata": {
        "execution": {
          "iopub.status.busy": "2021-09-09T08:09:43.944235Z",
          "iopub.execute_input": "2021-09-09T08:09:43.944810Z",
          "iopub.status.idle": "2021-09-09T08:09:43.986052Z",
          "shell.execute_reply.started": "2021-09-09T08:09:43.944767Z",
          "shell.execute_reply": "2021-09-09T08:09:43.985157Z"
        },
        "trusted": true,
        "id": "wrK-MrfRSg6M",
        "colab": {
          "base_uri": "https://localhost:8080/"
        },
        "outputId": "889ba23e-c9aa-46fc-eb6f-b955ff1bb644"
      },
      "source": [
        "X_train, X_valid, y_train, y_valid, train_idt_train, train_idt_valid = train_test_split(X, y, train_idt, test_size=0.07)\n",
        "X_train = tf.expand_dims(X_train, axis=-1) #expand the dimension at the end of the array\n",
        "X_valid = tf.expand_dims(X_valid, axis=-1)\n",
        "\n",
        "y_train = to_categorical(y_train) #one-hot incoding\n",
        "y_valid = to_categorical(y_valid)\n",
        "\n",
        "print(X_train.shape, y_train.shape, X_valid.shape, y_valid.shape, train_idt_train.shape, train_idt_valid.shape)\n",
        "## Hyper Parameters\n",
        "IMAGE_SIZE = 64\n",
        "N_EPOCHS = 25\n",
        "N_BATCH = 100\n",
        "N_TRAIN = X_train.shape[0]\n",
        "N_VAL = X_valid.shape[0]\n",
        "\n",
        "learning_rate = 0.0001\n",
        "steps_per_epoch = N_TRAIN / N_BATCH\n",
        "validation_steps = int(np.ceil(N_VAL / N_BATCH))"
      ],
      "execution_count": 20,
      "outputs": [
        {
          "output_type": "stream",
          "name": "stdout",
          "text": [
            "(42288, 64, 64, 1) (42288, 2) (3184, 64, 64, 1) (3184, 2) (42288,) (3184,)\n"
          ]
        }
      ]
    },
    {
      "cell_type": "code",
      "metadata": {
        "id": "Dcf854yTIEnZ",
        "colab": {
          "base_uri": "https://localhost:8080/"
        },
        "outputId": "874a39ec-1e8d-4b47-9692-01fd508e3cc5"
      },
      "source": [
        "from tensorflow.keras.applications import EfficientNetB7\n",
        "model = EfficientNetB7(input_shape=(IMAGE_SIZE, IMAGE_SIZE, 1), weights=None, classes=2)\n",
        "\n",
        "model.compile(optimizer=tf.keras.optimizers.Adam(learning_rate),\n",
        "              loss='categorical_crossentropy', #label이 ohe이 아니면 sparse를 쓰면 자동으로 ohe\n",
        "              metrics=[tf.keras.metrics.AUC()])\n",
        "history = model.fit(\n",
        "    x=X_train,\n",
        "    y=y_train,\n",
        "    epochs=N_EPOCHS,\n",
        "    steps_per_epoch=steps_per_epoch,\n",
        "    validation_data=(X_valid, y_valid),\n",
        ")"
      ],
      "execution_count": 21,
      "outputs": [
        {
          "output_type": "stream",
          "name": "stdout",
          "text": [
            "Epoch 1/25\n",
            "422/422 [==============================] - 188s 345ms/step - loss: 2.9110 - auc: 0.5122 - val_loss: 1.1825 - val_auc: 0.5898\n",
            "Epoch 2/25\n",
            "422/422 [==============================] - 141s 333ms/step - loss: 2.1441 - auc: 0.5158 - val_loss: 0.8069 - val_auc: 0.6106\n",
            "Epoch 3/25\n",
            "422/422 [==============================] - 141s 333ms/step - loss: 1.7727 - auc: 0.5248 - val_loss: 1.2434 - val_auc: 0.6017\n",
            "Epoch 4/25\n",
            "422/422 [==============================] - 141s 332ms/step - loss: 1.6428 - auc: 0.5181 - val_loss: 1.3708 - val_auc: 0.6034\n",
            "Epoch 5/25\n",
            "422/422 [==============================] - 140s 332ms/step - loss: 1.4391 - auc: 0.5280 - val_loss: 0.7153 - val_auc: 0.5985\n",
            "Epoch 6/25\n",
            "422/422 [==============================] - 141s 332ms/step - loss: 1.3269 - auc: 0.5318 - val_loss: 0.7747 - val_auc: 0.6038\n",
            "Epoch 7/25\n",
            "422/422 [==============================] - 140s 332ms/step - loss: 1.2819 - auc: 0.5298 - val_loss: 0.8335 - val_auc: 0.6098\n",
            "Epoch 8/25\n",
            "422/422 [==============================] - 140s 332ms/step - loss: 1.2814 - auc: 0.5338 - val_loss: 0.8038 - val_auc: 0.6057\n",
            "Epoch 9/25\n",
            "422/422 [==============================] - 140s 332ms/step - loss: 1.2107 - auc: 0.5337 - val_loss: 1.5174 - val_auc: 0.6035\n",
            "Epoch 10/25\n",
            "422/422 [==============================] - 140s 332ms/step - loss: 1.2280 - auc: 0.5351 - val_loss: 0.7284 - val_auc: 0.6023\n",
            "Epoch 11/25\n",
            "422/422 [==============================] - 140s 332ms/step - loss: 1.2158 - auc: 0.5347 - val_loss: 2.2669 - val_auc: 0.6079\n",
            "Epoch 12/25\n",
            "422/422 [==============================] - 140s 332ms/step - loss: 1.2684 - auc: 0.5298 - val_loss: 0.8261 - val_auc: 0.6011\n",
            "Epoch 13/25\n",
            "422/422 [==============================] - 140s 332ms/step - loss: 1.1730 - auc: 0.5334 - val_loss: 2.7487 - val_auc: 0.6013\n",
            "Epoch 14/25\n",
            "422/422 [==============================] - 140s 332ms/step - loss: 1.1408 - auc: 0.5330 - val_loss: 0.6775 - val_auc: 0.6057\n",
            "Epoch 15/25\n",
            "422/422 [==============================] - 140s 332ms/step - loss: 1.0978 - auc: 0.5425 - val_loss: 0.7975 - val_auc: 0.6079\n",
            "Epoch 16/25\n",
            "422/422 [==============================] - 140s 332ms/step - loss: 1.1218 - auc: 0.5362 - val_loss: 0.8616 - val_auc: 0.6143\n",
            "Epoch 17/25\n",
            "422/422 [==============================] - 140s 332ms/step - loss: 1.1393 - auc: 0.5348 - val_loss: 1.0842 - val_auc: 0.6155\n",
            "Epoch 18/25\n",
            "422/422 [==============================] - 140s 332ms/step - loss: 1.0920 - auc: 0.5399 - val_loss: 0.9680 - val_auc: 0.6231\n",
            "Epoch 19/25\n",
            "422/422 [==============================] - 140s 332ms/step - loss: 1.1012 - auc: 0.5421 - val_loss: 0.6812 - val_auc: 0.6250\n",
            "Epoch 20/25\n",
            "422/422 [==============================] - 140s 332ms/step - loss: 1.1105 - auc: 0.5422 - val_loss: 0.6969 - val_auc: 0.6255\n",
            "Epoch 21/25\n",
            "422/422 [==============================] - 140s 332ms/step - loss: 1.0461 - auc: 0.5459 - val_loss: 0.7050 - val_auc: 0.5980\n",
            "Epoch 22/25\n",
            "422/422 [==============================] - 140s 332ms/step - loss: 1.0815 - auc: 0.5426 - val_loss: 0.6764 - val_auc: 0.6266\n",
            "Epoch 23/25\n",
            "422/422 [==============================] - 140s 332ms/step - loss: 1.0750 - auc: 0.5449 - val_loss: 0.6734 - val_auc: 0.6249\n",
            "Epoch 24/25\n",
            "422/422 [==============================] - 140s 332ms/step - loss: 1.0178 - auc: 0.5477 - val_loss: 0.6788 - val_auc: 0.6251\n",
            "Epoch 25/25\n",
            "422/422 [==============================] - 140s 332ms/step - loss: 0.9822 - auc: 0.5482 - val_loss: 3.8945 - val_auc: 0.6218\n"
          ]
        }
      ]
    },
    {
      "cell_type": "code",
      "metadata": {
        "colab": {
          "base_uri": "https://localhost:8080/",
          "height": 513
        },
        "id": "ST7EqL9UJPsu",
        "outputId": "2a4a37cd-1f9e-4af7-fc80-ecf69083bf83"
      },
      "source": [
        "plt.figure(figsize = (13,8))\n",
        "plt.plot(history.history[\"auc\"], label = \"Train Accuracy\")\n",
        "plt.plot(history.history[\"val_auc\"],label = \"Validation Accuracy\")\n",
        "plt.title(\"Accuracies\")\n",
        "plt.xlabel(\"Epochs\")\n",
        "plt.ylabel(\"Accuracy\")\n",
        "plt.legend()\n",
        "plt.show()"
      ],
      "execution_count": 22,
      "outputs": [
        {
          "output_type": "display_data",
          "data": {
            "image/png": "[encoded data removed]",
            "text/plain": [
              "<Figure size 936x576 with 1 Axes>"
            ]
          },
          "metadata": {
            "needs_background": "light"
          }
        }
      ]
    },
    {
      "cell_type": "code",
      "metadata": {
        "colab": {
          "base_uri": "https://localhost:8080/",
          "height": 513
        },
        "id": "6_udXS5NJPmb",
        "outputId": "9b4d7ac6-4b94-4d07-98b4-fd0b6f9790ee"
      },
      "source": [
        "plt.figure(figsize = (13,8))\n",
        "plt.plot(history.history[\"loss\"], label = \"Train Loss\")\n",
        "plt.plot(history.history[\"val_loss\"],label = \"Validation Loss\")\n",
        "plt.title(\"Losses\")\n",
        "plt.xlabel(\"Epochs\")\n",
        "plt.ylabel(\"Loss\")\n",
        "plt.legend()\n",
        "plt.show()"
      ],
      "execution_count": 23,
      "outputs": [
        {
          "output_type": "display_data",
          "data": {
            "image/png": "[encoded data removed]",
            "text/plain": [
              "<Figure size 936x576 with 1 Axes>"
            ]
          },
          "metadata": {
            "needs_background": "light"
          }
        }
      ]
    }
  ]
}