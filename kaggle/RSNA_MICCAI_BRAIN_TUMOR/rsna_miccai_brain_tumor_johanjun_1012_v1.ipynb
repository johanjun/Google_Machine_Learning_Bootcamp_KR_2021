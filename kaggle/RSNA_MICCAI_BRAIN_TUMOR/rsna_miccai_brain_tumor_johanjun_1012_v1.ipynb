{
  "nbformat": 4,
  "nbformat_minor": 0,
  "metadata": {
    "kernelspec": {
      "language": "python",
      "display_name": "Python 3",
      "name": "python3"
    },
    "language_info": {
      "name": "python",
      "version": "3.7.10",
      "mimetype": "text/x-python",
      "codemirror_mode": {
        "name": "ipython",
        "version": 3
      },
      "pygments_lexer": "ipython3",
      "nbconvert_exporter": "python",
      "file_extension": ".py"
    },
    "colab": {
      "name": "rsna-miccai-brain-tumor-johanjun_1012-v1.ipynb",
      "provenance": [],
      "collapsed_sections": [],
      "machine_shape": "hm",
      "include_colab_link": true
    },
    "accelerator": "GPU"
  },
  "cells": [
    {
      "cell_type": "markdown",
      "metadata": {
        "id": "view-in-github",
        "colab_type": "text"
      },
      "source": [
        "<a href=\"https://colab.research.google.com/github/johanjun/Google_Machine_Learning_Bootcamp_KR_2021/blob/main/kaggle/RSNA_MICCAI_BRAIN_TUMOR/rsna_miccai_brain_tumor_johanjun_1012_v1.ipynb\" target=\"_parent\"><img src=\"https://colab.research.google.com/assets/colab-badge.svg\" alt=\"Open In Colab\"/></a>"
      ]
    },
    {
      "cell_type": "code",
      "metadata": {
        "colab": {
          "base_uri": "https://localhost:8080/"
        },
        "id": "xOUCOQHHYjrI",
        "outputId": "510e40d7-6689-4b0a-ac5a-35410e25655e"
      },
      "source": [
        "pip install pydicom"
      ],
      "execution_count": 3,
      "outputs": [
        {
          "output_type": "stream",
          "name": "stdout",
          "text": [
            "Collecting pydicom\n",
            "  Using cached pydicom-2.2.2-py3-none-any.whl (2.0 MB)\n",
            "Installing collected packages: pydicom\n",
            "Successfully installed pydicom-2.2.2\n"
          ]
        }
      ]
    },
    {
      "cell_type": "code",
      "metadata": {
        "_uuid": "8f2839f25d086af736a60e9eeb907d3b93b6e0e5",
        "_cell_guid": "b1076dfc-b9ad-4769-8c92-a6c4dae69d19",
        "execution": {
          "iopub.status.busy": "2021-09-09T08:53:56.762280Z",
          "iopub.execute_input": "2021-09-09T08:53:56.762670Z",
          "iopub.status.idle": "2021-09-09T08:53:56.769176Z",
          "shell.execute_reply.started": "2021-09-09T08:53:56.762636Z",
          "shell.execute_reply": "2021-09-09T08:53:56.768094Z"
        },
        "trusted": true,
        "id": "0l9glKmsSg6D"
      },
      "source": [
        "import numpy as np # linear algebra\n",
        "import pandas as pd # data processing, CSV file I/O (e.g. pd.read_csv)\n",
        "import os\n",
        "from tqdm import tqdm\n",
        "import random\n",
        "import pydicom\n",
        "from pydicom.pixel_data_handlers.util import apply_voi_lut\n",
        "\n",
        "import cv2\n",
        "import pickle\n",
        "\n",
        "import matplotlib.pyplot as plt\n",
        "import glob\n",
        "\n",
        "import tensorflow as tf\n",
        "from tensorflow import keras\n",
        "from tensorflow.keras.utils import to_categorical\n",
        "from sklearn.model_selection import train_test_split"
      ],
      "execution_count": 47,
      "outputs": []
    },
    {
      "cell_type": "code",
      "metadata": {
        "id": "c6wQE57KS99g"
      },
      "source": [
        "data_dir = '/content/drive/MyDrive/Google_Machine_Learning_Bootcamp_KR_2021/RSNA_MICCAI/data/rsna-miccai/'"
      ],
      "execution_count": 5,
      "outputs": []
    },
    {
      "cell_type": "code",
      "metadata": {
        "execution": {
          "iopub.status.busy": "2021-09-09T08:05:05.559632Z",
          "iopub.execute_input": "2021-09-09T08:05:05.560291Z",
          "iopub.status.idle": "2021-09-09T08:05:05.588138Z",
          "shell.execute_reply.started": "2021-09-09T08:05:05.560236Z",
          "shell.execute_reply": "2021-09-09T08:05:05.587076Z"
        },
        "trusted": true,
        "id": "50rg9HSFSg6G"
      },
      "source": [
        "train_df = pd.read_csv(data_dir + \"train_labels.csv\")\n",
        "test_df = pd.read_csv(data_dir + \"sample_submission.csv\")"
      ],
      "execution_count": 6,
      "outputs": []
    },
    {
      "cell_type": "markdown",
      "metadata": {
        "id": "WFR8qocSSg6G"
      },
      "source": [
        "In this discussion a competition host has notified that there are some issues with these 3 cases\n",
        "Patient IDs -\n",
        "\n",
        "1. 00109 (FLAIR images are blank)\n",
        "2. 00123 (T1w images are blank)\n",
        "3. 00709 (FLAIR images are blank)\n",
        "<br><br>Hence these can be excluded"
      ]
    },
    {
      "cell_type": "code",
      "metadata": {
        "execution": {
          "iopub.status.busy": "2021-09-09T08:05:07.655722Z",
          "iopub.execute_input": "2021-09-09T08:05:07.656096Z",
          "iopub.status.idle": "2021-09-09T08:05:07.675143Z",
          "shell.execute_reply.started": "2021-09-09T08:05:07.656067Z",
          "shell.execute_reply": "2021-09-09T08:05:07.673869Z"
        },
        "trusted": true,
        "id": "ZNX625ndSg6I"
      },
      "source": [
        "#refer: https://www.kaggle.com/arnabs007/part-1-rsna-miccai-btrc-understanding-the-data\n",
        "EXCLUDE = [109, 123, 709]\n",
        "train_df = train_df[~train_df.BraTS21ID.isin(EXCLUDE)]"
      ],
      "execution_count": 7,
      "outputs": []
    },
    {
      "cell_type": "code",
      "metadata": {
        "colab": {
          "base_uri": "https://localhost:8080/",
          "height": 204
        },
        "id": "y2LnMMwXpzyb",
        "outputId": "975cb0b4-9383-4731-af02-bc0d88d3b449"
      },
      "source": [
        "train_df.head()"
      ],
      "execution_count": 8,
      "outputs": [
        {
          "output_type": "execute_result",
          "data": {
            "text/html": [
              "<div>\n",
              "<style scoped>\n",
              "    .dataframe tbody tr th:only-of-type {\n",
              "        vertical-align: middle;\n",
              "    }\n",
              "\n",
              "    .dataframe tbody tr th {\n",
              "        vertical-align: top;\n",
              "    }\n",
              "\n",
              "    .dataframe thead th {\n",
              "        text-align: right;\n",
              "    }\n",
              "</style>\n",
              "<table border=\"1\" class=\"dataframe\">\n",
              "  <thead>\n",
              "    <tr style=\"text-align: right;\">\n",
              "      <th></th>\n",
              "      <th>BraTS21ID</th>\n",
              "      <th>MGMT_value</th>\n",
              "    </tr>\n",
              "  </thead>\n",
              "  <tbody>\n",
              "    <tr>\n",
              "      <th>0</th>\n",
              "      <td>0</td>\n",
              "      <td>1</td>\n",
              "    </tr>\n",
              "    <tr>\n",
              "      <th>1</th>\n",
              "      <td>2</td>\n",
              "      <td>1</td>\n",
              "    </tr>\n",
              "    <tr>\n",
              "      <th>2</th>\n",
              "      <td>3</td>\n",
              "      <td>0</td>\n",
              "    </tr>\n",
              "    <tr>\n",
              "      <th>3</th>\n",
              "      <td>5</td>\n",
              "      <td>1</td>\n",
              "    </tr>\n",
              "    <tr>\n",
              "      <th>4</th>\n",
              "      <td>6</td>\n",
              "      <td>1</td>\n",
              "    </tr>\n",
              "  </tbody>\n",
              "</table>\n",
              "</div>"
            ],
            "text/plain": [
              "   BraTS21ID  MGMT_value\n",
              "0          0           1\n",
              "1          2           1\n",
              "2          3           0\n",
              "3          5           1\n",
              "4          6           1"
            ]
          },
          "metadata": {},
          "execution_count": 8
        }
      ]
    },
    {
      "cell_type": "code",
      "metadata": {
        "colab": {
          "base_uri": "https://localhost:8080/"
        },
        "id": "gRmjWixhqrIT",
        "outputId": "b35b185e-aae7-48e9-cac7-f48168bd0346"
      },
      "source": [
        "cd /content/drive/MyDrive/Google_Machine_Learning_Bootcamp_KR_2021/RSNA_MICCAI/data/rsna-miccai/"
      ],
      "execution_count": 9,
      "outputs": [
        {
          "output_type": "stream",
          "name": "stdout",
          "text": [
            "/content/drive/MyDrive/Google_Machine_Learning_Bootcamp_KR_2021/RSNA_MICCAI/data/rsna-miccai\n"
          ]
        }
      ]
    },
    {
      "cell_type": "code",
      "metadata": {
        "id": "tclgbj8mpto4"
      },
      "source": [
        "# train_df = pd.read_csv('train_df(over150).csv')"
      ],
      "execution_count": 10,
      "outputs": []
    },
    {
      "cell_type": "code",
      "metadata": {
        "execution": {
          "iopub.status.busy": "2021-09-09T08:05:08.179708Z",
          "iopub.execute_input": "2021-09-09T08:05:08.180276Z",
          "iopub.status.idle": "2021-09-09T08:05:08.184417Z",
          "shell.execute_reply.started": "2021-09-09T08:05:08.180233Z",
          "shell.execute_reply": "2021-09-09T08:05:08.183183Z"
        },
        "trusted": true,
        "id": "MC2xY5WrSg6I"
      },
      "source": [
        "TYPES = [\"FLAIR\", \"T1w\", \"T1wCE\", \"T2w\"] #mpMRI scans"
      ],
      "execution_count": 11,
      "outputs": []
    },
    {
      "cell_type": "code",
      "metadata": {
        "id": "8sKj9sPELjQH"
      },
      "source": [
        "#v2\n",
        "window_center = -600\n",
        "window_width = 1600\n",
        "\n",
        "def load_dicom(path, size = 128): #load DICOM files\n",
        "    dicom = pydicom.read_file(path)\n",
        "    s = int(dicom.RescaleSlope)\n",
        "    b = int(dicom.RescaleIntercept)\n",
        "    data = s * dicom.pixel_array + b\n",
        "\n",
        "    dicom.WindowCenter = window_center\n",
        "    dicom.WindowWidth = window_width\n",
        "\n",
        "    data = apply_voi_lut(data, dicom)\n",
        "\n",
        "    data = np.clip(data, window_center - (window_width / 2), window_center + (window_width / 2))\n",
        "\n",
        "    data = dicom.pixel_array #returns a numpy.ndarray containing the pixel data\n",
        "    if np.max(data) != 0:\n",
        "        data = data / np.max(data) #standardizes so that the pixel values are between 0 and 1\n",
        "    data = (data * 255).astype(np.uint8) #rescales to 0 and 255\n",
        "    return cv2.resize(data, (size, size))"
      ],
      "execution_count": 45,
      "outputs": []
    },
    {
      "cell_type": "code",
      "metadata": {
        "execution": {
          "iopub.status.busy": "2021-09-09T08:05:09.466375Z",
          "iopub.execute_input": "2021-09-09T08:05:09.466923Z",
          "iopub.status.idle": "2021-09-09T08:05:09.474187Z",
          "shell.execute_reply.started": "2021-09-09T08:05:09.466888Z",
          "shell.execute_reply": "2021-09-09T08:05:09.473386Z"
        },
        "trusted": true,
        "id": "3nirbxWXSg6J"
      },
      "source": [
        "def get_all_image_paths(BraTS21ID, image_type, folder=\"train\"): #get an array of all the images of a particular type or a particular patient id\n",
        "    assert(image_type in TYPES) #only in types\n",
        "    patient_path = os.path.join(data_dir + \"%s/\" % folder, str(BraTS21ID).zfill(5)) #다른 폴더일 수도 있음\n",
        "    #print(lambda x: int(x[:-4].split(\"-\")[-1]))\n",
        "    \n",
        "    paths = sorted(glob.glob(os.path.join(patient_path, image_type, \"*\")), key=lambda x: int(x[:-4].split(\"-\")[-1])) #sort\n",
        "    #print(paths)\n",
        "    \n",
        "    num_images = len(paths)\n",
        "    \n",
        "    start = int(num_images * 0.25)\n",
        "    end = int(num_images * 0.75)\n",
        "    if num_images < 10:\n",
        "        jump = 1\n",
        "    else:\n",
        "        jump = 3\n",
        "        \n",
        "    return np.array(paths[start:end:jump])"
      ],
      "execution_count": 13,
      "outputs": []
    },
    {
      "cell_type": "code",
      "metadata": {
        "execution": {
          "iopub.status.busy": "2021-09-09T08:05:09.961756Z",
          "iopub.execute_input": "2021-09-09T08:05:09.962152Z",
          "iopub.status.idle": "2021-09-09T08:05:09.966979Z",
          "shell.execute_reply.started": "2021-09-09T08:05:09.962116Z",
          "shell.execute_reply": "2021-09-09T08:05:09.966011Z"
        },
        "trusted": true,
        "id": "oWZMpAyBSg6K"
      },
      "source": [
        "def get_all_images(BraTS21ID, image_type, folder=\"train\", size=225):\n",
        "    return [load_dicom(path, size) for path in get_all_image_paths(BraTS21ID, image_type, folder)]"
      ],
      "execution_count": 14,
      "outputs": []
    },
    {
      "cell_type": "code",
      "metadata": {
        "execution": {
          "iopub.status.busy": "2021-09-09T08:05:10.416138Z",
          "iopub.execute_input": "2021-09-09T08:05:10.416626Z",
          "iopub.status.idle": "2021-09-09T08:05:10.425527Z",
          "shell.execute_reply.started": "2021-09-09T08:05:10.416595Z",
          "shell.execute_reply": "2021-09-09T08:05:10.424744Z"
        },
        "trusted": true,
        "id": "5DDIDg9dSg6L"
      },
      "source": [
        "def get_all_data_train(image_type):\n",
        "    global train_df\n",
        "    \n",
        "    X = []\n",
        "    y = []\n",
        "    train_ids = []\n",
        "\n",
        "    for i in tqdm(train_df.index):\n",
        "        tmp_x = train_df.loc[i]\n",
        "        images = get_all_images(int(tmp_x[\"BraTS21ID\"]), image_type, \"train\", IMAGE_SIZE)\n",
        "        label = tmp_x[\"MGMT_value\"]\n",
        "\n",
        "        X += images\n",
        "        y += [label] * len(images)\n",
        "        train_ids += [int(tmp_x[\"BraTS21ID\"])] * len(images)\n",
        "        assert(len(X) == len(y))\n",
        "    return np.array(X), np.array(y), np.array(train_ids)\n",
        "\n",
        "def get_all_data_test(image_type):\n",
        "    global test_df\n",
        "    \n",
        "    X = []\n",
        "    test_ids = []\n",
        "\n",
        "    for i in tqdm(test_df.index):\n",
        "        tmp_x = test_df.loc[i]\n",
        "        images = get_all_images(int(tmp_x[\"BraTS21ID\"]), image_type, \"test\", IMAGE_SIZE)\n",
        "        X += images\n",
        "        test_ids += [int(tmp_x[\"BraTS21ID\"])] * len(images)\n",
        "\n",
        "    return np.array(X), np.array(test_ids)"
      ],
      "execution_count": 15,
      "outputs": []
    },
    {
      "cell_type": "code",
      "metadata": {
        "id": "a3mVAQpDrKe0"
      },
      "source": [
        "IMAGE_SIZE = 64"
      ],
      "execution_count": 18,
      "outputs": []
    },
    {
      "cell_type": "code",
      "metadata": {
        "colab": {
          "base_uri": "https://localhost:8080/",
          "height": 198
        },
        "id": "4jjVKd8GXd7R",
        "outputId": "4d2f6892-a408-4e84-a067-26afb14afe60"
      },
      "source": [
        "# X_T1wCE, y_T1wCE, train_idt_T1wCE = get_all_data_train(\"T1wCE\")\n",
        "# X_test_T1wCE, test_idt_T1wCE = get_all_data_test(\"T1wCE\")\n",
        "X_T1wCE.shape, y_T1wCE.shape, train_idt_T1wCE.shape"
      ],
      "execution_count": 1,
      "outputs": [
        {
          "output_type": "error",
          "ename": "NameError",
          "evalue": "ignored",
          "traceback": [
            "\u001b[0;31m---------------------------------------------------------------------------\u001b[0m",
            "\u001b[0;31mNameError\u001b[0m                                 Traceback (most recent call last)",
            "\u001b[0;32m<ipython-input-1-597fb553ad33>\u001b[0m in \u001b[0;36m<module>\u001b[0;34m()\u001b[0m\n\u001b[1;32m      1\u001b[0m \u001b[0;31m# X_T1wCE, y_T1wCE, train_idt_T1wCE = get_all_data_train(\"T1wCE\")\u001b[0m\u001b[0;34m\u001b[0m\u001b[0;34m\u001b[0m\u001b[0;34m\u001b[0m\u001b[0m\n\u001b[1;32m      2\u001b[0m \u001b[0;31m# X_test_T1wCE, test_idt_T1wCE = get_all_data_test(\"T1wCE\")\u001b[0m\u001b[0;34m\u001b[0m\u001b[0;34m\u001b[0m\u001b[0;34m\u001b[0m\u001b[0m\n\u001b[0;32m----> 3\u001b[0;31m \u001b[0mX_T1wCE\u001b[0m\u001b[0;34m.\u001b[0m\u001b[0mshape\u001b[0m\u001b[0;34m,\u001b[0m \u001b[0my_T1wCE\u001b[0m\u001b[0;34m.\u001b[0m\u001b[0mshape\u001b[0m\u001b[0;34m,\u001b[0m \u001b[0mtrain_idt_T1wCE\u001b[0m\u001b[0;34m.\u001b[0m\u001b[0mshape\u001b[0m\u001b[0;34m\u001b[0m\u001b[0;34m\u001b[0m\u001b[0m\n\u001b[0m",
            "\u001b[0;31mNameError\u001b[0m: name 'X_T1wCE' is not defined"
          ]
        }
      ]
    },
    {
      "cell_type": "code",
      "metadata": {
        "id": "z_ej1QMMrZhw"
      },
      "source": [
        "#pickling\n",
        "# with open(data_dir+'X_T1wCE.pkl', 'rb') as f:\n",
        "#   X_T1wCE = pickle.load(f)\n",
        "\n",
        "# with open(data_dir+'y_T1wCE.pkl', 'rb') as f:\n",
        "#   y_T1wCE = pickle.load(f)\n",
        "\n",
        "# with open(data_dir+'train_idt_T1wCE.pkl', 'rb') as f:\n",
        "#   train_idt_T1wCE = pickle.load(f)\n",
        "\n",
        "# with open(data_dir+'X_test_T1wCE.pkl', 'rb') as f:\n",
        "#   X_test_T1wCE = pickle.load(f)\n",
        "\n",
        "# with open(data_dir+'test_idt_T1wCE.pkl', 'rb') as f:\n",
        "#   test_idt_T1wCE = pickle.load(f)\n",
        "#pickling\n",
        "with open(data_dir+'X_FLAIR.pkl', 'rb') as f:\n",
        "  X_FLAIR = pickle.load(f)\n",
        "\n",
        "with open(data_dir+'y_FLAIR.pkl', 'rb') as f:\n",
        "  y_FLAIR = pickle.load(f)\n",
        "\n",
        "with open(data_dir+'train_idt_FLAIR.pkl', 'rb') as f:\n",
        "  train_idt_FLAIR = pickle.load(f)\n",
        "\n",
        "with open(data_dir+'X_test_FLAIR.pkl', 'rb') as f:\n",
        "  X_test_FLAIR = pickle.load(f)\n",
        "\n",
        "with open(data_dir+'test_idt_FLAIR.pkl', 'rb') as f:\n",
        "  test_idt_FLAIR = pickle.load(f)\n",
        "#pickling\n",
        "with open(data_dir+'X_T2w.pkl', 'rb') as f:\n",
        "  X_T2w = pickle.load(f)\n",
        "\n",
        "with open(data_dir+'y_T2w.pkl', 'rb') as f:\n",
        "  y_T2w = pickle.load(f)\n",
        "\n",
        "with open(data_dir+'train_idt_T2w.pkl', 'rb') as f:\n",
        "  train_idt_T2w = pickle.load(f)\n",
        "\n",
        "with open(data_dir+'X_test_T2w.pkl', 'rb') as f:\n",
        "  X_test_T2w = pickle.load(f)\n",
        "\n",
        "with open(data_dir+'test_idt_T2w.pkl', 'rb') as f:\n",
        "  test_idt_T2w = pickle.load(f)\n",
        "#pickling\n",
        "with open(data_dir+'X_T1w.pkl', 'rb') as f:\n",
        "  X_T1w = pickle.load(f)\n",
        "\n",
        "with open(data_dir+'y_T1w.pkl', 'rb') as f:\n",
        "  y_T1w = pickle.load(f)\n",
        "\n",
        "with open(data_dir+'train_idt_T1w.pkl', 'rb') as f:\n",
        "  train_idt_T1w = pickle.load(f)\n",
        "\n",
        "with open(data_dir+'X_test_T1w.pkl', 'rb') as f:\n",
        "  X_test_T1w = pickle.load(f)\n",
        "\n",
        "with open(data_dir+'test_idt_T1w.pkl', 'rb') as f:\n",
        "  test_idt_T1w = pickle.load(f)"
      ],
      "execution_count": 31,
      "outputs": []
    },
    {
      "cell_type": "code",
      "metadata": {
        "id": "_xguSRrQbg5D"
      },
      "source": [
        "# X = np.concatenate([X_FLAIR[:4000], X_T1wCE[:4000], X_T2w], axis=0)\n",
        "# y = np.concatenate([y_FLAIR[:4000], y_T1wCE[:4000], y_T2w], axis=0)\n",
        "# train_idt = np.concatenate([train_idt_FLAIR[:4000], train_idt_T1wCE[:4000], train_idt_T2w], axis=0)\n",
        "\n",
        "X_test = np.concatenate([X_test_FLAIR, X_test_T1w, X_test_T1wCE, X_test_T2w], axis=0)\n",
        "test_idt = np.concatenate([test_idt_FLAIR, test_idt_T1w, test_idt_T1wCE, test_idt_T2w], axis=0)"
      ],
      "execution_count": 32,
      "outputs": []
    },
    {
      "cell_type": "code",
      "metadata": {
        "execution": {
          "iopub.status.busy": "2021-09-09T08:09:43.944235Z",
          "iopub.execute_input": "2021-09-09T08:09:43.944810Z",
          "iopub.status.idle": "2021-09-09T08:09:43.986052Z",
          "shell.execute_reply.started": "2021-09-09T08:09:43.944767Z",
          "shell.execute_reply": "2021-09-09T08:09:43.985157Z"
        },
        "trusted": true,
        "id": "wrK-MrfRSg6M"
      },
      "source": [
        "X_train, X_valid, y_train, y_valid, train_idt_train, train_idt_valid = train_test_split(X_T1wCE, y_T1wCE, train_idt_T1wCE, test_size=0.05)"
      ],
      "execution_count": 33,
      "outputs": []
    },
    {
      "cell_type": "code",
      "metadata": {
        "execution": {
          "iopub.status.busy": "2021-09-09T08:09:44.993484Z",
          "iopub.execute_input": "2021-09-09T08:09:44.993888Z",
          "iopub.status.idle": "2021-09-09T08:09:45.172717Z",
          "shell.execute_reply.started": "2021-09-09T08:09:44.993853Z",
          "shell.execute_reply": "2021-09-09T08:09:45.171572Z"
        },
        "trusted": true,
        "id": "bej50ftOSg6N"
      },
      "source": [
        "X_train = tf.expand_dims(X_train, axis=-1) #expand the dimension at the end of the array\n",
        "X_valid = tf.expand_dims(X_valid, axis=-1)\n",
        "X_test = tf.expand_dims(X_test, axis=-1)\n",
        "\n",
        "y_train = to_categorical(y_train) #one-hot incoding\n",
        "y_valid = to_categorical(y_valid)"
      ],
      "execution_count": 34,
      "outputs": []
    },
    {
      "cell_type": "code",
      "metadata": {
        "colab": {
          "base_uri": "https://localhost:8080/"
        },
        "id": "qX9lcG87MpM9",
        "outputId": "02b3b1cc-b01d-4151-cae9-6aeecbdd4fff"
      },
      "source": [
        "X_train.shape, y_train.shape, X_valid.shape, y_valid.shape, train_idt_train.shape, train_idt_valid.shape\n"
      ],
      "execution_count": 35,
      "outputs": [
        {
          "output_type": "execute_result",
          "data": {
            "text/plain": [
              "(TensorShape([15386, 64, 64, 1]),\n",
              " (15386, 2),\n",
              " TensorShape([810, 64, 64, 1]),\n",
              " (810, 2),\n",
              " (15386,),\n",
              " (810,))"
            ]
          },
          "metadata": {},
          "execution_count": 35
        }
      ]
    },
    {
      "cell_type": "code",
      "metadata": {
        "id": "U2ZPH-6JMaY9"
      },
      "source": [
        "X2 = np.concatenate([X_FLAIR, X_T2w, X_T1w, X_T1wCE], axis=0)\n",
        "y2 = np.concatenate([y_FLAIR, y_T2w, y_T1w, y_T1wCE], axis=0)\n",
        "train_idt2 = np.concatenate([train_idt_FLAIR, train_idt_T2w, train_idt_T1w, train_idt_T1wCE], axis=0)"
      ],
      "execution_count": 36,
      "outputs": []
    },
    {
      "cell_type": "code",
      "metadata": {
        "id": "yeiZGtSdMcEr"
      },
      "source": [
        "X_train2, X_valid2, y_train2, y_valid2, train_idt_train2, train_idt_valid2 = train_test_split(X2, y2, train_idt2, test_size=0.05)"
      ],
      "execution_count": 37,
      "outputs": []
    },
    {
      "cell_type": "code",
      "metadata": {
        "id": "O2ssfyeKMePC"
      },
      "source": [
        "X_train2 = np.expand_dims(X_train2, axis=-1) \n",
        "X_valid2 = np.expand_dims(X_valid2, axis=-1)\n",
        "\n",
        "y_train2 = to_categorical(y_train2) \n",
        "y_valid2 = to_categorical(y_valid2)"
      ],
      "execution_count": 38,
      "outputs": []
    },
    {
      "cell_type": "code",
      "metadata": {
        "execution": {
          "iopub.status.busy": "2021-09-09T08:13:38.917128Z",
          "iopub.execute_input": "2021-09-09T08:13:38.917572Z",
          "iopub.status.idle": "2021-09-09T08:13:38.930258Z",
          "shell.execute_reply.started": "2021-09-09T08:13:38.917535Z",
          "shell.execute_reply": "2021-09-09T08:13:38.929014Z"
        },
        "trusted": true,
        "id": "gpuY_HLMSg6N"
      },
      "source": [
        "def create_model():\n",
        "    model = keras.Sequential()\n",
        "    model.add(keras.layers.Conv2D(filters=32, kernel_size=3, activation='relu', padding='VALID', \n",
        "                                  input_shape=(IMAGE_SIZE, IMAGE_SIZE, 1)))\n",
        "    model.add(keras.layers.BatchNormalization())\n",
        "    \n",
        "    model.add(keras.layers.Conv2D(filters=64, kernel_size=3, activation='relu', padding='SAME'))\n",
        "    model.add(keras.layers.BatchNormalization())\n",
        "    model.add(keras.layers.MaxPool2D(pool_size=(2,2)))\n",
        "\n",
        "    model.add(keras.layers.Conv2D(filters=64, kernel_size=3, activation='relu', padding='SAME'))\n",
        "    model.add(keras.layers.BatchNormalization())\n",
        "\n",
        "    model.add(keras.layers.Conv2D(filters=128, kernel_size=3, activation='relu', padding='VALID'))\n",
        "    model.add(keras.layers.BatchNormalization())\n",
        "\n",
        "    model.add(keras.layers.Conv2D(filters=128, kernel_size=3, activation='relu', padding='SAME'))\n",
        "    model.add(keras.layers.BatchNormalization())\n",
        "\n",
        "    model.add(keras.layers.MaxPool2D(pool_size=(2,2)))\n",
        "    model.add(keras.layers.BatchNormalization())\n",
        "    model.add(keras.layers.Dropout(0.3))\n",
        "\n",
        "    model.add(keras.layers.Flatten())\n",
        "    model.add(keras.layers.Dense(512, activation='relu', kernel_regularizer=keras.regularizers.l2(0.01)))\n",
        "    model.add(keras.layers.Dense(2, activation='softmax', kernel_regularizer=keras.regularizers.l2(0.01)))\n",
        "    return model"
      ],
      "execution_count": 26,
      "outputs": []
    },
    {
      "cell_type": "code",
      "metadata": {
        "execution": {
          "iopub.status.busy": "2021-09-09T08:13:41.051663Z",
          "iopub.execute_input": "2021-09-09T08:13:41.052059Z",
          "iopub.status.idle": "2021-09-09T08:13:41.057920Z",
          "shell.execute_reply.started": "2021-09-09T08:13:41.052027Z",
          "shell.execute_reply": "2021-09-09T08:13:41.056771Z"
        },
        "trusted": true,
        "id": "ydTkzEloSg6O"
      },
      "source": [
        "## Hyper Parameters\n",
        "IMAGE_SIZE = 64\n",
        "N_EPOCHS = 50\n",
        "N_BATCH = 32\n",
        "N_TRAIN = X_train.shape[0]\n",
        "N_VAL = X_valid.shape[0]\n",
        "\n",
        "learning_rate = 0.0001\n",
        "steps_per_epoch = N_TRAIN / N_BATCH\n",
        "validation_steps = int(np.ceil(N_VAL / N_BATCH))"
      ],
      "execution_count": 39,
      "outputs": []
    },
    {
      "cell_type": "code",
      "metadata": {
        "execution": {
          "iopub.status.busy": "2021-09-09T08:15:33.633960Z",
          "iopub.execute_input": "2021-09-09T08:15:33.634516Z",
          "iopub.status.idle": "2021-09-09T08:15:33.769136Z",
          "shell.execute_reply.started": "2021-09-09T08:15:33.634482Z",
          "shell.execute_reply": "2021-09-09T08:15:33.768205Z"
        },
        "trusted": true,
        "id": "2Nh-2Cl1Sg6O"
      },
      "source": [
        "## Create model, compile & summary\n",
        "model = create_model()\n",
        "\n",
        "model.compile(optimizer=tf.keras.optimizers.Adam(learning_rate),\n",
        "              loss='categorical_crossentropy', #label이 ohe이 아니면 sparse를 쓰면 자동으로 ohe\n",
        "              metrics=[tf.keras.metrics.AUC()])"
      ],
      "execution_count": 40,
      "outputs": []
    },
    {
      "cell_type": "code",
      "metadata": {
        "execution": {
          "iopub.status.busy": "2021-09-09T08:15:35.206055Z",
          "iopub.execute_input": "2021-09-09T08:15:35.206421Z",
          "iopub.status.idle": "2021-09-09T08:48:26.009687Z",
          "shell.execute_reply.started": "2021-09-09T08:15:35.206392Z",
          "shell.execute_reply": "2021-09-09T08:48:26.008689Z"
        },
        "trusted": true,
        "id": "DSWdjGPoSg6O",
        "colab": {
          "base_uri": "https://localhost:8080/"
        },
        "outputId": "e10891a1-6072-43a6-adec-a4a5f6ab5d48"
      },
      "source": [
        "history = model.fit(\n",
        "    x=X_train,\n",
        "    y=y_train,\n",
        "    epochs=N_EPOCHS,\n",
        "    steps_per_epoch=steps_per_epoch,\n",
        "    validation_data=(X_valid2, y_valid2),\n",
        ")"
      ],
      "execution_count": 41,
      "outputs": [
        {
          "output_type": "stream",
          "name": "stdout",
          "text": [
            "Epoch 1/50\n",
            "480/480 [==============================] - 25s 17ms/step - loss: 6.9662 - auc_1: 0.6223 - val_loss: 4.2623 - val_auc_1: 0.6039\n",
            "Epoch 2/50\n",
            "480/480 [==============================] - 8s 16ms/step - loss: 2.8873 - auc_1: 0.7890 - val_loss: 2.3545 - val_auc_1: 0.6809\n",
            "Epoch 3/50\n",
            "480/480 [==============================] - 8s 16ms/step - loss: 1.5320 - auc_1: 0.9119 - val_loss: 1.9246 - val_auc_1: 0.7262\n",
            "Epoch 4/50\n",
            "480/480 [==============================] - 8s 16ms/step - loss: 0.9548 - auc_1: 0.9717 - val_loss: 1.4356 - val_auc_1: 0.7322\n",
            "Epoch 5/50\n",
            "480/480 [==============================] - 8s 16ms/step - loss: 0.6713 - auc_1: 0.9907 - val_loss: 1.3887 - val_auc_1: 0.7453\n",
            "Epoch 6/50\n",
            "480/480 [==============================] - 8s 16ms/step - loss: 0.5431 - auc_1: 0.9936 - val_loss: 1.2910 - val_auc_1: 0.7481\n",
            "Epoch 7/50\n",
            "480/480 [==============================] - 8s 16ms/step - loss: 0.4683 - auc_1: 0.9953 - val_loss: 1.3546 - val_auc_1: 0.7533\n",
            "Epoch 8/50\n",
            "480/480 [==============================] - 8s 16ms/step - loss: 0.4109 - auc_1: 0.9966 - val_loss: 1.2450 - val_auc_1: 0.7621\n",
            "Epoch 9/50\n",
            "480/480 [==============================] - 8s 16ms/step - loss: 0.4060 - auc_1: 0.9950 - val_loss: 1.3154 - val_auc_1: 0.7392\n",
            "Epoch 10/50\n",
            "480/480 [==============================] - 8s 16ms/step - loss: 0.3787 - auc_1: 0.9964 - val_loss: 1.1965 - val_auc_1: 0.7453\n",
            "Epoch 11/50\n",
            "480/480 [==============================] - 8s 16ms/step - loss: 0.3287 - auc_1: 0.9981 - val_loss: 1.1572 - val_auc_1: 0.7712\n",
            "Epoch 12/50\n",
            "480/480 [==============================] - 8s 16ms/step - loss: 0.3154 - auc_1: 0.9977 - val_loss: 1.1036 - val_auc_1: 0.7809\n",
            "Epoch 13/50\n",
            "480/480 [==============================] - 8s 16ms/step - loss: 0.3013 - auc_1: 0.9980 - val_loss: 1.2084 - val_auc_1: 0.7683\n",
            "Epoch 14/50\n",
            "480/480 [==============================] - 8s 16ms/step - loss: 0.2942 - auc_1: 0.9977 - val_loss: 1.1883 - val_auc_1: 0.7713\n",
            "Epoch 15/50\n",
            "480/480 [==============================] - 8s 16ms/step - loss: 0.2747 - auc_1: 0.9984 - val_loss: 1.1990 - val_auc_1: 0.7640\n",
            "Epoch 16/50\n",
            "480/480 [==============================] - 8s 16ms/step - loss: 0.2624 - auc_1: 0.9980 - val_loss: 1.1933 - val_auc_1: 0.7326\n",
            "Epoch 17/50\n",
            "480/480 [==============================] - 8s 16ms/step - loss: 0.2598 - auc_1: 0.9983 - val_loss: 1.2200 - val_auc_1: 0.7712\n",
            "Epoch 18/50\n",
            "480/480 [==============================] - 8s 16ms/step - loss: 0.2467 - auc_1: 0.9982 - val_loss: 1.2084 - val_auc_1: 0.7471\n",
            "Epoch 19/50\n",
            "480/480 [==============================] - 8s 16ms/step - loss: 0.2241 - auc_1: 0.9990 - val_loss: 1.1597 - val_auc_1: 0.7613\n",
            "Epoch 20/50\n",
            "480/480 [==============================] - 8s 16ms/step - loss: 0.2051 - auc_1: 0.9992 - val_loss: 1.1734 - val_auc_1: 0.7669\n",
            "Epoch 21/50\n",
            "480/480 [==============================] - 8s 16ms/step - loss: 0.2048 - auc_1: 0.9990 - val_loss: 1.1799 - val_auc_1: 0.7604\n",
            "Epoch 22/50\n",
            "480/480 [==============================] - 8s 16ms/step - loss: 0.2081 - auc_1: 0.9988 - val_loss: 1.2595 - val_auc_1: 0.7558\n",
            "Epoch 23/50\n",
            "480/480 [==============================] - 8s 16ms/step - loss: 0.1938 - auc_1: 0.9993 - val_loss: 1.2768 - val_auc_1: 0.7544\n",
            "Epoch 24/50\n",
            "480/480 [==============================] - 8s 16ms/step - loss: 0.1940 - auc_1: 0.9989 - val_loss: 1.2372 - val_auc_1: 0.7565\n",
            "Epoch 25/50\n",
            "480/480 [==============================] - 8s 16ms/step - loss: 0.1895 - auc_1: 0.9990 - val_loss: 1.2850 - val_auc_1: 0.7654\n",
            "Epoch 26/50\n",
            "480/480 [==============================] - 8s 16ms/step - loss: 0.1802 - auc_1: 0.9992 - val_loss: 1.1544 - val_auc_1: 0.7672\n",
            "Epoch 27/50\n",
            "480/480 [==============================] - 8s 16ms/step - loss: 0.1727 - auc_1: 0.9992 - val_loss: 1.1936 - val_auc_1: 0.7790\n",
            "Epoch 28/50\n",
            "480/480 [==============================] - 8s 16ms/step - loss: 0.1732 - auc_1: 0.9991 - val_loss: 1.1821 - val_auc_1: 0.7619\n",
            "Epoch 29/50\n",
            "480/480 [==============================] - 8s 16ms/step - loss: 0.1568 - auc_1: 0.9996 - val_loss: 1.2003 - val_auc_1: 0.7593\n",
            "Epoch 30/50\n",
            "480/480 [==============================] - 8s 16ms/step - loss: 0.1583 - auc_1: 0.9993 - val_loss: 1.1932 - val_auc_1: 0.7783\n",
            "Epoch 31/50\n",
            "480/480 [==============================] - 8s 16ms/step - loss: 0.1631 - auc_1: 0.9989 - val_loss: 1.1594 - val_auc_1: 0.7704\n",
            "Epoch 32/50\n",
            "480/480 [==============================] - 8s 16ms/step - loss: 0.1546 - auc_1: 0.9994 - val_loss: 1.1808 - val_auc_1: 0.7651\n",
            "Epoch 33/50\n",
            "480/480 [==============================] - 8s 16ms/step - loss: 0.1432 - auc_1: 0.9996 - val_loss: 1.1744 - val_auc_1: 0.7762\n",
            "Epoch 34/50\n",
            "480/480 [==============================] - 8s 16ms/step - loss: 0.1437 - auc_1: 0.9993 - val_loss: 1.2134 - val_auc_1: 0.7670\n",
            "Epoch 35/50\n",
            "480/480 [==============================] - 8s 16ms/step - loss: 0.1447 - auc_1: 0.9994 - val_loss: 1.2576 - val_auc_1: 0.7705\n",
            "Epoch 36/50\n",
            "480/480 [==============================] - 8s 16ms/step - loss: 0.1410 - auc_1: 0.9992 - val_loss: 1.2754 - val_auc_1: 0.7608\n",
            "Epoch 37/50\n",
            "480/480 [==============================] - 8s 16ms/step - loss: 0.1362 - auc_1: 0.9994 - val_loss: 1.2395 - val_auc_1: 0.7724\n",
            "Epoch 38/50\n",
            "480/480 [==============================] - 8s 16ms/step - loss: 0.1297 - auc_1: 0.9996 - val_loss: 1.1454 - val_auc_1: 0.7776\n",
            "Epoch 39/50\n",
            "480/480 [==============================] - 8s 16ms/step - loss: 0.1194 - auc_1: 0.9997 - val_loss: 1.2462 - val_auc_1: 0.7620\n",
            "Epoch 40/50\n",
            "480/480 [==============================] - 8s 16ms/step - loss: 0.1232 - auc_1: 0.9995 - val_loss: 1.2662 - val_auc_1: 0.7427\n",
            "Epoch 41/50\n",
            "480/480 [==============================] - 8s 16ms/step - loss: 0.1243 - auc_1: 0.9995 - val_loss: 1.2040 - val_auc_1: 0.7504\n",
            "Epoch 42/50\n",
            "480/480 [==============================] - 8s 16ms/step - loss: 0.1180 - auc_1: 0.9997 - val_loss: 1.2165 - val_auc_1: 0.7700\n",
            "Epoch 43/50\n",
            "480/480 [==============================] - 8s 16ms/step - loss: 0.1140 - auc_1: 0.9996 - val_loss: 1.2289 - val_auc_1: 0.7769\n",
            "Epoch 44/50\n",
            "480/480 [==============================] - 8s 16ms/step - loss: 0.1092 - auc_1: 0.9997 - val_loss: 1.1839 - val_auc_1: 0.7659\n",
            "Epoch 45/50\n",
            "480/480 [==============================] - 8s 16ms/step - loss: 0.1188 - auc_1: 0.9994 - val_loss: 1.2716 - val_auc_1: 0.7651\n",
            "Epoch 46/50\n",
            "480/480 [==============================] - 8s 16ms/step - loss: 0.1204 - auc_1: 0.9993 - val_loss: 1.2154 - val_auc_1: 0.7684\n",
            "Epoch 47/50\n",
            "480/480 [==============================] - 8s 16ms/step - loss: 0.1095 - auc_1: 0.9997 - val_loss: 1.2575 - val_auc_1: 0.7763\n",
            "Epoch 48/50\n",
            "480/480 [==============================] - 8s 16ms/step - loss: 0.0984 - auc_1: 0.9998 - val_loss: 1.2009 - val_auc_1: 0.7709\n",
            "Epoch 49/50\n",
            "480/480 [==============================] - 8s 16ms/step - loss: 0.1047 - auc_1: 0.9995 - val_loss: 1.1724 - val_auc_1: 0.7737\n",
            "Epoch 50/50\n",
            "480/480 [==============================] - 8s 16ms/step - loss: 0.1089 - auc_1: 0.9993 - val_loss: 1.1739 - val_auc_1: 0.7716\n"
          ]
        }
      ]
    },
    {
      "cell_type": "code",
      "metadata": {
        "execution": {
          "iopub.status.busy": "2021-09-09T08:54:56.564208Z",
          "iopub.execute_input": "2021-09-09T08:54:56.564589Z",
          "iopub.status.idle": "2021-09-09T08:54:56.821291Z",
          "shell.execute_reply.started": "2021-09-09T08:54:56.564557Z",
          "shell.execute_reply": "2021-09-09T08:54:56.820104Z"
        },
        "trusted": true,
        "id": "hOyjRAXkSg6P",
        "colab": {
          "base_uri": "https://localhost:8080/",
          "height": 513
        },
        "outputId": "06bd33eb-abbe-4a35-f6fa-6ebfbcdc4a2c"
      },
      "source": [
        "plt.figure(figsize = (13,8))\n",
        "plt.plot(history.history[\"auc_1\"], label = \"Train Accuracy\")\n",
        "plt.plot(history.history[\"val_auc_1\"],label = \"Validation Accuracy\")\n",
        "plt.title(\"Accuracies\")\n",
        "plt.xlabel(\"Epochs\")\n",
        "plt.ylabel(\"Accuracy\")\n",
        "plt.legend()\n",
        "plt.show()"
      ],
      "execution_count": 42,
      "outputs": [
        {
          "output_type": "display_data",
          "data": {
            "image/png": "[encoded data removed]",
            "text/plain": [
              "<Figure size 936x576 with 1 Axes>"
            ]
          },
          "metadata": {
            "needs_background": "light"
          }
        }
      ]
    },
    {
      "cell_type": "code",
      "metadata": {
        "execution": {
          "iopub.status.busy": "2021-09-09T08:55:16.009645Z",
          "iopub.execute_input": "2021-09-09T08:55:16.010058Z",
          "iopub.status.idle": "2021-09-09T08:55:16.225880Z",
          "shell.execute_reply.started": "2021-09-09T08:55:16.010024Z",
          "shell.execute_reply": "2021-09-09T08:55:16.224747Z"
        },
        "trusted": true,
        "id": "nsGxtkITSg6Q",
        "colab": {
          "base_uri": "https://localhost:8080/",
          "height": 513
        },
        "outputId": "c31a3722-0f05-4901-c400-ae73785949f8"
      },
      "source": [
        "plt.figure(figsize = (13,8))\n",
        "plt.plot(history.history[\"loss\"], label = \"Train Loss\")\n",
        "plt.plot(history.history[\"val_loss\"],label = \"Validation Loss\")\n",
        "plt.title(\"Losses\")\n",
        "plt.xlabel(\"Epochs\")\n",
        "plt.ylabel(\"Loss\")\n",
        "plt.legend()\n",
        "plt.show()"
      ],
      "execution_count": 43,
      "outputs": [
        {
          "output_type": "display_data",
          "data": {
            "image/png": "[encoded data removed]",
            "text/plain": [
              "<Figure size 936x576 with 1 Axes>"
            ]
          },
          "metadata": {
            "needs_background": "light"
          }
        }
      ]
    },
    {
      "cell_type": "code",
      "metadata": {
        "execution": {
          "iopub.status.busy": "2021-09-09T08:56:04.161131Z",
          "iopub.execute_input": "2021-09-09T08:56:04.161517Z",
          "iopub.status.idle": "2021-09-09T08:56:08.319897Z",
          "shell.execute_reply.started": "2021-09-09T08:56:04.161484Z",
          "shell.execute_reply": "2021-09-09T08:56:08.318478Z"
        },
        "trusted": true,
        "id": "XB2Kuu5gSg6Q"
      },
      "source": [
        "y_pred = model.predict(X_valid) #pedict on X_valid\n",
        "pred = np.argmax(y_pred, axis = 1) #index of largest value by column 열 기준 가장 큰 값의 인덱스\n",
        "\n",
        "result = pd.DataFrame(train_idt_valid) #BraTS21ID\n",
        "result[1] = pred #MGMT_value\n",
        "result.columns=[\"BraTS21ID\",\"MGMT_value\"]\n",
        "#Group by BraTS21ID and average + do not use index\n",
        "result_final = result.groupby(\"BraTS21ID\", as_index = False).mean()\n",
        "result_final = result_final.merge(train_df, on = \"BraTS21ID\") #merge train_df\n",
        "from sklearn.metrics import roc_auc_score\n",
        "roc_auc_score(result_final.MGMT_value_y, result_final.MGMT_value_x,)"
      ],
      "execution_count": null,
      "outputs": []
    },
    {
      "cell_type": "code",
      "metadata": {
        "id": "lZtsVyRRSg6S"
      },
      "source": [
        "\n",
        "#pickling\n",
        "with open(data_dir+'X_T1wCE.pkl', 'rb') as f:\n",
        "  X_T1wCE = pickle.load(f)\n",
        "\n",
        "with open(data_dir+'y_T1wCE.pkl', 'rb') as f:\n",
        "  y_T1wCE = pickle.load(f)\n",
        "\n",
        "with open(data_dir+'train_idt_T1wCE.pkl', 'rb') as f:\n",
        "  train_idt_T1wCE = pickle.load(f)\n",
        "\n",
        "with open(data_dir+'X_test_T1wCE.pkl', 'rb') as f:\n",
        "  X_test_T1wCE = pickle.load(f)\n",
        "\n",
        "with open(data_dir+'test_idt_T1wCE.pkl', 'rb') as f:\n",
        "  test_idt_T1wCE = pickle.load(f)\n",
        "#pickling\n",
        "with open(data_dir+'X_FLAIR.pkl', 'rb') as f:\n",
        "  X_FLAIR = pickle.load(f)\n",
        "\n",
        "with open(data_dir+'y_FLAIR.pkl', 'rb') as f:\n",
        "  y_FLAIR = pickle.load(f)\n",
        "\n",
        "with open(data_dir+'train_idt_FLAIR.pkl', 'rb') as f:\n",
        "  train_idt_FLAIR = pickle.load(f)\n",
        "\n",
        "with open(data_dir+'X_test_FLAIR.pkl', 'rb') as f:\n",
        "  X_test_FLAIR = pickle.load(f)\n",
        "\n",
        "with open(data_dir+'test_idt_FLAIR.pkl', 'rb') as f:\n",
        "  test_idt_FLAIR = pickle.load(f)\n",
        "#pickling\n",
        "with open(data_dir+'X_T2w.pkl', 'rb') as f:\n",
        "  X_T2w = pickle.load(f)\n",
        "\n",
        "with open(data_dir+'y_T2w.pkl', 'rb') as f:\n",
        "  y_T2w = pickle.load(f)\n",
        "\n",
        "with open(data_dir+'train_idt_T2w.pkl', 'rb') as f:\n",
        "  train_idt_T2w = pickle.load(f)\n",
        "\n",
        "with open(data_dir+'X_test_T2w.pkl', 'rb') as f:\n",
        "  X_test_T2w = pickle.load(f)\n",
        "\n",
        "with open(data_dir+'test_idt_T2w.pkl', 'rb') as f:\n",
        "  test_idt_T2w = pickle.load(f)\n",
        "#pickling\n",
        "with open(data_dir+'X_T1w.pkl', 'rb') as f:\n",
        "  X_T1w = pickle.load(f)\n",
        "\n",
        "with open(data_dir+'y_T1w.pkl', 'rb') as f:\n",
        "  y_T1w = pickle.load(f)\n",
        "\n",
        "with open(data_dir+'train_idt_T1w.pkl', 'rb') as f:\n",
        "  train_idt_T1w = pickle.load(f)\n",
        "\n",
        "with open(data_dir+'X_test_T1w.pkl', 'rb') as f:\n",
        "  X_test_T1w = pickle.load(f)\n",
        "\n",
        "with open(data_dir+'test_idt_T1w.pkl', 'rb') as f:\n",
        "  test_idt_T1w = pickle.load(f)"
      ],
      "execution_count": null,
      "outputs": []
    },
    {
      "cell_type": "code",
      "metadata": {
        "id": "aQHRs7H_XRw3"
      },
      "source": [
        "X2 = np.concatenate([X_FLAIR, X_T2w, X_T1w, X_T1wCE], axis=0)\n",
        "y2 = np.concatenate([y_FLAIR, y_T2w, y_T1w, y_T1wCE], axis=0)\n",
        "train_idt2 = np.concatenate([train_idt_FLAIR, train_idt_T2w, train_idt_T1w, train_idt_T1wCE], axis=0)"
      ],
      "execution_count": null,
      "outputs": []
    },
    {
      "cell_type": "code",
      "metadata": {
        "id": "shy5SMyYXcDy"
      },
      "source": [
        "X_train2, X_valid2, y_train2, y_valid2, train_idt_train2, train_idt_valid2 = train_test_split(X2, y2, train_idt2, test_size=0.2)"
      ],
      "execution_count": null,
      "outputs": []
    },
    {
      "cell_type": "code",
      "metadata": {
        "id": "XP9ijHLxXeiJ"
      },
      "source": [
        "X_train2 = tf.expand_dims(X_train2, axis=-1) #expand the dimension at the end of the array\n",
        "X_valid2 = tf.expand_dims(X_valid2, axis=-1)\n",
        "\n",
        "y_train2 = to_categorical(y_train2) #one-hot incoding\n",
        "y_valid2 = to_categorical(y_valid2)"
      ],
      "execution_count": null,
      "outputs": []
    },
    {
      "cell_type": "code",
      "metadata": {
        "colab": {
          "base_uri": "https://localhost:8080/"
        },
        "id": "hlsdcv4hXghk",
        "outputId": "e97fe8f5-6d76-4b0d-fee0-74a6810beda7"
      },
      "source": [
        "history = model.fit(\n",
        "    x=X_train,\n",
        "    y=y_train,\n",
        "    epochs=N_EPOCHS,\n",
        "    steps_per_epoch=steps_per_epoch,\n",
        "    validation_data=(X_valid2, y_valid2),\n",
        ")"
      ],
      "execution_count": null,
      "outputs": [
        {
          "output_type": "stream",
          "name": "stdout",
          "text": [
            "Epoch 1/60\n",
            "301/301 [==============================] - 7s 25ms/step - loss: 0.0669 - auc: 0.9999 - val_loss: 1.4234 - val_auc: 0.6921\n",
            "Epoch 2/60\n",
            "301/301 [==============================] - 7s 22ms/step - loss: 0.0726 - auc: 0.9998 - val_loss: 1.4681 - val_auc: 0.7043\n",
            "Epoch 3/60\n",
            "301/301 [==============================] - 7s 22ms/step - loss: 0.0707 - auc: 0.9998 - val_loss: 1.3609 - val_auc: 0.6965\n",
            "Epoch 4/60\n",
            "301/301 [==============================] - 7s 22ms/step - loss: 0.0721 - auc: 0.9999 - val_loss: 1.4840 - val_auc: 0.6927\n",
            "Epoch 5/60\n",
            "301/301 [==============================] - 7s 22ms/step - loss: 0.0673 - auc: 0.9999 - val_loss: 1.4969 - val_auc: 0.6907\n",
            "Epoch 6/60\n",
            "301/301 [==============================] - 7s 22ms/step - loss: 0.0644 - auc: 0.9999 - val_loss: 1.4808 - val_auc: 0.6985\n",
            "Epoch 7/60\n",
            "301/301 [==============================] - 7s 22ms/step - loss: 0.0597 - auc: 1.0000 - val_loss: 1.4993 - val_auc: 0.6974\n",
            "Epoch 8/60\n",
            "301/301 [==============================] - 7s 22ms/step - loss: 0.0584 - auc: 0.9999 - val_loss: 1.4352 - val_auc: 0.6885\n",
            "Epoch 9/60\n",
            "301/301 [==============================] - 7s 22ms/step - loss: 0.0553 - auc: 1.0000 - val_loss: 1.4414 - val_auc: 0.6997\n",
            "Epoch 10/60\n",
            "301/301 [==============================] - 7s 22ms/step - loss: 0.0544 - auc: 1.0000 - val_loss: 1.5601 - val_auc: 0.6963\n",
            "Epoch 11/60\n",
            "301/301 [==============================] - 7s 22ms/step - loss: 0.0600 - auc: 0.9999 - val_loss: 1.5288 - val_auc: 0.7012\n",
            "Epoch 12/60\n",
            "301/301 [==============================] - 7s 22ms/step - loss: 0.0574 - auc: 0.9999 - val_loss: 1.3326 - val_auc: 0.6904\n",
            "Epoch 13/60\n",
            "301/301 [==============================] - 7s 22ms/step - loss: 0.0600 - auc: 0.9999 - val_loss: 1.6341 - val_auc: 0.6862\n",
            "Epoch 14/60\n",
            "301/301 [==============================] - 7s 22ms/step - loss: 0.0550 - auc: 1.0000 - val_loss: 1.4167 - val_auc: 0.6928\n",
            "Epoch 15/60\n",
            "301/301 [==============================] - 7s 22ms/step - loss: 0.0492 - auc: 1.0000 - val_loss: 1.5557 - val_auc: 0.7006\n",
            "Epoch 16/60\n",
            "301/301 [==============================] - 7s 22ms/step - loss: 0.0484 - auc: 1.0000 - val_loss: 1.4562 - val_auc: 0.6878\n",
            "Epoch 17/60\n",
            "301/301 [==============================] - 7s 22ms/step - loss: 0.0418 - auc: 1.0000 - val_loss: 1.3677 - val_auc: 0.6960\n",
            "Epoch 18/60\n",
            "301/301 [==============================] - 7s 22ms/step - loss: 0.0385 - auc: 1.0000 - val_loss: 1.3816 - val_auc: 0.6979\n",
            "Epoch 19/60\n",
            "301/301 [==============================] - 7s 22ms/step - loss: 0.0348 - auc: 1.0000 - val_loss: 1.3949 - val_auc: 0.7047\n",
            "Epoch 20/60\n",
            "301/301 [==============================] - 7s 22ms/step - loss: 0.0314 - auc: 1.0000 - val_loss: 1.3436 - val_auc: 0.7034\n",
            "Epoch 21/60\n",
            "301/301 [==============================] - 7s 22ms/step - loss: 0.0342 - auc: 1.0000 - val_loss: 1.2760 - val_auc: 0.7005\n",
            "Epoch 22/60\n",
            "301/301 [==============================] - 7s 22ms/step - loss: 0.0348 - auc: 1.0000 - val_loss: 1.3287 - val_auc: 0.7024\n",
            "Epoch 23/60\n",
            "301/301 [==============================] - 7s 22ms/step - loss: 0.0346 - auc: 1.0000 - val_loss: 1.3098 - val_auc: 0.6926\n",
            "Epoch 24/60\n",
            "301/301 [==============================] - 7s 22ms/step - loss: 0.0461 - auc: 0.9999 - val_loss: 1.5189 - val_auc: 0.6994\n",
            "Epoch 25/60\n",
            "301/301 [==============================] - 7s 22ms/step - loss: 0.0710 - auc: 0.9992 - val_loss: 1.5820 - val_auc: 0.6890\n",
            "Epoch 26/60\n",
            "301/301 [==============================] - 7s 22ms/step - loss: 0.0653 - auc: 0.9996 - val_loss: 1.4879 - val_auc: 0.6986\n",
            "Epoch 27/60\n",
            "301/301 [==============================] - 7s 22ms/step - loss: 0.0517 - auc: 0.9999 - val_loss: 1.4717 - val_auc: 0.7039\n",
            "Epoch 28/60\n",
            "301/301 [==============================] - 7s 22ms/step - loss: 0.0447 - auc: 1.0000 - val_loss: 1.5592 - val_auc: 0.7099\n",
            "Epoch 29/60\n",
            "301/301 [==============================] - 7s 22ms/step - loss: 0.0382 - auc: 1.0000 - val_loss: 1.4798 - val_auc: 0.7054\n",
            "Epoch 30/60\n",
            "301/301 [==============================] - 7s 22ms/step - loss: 0.0337 - auc: 1.0000 - val_loss: 1.3693 - val_auc: 0.7079\n",
            "Epoch 31/60\n",
            "301/301 [==============================] - 7s 22ms/step - loss: 0.0302 - auc: 1.0000 - val_loss: 1.2933 - val_auc: 0.7099\n",
            "Epoch 32/60\n",
            "301/301 [==============================] - 7s 22ms/step - loss: 0.0271 - auc: 1.0000 - val_loss: 1.2863 - val_auc: 0.7107\n",
            "Epoch 33/60\n",
            "301/301 [==============================] - 7s 22ms/step - loss: 0.0246 - auc: 1.0000 - val_loss: 1.2121 - val_auc: 0.7151\n",
            "Epoch 34/60\n",
            "301/301 [==============================] - 7s 22ms/step - loss: 0.0231 - auc: 1.0000 - val_loss: 1.1051 - val_auc: 0.7103\n",
            "Epoch 35/60\n",
            "301/301 [==============================] - 7s 22ms/step - loss: 0.0231 - auc: 1.0000 - val_loss: 1.1277 - val_auc: 0.7161\n",
            "Epoch 36/60\n",
            "301/301 [==============================] - 7s 22ms/step - loss: 0.0211 - auc: 1.0000 - val_loss: 1.1829 - val_auc: 0.7177\n",
            "Epoch 37/60\n",
            "301/301 [==============================] - 7s 22ms/step - loss: 0.0204 - auc: 1.0000 - val_loss: 1.1570 - val_auc: 0.7191\n",
            "Epoch 38/60\n",
            "301/301 [==============================] - 7s 22ms/step - loss: 0.0196 - auc: 1.0000 - val_loss: 1.1965 - val_auc: 0.7187\n",
            "Epoch 39/60\n",
            "301/301 [==============================] - 7s 24ms/step - loss: 0.0194 - auc: 1.0000 - val_loss: 1.1104 - val_auc: 0.7156\n",
            "Epoch 40/60\n",
            "301/301 [==============================] - 7s 22ms/step - loss: 0.0190 - auc: 1.0000 - val_loss: 1.1651 - val_auc: 0.7157\n",
            "Epoch 41/60\n",
            "301/301 [==============================] - 7s 22ms/step - loss: 0.0192 - auc: 1.0000 - val_loss: 1.1687 - val_auc: 0.7174\n",
            "Epoch 42/60\n",
            "301/301 [==============================] - 7s 22ms/step - loss: 0.0191 - auc: 1.0000 - val_loss: 1.2063 - val_auc: 0.7117\n",
            "Epoch 43/60\n",
            "301/301 [==============================] - 7s 22ms/step - loss: 0.0995 - auc: 0.9970 - val_loss: 1.5110 - val_auc: 0.6745\n",
            "Epoch 44/60\n",
            "301/301 [==============================] - 7s 22ms/step - loss: 0.0767 - auc: 0.9994 - val_loss: 1.5157 - val_auc: 0.6981\n",
            "Epoch 45/60\n",
            "301/301 [==============================] - 7s 22ms/step - loss: 0.0510 - auc: 0.9999 - val_loss: 1.5307 - val_auc: 0.7012\n",
            "Epoch 46/60\n",
            "301/301 [==============================] - 7s 22ms/step - loss: 0.0440 - auc: 1.0000 - val_loss: 1.4821 - val_auc: 0.7056\n",
            "Epoch 47/60\n",
            "301/301 [==============================] - 7s 22ms/step - loss: 0.0368 - auc: 1.0000 - val_loss: 1.5258 - val_auc: 0.7066\n",
            "Epoch 48/60\n",
            "301/301 [==============================] - 7s 22ms/step - loss: 0.0338 - auc: 1.0000 - val_loss: 1.4205 - val_auc: 0.7066\n",
            "Epoch 49/60\n",
            "301/301 [==============================] - 7s 22ms/step - loss: 0.0304 - auc: 1.0000 - val_loss: 1.3279 - val_auc: 0.7099\n",
            "Epoch 50/60\n",
            "301/301 [==============================] - 7s 22ms/step - loss: 0.0270 - auc: 1.0000 - val_loss: 1.3341 - val_auc: 0.7118\n",
            "Epoch 51/60\n",
            "301/301 [==============================] - 7s 22ms/step - loss: 0.0245 - auc: 1.0000 - val_loss: 1.2960 - val_auc: 0.7122\n",
            "Epoch 52/60\n",
            "301/301 [==============================] - 7s 22ms/step - loss: 0.0228 - auc: 1.0000 - val_loss: 1.2252 - val_auc: 0.7150\n",
            "Epoch 53/60\n",
            "301/301 [==============================] - 7s 22ms/step - loss: 0.0210 - auc: 1.0000 - val_loss: 1.1457 - val_auc: 0.7117\n",
            "Epoch 54/60\n",
            "301/301 [==============================] - 7s 22ms/step - loss: 0.0203 - auc: 1.0000 - val_loss: 1.1632 - val_auc: 0.7165\n",
            "Epoch 55/60\n",
            "301/301 [==============================] - 7s 22ms/step - loss: 0.0187 - auc: 1.0000 - val_loss: 1.1270 - val_auc: 0.7116\n",
            "Epoch 56/60\n",
            "301/301 [==============================] - 7s 22ms/step - loss: 0.0183 - auc: 1.0000 - val_loss: 1.1320 - val_auc: 0.7182\n",
            "Epoch 57/60\n",
            "301/301 [==============================] - 7s 22ms/step - loss: 0.0176 - auc: 1.0000 - val_loss: 1.1460 - val_auc: 0.7189\n",
            "Epoch 58/60\n",
            "301/301 [==============================] - 7s 25ms/step - loss: 0.0171 - auc: 1.0000 - val_loss: 1.0824 - val_auc: 0.7183\n",
            "Epoch 59/60\n",
            "301/301 [==============================] - 7s 22ms/step - loss: 0.0169 - auc: 1.0000 - val_loss: 1.1036 - val_auc: 0.7184\n",
            "Epoch 60/60\n",
            "301/301 [==============================] - 7s 22ms/step - loss: 0.0167 - auc: 1.0000 - val_loss: 1.1178 - val_auc: 0.7178\n"
          ]
        }
      ]
    },
    {
      "cell_type": "code",
      "metadata": {
        "colab": {
          "base_uri": "https://localhost:8080/",
          "height": 513
        },
        "id": "m3yOGMpVXjht",
        "outputId": "6dd65992-5089-4b78-b629-5185958eb704"
      },
      "source": [
        "plt.figure(figsize = (13,8))\n",
        "plt.plot(history.history[\"auc\"], label = \"Train Accuracy\")\n",
        "plt.plot(history.history[\"val_auc\"],label = \"Validation Accuracy\")\n",
        "plt.title(\"Accuracies\")\n",
        "plt.xlabel(\"Epochs\")\n",
        "plt.ylabel(\"Accuracy\")\n",
        "plt.legend()\n",
        "plt.show()"
      ],
      "execution_count": null,
      "outputs": [
        {
          "output_type": "display_data",
          "data": {
            "image/png": "[encoded data removed]",
            "text/plain": [
              "<Figure size 936x576 with 1 Axes>"
            ]
          },
          "metadata": {
            "needs_background": "light"
          }
        }
      ]
    },
    {
      "cell_type": "code",
      "metadata": {
        "colab": {
          "base_uri": "https://localhost:8080/",
          "height": 513
        },
        "id": "K4WVCFL2ZFzh",
        "outputId": "eb44de57-5d01-416d-a425-7d99dcc428d0"
      },
      "source": [
        "plt.figure(figsize = (13,8))\n",
        "plt.plot(history.history[\"loss\"], label = \"Train Loss\")\n",
        "plt.plot(history.history[\"val_loss\"],label = \"Validation Loss\")\n",
        "plt.title(\"Losses\")\n",
        "plt.xlabel(\"Epochs\")\n",
        "plt.ylabel(\"Loss\")\n",
        "plt.legend()\n",
        "plt.show()"
      ],
      "execution_count": null,
      "outputs": [
        {
          "output_type": "display_data",
          "data": {
            "image/png": "[encoded data removed]",
            "text/plain": [
              "<Figure size 936x576 with 1 Axes>"
            ]
          },
          "metadata": {
            "needs_background": "light"
          }
        }
      ]
    },
    {
      "cell_type": "code",
      "metadata": {
        "colab": {
          "base_uri": "https://localhost:8080/"
        },
        "id": "YFKGJBBoZRXm",
        "outputId": "db00e8ba-66be-4bee-8de7-d97d0159ed7c"
      },
      "source": [
        "y_pred = model.predict(X_valid) #pedict on X_valid\n",
        "pred = np.argmax(y_pred, axis = 1) #index of largest value by column 열 기준 가장 큰 값의 인덱스\n",
        "\n",
        "result = pd.DataFrame(train_idt_valid) #BraTS21ID\n",
        "result[1] = pred #MGMT_value\n",
        "result.columns=[\"BraTS21ID\",\"MGMT_value\"]\n",
        "#Group by BraTS21ID and average + do not use index\n",
        "result_final = result.groupby(\"BraTS21ID\", as_index = False).mean()\n",
        "result_final = result_final.merge(train_df, on = \"BraTS21ID\") #merge train_df\n",
        "from sklearn.metrics import roc_auc_score\n",
        "roc_auc_score(result_final.MGMT_value_y, result_final.MGMT_value_x,)"
      ],
      "execution_count": null,
      "outputs": [
        {
          "output_type": "execute_result",
          "data": {
            "text/plain": [
              "0.8631860839890036"
            ]
          },
          "metadata": {},
          "execution_count": 43
        }
      ]
    },
    {
      "cell_type": "code",
      "metadata": {
        "id": "Q29cSDmCZW5Z"
      },
      "source": [
        ""
      ],
      "execution_count": null,
      "outputs": []
    }
  ]
}