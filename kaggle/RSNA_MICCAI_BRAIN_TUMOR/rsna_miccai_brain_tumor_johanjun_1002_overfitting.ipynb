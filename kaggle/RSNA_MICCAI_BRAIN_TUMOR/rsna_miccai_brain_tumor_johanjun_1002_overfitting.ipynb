{
  "nbformat": 4,
  "nbformat_minor": 0,
  "metadata": {
    "kernelspec": {
      "language": "python",
      "display_name": "Python 3",
      "name": "python3"
    },
    "language_info": {
      "name": "python",
      "version": "3.7.10",
      "mimetype": "text/x-python",
      "codemirror_mode": {
        "name": "ipython",
        "version": 3
      },
      "pygments_lexer": "ipython3",
      "nbconvert_exporter": "python",
      "file_extension": ".py"
    },
    "colab": {
      "name": "rsna-miccai-brain-tumor-johanjun_1002_overfitting.ipynb",
      "provenance": [],
      "collapsed_sections": [],
      "machine_shape": "hm",
      "include_colab_link": true
    },
    "accelerator": "GPU"
  },
  "cells": [
    {
      "cell_type": "markdown",
      "metadata": {
        "id": "view-in-github",
        "colab_type": "text"
      },
      "source": [
        "<a href=\"https://colab.research.google.com/github/johanjun/Google_Machine_Learning_Bootcamp_KR_2021/blob/main/kaggle/RSNA_MICCAI_BRAIN_TUMOR.rsna_miccai_brain_tumor_johanjun_1002_overfitting.ipynb\" target=\"_parent\"><img src=\"https://colab.research.google.com/assets/colab-badge.svg\" alt=\"Open In Colab\"/></a>"
      ]
    },
    {
      "cell_type": "code",
      "metadata": {
        "colab": {
          "base_uri": "https://localhost:8080/"
        },
        "id": "xOUCOQHHYjrI",
        "outputId": "5ab19926-b37f-4e2d-e1ac-96c4ab678029"
      },
      "source": [
        "pip install pydicom"
      ],
      "execution_count": 1,
      "outputs": [
        {
          "output_type": "stream",
          "name": "stdout",
          "text": [
            "Collecting pydicom\n",
            "  Downloading pydicom-2.2.2-py3-none-any.whl (2.0 MB)\n",
            "\u001b[K     |████████████████████████████████| 2.0 MB 2.8 MB/s \n",
            "\u001b[?25hInstalling collected packages: pydicom\n",
            "Successfully installed pydicom-2.2.2\n"
          ]
        }
      ]
    },
    {
      "cell_type": "code",
      "metadata": {
        "_uuid": "8f2839f25d086af736a60e9eeb907d3b93b6e0e5",
        "_cell_guid": "b1076dfc-b9ad-4769-8c92-a6c4dae69d19",
        "execution": {
          "iopub.status.busy": "2021-09-09T08:53:56.762280Z",
          "iopub.execute_input": "2021-09-09T08:53:56.762670Z",
          "iopub.status.idle": "2021-09-09T08:53:56.769176Z",
          "shell.execute_reply.started": "2021-09-09T08:53:56.762636Z",
          "shell.execute_reply": "2021-09-09T08:53:56.768094Z"
        },
        "trusted": true,
        "id": "0l9glKmsSg6D"
      },
      "source": [
        "import numpy as np # linear algebra\n",
        "import pandas as pd # data processing, CSV file I/O (e.g. pd.read_csv)\n",
        "import os\n",
        "from tqdm import tqdm\n",
        "import random\n",
        "import pydicom\n",
        "import cv2\n",
        "import pickle\n",
        "\n",
        "import matplotlib.pyplot as plt\n",
        "import glob\n",
        "\n",
        "import tensorflow as tf\n",
        "from tensorflow import keras\n",
        "from tensorflow.keras.utils import to_categorical\n",
        "from sklearn.model_selection import train_test_split"
      ],
      "execution_count": 2,
      "outputs": []
    },
    {
      "cell_type": "code",
      "metadata": {
        "id": "c6wQE57KS99g"
      },
      "source": [
        "data_dir = '/content/drive/MyDrive/Google_Machine_Learning_Bootcamp_KR_2021/RSNA_MICCAI/data/rsna-miccai/'"
      ],
      "execution_count": 3,
      "outputs": []
    },
    {
      "cell_type": "code",
      "metadata": {
        "execution": {
          "iopub.status.busy": "2021-09-09T08:05:05.559632Z",
          "iopub.execute_input": "2021-09-09T08:05:05.560291Z",
          "iopub.status.idle": "2021-09-09T08:05:05.588138Z",
          "shell.execute_reply.started": "2021-09-09T08:05:05.560236Z",
          "shell.execute_reply": "2021-09-09T08:05:05.587076Z"
        },
        "trusted": true,
        "id": "50rg9HSFSg6G"
      },
      "source": [
        "train_df = pd.read_csv(data_dir + \"train_labels.csv\")\n",
        "test_df = pd.read_csv(data_dir + \"sample_submission.csv\")"
      ],
      "execution_count": 5,
      "outputs": []
    },
    {
      "cell_type": "markdown",
      "metadata": {
        "id": "WFR8qocSSg6G"
      },
      "source": [
        "In this discussion a competition host has notified that there are some issues with these 3 cases\n",
        "Patient IDs -\n",
        "\n",
        "1. 00109 (FLAIR images are blank)\n",
        "2. 00123 (T1w images are blank)\n",
        "3. 00709 (FLAIR images are blank)\n",
        "<br><br>Hence these can be excluded"
      ]
    },
    {
      "cell_type": "code",
      "metadata": {
        "execution": {
          "iopub.status.busy": "2021-09-09T08:05:07.655722Z",
          "iopub.execute_input": "2021-09-09T08:05:07.656096Z",
          "iopub.status.idle": "2021-09-09T08:05:07.675143Z",
          "shell.execute_reply.started": "2021-09-09T08:05:07.656067Z",
          "shell.execute_reply": "2021-09-09T08:05:07.673869Z"
        },
        "trusted": true,
        "id": "ZNX625ndSg6I"
      },
      "source": [
        "#refer: https://www.kaggle.com/arnabs007/part-1-rsna-miccai-btrc-understanding-the-data\n",
        "EXCLUDE = [109, 123, 709]\n",
        "train_df = train_df[~train_df.BraTS21ID.isin(EXCLUDE)]"
      ],
      "execution_count": 6,
      "outputs": []
    },
    {
      "cell_type": "code",
      "metadata": {
        "execution": {
          "iopub.status.busy": "2021-09-09T08:05:08.179708Z",
          "iopub.execute_input": "2021-09-09T08:05:08.180276Z",
          "iopub.status.idle": "2021-09-09T08:05:08.184417Z",
          "shell.execute_reply.started": "2021-09-09T08:05:08.180233Z",
          "shell.execute_reply": "2021-09-09T08:05:08.183183Z"
        },
        "trusted": true,
        "id": "MC2xY5WrSg6I"
      },
      "source": [
        "TYPES = [\"FLAIR\", \"T1w\", \"T1wCE\", \"T2w\"] #mpMRI scans"
      ],
      "execution_count": 7,
      "outputs": []
    },
    {
      "cell_type": "code",
      "metadata": {
        "execution": {
          "iopub.status.busy": "2021-09-09T08:05:08.874839Z",
          "iopub.execute_input": "2021-09-09T08:05:08.875202Z",
          "iopub.status.idle": "2021-09-09T08:05:08.880569Z",
          "shell.execute_reply.started": "2021-09-09T08:05:08.875173Z",
          "shell.execute_reply": "2021-09-09T08:05:08.879818Z"
        },
        "trusted": true,
        "id": "OpI5yrzsSg6I"
      },
      "source": [
        "def load_dicom(path, size = 64): #load DICOM files\n",
        "    dicom = pydicom.read_file(path)\n",
        "    data = dicom.pixel_array #returns a numpy.ndarray containing the pixel data\n",
        "    if np.max(data) != 0:\n",
        "        data = data / np.max(data) #standardizes so that the pixel values are between 0 and 1\n",
        "    data = (data * 255).astype(np.uint8) #rescales to 0 and 255\n",
        "    return cv2.resize(data, (size, size))"
      ],
      "execution_count": 8,
      "outputs": []
    },
    {
      "cell_type": "code",
      "metadata": {
        "execution": {
          "iopub.status.busy": "2021-09-09T08:05:09.466375Z",
          "iopub.execute_input": "2021-09-09T08:05:09.466923Z",
          "iopub.status.idle": "2021-09-09T08:05:09.474187Z",
          "shell.execute_reply.started": "2021-09-09T08:05:09.466888Z",
          "shell.execute_reply": "2021-09-09T08:05:09.473386Z"
        },
        "trusted": true,
        "id": "3nirbxWXSg6J"
      },
      "source": [
        "def get_all_image_paths(BraTS21ID, image_type, folder=\"train\"): #get an array of all the images of a particular type or a particular patient id\n",
        "    assert(image_type in TYPES) #only in types\n",
        "    patient_path = os.path.join(data_dir + \"%s/\" % folder, str(BraTS21ID).zfill(5)) #다른 폴더일 수도 있음\n",
        "    #print(lambda x: int(x[:-4].split(\"-\")[-1]))\n",
        "    \n",
        "    paths = sorted(glob.glob(os.path.join(patient_path, image_type, \"*\")), key=lambda x: int(x[:-4].split(\"-\")[-1])) #sort\n",
        "    #print(paths)\n",
        "    \n",
        "    num_images = len(paths)\n",
        "    \n",
        "    start = int(num_images * 0.25)\n",
        "    end = int(num_images * 0.75)\n",
        "    if num_images < 10:\n",
        "        jump = 1\n",
        "    else:\n",
        "        jump = 3\n",
        "        \n",
        "    return np.array(paths[start:end:jump])"
      ],
      "execution_count": 9,
      "outputs": []
    },
    {
      "cell_type": "code",
      "metadata": {
        "execution": {
          "iopub.status.busy": "2021-09-09T08:05:09.961756Z",
          "iopub.execute_input": "2021-09-09T08:05:09.962152Z",
          "iopub.status.idle": "2021-09-09T08:05:09.966979Z",
          "shell.execute_reply.started": "2021-09-09T08:05:09.962116Z",
          "shell.execute_reply": "2021-09-09T08:05:09.966011Z"
        },
        "trusted": true,
        "id": "oWZMpAyBSg6K"
      },
      "source": [
        "def get_all_images(BraTS21ID, image_type, folder=\"train\", size=225):\n",
        "    return [load_dicom(path, size) for path in get_all_image_paths(BraTS21ID, image_type, folder)]"
      ],
      "execution_count": 10,
      "outputs": []
    },
    {
      "cell_type": "code",
      "metadata": {
        "execution": {
          "iopub.status.busy": "2021-09-09T08:05:10.416138Z",
          "iopub.execute_input": "2021-09-09T08:05:10.416626Z",
          "iopub.status.idle": "2021-09-09T08:05:10.425527Z",
          "shell.execute_reply.started": "2021-09-09T08:05:10.416595Z",
          "shell.execute_reply": "2021-09-09T08:05:10.424744Z"
        },
        "trusted": true,
        "id": "5DDIDg9dSg6L"
      },
      "source": [
        "def get_all_data_train(image_type):\n",
        "    global train_df\n",
        "    \n",
        "    X = []\n",
        "    y = []\n",
        "    train_ids = []\n",
        "\n",
        "    for i in tqdm(train_df.index):\n",
        "        tmp_x = train_df.loc[i]\n",
        "        images = get_all_images(int(tmp_x[\"BraTS21ID\"]), image_type, \"train\", IMAGE_SIZE)\n",
        "        label = tmp_x[\"MGMT_value\"]\n",
        "\n",
        "        X += images\n",
        "        y += [label] * len(images)\n",
        "        train_ids += [int(tmp_x[\"BraTS21ID\"])] * len(images)\n",
        "        assert(len(X) == len(y))\n",
        "    return np.array(X), np.array(y), np.array(train_ids)\n",
        "\n",
        "def get_all_data_test(image_type):\n",
        "    global test_df\n",
        "    \n",
        "    X = []\n",
        "    test_ids = []\n",
        "\n",
        "    for i in tqdm(test_df.index):\n",
        "        tmp_x = test_df.loc[i]\n",
        "        images = get_all_images(int(tmp_x[\"BraTS21ID\"]), image_type, \"test\", IMAGE_SIZE)\n",
        "        X += images\n",
        "        test_ids += [int(tmp_x[\"BraTS21ID\"])] * len(images)\n",
        "\n",
        "    return np.array(X), np.array(test_ids)"
      ],
      "execution_count": 11,
      "outputs": []
    },
    {
      "cell_type": "code",
      "metadata": {
        "id": "6nxfddqNa4TZ"
      },
      "source": [
        "#pickling\n",
        "with open(data_dir+'X_T1wCE.pkl', 'rb') as f:\n",
        "  X_T1wCE = pickle.load(f)\n",
        "\n",
        "with open(data_dir+'y_T1wCE.pkl', 'rb') as f:\n",
        "  y_T1wCE = pickle.load(f)\n",
        "\n",
        "with open(data_dir+'train_idt_T1wCE.pkl', 'rb') as f:\n",
        "  train_idt_T1wCE = pickle.load(f)\n",
        "\n",
        "with open(data_dir+'X_test_T1wCE.pkl', 'rb') as f:\n",
        "  X_test_T1wCE = pickle.load(f)\n",
        "\n",
        "with open(data_dir+'test_idt_T1wCE.pkl', 'rb') as f:\n",
        "  test_idt_T1wCE = pickle.load(f)\n",
        "#pickling\n",
        "with open(data_dir+'X_FLAIR.pkl', 'rb') as f:\n",
        "  X_FLAIR = pickle.load(f)\n",
        "\n",
        "with open(data_dir+'y_FLAIR.pkl', 'rb') as f:\n",
        "  y_FLAIR = pickle.load(f)\n",
        "\n",
        "with open(data_dir+'train_idt_FLAIR.pkl', 'rb') as f:\n",
        "  train_idt_FLAIR = pickle.load(f)\n",
        "\n",
        "with open(data_dir+'X_test_FLAIR.pkl', 'rb') as f:\n",
        "  X_test_FLAIR = pickle.load(f)\n",
        "\n",
        "with open(data_dir+'test_idt_FLAIR.pkl', 'rb') as f:\n",
        "  test_idt_FLAIR = pickle.load(f)\n",
        "#pickling\n",
        "with open(data_dir+'X_T2w.pkl', 'rb') as f:\n",
        "  X_T2w = pickle.load(f)\n",
        "\n",
        "with open(data_dir+'y_T2w.pkl', 'rb') as f:\n",
        "  y_T2w = pickle.load(f)\n",
        "\n",
        "with open(data_dir+'train_idt_T2w.pkl', 'rb') as f:\n",
        "  train_idt_T2w = pickle.load(f)\n",
        "\n",
        "with open(data_dir+'X_test_T2w.pkl', 'rb') as f:\n",
        "  X_test_T2w = pickle.load(f)\n",
        "\n",
        "with open(data_dir+'test_idt_T2w.pkl', 'rb') as f:\n",
        "  test_idt_T2w = pickle.load(f)\n",
        "#pickling\n",
        "with open(data_dir+'X_T1w.pkl', 'rb') as f:\n",
        "  X_T1w = pickle.load(f)\n",
        "\n",
        "with open(data_dir+'y_T1w.pkl', 'rb') as f:\n",
        "  y_T1w = pickle.load(f)\n",
        "\n",
        "with open(data_dir+'train_idt_T1w.pkl', 'rb') as f:\n",
        "  train_idt_T1w = pickle.load(f)\n",
        "\n",
        "with open(data_dir+'X_test_T1w.pkl', 'rb') as f:\n",
        "  X_test_T1w = pickle.load(f)\n",
        "\n",
        "with open(data_dir+'test_idt_T1w.pkl', 'rb') as f:\n",
        "  test_idt_T1w = pickle.load(f)"
      ],
      "execution_count": 12,
      "outputs": []
    },
    {
      "cell_type": "code",
      "metadata": {
        "colab": {
          "base_uri": "https://localhost:8080/"
        },
        "id": "DXSyWVLqaIL9",
        "outputId": "a5b943fc-caa3-4ac9-cf7a-d7bb887ea6b2"
      },
      "source": [
        "X_FLAIR.shape, X_T1w.shape, X_T1wCE.shape, X_T2w.shape"
      ],
      "execution_count": 13,
      "outputs": [
        {
          "output_type": "execute_result",
          "data": {
            "text/plain": [
              "((12463, 64, 64), (13004, 64, 64), (16196, 64, 64), (16813, 64, 64))"
            ]
          },
          "metadata": {},
          "execution_count": 13
        }
      ]
    },
    {
      "cell_type": "code",
      "metadata": {
        "id": "KGNn8n8pbMjR"
      },
      "source": [
        "import random"
      ],
      "execution_count": 14,
      "outputs": []
    },
    {
      "cell_type": "code",
      "metadata": {
        "id": "CqwYpwsAbNs6"
      },
      "source": [
        "np.random.choice(X_FLAIR, 10000)"
      ],
      "execution_count": null,
      "outputs": []
    },
    {
      "cell_type": "code",
      "metadata": {
        "id": "_xguSRrQbg5D"
      },
      "source": [
        "X = np.concatenate([X_FLAIR[:4000], X_T1w[:4000], X_T1wCE[:4000], X_T2w], axis=0)\n",
        "y = np.concatenate([y_FLAIR[:4000], y_T1w[:4000], y_T1wCE[:4000], y_T2w], axis=0)\n",
        "train_idt = np.concatenate([train_idt_FLAIR[:4000], train_idt_T1w[:4000], train_idt_T1wCE[:4000], train_idt_T2w], axis=0)\n",
        "\n",
        "X_test = np.concatenate([X_test_FLAIR, X_test_T1w, X_test_T1wCE, X_test_T2w], axis=0)\n",
        "test_idt = np.concatenate([test_idt_FLAIR, test_idt_T1w, test_idt_T1wCE, test_idt_T2w], axis=0)"
      ],
      "execution_count": 20,
      "outputs": []
    },
    {
      "cell_type": "code",
      "metadata": {
        "colab": {
          "base_uri": "https://localhost:8080/"
        },
        "id": "sfCqN-4TcC8l",
        "outputId": "648b8dba-3fdb-4d11-e3b9-d813874698bb"
      },
      "source": [
        "X.shape, y.shape, train_idt.shape"
      ],
      "execution_count": 21,
      "outputs": [
        {
          "output_type": "execute_result",
          "data": {
            "text/plain": [
              "((28813, 64, 64), (28813,), (28813,))"
            ]
          },
          "metadata": {},
          "execution_count": 21
        }
      ]
    },
    {
      "cell_type": "code",
      "metadata": {
        "execution": {
          "iopub.status.busy": "2021-09-09T08:09:43.944235Z",
          "iopub.execute_input": "2021-09-09T08:09:43.944810Z",
          "iopub.status.idle": "2021-09-09T08:09:43.986052Z",
          "shell.execute_reply.started": "2021-09-09T08:09:43.944767Z",
          "shell.execute_reply": "2021-09-09T08:09:43.985157Z"
        },
        "trusted": true,
        "id": "wrK-MrfRSg6M"
      },
      "source": [
        "X_train, X_valid, y_train, y_valid, train_idt_train, train_idt_valid = train_test_split(X, y, train_idt, test_size=0.15)"
      ],
      "execution_count": 22,
      "outputs": []
    },
    {
      "cell_type": "code",
      "metadata": {
        "id": "fw4ugCkC5WLf"
      },
      "source": [
        "X2 = np.concatenate([X_FLAIR, X_T2w, X_T1w, X_T1wCE], axis=0)\n",
        "y2 = np.concatenate([y_FLAIR, y_T2w, y_T1w, y_T1wCE], axis=0)\n",
        "train_idt2 = np.concatenate([train_idt_FLAIR, train_idt_T2w, train_idt_T1w, train_idt_T1wCE], axis=0)"
      ],
      "execution_count": 28,
      "outputs": []
    },
    {
      "cell_type": "code",
      "metadata": {
        "id": "MZYYmo4N5lR5"
      },
      "source": [
        "X_train2, X_valid2, y_train2, y_valid2, train_idt_train2, train_idt_valid2 = train_test_split(X2, y2, train_idt2, test_size=0.05)"
      ],
      "execution_count": 29,
      "outputs": []
    },
    {
      "cell_type": "code",
      "metadata": {
        "execution": {
          "iopub.status.busy": "2021-09-09T08:09:44.993484Z",
          "iopub.execute_input": "2021-09-09T08:09:44.993888Z",
          "iopub.status.idle": "2021-09-09T08:09:45.172717Z",
          "shell.execute_reply.started": "2021-09-09T08:09:44.993853Z",
          "shell.execute_reply": "2021-09-09T08:09:45.171572Z"
        },
        "trusted": true,
        "id": "bej50ftOSg6N"
      },
      "source": [
        "X_train = tf.expand_dims(X_train, axis=-1) #expand the dimension at the end of the array\n",
        "X_valid = tf.expand_dims(X_valid, axis=-1)\n",
        "X_test = tf.expand_dims(X_test, axis=-1)\n",
        "\n",
        "y_train = to_categorical(y_train) #one-hot incoding\n",
        "y_valid = to_categorical(y_valid)"
      ],
      "execution_count": 23,
      "outputs": []
    },
    {
      "cell_type": "code",
      "metadata": {
        "id": "gEF68ED25sSr"
      },
      "source": [
        "X_train2 = tf.expand_dims(X_train2, axis=-1) #expand the dimension at the end of the array\n",
        "X_valid2 = tf.expand_dims(X_valid2, axis=-1)\n",
        "\n",
        "y_train2 = to_categorical(y_train2) #one-hot incoding\n",
        "y_valid2 = to_categorical(y_valid2)"
      ],
      "execution_count": 30,
      "outputs": []
    },
    {
      "cell_type": "code",
      "metadata": {
        "execution": {
          "iopub.status.busy": "2021-09-09T08:09:46.085374Z",
          "iopub.execute_input": "2021-09-09T08:09:46.085773Z",
          "iopub.status.idle": "2021-09-09T08:09:46.093809Z",
          "shell.execute_reply.started": "2021-09-09T08:09:46.085717Z",
          "shell.execute_reply": "2021-09-09T08:09:46.092398Z"
        },
        "trusted": true,
        "id": "RQr6CiokSg6N",
        "colab": {
          "base_uri": "https://localhost:8080/"
        },
        "outputId": "21bad0b4-e4ca-4a63-bf70-f68532019141"
      },
      "source": [
        "X_train.shape, y_train.shape, X_valid.shape, y_valid.shape, train_idt_train.shape, train_idt_valid.shape"
      ],
      "execution_count": 31,
      "outputs": [
        {
          "output_type": "execute_result",
          "data": {
            "text/plain": [
              "(TensorShape([24491, 64, 64, 1]),\n",
              " (24491, 2),\n",
              " TensorShape([4322, 64, 64, 1]),\n",
              " (4322, 2),\n",
              " (24491,),\n",
              " (4322,))"
            ]
          },
          "metadata": {},
          "execution_count": 31
        }
      ]
    },
    {
      "cell_type": "code",
      "metadata": {
        "execution": {
          "iopub.status.busy": "2021-09-09T08:13:38.917128Z",
          "iopub.execute_input": "2021-09-09T08:13:38.917572Z",
          "iopub.status.idle": "2021-09-09T08:13:38.930258Z",
          "shell.execute_reply.started": "2021-09-09T08:13:38.917535Z",
          "shell.execute_reply": "2021-09-09T08:13:38.929014Z"
        },
        "trusted": true,
        "id": "gpuY_HLMSg6N"
      },
      "source": [
        "def create_model():\n",
        "    model = keras.Sequential()\n",
        "    model.add(keras.layers.Conv2D(filters=32, kernel_size=3, activation='relu', padding='SAME', \n",
        "                                  input_shape=(IMAGE_SIZE, IMAGE_SIZE, 1)))\n",
        "    model.add(keras.layers.BatchNormalization())\n",
        "    model.add(keras.layers.MaxPool2D(padding='SAME'))\n",
        "    \n",
        "    model.add(keras.layers.Conv2D(filters=64, kernel_size=3, activation='relu', padding='SAME'))\n",
        "    model.add(keras.layers.BatchNormalization())\n",
        "    model.add(keras.layers.MaxPool2D(padding='SAME'))\n",
        "    model.add(keras.layers.Dropout(0.1))\n",
        "\n",
        "    model.add(keras.layers.Conv2D(filters=64, kernel_size=5, activation='relu', padding='SAME'))\n",
        "    model.add(keras.layers.BatchNormalization())\n",
        "    model.add(keras.layers.MaxPool2D(padding='SAME'))\n",
        "\n",
        "    model.add(keras.layers.Conv2D(filters=128, kernel_size=3, activation='relu', padding='SAME'))\n",
        "    model.add(keras.layers.BatchNormalization())\n",
        "    model.add(keras.layers.MaxPool2D(padding='SAME'))\n",
        "    model.add(keras.layers.Dropout(0.1))\n",
        "\n",
        "    model.add(keras.layers.Conv2D(filters=128, kernel_size=5, activation='relu', padding='SAME'))\n",
        "    model.add(keras.layers.BatchNormalization())\n",
        "    model.add(keras.layers.MaxPool2D(padding='SAME'))\n",
        "\n",
        "    model.add(keras.layers.Conv2D(filters=256, kernel_size=3, activation='relu', padding='SAME'))\n",
        "    model.add(keras.layers.BatchNormalization())\n",
        "    model.add(keras.layers.MaxPool2D(padding='SAME'))\n",
        "    model.add(keras.layers.Dropout(0.1))\n",
        "\n",
        "    model.add(keras.layers.Conv2D(filters=512, kernel_size=4, activation='relu', padding='SAME'))\n",
        "    model.add(keras.layers.BatchNormalization())\n",
        "    model.add(keras.layers.MaxPool2D(padding='SAME'))\n",
        "\n",
        "    model.add(keras.layers.Conv2D(filters=256, kernel_size=3, activation='relu', padding='SAME'))\n",
        "    model.add(keras.layers.BatchNormalization())\n",
        "    model.add(keras.layers.MaxPool2D(padding='SAME'))\n",
        "\n",
        "    model.add(keras.layers.Flatten())\n",
        "    model.add(keras.layers.Dense(1024, activation='relu', kernel_regularizer=keras.regularizers.l2(0.01)))\n",
        "    model.add(keras.layers.BatchNormalization())\n",
        "    model.add(keras.layers.Dropout(0.4))\n",
        "    model.add(keras.layers.Dense(2, activation='softmax', kernel_regularizer=keras.regularizers.l2(0.01)))\n",
        "    return model"
      ],
      "execution_count": 32,
      "outputs": []
    },
    {
      "cell_type": "code",
      "metadata": {
        "execution": {
          "iopub.status.busy": "2021-09-09T08:13:41.051663Z",
          "iopub.execute_input": "2021-09-09T08:13:41.052059Z",
          "iopub.status.idle": "2021-09-09T08:13:41.057920Z",
          "shell.execute_reply.started": "2021-09-09T08:13:41.052027Z",
          "shell.execute_reply": "2021-09-09T08:13:41.056771Z"
        },
        "trusted": true,
        "id": "ydTkzEloSg6O"
      },
      "source": [
        "## Hyper Parameters\n",
        "IMAGE_SIZE = 64\n",
        "N_EPOCHS = 50\n",
        "N_BATCH = 32\n",
        "N_TRAIN = X_train.shape[0]\n",
        "N_VAL = X_valid.shape[0]\n",
        "\n",
        "learning_rate = 0.0001\n",
        "steps_per_epoch = N_TRAIN / N_BATCH\n",
        "validation_steps = int(np.ceil(N_VAL / N_BATCH))"
      ],
      "execution_count": 33,
      "outputs": []
    },
    {
      "cell_type": "code",
      "metadata": {
        "execution": {
          "iopub.status.busy": "2021-09-09T08:15:33.633960Z",
          "iopub.execute_input": "2021-09-09T08:15:33.634516Z",
          "iopub.status.idle": "2021-09-09T08:15:33.769136Z",
          "shell.execute_reply.started": "2021-09-09T08:15:33.634482Z",
          "shell.execute_reply": "2021-09-09T08:15:33.768205Z"
        },
        "trusted": true,
        "id": "2Nh-2Cl1Sg6O"
      },
      "source": [
        "## Create model, compile & summary\n",
        "model = create_model()\n",
        "\n",
        "model.compile(optimizer=tf.keras.optimizers.Adam(learning_rate),\n",
        "              loss='categorical_crossentropy', #label이 ohe이 아니면 sparse를 쓰면 자동으로 ohe\n",
        "              metrics=[tf.keras.metrics.AUC()])"
      ],
      "execution_count": 26,
      "outputs": []
    },
    {
      "cell_type": "code",
      "metadata": {
        "execution": {
          "iopub.status.busy": "2021-09-09T08:15:35.206055Z",
          "iopub.execute_input": "2021-09-09T08:15:35.206421Z",
          "iopub.status.idle": "2021-09-09T08:48:26.009687Z",
          "shell.execute_reply.started": "2021-09-09T08:15:35.206392Z",
          "shell.execute_reply": "2021-09-09T08:48:26.008689Z"
        },
        "trusted": true,
        "id": "DSWdjGPoSg6O",
        "colab": {
          "base_uri": "https://localhost:8080/"
        },
        "outputId": "17286966-e0e4-4f7f-f3ba-9b9c596c6030"
      },
      "source": [
        "history = model.fit(\n",
        "    x=X_train,\n",
        "    y=y_train,\n",
        "    epochs=N_EPOCHS,\n",
        "    steps_per_epoch=steps_per_epoch,\n",
        "    validation_data=(X_valid2, y_valid2),\n",
        ")"
      ],
      "execution_count": 34,
      "outputs": [
        {
          "output_type": "stream",
          "name": "stdout",
          "text": [
            "Epoch 1/50\n",
            "765/765 [==============================] - 29s 14ms/step - loss: 4.3650 - auc: 0.5510 - val_loss: 3.5656 - val_auc: 0.6039\n",
            "Epoch 2/50\n",
            "765/765 [==============================] - 10s 13ms/step - loss: 3.2830 - auc: 0.5695 - val_loss: 2.8002 - val_auc: 0.6095\n",
            "Epoch 3/50\n",
            "765/765 [==============================] - 10s 13ms/step - loss: 2.5806 - auc: 0.5879 - val_loss: 2.2355 - val_auc: 0.6200\n",
            "Epoch 4/50\n",
            "765/765 [==============================] - 10s 13ms/step - loss: 2.0418 - auc: 0.6238 - val_loss: 1.8171 - val_auc: 0.6193\n",
            "Epoch 5/50\n",
            "765/765 [==============================] - 10s 13ms/step - loss: 1.6266 - auc: 0.6582 - val_loss: 1.4541 - val_auc: 0.6664\n",
            "Epoch 6/50\n",
            "765/765 [==============================] - 10s 13ms/step - loss: 1.3033 - auc: 0.7008 - val_loss: 1.2475 - val_auc: 0.6456\n",
            "Epoch 7/50\n",
            "765/765 [==============================] - 10s 13ms/step - loss: 1.0477 - auc: 0.7491 - val_loss: 1.0572 - val_auc: 0.6857\n",
            "Epoch 8/50\n",
            "765/765 [==============================] - 10s 13ms/step - loss: 0.8597 - auc: 0.7868 - val_loss: 0.9316 - val_auc: 0.6673\n",
            "Epoch 9/50\n",
            "765/765 [==============================] - 10s 13ms/step - loss: 0.7052 - auc: 0.8296 - val_loss: 0.8279 - val_auc: 0.7116\n",
            "Epoch 10/50\n",
            "765/765 [==============================] - 10s 13ms/step - loss: 0.5947 - auc: 0.8616 - val_loss: 0.7744 - val_auc: 0.7184\n",
            "Epoch 11/50\n",
            "765/765 [==============================] - 10s 13ms/step - loss: 0.5064 - auc: 0.8883 - val_loss: 0.6999 - val_auc: 0.7554\n",
            "Epoch 12/50\n",
            "765/765 [==============================] - 10s 13ms/step - loss: 0.4397 - auc: 0.9089 - val_loss: 0.6573 - val_auc: 0.7727\n",
            "Epoch 13/50\n",
            "765/765 [==============================] - 10s 13ms/step - loss: 0.3896 - auc: 0.9246 - val_loss: 0.6939 - val_auc: 0.7884\n",
            "Epoch 14/50\n",
            "765/765 [==============================] - 10s 13ms/step - loss: 0.3418 - auc: 0.9407 - val_loss: 0.8320 - val_auc: 0.7332\n",
            "Epoch 15/50\n",
            "765/765 [==============================] - 10s 13ms/step - loss: 0.3093 - auc: 0.9504 - val_loss: 0.6574 - val_auc: 0.7997\n",
            "Epoch 16/50\n",
            "765/765 [==============================] - 10s 13ms/step - loss: 0.2753 - auc: 0.9604 - val_loss: 0.7872 - val_auc: 0.7891\n",
            "Epoch 17/50\n",
            "765/765 [==============================] - 10s 13ms/step - loss: 0.2543 - auc: 0.9660 - val_loss: 0.7044 - val_auc: 0.8005\n",
            "Epoch 18/50\n",
            "765/765 [==============================] - 10s 13ms/step - loss: 0.2326 - auc: 0.9713 - val_loss: 0.7083 - val_auc: 0.8224\n",
            "Epoch 19/50\n",
            "765/765 [==============================] - 10s 13ms/step - loss: 0.2115 - auc: 0.9762 - val_loss: 0.7488 - val_auc: 0.8210\n",
            "Epoch 20/50\n",
            "765/765 [==============================] - 10s 13ms/step - loss: 0.1947 - auc: 0.9798 - val_loss: 0.7524 - val_auc: 0.8152\n",
            "Epoch 21/50\n",
            "765/765 [==============================] - 10s 13ms/step - loss: 0.1772 - auc: 0.9831 - val_loss: 0.7766 - val_auc: 0.8230\n",
            "Epoch 22/50\n",
            "765/765 [==============================] - 10s 13ms/step - loss: 0.1662 - auc: 0.9853 - val_loss: 0.7971 - val_auc: 0.8286\n",
            "Epoch 23/50\n",
            "765/765 [==============================] - 10s 13ms/step - loss: 0.1535 - auc: 0.9873 - val_loss: 0.7779 - val_auc: 0.8406\n",
            "Epoch 24/50\n",
            "765/765 [==============================] - 10s 13ms/step - loss: 0.1400 - auc: 0.9893 - val_loss: 0.8214 - val_auc: 0.8412\n",
            "Epoch 25/50\n",
            "765/765 [==============================] - 10s 13ms/step - loss: 0.1354 - auc: 0.9901 - val_loss: 0.8784 - val_auc: 0.8361\n",
            "Epoch 26/50\n",
            "765/765 [==============================] - 10s 13ms/step - loss: 0.1231 - auc: 0.9914 - val_loss: 0.8252 - val_auc: 0.8369\n",
            "Epoch 27/50\n",
            "765/765 [==============================] - 10s 13ms/step - loss: 0.1144 - auc: 0.9929 - val_loss: 0.9071 - val_auc: 0.8387\n",
            "Epoch 28/50\n",
            "765/765 [==============================] - 10s 13ms/step - loss: 0.1093 - auc: 0.9933 - val_loss: 0.9772 - val_auc: 0.8265\n",
            "Epoch 29/50\n",
            "765/765 [==============================] - 10s 13ms/step - loss: 0.1012 - auc: 0.9940 - val_loss: 0.8343 - val_auc: 0.8366\n",
            "Epoch 30/50\n",
            "765/765 [==============================] - 10s 13ms/step - loss: 0.1037 - auc: 0.9941 - val_loss: 0.8810 - val_auc: 0.8368\n",
            "Epoch 31/50\n",
            "765/765 [==============================] - 10s 13ms/step - loss: 0.0964 - auc: 0.9946 - val_loss: 0.9030 - val_auc: 0.8357\n",
            "Epoch 32/50\n",
            "765/765 [==============================] - 10s 13ms/step - loss: 0.0924 - auc: 0.9950 - val_loss: 0.9785 - val_auc: 0.8393\n",
            "Epoch 33/50\n",
            "765/765 [==============================] - 10s 13ms/step - loss: 0.0921 - auc: 0.9950 - val_loss: 1.0344 - val_auc: 0.8263\n",
            "Epoch 34/50\n",
            "765/765 [==============================] - 10s 13ms/step - loss: 0.0840 - auc: 0.9960 - val_loss: 0.9803 - val_auc: 0.8265\n",
            "Epoch 35/50\n",
            "765/765 [==============================] - 10s 13ms/step - loss: 0.0828 - auc: 0.9960 - val_loss: 1.0413 - val_auc: 0.8280\n",
            "Epoch 36/50\n",
            "765/765 [==============================] - 10s 13ms/step - loss: 0.0851 - auc: 0.9958 - val_loss: 0.9123 - val_auc: 0.8374\n",
            "Epoch 37/50\n",
            "765/765 [==============================] - 10s 13ms/step - loss: 0.0752 - auc: 0.9965 - val_loss: 0.9257 - val_auc: 0.8265\n",
            "Epoch 38/50\n",
            "765/765 [==============================] - 10s 13ms/step - loss: 0.0719 - auc: 0.9967 - val_loss: 0.8928 - val_auc: 0.8524\n",
            "Epoch 39/50\n",
            "765/765 [==============================] - 10s 13ms/step - loss: 0.0716 - auc: 0.9969 - val_loss: 0.9205 - val_auc: 0.8391\n",
            "Epoch 40/50\n",
            "765/765 [==============================] - 10s 13ms/step - loss: 0.0702 - auc: 0.9969 - val_loss: 1.0583 - val_auc: 0.8280\n",
            "Epoch 41/50\n",
            "765/765 [==============================] - 10s 13ms/step - loss: 0.0686 - auc: 0.9970 - val_loss: 0.8964 - val_auc: 0.8433\n",
            "Epoch 42/50\n",
            "765/765 [==============================] - 10s 13ms/step - loss: 0.0630 - auc: 0.9975 - val_loss: 0.9278 - val_auc: 0.8363\n",
            "Epoch 43/50\n",
            "765/765 [==============================] - 10s 13ms/step - loss: 0.0633 - auc: 0.9975 - val_loss: 0.9508 - val_auc: 0.8306\n",
            "Epoch 44/50\n",
            "765/765 [==============================] - 10s 13ms/step - loss: 0.0590 - auc: 0.9976 - val_loss: 1.0775 - val_auc: 0.8272\n",
            "Epoch 45/50\n",
            "765/765 [==============================] - 10s 13ms/step - loss: 0.0604 - auc: 0.9976 - val_loss: 0.8669 - val_auc: 0.8438\n",
            "Epoch 46/50\n",
            "765/765 [==============================] - 10s 13ms/step - loss: 0.0589 - auc: 0.9979 - val_loss: 0.9512 - val_auc: 0.8343\n",
            "Epoch 47/50\n",
            "765/765 [==============================] - 10s 13ms/step - loss: 0.0589 - auc: 0.9979 - val_loss: 1.0403 - val_auc: 0.8331\n",
            "Epoch 48/50\n",
            "765/765 [==============================] - 10s 13ms/step - loss: 0.0570 - auc: 0.9979 - val_loss: 0.8584 - val_auc: 0.8368\n",
            "Epoch 49/50\n",
            "765/765 [==============================] - 10s 13ms/step - loss: 0.0509 - auc: 0.9985 - val_loss: 1.1127 - val_auc: 0.8232\n",
            "Epoch 50/50\n",
            "765/765 [==============================] - 10s 13ms/step - loss: 0.0577 - auc: 0.9979 - val_loss: 0.9438 - val_auc: 0.8414\n"
          ]
        }
      ]
    },
    {
      "cell_type": "code",
      "metadata": {
        "execution": {
          "iopub.status.busy": "2021-09-09T08:54:56.564208Z",
          "iopub.execute_input": "2021-09-09T08:54:56.564589Z",
          "iopub.status.idle": "2021-09-09T08:54:56.821291Z",
          "shell.execute_reply.started": "2021-09-09T08:54:56.564557Z",
          "shell.execute_reply": "2021-09-09T08:54:56.820104Z"
        },
        "trusted": true,
        "id": "hOyjRAXkSg6P",
        "colab": {
          "base_uri": "https://localhost:8080/",
          "height": 513
        },
        "outputId": "c4627e5c-f2de-46e4-b5bc-ea584a790b2f"
      },
      "source": [
        "plt.figure(figsize = (13,8))\n",
        "plt.plot(history.history[\"auc\"], label = \"Train Accuracy\")\n",
        "plt.plot(history.history[\"val_auc\"],label = \"Validation Accuracy\")\n",
        "plt.title(\"Accuracies\")\n",
        "plt.xlabel(\"Epochs\")\n",
        "plt.ylabel(\"Accuracy\")\n",
        "plt.legend()\n",
        "plt.show()"
      ],
      "execution_count": 35,
      "outputs": [
        {
          "output_type": "display_data",
          "data": {
            "image/png": "[encoded data removed]",
            "text/plain": [
              "<Figure size 936x576 with 1 Axes>"
            ]
          },
          "metadata": {
            "needs_background": "light"
          }
        }
      ]
    },
    {
      "cell_type": "code",
      "metadata": {
        "execution": {
          "iopub.status.busy": "2021-09-09T08:55:16.009645Z",
          "iopub.execute_input": "2021-09-09T08:55:16.010058Z",
          "iopub.status.idle": "2021-09-09T08:55:16.225880Z",
          "shell.execute_reply.started": "2021-09-09T08:55:16.010024Z",
          "shell.execute_reply": "2021-09-09T08:55:16.224747Z"
        },
        "trusted": true,
        "id": "nsGxtkITSg6Q",
        "colab": {
          "base_uri": "https://localhost:8080/",
          "height": 513
        },
        "outputId": "1996f235-89d8-485a-ef1e-c1e22808c675"
      },
      "source": [
        "plt.figure(figsize = (13,8))\n",
        "plt.plot(history.history[\"loss\"], label = \"Train Loss\")\n",
        "plt.plot(history.history[\"val_loss\"],label = \"Validation Loss\")\n",
        "plt.title(\"Losses\")\n",
        "plt.xlabel(\"Epochs\")\n",
        "plt.ylabel(\"Loss\")\n",
        "plt.legend()\n",
        "plt.show()"
      ],
      "execution_count": 36,
      "outputs": [
        {
          "output_type": "display_data",
          "data": {
            "image/png": "[encoded data removed]",
            "text/plain": [
              "<Figure size 936x576 with 1 Axes>"
            ]
          },
          "metadata": {
            "needs_background": "light"
          }
        }
      ]
    },
    {
      "cell_type": "code",
      "metadata": {
        "execution": {
          "iopub.status.busy": "2021-09-09T08:56:04.161131Z",
          "iopub.execute_input": "2021-09-09T08:56:04.161517Z",
          "iopub.status.idle": "2021-09-09T08:56:08.319897Z",
          "shell.execute_reply.started": "2021-09-09T08:56:04.161484Z",
          "shell.execute_reply": "2021-09-09T08:56:08.318478Z"
        },
        "trusted": true,
        "id": "XB2Kuu5gSg6Q"
      },
      "source": [
        "y_pred = model.predict(X_valid) #pedict on X_valid\n",
        "pred = np.argmax(y_pred, axis = 1) #index of largest value by column 열 기준 가장 큰 값의 인덱스\n",
        "\n",
        "result = pd.DataFrame(train_idt_valid) #BraTS21ID\n",
        "result[1] = pred #MGMT_value\n",
        "result.columns=[\"BraTS21ID\",\"MGMT_value\"]"
      ],
      "execution_count": 37,
      "outputs": []
    },
    {
      "cell_type": "code",
      "metadata": {
        "execution": {
          "iopub.status.busy": "2021-09-09T08:56:23.771438Z",
          "iopub.execute_input": "2021-09-09T08:56:23.771911Z",
          "iopub.status.idle": "2021-09-09T08:56:23.806657Z",
          "shell.execute_reply.started": "2021-09-09T08:56:23.771869Z",
          "shell.execute_reply": "2021-09-09T08:56:23.805600Z"
        },
        "trusted": true,
        "id": "qQ1RKbfuSg6R"
      },
      "source": [
        "#Group by BraTS21ID and average + do not use index\n",
        "result_final = result.groupby(\"BraTS21ID\", as_index = False).mean()\n",
        "result_final = result_final.merge(train_df, on = \"BraTS21ID\") #merge train_df"
      ],
      "execution_count": 38,
      "outputs": []
    },
    {
      "cell_type": "code",
      "metadata": {
        "execution": {
          "iopub.status.busy": "2021-09-09T08:56:58.686233Z",
          "iopub.execute_input": "2021-09-09T08:56:58.686633Z",
          "iopub.status.idle": "2021-09-09T08:56:58.702249Z",
          "shell.execute_reply.started": "2021-09-09T08:56:58.686598Z",
          "shell.execute_reply": "2021-09-09T08:56:58.700725Z"
        },
        "trusted": true,
        "id": "MF5O6Iy7Sg6R",
        "colab": {
          "base_uri": "https://localhost:8080/"
        },
        "outputId": "cc6505b9-9dab-4741-ac71-17ee25a4cd48"
      },
      "source": [
        "from sklearn.metrics import roc_auc_score\n",
        "roc_auc_score(result_final.MGMT_value_y, result_final.MGMT_value_x,)"
      ],
      "execution_count": 39,
      "outputs": [
        {
          "output_type": "execute_result",
          "data": {
            "text/plain": [
              "0.8986320815589108"
            ]
          },
          "metadata": {},
          "execution_count": 39
        }
      ]
    },
    {
      "cell_type": "code",
      "metadata": {
        "execution": {
          "iopub.status.busy": "2021-09-09T09:01:19.315758Z",
          "iopub.execute_input": "2021-09-09T09:01:19.316144Z",
          "iopub.status.idle": "2021-09-09T09:01:19.328548Z",
          "shell.execute_reply.started": "2021-09-09T09:01:19.316113Z",
          "shell.execute_reply": "2021-09-09T09:01:19.327123Z"
        },
        "trusted": true,
        "id": "y6HKV_mVSg6R"
      },
      "source": [
        "X_test2 = tf.expand_dims(X_test, axis=-1)"
      ],
      "execution_count": null,
      "outputs": []
    },
    {
      "cell_type": "code",
      "metadata": {
        "execution": {
          "iopub.status.busy": "2021-09-09T09:01:37.126724Z",
          "iopub.execute_input": "2021-09-09T09:01:37.127297Z",
          "iopub.status.idle": "2021-09-09T09:01:41.037679Z",
          "shell.execute_reply.started": "2021-09-09T09:01:37.127261Z",
          "shell.execute_reply": "2021-09-09T09:01:41.036740Z"
        },
        "trusted": true,
        "id": "rZWs6ZzOSg6R",
        "outputId": "a66417eb-6d70-46c8-c161-a061d8412312"
      },
      "source": [
        "#submission\n",
        "sample_sub = pd.read_csv(\"../input/rsna-miccai-brain-tumor-radiogenomic-classification/sample_submission.csv\")\n",
        "\n",
        "y_pred = model.predict(X_test2) #predict test\n",
        "pred = np.argmax(y_pred, axis = 1)\n",
        "\n",
        "result = pd.DataFrame(test_idt)\n",
        "result[1] = pred\n",
        "\n",
        "result.columns=[\"BraTS21ID\",\"MGMT_value\"]\n",
        "result_final = result.groupby(\"BraTS21ID\",as_index = False).mean()\n",
        "\n",
        "result_final[\"BraTS21ID\"] = sample_sub[\"BraTS21ID\"]\n",
        "result_final[\"MGMT_value\"] = result_final[\"MGMT_value\"]\n",
        "result_final"
      ],
      "execution_count": null,
      "outputs": [
        {
          "execution_count": 59,
          "output_type": "execute_result",
          "data": {
            "text/plain": "    BraTS21ID  MGMT_value\n0           1    0.909091\n1          13    0.909091\n2          15    0.901961\n3          27    0.921569\n4          37    0.954545\n..        ...         ...\n82        826    0.857143\n83        829    0.800000\n84        833    0.375000\n85        997    0.500000\n86       1006    0.952381\n\n[87 rows x 2 columns]",
            "text/html": "<div>\n<style scoped>\n    .dataframe tbody tr th:only-of-type {\n        vertical-align: middle;\n    }\n\n    .dataframe tbody tr th {\n        vertical-align: top;\n    }\n\n    .dataframe thead th {\n        text-align: right;\n    }\n</style>\n<table border=\"1\" class=\"dataframe\">\n  <thead>\n    <tr style=\"text-align: right;\">\n      <th></th>\n      <th>BraTS21ID</th>\n      <th>MGMT_value</th>\n    </tr>\n  </thead>\n  <tbody>\n    <tr>\n      <th>0</th>\n      <td>1</td>\n      <td>0.909091</td>\n    </tr>\n    <tr>\n      <th>1</th>\n      <td>13</td>\n      <td>0.909091</td>\n    </tr>\n    <tr>\n      <th>2</th>\n      <td>15</td>\n      <td>0.901961</td>\n    </tr>\n    <tr>\n      <th>3</th>\n      <td>27</td>\n      <td>0.921569</td>\n    </tr>\n    <tr>\n      <th>4</th>\n      <td>37</td>\n      <td>0.954545</td>\n    </tr>\n    <tr>\n      <th>...</th>\n      <td>...</td>\n      <td>...</td>\n    </tr>\n    <tr>\n      <th>82</th>\n      <td>826</td>\n      <td>0.857143</td>\n    </tr>\n    <tr>\n      <th>83</th>\n      <td>829</td>\n      <td>0.800000</td>\n    </tr>\n    <tr>\n      <th>84</th>\n      <td>833</td>\n      <td>0.375000</td>\n    </tr>\n    <tr>\n      <th>85</th>\n      <td>997</td>\n      <td>0.500000</td>\n    </tr>\n    <tr>\n      <th>86</th>\n      <td>1006</td>\n      <td>0.952381</td>\n    </tr>\n  </tbody>\n</table>\n<p>87 rows × 2 columns</p>\n</div>"
          },
          "metadata": {}
        }
      ]
    },
    {
      "cell_type": "code",
      "metadata": {
        "execution": {
          "iopub.status.busy": "2021-09-09T09:02:05.908041Z",
          "iopub.execute_input": "2021-09-09T09:02:05.908454Z",
          "iopub.status.idle": "2021-09-09T09:02:05.917081Z",
          "shell.execute_reply.started": "2021-09-09T09:02:05.908419Z",
          "shell.execute_reply": "2021-09-09T09:02:05.915899Z"
        },
        "trusted": true,
        "id": "_qSz70GNSg6S"
      },
      "source": [
        "result_final.to_csv(\"submission.csv\",index=False)"
      ],
      "execution_count": null,
      "outputs": []
    },
    {
      "cell_type": "code",
      "metadata": {
        "id": "lZtsVyRRSg6S"
      },
      "source": [
        ""
      ],
      "execution_count": null,
      "outputs": []
    }
  ]
}
