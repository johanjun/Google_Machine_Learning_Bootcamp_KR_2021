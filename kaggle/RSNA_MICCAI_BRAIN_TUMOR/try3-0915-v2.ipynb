{
 "cells": [
  {
   "cell_type": "code",
   "execution_count": 1,
   "id": "dd577efd",
   "metadata": {
    "_cell_guid": "b1076dfc-b9ad-4769-8c92-a6c4dae69d19",
    "_uuid": "8f2839f25d086af736a60e9eeb907d3b93b6e0e5",
    "execution": {
     "iopub.execute_input": "2021-09-15T06:38:56.980636Z",
     "iopub.status.busy": "2021-09-15T06:38:56.979637Z",
     "iopub.status.idle": "2021-09-15T06:39:02.341080Z",
     "shell.execute_reply": "2021-09-15T06:39:02.339968Z",
     "shell.execute_reply.started": "2021-09-15T06:05:50.348528Z"
    },
    "id": "0l9glKmsSg6D",
    "papermill": {
     "duration": 5.48639,
     "end_time": "2021-09-15T06:39:02.341296",
     "exception": false,
     "start_time": "2021-09-15T06:38:56.854906",
     "status": "completed"
    },
    "tags": []
   },
   "outputs": [
    {
     "name": "stderr",
     "output_type": "stream",
     "text": [
      "2021-09-15 06:38:57.786947: I tensorflow/stream_executor/platform/default/dso_loader.cc:49] Successfully opened dynamic library libcudart.so.11.0\n"
     ]
    }
   ],
   "source": [
    "import numpy as np # linear algebra\n",
    "import pandas as pd # data processing, CSV file I/O (e.g. pd.read_csv)\n",
    "import os\n",
    "from tqdm import tqdm\n",
    "import random\n",
    "import pydicom\n",
    "import cv2\n",
    "import pickle\n",
    "\n",
    "import matplotlib.pyplot as plt\n",
    "import glob\n",
    "\n",
    "import tensorflow as tf\n",
    "from tensorflow import keras\n",
    "from tensorflow.keras.utils import to_categorical\n",
    "from sklearn.model_selection import train_test_split\n",
    "\n",
    "from tensorflow.keras.applications.resnet50 import ResNet50\n",
    "from tensorflow.keras.layers import Dense, GlobalAveragePooling2D\n",
    "from tensorflow.keras.models import Model\n",
    "from tensorflow.keras.optimizers import SGD"
   ]
  },
  {
   "cell_type": "code",
   "execution_count": 2,
   "id": "794fb95e",
   "metadata": {
    "execution": {
     "iopub.execute_input": "2021-09-15T06:39:02.391957Z",
     "iopub.status.busy": "2021-09-15T06:39:02.391064Z",
     "iopub.status.idle": "2021-09-15T06:39:02.409407Z",
     "shell.execute_reply": "2021-09-15T06:39:02.408894Z",
     "shell.execute_reply.started": "2021-09-15T06:05:58.753493Z"
    },
    "id": "50rg9HSFSg6G",
    "papermill": {
     "duration": 0.044562,
     "end_time": "2021-09-15T06:39:02.409530",
     "exception": false,
     "start_time": "2021-09-15T06:39:02.364968",
     "status": "completed"
    },
    "tags": []
   },
   "outputs": [],
   "source": [
    "train_df = pd.read_csv(\"../input/rsna-miccai-brain-tumor-radiogenomic-classification/train_labels.csv\")\n",
    "test_df = pd.read_csv(\"../input/rsna-miccai-brain-tumor-radiogenomic-classification/sample_submission.csv\")"
   ]
  },
  {
   "cell_type": "markdown",
   "id": "b1727c17",
   "metadata": {
    "id": "AbYvldC2TOVK",
    "papermill": {
     "duration": 0.021206,
     "end_time": "2021-09-15T06:39:02.451989",
     "exception": false,
     "start_time": "2021-09-15T06:39:02.430783",
     "status": "completed"
    },
    "tags": []
   },
   "source": []
  },
  {
   "cell_type": "markdown",
   "id": "21a25c67",
   "metadata": {
    "id": "WFR8qocSSg6G",
    "papermill": {
     "duration": 0.022349,
     "end_time": "2021-09-15T06:39:02.495133",
     "exception": false,
     "start_time": "2021-09-15T06:39:02.472784",
     "status": "completed"
    },
    "tags": []
   },
   "source": [
    "In this discussion a competition host has notified that there are some issues with these 3 cases\n",
    "Patient IDs -\n",
    "\n",
    "1. 00109 (FLAIR images are blank)\n",
    "2. 00123 (T1w images are blank)\n",
    "3. 00709 (FLAIR images are blank)\n",
    "<br><br>Hence these can be excluded"
   ]
  },
  {
   "cell_type": "code",
   "execution_count": 3,
   "id": "b5c00825",
   "metadata": {
    "execution": {
     "iopub.execute_input": "2021-09-15T06:39:02.553196Z",
     "iopub.status.busy": "2021-09-15T06:39:02.548684Z",
     "iopub.status.idle": "2021-09-15T06:39:02.556044Z",
     "shell.execute_reply": "2021-09-15T06:39:02.556549Z",
     "shell.execute_reply.started": "2021-09-15T06:06:02.928391Z"
    },
    "id": "ZNX625ndSg6I",
    "papermill": {
     "duration": 0.039858,
     "end_time": "2021-09-15T06:39:02.556699",
     "exception": false,
     "start_time": "2021-09-15T06:39:02.516841",
     "status": "completed"
    },
    "tags": []
   },
   "outputs": [],
   "source": [
    "#refer: https://www.kaggle.com/arnabs007/part-1-rsna-miccai-btrc-understanding-the-data\n",
    "EXCLUDE = [109, 123, 709]\n",
    "train_df = train_df[~train_df.BraTS21ID.isin(EXCLUDE)]"
   ]
  },
  {
   "cell_type": "code",
   "execution_count": 4,
   "id": "4e227901",
   "metadata": {
    "execution": {
     "iopub.execute_input": "2021-09-15T06:39:02.605106Z",
     "iopub.status.busy": "2021-09-15T06:39:02.604237Z",
     "iopub.status.idle": "2021-09-15T06:39:02.606154Z",
     "shell.execute_reply": "2021-09-15T06:39:02.606639Z",
     "shell.execute_reply.started": "2021-09-15T06:06:03.100492Z"
    },
    "id": "MC2xY5WrSg6I",
    "papermill": {
     "duration": 0.02829,
     "end_time": "2021-09-15T06:39:02.606776",
     "exception": false,
     "start_time": "2021-09-15T06:39:02.578486",
     "status": "completed"
    },
    "tags": []
   },
   "outputs": [],
   "source": [
    "TYPES = [\"FLAIR\", \"T1w\", \"T1wCE\", \"T2w\"] #mpMRI scans"
   ]
  },
  {
   "cell_type": "code",
   "execution_count": 5,
   "id": "c0040287",
   "metadata": {
    "execution": {
     "iopub.execute_input": "2021-09-15T06:39:02.656151Z",
     "iopub.status.busy": "2021-09-15T06:39:02.655277Z",
     "iopub.status.idle": "2021-09-15T06:39:02.657191Z",
     "shell.execute_reply": "2021-09-15T06:39:02.657664Z",
     "shell.execute_reply.started": "2021-09-15T06:06:03.980587Z"
    },
    "id": "OpI5yrzsSg6I",
    "papermill": {
     "duration": 0.03007,
     "end_time": "2021-09-15T06:39:02.657796",
     "exception": false,
     "start_time": "2021-09-15T06:39:02.627726",
     "status": "completed"
    },
    "tags": []
   },
   "outputs": [],
   "source": [
    "def load_dicom(path, size = 64): #load DICOM files\n",
    "    dicom = pydicom.read_file(path)\n",
    "    data = dicom.pixel_array #returns a numpy.ndarray containing the pixel data\n",
    "    if np.max(data) != 0:\n",
    "        data = data / np.max(data) #standardizes so that the pixel values are between 0 and 1\n",
    "    data = (data * 255).astype(np.uint8) #rescales to 0 and 255\n",
    "    return cv2.resize(data, (size, size))"
   ]
  },
  {
   "cell_type": "code",
   "execution_count": 6,
   "id": "be015ce9",
   "metadata": {
    "execution": {
     "iopub.execute_input": "2021-09-15T06:39:02.708390Z",
     "iopub.status.busy": "2021-09-15T06:39:02.707517Z",
     "iopub.status.idle": "2021-09-15T06:39:02.710075Z",
     "shell.execute_reply": "2021-09-15T06:39:02.709608Z",
     "shell.execute_reply.started": "2021-09-15T06:06:04.030007Z"
    },
    "id": "3nirbxWXSg6J",
    "papermill": {
     "duration": 0.031324,
     "end_time": "2021-09-15T06:39:02.710209",
     "exception": false,
     "start_time": "2021-09-15T06:39:02.678885",
     "status": "completed"
    },
    "tags": []
   },
   "outputs": [],
   "source": [
    "def get_all_image_paths(BraTS21ID, image_type, folder=\"train\"): #get an array of all the images of a particular type or a particular patient id\n",
    "    assert(image_type in TYPES) #only in types\n",
    "    patient_path = os.path.join(\"../input/rsna-miccai-brain-tumor-radiogenomic-classification/%s/\" % folder, str(BraTS21ID).zfill(5)) #다른 폴더일 수도 있음\n",
    "    #print(lambda x: int(x[:-4].split(\"-\")[-1]))\n",
    "    \n",
    "    paths = sorted(glob.glob(os.path.join(patient_path, image_type, \"*\")), key=lambda x: int(x[:-4].split(\"-\")[-1])) #sort\n",
    "    #print(paths)\n",
    "    \n",
    "    num_images = len(paths)\n",
    "    \n",
    "    start = int(num_images * 0.25)\n",
    "    end = int(num_images * 0.75)\n",
    "    if num_images < 10:\n",
    "        jump = 1\n",
    "    else:\n",
    "        jump = 3\n",
    "        \n",
    "    return np.array(paths[start:end:jump])"
   ]
  },
  {
   "cell_type": "code",
   "execution_count": 7,
   "id": "cfbb9b17",
   "metadata": {
    "execution": {
     "iopub.execute_input": "2021-09-15T06:39:02.757668Z",
     "iopub.status.busy": "2021-09-15T06:39:02.756792Z",
     "iopub.status.idle": "2021-09-15T06:39:02.759381Z",
     "shell.execute_reply": "2021-09-15T06:39:02.758911Z",
     "shell.execute_reply.started": "2021-09-15T06:06:05.029642Z"
    },
    "id": "oWZMpAyBSg6K",
    "papermill": {
     "duration": 0.028346,
     "end_time": "2021-09-15T06:39:02.759496",
     "exception": false,
     "start_time": "2021-09-15T06:39:02.731150",
     "status": "completed"
    },
    "tags": []
   },
   "outputs": [],
   "source": [
    "def get_all_images(BraTS21ID, image_type, folder=\"train\", size=225):\n",
    "    return [load_dicom(path, size) for path in get_all_image_paths(BraTS21ID, image_type, folder)]"
   ]
  },
  {
   "cell_type": "code",
   "execution_count": 8,
   "id": "280ca7df",
   "metadata": {
    "execution": {
     "iopub.execute_input": "2021-09-15T06:39:02.809659Z",
     "iopub.status.busy": "2021-09-15T06:39:02.808858Z",
     "iopub.status.idle": "2021-09-15T06:39:02.811148Z",
     "shell.execute_reply": "2021-09-15T06:39:02.811605Z",
     "shell.execute_reply.started": "2021-09-15T06:06:05.038005Z"
    },
    "id": "5DDIDg9dSg6L",
    "papermill": {
     "duration": 0.031352,
     "end_time": "2021-09-15T06:39:02.811730",
     "exception": false,
     "start_time": "2021-09-15T06:39:02.780378",
     "status": "completed"
    },
    "tags": []
   },
   "outputs": [],
   "source": [
    "def get_all_data_train(image_type):\n",
    "    global train_df\n",
    "    \n",
    "    X = []\n",
    "    y = []\n",
    "    train_ids = []\n",
    "\n",
    "    for i in tqdm(train_df.index):\n",
    "        tmp_x = train_df.loc[i]\n",
    "        images = get_all_images(int(tmp_x[\"BraTS21ID\"]), image_type, \"train\", IMAGE_SIZE)\n",
    "        label = tmp_x[\"MGMT_value\"]\n",
    "\n",
    "        X += images\n",
    "        y += [label] * len(images)\n",
    "        train_ids += [int(tmp_x[\"BraTS21ID\"])] * len(images)\n",
    "        assert(len(X) == len(y))\n",
    "    return np.array(X), np.array(y), np.array(train_ids)\n",
    "\n",
    "def get_all_data_test(image_type):\n",
    "    global test_df\n",
    "    \n",
    "    X = []\n",
    "    test_ids = []\n",
    "\n",
    "    for i in tqdm(test_df.index):\n",
    "        tmp_x = test_df.loc[i]\n",
    "        images = get_all_images(int(tmp_x[\"BraTS21ID\"]), image_type, \"test\", IMAGE_SIZE)\n",
    "        X += images\n",
    "        test_ids += [int(tmp_x[\"BraTS21ID\"])] * len(images)\n",
    "\n",
    "    return np.array(X), np.array(test_ids)"
   ]
  },
  {
   "cell_type": "code",
   "execution_count": 9,
   "id": "f3373cc7",
   "metadata": {
    "execution": {
     "iopub.execute_input": "2021-09-15T06:39:02.857008Z",
     "iopub.status.busy": "2021-09-15T06:39:02.856440Z",
     "iopub.status.idle": "2021-09-15T06:43:48.651262Z",
     "shell.execute_reply": "2021-09-15T06:43:48.650409Z",
     "shell.execute_reply.started": "2021-09-15T06:06:25.165058Z"
    },
    "id": "2wRBd_6ISg6L",
    "outputId": "eb24aea2-e5ea-4872-c463-9fbd00769004",
    "papermill": {
     "duration": 285.819623,
     "end_time": "2021-09-15T06:43:48.651392",
     "exception": false,
     "start_time": "2021-09-15T06:39:02.831769",
     "status": "completed"
    },
    "tags": []
   },
   "outputs": [
    {
     "name": "stderr",
     "output_type": "stream",
     "text": [
      "100%|██████████| 582/582 [04:12<00:00,  2.30it/s]\n",
      "100%|██████████| 87/87 [00:32<00:00,  2.65it/s]\n"
     ]
    },
    {
     "data": {
      "text/plain": [
       "((16813, 64, 64), (16813,), (16813,))"
      ]
     },
     "execution_count": 9,
     "metadata": {},
     "output_type": "execute_result"
    }
   ],
   "source": [
    "IMAGE_SIZE = 64\n",
    "\n",
    "X, y, train_idt = get_all_data_train(\"T2w\")\n",
    "X_test, test_idt = get_all_data_test(\"T2w\")\n",
    "X.shape, y.shape, train_idt.shape"
   ]
  },
  {
   "cell_type": "code",
   "execution_count": 10,
   "id": "5a1064a5",
   "metadata": {
    "execution": {
     "iopub.execute_input": "2021-09-15T06:43:48.977371Z",
     "iopub.status.busy": "2021-09-15T06:43:48.974324Z",
     "iopub.status.idle": "2021-09-15T06:43:49.004077Z",
     "shell.execute_reply": "2021-09-15T06:43:49.003577Z",
     "shell.execute_reply.started": "2021-09-15T06:09:47.321348Z"
    },
    "id": "wrK-MrfRSg6M",
    "papermill": {
     "duration": 0.194141,
     "end_time": "2021-09-15T06:43:49.004217",
     "exception": false,
     "start_time": "2021-09-15T06:43:48.810076",
     "status": "completed"
    },
    "tags": []
   },
   "outputs": [],
   "source": [
    "X_train, X_valid, y_train, y_valid, train_idt_train, train_idt_valid = train_test_split(X, y, train_idt, test_size=0.15)"
   ]
  },
  {
   "cell_type": "code",
   "execution_count": 11,
   "id": "aebb6e47",
   "metadata": {
    "execution": {
     "iopub.execute_input": "2021-09-15T06:43:50.938801Z",
     "iopub.status.busy": "2021-09-15T06:43:49.543448Z",
     "iopub.status.idle": "2021-09-15T06:43:51.295170Z",
     "shell.execute_reply": "2021-09-15T06:43:51.294552Z",
     "shell.execute_reply.started": "2021-09-15T06:09:52.560640Z"
    },
    "id": "bej50ftOSg6N",
    "papermill": {
     "duration": 2.127881,
     "end_time": "2021-09-15T06:43:51.295311",
     "exception": false,
     "start_time": "2021-09-15T06:43:49.167430",
     "status": "completed"
    },
    "tags": []
   },
   "outputs": [
    {
     "name": "stderr",
     "output_type": "stream",
     "text": [
      "2021-09-15 06:43:49.329454: I tensorflow/compiler/jit/xla_cpu_device.cc:41] Not creating XLA devices, tf_xla_enable_xla_devices not set\n",
      "2021-09-15 06:43:49.332879: I tensorflow/stream_executor/platform/default/dso_loader.cc:49] Successfully opened dynamic library libcuda.so.1\n",
      "2021-09-15 06:43:49.372251: I tensorflow/stream_executor/cuda/cuda_gpu_executor.cc:941] successful NUMA node read from SysFS had negative value (-1), but there must be at least one NUMA node, so returning NUMA node zero\n",
      "2021-09-15 06:43:49.372954: I tensorflow/core/common_runtime/gpu/gpu_device.cc:1720] Found device 0 with properties: \n",
      "pciBusID: 0000:00:04.0 name: Tesla P100-PCIE-16GB computeCapability: 6.0\n",
      "coreClock: 1.3285GHz coreCount: 56 deviceMemorySize: 15.90GiB deviceMemoryBandwidth: 681.88GiB/s\n",
      "2021-09-15 06:43:49.373017: I tensorflow/stream_executor/platform/default/dso_loader.cc:49] Successfully opened dynamic library libcudart.so.11.0\n",
      "2021-09-15 06:43:49.400293: I tensorflow/stream_executor/platform/default/dso_loader.cc:49] Successfully opened dynamic library libcublas.so.11\n",
      "2021-09-15 06:43:49.400384: I tensorflow/stream_executor/platform/default/dso_loader.cc:49] Successfully opened dynamic library libcublasLt.so.11\n",
      "2021-09-15 06:43:49.417509: I tensorflow/stream_executor/platform/default/dso_loader.cc:49] Successfully opened dynamic library libcufft.so.10\n",
      "2021-09-15 06:43:49.463864: I tensorflow/stream_executor/platform/default/dso_loader.cc:49] Successfully opened dynamic library libcurand.so.10\n",
      "2021-09-15 06:43:49.508911: I tensorflow/stream_executor/platform/default/dso_loader.cc:49] Successfully opened dynamic library libcusolver.so.10\n",
      "2021-09-15 06:43:49.536825: I tensorflow/stream_executor/platform/default/dso_loader.cc:49] Successfully opened dynamic library libcusparse.so.11\n",
      "2021-09-15 06:43:49.539424: I tensorflow/stream_executor/platform/default/dso_loader.cc:49] Successfully opened dynamic library libcudnn.so.8\n",
      "2021-09-15 06:43:49.539612: I tensorflow/stream_executor/cuda/cuda_gpu_executor.cc:941] successful NUMA node read from SysFS had negative value (-1), but there must be at least one NUMA node, so returning NUMA node zero\n",
      "2021-09-15 06:43:49.540376: I tensorflow/stream_executor/cuda/cuda_gpu_executor.cc:941] successful NUMA node read from SysFS had negative value (-1), but there must be at least one NUMA node, so returning NUMA node zero\n",
      "2021-09-15 06:43:49.541988: I tensorflow/core/common_runtime/gpu/gpu_device.cc:1862] Adding visible gpu devices: 0\n",
      "2021-09-15 06:43:49.543920: I tensorflow/core/platform/cpu_feature_guard.cc:142] This TensorFlow binary is optimized with oneAPI Deep Neural Network Library (oneDNN) to use the following CPU instructions in performance-critical operations:  AVX2 AVX512F FMA\n",
      "To enable them in other operations, rebuild TensorFlow with the appropriate compiler flags.\n",
      "2021-09-15 06:43:49.544937: I tensorflow/compiler/jit/xla_gpu_device.cc:99] Not creating XLA devices, tf_xla_enable_xla_devices not set\n",
      "2021-09-15 06:43:49.545096: I tensorflow/stream_executor/cuda/cuda_gpu_executor.cc:941] successful NUMA node read from SysFS had negative value (-1), but there must be at least one NUMA node, so returning NUMA node zero\n",
      "2021-09-15 06:43:49.545736: I tensorflow/core/common_runtime/gpu/gpu_device.cc:1720] Found device 0 with properties: \n",
      "pciBusID: 0000:00:04.0 name: Tesla P100-PCIE-16GB computeCapability: 6.0\n",
      "coreClock: 1.3285GHz coreCount: 56 deviceMemorySize: 15.90GiB deviceMemoryBandwidth: 681.88GiB/s\n",
      "2021-09-15 06:43:49.545784: I tensorflow/stream_executor/platform/default/dso_loader.cc:49] Successfully opened dynamic library libcudart.so.11.0\n",
      "2021-09-15 06:43:49.545813: I tensorflow/stream_executor/platform/default/dso_loader.cc:49] Successfully opened dynamic library libcublas.so.11\n",
      "2021-09-15 06:43:49.545832: I tensorflow/stream_executor/platform/default/dso_loader.cc:49] Successfully opened dynamic library libcublasLt.so.11\n",
      "2021-09-15 06:43:49.545870: I tensorflow/stream_executor/platform/default/dso_loader.cc:49] Successfully opened dynamic library libcufft.so.10\n",
      "2021-09-15 06:43:49.545888: I tensorflow/stream_executor/platform/default/dso_loader.cc:49] Successfully opened dynamic library libcurand.so.10\n",
      "2021-09-15 06:43:49.545905: I tensorflow/stream_executor/platform/default/dso_loader.cc:49] Successfully opened dynamic library libcusolver.so.10\n",
      "2021-09-15 06:43:49.545925: I tensorflow/stream_executor/platform/default/dso_loader.cc:49] Successfully opened dynamic library libcusparse.so.11\n",
      "2021-09-15 06:43:49.545942: I tensorflow/stream_executor/platform/default/dso_loader.cc:49] Successfully opened dynamic library libcudnn.so.8\n",
      "2021-09-15 06:43:49.546029: I tensorflow/stream_executor/cuda/cuda_gpu_executor.cc:941] successful NUMA node read from SysFS had negative value (-1), but there must be at least one NUMA node, so returning NUMA node zero\n",
      "2021-09-15 06:43:49.546796: I tensorflow/stream_executor/cuda/cuda_gpu_executor.cc:941] successful NUMA node read from SysFS had negative value (-1), but there must be at least one NUMA node, so returning NUMA node zero\n",
      "2021-09-15 06:43:49.547519: I tensorflow/core/common_runtime/gpu/gpu_device.cc:1862] Adding visible gpu devices: 0\n",
      "2021-09-15 06:43:49.548613: I tensorflow/stream_executor/platform/default/dso_loader.cc:49] Successfully opened dynamic library libcudart.so.11.0\n",
      "2021-09-15 06:43:50.925503: I tensorflow/core/common_runtime/gpu/gpu_device.cc:1261] Device interconnect StreamExecutor with strength 1 edge matrix:\n",
      "2021-09-15 06:43:50.925554: I tensorflow/core/common_runtime/gpu/gpu_device.cc:1267]      0 \n",
      "2021-09-15 06:43:50.925564: I tensorflow/core/common_runtime/gpu/gpu_device.cc:1280] 0:   N \n",
      "2021-09-15 06:43:50.927704: I tensorflow/stream_executor/cuda/cuda_gpu_executor.cc:941] successful NUMA node read from SysFS had negative value (-1), but there must be at least one NUMA node, so returning NUMA node zero\n",
      "2021-09-15 06:43:50.928466: I tensorflow/stream_executor/cuda/cuda_gpu_executor.cc:941] successful NUMA node read from SysFS had negative value (-1), but there must be at least one NUMA node, so returning NUMA node zero\n",
      "2021-09-15 06:43:50.929089: I tensorflow/stream_executor/cuda/cuda_gpu_executor.cc:941] successful NUMA node read from SysFS had negative value (-1), but there must be at least one NUMA node, so returning NUMA node zero\n",
      "2021-09-15 06:43:50.929693: I tensorflow/core/common_runtime/gpu/gpu_device.cc:1406] Created TensorFlow device (/job:localhost/replica:0/task:0/device:GPU:0 with 14957 MB memory) -> physical GPU (device: 0, name: Tesla P100-PCIE-16GB, pci bus id: 0000:00:04.0, compute capability: 6.0)\n"
     ]
    }
   ],
   "source": [
    "X_train = tf.expand_dims(X_train, axis=-1) #expand the dimension at the end of the array\n",
    "X_valid = tf.expand_dims(X_valid, axis=-1)\n",
    "\n",
    "y_train = to_categorical(y_train) #one-hot incoding\n",
    "y_valid = to_categorical(y_valid)"
   ]
  },
  {
   "cell_type": "code",
   "execution_count": 12,
   "id": "1ecb0985",
   "metadata": {
    "execution": {
     "iopub.execute_input": "2021-09-15T06:43:51.600136Z",
     "iopub.status.busy": "2021-09-15T06:43:51.599537Z",
     "iopub.status.idle": "2021-09-15T06:43:51.602207Z",
     "shell.execute_reply": "2021-09-15T06:43:51.602634Z",
     "shell.execute_reply.started": "2021-09-15T06:10:03.057820Z"
    },
    "id": "RQr6CiokSg6N",
    "outputId": "0ff90471-03b0-413d-ffe0-5653a7ed2db8",
    "papermill": {
     "duration": 0.15818,
     "end_time": "2021-09-15T06:43:51.602764",
     "exception": false,
     "start_time": "2021-09-15T06:43:51.444584",
     "status": "completed"
    },
    "tags": []
   },
   "outputs": [
    {
     "data": {
      "text/plain": [
       "(TensorShape([14291, 64, 64, 1]),\n",
       " (14291, 2),\n",
       " TensorShape([2522, 64, 64, 1]),\n",
       " (2522, 2),\n",
       " (14291,),\n",
       " (2522,))"
      ]
     },
     "execution_count": 12,
     "metadata": {},
     "output_type": "execute_result"
    }
   ],
   "source": [
    "X_train.shape, y_train.shape, X_valid.shape, y_valid.shape, train_idt_train.shape, train_idt_valid.shape"
   ]
  },
  {
   "cell_type": "code",
   "execution_count": 13,
   "id": "6dbf2f4a",
   "metadata": {
    "execution": {
     "iopub.execute_input": "2021-09-15T06:43:51.904650Z",
     "iopub.status.busy": "2021-09-15T06:43:51.903963Z",
     "iopub.status.idle": "2021-09-15T06:43:51.907307Z",
     "shell.execute_reply": "2021-09-15T06:43:51.906861Z",
     "shell.execute_reply.started": "2021-09-15T06:13:41.142633Z"
    },
    "id": "gpuY_HLMSg6N",
    "papermill": {
     "duration": 0.156054,
     "end_time": "2021-09-15T06:43:51.907420",
     "exception": false,
     "start_time": "2021-09-15T06:43:51.751366",
     "status": "completed"
    },
    "tags": []
   },
   "outputs": [],
   "source": [
    "def create_model():\n",
    "    model = keras.Sequential()\n",
    "    model.add(ResNet50(include_top=True, weights=None, input_shape=(64, 64, 1), classes=2))\n",
    "    return model"
   ]
  },
  {
   "cell_type": "code",
   "execution_count": 14,
   "id": "2be53c85",
   "metadata": {
    "execution": {
     "iopub.execute_input": "2021-09-15T06:43:52.393144Z",
     "iopub.status.busy": "2021-09-15T06:43:52.392392Z",
     "iopub.status.idle": "2021-09-15T06:43:52.397932Z",
     "shell.execute_reply": "2021-09-15T06:43:52.398560Z",
     "shell.execute_reply.started": "2021-09-15T06:13:43.239240Z"
    },
    "id": "ydTkzEloSg6O",
    "papermill": {
     "duration": 0.255003,
     "end_time": "2021-09-15T06:43:52.398746",
     "exception": false,
     "start_time": "2021-09-15T06:43:52.143743",
     "status": "completed"
    },
    "tags": []
   },
   "outputs": [],
   "source": [
    "## Hyper Parameters\n",
    "N_EPOCHS = 20\n",
    "N_BATCH = 40\n",
    "N_TRAIN = 14291\n",
    "N_VAL = 2522\n",
    "\n",
    "learning_rate = 0.0001\n",
    "steps_per_epoch = N_TRAIN / N_BATCH\n",
    "validation_steps = int(np.ceil(N_VAL / N_BATCH))"
   ]
  },
  {
   "cell_type": "code",
   "execution_count": 15,
   "id": "31ca4990",
   "metadata": {
    "execution": {
     "iopub.execute_input": "2021-09-15T06:43:52.908295Z",
     "iopub.status.busy": "2021-09-15T06:43:52.903930Z",
     "iopub.status.idle": "2021-09-15T06:43:54.370986Z",
     "shell.execute_reply": "2021-09-15T06:43:54.370524Z",
     "shell.execute_reply.started": "2021-09-15T06:13:44.287527Z"
    },
    "id": "2Nh-2Cl1Sg6O",
    "papermill": {
     "duration": 1.721323,
     "end_time": "2021-09-15T06:43:54.371114",
     "exception": false,
     "start_time": "2021-09-15T06:43:52.649791",
     "status": "completed"
    },
    "tags": []
   },
   "outputs": [],
   "source": [
    "## Create model, compile & summary\n",
    "model = create_model()\n",
    "\n",
    "model.compile(optimizer=tf.keras.optimizers.Adam(learning_rate),\n",
    "              loss='categorical_crossentropy', #label이 ohe이 아니면 sparse를 쓰면 자동으로 ohe\n",
    "              metrics=[tf.keras.metrics.AUC()])"
   ]
  },
  {
   "cell_type": "code",
   "execution_count": 16,
   "id": "cfe4fb5d",
   "metadata": {
    "execution": {
     "iopub.execute_input": "2021-09-15T06:43:54.679172Z",
     "iopub.status.busy": "2021-09-15T06:43:54.678546Z",
     "iopub.status.idle": "2021-09-15T06:49:49.092385Z",
     "shell.execute_reply": "2021-09-15T06:49:49.092841Z",
     "shell.execute_reply.started": "2021-09-15T06:13:47.441911Z"
    },
    "id": "DSWdjGPoSg6O",
    "outputId": "efb73b3e-b52a-4988-d961-7f4a32c7acf2",
    "papermill": {
     "duration": 354.572971,
     "end_time": "2021-09-15T06:49:49.093003",
     "exception": false,
     "start_time": "2021-09-15T06:43:54.520032",
     "status": "completed"
    },
    "tags": []
   },
   "outputs": [
    {
     "name": "stderr",
     "output_type": "stream",
     "text": [
      "2021-09-15 06:43:54.776628: I tensorflow/compiler/mlir/mlir_graph_optimization_pass.cc:116] None of the MLIR optimization passes are enabled (registered 2)\n",
      "2021-09-15 06:43:54.788583: I tensorflow/core/platform/profile_utils/cpu_utils.cc:112] CPU Frequency: 2000194999 Hz\n"
     ]
    },
    {
     "name": "stdout",
     "output_type": "stream",
     "text": [
      "Epoch 1/20\n"
     ]
    },
    {
     "name": "stderr",
     "output_type": "stream",
     "text": [
      "2021-09-15 06:43:59.716937: I tensorflow/stream_executor/platform/default/dso_loader.cc:49] Successfully opened dynamic library libcublas.so.11\n",
      "2021-09-15 06:44:00.452017: I tensorflow/stream_executor/platform/default/dso_loader.cc:49] Successfully opened dynamic library libcublasLt.so.11\n",
      "2021-09-15 06:44:00.484256: I tensorflow/stream_executor/platform/default/dso_loader.cc:49] Successfully opened dynamic library libcudnn.so.8\n"
     ]
    },
    {
     "name": "stdout",
     "output_type": "stream",
     "text": [
      "357/357 [==============================] - 30s 54ms/step - loss: 0.9599 - auc: 0.5582 - val_loss: 0.8172 - val_auc: 0.6265\n",
      "Epoch 2/20\n",
      "357/357 [==============================] - 17s 47ms/step - loss: 0.6978 - auc: 0.6503 - val_loss: 0.7075 - val_auc: 0.6624\n",
      "Epoch 3/20\n",
      "357/357 [==============================] - 17s 48ms/step - loss: 0.6189 - auc: 0.7342 - val_loss: 0.6293 - val_auc: 0.6976\n",
      "Epoch 4/20\n",
      "357/357 [==============================] - 17s 47ms/step - loss: 0.5421 - auc: 0.8053 - val_loss: 0.6017 - val_auc: 0.7532\n",
      "Epoch 5/20\n",
      "357/357 [==============================] - 17s 48ms/step - loss: 0.4322 - auc: 0.8812 - val_loss: 0.8156 - val_auc: 0.7175\n",
      "Epoch 6/20\n",
      "357/357 [==============================] - 17s 47ms/step - loss: 0.3324 - auc: 0.9322 - val_loss: 0.5512 - val_auc: 0.8323\n",
      "Epoch 7/20\n",
      "357/357 [==============================] - 17s 48ms/step - loss: 0.2618 - auc: 0.9583 - val_loss: 0.5608 - val_auc: 0.8437\n",
      "Epoch 8/20\n",
      "357/357 [==============================] - 17s 47ms/step - loss: 0.2012 - auc: 0.9754 - val_loss: 0.5389 - val_auc: 0.8609\n",
      "Epoch 9/20\n",
      "357/357 [==============================] - 17s 48ms/step - loss: 0.1670 - auc: 0.9828 - val_loss: 0.6182 - val_auc: 0.8583\n",
      "Epoch 10/20\n",
      "357/357 [==============================] - 17s 47ms/step - loss: 0.1224 - auc: 0.9906 - val_loss: 0.6987 - val_auc: 0.8581\n",
      "Epoch 11/20\n",
      "357/357 [==============================] - 17s 48ms/step - loss: 0.1415 - auc: 0.9875 - val_loss: 0.6597 - val_auc: 0.8627\n",
      "Epoch 12/20\n",
      "357/357 [==============================] - 17s 47ms/step - loss: 0.1138 - auc: 0.9919 - val_loss: 0.6312 - val_auc: 0.8718\n",
      "Epoch 13/20\n",
      "357/357 [==============================] - 17s 48ms/step - loss: 0.0903 - auc: 0.9948 - val_loss: 0.5967 - val_auc: 0.8881\n",
      "Epoch 14/20\n",
      "357/357 [==============================] - 17s 47ms/step - loss: 0.0903 - auc: 0.9944 - val_loss: 0.6158 - val_auc: 0.8805\n",
      "Epoch 15/20\n",
      "357/357 [==============================] - 17s 48ms/step - loss: 0.0954 - auc: 0.9941 - val_loss: 0.5720 - val_auc: 0.8911\n",
      "Epoch 16/20\n",
      "357/357 [==============================] - 17s 47ms/step - loss: 0.0856 - auc: 0.9953 - val_loss: 0.5676 - val_auc: 0.8994\n",
      "Epoch 17/20\n",
      "357/357 [==============================] - 17s 48ms/step - loss: 0.0685 - auc: 0.9968 - val_loss: 0.5593 - val_auc: 0.9027\n",
      "Epoch 18/20\n",
      "357/357 [==============================] - 17s 47ms/step - loss: 0.0712 - auc: 0.9965 - val_loss: 0.5136 - val_auc: 0.9108\n",
      "Epoch 19/20\n",
      "357/357 [==============================] - 17s 48ms/step - loss: 0.0619 - auc: 0.9968 - val_loss: 0.5827 - val_auc: 0.9090\n",
      "Epoch 20/20\n",
      "357/357 [==============================] - 18s 49ms/step - loss: 0.1082 - auc: 0.9920 - val_loss: 0.6234 - val_auc: 0.8812\n"
     ]
    }
   ],
   "source": [
    "history = model.fit(\n",
    "    x=X_train,\n",
    "    y=y_train,\n",
    "    epochs=N_EPOCHS,\n",
    "    steps_per_epoch=steps_per_epoch,\n",
    "    validation_data=(X_valid, y_valid),\n",
    ")"
   ]
  },
  {
   "cell_type": "code",
   "execution_count": 17,
   "id": "7655f81f",
   "metadata": {
    "execution": {
     "iopub.execute_input": "2021-09-15T06:49:51.379432Z",
     "iopub.status.busy": "2021-09-15T06:49:51.363714Z",
     "iopub.status.idle": "2021-09-15T06:49:52.274666Z",
     "shell.execute_reply": "2021-09-15T06:49:52.274126Z",
     "shell.execute_reply.started": "2021-09-09T08:53:12.734934Z"
    },
    "id": "TTeQWxkqSg6P",
    "papermill": {
     "duration": 2.07344,
     "end_time": "2021-09-15T06:49:52.274805",
     "exception": false,
     "start_time": "2021-09-15T06:49:50.201365",
     "status": "completed"
    },
    "tags": []
   },
   "outputs": [],
   "source": [
    "# Save the entire model to a HDF5 file\n",
    "model.save('model.h5')"
   ]
  },
  {
   "cell_type": "code",
   "execution_count": 18,
   "id": "0870071f",
   "metadata": {
    "execution": {
     "iopub.execute_input": "2021-09-15T06:49:54.514260Z",
     "iopub.status.busy": "2021-09-15T06:49:54.513428Z",
     "iopub.status.idle": "2021-09-15T06:49:56.778741Z",
     "shell.execute_reply": "2021-09-15T06:49:56.779319Z",
     "shell.execute_reply.started": "2021-09-09T08:53:19.205424Z"
    },
    "id": "cwsEstoQSg6P",
    "outputId": "6b61545c-1846-47ca-e28f-7af15372912e",
    "papermill": {
     "duration": 3.389889,
     "end_time": "2021-09-15T06:49:56.779519",
     "exception": false,
     "start_time": "2021-09-15T06:49:53.389630",
     "status": "completed"
    },
    "tags": []
   },
   "outputs": [
    {
     "name": "stdout",
     "output_type": "stream",
     "text": [
      "Model: \"sequential\"\n",
      "_________________________________________________________________\n",
      "Layer (type)                 Output Shape              Param #   \n",
      "=================================================================\n",
      "resnet50 (Functional)        (None, 2)                 23585538  \n",
      "=================================================================\n",
      "Total params: 23,585,538\n",
      "Trainable params: 23,532,418\n",
      "Non-trainable params: 53,120\n",
      "_________________________________________________________________\n"
     ]
    }
   ],
   "source": [
    "# Recreate the exact same model, including its weights and the optimizer\n",
    "new_model = keras.models.load_model('model.h5')\n",
    "# Show the model architecture\n",
    "new_model.summary()"
   ]
  },
  {
   "cell_type": "code",
   "execution_count": 19,
   "id": "8b1b7694",
   "metadata": {
    "execution": {
     "iopub.execute_input": "2021-09-15T06:49:59.255509Z",
     "iopub.status.busy": "2021-09-15T06:49:59.254936Z",
     "iopub.status.idle": "2021-09-15T06:49:59.486367Z",
     "shell.execute_reply": "2021-09-15T06:49:59.487107Z",
     "shell.execute_reply.started": "2021-09-15T06:22:52.683563Z"
    },
    "id": "hOyjRAXkSg6P",
    "outputId": "0988320c-3578-49d4-fa10-03265da860ea",
    "papermill": {
     "duration": 1.58762,
     "end_time": "2021-09-15T06:49:59.487285",
     "exception": false,
     "start_time": "2021-09-15T06:49:57.899665",
     "status": "completed"
    },
    "tags": []
   },
   "outputs": [
    {
     "data": {
      "image/png": "[encoded data removed]",
      "text/plain": [
       "<Figure size 936x576 with 1 Axes>"
      ]
     },
     "metadata": {
      "needs_background": "light"
     },
     "output_type": "display_data"
    }
   ],
   "source": [
    "plt.figure(figsize = (13,8))\n",
    "plt.plot(history.history[\"auc\"], label = \"Train Accuracy\")\n",
    "plt.plot(history.history[\"val_auc\"],label = \"Validation Accuracy\")\n",
    "plt.title(\"Accuracies\")\n",
    "plt.xlabel(\"Epochs\")\n",
    "plt.ylabel(\"Accuracy\")\n",
    "plt.legend()\n",
    "plt.show()"
   ]
  },
  {
   "cell_type": "code",
   "execution_count": 20,
   "id": "21104168",
   "metadata": {
    "execution": {
     "iopub.execute_input": "2021-09-15T06:50:01.718464Z",
     "iopub.status.busy": "2021-09-15T06:50:01.717613Z",
     "iopub.status.idle": "2021-09-15T06:50:01.931416Z",
     "shell.execute_reply": "2021-09-15T06:50:01.930853Z",
     "shell.execute_reply.started": "2021-09-15T06:23:02.125431Z"
    },
    "id": "nsGxtkITSg6Q",
    "outputId": "3af2b16a-2588-4eb7-c9a6-c1dfba80dee3",
    "papermill": {
     "duration": 1.341038,
     "end_time": "2021-09-15T06:50:01.931554",
     "exception": false,
     "start_time": "2021-09-15T06:50:00.590516",
     "status": "completed"
    },
    "tags": []
   },
   "outputs": [
    {
     "data": {
      "image/png": "[encoded data removed]",
      "text/plain": [
       "<Figure size 936x576 with 1 Axes>"
      ]
     },
     "metadata": {
      "needs_background": "light"
     },
     "output_type": "display_data"
    }
   ],
   "source": [
    "plt.figure(figsize = (13,8))\n",
    "plt.plot(history.history[\"loss\"], label = \"Train Loss\")\n",
    "plt.plot(history.history[\"val_loss\"],label = \"Validation Loss\")\n",
    "plt.title(\"Losses\")\n",
    "plt.xlabel(\"Epochs\")\n",
    "plt.ylabel(\"Loss\")\n",
    "plt.legend()\n",
    "plt.show()"
   ]
  },
  {
   "cell_type": "code",
   "execution_count": 21,
   "id": "3ebc7c09",
   "metadata": {
    "execution": {
     "iopub.execute_input": "2021-09-15T06:50:04.165719Z",
     "iopub.status.busy": "2021-09-15T06:50:04.164886Z",
     "iopub.status.idle": "2021-09-15T06:50:05.785673Z",
     "shell.execute_reply": "2021-09-15T06:50:05.785112Z",
     "shell.execute_reply.started": "2021-09-15T06:23:16.794858Z"
    },
    "id": "XB2Kuu5gSg6Q",
    "papermill": {
     "duration": 2.746716,
     "end_time": "2021-09-15T06:50:05.785800",
     "exception": false,
     "start_time": "2021-09-15T06:50:03.039084",
     "status": "completed"
    },
    "tags": []
   },
   "outputs": [],
   "source": [
    "y_pred = model.predict(X_valid) #pedict on X_valid\n",
    "pred = np.argmax(y_pred, axis = 1) #index of largest value by column 열 기준 가장 큰 값의 인덱스\n",
    "\n",
    "result = pd.DataFrame(train_idt_valid) #BraTS21ID\n",
    "result[1] = pred #MGMT_value\n",
    "result.columns=[\"BraTS21ID\",\"MGMT_value\"]"
   ]
  },
  {
   "cell_type": "code",
   "execution_count": 22,
   "id": "320f7b7b",
   "metadata": {
    "execution": {
     "iopub.execute_input": "2021-09-15T06:50:08.051936Z",
     "iopub.status.busy": "2021-09-15T06:50:08.047795Z",
     "iopub.status.idle": "2021-09-15T06:50:08.066239Z",
     "shell.execute_reply": "2021-09-15T06:50:08.065821Z",
     "shell.execute_reply.started": "2021-09-15T06:23:18.469341Z"
    },
    "id": "qQ1RKbfuSg6R",
    "papermill": {
     "duration": 1.131883,
     "end_time": "2021-09-15T06:50:08.066364",
     "exception": false,
     "start_time": "2021-09-15T06:50:06.934481",
     "status": "completed"
    },
    "tags": []
   },
   "outputs": [],
   "source": [
    "#Group by BraTS21ID and average + do not use index\n",
    "result_final = result.groupby(\"BraTS21ID\", as_index = False).mean()\n",
    "result_final = result_final.merge(train_df, on = \"BraTS21ID\") #merge train_df"
   ]
  },
  {
   "cell_type": "code",
   "execution_count": 23,
   "id": "7100bea0",
   "metadata": {
    "execution": {
     "iopub.execute_input": "2021-09-15T06:50:10.520822Z",
     "iopub.status.busy": "2021-09-15T06:50:10.518130Z",
     "iopub.status.idle": "2021-09-15T06:50:10.529233Z",
     "shell.execute_reply": "2021-09-15T06:50:10.529655Z",
     "shell.execute_reply.started": "2021-09-15T06:23:18.495179Z"
    },
    "id": "MF5O6Iy7Sg6R",
    "outputId": "91f719e7-8ef3-4a11-d768-e53bcd8eda0e",
    "papermill": {
     "duration": 1.361937,
     "end_time": "2021-09-15T06:50:10.529792",
     "exception": false,
     "start_time": "2021-09-15T06:50:09.167855",
     "status": "completed"
    },
    "tags": []
   },
   "outputs": [
    {
     "data": {
      "text/plain": [
       "0.767909748829289"
      ]
     },
     "execution_count": 23,
     "metadata": {},
     "output_type": "execute_result"
    }
   ],
   "source": [
    "from sklearn.metrics import roc_auc_score\n",
    "roc_auc_score(result_final.MGMT_value_y, result_final.MGMT_value_x,)"
   ]
  },
  {
   "cell_type": "code",
   "execution_count": 24,
   "id": "29d94635",
   "metadata": {
    "execution": {
     "iopub.execute_input": "2021-09-15T06:50:12.775320Z",
     "iopub.status.busy": "2021-09-15T06:50:12.774198Z",
     "iopub.status.idle": "2021-09-15T06:50:12.777893Z",
     "shell.execute_reply": "2021-09-15T06:50:12.778311Z",
     "shell.execute_reply.started": "2021-09-15T06:23:19.940606Z"
    },
    "id": "y6HKV_mVSg6R",
    "papermill": {
     "duration": 1.142868,
     "end_time": "2021-09-15T06:50:12.778442",
     "exception": false,
     "start_time": "2021-09-15T06:50:11.635574",
     "status": "completed"
    },
    "tags": []
   },
   "outputs": [],
   "source": [
    "X_test2 = tf.expand_dims(X_test, axis=-1)"
   ]
  },
  {
   "cell_type": "code",
   "execution_count": 25,
   "id": "8b9bb72d",
   "metadata": {
    "execution": {
     "iopub.execute_input": "2021-09-15T06:50:15.022391Z",
     "iopub.status.busy": "2021-09-15T06:50:15.018238Z",
     "iopub.status.idle": "2021-09-15T06:50:15.994700Z",
     "shell.execute_reply": "2021-09-15T06:50:15.994197Z",
     "shell.execute_reply.started": "2021-09-15T06:23:21.001822Z"
    },
    "id": "rZWs6ZzOSg6R",
    "outputId": "a66417eb-6d70-46c8-c161-a061d8412312",
    "papermill": {
     "duration": 2.096237,
     "end_time": "2021-09-15T06:50:15.994846",
     "exception": false,
     "start_time": "2021-09-15T06:50:13.898609",
     "status": "completed"
    },
    "tags": []
   },
   "outputs": [
    {
     "data": {
      "text/html": [
       "<div>\n",
       "<style scoped>\n",
       "    .dataframe tbody tr th:only-of-type {\n",
       "        vertical-align: middle;\n",
       "    }\n",
       "\n",
       "    .dataframe tbody tr th {\n",
       "        vertical-align: top;\n",
       "    }\n",
       "\n",
       "    .dataframe thead th {\n",
       "        text-align: right;\n",
       "    }\n",
       "</style>\n",
       "<table border=\"1\" class=\"dataframe\">\n",
       "  <thead>\n",
       "    <tr style=\"text-align: right;\">\n",
       "      <th></th>\n",
       "      <th>BraTS21ID</th>\n",
       "      <th>MGMT_value</th>\n",
       "    </tr>\n",
       "  </thead>\n",
       "  <tbody>\n",
       "    <tr>\n",
       "      <th>0</th>\n",
       "      <td>1</td>\n",
       "      <td>0.136364</td>\n",
       "    </tr>\n",
       "    <tr>\n",
       "      <th>1</th>\n",
       "      <td>13</td>\n",
       "      <td>0.220588</td>\n",
       "    </tr>\n",
       "    <tr>\n",
       "      <th>2</th>\n",
       "      <td>15</td>\n",
       "      <td>0.838235</td>\n",
       "    </tr>\n",
       "    <tr>\n",
       "      <th>3</th>\n",
       "      <td>27</td>\n",
       "      <td>0.363636</td>\n",
       "    </tr>\n",
       "    <tr>\n",
       "      <th>4</th>\n",
       "      <td>37</td>\n",
       "      <td>0.309859</td>\n",
       "    </tr>\n",
       "    <tr>\n",
       "      <th>...</th>\n",
       "      <td>...</td>\n",
       "      <td>...</td>\n",
       "    </tr>\n",
       "    <tr>\n",
       "      <th>82</th>\n",
       "      <td>826</td>\n",
       "      <td>0.000000</td>\n",
       "    </tr>\n",
       "    <tr>\n",
       "      <th>83</th>\n",
       "      <td>829</td>\n",
       "      <td>0.600000</td>\n",
       "    </tr>\n",
       "    <tr>\n",
       "      <th>84</th>\n",
       "      <td>833</td>\n",
       "      <td>0.166667</td>\n",
       "    </tr>\n",
       "    <tr>\n",
       "      <th>85</th>\n",
       "      <td>997</td>\n",
       "      <td>0.000000</td>\n",
       "    </tr>\n",
       "    <tr>\n",
       "      <th>86</th>\n",
       "      <td>1006</td>\n",
       "      <td>0.047619</td>\n",
       "    </tr>\n",
       "  </tbody>\n",
       "</table>\n",
       "<p>87 rows × 2 columns</p>\n",
       "</div>"
      ],
      "text/plain": [
       "    BraTS21ID  MGMT_value\n",
       "0           1    0.136364\n",
       "1          13    0.220588\n",
       "2          15    0.838235\n",
       "3          27    0.363636\n",
       "4          37    0.309859\n",
       "..        ...         ...\n",
       "82        826    0.000000\n",
       "83        829    0.600000\n",
       "84        833    0.166667\n",
       "85        997    0.000000\n",
       "86       1006    0.047619\n",
       "\n",
       "[87 rows x 2 columns]"
      ]
     },
     "execution_count": 25,
     "metadata": {},
     "output_type": "execute_result"
    }
   ],
   "source": [
    "#submission\n",
    "sample_sub = pd.read_csv(\"../input/rsna-miccai-brain-tumor-radiogenomic-classification/sample_submission.csv\")\n",
    "\n",
    "y_pred = model.predict(X_test2) #predict test\n",
    "pred = np.argmax(y_pred, axis = 1)\n",
    "\n",
    "result = pd.DataFrame(test_idt)\n",
    "result[1] = pred\n",
    "\n",
    "result.columns=[\"BraTS21ID\",\"MGMT_value\"]\n",
    "result_final = result.groupby(\"BraTS21ID\",as_index = False).mean()\n",
    "\n",
    "result_final[\"BraTS21ID\"] = sample_sub[\"BraTS21ID\"]\n",
    "result_final[\"MGMT_value\"] = result_final[\"MGMT_value\"]\n",
    "result_final"
   ]
  },
  {
   "cell_type": "code",
   "execution_count": 26,
   "id": "e132a9e8",
   "metadata": {
    "execution": {
     "iopub.execute_input": "2021-09-15T06:50:18.270060Z",
     "iopub.status.busy": "2021-09-15T06:50:18.269221Z",
     "iopub.status.idle": "2021-09-15T06:50:18.276217Z",
     "shell.execute_reply": "2021-09-15T06:50:18.275771Z",
     "shell.execute_reply.started": "2021-09-15T06:23:24.149479Z"
    },
    "id": "_qSz70GNSg6S",
    "papermill": {
     "duration": 1.123751,
     "end_time": "2021-09-15T06:50:18.276354",
     "exception": false,
     "start_time": "2021-09-15T06:50:17.152603",
     "status": "completed"
    },
    "tags": []
   },
   "outputs": [],
   "source": [
    "result_final.to_csv(\"submission.csv\",index=False)"
   ]
  },
  {
   "cell_type": "code",
   "execution_count": null,
   "id": "f9224589",
   "metadata": {
    "id": "lZtsVyRRSg6S",
    "papermill": {
     "duration": 1.817169,
     "end_time": "2021-09-15T06:50:21.288634",
     "exception": false,
     "start_time": "2021-09-15T06:50:19.471465",
     "status": "completed"
    },
    "tags": []
   },
   "outputs": [],
   "source": []
  }
 ],
 "metadata": {
  "kernelspec": {
   "display_name": "Python 3",
   "language": "python",
   "name": "python3"
  },
  "language_info": {
   "codemirror_mode": {
    "name": "ipython",
    "version": 3
   },
   "file_extension": ".py",
   "mimetype": "text/x-python",
   "name": "python",
   "nbconvert_exporter": "python",
   "pygments_lexer": "ipython3",
   "version": "3.7.10"
  },
  "papermill": {
   "default_parameters": {},
   "duration": 696.209507,
   "end_time": "2021-09-15T06:50:25.661236",
   "environment_variables": {},
   "exception": null,
   "input_path": "__notebook__.ipynb",
   "output_path": "__notebook__.ipynb",
   "parameters": {},
   "start_time": "2021-09-15T06:38:49.451729",
   "version": "2.3.3"
  }
 },
 "nbformat": 4,
 "nbformat_minor": 5
}
