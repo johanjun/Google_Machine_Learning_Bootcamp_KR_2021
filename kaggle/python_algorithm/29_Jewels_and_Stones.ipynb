{
  "nbformat": 4,
  "nbformat_minor": 0,
  "metadata": {
    "colab": {
      "name": "29. Jewels and Stones.ipynb",
      "provenance": [],
      "authorship_tag": "ABX9TyPgT6VA4QGWez8m1AIc10jk",
      "include_colab_link": true
    },
    "kernelspec": {
      "name": "python3",
      "display_name": "Python 3"
    },
    "language_info": {
      "name": "python"
    }
  },
  "cells": [
    {
      "cell_type": "markdown",
      "metadata": {
        "id": "view-in-github",
        "colab_type": "text"
      },
      "source": [
        "<a href=\"https://colab.research.google.com/github/johanjun/Google_Machine_Learning_Bootcamp_KR_2021/blob/main/kaggle/python_algorithm/29_Jewels_and_Stones.ipynb\" target=\"_parent\"><img src=\"https://colab.research.google.com/assets/colab-badge.svg\" alt=\"Open In Colab\"/></a>"
      ]
    },
    {
      "cell_type": "markdown",
      "metadata": {
        "id": "8wl05GyR2LSJ"
      },
      "source": [
        "You're given strings jewels representing the types of stones that are jewels, and stones representing the stones you have. Each character in stones is a type of stone you have. You want to know how many of the stones you have are also jewels.\n",
        "\n",
        "Letters are case sensitive, so \"a\" is considered a different type of stone from \"A\".\n",
        "\n",
        " \n",
        "```\n",
        "Example 1:\n",
        "\n",
        "Input: jewels = \"aA\", stones = \"aAAbbbb\"\n",
        "Output: 3\n",
        "Example 2:\n",
        "\n",
        "Input: jewels = \"z\", stones = \"ZZ\"\n",
        "Output: 0\n",
        "```\n",
        "\n",
        "```\n",
        "Constraints:\n",
        "\n",
        "1 <= jewels.length, stones.length <= 50\n",
        "jewels and stones consist of only English letters.\n",
        "All the characters of jewels are unique.\n",
        "```"
      ]
    },
    {
      "cell_type": "code",
      "metadata": {
        "id": "hLY6sJtt1yev"
      },
      "source": [
        "jewels = \"aA\"\n",
        "stones = \"aAAbbbb\""
      ],
      "execution_count": 2,
      "outputs": []
    },
    {
      "cell_type": "code",
      "metadata": {
        "id": "d8bgd0sk4dPr"
      },
      "source": [
        ""
      ],
      "execution_count": null,
      "outputs": []
    },
    {
      "cell_type": "code",
      "metadata": {
        "id": "-bJ2OZbG2dtJ"
      },
      "source": [
        "jewels_split = [j for j in jewels]"
      ],
      "execution_count": 5,
      "outputs": []
    },
    {
      "cell_type": "code",
      "metadata": {
        "colab": {
          "base_uri": "https://localhost:8080/"
        },
        "id": "4KTNUA4t2hSU",
        "outputId": "aba8e284-bb48-4a05-a677-7754795629a0"
      },
      "source": [
        "jewels_split"
      ],
      "execution_count": 6,
      "outputs": [
        {
          "output_type": "execute_result",
          "data": {
            "text/plain": [
              "['a', 'A']"
            ]
          },
          "metadata": {},
          "execution_count": 6
        }
      ]
    },
    {
      "cell_type": "code",
      "metadata": {
        "id": "GxQrCg6R3Gwp"
      },
      "source": [
        "count = 0\n",
        "for j in jewels_split:\n",
        "  for s in stones:\n",
        "    if j == s:\n",
        "      count += 1\n",
        "  "
      ],
      "execution_count": 7,
      "outputs": []
    },
    {
      "cell_type": "code",
      "metadata": {
        "colab": {
          "base_uri": "https://localhost:8080/"
        },
        "id": "2DAaeS933zMI",
        "outputId": "bf237a36-7326-46d4-9084-bd98ff7cfef8"
      },
      "source": [
        "count"
      ],
      "execution_count": 8,
      "outputs": [
        {
          "output_type": "execute_result",
          "data": {
            "text/plain": [
              "3"
            ]
          },
          "metadata": {},
          "execution_count": 8
        }
      ]
    },
    {
      "cell_type": "code",
      "metadata": {
        "id": "-7Wqjf1R30H1"
      },
      "source": [
        ""
      ],
      "execution_count": null,
      "outputs": []
    }
  ]
}