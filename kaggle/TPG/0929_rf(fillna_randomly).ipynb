{
  "nbformat": 4,
  "nbformat_minor": 0,
  "metadata": {
    "kernelspec": {
      "language": "python",
      "display_name": "Python 3",
      "name": "python3"
    },
    "language_info": {
      "name": "python",
      "version": "3.7.10",
      "mimetype": "text/x-python",
      "codemirror_mode": {
        "name": "ipython",
        "version": 3
      },
      "pygments_lexer": "ipython3",
      "nbconvert_exporter": "python",
      "file_extension": ".py"
    },
    "colab": {
      "name": "0929-rf(fillna randomly).ipynb",
      "provenance": [],
      "collapsed_sections": [],
      "machine_shape": "hm",
      "include_colab_link": true
    }
  },
  "cells": [
    {
      "cell_type": "markdown",
      "metadata": {
        "id": "view-in-github",
        "colab_type": "text"
      },
      "source": [
        "<a href=\"https://colab.research.google.com/github/johanjun/Google_Machine_Learning_Bootcamp_KR_2021/blob/main/kaggle/TPG/0929_rf(fillna_randomly).ipynb\" target=\"_parent\"><img src=\"https://colab.research.google.com/assets/colab-badge.svg\" alt=\"Open In Colab\"/></a>"
      ]
    },
    {
      "cell_type": "code",
      "metadata": {
        "_uuid": "8f2839f25d086af736a60e9eeb907d3b93b6e0e5",
        "_cell_guid": "b1076dfc-b9ad-4769-8c92-a6c4dae69d19",
        "execution": {
          "iopub.status.busy": "2021-09-28T05:34:39.485260Z",
          "iopub.execute_input": "2021-09-28T05:34:39.485574Z",
          "iopub.status.idle": "2021-09-28T05:34:41.307081Z",
          "shell.execute_reply.started": "2021-09-28T05:34:39.485542Z",
          "shell.execute_reply": "2021-09-28T05:34:41.306083Z"
        },
        "trusted": true,
        "id": "4cL_a4shmGlk"
      },
      "source": [
        "import numpy as np \n",
        "import pandas as pd\n",
        "import random\n",
        "import gc\n",
        "from sklearn.impute import SimpleImputer\n",
        "from sklearn.preprocessing import MinMaxScaler, StandardScaler, RobustScaler\n",
        "from sklearn.model_selection import StratifiedKFold\n",
        "from sklearn.metrics import roc_auc_score\n",
        "from skimage.filters import threshold_otsu\n",
        "from tqdm import tqdm\n",
        "\n",
        "from sklearn.metrics import roc_auc_score\n",
        "\n",
        "# Model selection\n",
        "from sklearn.model_selection import train_test_split,cross_validate\n",
        "from sklearn.model_selection import KFold\n",
        "from sklearn.model_selection import GridSearchCV\n",
        "\n",
        "from sklearn.ensemble import RandomForestClassifier"
      ],
      "execution_count": 1,
      "outputs": []
    },
    {
      "cell_type": "code",
      "metadata": {
        "id": "T6wlIOeBoDaT"
      },
      "source": [
        "data_dir = '/content/drive/MyDrive/Google_Machine_Learning_Bootcamp_KR_2021/TPG/data/'"
      ],
      "execution_count": 2,
      "outputs": []
    },
    {
      "cell_type": "code",
      "metadata": {
        "execution": {
          "iopub.status.busy": "2021-09-28T07:03:46.440554Z",
          "iopub.execute_input": "2021-09-28T07:03:46.440825Z",
          "iopub.status.idle": "2021-09-28T07:04:22.222432Z",
          "shell.execute_reply.started": "2021-09-28T07:03:46.440799Z",
          "shell.execute_reply": "2021-09-28T07:04:22.221749Z"
        },
        "trusted": true,
        "id": "gIBrSLuimGlo"
      },
      "source": [
        "train = pd.read_csv(data_dir+\"train.csv\", index_col='id')\n",
        "test = pd.read_csv(data_dir+\"test.csv\", index_col='id')"
      ],
      "execution_count": 14,
      "outputs": []
    },
    {
      "cell_type": "code",
      "metadata": {
        "execution": {
          "iopub.status.busy": "2021-09-28T05:35:26.635451Z",
          "iopub.execute_input": "2021-09-28T05:35:26.636237Z",
          "iopub.status.idle": "2021-09-28T05:35:26.644010Z",
          "shell.execute_reply.started": "2021-09-28T05:35:26.636191Z",
          "shell.execute_reply": "2021-09-28T05:35:26.643049Z"
        },
        "trusted": true,
        "colab": {
          "base_uri": "https://localhost:8080/"
        },
        "id": "yEglVNm4mGlp",
        "outputId": "68683fc0-0ea1-4e07-8f18-38650954444b"
      },
      "source": [
        "train.shape, test.shape"
      ],
      "execution_count": 15,
      "outputs": [
        {
          "output_type": "execute_result",
          "data": {
            "text/plain": [
              "((957919, 119), (493474, 118))"
            ]
          },
          "metadata": {},
          "execution_count": 15
        }
      ]
    },
    {
      "cell_type": "code",
      "metadata": {
        "execution": {
          "iopub.status.busy": "2021-09-28T07:04:38.041443Z",
          "iopub.execute_input": "2021-09-28T07:04:38.041895Z",
          "iopub.status.idle": "2021-09-28T07:04:38.045939Z",
          "shell.execute_reply.started": "2021-09-28T07:04:38.041855Z",
          "shell.execute_reply": "2021-09-28T07:04:38.045269Z"
        },
        "trusted": true,
        "id": "IixCNwJWmGlp"
      },
      "source": [
        "features = [x for x in train.columns.values if x[0]==\"f\"]"
      ],
      "execution_count": 16,
      "outputs": []
    },
    {
      "cell_type": "code",
      "metadata": {
        "execution": {
          "iopub.status.busy": "2021-09-28T07:04:41.893256Z",
          "iopub.execute_input": "2021-09-28T07:04:41.893724Z",
          "iopub.status.idle": "2021-09-28T07:04:57.895438Z",
          "shell.execute_reply.started": "2021-09-28T07:04:41.893679Z",
          "shell.execute_reply": "2021-09-28T07:04:57.894811Z"
        },
        "trusted": true,
        "id": "XHjSFzQ0mGlq"
      },
      "source": [
        "train['n_missing'] = train[features].isna().sum(axis=1)\n",
        "train['abs_sum'] = train[features].abs().sum(axis=1)\n",
        "train['sem'] = train[features].sem(axis=1)\n",
        "train['std'] = train[features].std(axis=1)\n",
        "train['avg'] = train[features].mean(axis=1)\n",
        "train['max'] = train[features].max(axis=1)\n",
        "train['min'] = train[features].min(axis=1)\n",
        "\n",
        "test['n_missing'] = test[features].isna().sum(axis=1)\n",
        "test['abs_sum'] = test[features].abs().sum(axis=1)\n",
        "test['sem'] = test[features].sem(axis=1)\n",
        "test['std'] = test[features].std(axis=1)\n",
        "test['avg'] = test[features].mean(axis=1)\n",
        "test['max'] = test[features].max(axis=1)\n",
        "test['min'] = test[features].min(axis=1)"
      ],
      "execution_count": 17,
      "outputs": []
    },
    {
      "cell_type": "code",
      "metadata": {
        "id": "Z0xTARS8btf6"
      },
      "source": [
        "li = ['Mean', 'Median', 'Mode']"
      ],
      "execution_count": 18,
      "outputs": []
    },
    {
      "cell_type": "code",
      "metadata": {
        "id": "dT5U9hh4cdrs"
      },
      "source": [
        "result = {}"
      ],
      "execution_count": 19,
      "outputs": []
    },
    {
      "cell_type": "code",
      "metadata": {
        "execution": {
          "iopub.status.busy": "2021-09-28T05:36:03.780421Z",
          "iopub.execute_input": "2021-09-28T05:36:03.780948Z",
          "iopub.status.idle": "2021-09-28T05:36:06.392271Z",
          "shell.execute_reply.started": "2021-09-28T05:36:03.780915Z",
          "shell.execute_reply": "2021-09-28T05:36:06.390654Z"
        },
        "trusted": true,
        "id": "v_83_DJwmGlr"
      },
      "source": [
        "for i in range(10):\n",
        "  fill_value_dict = {\n",
        "    'f1': random.choice(li), \n",
        "    'f2': random.choice(li), \n",
        "    'f3': random.choice(li), \n",
        "    'f4': random.choice(li), \n",
        "    'f5': random.choice(li), \n",
        "    'f6': random.choice(li), \n",
        "    'f7': random.choice(li), \n",
        "    'f8': random.choice(li), \n",
        "    'f9': random.choice(li), \n",
        "    'f10': random.choice(li), \n",
        "    'f11': random.choice(li), \n",
        "    'f12': random.choice(li), \n",
        "    'f13': random.choice(li), \n",
        "    'f14': random.choice(li), \n",
        "    'f15': random.choice(li), \n",
        "    'f16': random.choice(li), \n",
        "    'f17': random.choice(li), \n",
        "    'f18': random.choice(li), \n",
        "    'f19': random.choice(li), \n",
        "    'f20': random.choice(li), \n",
        "    'f21': random.choice(li), \n",
        "    'f22': random.choice(li), \n",
        "    'f23': random.choice(li), \n",
        "    'f24': random.choice(li), \n",
        "    'f25': random.choice(li), \n",
        "    'f26': random.choice(li), \n",
        "    'f27': random.choice(li), \n",
        "    'f28': random.choice(li), \n",
        "    'f29': random.choice(li), \n",
        "    'f30': random.choice(li), \n",
        "    'f31': random.choice(li), \n",
        "    'f32': random.choice(li), \n",
        "    'f33': random.choice(li), \n",
        "    'f34': random.choice(li), \n",
        "    'f35': random.choice(li), \n",
        "    'f36': random.choice(li), \n",
        "    'f37': random.choice(li), \n",
        "    'f38': random.choice(li), \n",
        "    'f39': random.choice(li), \n",
        "    'f40': random.choice(li), \n",
        "    'f41': random.choice(li), \n",
        "    'f42': random.choice(li), \n",
        "    'f43': random.choice(li), \n",
        "    'f44': random.choice(li), \n",
        "    'f45': random.choice(li), \n",
        "    'f46': random.choice(li), \n",
        "    'f47': random.choice(li), \n",
        "    'f48': random.choice(li), \n",
        "    'f49': random.choice(li), \n",
        "    'f50': random.choice(li), \n",
        "    'f51': random.choice(li), \n",
        "    'f52': random.choice(li), \n",
        "    'f53': random.choice(li), \n",
        "    'f54': random.choice(li), \n",
        "    'f55': random.choice(li), \n",
        "    'f56': random.choice(li), \n",
        "    'f57': random.choice(li), \n",
        "    'f58': random.choice(li), \n",
        "    'f59': random.choice(li), \n",
        "    'f60': random.choice(li), \n",
        "    'f61': random.choice(li), \n",
        "    'f62': random.choice(li), \n",
        "    'f63': random.choice(li), \n",
        "    'f64': random.choice(li), \n",
        "    'f65': random.choice(li), \n",
        "    'f66': random.choice(li), \n",
        "    'f67': random.choice(li), \n",
        "    'f68': random.choice(li), \n",
        "    'f69': random.choice(li), \n",
        "    'f70': random.choice(li), \n",
        "    'f71': random.choice(li), \n",
        "    'f72': random.choice(li), \n",
        "    'f73': random.choice(li), \n",
        "    'f74': random.choice(li), \n",
        "    'f75': random.choice(li), \n",
        "    'f76': random.choice(li), \n",
        "    'f77': random.choice(li), \n",
        "    'f78': random.choice(li), \n",
        "    'f79': random.choice(li), \n",
        "    'f80': random.choice(li), \n",
        "    'f81': random.choice(li), \n",
        "    'f82': random.choice(li), \n",
        "    'f83': random.choice(li), \n",
        "    'f84': random.choice(li), \n",
        "    'f85': random.choice(li), \n",
        "    'f86': random.choice(li), \n",
        "    'f87': random.choice(li), \n",
        "    'f88': random.choice(li), \n",
        "    'f89': random.choice(li), \n",
        "    'f90': random.choice(li), \n",
        "    'f91': random.choice(li), \n",
        "    'f92': random.choice(li), \n",
        "    'f93': random.choice(li), \n",
        "    'f94': random.choice(li), \n",
        "    'f95': random.choice(li), \n",
        "    'f96': random.choice(li), \n",
        "    'f97': random.choice(li), \n",
        "    'f98': random.choice(li), \n",
        "    'f99': random.choice(li), \n",
        "    'f100': random.choice(li), \n",
        "    'f101': random.choice(li), \n",
        "    'f102': random.choice(li), \n",
        "    'f103': random.choice(li), \n",
        "    'f104': random.choice(li), \n",
        "    'f105': random.choice(li), \n",
        "    'f106': random.choice(li), \n",
        "    'f107': random.choice(li), \n",
        "    'f108': random.choice(li), \n",
        "    'f109': random.choice(li), \n",
        "    'f110': random.choice(li), \n",
        "    'f111': random.choice(li), \n",
        "    'f112': random.choice(li), \n",
        "    'f113': random.choice(li), \n",
        "    'f114': random.choice(li), \n",
        "    'f115': random.choice(li), \n",
        "    'f116': random.choice(li), \n",
        "    'f117': random.choice(li), \n",
        "    'f118': random.choice(li)}\n",
        "  result['fill_value_dict'+str(i)] = fill_value_dict"
      ],
      "execution_count": 20,
      "outputs": []
    },
    {
      "cell_type": "code",
      "metadata": {
        "colab": {
          "base_uri": "https://localhost:8080/"
        },
        "id": "AA0xIW3Rd5L5",
        "outputId": "49bd65a6-5712-4e53-998f-01fc632c54dc"
      },
      "source": [
        "for r in result:\n",
        "  print(r)"
      ],
      "execution_count": 21,
      "outputs": [
        {
          "output_type": "stream",
          "name": "stdout",
          "text": [
            "fill_value_dict0\n",
            "fill_value_dict1\n",
            "fill_value_dict2\n",
            "fill_value_dict3\n",
            "fill_value_dict4\n",
            "fill_value_dict5\n",
            "fill_value_dict6\n",
            "fill_value_dict7\n",
            "fill_value_dict8\n",
            "fill_value_dict9\n"
          ]
        }
      ]
    },
    {
      "cell_type": "code",
      "metadata": {
        "colab": {
          "base_uri": "https://localhost:8080/"
        },
        "id": "vatAwkcec5aM",
        "outputId": "386848a8-b255-4ebb-a393-97508cecd0a1"
      },
      "source": [
        "for r in tqdm(result):\n",
        "  print(r, 'start')\n",
        "  for col in tqdm(features):\n",
        "      if result[r].get(col)=='Mean':\n",
        "          fill_value = train[col].mean()\n",
        "      elif result[r].get(col)=='Median':\n",
        "          fill_value = train[col].median()\n",
        "      elif result[r].get(col)=='Mode':\n",
        "          fill_value = train[col].mode().iloc[0]\n",
        "      \n",
        "      train[col].fillna(fill_value, inplace=True)\n",
        "      test[col].fillna(fill_value, inplace=True)\n",
        "\n",
        "  X = train.drop([\"claim\"], axis=1)\n",
        "  X_test = test\n",
        "  y = train[\"claim\"]\n",
        "\n",
        "  scaler = RobustScaler()\n",
        "  X = scaler.fit_transform(X)\n",
        "  X_test = scaler.transform(X_test)\n",
        "\n",
        "\n",
        "  X, X_valid, y, y_valid = train_test_split(X, y, test_size=0.05, random_state=1990)\n",
        "\n",
        "  rf = RandomForestClassifier(n_estimators=5, random_state=1990).fit(X, y)\n",
        "\n",
        "  pred = rf.predict(X_valid)\n",
        "\n",
        "  print(r, roc_auc_score(y_valid, pred))"
      ],
      "execution_count": 22,
      "outputs": [
        {
          "output_type": "stream",
          "name": "stderr",
          "text": [
            "\r  0%|          | 0/10 [00:00<?, ?it/s]"
          ]
        },
        {
          "output_type": "stream",
          "name": "stdout",
          "text": [
            "fill_value_dict0 start\n"
          ]
        },
        {
          "output_type": "stream",
          "name": "stderr",
          "text": [
            "\n",
            "  0%|          | 0/118 [00:00<?, ?it/s]\u001b[A\n",
            "  6%|▌         | 7/118 [00:00<00:01, 62.14it/s]\u001b[A\n",
            " 12%|█▏        | 14/118 [00:00<00:02, 40.66it/s]\u001b[A\n",
            " 16%|█▌        | 19/118 [00:00<00:02, 35.84it/s]\u001b[A\n",
            " 22%|██▏       | 26/118 [00:00<00:02, 43.43it/s]\u001b[A\n",
            " 28%|██▊       | 33/118 [00:00<00:01, 47.84it/s]\u001b[A\n",
            " 33%|███▎      | 39/118 [00:00<00:01, 41.29it/s]\u001b[A\n",
            " 40%|███▉      | 47/118 [00:01<00:01, 50.12it/s]\u001b[A\n",
            " 45%|████▍     | 53/118 [00:01<00:01, 43.93it/s]\u001b[A\n",
            " 50%|█████     | 59/118 [00:01<00:01, 47.62it/s]\u001b[A\n",
            " 55%|█████▌    | 65/118 [00:01<00:01, 48.21it/s]\u001b[A\n",
            " 63%|██████▎   | 74/118 [00:01<00:00, 53.56it/s]\u001b[A\n",
            " 68%|██████▊   | 80/118 [00:01<00:00, 49.29it/s]\u001b[A\n",
            " 73%|███████▎  | 86/118 [00:01<00:00, 47.64it/s]\u001b[A\n",
            " 81%|████████▏ | 96/118 [00:01<00:00, 54.59it/s]\u001b[A\n",
            " 86%|████████▋ | 102/118 [00:02<00:00, 48.08it/s]\u001b[A\n",
            " 91%|█████████ | 107/118 [00:02<00:00, 47.78it/s]\u001b[A\n",
            "100%|██████████| 118/118 [00:02<00:00, 48.74it/s]\n",
            " 10%|█         | 1/10 [02:46<24:54, 166.09s/it]"
          ]
        },
        {
          "output_type": "stream",
          "name": "stdout",
          "text": [
            "fill_value_dict0 0.7011223906167923\n",
            "fill_value_dict1 start\n"
          ]
        },
        {
          "output_type": "stream",
          "name": "stderr",
          "text": [
            "\n",
            "  0%|          | 0/118 [00:00<?, ?it/s]\u001b[A\n",
            "  3%|▎         | 4/118 [00:00<00:03, 33.47it/s]\u001b[A\n",
            "  8%|▊         | 10/118 [00:00<00:02, 46.39it/s]\u001b[A\n",
            " 13%|█▎        | 15/118 [00:00<00:02, 40.21it/s]\u001b[A\n",
            " 17%|█▋        | 20/118 [00:00<00:02, 40.93it/s]\u001b[A\n",
            " 22%|██▏       | 26/118 [00:00<00:02, 41.39it/s]\u001b[A\n",
            " 26%|██▋       | 31/118 [00:00<00:02, 32.75it/s]\u001b[A\n",
            " 30%|██▉       | 35/118 [00:00<00:02, 32.17it/s]\u001b[A\n",
            " 33%|███▎      | 39/118 [00:01<00:02, 33.27it/s]\u001b[A\n",
            " 37%|███▋      | 44/118 [00:01<00:02, 36.83it/s]\u001b[A\n",
            " 44%|████▍     | 52/118 [00:01<00:01, 46.17it/s]\u001b[A\n",
            " 49%|████▉     | 58/118 [00:01<00:01, 46.28it/s]\u001b[A\n",
            " 57%|█████▋    | 67/118 [00:01<00:00, 56.74it/s]\u001b[A\n",
            " 62%|██████▏   | 73/118 [00:01<00:00, 55.40it/s]\u001b[A\n",
            " 68%|██████▊   | 80/118 [00:01<00:00, 58.77it/s]\u001b[A\n",
            " 74%|███████▎  | 87/118 [00:01<00:00, 56.70it/s]\u001b[A\n",
            " 80%|███████▉  | 94/118 [00:02<00:00, 55.01it/s]\u001b[A\n",
            " 85%|████████▍ | 100/118 [00:02<00:00, 54.71it/s]\u001b[A\n",
            " 92%|█████████▏| 108/118 [00:02<00:00, 55.85it/s]\u001b[A\n",
            "100%|██████████| 118/118 [00:02<00:00, 46.34it/s]\n",
            " 20%|██        | 2/10 [05:35<22:24, 168.02s/it]"
          ]
        },
        {
          "output_type": "stream",
          "name": "stdout",
          "text": [
            "fill_value_dict1 0.7011223906167923\n",
            "fill_value_dict2 start\n"
          ]
        },
        {
          "output_type": "stream",
          "name": "stderr",
          "text": [
            "\n",
            "  0%|          | 0/118 [00:00<?, ?it/s]\u001b[A\n",
            "  4%|▍         | 5/118 [00:00<00:02, 45.98it/s]\u001b[A\n",
            "  8%|▊         | 10/118 [00:00<00:02, 36.84it/s]\u001b[A\n",
            " 16%|█▌        | 19/118 [00:00<00:01, 55.04it/s]\u001b[A\n",
            " 22%|██▏       | 26/118 [00:00<00:01, 59.31it/s]\u001b[A\n",
            " 28%|██▊       | 33/118 [00:00<00:01, 47.07it/s]\u001b[A\n",
            " 33%|███▎      | 39/118 [00:00<00:01, 48.09it/s]\u001b[A\n",
            " 39%|███▉      | 46/118 [00:00<00:01, 52.86it/s]\u001b[A\n",
            " 45%|████▍     | 53/118 [00:01<00:01, 51.19it/s]\u001b[A\n",
            " 50%|█████     | 59/118 [00:01<00:01, 51.39it/s]\u001b[A\n",
            " 56%|█████▌    | 66/118 [00:01<00:00, 53.59it/s]\u001b[A\n",
            " 62%|██████▏   | 73/118 [00:01<00:00, 55.62it/s]\u001b[A\n",
            " 67%|██████▋   | 79/118 [00:01<00:00, 46.50it/s]\u001b[A\n",
            " 71%|███████   | 84/118 [00:01<00:00, 42.81it/s]\u001b[A\n",
            " 75%|███████▌  | 89/118 [00:01<00:00, 42.44it/s]\u001b[A\n",
            " 83%|████████▎ | 98/118 [00:01<00:00, 50.94it/s]\u001b[A\n",
            " 88%|████████▊ | 104/118 [00:02<00:00, 51.95it/s]\u001b[A\n",
            " 94%|█████████▍| 111/118 [00:02<00:00, 54.50it/s]\u001b[A\n",
            "100%|██████████| 118/118 [00:02<00:00, 49.60it/s]\n",
            " 30%|███       | 3/10 [08:20<19:27, 166.82s/it]"
          ]
        },
        {
          "output_type": "stream",
          "name": "stdout",
          "text": [
            "fill_value_dict2 0.7011223906167923\n",
            "fill_value_dict3 start\n"
          ]
        },
        {
          "output_type": "stream",
          "name": "stderr",
          "text": [
            "\n",
            "  0%|          | 0/118 [00:00<?, ?it/s]\u001b[A\n",
            "  3%|▎         | 4/118 [00:00<00:03, 36.25it/s]\u001b[A\n",
            "  8%|▊         | 10/118 [00:00<00:02, 39.77it/s]\u001b[A\n",
            " 13%|█▎        | 15/118 [00:00<00:02, 37.84it/s]\u001b[A\n",
            " 19%|█▊        | 22/118 [00:00<00:02, 47.49it/s]\u001b[A\n",
            " 23%|██▎       | 27/118 [00:00<00:02, 40.41it/s]\u001b[A\n",
            " 27%|██▋       | 32/118 [00:00<00:02, 40.86it/s]\u001b[A\n",
            " 31%|███▏      | 37/118 [00:00<00:01, 40.82it/s]\u001b[A\n",
            " 36%|███▌      | 42/118 [00:01<00:01, 40.16it/s]\u001b[A\n",
            " 42%|████▏     | 49/118 [00:01<00:01, 47.76it/s]\u001b[A\n",
            " 47%|████▋     | 56/118 [00:01<00:01, 52.46it/s]\u001b[A\n",
            " 53%|█████▎    | 62/118 [00:01<00:01, 51.20it/s]\u001b[A\n",
            " 62%|██████▏   | 73/118 [00:01<00:00, 63.26it/s]\u001b[A\n",
            " 68%|██████▊   | 80/118 [00:01<00:00, 63.74it/s]\u001b[A\n",
            " 74%|███████▎  | 87/118 [00:01<00:00, 60.30it/s]\u001b[A\n",
            " 82%|████████▏ | 97/118 [00:01<00:00, 69.10it/s]\u001b[A\n",
            " 89%|████████▉ | 105/118 [00:02<00:00, 52.96it/s]\u001b[A\n",
            "100%|██████████| 118/118 [00:02<00:00, 50.60it/s]\n",
            " 40%|████      | 4/10 [11:06<16:38, 166.46s/it]"
          ]
        },
        {
          "output_type": "stream",
          "name": "stdout",
          "text": [
            "fill_value_dict3 0.7011223906167923\n",
            "fill_value_dict4 start\n"
          ]
        },
        {
          "output_type": "stream",
          "name": "stderr",
          "text": [
            "\n",
            "  0%|          | 0/118 [00:00<?, ?it/s]\u001b[A\n",
            "  5%|▌         | 6/118 [00:00<00:02, 47.20it/s]\u001b[A\n",
            " 10%|█         | 12/118 [00:00<00:01, 53.24it/s]\u001b[A\n",
            " 15%|█▌        | 18/118 [00:00<00:02, 42.85it/s]\u001b[A\n",
            " 21%|██        | 25/118 [00:00<00:01, 46.71it/s]\u001b[A\n",
            " 25%|██▌       | 30/118 [00:00<00:01, 46.67it/s]\u001b[A\n",
            " 30%|██▉       | 35/118 [00:00<00:01, 42.99it/s]\u001b[A\n",
            " 34%|███▍      | 40/118 [00:00<00:02, 37.99it/s]\u001b[A\n",
            " 42%|████▏     | 49/118 [00:01<00:01, 46.97it/s]\u001b[A\n",
            " 49%|████▉     | 58/118 [00:01<00:01, 55.11it/s]\u001b[A\n",
            " 55%|█████▌    | 65/118 [00:01<00:00, 58.04it/s]\u001b[A\n",
            " 60%|██████    | 71/118 [00:01<00:00, 57.41it/s]\u001b[A\n",
            " 65%|██████▌   | 77/118 [00:01<00:00, 50.30it/s]\u001b[A\n",
            " 71%|███████   | 84/118 [00:01<00:00, 54.90it/s]\u001b[A\n",
            " 76%|███████▋  | 90/118 [00:01<00:00, 47.94it/s]\u001b[A\n",
            " 81%|████████▏ | 96/118 [00:01<00:00, 49.28it/s]\u001b[A\n",
            " 86%|████████▋ | 102/118 [00:02<00:00, 50.20it/s]\u001b[A\n",
            " 92%|█████████▏| 109/118 [00:02<00:00, 52.21it/s]\u001b[A\n",
            "100%|██████████| 118/118 [00:02<00:00, 49.32it/s]\n",
            " 50%|█████     | 5/10 [13:53<13:52, 166.43s/it]"
          ]
        },
        {
          "output_type": "stream",
          "name": "stdout",
          "text": [
            "fill_value_dict4 0.7011223906167923\n",
            "fill_value_dict5 start\n"
          ]
        },
        {
          "output_type": "stream",
          "name": "stderr",
          "text": [
            "\n",
            "  0%|          | 0/118 [00:00<?, ?it/s]\u001b[A\n",
            "  6%|▌         | 7/118 [00:00<00:01, 65.42it/s]\u001b[A\n",
            " 14%|█▎        | 16/118 [00:00<00:01, 74.50it/s]\u001b[A\n",
            " 20%|██        | 24/118 [00:00<00:01, 55.95it/s]\u001b[A\n",
            " 26%|██▋       | 31/118 [00:00<00:01, 52.99it/s]\u001b[A\n",
            " 31%|███▏      | 37/118 [00:00<00:01, 52.63it/s]\u001b[A\n",
            " 36%|███▋      | 43/118 [00:00<00:01, 51.96it/s]\u001b[A\n",
            " 42%|████▏     | 49/118 [00:00<00:01, 54.09it/s]\u001b[A\n",
            " 47%|████▋     | 55/118 [00:01<00:01, 52.63it/s]\u001b[A\n",
            " 52%|█████▏    | 61/118 [00:01<00:01, 47.22it/s]\u001b[A\n",
            " 56%|█████▌    | 66/118 [00:01<00:01, 47.73it/s]\u001b[A\n",
            " 60%|██████    | 71/118 [00:01<00:01, 41.71it/s]\u001b[A\n",
            " 64%|██████▍   | 76/118 [00:01<00:00, 43.01it/s]\u001b[A\n",
            " 69%|██████▊   | 81/118 [00:01<00:00, 44.18it/s]\u001b[A\n",
            " 73%|███████▎  | 86/118 [00:01<00:00, 44.73it/s]\u001b[A\n",
            " 77%|███████▋  | 91/118 [00:01<00:00, 41.53it/s]\u001b[A\n",
            " 81%|████████▏ | 96/118 [00:02<00:00, 39.35it/s]\u001b[A\n",
            " 86%|████████▌ | 101/118 [00:02<00:00, 34.59it/s]\u001b[A\n",
            " 93%|█████████▎| 110/118 [00:02<00:00, 43.13it/s]\u001b[A\n",
            "100%|██████████| 118/118 [00:02<00:00, 46.72it/s]\n",
            " 60%|██████    | 6/10 [16:47<11:16, 169.25s/it]"
          ]
        },
        {
          "output_type": "stream",
          "name": "stdout",
          "text": [
            "fill_value_dict5 0.7011223906167923\n",
            "fill_value_dict6 start\n"
          ]
        },
        {
          "output_type": "stream",
          "name": "stderr",
          "text": [
            "\n",
            "  0%|          | 0/118 [00:00<?, ?it/s]\u001b[A\n",
            "  3%|▎         | 4/118 [00:00<00:02, 38.54it/s]\u001b[A\n",
            "  8%|▊         | 9/118 [00:00<00:02, 38.89it/s]\u001b[A\n",
            " 14%|█▎        | 16/118 [00:00<00:01, 51.76it/s]\u001b[A\n",
            " 19%|█▊        | 22/118 [00:00<00:01, 53.02it/s]\u001b[A\n",
            " 24%|██▎       | 28/118 [00:00<00:02, 43.21it/s]\u001b[A\n",
            " 31%|███       | 36/118 [00:00<00:01, 46.62it/s]\u001b[A\n",
            " 35%|███▍      | 41/118 [00:00<00:01, 45.42it/s]\u001b[A\n",
            " 39%|███▉      | 46/118 [00:01<00:01, 43.72it/s]\u001b[A\n",
            " 43%|████▎     | 51/118 [00:01<00:01, 43.78it/s]\u001b[A\n",
            " 52%|█████▏    | 61/118 [00:01<00:00, 57.32it/s]\u001b[A\n",
            " 59%|█████▉    | 70/118 [00:01<00:00, 65.61it/s]\u001b[A\n",
            " 65%|██████▌   | 77/118 [00:01<00:00, 53.84it/s]\u001b[A\n",
            " 72%|███████▏  | 85/118 [00:01<00:00, 54.78it/s]\u001b[A\n",
            " 77%|███████▋  | 91/118 [00:01<00:00, 51.63it/s]\u001b[A\n",
            " 82%|████████▏ | 97/118 [00:01<00:00, 52.42it/s]\u001b[A\n",
            " 87%|████████▋ | 103/118 [00:02<00:00, 45.39it/s]\u001b[A\n",
            " 92%|█████████▏| 108/118 [00:02<00:00, 43.56it/s]\u001b[A\n",
            "100%|██████████| 118/118 [00:02<00:00, 49.10it/s]\n",
            " 70%|███████   | 7/10 [19:37<08:28, 169.35s/it]"
          ]
        },
        {
          "output_type": "stream",
          "name": "stdout",
          "text": [
            "fill_value_dict6 0.7011223906167923\n",
            "fill_value_dict7 start\n"
          ]
        },
        {
          "output_type": "stream",
          "name": "stderr",
          "text": [
            "\n",
            "  0%|          | 0/118 [00:00<?, ?it/s]\u001b[A\n",
            "  5%|▌         | 6/118 [00:00<00:01, 57.80it/s]\u001b[A\n",
            " 10%|█         | 12/118 [00:00<00:02, 44.57it/s]\u001b[A\n",
            " 15%|█▌        | 18/118 [00:00<00:02, 49.51it/s]\u001b[A\n",
            " 22%|██▏       | 26/118 [00:00<00:01, 58.12it/s]\u001b[A\n",
            " 27%|██▋       | 32/118 [00:00<00:01, 55.11it/s]\u001b[A\n",
            " 32%|███▏      | 38/118 [00:00<00:01, 44.50it/s]\u001b[A\n",
            " 36%|███▋      | 43/118 [00:00<00:01, 45.30it/s]\u001b[A\n",
            " 43%|████▎     | 51/118 [00:00<00:01, 53.32it/s]\u001b[A\n",
            " 48%|████▊     | 57/118 [00:01<00:01, 49.88it/s]\u001b[A\n",
            " 53%|█████▎    | 63/118 [00:01<00:01, 51.96it/s]\u001b[A\n",
            " 58%|█████▊    | 69/118 [00:01<00:01, 48.20it/s]\u001b[A\n",
            " 64%|██████▍   | 76/118 [00:01<00:00, 50.91it/s]\u001b[A\n",
            " 69%|██████▉   | 82/118 [00:01<00:00, 48.75it/s]\u001b[A\n",
            " 74%|███████▎  | 87/118 [00:01<00:00, 48.46it/s]\u001b[A\n",
            " 79%|███████▉  | 93/118 [00:01<00:00, 48.88it/s]\u001b[A\n",
            " 83%|████████▎ | 98/118 [00:02<00:00, 45.58it/s]\u001b[A\n",
            " 88%|████████▊ | 104/118 [00:02<00:00, 44.33it/s]\u001b[A\n",
            " 92%|█████████▏| 109/118 [00:02<00:00, 42.96it/s]\u001b[A\n",
            "100%|██████████| 118/118 [00:02<00:00, 48.21it/s]\n",
            " 80%|████████  | 8/10 [22:21<05:35, 167.76s/it]"
          ]
        },
        {
          "output_type": "stream",
          "name": "stdout",
          "text": [
            "fill_value_dict7 0.7011223906167923\n",
            "fill_value_dict8 start\n"
          ]
        },
        {
          "output_type": "stream",
          "name": "stderr",
          "text": [
            "\n",
            "  0%|          | 0/118 [00:00<?, ?it/s]\u001b[A\n",
            "  4%|▍         | 5/118 [00:00<00:02, 41.90it/s]\u001b[A\n",
            "  8%|▊         | 10/118 [00:00<00:02, 36.39it/s]\u001b[A\n",
            " 13%|█▎        | 15/118 [00:00<00:02, 41.34it/s]\u001b[A\n",
            " 17%|█▋        | 20/118 [00:00<00:02, 39.74it/s]\u001b[A\n",
            " 26%|██▋       | 31/118 [00:00<00:01, 58.92it/s]\u001b[A\n",
            " 32%|███▏      | 38/118 [00:00<00:01, 52.98it/s]\u001b[A\n",
            " 40%|███▉      | 47/118 [00:00<00:01, 62.11it/s]\u001b[A\n",
            " 46%|████▌     | 54/118 [00:01<00:01, 58.40it/s]\u001b[A\n",
            " 52%|█████▏    | 61/118 [00:01<00:01, 56.14it/s]\u001b[A\n",
            " 57%|█████▋    | 67/118 [00:01<00:00, 56.62it/s]\u001b[A\n",
            " 62%|██████▏   | 73/118 [00:01<00:00, 53.05it/s]\u001b[A\n",
            " 67%|██████▋   | 79/118 [00:01<00:00, 51.08it/s]\u001b[A\n",
            " 72%|███████▏  | 85/118 [00:01<00:00, 40.25it/s]\u001b[A\n",
            " 76%|███████▋  | 90/118 [00:01<00:00, 41.61it/s]\u001b[A\n",
            " 81%|████████  | 95/118 [00:02<00:00, 35.99it/s]\u001b[A\n",
            " 86%|████████▌ | 101/118 [00:02<00:00, 41.02it/s]\u001b[A\n",
            " 91%|█████████ | 107/118 [00:02<00:00, 42.13it/s]\u001b[A\n",
            " 96%|█████████▌| 113/118 [00:02<00:00, 46.16it/s]\u001b[A\n",
            "100%|██████████| 118/118 [00:02<00:00, 46.45it/s]\n",
            " 90%|█████████ | 9/10 [25:01<02:45, 165.19s/it]"
          ]
        },
        {
          "output_type": "stream",
          "name": "stdout",
          "text": [
            "fill_value_dict8 0.7011223906167923\n",
            "fill_value_dict9 start\n"
          ]
        },
        {
          "output_type": "stream",
          "name": "stderr",
          "text": [
            "\n",
            "  0%|          | 0/118 [00:00<?, ?it/s]\u001b[A\n",
            "  4%|▍         | 5/118 [00:00<00:02, 41.48it/s]\u001b[A\n",
            "  8%|▊         | 10/118 [00:00<00:03, 34.52it/s]\u001b[A\n",
            " 12%|█▏        | 14/118 [00:00<00:03, 33.09it/s]\u001b[A\n",
            " 15%|█▌        | 18/118 [00:00<00:03, 30.48it/s]\u001b[A\n",
            " 20%|██        | 24/118 [00:00<00:02, 38.75it/s]\u001b[A\n",
            " 26%|██▋       | 31/118 [00:00<00:01, 46.16it/s]\u001b[A\n",
            " 33%|███▎      | 39/118 [00:00<00:01, 51.16it/s]\u001b[A\n",
            " 38%|███▊      | 45/118 [00:01<00:01, 45.81it/s]\u001b[A\n",
            " 42%|████▏     | 50/118 [00:01<00:01, 40.74it/s]\u001b[A\n",
            " 47%|████▋     | 56/118 [00:01<00:01, 45.11it/s]\u001b[A\n",
            " 54%|█████▍    | 64/118 [00:01<00:01, 52.45it/s]\u001b[A\n",
            " 59%|█████▉    | 70/118 [00:01<00:00, 52.25it/s]\u001b[A\n",
            " 64%|██████▍   | 76/118 [00:01<00:00, 42.23it/s]\u001b[A\n",
            " 69%|██████▊   | 81/118 [00:01<00:00, 39.58it/s]\u001b[A\n",
            " 74%|███████▎  | 87/118 [00:02<00:00, 40.64it/s]\u001b[A\n",
            " 78%|███████▊  | 92/118 [00:02<00:00, 38.77it/s]\u001b[A\n",
            " 84%|████████▍ | 99/118 [00:02<00:00, 44.94it/s]\u001b[A\n",
            " 89%|████████▉ | 105/118 [00:02<00:00, 48.27it/s]\u001b[A\n",
            " 94%|█████████▍| 111/118 [00:02<00:00, 47.66it/s]\u001b[A\n",
            "100%|██████████| 118/118 [00:02<00:00, 43.42it/s]\n",
            "100%|██████████| 10/10 [27:45<00:00, 166.52s/it]"
          ]
        },
        {
          "output_type": "stream",
          "name": "stdout",
          "text": [
            "fill_value_dict9 0.7011223906167923\n"
          ]
        },
        {
          "output_type": "stream",
          "name": "stderr",
          "text": [
            "\n"
          ]
        }
      ]
    },
    {
      "cell_type": "code",
      "metadata": {
        "execution": {
          "iopub.status.busy": "2021-09-28T07:15:08.176076Z",
          "iopub.execute_input": "2021-09-28T07:15:08.176375Z",
          "iopub.status.idle": "2021-09-28T07:15:55.532860Z",
          "shell.execute_reply.started": "2021-09-28T07:15:08.176345Z",
          "shell.execute_reply": "2021-09-28T07:15:55.531782Z"
        },
        "trusted": true,
        "id": "3YMekXTgmGlz"
      },
      "source": [
        "preds = rf.predict(X_test)"
      ],
      "execution_count": null,
      "outputs": []
    },
    {
      "cell_type": "code",
      "metadata": {
        "execution": {
          "iopub.status.busy": "2021-09-28T07:17:05.550831Z",
          "iopub.execute_input": "2021-09-28T07:17:05.551156Z",
          "iopub.status.idle": "2021-09-28T07:17:06.906626Z",
          "shell.execute_reply.started": "2021-09-28T07:17:05.551124Z",
          "shell.execute_reply": "2021-09-28T07:17:06.905944Z"
        },
        "trusted": true,
        "id": "f_wg4j7VmGlz"
      },
      "source": [
        "submission = pd.read_csv(data_dir+'sample_solution.csv', index_col='id')\n",
        "submission['claim'] = preds\n",
        "\n",
        "submission.to_csv('submission.csv')"
      ],
      "execution_count": null,
      "outputs": []
    },
    {
      "cell_type": "code",
      "metadata": {
        "id": "SY7wVL5dmGl0"
      },
      "source": [
        ""
      ],
      "execution_count": null,
      "outputs": []
    }
  ]
}