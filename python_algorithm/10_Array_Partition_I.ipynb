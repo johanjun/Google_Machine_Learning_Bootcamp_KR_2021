{
  "nbformat": 4,
  "nbformat_minor": 0,
  "metadata": {
    "colab": {
      "name": "10. Array Partition I.ipynb",
      "provenance": [],
      "authorship_tag": "ABX9TyMCWPByW+rm/vOArcI5Uk7B",
      "include_colab_link": true
    },
    "kernelspec": {
      "name": "python3",
      "display_name": "Python 3"
    },
    "language_info": {
      "name": "python"
    }
  },
  "cells": [
    {
      "cell_type": "markdown",
      "metadata": {
        "id": "view-in-github",
        "colab_type": "text"
      },
      "source": [
        "<a href=\"https://colab.research.google.com/github/johanjun/Google_Machine_Learning_Bootcamp_KR_2021/blob/main/python_algorithm/10_Array_Partition_I.ipynb\" target=\"_parent\"><img src=\"https://colab.research.google.com/assets/colab-badge.svg\" alt=\"Open In Colab\"/></a>"
      ]
    },
    {
      "cell_type": "markdown",
      "metadata": {
        "id": "aTrN5ZPtn5P7"
      },
      "source": [
        "Given an integer array nums of 2n integers, group these integers into n pairs (a1, b1), (a2, b2), ..., (an, bn) such that the sum of min(ai, bi) for all i is maximized. Return the maximized sum.\n",
        "\n",
        " \n",
        "```\n",
        "Example 1:\n",
        "\n",
        "Input: nums = [1,4,3,2]\n",
        "Output: 4\n",
        "Explanation: All possible pairings (ignoring the ordering of elements) are:\n",
        "1. (1, 4), (2, 3) -> min(1, 4) + min(2, 3) = 1 + 2 = 3\n",
        "2. (1, 3), (2, 4) -> min(1, 3) + min(2, 4) = 1 + 2 = 3\n",
        "3. (1, 2), (3, 4) -> min(1, 2) + min(3, 4) = 1 + 3 = 4\n",
        "So the maximum possible sum is 4.\n",
        "Example 2:\n",
        "\n",
        "Input: nums = [6,2,6,5,1,2]\n",
        "Output: 9\n",
        "Explanation: The optimal pairing is (2, 1), (2, 5), (6, 6). min(2, 1) + min(2, 5) + min(6, 6) = 1 + 2 + 6 = 9.\n",
        " ```\n",
        "```\n",
        "Constraints:\n",
        "\n",
        "1 <= n <= 104\n",
        "nums.length == 2 * n\n",
        "-104 <= nums[i] <= 104\n",
        "```"
      ]
    },
    {
      "cell_type": "code",
      "metadata": {
        "id": "jU7_W4dGoFz6"
      },
      "source": [
        "import itertools"
      ],
      "execution_count": 1,
      "outputs": []
    },
    {
      "cell_type": "code",
      "metadata": {
        "id": "xzsG0b9NoUl5"
      },
      "source": [
        "nums = [1,4,3,2]"
      ],
      "execution_count": 32,
      "outputs": []
    },
    {
      "cell_type": "code",
      "metadata": {
        "colab": {
          "base_uri": "https://localhost:8080/"
        },
        "id": "hr7X_S_MsH4X",
        "outputId": "06122d92-6d54-498f-b571-3b243b3d8f98"
      },
      "source": [
        "pairs = []\n",
        "sum = 0\n",
        "nums.sort()\n",
        "for i in nums:\n",
        "  print(i)\n",
        "  pairs.append(i)\n",
        "  if len(pairs) == 2:\n",
        "    print(pairs)\n",
        "    sum += min(pairs)\n",
        "    pairs = []"
      ],
      "execution_count": 39,
      "outputs": [
        {
          "output_type": "stream",
          "name": "stdout",
          "text": [
            "1\n",
            "2\n",
            "[1, 2]\n",
            "3\n",
            "4\n",
            "[3, 4]\n"
          ]
        }
      ]
    },
    {
      "cell_type": "code",
      "metadata": {
        "colab": {
          "base_uri": "https://localhost:8080/"
        },
        "id": "bDdeKz-Pp9Ku",
        "outputId": "c4eebf06-e780-4d6d-ebb5-80c26228baf9"
      },
      "source": [
        "sum"
      ],
      "execution_count": 36,
      "outputs": [
        {
          "output_type": "execute_result",
          "data": {
            "text/plain": [
              "4"
            ]
          },
          "metadata": {},
          "execution_count": 36
        }
      ]
    },
    {
      "cell_type": "code",
      "metadata": {
        "id": "NeoqQM9npbag"
      },
      "source": [
        ""
      ],
      "execution_count": null,
      "outputs": []
    }
  ]
}