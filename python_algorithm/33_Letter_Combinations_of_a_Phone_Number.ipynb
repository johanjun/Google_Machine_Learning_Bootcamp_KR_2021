{
  "nbformat": 4,
  "nbformat_minor": 0,
  "metadata": {
    "colab": {
      "name": "33. Letter Combinations of a Phone Number.ipynb",
      "provenance": [],
      "collapsed_sections": [],
      "authorship_tag": "ABX9TyPVteK6T4rCQ31VNqJPP77/",
      "include_colab_link": true
    },
    "kernelspec": {
      "name": "python3",
      "display_name": "Python 3"
    },
    "language_info": {
      "name": "python"
    }
  },
  "cells": [
    {
      "cell_type": "markdown",
      "metadata": {
        "id": "view-in-github",
        "colab_type": "text"
      },
      "source": [
        "<a href=\"https://colab.research.google.com/github/johanjun/Google_Machine_Learning_Bootcamp_KR_2021/blob/main/python_algorithm/33_Letter_Combinations_of_a_Phone_Number.ipynb\" target=\"_parent\"><img src=\"https://colab.research.google.com/assets/colab-badge.svg\" alt=\"Open In Colab\"/></a>"
      ]
    },
    {
      "cell_type": "markdown",
      "metadata": {
        "id": "dBC3V-tDW-FU"
      },
      "source": [
        "Given a string containing digits from 2-9 inclusive, return all possible letter combinations that the number could represent. Return the answer in any order.\n",
        "\n",
        "A mapping of digit to letters (just like on the telephone buttons) is given below. Note that 1 does not map to any letters.\n",
        "\n",
        "\n",
        "\n",
        " \n",
        "```\n",
        "Example 1:\n",
        "\n",
        "Input: digits = \"23\"\n",
        "Output: [\"ad\",\"ae\",\"af\",\"bd\",\"be\",\"bf\",\"cd\",\"ce\",\"cf\"]\n",
        "Example 2:\n",
        "\n",
        "Input: digits = \"\"\n",
        "Output: []\n",
        "Example 3:\n",
        "\n",
        "Input: digits = \"2\"\n",
        "Output: [\"a\",\"b\",\"c\"]\n",
        "```\n",
        "\n",
        "```\n",
        "Constraints:\n",
        "\n",
        "0 <= digits.length <= 4\n",
        "digits[i] is a digit in the range ['2', '9']."
      ]
    },
    {
      "cell_type": "code",
      "metadata": {
        "id": "ALuxt6PmZEnI"
      },
      "source": [
        "digits = '6'"
      ],
      "execution_count": 68,
      "outputs": []
    },
    {
      "cell_type": "code",
      "metadata": {
        "id": "Et4RuY-WXGub"
      },
      "source": [
        "d2 = ['a', 'b', 'c']\n",
        "d3 = ['d', 'e', 'f']\n",
        "d4 = ['g', 'h', 'i']\n",
        "d5 = ['j', 'k', 'l']\n",
        "d6 = ['m', 'n', 'o']\n",
        "d7 = ['p', 'q', 'r', 's']\n",
        "d8 = ['t', 'u', 'v']\n",
        "d9 = ['w', 'x', 'y', 'z']"
      ],
      "execution_count": 73,
      "outputs": []
    },
    {
      "cell_type": "code",
      "metadata": {
        "id": "kwOStNobX9LT"
      },
      "source": [
        "nums = [[], [], d2, d3, d4, d5, d6, d7, d8, d9]"
      ],
      "execution_count": 51,
      "outputs": []
    },
    {
      "cell_type": "code",
      "metadata": {
        "colab": {
          "base_uri": "https://localhost:8080/"
        },
        "id": "KHJFD5JLZLiE",
        "outputId": "4b7ffe1c-905f-4856-c643-b08173ca13b9"
      },
      "source": [
        "nums"
      ],
      "execution_count": 52,
      "outputs": [
        {
          "output_type": "execute_result",
          "data": {
            "text/plain": [
              "[[],\n",
              " [],\n",
              " ['a', 'b', 'c'],\n",
              " ['d', 'e', 'f'],\n",
              " ['g', 'h', 'i'],\n",
              " ['j', 'k', 'l'],\n",
              " ['p', 'q', 'r'],\n",
              " ['m', 'n', 'o'],\n",
              " ['s', 't', 'u'],\n",
              " ['w', 'x', 'y', 'z']]"
            ]
          },
          "metadata": {},
          "execution_count": 52
        }
      ]
    },
    {
      "cell_type": "code",
      "metadata": {
        "id": "yeCqSoGLbg_D"
      },
      "source": [
        "while len(digits) < 4:\n",
        "  digits += '0'"
      ],
      "execution_count": 70,
      "outputs": []
    },
    {
      "cell_type": "code",
      "metadata": {
        "colab": {
          "base_uri": "https://localhost:8080/",
          "height": 35
        },
        "id": "HH9_adKibpKu",
        "outputId": "e59eb826-6c47-4bab-f512-21301a97de78"
      },
      "source": [
        "digits"
      ],
      "execution_count": 71,
      "outputs": [
        {
          "output_type": "execute_result",
          "data": {
            "application/vnd.google.colaboratory.intrinsic+json": {
              "type": "string"
            },
            "text/plain": [
              "'6000'"
            ]
          },
          "metadata": {},
          "execution_count": 71
        }
      ]
    },
    {
      "cell_type": "code",
      "metadata": {
        "colab": {
          "base_uri": "https://localhost:8080/"
        },
        "id": "kk8N7BzGZL2_",
        "outputId": "0ecfd954-b3cd-4236-8c2a-d875accc7d56"
      },
      "source": [
        "# for a in digits:\n",
        "if digits == \"\":\n",
        "  print(\"[]\")\n",
        "for i in nums[int(list(digits)[0])]:\n",
        "  if nums[int(list(digits)[1])] == []:\n",
        "      print(i)\n",
        "  else:\n",
        "    for j in nums[int(list(digits)[1])]:\n",
        "      if nums[int(list(digits)[2])] == []:\n",
        "        print(i+j)\n",
        "      else:\n",
        "        for k in nums[int(list(digits)[2])]:\n",
        "          if nums[int(list(digits)[3])] == []:\n",
        "            print(i+j+k)\n",
        "          else:\n",
        "            for l in nums[int(list(digits)[3])]:\n",
        "              print(i+j+k+l)"
      ],
      "execution_count": 72,
      "outputs": [
        {
          "output_type": "stream",
          "name": "stdout",
          "text": [
            "p\n",
            "q\n",
            "r\n"
          ]
        }
      ]
    },
    {
      "cell_type": "code",
      "metadata": {
        "id": "s25oHRmqaKcz"
      },
      "source": [
        "for k in nums[int(list(digits)[2])]:\n",
        "  k == None"
      ],
      "execution_count": 61,
      "outputs": []
    },
    {
      "cell_type": "code",
      "metadata": {
        "id": "DajPHHVtZe6j"
      },
      "source": [
        "class Solution:\n",
        "    def letterCombinations(self, digits: str) -> List[str]:\n",
        "        d2 = ['a', 'b', 'c']\n",
        "        d3 = ['d', 'e', 'f']\n",
        "        d4 = ['g', 'h', 'i']\n",
        "        d5 = ['j', 'k', 'l']\n",
        "        d6 = ['m', 'n', 'o']\n",
        "        d7 = ['p', 'q', 'r', 's']\n",
        "        d8 = ['t', 'u', 'v']\n",
        "        d9 = ['w', 'x', 'y', 'z']\n",
        "        \n",
        "        nums = [[], [], d2, d3, d4, d5, d6, d7, d8, d9]\n",
        "        \n",
        "        while len(digits) < 4:\n",
        "            digits += '0'\n",
        "            \n",
        "        check = []\n",
        "        \n",
        "        if digits == \"\":\n",
        "          print(\"[]\")\n",
        "        for i in nums[int(list(digits)[0])]:\n",
        "            if nums[int(list(digits)[1])] == []:\n",
        "                check.append(i)\n",
        "            else:\n",
        "                for j in nums[int(list(digits)[1])]:\n",
        "                    if nums[int(list(digits)[2])] == []:\n",
        "                        check.append(i+j)\n",
        "                    else:\n",
        "                        for k in nums[int(list(digits)[2])]:\n",
        "                            if nums[int(list(digits)[3])] == []:\n",
        "                                    check.append(i+j+k)\n",
        "                            else:\n",
        "                                for l in nums[int(list(digits)[3])]:\n",
        "                                    check.append(i+j+k+l)\n",
        "        return check"
      ],
      "execution_count": null,
      "outputs": []
    }
  ]
}