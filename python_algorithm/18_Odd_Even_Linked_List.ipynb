{
  "nbformat": 4,
  "nbformat_minor": 0,
  "metadata": {
    "colab": {
      "name": "18. Odd Even Linked List.ipynb",
      "provenance": [],
      "authorship_tag": "ABX9TyOS+CwX1SppnbXZAqS2b+S4",
      "include_colab_link": true
    },
    "kernelspec": {
      "name": "python3",
      "display_name": "Python 3"
    },
    "language_info": {
      "name": "python"
    }
  },
  "cells": [
    {
      "cell_type": "markdown",
      "metadata": {
        "id": "view-in-github",
        "colab_type": "text"
      },
      "source": [
        "<a href=\"https://colab.research.google.com/github/johanjun/Google_Machine_Learning_Bootcamp_KR_2021/blob/main/python_algorithm/18_Odd_Even_Linked_List.ipynb\" target=\"_parent\"><img src=\"https://colab.research.google.com/assets/colab-badge.svg\" alt=\"Open In Colab\"/></a>"
      ]
    },
    {
      "cell_type": "markdown",
      "metadata": {
        "id": "7tAxxKbtFNg8"
      },
      "source": [
        "Given the head of a singly linked list, group all the nodes with odd indices together followed by the nodes with even indices, and return the reordered list.\n",
        "\n",
        "The first node is considered odd, and the second node is even, and so on.\n",
        "\n",
        "Note that the relative order inside both the even and odd groups should remain as it was in the input.\n",
        "\n",
        "You must solve the problem in O(1) extra space complexity and O(n) time complexity.\n",
        "\n",
        " \n",
        "```\n",
        "Example 1:\n",
        "\n",
        "\n",
        "Input: head = [1,2,3,4,5]\n",
        "Output: [1,3,5,2,4]\n",
        "Example 2:\n",
        "\n",
        "\n",
        "Input: head = [2,1,3,5,6,4,7]\n",
        "Output: [2,3,6,7,1,5,4]\n",
        " ```\n",
        "```\n",
        "Constraints:\n",
        "\n",
        "n == number of nodes in the linked list\n",
        "0 <= n <= 104\n",
        "-106 <= Node.val <= 106\n",
        "```"
      ]
    },
    {
      "cell_type": "code",
      "metadata": {
        "id": "u6bOt2cJFQ4K"
      },
      "source": [
        "q1 = [2,1,3,5,6,4,7,9]"
      ],
      "execution_count": null,
      "outputs": []
    },
    {
      "cell_type": "code",
      "metadata": {
        "id": "jmV16jOhFfZi"
      },
      "source": [
        "new_list = []\n",
        "for i in range(0, len(q1), 2):\n",
        "  new_list.append(q1[i])\n",
        "for j in range(1, len(q1), 2):\n",
        "  new_list.append(q1[j])"
      ],
      "execution_count": null,
      "outputs": []
    },
    {
      "cell_type": "code",
      "metadata": {
        "colab": {
          "base_uri": "https://localhost:8080/"
        },
        "id": "1nM8L8UgFi2z",
        "outputId": "ec53fcd0-7f02-4a02-8d72-710dc0be3163"
      },
      "source": [
        "new_list"
      ],
      "execution_count": null,
      "outputs": [
        {
          "output_type": "execute_result",
          "data": {
            "text/plain": [
              "[2, 3, 6, 7, 1, 5, 4, 9]"
            ]
          },
          "metadata": {},
          "execution_count": 9
        }
      ]
    },
    {
      "cell_type": "code",
      "metadata": {
        "id": "4iZIrrDpF9Fn"
      },
      "source": [
        "# Definition for singly-linked list.\n",
        "# class ListNode:\n",
        "#     def __init__(self, val=0, next=None):\n",
        "#         self.val = val\n",
        "#         self.next = next\n",
        "class Solution:\n",
        "    def list2node(self, list1: List) -> ListNode: #ref : https://velog.io/@minjung-s/node2list\n",
        "        result_node = ListNode()\n",
        "\n",
        "        for i,num in enumerate(list1):\n",
        "            if i == 0 :\n",
        "                result_node.val = num\n",
        "            else :\n",
        "                node = result_node\n",
        "                while node.next != None:\n",
        "                    node = node.next\n",
        "                node.next = ListNode(num)\n",
        "        return result_node\n",
        "    def oddEvenList(self, head: Optional[ListNode]) -> Optional[ListNode]:\n",
        "        q1: List = []\n",
        "        node1 = head\n",
        "        \n",
        "        # 빈 리스트는 return\n",
        "        if head is None:\n",
        "            q: ListNode = None\n",
        "            return q\n",
        "        \n",
        "        # 리스트 변환\n",
        "        while node1 is not None:\n",
        "            q1.append(node1.val)\n",
        "            node1 = node1.next\n",
        "        \n",
        "        new_list = []\n",
        "        \n",
        "        #짝수번째 먼저\n",
        "        for i in range(0, len(q1), 2):\n",
        "              new_list.append(q1[i])\n",
        "        #홀수번째\n",
        "        for j in range(1, len(q1), 2):\n",
        "              new_list.append(q1[j])\n",
        "        return self.list2node(new_list)"
      ],
      "execution_count": null,
      "outputs": []
    }
  ]
}