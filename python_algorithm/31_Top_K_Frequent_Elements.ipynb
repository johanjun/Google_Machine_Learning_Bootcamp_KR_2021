{
  "nbformat": 4,
  "nbformat_minor": 0,
  "metadata": {
    "colab": {
      "name": "31. Top K Frequent Elements.ipynb",
      "provenance": [],
      "collapsed_sections": [],
      "authorship_tag": "ABX9TyOYbPszXMI3CKilQaR7nQtK",
      "include_colab_link": true
    },
    "kernelspec": {
      "name": "python3",
      "display_name": "Python 3"
    },
    "language_info": {
      "name": "python"
    }
  },
  "cells": [
    {
      "cell_type": "markdown",
      "metadata": {
        "id": "view-in-github",
        "colab_type": "text"
      },
      "source": [
        "<a href=\"https://colab.research.google.com/github/johanjun/Google_Machine_Learning_Bootcamp_KR_2021/blob/main/python_algorithm/31_Top_K_Frequent_Elements.ipynb\" target=\"_parent\"><img src=\"https://colab.research.google.com/assets/colab-badge.svg\" alt=\"Open In Colab\"/></a>"
      ]
    },
    {
      "cell_type": "markdown",
      "metadata": {
        "id": "IY400tNAf-C8"
      },
      "source": [
        "Given an integer array nums and an integer k, return the k most frequent elements. You may return the answer in any order.\n",
        "\n",
        " \n",
        "```\n",
        "Example 1:\n",
        "\n",
        "Input: nums = [1,1,1,2,2,3], k = 2\n",
        "Output: [1,2]\n",
        "Example 2:\n",
        "\n",
        "Input: nums = [1], k = 1\n",
        "Output: [1]\n",
        "```\n",
        "\n",
        "```\n",
        "Constraints:\n",
        "\n",
        "1 <= nums.length <= 105\n",
        "k is in the range [1, the number of unique elements in the array].\n",
        "It is guaranteed that the answer is unique.\n",
        "```"
      ]
    },
    {
      "cell_type": "code",
      "metadata": {
        "id": "2s-bo-YOgFUL"
      },
      "source": [
        "nums = [1,1,2,2,2,3]\n",
        "k = 2"
      ],
      "execution_count": 72,
      "outputs": []
    },
    {
      "cell_type": "code",
      "metadata": {
        "id": "S_T7FfrzqTdM"
      },
      "source": [
        "import collections"
      ],
      "execution_count": 82,
      "outputs": []
    },
    {
      "cell_type": "code",
      "metadata": {
        "colab": {
          "base_uri": "https://localhost:8080/"
        },
        "id": "Scu7u1DZqVQm",
        "outputId": "10a295a6-bed9-4fea-d4b3-c30327f08c45"
      },
      "source": [
        "col_nums = collections.Counter(nums)\n",
        "col_nums"
      ],
      "execution_count": 85,
      "outputs": [
        {
          "output_type": "execute_result",
          "data": {
            "text/plain": [
              "Counter({1: 2, 2: 3, 3: 1})"
            ]
          },
          "metadata": {},
          "execution_count": 85
        }
      ]
    },
    {
      "cell_type": "code",
      "metadata": {
        "colab": {
          "base_uri": "https://localhost:8080/"
        },
        "id": "flFkDQaaqWi3",
        "outputId": "9733c387-7b83-488a-ef2d-3a8114953ef0"
      },
      "source": [
        "max(col_nums)"
      ],
      "execution_count": 86,
      "outputs": [
        {
          "output_type": "execute_result",
          "data": {
            "text/plain": [
              "3"
            ]
          },
          "metadata": {},
          "execution_count": 86
        }
      ]
    },
    {
      "cell_type": "code",
      "metadata": {
        "id": "h7uYJV0arLCh"
      },
      "source": [
        "check = []\n",
        "for i in range(0, k):\n",
        "  check.append(sorted(col_nums.items(), key=lambda item: item[1], reverse=True)[i][0])"
      ],
      "execution_count": 102,
      "outputs": []
    },
    {
      "cell_type": "code",
      "metadata": {
        "colab": {
          "base_uri": "https://localhost:8080/"
        },
        "id": "q7rVdk1hru-F",
        "outputId": "daabce14-9ff4-4e8d-cce8-28d02a599d56"
      },
      "source": [
        "check"
      ],
      "execution_count": 103,
      "outputs": [
        {
          "output_type": "execute_result",
          "data": {
            "text/plain": [
              "[2, 1]"
            ]
          },
          "metadata": {},
          "execution_count": 103
        }
      ]
    },
    {
      "cell_type": "code",
      "metadata": {
        "id": "HSTx6C2Nqiy3"
      },
      "source": [
        ""
      ],
      "execution_count": null,
      "outputs": []
    }
  ]
}