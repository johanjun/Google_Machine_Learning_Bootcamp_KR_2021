{
  "nbformat": 4,
  "nbformat_minor": 0,
  "metadata": {
    "colab": {
      "name": "46. Merge Two Binary Trees.ipynb",
      "provenance": [],
      "authorship_tag": "ABX9TyNhYTD7KHxRf4gydJ5eZVEP",
      "include_colab_link": true
    },
    "kernelspec": {
      "name": "python3",
      "display_name": "Python 3"
    },
    "language_info": {
      "name": "python"
    }
  },
  "cells": [
    {
      "cell_type": "markdown",
      "metadata": {
        "id": "view-in-github",
        "colab_type": "text"
      },
      "source": [
        "<a href=\"https://colab.research.google.com/github/johanjun/Google_Machine_Learning_Bootcamp_KR_2021/blob/main/python_algorithm/46_Merge_Two_Binary_Trees.ipynb\" target=\"_parent\"><img src=\"https://colab.research.google.com/assets/colab-badge.svg\" alt=\"Open In Colab\"/></a>"
      ]
    },
    {
      "cell_type": "markdown",
      "metadata": {
        "id": "Fr5K1jLnJtL7"
      },
      "source": [
        "You are given two binary trees root1 and root2.\n",
        "\n",
        "Imagine that when you put one of them to cover the other, some nodes of the two trees are overlapped while the others are not. You need to merge the two trees into a new binary tree. The merge rule is that if two nodes overlap, then sum node values up as the new value of the merged node. Otherwise, the NOT null node will be used as the node of the new tree.\n",
        "\n",
        "Return the merged tree.\n",
        "\n",
        "Note: The merging process must start from the root nodes of both trees.\n",
        "\n",
        " \n",
        "```\n",
        "Example 1:\n",
        "\n",
        "\n",
        "Input: root1 = [1,3,2,5], root2 = [2,1,3,null,4,null,7]\n",
        "Output: [3,4,5,5,4,null,7]\n",
        "Example 2:\n",
        "\n",
        "Input: root1 = [1], root2 = [1,2]\n",
        "Output: [2,2]\n",
        "``` \n",
        "\n",
        "```\n",
        "Constraints:\n",
        "\n",
        "The number of nodes in both trees is in the range [0, 2000].\n",
        "-104 <= Node.val <= 104\n",
        "```"
      ]
    },
    {
      "cell_type": "code",
      "metadata": {
        "id": "QyGjEOtmJyLP"
      },
      "source": [
        "class Solution:\n",
        "    def mergeTrees(self, root1: Optional[TreeNode], root2: Optional[TreeNode]) -> Optional[TreeNode]:\n",
        "      new_root = TreeNode()\n",
        "        if root1 or root2:\n",
        "            new_root.left = root1.left + root2.left\n",
        "            new_root.right = root1.right + root2.right\n",
        "            return new_root\n",
        "        return None"
      ],
      "execution_count": null,
      "outputs": []
    },
    {
      "cell_type": "code",
      "metadata": {
        "id": "FfbaXs8NZf77"
      },
      "source": [
        "#solution\n",
        "class TreeNode:\n",
        "    def __init__(self, x):\n",
        "        self.val = x\n",
        "        self.left = None\n",
        "        self.right = None\n",
        "\n",
        "\n",
        "class Solution:\n",
        "    def mergeTrees(self, t1: TreeNode, t2: TreeNode) -> TreeNode:\n",
        "        if t1 and t2:\n",
        "            node = TreeNode(t1.val + t2.val)\n",
        "            node.left = self.mergeTrees(t1.left, t2.left)\n",
        "            node.right = self.mergeTrees(t1.right, t2.right)\n",
        "\n",
        "            return node\n",
        "        else:\n",
        "            return t1 or t2"
      ],
      "execution_count": null,
      "outputs": []
    }
  ]
}