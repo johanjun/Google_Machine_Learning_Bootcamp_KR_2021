{
  "nbformat": 4,
  "nbformat_minor": 0,
  "metadata": {
    "colab": {
      "name": "38. Reconstruct Itinerary.ipynb",
      "provenance": [],
      "collapsed_sections": [],
      "authorship_tag": "ABX9TyOx19NVMkYCGxMhWd9SqNlr",
      "include_colab_link": true
    },
    "kernelspec": {
      "name": "python3",
      "display_name": "Python 3"
    },
    "language_info": {
      "name": "python"
    }
  },
  "cells": [
    {
      "cell_type": "markdown",
      "metadata": {
        "id": "view-in-github",
        "colab_type": "text"
      },
      "source": [
        "<a href=\"https://colab.research.google.com/github/johanjun/Google_Machine_Learning_Bootcamp_KR_2021/blob/main/python_algorithm/38_Reconstruct_Itinerary.ipynb\" target=\"_parent\"><img src=\"https://colab.research.google.com/assets/colab-badge.svg\" alt=\"Open In Colab\"/></a>"
      ]
    },
    {
      "cell_type": "markdown",
      "metadata": {
        "id": "TuhF7GfaOvfu"
      },
      "source": [
        "You are given a list of airline tickets where tickets[i] = [fromi, toi] represent the departure and the arrival airports of one flight. Reconstruct the itinerary in order and return it.\n",
        "\n",
        "All of the tickets belong to a man who departs from \"JFK\", thus, the itinerary must begin with \"JFK\". If there are multiple valid itineraries, you should return the itinerary that has the smallest lexical order when read as a single string.\n",
        "\n",
        "For example, the itinerary [\"JFK\", \"LGA\"] has a smaller lexical order than [\"JFK\", \"LGB\"].\n",
        "You may assume all tickets form at least one valid itinerary. You must use all the tickets once and only once.\n",
        "\n",
        " \n",
        "```\n",
        "Example 1:\n",
        "\n",
        "\n",
        "Input: tickets = [[\"MUC\",\"LHR\"],[\"JFK\",\"MUC\"],[\"SFO\",\"SJC\"],[\"LHR\",\"SFO\"]]\n",
        "Output: [\"JFK\",\"MUC\",\"LHR\",\"SFO\",\"SJC\"]\n",
        "Example 2:\n",
        "\n",
        "\n",
        "Input: tickets = [[\"JFK\",\"SFO\"],[\"JFK\",\"ATL\"],[\"SFO\",\"ATL\"],[\"ATL\",\"JFK\"],[\"ATL\",\"SFO\"]]\n",
        "Output: [\"JFK\",\"ATL\",\"JFK\",\"SFO\",\"ATL\",\"SFO\"]\n",
        "Explanation: Another possible reconstruction is [\"JFK\",\"SFO\",\"ATL\",\"JFK\",\"ATL\",\"SFO\"] but it is larger in lexical order.\n",
        " ```\n",
        "\n",
        "```\n",
        "Constraints:\n",
        "\n",
        "1 <= tickets.length <= 300\n",
        "tickets[i].length == 2\n",
        "fromi.length == 3\n",
        "toi.length == 3\n",
        "fromi and toi consist of uppercase English letters.\n",
        "fromi != toi\n",
        "```"
      ]
    },
    {
      "cell_type": "code",
      "metadata": {
        "id": "NRnqnUYaO6K3"
      },
      "source": [
        "tickets = [[\"JFK\",\"SFO\"],[\"JFK\",\"ATL\"],[\"SFO\",\"ATL\"],[\"ATL\",\"JFK\"],[\"ATL\",\"SFO\"]]"
      ],
      "execution_count": 45,
      "outputs": []
    },
    {
      "cell_type": "code",
      "metadata": {
        "id": "B5P81nX0akB-"
      },
      "source": [
        "import collections\n",
        "graph = collections.defaultdict(list)"
      ],
      "execution_count": 51,
      "outputs": []
    },
    {
      "cell_type": "code",
      "metadata": {
        "id": "k5RZLiarYnU-"
      },
      "source": [
        "#v3\n",
        "for a, b in sorted(tickets):\n",
        "  graph[a].append(b)\n"
      ],
      "execution_count": 53,
      "outputs": []
    },
    {
      "cell_type": "code",
      "metadata": {
        "colab": {
          "base_uri": "https://localhost:8080/"
        },
        "id": "AbPcJkz0amT7",
        "outputId": "c17820ac-8dac-4716-f9e0-42d6a8f4495b"
      },
      "source": [
        "graph"
      ],
      "execution_count": 54,
      "outputs": [
        {
          "output_type": "execute_result",
          "data": {
            "text/plain": [
              "defaultdict(list,\n",
              "            {'ATL': ['JFK', 'SFO'], 'JFK': ['ATL', 'SFO'], 'SFO': ['ATL']})"
            ]
          },
          "metadata": {},
          "execution_count": 54
        }
      ]
    },
    {
      "cell_type": "code",
      "metadata": {
        "colab": {
          "base_uri": "https://localhost:8080/"
        },
        "id": "poFtDHJxVOnd",
        "outputId": "c0b5edfd-ff77-436d-bcca-1b648e70ab9e"
      },
      "source": [
        "#v2\n",
        "itinerary = [tickets[0][0], tickets[0][1]]\n",
        "for t in tickets:\n",
        "  print(f't:{t}')\n",
        "  for i in range(0, len(tickets)):\n",
        "    if tickets[i][0] == itinerary[-1]:\n",
        "      itinerary.append(tickets[i][1])\n",
        "    elif tickets[i][1] == itinerary[0]:\n",
        "      itinerary.insert(0, tickets[i][0])\n",
        "    print(f'itinerary:{itinerary}')"
      ],
      "execution_count": 46,
      "outputs": [
        {
          "output_type": "stream",
          "name": "stdout",
          "text": [
            "t:['JFK', 'SFO']\n",
            "itinerary:['JFK', 'SFO']\n",
            "itinerary:['JFK', 'SFO']\n",
            "itinerary:['JFK', 'SFO', 'ATL']\n",
            "itinerary:['JFK', 'SFO', 'ATL', 'JFK']\n",
            "itinerary:['JFK', 'SFO', 'ATL', 'JFK']\n",
            "t:['JFK', 'ATL']\n",
            "itinerary:['JFK', 'SFO', 'ATL', 'JFK', 'SFO']\n",
            "itinerary:['JFK', 'SFO', 'ATL', 'JFK', 'SFO']\n",
            "itinerary:['JFK', 'SFO', 'ATL', 'JFK', 'SFO', 'ATL']\n",
            "itinerary:['JFK', 'SFO', 'ATL', 'JFK', 'SFO', 'ATL', 'JFK']\n",
            "itinerary:['JFK', 'SFO', 'ATL', 'JFK', 'SFO', 'ATL', 'JFK']\n",
            "t:['SFO', 'ATL']\n",
            "itinerary:['JFK', 'SFO', 'ATL', 'JFK', 'SFO', 'ATL', 'JFK', 'SFO']\n",
            "itinerary:['JFK', 'SFO', 'ATL', 'JFK', 'SFO', 'ATL', 'JFK', 'SFO']\n",
            "itinerary:['JFK', 'SFO', 'ATL', 'JFK', 'SFO', 'ATL', 'JFK', 'SFO', 'ATL']\n",
            "itinerary:['JFK', 'SFO', 'ATL', 'JFK', 'SFO', 'ATL', 'JFK', 'SFO', 'ATL', 'JFK']\n",
            "itinerary:['JFK', 'SFO', 'ATL', 'JFK', 'SFO', 'ATL', 'JFK', 'SFO', 'ATL', 'JFK']\n",
            "t:['ATL', 'JFK']\n",
            "itinerary:['JFK', 'SFO', 'ATL', 'JFK', 'SFO', 'ATL', 'JFK', 'SFO', 'ATL', 'JFK', 'SFO']\n",
            "itinerary:['JFK', 'SFO', 'ATL', 'JFK', 'SFO', 'ATL', 'JFK', 'SFO', 'ATL', 'JFK', 'SFO']\n",
            "itinerary:['JFK', 'SFO', 'ATL', 'JFK', 'SFO', 'ATL', 'JFK', 'SFO', 'ATL', 'JFK', 'SFO', 'ATL']\n",
            "itinerary:['JFK', 'SFO', 'ATL', 'JFK', 'SFO', 'ATL', 'JFK', 'SFO', 'ATL', 'JFK', 'SFO', 'ATL', 'JFK']\n",
            "itinerary:['JFK', 'SFO', 'ATL', 'JFK', 'SFO', 'ATL', 'JFK', 'SFO', 'ATL', 'JFK', 'SFO', 'ATL', 'JFK']\n",
            "t:['ATL', 'SFO']\n",
            "itinerary:['JFK', 'SFO', 'ATL', 'JFK', 'SFO', 'ATL', 'JFK', 'SFO', 'ATL', 'JFK', 'SFO', 'ATL', 'JFK', 'SFO']\n",
            "itinerary:['JFK', 'SFO', 'ATL', 'JFK', 'SFO', 'ATL', 'JFK', 'SFO', 'ATL', 'JFK', 'SFO', 'ATL', 'JFK', 'SFO']\n",
            "itinerary:['JFK', 'SFO', 'ATL', 'JFK', 'SFO', 'ATL', 'JFK', 'SFO', 'ATL', 'JFK', 'SFO', 'ATL', 'JFK', 'SFO', 'ATL']\n",
            "itinerary:['JFK', 'SFO', 'ATL', 'JFK', 'SFO', 'ATL', 'JFK', 'SFO', 'ATL', 'JFK', 'SFO', 'ATL', 'JFK', 'SFO', 'ATL', 'JFK']\n",
            "itinerary:['JFK', 'SFO', 'ATL', 'JFK', 'SFO', 'ATL', 'JFK', 'SFO', 'ATL', 'JFK', 'SFO', 'ATL', 'JFK', 'SFO', 'ATL', 'JFK']\n"
          ]
        }
      ]
    },
    {
      "cell_type": "code",
      "metadata": {
        "id": "WszvFIhvVuZS"
      },
      "source": [
        "itinerary"
      ],
      "execution_count": null,
      "outputs": []
    },
    {
      "cell_type": "markdown",
      "metadata": {
        "id": "sn-U8FgpXNC8"
      },
      "source": [
        "Output: [\"JFK\",\"ATL\",\"JFK\",\"SFO\",\"ATL\",\"SFO\"]"
      ]
    },
    {
      "cell_type": "markdown",
      "metadata": {
        "id": "FF9ZK4PUUXus"
      },
      "source": [
        "Output: [\"JFK\",\"MUC\",\"LHR\",\"SFO\",\"SJC\"]"
      ]
    },
    {
      "cell_type": "code",
      "metadata": {
        "id": "IZ3BGce2RMwZ"
      },
      "source": [
        "tickets = [[\"MUC\",\"LHR\"],[\"JFK\",\"MUC\"],[\"SFO\",\"SJC\"],[\"LHR\",\"SFO\"]]"
      ],
      "execution_count": null,
      "outputs": []
    },
    {
      "cell_type": "code",
      "metadata": {
        "colab": {
          "base_uri": "https://localhost:8080/"
        },
        "id": "jDoK6zE1PN0J",
        "outputId": "c6bc4001-ddcd-4387-e1f0-21405735be3e"
      },
      "source": [
        "#v1\n",
        "itinerary = []\n",
        "for t in tickets:\n",
        "  print(t)\n",
        "  for i in range(0, len(tickets)):\n",
        "    # print(t[1], tickets[i])\n",
        "    if t[0] == tickets[i][1]:\n",
        "      print(\"if1\")\n",
        "      itinerary.append(tickets[i][0])\n",
        "      itinerary.append(t[0])\n",
        "      # break\n",
        "    if t[1] == tickets[i][0]:\n",
        "      print(\"if2\")\n",
        "      itinerary.append(t[1])\n",
        "      itinerary.append(tickets[i][1])\n",
        "      # break\n",
        "    # itinerary = set(itinerary)\n",
        "    print(f'itinerary : {itinerary}')\n"
      ],
      "execution_count": 29,
      "outputs": [
        {
          "output_type": "stream",
          "name": "stdout",
          "text": [
            "['MUC', 'LHR']\n",
            "itinerary : []\n",
            "if1\n",
            "itinerary : ['JFK', 'MUC']\n",
            "itinerary : ['JFK', 'MUC']\n",
            "if2\n",
            "itinerary : ['JFK', 'MUC', 'LHR', 'SFO']\n",
            "['JFK', 'MUC']\n",
            "if2\n",
            "itinerary : ['JFK', 'MUC', 'LHR', 'SFO', 'MUC', 'LHR']\n",
            "itinerary : ['JFK', 'MUC', 'LHR', 'SFO', 'MUC', 'LHR']\n",
            "itinerary : ['JFK', 'MUC', 'LHR', 'SFO', 'MUC', 'LHR']\n",
            "itinerary : ['JFK', 'MUC', 'LHR', 'SFO', 'MUC', 'LHR']\n",
            "['SFO', 'SJC']\n",
            "itinerary : ['JFK', 'MUC', 'LHR', 'SFO', 'MUC', 'LHR']\n",
            "itinerary : ['JFK', 'MUC', 'LHR', 'SFO', 'MUC', 'LHR']\n",
            "itinerary : ['JFK', 'MUC', 'LHR', 'SFO', 'MUC', 'LHR']\n",
            "if1\n",
            "itinerary : ['JFK', 'MUC', 'LHR', 'SFO', 'MUC', 'LHR', 'LHR', 'SFO']\n",
            "['LHR', 'SFO']\n",
            "if1\n",
            "itinerary : ['JFK', 'MUC', 'LHR', 'SFO', 'MUC', 'LHR', 'LHR', 'SFO', 'MUC', 'LHR']\n",
            "itinerary : ['JFK', 'MUC', 'LHR', 'SFO', 'MUC', 'LHR', 'LHR', 'SFO', 'MUC', 'LHR']\n",
            "if2\n",
            "itinerary : ['JFK', 'MUC', 'LHR', 'SFO', 'MUC', 'LHR', 'LHR', 'SFO', 'MUC', 'LHR', 'SFO', 'SJC']\n",
            "itinerary : ['JFK', 'MUC', 'LHR', 'SFO', 'MUC', 'LHR', 'LHR', 'SFO', 'MUC', 'LHR', 'SFO', 'SJC']\n"
          ]
        }
      ]
    },
    {
      "cell_type": "code",
      "metadata": {
        "id": "NUTujJvvbL8W"
      },
      "source": [
        "#solution\n",
        "import collections\n",
        "from typing import List\n",
        "\n",
        "\n",
        "class Solution:\n",
        "    def findItinerary(self, tickets: List[List[str]]) -> List[str]:\n",
        "        graph = collections.defaultdict(list)\n",
        "        # 그래프 순서대로 구성\n",
        "        for a, b in sorted(tickets):\n",
        "            graph[a].append(b)\n",
        "\n",
        "        route = []\n",
        "\n",
        "        def dfs(a):\n",
        "            # 첫 번째 값을 읽어 어휘순 방문\n",
        "            while graph[a]:\n",
        "                dfs(graph[a].pop(0))\n",
        "            route.append(a)\n",
        "\n",
        "        dfs('JFK')\n",
        "        # 다시 뒤집어 어휘순 결과로\n",
        "        return route[::-1]"
      ],
      "execution_count": null,
      "outputs": []
    }
  ]
}