{
  "nbformat": 4,
  "nbformat_minor": 0,
  "metadata": {
    "colab": {
      "name": "etc04. Implement strStr().ipynb",
      "provenance": [],
      "collapsed_sections": [],
      "authorship_tag": "ABX9TyPkyZgbj/u7inlesYGul1gp",
      "include_colab_link": true
    },
    "kernelspec": {
      "name": "python3",
      "display_name": "Python 3"
    },
    "language_info": {
      "name": "python"
    }
  },
  "cells": [
    {
      "cell_type": "markdown",
      "metadata": {
        "id": "view-in-github",
        "colab_type": "text"
      },
      "source": [
        "<a href=\"https://colab.research.google.com/github/johanjun/Google_Machine_Learning_Bootcamp_KR_2021/blob/main/python_algorithm/etc04_Implement_strStr().ipynb\" target=\"_parent\"><img src=\"https://colab.research.google.com/assets/colab-badge.svg\" alt=\"Open In Colab\"/></a>"
      ]
    },
    {
      "cell_type": "markdown",
      "metadata": {
        "id": "X9hUMnEronKt"
      },
      "source": [
        "Implement strStr().\n",
        "\n",
        "Return the index of the first occurrence of needle in haystack, or -1 if needle is not part of haystack.\n",
        "\n",
        "Clarification:\n",
        "\n",
        "What should we return when needle is an empty string? This is a great question to ask during an interview.\n",
        "\n",
        "For the purpose of this problem, we will return 0 when needle is an empty string. This is consistent to C's strstr() and Java's indexOf().\n",
        "\n",
        " \n",
        "```\n",
        "Example 1:\n",
        "\n",
        "Input: haystack = \"hello\", needle = \"ll\"\n",
        "Output: 2\n",
        "Example 2:\n",
        "\n",
        "Input: haystack = \"aaaaa\", needle = \"bba\"\n",
        "Output: -1\n",
        "Example 3:\n",
        "\n",
        "Input: haystack = \"\", needle = \"\"\n",
        "Output: 0\n",
        "``` \n",
        "```\n",
        "Constraints:\n",
        "\n",
        "0 <= haystack.length, needle.length <= 5 * 104\n",
        "haystack and needle consist of only lower-case English characters.\n",
        "```"
      ]
    },
    {
      "cell_type": "code",
      "metadata": {
        "id": "iWplMgm_oxI8"
      },
      "source": [
        "haystack = \"hello\"\n",
        "needle = \"ll\""
      ],
      "execution_count": 29,
      "outputs": []
    },
    {
      "cell_type": "code",
      "metadata": {
        "colab": {
          "base_uri": "https://localhost:8080/"
        },
        "id": "2gzRBMgPqJqz",
        "outputId": "050ded17-d974-4c26-dcbf-9c4a6901d882"
      },
      "source": [
        "haystack, len(haystack)"
      ],
      "execution_count": 30,
      "outputs": [
        {
          "output_type": "execute_result",
          "data": {
            "text/plain": [
              "('hello', 5)"
            ]
          },
          "metadata": {},
          "execution_count": 30
        }
      ]
    },
    {
      "cell_type": "code",
      "metadata": {
        "colab": {
          "base_uri": "https://localhost:8080/"
        },
        "id": "xrhIhCLdqPGf",
        "outputId": "0090d495-84e2-4d15-943f-3e4314289d15"
      },
      "source": [
        "needle, len(needle)"
      ],
      "execution_count": 31,
      "outputs": [
        {
          "output_type": "execute_result",
          "data": {
            "text/plain": [
              "('ll', 2)"
            ]
          },
          "metadata": {},
          "execution_count": 31
        }
      ]
    },
    {
      "cell_type": "code",
      "metadata": {
        "colab": {
          "base_uri": "https://localhost:8080/"
        },
        "id": "C09TbwKro3dk",
        "outputId": "07dd96bb-dae5-43b2-fae7-01d57d109f75"
      },
      "source": [
        "for i in range(len(haystack)-len(needle)+1):\n",
        "  if haystack[i:i+len(needle)] == needle:\n",
        "    print(i)"
      ],
      "execution_count": 33,
      "outputs": [
        {
          "output_type": "stream",
          "name": "stdout",
          "text": [
            "2\n"
          ]
        }
      ]
    },
    {
      "cell_type": "code",
      "metadata": {
        "id": "YhomlSQxpuVN"
      },
      "source": [
        "class Solution:\n",
        "    def strStr(self, haystack: str, needle: str) -> int:\n",
        "        i = 0\n",
        "        if needle:\n",
        "            if needle in haystack:\n",
        "                for i in range(len(haystack)-len(needle)+1):\n",
        "                    if haystack[i:i+len(needle)] == needle:\n",
        "                        break\n",
        "            else:\n",
        "                i = -1\n",
        "        return i"
      ],
      "execution_count": null,
      "outputs": []
    }
  ]
}