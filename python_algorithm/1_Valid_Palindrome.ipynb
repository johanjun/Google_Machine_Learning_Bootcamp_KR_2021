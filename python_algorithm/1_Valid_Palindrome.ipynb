{
  "nbformat": 4,
  "nbformat_minor": 0,
  "metadata": {
    "colab": {
      "name": "1. Valid Palindrome.ipynb",
      "provenance": [],
      "collapsed_sections": [],
      "authorship_tag": "ABX9TyPegjZsq7ZWEvYlLiJcCwim",
      "include_colab_link": true
    },
    "kernelspec": {
      "name": "python3",
      "display_name": "Python 3"
    },
    "language_info": {
      "name": "python"
    }
  },
  "cells": [
    {
      "cell_type": "markdown",
      "metadata": {
        "id": "view-in-github",
        "colab_type": "text"
      },
      "source": [
        "<a href=\"https://colab.research.google.com/github/johanjun/Google_Machine_Learning_Bootcamp_KR_2021/blob/main/python_algorithm/1_Valid_Palindrome.ipynb\" target=\"_parent\"><img src=\"https://colab.research.google.com/assets/colab-badge.svg\" alt=\"Open In Colab\"/></a>"
      ]
    },
    {
      "cell_type": "markdown",
      "metadata": {
        "id": "YRwcvT8ylckR"
      },
      "source": [
        "Given a string s, determine if it is a palindrome, considering only alphanumeric characters and ignoring cases.\n",
        "\n",
        " \n",
        "```\n",
        "Example 1:\n",
        "\n",
        "Input: s = \"A man, a plan, a canal: Panama\"\n",
        "Output: true\n",
        "Explanation: \"amanaplanacanalpanama\" is a palindrome.\n",
        "```\n",
        "\n",
        "```\n",
        "Example 2:\n",
        "\n",
        "Input: s = \"race a car\"\n",
        "Output: false\n",
        "Explanation: \"raceacar\" is not a palindrome.\n",
        "```\n",
        " \n",
        "```\n",
        "Constraints:\n",
        "\n",
        "1 <= s.length <= 2 * 105\n",
        "s consists only of printable ASCII characters.\n",
        "```"
      ]
    },
    {
      "cell_type": "code",
      "metadata": {
        "colab": {
          "base_uri": "https://localhost:8080/"
        },
        "id": "FAAuBE12o2eL",
        "outputId": "837c74bc-79af-4ada-e64c-fb113ff03b69"
      },
      "source": [
        "import numpy as np\n",
        "np.negative(1)"
      ],
      "execution_count": 4,
      "outputs": [
        {
          "output_type": "execute_result",
          "data": {
            "text/plain": [
              "-1"
            ]
          },
          "metadata": {},
          "execution_count": 4
        }
      ]
    },
    {
      "cell_type": "code",
      "metadata": {
        "colab": {
          "base_uri": "https://localhost:8080/"
        },
        "id": "Q3OEvNKd1AVw",
        "outputId": "cd66ea63-b052-4101-fdb5-7dc26b81c692"
      },
      "source": [
        "2*(10**5)"
      ],
      "execution_count": 75,
      "outputs": [
        {
          "output_type": "execute_result",
          "data": {
            "text/plain": [
              "200000"
            ]
          },
          "metadata": {},
          "execution_count": 75
        }
      ]
    },
    {
      "cell_type": "code",
      "metadata": {
        "colab": {
          "base_uri": "https://localhost:8080/"
        },
        "id": "PPEYU2UhpToo",
        "outputId": "d24785a2-a49a-4163-ffbb-1bfdc42aab89"
      },
      "source": [
        "s = \"T 0jy X380LmlEJ. ;Qv4`cl?ug,t 8 \\\"!HIJEMH`RLJ\\\"f;z 6;uI?C6I`RH\\\"8n:5Z8;bI,'d!,2ka\\\"'6?`8'yr,,:EFi ,G  67?G8kJ,2XYbiWWwoi!0\\\"O,2Q tbn 9B x\\\"FaFW, p!;'FI69Z3CbbXnV1xP'`?F'm\\\".e5?:cF`\\\",uk4O W; 1:0 :o;b,Q,b;o: 0:1 ;W O4ku,\\\"`Fc:?5e.\\\"m'F?`'Px1VnXbbC3Z96IF';!p ,WFaF\\\"x B9 nbt Q2,O\\\"0!iowWWibYX2,Jk8G?76  G, iFE:,,ry'8`?6'\\\"ak2,!d',Ib;8Z5:n8\\\"HR`I6C?Iu;6 z;f\\\"JLR`HMEJIH!\\\" 8 t,gu?lc`4vQ; .JElmL083X yj0 T\"\n",
        "check = []\n",
        "\n",
        "s = s.strip()\n",
        "print(len(s))\n",
        "if (len(s) >= 0) & (len(s) <= 2*(10**5)):\n",
        "  s = ''.join(char for char in s if char.isalnum())\n",
        "  s = s.lower()\n",
        "  \n",
        "  for i in range(len(s)):\n",
        "    check.append(s[i] == s[-i-1])"
      ],
      "execution_count": 73,
      "outputs": [
        {
          "output_type": "stream",
          "name": "stdout",
          "text": [
            "243\n"
          ]
        }
      ]
    },
    {
      "cell_type": "code",
      "metadata": {
        "colab": {
          "base_uri": "https://localhost:8080/"
        },
        "id": "tmvT6IafuRaG",
        "outputId": "26cf13ef-c74f-49fd-b1ef-910a70db92ab"
      },
      "source": [
        "print(check)"
      ],
      "execution_count": 70,
      "outputs": [
        {
          "output_type": "stream",
          "name": "stdout",
          "text": [
            "[]\n"
          ]
        }
      ]
    },
    {
      "cell_type": "code",
      "metadata": {
        "id": "vnondMUtuV-n"
      },
      "source": [
        "if False in check:\n",
        "  print(\"yes\")"
      ],
      "execution_count": 52,
      "outputs": []
    },
    {
      "cell_type": "code",
      "metadata": {
        "id": "QhzgMcT1oeYm"
      },
      "source": [
        "class Solution:\n",
        "    def isPalindrome(self, s: str) -> bool:\n",
        "      check = []\n",
        "      if s == None:\n",
        "        return False\n",
        "      s = ''.join(char for char in s if char.isalnum())\n",
        "      if (len(s) >= 0) & (len(s) <= 2*(10**5)):\n",
        "        s = ''.join(char for char in s if char.isalnum())\n",
        "        s = s.strip()\n",
        "        s = s.lower()\n",
        "        \n",
        "        for i in range(len(s)):\n",
        "          check.append(s[i] == s[-i-1])\n",
        "        if False in check:\n",
        "          return False\n",
        "\n",
        "        else:\n",
        "          return True\n",
        "      else:\n",
        "        return False"
      ],
      "execution_count": 32,
      "outputs": []
    },
    {
      "cell_type": "code",
      "metadata": {
        "id": "dGDodREzu1Zt"
      },
      "source": [
        ""
      ],
      "execution_count": null,
      "outputs": []
    },
    {
      "cell_type": "code",
      "metadata": {
        "id": "Rl3twAxDseE3"
      },
      "source": [
        ""
      ],
      "execution_count": null,
      "outputs": []
    }
  ]
}