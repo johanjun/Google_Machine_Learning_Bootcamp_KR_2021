{
  "nbformat": 4,
  "nbformat_minor": 0,
  "metadata": {
    "colab": {
      "name": "11. Product of Array Except Self.ipynb",
      "provenance": [],
      "authorship_tag": "ABX9TyPlNEqwnflmakowq6VVqER6",
      "include_colab_link": true
    },
    "kernelspec": {
      "name": "python3",
      "display_name": "Python 3"
    },
    "language_info": {
      "name": "python"
    }
  },
  "cells": [
    {
      "cell_type": "markdown",
      "metadata": {
        "id": "view-in-github",
        "colab_type": "text"
      },
      "source": [
        "<a href=\"https://colab.research.google.com/github/johanjun/Google_Machine_Learning_Bootcamp_KR_2021/blob/main/python_algorithm/11_Product_of_Array_Except_Self.ipynb\" target=\"_parent\"><img src=\"https://colab.research.google.com/assets/colab-badge.svg\" alt=\"Open In Colab\"/></a>"
      ]
    },
    {
      "cell_type": "markdown",
      "metadata": {
        "id": "dj8mlCS8cwXh"
      },
      "source": [
        "Given an integer array nums, return an array answer such that answer[i] is equal to the product of all the elements of nums except nums[i].\n",
        "\n",
        "The product of any prefix or suffix of nums is guaranteed to fit in a 32-bit integer.\n",
        "\n",
        "You must write an algorithm that runs in O(n) time and without using the division operation.\n",
        "\n",
        " \n",
        "```\n",
        "Example 1:\n",
        "\n",
        "Input: nums = [1,2,3,4]\n",
        "Output: [24,12,8,6]\n",
        "Example 2:\n",
        "\n",
        "Input: nums = [-1,1,0,-3,3]\n",
        "Output: [0,0,9,0,0]\n",
        " ```\n",
        "```\n",
        "Constraints:\n",
        "\n",
        "2 <= nums.length <= 105\n",
        "-30 <= nums[i] <= 30\n",
        "The product of any prefix or suffix of nums is guaranteed to fit in a 32-bit integer.\n",
        " ```\n",
        "\n",
        "Follow up: Can you solve the problem in O(1) extra space complexity? (The output array does not count as extra space for space complexity analysis.)"
      ]
    },
    {
      "cell_type": "code",
      "metadata": {
        "id": "J05rJSbQd2ij"
      },
      "source": [
        "nums = [1,2,3,4]"
      ],
      "execution_count": 18,
      "outputs": []
    },
    {
      "cell_type": "code",
      "metadata": {
        "id": "nNTwj_DNeoMK"
      },
      "source": [
        "nums.remove(3)"
      ],
      "execution_count": 13,
      "outputs": []
    },
    {
      "cell_type": "code",
      "metadata": {
        "colab": {
          "base_uri": "https://localhost:8080/"
        },
        "id": "YxDZCpAMeEaC",
        "outputId": "c7d9a55b-0558-4cee-c374-df8962eb2e11"
      },
      "source": [
        "import numpy as np\n",
        "np.product(nums)"
      ],
      "execution_count": 2,
      "outputs": [
        {
          "output_type": "execute_result",
          "data": {
            "text/plain": [
              "24"
            ]
          },
          "metadata": {},
          "execution_count": 2
        }
      ]
    },
    {
      "cell_type": "code",
      "metadata": {
        "id": "skSPccNnendw"
      },
      "source": [
        ""
      ],
      "execution_count": null,
      "outputs": []
    },
    {
      "cell_type": "code",
      "metadata": {
        "colab": {
          "base_uri": "https://localhost:8080/"
        },
        "id": "Sl7pQfFjc3lV",
        "outputId": "9ea590af-dcbf-44af-9d7c-6f62308ced24"
      },
      "source": [
        "import numpy as np\n",
        "nums = [1,2,3,4]\n",
        "new_nums = []\n",
        "for i in nums:\n",
        "  print(i)\n",
        "  temp_nums = nums.copy()\n",
        "  temp_nums.remove(i)\n",
        "  print(temp_nums)\n",
        "  print(np.product(temp_nums))\n",
        "  new_nums.append(np.product(temp_nums))"
      ],
      "execution_count": 24,
      "outputs": [
        {
          "output_type": "stream",
          "name": "stdout",
          "text": [
            "1\n",
            "[2, 3, 4]\n",
            "24\n",
            "2\n",
            "[1, 3, 4]\n",
            "12\n",
            "3\n",
            "[1, 2, 4]\n",
            "8\n",
            "4\n",
            "[1, 2, 3]\n",
            "6\n"
          ]
        }
      ]
    },
    {
      "cell_type": "code",
      "metadata": {
        "colab": {
          "base_uri": "https://localhost:8080/"
        },
        "id": "eJm7tyEFf1ze",
        "outputId": "0857039d-40b9-4dad-df2e-48e8296903bc"
      },
      "source": [
        "import numpy as np\n",
        "nums = [-1,1,0,-3,3]\n",
        "new_nums = []\n",
        "for i, n in enumerate(nums):\n",
        "  print(nums[:i]+nums[i+1:len(nums)], np.product(nums[:i]+nums[i+1:len(nums)]))"
      ],
      "execution_count": 52,
      "outputs": [
        {
          "output_type": "stream",
          "name": "stdout",
          "text": [
            "[1, 0, -3, 3] 0\n",
            "[-1, 0, -3, 3] 0\n",
            "[-1, 1, -3, 3] 9\n",
            "[-1, 1, 0, 3] 0\n",
            "[-1, 1, 0, -3] 0\n"
          ]
        }
      ]
    },
    {
      "cell_type": "code",
      "metadata": {
        "colab": {
          "base_uri": "https://localhost:8080/"
        },
        "id": "EkOn1XPYgdZU",
        "outputId": "3cce0ed5-79cc-41f4-c9fe-de678980296b"
      },
      "source": [
        "nums = [-1,1,0,-3,3]\n",
        "[np.product(nums[:i]+nums[i+1:len(nums)]) for i, n in enumerate(nums)]"
      ],
      "execution_count": 53,
      "outputs": [
        {
          "output_type": "execute_result",
          "data": {
            "text/plain": [
              "[0, 0, 9, 0, 0]"
            ]
          },
          "metadata": {},
          "execution_count": 53
        }
      ]
    },
    {
      "cell_type": "code",
      "metadata": {
        "colab": {
          "base_uri": "https://localhost:8080/"
        },
        "id": "WC4vCAhXeOoh",
        "outputId": "9457ad32-5672-4e66-916c-e03824f2b78c"
      },
      "source": [
        "new_nums"
      ],
      "execution_count": 25,
      "outputs": [
        {
          "output_type": "execute_result",
          "data": {
            "text/plain": [
              "[24, 12, 8, 6]"
            ]
          },
          "metadata": {},
          "execution_count": 25
        }
      ]
    },
    {
      "cell_type": "code",
      "metadata": {
        "colab": {
          "base_uri": "https://localhost:8080/"
        },
        "id": "lN1kM2zKePP3",
        "outputId": "a3696076-a945-4482-f196-d0f4f7a00891"
      },
      "source": [
        "nums = [-1,1,0,-3,3]\n",
        "\n",
        "out = []\n",
        "p = 1\n",
        "# 왼쪽 곱셈\n",
        "for i in range(0, len(nums)):\n",
        "    out.append(p)\n",
        "    p = p * nums[i]\n",
        "    print(out)\n",
        "p = 1\n",
        "# 왼쪽 곱셈 결과에 오른쪽 값을 차례대로 곱셈\n",
        "for i in range(len(nums) - 1, 0 - 1, -1):\n",
        "  print('second')\n",
        "  out[i] = out[i] * p\n",
        "  p = p * nums[i]\n",
        "  print(out)"
      ],
      "execution_count": 56,
      "outputs": [
        {
          "output_type": "stream",
          "name": "stdout",
          "text": [
            "[1]\n",
            "[1, -1]\n",
            "[1, -1, -1]\n",
            "[1, -1, -1, 0]\n",
            "[1, -1, -1, 0, 0]\n",
            "second\n",
            "[1, -1, -1, 0, 0]\n",
            "second\n",
            "[1, -1, -1, 0, 0]\n",
            "second\n",
            "[1, -1, 9, 0, 0]\n",
            "second\n",
            "[1, 0, 9, 0, 0]\n",
            "second\n",
            "[0, 0, 9, 0, 0]\n"
          ]
        }
      ]
    },
    {
      "cell_type": "code",
      "metadata": {
        "id": "LPhP10HAlpug"
      },
      "source": [
        ""
      ],
      "execution_count": null,
      "outputs": []
    }
  ]
}