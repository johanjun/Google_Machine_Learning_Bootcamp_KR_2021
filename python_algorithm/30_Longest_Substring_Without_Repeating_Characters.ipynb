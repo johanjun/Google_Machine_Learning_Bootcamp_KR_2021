{
  "nbformat": 4,
  "nbformat_minor": 0,
  "metadata": {
    "colab": {
      "name": "30. Longest Substring Without Repeating Characters.ipynb",
      "provenance": [],
      "collapsed_sections": [],
      "authorship_tag": "ABX9TyMtseuvr6XHtRfPfx6LszDi",
      "include_colab_link": true
    },
    "kernelspec": {
      "name": "python3",
      "display_name": "Python 3"
    },
    "language_info": {
      "name": "python"
    }
  },
  "cells": [
    {
      "cell_type": "markdown",
      "metadata": {
        "id": "view-in-github",
        "colab_type": "text"
      },
      "source": [
        "<a href=\"https://colab.research.google.com/github/johanjun/Google_Machine_Learning_Bootcamp_KR_2021/blob/main/python_algorithm/30_Longest_Substring_Without_Repeating_Characters.ipynb\" target=\"_parent\"><img src=\"https://colab.research.google.com/assets/colab-badge.svg\" alt=\"Open In Colab\"/></a>"
      ]
    },
    {
      "cell_type": "markdown",
      "metadata": {
        "id": "9CWgZBJ4I15b"
      },
      "source": [
        "Given a string s, find the length of the longest substring without repeating characters.\n",
        "\n",
        " \n",
        "```\n",
        "Example 1:\n",
        "\n",
        "Input: s = \"abcabcbb\"\n",
        "Output: 3\n",
        "Explanation: The answer is \"abc\", with the length of 3.\n",
        "Example 2:\n",
        "\n",
        "Input: s = \"bbbbb\"\n",
        "Output: 1\n",
        "Explanation: The answer is \"b\", with the length of 1.\n",
        "Example 3:\n",
        "\n",
        "Input: s = \"pwwkew\"\n",
        "Output: 3\n",
        "Explanation: The answer is \"wke\", with the length of 3.\n",
        "Notice that the answer must be a substring, \"pwke\" is a subsequence and not a substring.\n",
        "Example 4:\n",
        "\n",
        "Input: s = \"\"\n",
        "Output: 0\n",
        "```\n",
        "```\n",
        "Constraints:\n",
        "\n",
        "0 <= s.length <= 5 * 104\n",
        "s consists of English letters, digits, symbols and spaces.\n",
        "```"
      ]
    },
    {
      "cell_type": "code",
      "metadata": {
        "id": "V6fNSZpDI8yp"
      },
      "source": [
        "s = \"abcabcbb\""
      ],
      "execution_count": 1,
      "outputs": []
    },
    {
      "cell_type": "code",
      "metadata": {
        "colab": {
          "base_uri": "https://localhost:8080/"
        },
        "id": "J4AyySgHJkSY",
        "outputId": "146d00b8-f62d-436b-d87c-5bb9b991c5ad"
      },
      "source": [
        "check = s[0]\n",
        "longest = ''\n",
        "print(check)\n",
        "for _ in s[1:]:\n",
        "  print(_, check)\n",
        "  if _ not in check:\n",
        "    check = check + _\n",
        "  elif _ in check:\n",
        "    if len(check) > len(longest):\n",
        "      longest = check\n",
        "    check = _"
      ],
      "execution_count": 7,
      "outputs": [
        {
          "output_type": "stream",
          "name": "stdout",
          "text": [
            "a\n",
            "b a\n",
            "c ab\n",
            "a abc\n",
            "b a\n",
            "c ab\n",
            "b abc\n",
            "b b\n"
          ]
        }
      ]
    },
    {
      "cell_type": "code",
      "metadata": {
        "colab": {
          "base_uri": "https://localhost:8080/",
          "height": 35
        },
        "id": "x3Dw5JfaJ8Uc",
        "outputId": "83cada09-8312-436e-d16f-8a51fdcaad0b"
      },
      "source": [
        "longest"
      ],
      "execution_count": 8,
      "outputs": [
        {
          "output_type": "execute_result",
          "data": {
            "application/vnd.google.colaboratory.intrinsic+json": {
              "type": "string"
            },
            "text/plain": [
              "'abc'"
            ]
          },
          "metadata": {},
          "execution_count": 8
        }
      ]
    },
    {
      "cell_type": "code",
      "metadata": {
        "id": "asN6YHUEJ8_2"
      },
      "source": [
        "s = \"bbbbb\""
      ],
      "execution_count": 9,
      "outputs": []
    },
    {
      "cell_type": "code",
      "metadata": {
        "colab": {
          "base_uri": "https://localhost:8080/"
        },
        "id": "ba_3TaYIKqPz",
        "outputId": "46535867-3b4d-45af-e38b-b4c999f85cd2"
      },
      "source": [
        "check = s[0]\n",
        "longest = ''\n",
        "print(check)\n",
        "for _ in s[1:]:\n",
        "  print(_, check)\n",
        "  if _ not in check:\n",
        "    check = check + _\n",
        "  elif _ in check:\n",
        "    if len(check) > len(longest):\n",
        "      longest = check\n",
        "    check = _"
      ],
      "execution_count": 10,
      "outputs": [
        {
          "output_type": "stream",
          "name": "stdout",
          "text": [
            "b\n",
            "b b\n",
            "b b\n",
            "b b\n",
            "b b\n"
          ]
        }
      ]
    },
    {
      "cell_type": "code",
      "metadata": {
        "colab": {
          "base_uri": "https://localhost:8080/",
          "height": 35
        },
        "id": "MBj_8titKrPb",
        "outputId": "97166876-4af3-422b-964a-88a05e4c9cb3"
      },
      "source": [
        "longest"
      ],
      "execution_count": 11,
      "outputs": [
        {
          "output_type": "execute_result",
          "data": {
            "application/vnd.google.colaboratory.intrinsic+json": {
              "type": "string"
            },
            "text/plain": [
              "'b'"
            ]
          },
          "metadata": {},
          "execution_count": 11
        }
      ]
    },
    {
      "cell_type": "code",
      "metadata": {
        "id": "eLVuvg1RKsKy"
      },
      "source": [
        "s = \"pwwkew\""
      ],
      "execution_count": 12,
      "outputs": []
    },
    {
      "cell_type": "code",
      "metadata": {
        "colab": {
          "base_uri": "https://localhost:8080/"
        },
        "id": "bKP1AXB9KumA",
        "outputId": "c9952949-f698-4176-fd73-6d4091530ed9"
      },
      "source": [
        "check = s[0]\n",
        "longest = ''\n",
        "print(check)\n",
        "for _ in s[1:]:\n",
        "  print(_, check)\n",
        "  if _ not in check:\n",
        "    check = check + _\n",
        "  elif _ in check:\n",
        "    if len(check) > len(longest):\n",
        "      longest = check\n",
        "    check = _"
      ],
      "execution_count": 13,
      "outputs": [
        {
          "output_type": "stream",
          "name": "stdout",
          "text": [
            "p\n",
            "w p\n",
            "w pw\n",
            "k w\n",
            "e wk\n",
            "w wke\n"
          ]
        }
      ]
    },
    {
      "cell_type": "code",
      "metadata": {
        "colab": {
          "base_uri": "https://localhost:8080/",
          "height": 35
        },
        "id": "oawjXfHQKvnz",
        "outputId": "4df281a4-995b-480e-edd0-ae707e92888b"
      },
      "source": [
        "longest"
      ],
      "execution_count": 14,
      "outputs": [
        {
          "output_type": "execute_result",
          "data": {
            "application/vnd.google.colaboratory.intrinsic+json": {
              "type": "string"
            },
            "text/plain": [
              "'wke'"
            ]
          },
          "metadata": {},
          "execution_count": 14
        }
      ]
    },
    {
      "cell_type": "code",
      "metadata": {
        "colab": {
          "base_uri": "https://localhost:8080/"
        },
        "id": "mbiKM22yKwtk",
        "outputId": "907fc3ea-f226-481c-d3d2-d91460034dd2"
      },
      "source": [
        "s = \"abcabcbb\"\n",
        "\n",
        "if len(s) == 0:\n",
        "  print(\"0\")\n",
        "elif len(s) == 1:\n",
        "  print(\"1\")\n",
        "check = s[0]\n",
        "longest = ''\n",
        "print(\"s[0] : \", check)\n",
        "for _ in s[1:]:\n",
        "  print(_, check)\n",
        "  if _ not in check:\n",
        "    check = check + _\n",
        "    print('check1:', check)\n",
        "  elif _ in check:\n",
        "    if len(check) > len(longest):\n",
        "      longest = check\n",
        "    check = _\n",
        "    print('check2:', check, 'longest:', longest)\n",
        "  # longest = check\n",
        "len(longest)"
      ],
      "execution_count": 47,
      "outputs": [
        {
          "output_type": "stream",
          "name": "stdout",
          "text": [
            "s[0] :  a\n",
            "b a\n",
            "check1: ab\n",
            "c ab\n",
            "check1: abc\n",
            "a abc\n",
            "check2: a longest: abc\n",
            "b a\n",
            "check1: ab\n",
            "c ab\n",
            "check1: abc\n",
            "b abc\n",
            "check2: b longest: abc\n",
            "b b\n",
            "check2: b longest: abc\n"
          ]
        },
        {
          "output_type": "execute_result",
          "data": {
            "text/plain": [
              "3"
            ]
          },
          "metadata": {},
          "execution_count": 47
        }
      ]
    },
    {
      "cell_type": "code",
      "metadata": {
        "colab": {
          "base_uri": "https://localhost:8080/"
        },
        "id": "Rnnl2D59MYDx",
        "outputId": "95a2565f-75d8-43e2-c412-3e303fd360de"
      },
      "source": [
        "s = \"au\"\n",
        "if len(s) == 0:\n",
        "  print(\"0\")\n",
        "elif len(s) == 1:\n",
        "  print(\"1\")\n",
        "check = s[0]\n",
        "longest = ''\n",
        "print(\"s[0] : \", check)\n",
        "for _ in s[1:]:\n",
        "  print(_, check)\n",
        "  if _ not in check:\n",
        "    check = check + _\n",
        "    print('check1:', check)\n",
        "    if len(check) > len(longest):\n",
        "      longest = check\n",
        "  elif _ in check:\n",
        "    if len(check) > len(longest):\n",
        "      longest = check\n",
        "    check = _\n",
        "    print('check2:', check, 'longest:', longest)\n",
        "len(longest)"
      ],
      "execution_count": 50,
      "outputs": [
        {
          "output_type": "stream",
          "name": "stdout",
          "text": [
            "s[0] :  a\n",
            "u a\n",
            "check1: au\n"
          ]
        },
        {
          "output_type": "execute_result",
          "data": {
            "text/plain": [
              "2"
            ]
          },
          "metadata": {},
          "execution_count": 50
        }
      ]
    },
    {
      "cell_type": "code",
      "metadata": {
        "colab": {
          "base_uri": "https://localhost:8080/"
        },
        "id": "wbXKasVGK0oZ",
        "outputId": "0de1026a-b5a2-4ca6-f7c5-f3cc6bbc9a2f"
      },
      "source": [
        "s = \"dvdf\"\n",
        "if len(s) == 0:\n",
        "  print(\"0\")\n",
        "elif len(s) == 1:\n",
        "  print(\"1\")\n",
        "check = s[0]\n",
        "longest = ''\n",
        "print(\"s[0] : \", check)\n",
        "for _ in s[1:]:\n",
        "  print(_, check)\n",
        "  if _ not in check:\n",
        "    check = check + _\n",
        "    print('check1:', check)\n",
        "    if len(check) > len(longest):\n",
        "      longest = check\n",
        "  elif _ in check:\n",
        "    if len(check) > len(longest):\n",
        "      longest = check\n",
        "    check = _\n",
        "    print('check2:', check, 'longest:', longest)\n",
        "print(len(longest), longest)"
      ],
      "execution_count": 52,
      "outputs": [
        {
          "output_type": "stream",
          "name": "stdout",
          "text": [
            "s[0] :  d\n",
            "v d\n",
            "check1: dv\n",
            "d dv\n",
            "check2: d longest: dv\n",
            "f d\n",
            "check1: df\n",
            "2 dv\n"
          ]
        }
      ]
    },
    {
      "cell_type": "code",
      "metadata": {
        "id": "FgdmtpHoSi0K"
      },
      "source": [
        "#solution\n",
        "class Solution:\n",
        "    def lengthOfLongestSubstring(self, s: str) -> int:\n",
        "        used = {}\n",
        "        max_length = start = 0\n",
        "        for index, char in enumerate(s):\n",
        "            # 이미 등장했던 문자라면 `start` 위치 갱신\n",
        "            if char in used and start <= used[char]:\n",
        "                start = used[char] + 1\n",
        "            else:  # 최대 부분 문자열 길이 갱신\n",
        "                max_length = max(max_length, index - start + 1)\n",
        "\n",
        "            # 현재 문자의 위치 삽입\n",
        "            used[char] = index\n",
        "\n",
        "        return max_length"
      ],
      "execution_count": null,
      "outputs": []
    }
  ]
}