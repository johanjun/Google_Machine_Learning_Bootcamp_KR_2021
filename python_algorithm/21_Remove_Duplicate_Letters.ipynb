{
  "nbformat": 4,
  "nbformat_minor": 0,
  "metadata": {
    "colab": {
      "name": "21. Remove Duplicate Letters.ipynb",
      "provenance": [],
      "authorship_tag": "ABX9TyMHmloX3zZQB7ZxJMZ18Olb",
      "include_colab_link": true
    },
    "kernelspec": {
      "name": "python3",
      "display_name": "Python 3"
    },
    "language_info": {
      "name": "python"
    }
  },
  "cells": [
    {
      "cell_type": "markdown",
      "metadata": {
        "id": "view-in-github",
        "colab_type": "text"
      },
      "source": [
        "<a href=\"https://colab.research.google.com/github/johanjun/Google_Machine_Learning_Bootcamp_KR_2021/blob/main/python_algorithm/21_Remove_Duplicate_Letters.ipynb\" target=\"_parent\"><img src=\"https://colab.research.google.com/assets/colab-badge.svg\" alt=\"Open In Colab\"/></a>"
      ]
    },
    {
      "cell_type": "markdown",
      "metadata": {
        "id": "UdqqveTSgRfs"
      },
      "source": [
        "Given a string s, remove duplicate letters so that every letter appears once and only once. You must make sure your result is the smallest in lexicographical order among all possible results.\n",
        "\n",
        " \n",
        "```\n",
        "Example 1:\n",
        "\n",
        "Input: s = \"bcabc\"\n",
        "Output: \"abc\"\n",
        "Example 2:\n",
        "\n",
        "Input: s = \"cbacdcbc\"\n",
        "Output: \"acdb\"\n",
        " ```\n",
        "\n",
        "```\n",
        "Constraints:\n",
        "\n",
        "1 <= s.length <= 104\n",
        "s consists of lowercase English letters.\n",
        "```"
      ]
    },
    {
      "cell_type": "code",
      "metadata": {
        "colab": {
          "base_uri": "https://localhost:8080/"
        },
        "id": "cLh2gsExgsdT",
        "outputId": "70fb83c3-fb52-42b0-8c5a-dd00aaabf392"
      },
      "source": [
        "set(s)"
      ],
      "execution_count": null,
      "outputs": [
        {
          "output_type": "execute_result",
          "data": {
            "text/plain": [
              "{'a', 'b', 'c'}"
            ]
          },
          "metadata": {},
          "execution_count": 10
        }
      ]
    },
    {
      "cell_type": "code",
      "metadata": {
        "colab": {
          "base_uri": "https://localhost:8080/"
        },
        "id": "k4u9NJkegtEc",
        "outputId": "8e751876-9ed9-4a00-d08b-1e2c73eb16cd"
      },
      "source": [
        "sorted(list(set(s)))"
      ],
      "execution_count": null,
      "outputs": [
        {
          "output_type": "execute_result",
          "data": {
            "text/plain": [
              "['a', 'b', 'c']"
            ]
          },
          "metadata": {},
          "execution_count": 12
        }
      ]
    },
    {
      "cell_type": "code",
      "metadata": {
        "id": "6m4ayQiKgzX4"
      },
      "source": [
        "answer = ''\n",
        "for i in sorted(list(set(s))):\n",
        "   answer += i"
      ],
      "execution_count": null,
      "outputs": []
    },
    {
      "cell_type": "code",
      "metadata": {
        "colab": {
          "base_uri": "https://localhost:8080/",
          "height": 35
        },
        "id": "_7BGyPiOhFYJ",
        "outputId": "ae34e3de-5b9a-41c4-fb1d-28899fa8a511"
      },
      "source": [
        "answer"
      ],
      "execution_count": null,
      "outputs": [
        {
          "output_type": "execute_result",
          "data": {
            "application/vnd.google.colaboratory.intrinsic+json": {
              "type": "string"
            },
            "text/plain": [
              "'abc'"
            ]
          },
          "metadata": {},
          "execution_count": 14
        }
      ]
    },
    {
      "cell_type": "code",
      "metadata": {
        "colab": {
          "base_uri": "https://localhost:8080/"
        },
        "id": "_EY1Xfx_ni2g",
        "outputId": "e7a29f5c-983f-4113-c8f0-3435db418cd7"
      },
      "source": [
        "answer_list"
      ],
      "execution_count": null,
      "outputs": [
        {
          "output_type": "execute_result",
          "data": {
            "text/plain": [
              "['bca', 'cab', 'abc']"
            ]
          },
          "metadata": {},
          "execution_count": 64
        }
      ]
    },
    {
      "cell_type": "code",
      "metadata": {
        "id": "dLXB_rSYgh8y"
      },
      "source": [
        "s = \"bcabc\""
      ],
      "execution_count": null,
      "outputs": []
    },
    {
      "cell_type": "code",
      "metadata": {
        "colab": {
          "base_uri": "https://localhost:8080/"
        },
        "id": "DnAAtDZNhF0z",
        "outputId": "26ac5e02-d74a-4351-f1f7-7a0e216e10ad"
      },
      "source": [
        "# answer = ''\n",
        "answer_list = []\n",
        "for i in range(0, len(s)-1):\n",
        "  answer = ''\n",
        "  if len(set(s[i:])) < len(list(set(s))):\n",
        "    break\n",
        "  print('s[i:]: ', s[i:])\n",
        "  for j in s[i:]:\n",
        "    if j not in list(answer):\n",
        "      answer += j\n",
        "    print('answer: ',answer)\n",
        "  answer_list.append(answer)"
      ],
      "execution_count": null,
      "outputs": [
        {
          "output_type": "stream",
          "name": "stdout",
          "text": [
            "s[i:]:  ecbacba\n",
            "answer:  e\n",
            "answer:  ec\n",
            "answer:  ecb\n",
            "answer:  ecba\n",
            "answer:  ecba\n",
            "answer:  ecba\n",
            "answer:  ecba\n"
          ]
        }
      ]
    },
    {
      "cell_type": "code",
      "metadata": {
        "colab": {
          "base_uri": "https://localhost:8080/",
          "height": 35
        },
        "id": "mdLlNF1Mjy9E",
        "outputId": "28bbcd2d-8b74-40ce-ac64-b9c07f6cac05"
      },
      "source": [
        "sorted(answer_list)[0]"
      ],
      "execution_count": null,
      "outputs": [
        {
          "output_type": "execute_result",
          "data": {
            "application/vnd.google.colaboratory.intrinsic+json": {
              "type": "string"
            },
            "text/plain": [
              "'abc'"
            ]
          },
          "metadata": {},
          "execution_count": 65
        }
      ]
    },
    {
      "cell_type": "code",
      "metadata": {
        "id": "nLdJzaLvj6aH"
      },
      "source": [
        "answer_list = []\n",
        "for i in range(0, len(s)-1):\n",
        "    answer = ''\n",
        "    if len(set(s[i:])) <= len(list(set(s))):\n",
        "        break\n",
        "    print('s[i:]: ', s[i:])\n",
        "    for j in s[i:]:\n",
        "        if j not in list(answer):\n",
        "            answer += j\n",
        "        print('answer: ',answer)\n",
        "    answer_list.append(answer)"
      ],
      "execution_count": null,
      "outputs": []
    },
    {
      "cell_type": "code",
      "metadata": {
        "colab": {
          "base_uri": "https://localhost:8080/"
        },
        "id": "R8TR7jG3oruW",
        "outputId": "3a80a48d-b3c8-4226-f9a5-10e883cbf9f8"
      },
      "source": [
        "answer_list"
      ],
      "execution_count": null,
      "outputs": [
        {
          "output_type": "execute_result",
          "data": {
            "text/plain": [
              "[]"
            ]
          },
          "metadata": {},
          "execution_count": 67
        }
      ]
    },
    {
      "cell_type": "code",
      "metadata": {
        "id": "kCoRacuCosgQ"
      },
      "source": [
        "#solution\n",
        "import collections\n",
        "\n",
        "\n",
        "class Solution:\n",
        "    def removeDuplicateLetters(self, s: str) -> str:\n",
        "        counter, seen, stack = collections.Counter(s), set(), []\n",
        "\n",
        "        for char in s:\n",
        "            counter[char] -= 1\n",
        "            if char in seen:\n",
        "                continue\n",
        "            # 뒤에 붙일 문자가 남아 있다면 스택에서 제거\n",
        "            while stack and char < stack[-1] and counter[stack[-1]] > 0:\n",
        "                seen.remove(stack.pop())\n",
        "            stack.append(char)\n",
        "            seen.add(char)\n",
        "\n",
        "        return ''.join(stack)"
      ],
      "execution_count": null,
      "outputs": []
    }
  ]
}