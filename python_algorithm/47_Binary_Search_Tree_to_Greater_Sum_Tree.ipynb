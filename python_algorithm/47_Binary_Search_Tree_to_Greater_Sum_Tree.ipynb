{
  "nbformat": 4,
  "nbformat_minor": 0,
  "metadata": {
    "colab": {
      "name": "47. Binary Search Tree to Greater Sum Tree.ipynb",
      "provenance": [],
      "authorship_tag": "ABX9TyNiatPMuaEJsL/GPT42s8HF",
      "include_colab_link": true
    },
    "kernelspec": {
      "name": "python3",
      "display_name": "Python 3"
    },
    "language_info": {
      "name": "python"
    }
  },
  "cells": [
    {
      "cell_type": "markdown",
      "metadata": {
        "id": "view-in-github",
        "colab_type": "text"
      },
      "source": [
        "<a href=\"https://colab.research.google.com/github/johanjun/Google_Machine_Learning_Bootcamp_KR_2021/blob/main/python_algorithm/47_Binary_Search_Tree_to_Greater_Sum_Tree.ipynb\" target=\"_parent\"><img src=\"https://colab.research.google.com/assets/colab-badge.svg\" alt=\"Open In Colab\"/></a>"
      ]
    },
    {
      "cell_type": "markdown",
      "metadata": {
        "id": "8JXPxhZ7aYbt"
      },
      "source": [
        "Given the root of a Binary Search Tree (BST), convert it to a Greater Tree such that every key of the original BST is changed to the original key plus the sum of all keys greater than the original key in BST.\n",
        "\n",
        "As a reminder, a binary search tree is a tree that satisfies these constraints:\n",
        "\n",
        "The left subtree of a node contains only nodes with keys less than the node's key.\n",
        "The right subtree of a node contains only nodes with keys greater than the node's key.\n",
        "Both the left and right subtrees must also be binary search trees.\n",
        " \n",
        "```\n",
        "Example 1:\n",
        "\n",
        "\n",
        "Input: root = [4,1,6,0,2,5,7,null,null,null,3,null,null,null,8]\n",
        "Output: [30,36,21,36,35,26,15,null,null,null,33,null,null,null,8]\n",
        "Example 2:\n",
        "\n",
        "Input: root = [0,null,1]\n",
        "Output: [1,null,1]\n",
        "Example 3:\n",
        "\n",
        "Input: root = [1,0,2]\n",
        "Output: [3,3,2]\n",
        "Example 4:\n",
        "\n",
        "Input: root = [3,2,4,1]\n",
        "Output: [7,9,4,10]\n",
        "```\n",
        " \n",
        "```\n",
        "Constraints:\n",
        "\n",
        "The number of nodes in the tree is in the range [1, 100].\n",
        "0 <= Node.val <= 100\n",
        "All the values in the tree are unique.\n",
        "root is guaranteed to be a valid binary search tree.\n",
        "```"
      ]
    },
    {
      "cell_type": "code",
      "metadata": {
        "id": "9172KWexadZk"
      },
      "source": [
        "class TreeNode(object):\n",
        "    def __init__(self, x):\n",
        "        self.val = x\n",
        "        self.left = None\n",
        "        self.right = None"
      ],
      "execution_count": 1,
      "outputs": []
    },
    {
      "cell_type": "code",
      "metadata": {
        "id": "5bpbUv4EbPcG"
      },
      "source": [
        "#solution\n",
        "\n",
        "# Definition for a binary tree node.\n",
        "# class TreeNode:\n",
        "#     def __init__(self, val=0, left=None, right=None):\n",
        "#         self.val = val\n",
        "#         self.left = left\n",
        "#         self.right = right\n",
        "class Solution:\n",
        "    val : int = 0\n",
        "\n",
        "    def bstToGst(self, root: TreeNode) -> TreeNode:\n",
        "        if root:\n",
        "            self.bstToGst(root.right)\n",
        "            self.val += root.val\n",
        "            root.val = self.val\n",
        "            self.bstToGst(root.left)\n",
        "        return root"
      ],
      "execution_count": null,
      "outputs": []
    }
  ]
}