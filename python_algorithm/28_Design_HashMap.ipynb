{
  "nbformat": 4,
  "nbformat_minor": 0,
  "metadata": {
    "colab": {
      "name": "28. Design HashMap.ipynb",
      "provenance": [],
      "collapsed_sections": [],
      "authorship_tag": "ABX9TyNOY6i67ld7DcIXpEvTU9tq",
      "include_colab_link": true
    },
    "kernelspec": {
      "name": "python3",
      "display_name": "Python 3"
    },
    "language_info": {
      "name": "python"
    }
  },
  "cells": [
    {
      "cell_type": "markdown",
      "metadata": {
        "id": "view-in-github",
        "colab_type": "text"
      },
      "source": [
        "<a href=\"https://colab.research.google.com/github/johanjun/Google_Machine_Learning_Bootcamp_KR_2021/blob/main/python_algorithm/28_Design_HashMap.ipynb\" target=\"_parent\"><img src=\"https://colab.research.google.com/assets/colab-badge.svg\" alt=\"Open In Colab\"/></a>"
      ]
    },
    {
      "cell_type": "markdown",
      "metadata": {
        "id": "_FSl_xuig6IB"
      },
      "source": [
        "Design a HashMap without using any built-in hash table libraries.\n",
        "\n",
        "Implement the MyHashMap class:\n",
        "\n",
        "MyHashMap() initializes the object with an empty map.\n",
        "void put(int key, int value) inserts a (key, value) pair into the HashMap. If the key already exists in the map, update the corresponding value.\n",
        "int get(int key) returns the value to which the specified key is mapped, or -1 if this map contains no mapping for the key.\n",
        "void remove(key) removes the key and its corresponding value if the map contains the mapping for the key.\n",
        " \n",
        "```\n",
        "Example 1:\n",
        "\n",
        "Input\n",
        "[\"MyHashMap\", \"put\", \"put\", \"get\", \"get\", \"put\", \"get\", \"remove\", \"get\"]\n",
        "[[], [1, 1], [2, 2], [1], [3], [2, 1], [2], [2], [2]]\n",
        "Output\n",
        "[null, null, null, 1, -1, null, 1, null, -1]\n",
        "\n",
        "Explanation\n",
        "MyHashMap myHashMap = new MyHashMap();\n",
        "myHashMap.put(1, 1); // The map is now [[1,1]]\n",
        "myHashMap.put(2, 2); // The map is now [[1,1], [2,2]]\n",
        "myHashMap.get(1);    // return 1, The map is now [[1,1], [2,2]]\n",
        "myHashMap.get(3);    // return -1 (i.e., not found), The map is now [[1,1], [2,2]]\n",
        "myHashMap.put(2, 1); // The map is now [[1,1], [2,1]] (i.e., update the existing value)\n",
        "myHashMap.get(2);    // return 1, The map is now [[1,1], [2,1]]\n",
        "myHashMap.remove(2); // remove the mapping for 2, The map is now [[1,1]]\n",
        "myHashMap.get(2);    // return -1 (i.e., not found), The map is now [[1,1]]\n",
        " ```\n",
        "```\n",
        "Constraints:\n",
        "\n",
        "0 <= key, value <= 106\n",
        "At most 104 calls will be made to put, get, and remove.\n",
        "```"
      ]
    },
    {
      "cell_type": "code",
      "metadata": {
        "id": "ffMWzKGwhaSH"
      },
      "source": [
        "a_dictionary = {\"a\": 1, \"b\": 2}"
      ],
      "execution_count": null,
      "outputs": []
    },
    {
      "cell_type": "code",
      "metadata": {
        "id": "yfqmVbu4it1t",
        "colab": {
          "base_uri": "https://localhost:8080/"
        },
        "outputId": "9ade5ae5-ff88-4790-f351-6004a511b6a9"
      },
      "source": [
        "a_dictionary['a']"
      ],
      "execution_count": null,
      "outputs": [
        {
          "output_type": "execute_result",
          "data": {
            "text/plain": [
              "1"
            ]
          },
          "metadata": {},
          "execution_count": 12
        }
      ]
    },
    {
      "cell_type": "code",
      "metadata": {
        "id": "n_5p9l6xivMg"
      },
      "source": [
        "class MyHashMap:\n",
        "\n",
        "    def __init__(self):\n",
        "        self.myhashmap : dict = {}\n",
        "        # print(self.myhashmap)\n",
        "\n",
        "    def put(self, key: int, value: int) -> None:\n",
        "        self.myhashmap[str(key)] = value\n",
        "        del key, value\n",
        "        # print(self.myhashmap)\n",
        "\n",
        "    def get(self, key: int) -> int:\n",
        "        if str(key) in self.myhashmap.keys():\n",
        "            return self.myhashmap[str(key)]\n",
        "        else:\n",
        "            return -1\n",
        "\n",
        "    def remove(self, key: int) -> None:\n",
        "        if str(key) in self.myhashmap.keys():\n",
        "            del self.myhashmap[str(key)]\n",
        "        else:\n",
        "            return -1\n",
        "        \n",
        "\n",
        "\n",
        "# Your MyHashMap object will be instantiated and called as such:\n",
        "# obj = MyHashMap()\n",
        "# obj.put(key,value)\n",
        "# param_2 = obj.get(key)\n",
        "# obj.remove(key)"
      ],
      "execution_count": null,
      "outputs": []
    }
  ]
}