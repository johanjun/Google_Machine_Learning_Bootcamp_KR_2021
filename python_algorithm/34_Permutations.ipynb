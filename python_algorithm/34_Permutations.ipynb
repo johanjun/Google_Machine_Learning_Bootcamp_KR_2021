{
  "nbformat": 4,
  "nbformat_minor": 0,
  "metadata": {
    "colab": {
      "name": "34. Permutations.ipynb",
      "provenance": [],
      "authorship_tag": "ABX9TyNmUafoiOZ4QePo5oOyWKyJ",
      "include_colab_link": true
    },
    "kernelspec": {
      "name": "python3",
      "display_name": "Python 3"
    },
    "language_info": {
      "name": "python"
    }
  },
  "cells": [
    {
      "cell_type": "markdown",
      "metadata": {
        "id": "view-in-github",
        "colab_type": "text"
      },
      "source": [
        "<a href=\"https://colab.research.google.com/github/johanjun/Google_Machine_Learning_Bootcamp_KR_2021/blob/main/python_algorithm/34_Permutations.ipynb\" target=\"_parent\"><img src=\"https://colab.research.google.com/assets/colab-badge.svg\" alt=\"Open In Colab\"/></a>"
      ]
    },
    {
      "cell_type": "markdown",
      "metadata": {
        "id": "XWhkAviPX1OS"
      },
      "source": [
        "Given an array nums of distinct integers, return all the possible permutations. You can return the answer in any order.\n",
        "\n",
        " \n",
        "```\n",
        "Example 1:\n",
        "\n",
        "Input: nums = [1,2,3]\n",
        "Output: [[1,2,3],[1,3,2],[2,1,3],[2,3,1],[3,1,2],[3,2,1]]\n",
        "Example 2:\n",
        "\n",
        "Input: nums = [0,1]\n",
        "Output: [[0,1],[1,0]]\n",
        "Example 3:\n",
        "\n",
        "Input: nums = [1]\n",
        "Output: [[1]]\n",
        " ```\n",
        "```\n",
        "Constraints:\n",
        "\n",
        "1 <= nums.length <= 6\n",
        "-10 <= nums[i] <= 10\n",
        "All the integers of nums are unique.\n",
        "```"
      ]
    },
    {
      "cell_type": "code",
      "metadata": {
        "id": "_bmMgWcBXyCO"
      },
      "source": [
        "import itertools\n",
        "class Solution:\n",
        "    def permute(self, nums: List[int]) -> List[List[int]]:\n",
        "        return itertools.permutations(nums, len(nums))"
      ],
      "execution_count": null,
      "outputs": []
    }
  ]
}