{
  "nbformat": 4,
  "nbformat_minor": 0,
  "metadata": {
    "colab": {
      "name": "43. Diameter of Binary Tree.ipynb",
      "provenance": [],
      "authorship_tag": "ABX9TyNAMZ9bo7TGR/PNy8bi5JmQ",
      "include_colab_link": true
    },
    "kernelspec": {
      "name": "python3",
      "display_name": "Python 3"
    },
    "language_info": {
      "name": "python"
    }
  },
  "cells": [
    {
      "cell_type": "markdown",
      "metadata": {
        "id": "view-in-github",
        "colab_type": "text"
      },
      "source": [
        "<a href=\"https://colab.research.google.com/github/johanjun/Google_Machine_Learning_Bootcamp_KR_2021/blob/main/python_algorithm/43_Diameter_of_Binary_Tree.ipynb\" target=\"_parent\"><img src=\"https://colab.research.google.com/assets/colab-badge.svg\" alt=\"Open In Colab\"/></a>"
      ]
    },
    {
      "cell_type": "markdown",
      "metadata": {
        "id": "kNSPgwJEpPbc"
      },
      "source": [
        "Given the root of a binary tree, return the length of the diameter of the tree.\n",
        "\n",
        "The diameter of a binary tree is the length of the longest path between any two nodes in a tree. This path may or may not pass through the root.\n",
        "\n",
        "The length of a path between two nodes is represented by the number of edges between them.\n",
        "\n",
        " \n",
        "```\n",
        "Example 1:\n",
        "\n",
        "\n",
        "Input: root = [1,2,3,4,5]\n",
        "Output: 3\n",
        "Explanation: 3 is the length of the path [4,2,1,3] or [5,2,1,3].\n",
        "Example 2:\n",
        "\n",
        "Input: root = [1,2]\n",
        "Output: 1\n",
        " ```\n",
        "```\n",
        "Constraints:\n",
        "\n",
        "The number of nodes in the tree is in the range [1, 104].\n",
        "-100 <= Node.val <= 100\n",
        "```"
      ]
    },
    {
      "cell_type": "code",
      "metadata": {
        "id": "t9QMbfMjpW-F"
      },
      "source": [
        "class TreeNode:\n",
        "    def __init__(self, val=0, left=None, right=None):\n",
        "        self.val = val\n",
        "        self.left = left\n",
        "        self.right = right"
      ],
      "execution_count": 1,
      "outputs": []
    },
    {
      "cell_type": "code",
      "metadata": {
        "id": "AmKM6PXbpmWg"
      },
      "source": [
        "root = TreeNode(val= 1,\n",
        "                left= TreeNode(val= 2, \n",
        "                               left= 4, \n",
        "                               right= 5),\n",
        "                right= TreeNode(val= 3,\n",
        "                                left= None,\n",
        "                                right= None))"
      ],
      "execution_count": 12,
      "outputs": []
    },
    {
      "cell_type": "code",
      "metadata": {
        "colab": {
          "base_uri": "https://localhost:8080/",
          "height": 198
        },
        "id": "Q_N0CUAap2DR",
        "outputId": "3060fe1c-d564-42e3-9de9-1224e4b77efa"
      },
      "source": [
        "node_count = 1\n",
        "root_right2 = 0\n",
        "root_left2 = 0\n",
        "\n",
        "if type(root.left) != int:\n",
        "  if root.left != None:\n",
        "    root_left1 = root.left\n",
        "    node_count += 1\n",
        "else:\n",
        "  root_left1 == None\n",
        "\n",
        "if type(root.right) != int:\n",
        "  if root.right != None:\n",
        "    root_right1 = root.right\n",
        "    node_count += 1\n",
        "else:\n",
        "  root_right1 == None\n",
        "\n",
        "while root_right1 != None or root_left1 != None or root_right2 != None or root_left2 != None:\n",
        "\n",
        "  if type(root_left1.left) != int:\n",
        "    if root_left1.left != None:\n",
        "      root_left1 = root_left1.left\n",
        "      node_count += 1\n",
        "  else:\n",
        "    root_left1 == None\n",
        "\n",
        "  if type(root_left1.right) != int:\n",
        "    if root_left1.right != None:\n",
        "      root_left2 = root_left1.right\n",
        "      node_count += 1\n",
        "  else:\n",
        "    root_left2 == None\n",
        "\n",
        "  if type(root_right1.left) != int:\n",
        "    if root_right1.left != None:\n",
        "      root_right1 = root_right1.left\n",
        "      node_count += 1\n",
        "  else:\n",
        "    root_right1 == None\n",
        "\n",
        "  if type(root_right1.right) != int:\n",
        "    if root_right1.right != None:\n",
        "      root_right2 = root_right1.right\n",
        "      node_count += 1\n",
        "  else:\n",
        "    root_right2 == None\n",
        "\n",
        "  print(root_left.left, root_left.right, root_right.left, root_right.right)"
      ],
      "execution_count": 13,
      "outputs": [
        {
          "output_type": "error",
          "ename": "AttributeError",
          "evalue": "ignored",
          "traceback": [
            "\u001b[0;31m---------------------------------------------------------------------------\u001b[0m",
            "\u001b[0;31mAttributeError\u001b[0m                            Traceback (most recent call last)",
            "\u001b[0;32m<ipython-input-13-b2fdcb10d9dc>\u001b[0m in \u001b[0;36m<module>\u001b[0;34m()\u001b[0m\n\u001b[1;32m     47\u001b[0m     \u001b[0mroot_right2\u001b[0m \u001b[0;34m==\u001b[0m \u001b[0;32mNone\u001b[0m\u001b[0;34m\u001b[0m\u001b[0;34m\u001b[0m\u001b[0m\n\u001b[1;32m     48\u001b[0m \u001b[0;34m\u001b[0m\u001b[0m\n\u001b[0;32m---> 49\u001b[0;31m   \u001b[0mprint\u001b[0m\u001b[0;34m(\u001b[0m\u001b[0mroot_left\u001b[0m\u001b[0;34m.\u001b[0m\u001b[0mleft\u001b[0m\u001b[0;34m,\u001b[0m \u001b[0mroot_left\u001b[0m\u001b[0;34m.\u001b[0m\u001b[0mright\u001b[0m\u001b[0;34m,\u001b[0m \u001b[0mroot_right\u001b[0m\u001b[0;34m.\u001b[0m\u001b[0mleft\u001b[0m\u001b[0;34m,\u001b[0m \u001b[0mroot_right\u001b[0m\u001b[0;34m.\u001b[0m\u001b[0mright\u001b[0m\u001b[0;34m)\u001b[0m\u001b[0;34m\u001b[0m\u001b[0;34m\u001b[0m\u001b[0m\n\u001b[0m",
            "\u001b[0;31mAttributeError\u001b[0m: 'int' object has no attribute 'left'"
          ]
        }
      ]
    },
    {
      "cell_type": "code",
      "metadata": {
        "id": "jjGekuJyqkxN"
      },
      "source": [
        "#solution\n",
        "class Solution:\n",
        "    longest: int = 0\n",
        "\n",
        "    def diameterOfBinaryTree(self, root: TreeNode) -> int:\n",
        "        def dfs(node: TreeNode) -> int:\n",
        "            if not node:\n",
        "                return -1\n",
        "            # 왼쪽, 오른쪽 각각 리프 노드까지 탐색\n",
        "            left = dfs(node.left)\n",
        "            right = dfs(node.right)\n",
        "\n",
        "            # 가장 긴 경로\n",
        "            self.longest = max(self.longest, left + right + 2)\n",
        "            # 상태값\n",
        "            return max(left, right) + 1\n",
        "\n",
        "        dfs(root)\n",
        "        return self.longest"
      ],
      "execution_count": null,
      "outputs": []
    }
  ]
}