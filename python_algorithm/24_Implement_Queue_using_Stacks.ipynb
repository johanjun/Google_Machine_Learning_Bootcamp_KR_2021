{
  "nbformat": 4,
  "nbformat_minor": 0,
  "metadata": {
    "colab": {
      "name": "24. Implement Queue using Stacks.ipynb",
      "provenance": [],
      "collapsed_sections": [],
      "authorship_tag": "ABX9TyPp8rRu0MrMGdNjTVvadb0y",
      "include_colab_link": true
    },
    "kernelspec": {
      "name": "python3",
      "display_name": "Python 3"
    },
    "language_info": {
      "name": "python"
    }
  },
  "cells": [
    {
      "cell_type": "markdown",
      "metadata": {
        "id": "view-in-github",
        "colab_type": "text"
      },
      "source": [
        "<a href=\"https://colab.research.google.com/github/johanjun/Google_Machine_Learning_Bootcamp_KR_2021/blob/main/python_algorithm/24_Implement_Queue_using_Stacks.ipynb\" target=\"_parent\"><img src=\"https://colab.research.google.com/assets/colab-badge.svg\" alt=\"Open In Colab\"/></a>"
      ]
    },
    {
      "cell_type": "markdown",
      "metadata": {
        "id": "7HrdLfIMq79r"
      },
      "source": [
        "Implement a first in first out (FIFO) queue using only two stacks. The implemented queue should support all the functions of a normal queue (push, peek, pop, and empty).\n",
        "\n",
        "Implement the MyQueue class:\n",
        "\n",
        "void push(int x) Pushes element x to the back of the queue.\n",
        "int pop() Removes the element from the front of the queue and returns it.\n",
        "int peek() Returns the element at the front of the queue.\n",
        "boolean empty() Returns true if the queue is empty, false otherwise.\n",
        "Notes:\n",
        "\n",
        "You must use only standard operations of a stack, which means only push to top, peek/pop from top, size, and is empty operations are valid.\n",
        "Depending on your language, the stack may not be supported natively. You may simulate a stack using a list or deque (double-ended queue) as long as you use only a stack's standard operations.\n",
        " \n",
        "```\n",
        "Example 1:\n",
        "\n",
        "Input\n",
        "[\"MyQueue\", \"push\", \"push\", \"peek\", \"pop\", \"empty\"]\n",
        "[[], [1], [2], [], [], []]\n",
        "Output\n",
        "[null, null, null, 1, 1, false]\n",
        "\n",
        "Explanation\n",
        "MyQueue myQueue = new MyQueue();\n",
        "myQueue.push(1); // queue is: [1]\n",
        "myQueue.push(2); // queue is: [1, 2] (leftmost is front of the queue)\n",
        "myQueue.peek(); // return 1\n",
        "myQueue.pop(); // return 1, queue is [2]\n",
        "myQueue.empty(); // return false\n",
        "```\n",
        "```\n",
        "Constraints:\n",
        "\n",
        "1 <= x <= 9\n",
        "At most 100 calls will be made to push, pop, peek, and empty.\n",
        "All the calls to pop and peek are valid.\n",
        "```"
      ]
    },
    {
      "cell_type": "code",
      "metadata": {
        "id": "epLdHF0GrEBx"
      },
      "source": [
        "class MyQueue:\n",
        "\n",
        "    def __init__(self):\n",
        "        self.queue = []\n",
        "\n",
        "    def push(self, x: int) -> None:\n",
        "        self.queue.append(x)\n",
        "\n",
        "    def pop(self) -> int:\n",
        "        return self.queue.pop(0)\n",
        "        \n",
        "\n",
        "    def peek(self) -> int:\n",
        "        return self.queue[0]\n",
        "\n",
        "    def empty(self) -> bool:\n",
        "        return self.queue == []\n",
        "        \n",
        "\n",
        "\n",
        "# Your MyQueue object will be instantiated and called as such:\n",
        "# obj = MyQueue()\n",
        "# obj.push(x)\n",
        "# param_2 = obj.pop()\n",
        "# param_3 = obj.peek()\n",
        "# param_4 = obj.empty()"
      ],
      "execution_count": null,
      "outputs": []
    }
  ]
}