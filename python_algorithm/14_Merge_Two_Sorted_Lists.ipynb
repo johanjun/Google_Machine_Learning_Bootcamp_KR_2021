{
  "nbformat": 4,
  "nbformat_minor": 0,
  "metadata": {
    "colab": {
      "name": "14.Merge Two Sorted Lists.ipynb",
      "provenance": [],
      "authorship_tag": "ABX9TyOPDpt4TJvmuG1dmyM7Ms8I",
      "include_colab_link": true
    },
    "kernelspec": {
      "name": "python3",
      "display_name": "Python 3"
    },
    "language_info": {
      "name": "python"
    }
  },
  "cells": [
    {
      "cell_type": "markdown",
      "metadata": {
        "id": "view-in-github",
        "colab_type": "text"
      },
      "source": [
        "<a href=\"https://colab.research.google.com/github/johanjun/Google_Machine_Learning_Bootcamp_KR_2021/blob/main/python_algorithm/14_Merge_Two_Sorted_Lists.ipynb\" target=\"_parent\"><img src=\"https://colab.research.google.com/assets/colab-badge.svg\" alt=\"Open In Colab\"/></a>"
      ]
    },
    {
      "cell_type": "markdown",
      "metadata": {
        "id": "zdl1sbOWbAxB"
      },
      "source": [
        "Merge two sorted linked lists and return it as a sorted list. The list should be made by splicing together the nodes of the first two lists.\n",
        "\n",
        " \n",
        "```\n",
        "Example 1:\n",
        "\n",
        "\n",
        "Input: l1 = [1,2,4], l2 = [1,3,4]\n",
        "Output: [1,1,2,3,4,4]\n",
        "Example 2:\n",
        "\n",
        "Input: l1 = [], l2 = []\n",
        "Output: []\n",
        "Example 3:\n",
        "\n",
        "Input: l1 = [], l2 = [0]\n",
        "Output: [0]\n",
        " ```\n",
        "```\n",
        "Constraints:\n",
        "\n",
        "The number of nodes in both lists is in the range [0, 50].\n",
        "-100 <= Node.val <= 100\n",
        "Both l1 and l2 are sorted in non-decreasing order.\n",
        "```"
      ]
    },
    {
      "cell_type": "code",
      "metadata": {
        "id": "fw5gklWRbEm5"
      },
      "source": [
        "l1 = [1,2,4]\n",
        "l2 = [1,3,4]"
      ],
      "execution_count": 2,
      "outputs": []
    },
    {
      "cell_type": "code",
      "metadata": {
        "colab": {
          "base_uri": "https://localhost:8080/"
        },
        "id": "9LzIYx0qbbUn",
        "outputId": "25013860-92fb-4107-f495-2db14d4df51a"
      },
      "source": [
        "sorted(l1+l2)"
      ],
      "execution_count": 5,
      "outputs": [
        {
          "output_type": "execute_result",
          "data": {
            "text/plain": [
              "[1, 1, 2, 3, 4, 4]"
            ]
          },
          "metadata": {},
          "execution_count": 5
        }
      ]
    },
    {
      "cell_type": "code",
      "metadata": {
        "id": "uxQgZI4jbHr_"
      },
      "source": [
        "check = []\n",
        "if not l1:\n",
        "    check.append(l2)\n",
        "elif not l2:\n",
        "    check.append(l1)\n",
        "else:\n",
        "    check.append(sorted(l1+l2))\n"
      ],
      "execution_count": 6,
      "outputs": []
    },
    {
      "cell_type": "code",
      "metadata": {
        "colab": {
          "base_uri": "https://localhost:8080/"
        },
        "id": "xIwJrYirbWAq",
        "outputId": "8b2ae27c-1e77-4a6d-8318-574c1299c19a"
      },
      "source": [
        "check"
      ],
      "execution_count": 7,
      "outputs": [
        {
          "output_type": "execute_result",
          "data": {
            "text/plain": [
              "[[1, 1, 2, 3, 4, 4]]"
            ]
          },
          "metadata": {},
          "execution_count": 7
        }
      ]
    },
    {
      "cell_type": "code",
      "metadata": {
        "id": "b9-vg_r1cbPc"
      },
      "source": [
        "class ListNode:\n",
        "    def __init__(self, val=0, next=None):\n",
        "        self.val = val\n",
        "        self.next = next\n",
        "\n",
        "list1 = [4,5,1,2,0,4]\n",
        "head = ListNode(list1[0])\n",
        "tail = head"
      ],
      "execution_count": 9,
      "outputs": []
    },
    {
      "cell_type": "code",
      "metadata": {
        "colab": {
          "base_uri": "https://localhost:8080/"
        },
        "id": "uGBB--pXgmUU",
        "outputId": "22f04896-21e2-44df-8d3c-e49d3b07bb37"
      },
      "source": [
        "head"
      ],
      "execution_count": 10,
      "outputs": [
        {
          "output_type": "execute_result",
          "data": {
            "text/plain": [
              "<__main__.ListNode at 0x7f1b0b3559d0>"
            ]
          },
          "metadata": {},
          "execution_count": 10
        }
      ]
    },
    {
      "cell_type": "code",
      "metadata": {
        "colab": {
          "base_uri": "https://localhost:8080/"
        },
        "id": "B11g_6yegnhf",
        "outputId": "c175e9f5-6645-4c1b-cf81-484e1ae2baf8"
      },
      "source": [
        "tail"
      ],
      "execution_count": 11,
      "outputs": [
        {
          "output_type": "execute_result",
          "data": {
            "text/plain": [
              "<__main__.ListNode at 0x7f1b0b3559d0>"
            ]
          },
          "metadata": {},
          "execution_count": 11
        }
      ]
    },
    {
      "cell_type": "code",
      "metadata": {
        "colab": {
          "base_uri": "https://localhost:8080/"
        },
        "id": "LrNr5YlbgoDO",
        "outputId": "d0f574a5-e219-4df9-f615-59705b8a4393"
      },
      "source": [
        "e=1\n",
        "while e < len(list1):\n",
        "      print(head)\n",
        "      tail.next = ListNode(list1[e])\n",
        "      tail = tail.next\n",
        "      e+=1"
      ],
      "execution_count": 13,
      "outputs": [
        {
          "output_type": "stream",
          "name": "stdout",
          "text": [
            "<__main__.ListNode object at 0x7f1b0b3559d0>\n",
            "<__main__.ListNode object at 0x7f1b0b3559d0>\n",
            "<__main__.ListNode object at 0x7f1b0b3559d0>\n",
            "<__main__.ListNode object at 0x7f1b0b3559d0>\n",
            "<__main__.ListNode object at 0x7f1b0b3559d0>\n"
          ]
        }
      ]
    },
    {
      "cell_type": "code",
      "metadata": {
        "colab": {
          "base_uri": "https://localhost:8080/"
        },
        "id": "yDOekxDQgtcp",
        "outputId": "6bd07361-99c1-4ec8-be10-4e5998136d94"
      },
      "source": [
        "head"
      ],
      "execution_count": 14,
      "outputs": [
        {
          "output_type": "execute_result",
          "data": {
            "text/plain": [
              "<__main__.ListNode at 0x7f1b0b3559d0>"
            ]
          },
          "metadata": {},
          "execution_count": 14
        }
      ]
    },
    {
      "cell_type": "code",
      "metadata": {
        "id": "iZWjLwTeg1ba"
      },
      "source": [
        "# Definition for singly-linked list.\n",
        "class ListNode:\n",
        "    def __init__(self, val=0, next=None):\n",
        "        self.val = val\n",
        "        self.next = next\n",
        "\n",
        "class Solution:\n",
        "    def list2node(self, list1: List) -> ListNode: #ref : https://velog.io/@minjung-s/node2list\n",
        "        result_node = ListNode()\n",
        "\n",
        "        for i,num in enumerate(list1):\n",
        "            if i == 0 :\n",
        "                result_node.val = num\n",
        "            else :\n",
        "                node = result_node\n",
        "                while node.next != None:\n",
        "                    node = node.next\n",
        "                node.next = ListNode(num)\n",
        "        return result_node\n",
        "    def mergeTwoLists(self, l1: Optional[ListNode], l2: Optional[ListNode]) -> Optional[ListNode]:\n",
        "\n",
        "        q1: List = []\n",
        "        q2: List = []\n",
        "        node1 = l1\n",
        "        node2 = l2\n",
        "        \n",
        "        # 리스트 변환\n",
        "        while node1 is not None:\n",
        "            q1.append(node1.val)\n",
        "            node1 = node1.next\n",
        "            \n",
        "        \n",
        "        while node2 is not None:\n",
        "            q2.append(node2.val)\n",
        "            node2 = node2.next\n",
        "        \n",
        "        node1 = l1\n",
        "        node2 = l2\n",
        "        \n",
        "        if not q1:\n",
        "            return l2\n",
        "        elif not q2:\n",
        "            return l1\n",
        "        else:\n",
        "            q3: List =[]\n",
        "            q3 = sorted(q1 + q2)\n",
        "            return self.list2node(list1=q3)\n"
      ],
      "execution_count": null,
      "outputs": []
    }
  ]
}