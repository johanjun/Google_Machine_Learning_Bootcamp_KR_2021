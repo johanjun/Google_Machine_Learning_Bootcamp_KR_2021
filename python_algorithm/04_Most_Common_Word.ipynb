{
  "nbformat": 4,
  "nbformat_minor": 0,
  "metadata": {
    "colab": {
      "name": "4. Most Common Word.ipynb",
      "provenance": [],
      "collapsed_sections": [],
      "authorship_tag": "ABX9TyP9RzssfnAHo2ZMll2/Ti0a",
      "include_colab_link": true
    },
    "kernelspec": {
      "name": "python3",
      "display_name": "Python 3"
    },
    "language_info": {
      "name": "python"
    }
  },
  "cells": [
    {
      "cell_type": "markdown",
      "metadata": {
        "id": "view-in-github",
        "colab_type": "text"
      },
      "source": [
        "<a href=\"https://colab.research.google.com/github/johanjun/Google_Machine_Learning_Bootcamp_KR_2021/blob/main/python_algorithm/4_Most_Common_Word.ipynb\" target=\"_parent\"><img src=\"https://colab.research.google.com/assets/colab-badge.svg\" alt=\"Open In Colab\"/></a>"
      ]
    },
    {
      "cell_type": "markdown",
      "metadata": {
        "id": "ONmNI_g--Qj8"
      },
      "source": [
        "Given a string paragraph and a string array of the banned words banned, return the most frequent word that is not banned. It is guaranteed there is at least one word that is not banned, and that the answer is unique.\n",
        "\n",
        "The words in paragraph are case-insensitive and the answer should be returned in lowercase.\n",
        "\n",
        " \n",
        "```\n",
        "Example 1:\n",
        "\n",
        "Input: paragraph = \"Bob hit a ball, the hit BALL flew far after it was hit.\", banned = [\"hit\"]\n",
        "Output: \"ball\"\n",
        "Explanation: \n",
        "\"hit\" occurs 3 times, but it is a banned word.\n",
        "\"ball\" occurs twice (and no other word does), so it is the most frequent non-banned word in the paragraph. \n",
        "Note that words in the paragraph are not case sensitive,\n",
        "that punctuation is ignored (even if adjacent to words, such as \"ball,\"), \n",
        "and that \"hit\" isn't the answer even though it occurs more because it is banned.\n",
        "Example 2:\n",
        "\n",
        "Input: paragraph = \"a.\", banned = []\n",
        "Output: \"a\"\n",
        " \n",
        "\n",
        "Constraints:\n",
        "\n",
        "1 <= paragraph.length <= 1000\n",
        "paragraph consists of English letters, space ' ', or one of the symbols: \"!?',;.\".\n",
        "0 <= banned.length <= 100\n",
        "1 <= banned[i].length <= 10\n",
        "banned[i] consists of only lowercase English letters.\n",
        "```\n"
      ]
    },
    {
      "cell_type": "code",
      "metadata": {
        "id": "WfMZpL2b-Zlz"
      },
      "source": [
        "paragraph = \"Bob hit a ball, the hit BALL flew far after it was hit.\"\n",
        "banned = [\"hit\"]"
      ],
      "execution_count": 39,
      "outputs": []
    },
    {
      "cell_type": "code",
      "metadata": {
        "id": "4bKFW01uDGNB"
      },
      "source": [
        "import re"
      ],
      "execution_count": 37,
      "outputs": []
    },
    {
      "cell_type": "code",
      "metadata": {
        "id": "Pd6es60mJNC4"
      },
      "source": [
        "if words in banned:\n",
        "  print(words)"
      ],
      "execution_count": 101,
      "outputs": []
    },
    {
      "cell_type": "code",
      "metadata": {
        "id": "iX6xJzje-ns-"
      },
      "source": [
        "# words = ' '.join(word for word in words if word.isalnum())\n",
        "words = re.sub(r\"[^a-zA-Z0-9]\",\" \",paragraph)\n",
        "words = words.split(\" \")\n",
        "words = [word.lower() for word in words]\n",
        "\n",
        "for word in words:\n",
        "  if word in banned:\n",
        "    words.remove(word)\n",
        "\n",
        "set_words = set(words)\n",
        "try :\n",
        "  set_words.remove('')\n",
        "except:\n",
        "  pass"
      ],
      "execution_count": 102,
      "outputs": []
    },
    {
      "cell_type": "code",
      "metadata": {
        "colab": {
          "base_uri": "https://localhost:8080/"
        },
        "id": "47_8fROg-7ds",
        "outputId": "855f309e-c4a2-4902-cdf7-dfa17b4463af"
      },
      "source": [
        "words"
      ],
      "execution_count": 103,
      "outputs": [
        {
          "output_type": "execute_result",
          "data": {
            "text/plain": [
              "['bob',\n",
              " 'a',\n",
              " 'ball',\n",
              " '',\n",
              " 'the',\n",
              " 'ball',\n",
              " 'flew',\n",
              " 'far',\n",
              " 'after',\n",
              " 'it',\n",
              " 'was',\n",
              " '']"
            ]
          },
          "metadata": {},
          "execution_count": 103
        }
      ]
    },
    {
      "cell_type": "code",
      "metadata": {
        "colab": {
          "base_uri": "https://localhost:8080/"
        },
        "id": "oE4EA0jYGDFo",
        "outputId": "5f3e9b63-0403-463f-873d-d4c1d16611e2"
      },
      "source": [
        "counter = {x:words.count(x) for x in set_words}\n",
        "counter"
      ],
      "execution_count": 104,
      "outputs": [
        {
          "output_type": "execute_result",
          "data": {
            "text/plain": [
              "{'a': 1,\n",
              " 'after': 1,\n",
              " 'ball': 2,\n",
              " 'bob': 1,\n",
              " 'far': 1,\n",
              " 'flew': 1,\n",
              " 'it': 1,\n",
              " 'the': 1,\n",
              " 'was': 1}"
            ]
          },
          "metadata": {},
          "execution_count": 104
        }
      ]
    },
    {
      "cell_type": "code",
      "metadata": {
        "colab": {
          "base_uri": "https://localhost:8080/"
        },
        "id": "s41MYjoYIvh_",
        "outputId": "6c1b74fb-edd7-40b3-bed7-642ba8bc6bb5"
      },
      "source": [
        "for (key,value) in zip(counter.keys(), counter.values()):\n",
        "  print(key, value)"
      ],
      "execution_count": 105,
      "outputs": [
        {
          "output_type": "stream",
          "name": "stdout",
          "text": [
            "far 1\n",
            "it 1\n",
            "bob 1\n",
            "after 1\n",
            "the 1\n",
            "flew 1\n",
            "ball 2\n",
            "was 1\n",
            "a 1\n"
          ]
        }
      ]
    },
    {
      "cell_type": "code",
      "metadata": {
        "colab": {
          "base_uri": "https://localhost:8080/"
        },
        "id": "L11ybih6HmpY",
        "outputId": "bb6e736b-0d5f-466d-eb58-3895143c95b2"
      },
      "source": [
        "[k for k, v in counter.items() if v==max(counter.values())][0]"
      ],
      "execution_count": 110,
      "outputs": [
        {
          "output_type": "execute_result",
          "data": {
            "text/plain": [
              "['ball']"
            ]
          },
          "metadata": {},
          "execution_count": 110
        }
      ]
    },
    {
      "cell_type": "code",
      "metadata": {
        "id": "jAfUJN_NJAq_"
      },
      "source": [
        "class Solution:\n",
        "    def mostCommonWord(self, paragraph: str, banned: List[str]) -> str:\n",
        "        words = re.sub(r\"[^a-zA-Z0-9]\",\" \",paragraph) #특수문자제거\n",
        "        words = words.split(\" \") #split\n",
        "        words = [word.lower() for word in words] #소문자\n",
        "\n",
        "        #ban 단어 제거\n",
        "        for word in words:\n",
        "          if word in banned:\n",
        "            words.remove(word)\n",
        "\n",
        "        #unique word\n",
        "        set_words = set(words)\n",
        "        try :\n",
        "          set_words.remove('') #공백 제거\n",
        "        except:\n",
        "          pass\n",
        "\n",
        "        #word counter\n",
        "        counter = {x:words.count(x) for x in set_words}\n",
        "\n",
        "        return [k for k, v in counter.items() if v==max(counter.values())][0]"
      ],
      "execution_count": null,
      "outputs": []
    }
  ]
}
