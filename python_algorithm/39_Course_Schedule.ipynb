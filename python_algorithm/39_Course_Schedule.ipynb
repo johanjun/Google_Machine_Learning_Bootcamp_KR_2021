{
  "nbformat": 4,
  "nbformat_minor": 0,
  "metadata": {
    "colab": {
      "name": "39. Course Schedule.ipynb",
      "provenance": [],
      "collapsed_sections": [],
      "authorship_tag": "ABX9TyN2qDA0k90o9wIKsGCJoTpv",
      "include_colab_link": true
    },
    "kernelspec": {
      "name": "python3",
      "display_name": "Python 3"
    },
    "language_info": {
      "name": "python"
    }
  },
  "cells": [
    {
      "cell_type": "markdown",
      "metadata": {
        "id": "view-in-github",
        "colab_type": "text"
      },
      "source": [
        "<a href=\"https://colab.research.google.com/github/johanjun/Google_Machine_Learning_Bootcamp_KR_2021/blob/main/python_algorithm/39_Course_Schedule.ipynb\" target=\"_parent\"><img src=\"https://colab.research.google.com/assets/colab-badge.svg\" alt=\"Open In Colab\"/></a>"
      ]
    },
    {
      "cell_type": "markdown",
      "metadata": {
        "id": "INJaNPaeX2Mw"
      },
      "source": [
        "There are a total of numCourses courses you have to take, labeled from 0 to numCourses - 1. You are given an array prerequisites where prerequisites[i] = [ai, bi] indicates that you must take course bi first if you want to take course ai.\n",
        "\n",
        "For example, the pair [0, 1], indicates that to take course 0 you have to first take course 1.\n",
        "Return true if you can finish all courses. Otherwise, return false.\n",
        "\n",
        " ```\n",
        "Example 1:\n",
        "\n",
        "Input: numCourses = 2, prerequisites = [[1,0]]\n",
        "Output: true\n",
        "Explanation: There are a total of 2 courses to take. \n",
        "To take course 1 you should have finished course 0. So it is possible.\n",
        "Example 2:\n",
        "\n",
        "Input: numCourses = 2, prerequisites = [[1,0],[0,1]]\n",
        "Output: false\n",
        "Explanation: There are a total of 2 courses to take. \n",
        "To take course 1 you should have finished course 0, and to take course 0 you should also have finished course 1. So it is impossible.\n",
        " ```\n",
        "\n",
        "```\n",
        "Constraints:\n",
        "\n",
        "1 <= numCourses <= 105\n",
        "0 <= prerequisites.length <= 5000\n",
        "prerequisites[i].length == 2\n",
        "0 <= ai, bi < numCourses\n",
        "All the pairs prerequisites[i] are unique.\n",
        "```"
      ]
    },
    {
      "cell_type": "code",
      "metadata": {
        "id": "-bm9LH8VY6LV"
      },
      "source": [
        "numCourses = 2\n",
        "prerequisites = [[1,0]]"
      ],
      "execution_count": null,
      "outputs": []
    },
    {
      "cell_type": "code",
      "metadata": {
        "colab": {
          "base_uri": "https://localhost:8080/"
        },
        "id": "TH1NQbxFabEY",
        "outputId": "fcb8f757-96ce-4155-fba7-467e00c74792"
      },
      "source": [
        "count_of_classes = 0\n",
        "for p in prerequisites:\n",
        "  if p[::-1] in prerequisites:\n",
        "    print(p, False)\n",
        "    break\n",
        "  else:\n",
        "    count_of_classes += 2\n",
        "\n",
        "if count_of_classes == numCourses:\n",
        "  print(count_of_classes, True)"
      ],
      "execution_count": null,
      "outputs": [
        {
          "output_type": "stream",
          "name": "stdout",
          "text": [
            "2 True\n"
          ]
        }
      ]
    },
    {
      "cell_type": "code",
      "metadata": {
        "id": "EyiFAizMcZld"
      },
      "source": [
        "numCourses = 1\n",
        "prerequisites = []"
      ],
      "execution_count": null,
      "outputs": []
    },
    {
      "cell_type": "code",
      "metadata": {
        "colab": {
          "base_uri": "https://localhost:8080/"
        },
        "id": "geBto6VMcZlg",
        "outputId": "36c49e53-71bd-4d55-b277-17b0a5d49365"
      },
      "source": [
        "count_of_classes = 0\n",
        "if prerequisites == []:\n",
        "  print(False)\n",
        "for p in prerequisites:\n",
        "  if p[::-1] in prerequisites:\n",
        "    print(p, False)\n",
        "    break\n",
        "  else:\n",
        "    count_of_classes += 2\n",
        "\n",
        "if count_of_classes == numCourses:\n",
        "  print(count_of_classes, True)"
      ],
      "execution_count": null,
      "outputs": [
        {
          "output_type": "stream",
          "name": "stdout",
          "text": [
            "False\n"
          ]
        }
      ]
    },
    {
      "cell_type": "code",
      "metadata": {
        "id": "NuCGpbX5amza"
      },
      "source": [
        "numCourses = 3\n",
        "prerequisites = [[1,0],[0,2],[2,1]]"
      ],
      "execution_count": 26,
      "outputs": []
    },
    {
      "cell_type": "code",
      "metadata": {
        "id": "o4n4VQ6-eQkw",
        "colab": {
          "base_uri": "https://localhost:8080/"
        },
        "outputId": "2b3aefb7-cfd5-4d37-bd8e-1ba83c192b2a"
      },
      "source": [
        "count_of_classes = 1\n",
        "if len(prerequisites) == 0:\n",
        "  print(False)\n",
        "for p in prerequisites:\n",
        "  if p[::-1] in prerequisites:\n",
        "    print(p, False)\n",
        "    break\n",
        "  else:\n",
        "    count_of_classes += 1\n",
        "\n",
        "# if count_of_classes == numCourses:\n",
        "#   print(count_of_classes, True)"
      ],
      "execution_count": 19,
      "outputs": [
        {
          "output_type": "stream",
          "name": "stdout",
          "text": [
            "[5, 5] False\n"
          ]
        }
      ]
    },
    {
      "cell_type": "code",
      "metadata": {
        "id": "OyHFAMBmeRQN"
      },
      "source": [
        "import collections\n",
        "graph = collections.defaultdict(list)"
      ],
      "execution_count": 27,
      "outputs": []
    },
    {
      "cell_type": "code",
      "metadata": {
        "id": "XzjVI41qhusl"
      },
      "source": [
        "for x, y in prerequisites:\n",
        "  graph[x].append(y)\n",
        "\n",
        "traced = set()"
      ],
      "execution_count": 28,
      "outputs": []
    },
    {
      "cell_type": "code",
      "metadata": {
        "colab": {
          "base_uri": "https://localhost:8080/"
        },
        "id": "tERpT2RchxxE",
        "outputId": "13acb2f9-d3aa-44a5-bb3f-7fe6757deede"
      },
      "source": [
        "traced"
      ],
      "execution_count": 29,
      "outputs": [
        {
          "output_type": "execute_result",
          "data": {
            "text/plain": [
              "set()"
            ]
          },
          "metadata": {},
          "execution_count": 29
        }
      ]
    },
    {
      "cell_type": "code",
      "metadata": {
        "colab": {
          "base_uri": "https://localhost:8080/"
        },
        "id": "qcVaCRmzh4Gx",
        "outputId": "b9a1f558-4b04-49da-e646-61dbabd33321"
      },
      "source": [
        "graph"
      ],
      "execution_count": 30,
      "outputs": [
        {
          "output_type": "execute_result",
          "data": {
            "text/plain": [
              "defaultdict(list, {0: [2], 1: [0], 2: [1]})"
            ]
          },
          "metadata": {},
          "execution_count": 30
        }
      ]
    },
    {
      "cell_type": "code",
      "metadata": {
        "id": "WHutLlFWh4pT"
      },
      "source": [
        "#solution\n",
        "import collections\n",
        "from typing import List\n",
        "\n",
        "\n",
        "class Solution:\n",
        "    def canFinish(self, numCourses: int, prerequisites: List[List[int]]) -> bool:\n",
        "        graph = collections.defaultdict(list)\n",
        "        # 그래프 구성\n",
        "        for x, y in prerequisites:\n",
        "            graph[x].append(y)\n",
        "\n",
        "        traced = set()\n",
        "\n",
        "        def dfs(i):\n",
        "            # 순환 구조이면 False\n",
        "            if i in traced:\n",
        "                return False\n",
        "\n",
        "            traced.add(i)\n",
        "            for y in graph[i]:\n",
        "                if not dfs(y):\n",
        "                    return False\n",
        "            # 탐색 종료 후 순환 노드 삭제\n",
        "            traced.remove(i)\n",
        "\n",
        "            return True\n",
        "\n",
        "        # 순환 구조 판별\n",
        "        for x in list(graph):\n",
        "            if not dfs(x):\n",
        "                return False\n",
        "\n",
        "        return True"
      ],
      "execution_count": null,
      "outputs": []
    }
  ]
}