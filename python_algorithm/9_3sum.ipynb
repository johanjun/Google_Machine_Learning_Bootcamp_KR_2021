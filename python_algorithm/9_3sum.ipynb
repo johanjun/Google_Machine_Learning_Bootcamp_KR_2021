{
  "nbformat": 4,
  "nbformat_minor": 0,
  "metadata": {
    "colab": {
      "name": "9. 3sum.ipynb",
      "provenance": [],
      "authorship_tag": "ABX9TyPrBrKxZBE//HIx1KQBbYA7",
      "include_colab_link": true
    },
    "kernelspec": {
      "name": "python3",
      "display_name": "Python 3"
    },
    "language_info": {
      "name": "python"
    }
  },
  "cells": [
    {
      "cell_type": "markdown",
      "metadata": {
        "id": "view-in-github",
        "colab_type": "text"
      },
      "source": [
        "<a href=\"https://colab.research.google.com/github/johanjun/Google_Machine_Learning_Bootcamp_KR_2021/blob/main/python_algorithm/9_3sum.ipynb\" target=\"_parent\"><img src=\"https://colab.research.google.com/assets/colab-badge.svg\" alt=\"Open In Colab\"/></a>"
      ]
    },
    {
      "cell_type": "markdown",
      "metadata": {
        "id": "1c87TaPvTWnV"
      },
      "source": [
        "Given an integer array nums, return all the triplets [nums[i], nums[j], nums[k]] such that i != j, i != k, and j != k, and nums[i] + nums[j] + nums[k] == 0.\n",
        "\n",
        "Notice that the solution set must not contain duplicate triplets.\n",
        "\n",
        " \n",
        "```\n",
        "Example 1:\n",
        "\n",
        "Input: nums = [-1,0,1,2,-1,-4]\n",
        "Output: [[-1,-1,2],[-1,0,1]]\n",
        "Example 2:\n",
        "\n",
        "Input: nums = []\n",
        "Output: []\n",
        "Example 3:\n",
        "\n",
        "Input: nums = [0]\n",
        "Output: []\n",
        " ```\n",
        "```\n",
        "Constraints:\n",
        "\n",
        "0 <= nums.length <= 3000\n",
        "-105 <= nums[i] <= 105\n",
        "```"
      ]
    },
    {
      "cell_type": "code",
      "metadata": {
        "id": "nFYSTeUpVrys"
      },
      "source": [
        "nums = [-1,0,1,2,-1,-4]"
      ],
      "execution_count": 2,
      "outputs": []
    },
    {
      "cell_type": "code",
      "metadata": {
        "id": "rTHs8S9zVxb9"
      },
      "source": [
        "left = 0\n",
        "right = len(nums) - 1\n",
        "mid = int(len(nums)/2)\n",
        "nums = sorted(nums)\n",
        "sets = []\n",
        "while len(nums) != 0:\n",
        "  print(nums, f\"length of nums : {len(nums)}\")\n",
        "  print(f'left:{left}, mid:{mid}, right:{right}')\n",
        "  print(nums[left], nums[mid], nums[right])\n",
        "  sums = [nums[mid],nums[left],nums[right]]\n",
        "  if sum(sums) == 0:\n",
        "    sets.append(sorted(sums))\n",
        "    print(f\"appended. now sets => [{sets}]\")\n",
        "  if set(sorted(sums)) not in sets and sum(sums) == 0:\n",
        "    sets.append([nums[left], nums[mid], nums[right]])\n",
        "  if (mid-left) <= (right-mid):\n",
        "    right -= 1\n",
        "  else:\n",
        "    left += 1"
      ],
      "execution_count": null,
      "outputs": []
    },
    {
      "cell_type": "code",
      "metadata": {
        "id": "GCklEeT3Wa9c"
      },
      "source": [
        "import itertools"
      ],
      "execution_count": 4,
      "outputs": []
    },
    {
      "cell_type": "code",
      "metadata": {
        "colab": {
          "base_uri": "https://localhost:8080/"
        },
        "id": "iuXq1sbbf2T7",
        "outputId": "342241e9-c994-461f-df36-a3d9a5a5d3c0"
      },
      "source": [
        "set(list(itertools.combinations(sorted(set(nums)), 3)))"
      ],
      "execution_count": 8,
      "outputs": [
        {
          "output_type": "execute_result",
          "data": {
            "text/plain": [
              "{(-4, -1, 0),\n",
              " (-4, -1, 1),\n",
              " (-4, -1, 2),\n",
              " (-4, 0, 1),\n",
              " (-4, 0, 2),\n",
              " (-4, 1, 2),\n",
              " (-1, 0, 1),\n",
              " (-1, 0, 2),\n",
              " (-1, 1, 2),\n",
              " (0, 1, 2)}"
            ]
          },
          "metadata": {},
          "execution_count": 8
        }
      ]
    },
    {
      "cell_type": "code",
      "metadata": {
        "id": "s21iIybaeEZC"
      },
      "source": [
        "[i for i in set(list(itertools.combinations(sorted(nums), 3))) if sum(i)==0]"
      ],
      "execution_count": null,
      "outputs": []
    },
    {
      "cell_type": "code",
      "metadata": {
        "id": "sw6pb9k5eNFa"
      },
      "source": [
        "li = list(set(sorted(list([i for i in list(itertools.combinations(nums, 3)) if sum(i)==0]))))"
      ],
      "execution_count": 101,
      "outputs": []
    },
    {
      "cell_type": "code",
      "metadata": {
        "colab": {
          "base_uri": "https://localhost:8080/"
        },
        "id": "-FRxCVuSe4K8",
        "outputId": "04ed5107-1e9e-49a0-fb6f-36a88a1a5b64"
      },
      "source": [
        "[i for i in set(list(itertools.combinations((set(nums)), 3))) if sum(i)==0]"
      ],
      "execution_count": 9,
      "outputs": [
        {
          "output_type": "execute_result",
          "data": {
            "text/plain": [
              "[(0, 1, -1)]"
            ]
          },
          "metadata": {},
          "execution_count": 9
        }
      ]
    },
    {
      "cell_type": "code",
      "metadata": {
        "colab": {
          "base_uri": "https://localhost:8080/"
        },
        "id": "hAxIR68nfovV",
        "outputId": "5cc3430f-d9cf-4c0a-e5d3-0e10eea43591"
      },
      "source": [
        "set(li)"
      ],
      "execution_count": 103,
      "outputs": [
        {
          "output_type": "execute_result",
          "data": {
            "text/plain": [
              "{(-1, 0, 1), (-1, 2, -1), (0, 1, -1)}"
            ]
          },
          "metadata": {},
          "execution_count": 103
        }
      ]
    },
    {
      "cell_type": "code",
      "metadata": {
        "id": "IYWAZyUSfpvK"
      },
      "source": [
        "#solution\n",
        "from typing import List\n",
        "\n",
        "\n",
        "class Solution:\n",
        "    def threeSum(self, nums: List[int]) -> List[List[int]]:\n",
        "        results = []\n",
        "        nums.sort()\n",
        "\n",
        "        for i in range(len(nums) - 2):\n",
        "            # 중복된 값 건너뛰기\n",
        "            if i > 0 and nums[i] == nums[i - 1]:\n",
        "                continue\n",
        "\n",
        "            # 간격을 좁혀가며 합 `sum` 계산\n",
        "            left, right = i + 1, len(nums) - 1\n",
        "            while left < right:\n",
        "                sum = nums[i] + nums[left] + nums[right]\n",
        "                if sum < 0:\n",
        "                    left += 1\n",
        "                elif sum > 0:\n",
        "                    right -= 1\n",
        "                else:\n",
        "                    # `sum = 0`인 경우이므로 정답 및 스킵 처리\n",
        "                    results.append([nums[i], nums[left], nums[right]])\n",
        "\n",
        "                    while left < right and nums[left] == nums[left + 1]:\n",
        "                        left += 1\n",
        "                    while left < right and nums[right] == nums[right - 1]:\n",
        "                        right -= 1\n",
        "                    left += 1\n",
        "                    right -= 1\n",
        "\n",
        "        return results"
      ],
      "execution_count": null,
      "outputs": []
    }
  ]
}