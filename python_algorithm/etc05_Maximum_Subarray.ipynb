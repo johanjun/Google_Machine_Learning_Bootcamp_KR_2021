{
  "nbformat": 4,
  "nbformat_minor": 0,
  "metadata": {
    "colab": {
      "name": "etc05 Maximum Subarray.ipynb",
      "provenance": [],
      "collapsed_sections": [],
      "authorship_tag": "ABX9TyMHl+X92nH0ECku04rx20Je",
      "include_colab_link": true
    },
    "kernelspec": {
      "name": "python3",
      "display_name": "Python 3"
    },
    "language_info": {
      "name": "python"
    }
  },
  "cells": [
    {
      "cell_type": "markdown",
      "metadata": {
        "id": "view-in-github",
        "colab_type": "text"
      },
      "source": [
        "<a href=\"https://colab.research.google.com/github/johanjun/Google_Machine_Learning_Bootcamp_KR_2021/blob/main/python_algorithm/etc05_Maximum_Subarray.ipynb\" target=\"_parent\"><img src=\"https://colab.research.google.com/assets/colab-badge.svg\" alt=\"Open In Colab\"/></a>"
      ]
    },
    {
      "cell_type": "markdown",
      "metadata": {
        "id": "NrBQX5BvNqAh"
      },
      "source": [
        "Given an integer array nums, find the contiguous subarray (containing at least one number) which has the largest sum and return its sum.\n",
        "\n",
        "A subarray is a contiguous part of an array.\n",
        "\n",
        " \n",
        "```\n",
        "Example 1:\n",
        "\n",
        "Input: nums = [-2,1,-3,4,-1,2,1,-5,4]\n",
        "Output: 6\n",
        "Explanation: [4,-1,2,1] has the largest sum = 6.\n",
        "Example 2:\n",
        "\n",
        "Input: nums = [1]\n",
        "Output: 1\n",
        "Example 3:\n",
        "\n",
        "Input: nums = [5,4,-1,7,8]\n",
        "Output: 23\n",
        "``` \n",
        "```\n",
        "Constraints:\n",
        "\n",
        "1 <= nums.length <= 105\n",
        "-104 <= nums[i] <= 104\n",
        " \n",
        "```"
      ]
    },
    {
      "cell_type": "code",
      "metadata": {
        "id": "iewOFCv9Nwgt"
      },
      "source": [
        "nums = [-2,1]"
      ],
      "execution_count": 42,
      "outputs": []
    },
    {
      "cell_type": "code",
      "metadata": {
        "id": "RKYb9l5KOwID"
      },
      "source": [
        "maxsum = sum(nums)"
      ],
      "execution_count": 43,
      "outputs": []
    },
    {
      "cell_type": "code",
      "metadata": {
        "colab": {
          "base_uri": "https://localhost:8080/"
        },
        "id": "aQvFJY15Nyid",
        "outputId": "14fc972b-5553-4def-92d6-644039cbdf2b"
      },
      "source": [
        "for i, v in enumerate(nums):\n",
        "  print(i, v)\n",
        "  if len(nums[i:]) == 1:\n",
        "    if sum(nums[i:]) > maxsum:\n",
        "      maxsum = sum(nums[i:])\n",
        "  for j in range(-1, -len(nums[i:]), -1):\n",
        "    print(i, j, nums[i:j], sum(nums[i:j]))\n",
        "\n",
        "    if sum(nums[i:]) > maxsum:\n",
        "      maxsum = sum(nums[i:])\n",
        "    \n",
        "    if sum(nums[i:j]) > maxsum:\n",
        "      print(\"yes here\", maxsum, sum(nums[i:j]))\n",
        "      maxsum = sum(nums[i:j])"
      ],
      "execution_count": 44,
      "outputs": [
        {
          "output_type": "stream",
          "name": "stdout",
          "text": [
            "0 -2\n",
            "0 -1 [-2] -2\n",
            "1 1\n"
          ]
        }
      ]
    },
    {
      "cell_type": "code",
      "metadata": {
        "colab": {
          "base_uri": "https://localhost:8080/",
          "height": 130
        },
        "id": "6JCBxIGkN2zc",
        "outputId": "de584991-700c-49b7-8332-3bcf517af9eb"
      },
      "source": [
        "for i in range(1, len(nums)):\n",
        "        if nums[i-1] > 0:\n",
        "            nums[i] += nums[i-1]\n",
        "    return max(nums)"
      ],
      "execution_count": 47,
      "outputs": [
        {
          "output_type": "error",
          "ename": "IndentationError",
          "evalue": "ignored",
          "traceback": [
            "\u001b[0;36m  File \u001b[0;32m\"<ipython-input-47-c5d75c7b808e>\"\u001b[0;36m, line \u001b[0;32m4\u001b[0m\n\u001b[0;31m    print(max(nums))\u001b[0m\n\u001b[0m                    ^\u001b[0m\n\u001b[0;31mIndentationError\u001b[0m\u001b[0;31m:\u001b[0m unindent does not match any outer indentation level\n"
          ]
        }
      ]
    },
    {
      "cell_type": "code",
      "metadata": {
        "colab": {
          "base_uri": "https://localhost:8080/"
        },
        "id": "xDkaNV7XOV6X",
        "outputId": "da66d6cc-eaa3-45d7-bbb6-eb6070c37380"
      },
      "source": [
        "sum(nums[1:])"
      ],
      "execution_count": 32,
      "outputs": [
        {
          "output_type": "execute_result",
          "data": {
            "text/plain": [
              "1"
            ]
          },
          "metadata": {},
          "execution_count": 32
        }
      ]
    },
    {
      "cell_type": "code",
      "metadata": {
        "id": "A5rn41NHP8QK"
      },
      "source": [
        "for i in range(1, len(nums)):\n",
        "        if nums[i-1] > 0:\n",
        "            nums[i] += nums[i-1]\n",
        "    return max(nums)"
      ],
      "execution_count": null,
      "outputs": []
    }
  ]
}