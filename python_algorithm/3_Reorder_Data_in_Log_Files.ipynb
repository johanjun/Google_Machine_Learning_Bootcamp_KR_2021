{
  "nbformat": 4,
  "nbformat_minor": 0,
  "metadata": {
    "colab": {
      "name": "3. Reorder Data in Log Files.ipynb",
      "provenance": [],
      "collapsed_sections": [],
      "authorship_tag": "ABX9TyNKYedaDELExtaDyDr/n6hl",
      "include_colab_link": true
    },
    "kernelspec": {
      "name": "python3",
      "display_name": "Python 3"
    },
    "language_info": {
      "name": "python"
    }
  },
  "cells": [
    {
      "cell_type": "markdown",
      "metadata": {
        "id": "view-in-github",
        "colab_type": "text"
      },
      "source": [
        "<a href=\"https://colab.research.google.com/github/johanjun/Google_Machine_Learning_Bootcamp_KR_2021/blob/main/python_algorithm/3_Reorder_Data_in_Log_Files.ipynb\" target=\"_parent\"><img src=\"https://colab.research.google.com/assets/colab-badge.svg\" alt=\"Open In Colab\"/></a>"
      ]
    },
    {
      "cell_type": "markdown",
      "metadata": {
        "id": "2j9N3_U2rY5J"
      },
      "source": [
        "You are given an array of logs. Each log is a space-delimited string of words, where the first word is the identifier.\n",
        "\n",
        "There are two types of logs:\n",
        "\n",
        "Letter-logs: All words (except the identifier) consist of lowercase English letters.\n",
        "Digit-logs: All words (except the identifier) consist of digits.\n",
        "Reorder these logs so that:\n",
        "\n",
        "The letter-logs come before all digit-logs.\n",
        "The letter-logs are sorted lexicographically by their contents. If their contents are the same, then sort them lexicographically by their identifiers.\n",
        "The digit-logs maintain their relative ordering.\n",
        "Return the final order of the logs.\n",
        "\n",
        " \n",
        "```\n",
        "Example 1:\n",
        "\n",
        "Input: logs = [\"dig1 8 1 5 1\",\"let1 art can\",\"dig2 3 6\",\"let2 own kit dig\",\"let3 art zero\"]\n",
        "Output: [\"let1 art can\",\"let3 art zero\",\"let2 own kit dig\",\"dig1 8 1 5 1\",\"dig2 3 6\"]\n",
        "Explanation:\n",
        "The letter-log contents are all different, so their ordering is \"art can\", \"art zero\", \"own kit dig\".\n",
        "The digit-logs have a relative order of \"dig1 8 1 5 1\", \"dig2 3 6\".\n",
        "Example 2:\n",
        "\n",
        "Input: logs = [\"a1 9 2 3 1\",\"g1 act car\",\"zo4 4 7\",\"ab1 off key dog\",\"a8 act zoo\"]\n",
        "Output: [\"g1 act car\",\"a8 act zoo\",\"ab1 off key dog\",\"a1 9 2 3 1\",\"zo4 4 7\"]\n",
        " \n",
        "\n",
        "Constraints:\n",
        "\n",
        "1 <= logs.length <= 100\n",
        "3 <= logs[i].length <= 100\n",
        "```\n",
        "All the tokens of logs[i] are separated by a single space.\n",
        "logs[i] is guaranteed to have an identifier and at least one word after the identifier."
      ]
    },
    {
      "cell_type": "code",
      "metadata": {
        "colab": {
          "base_uri": "https://localhost:8080/"
        },
        "id": "OmC-iaojrmg9",
        "outputId": "37386cbf-fd49-4836-abf8-3bb01f0fe452"
      },
      "source": [
        "# split each logs\n",
        "logs = [\"7 96\", \"d 0 5\", \"r 439\", \"1 bw\", \"6 dkf\"]\n",
        "for l in logs:\n",
        "  print(l.split(\" \")[0])"
      ],
      "execution_count": 51,
      "outputs": [
        {
          "output_type": "stream",
          "name": "stdout",
          "text": [
            "7\n",
            "d\n",
            "r\n",
            "1\n",
            "6\n"
          ]
        }
      ]
    },
    {
      "cell_type": "code",
      "metadata": {
        "colab": {
          "base_uri": "https://localhost:8080/"
        },
        "id": "cQKB0xyM4TG4",
        "outputId": "677901c3-03a9-4521-b00e-16cde18c4e9e"
      },
      "source": [
        "int(\"d 0 5\".split(\" \")[1])"
      ],
      "execution_count": 64,
      "outputs": [
        {
          "output_type": "execute_result",
          "data": {
            "text/plain": [
              "0"
            ]
          },
          "metadata": {},
          "execution_count": 64
        }
      ]
    },
    {
      "cell_type": "code",
      "metadata": {
        "colab": {
          "base_uri": "https://localhost:8080/"
        },
        "id": "IO8Q04xLwNHy",
        "outputId": "f390b180-9f63-4f38-ed5d-75d450b47ba8"
      },
      "source": [
        "list_str = []\n",
        "list_digit = []\n",
        "\n",
        "for l in logs:\n",
        "  try:\n",
        "    if int(l.split(\" \")[1]) >= 0:\n",
        "      print(l.split(\" \")[1])\n",
        "      list_digit.append(l)\n",
        "  except:\n",
        "    list_str.append(l)"
      ],
      "execution_count": 67,
      "outputs": [
        {
          "output_type": "stream",
          "name": "stdout",
          "text": [
            "96\n",
            "0\n",
            "439\n"
          ]
        }
      ]
    },
    {
      "cell_type": "code",
      "metadata": {
        "colab": {
          "base_uri": "https://localhost:8080/"
        },
        "id": "AVFQyFKSxDqH",
        "outputId": "8d100fd4-a7e4-4fc0-9b82-2e37ca10ecae"
      },
      "source": [
        "print(list_str, \"\\n\", list_digit)"
      ],
      "execution_count": 53,
      "outputs": [
        {
          "output_type": "stream",
          "name": "stdout",
          "text": [
            "['1 bw', '6 dkf'] \n",
            " ['7 96', 'r 439']\n"
          ]
        }
      ]
    },
    {
      "cell_type": "code",
      "metadata": {
        "id": "tGG6ykbr0-UX"
      },
      "source": [
        "def func(x):\n",
        "    return x.split(\" \")[1:]"
      ],
      "execution_count": 48,
      "outputs": []
    },
    {
      "cell_type": "code",
      "metadata": {
        "colab": {
          "base_uri": "https://localhost:8080/"
        },
        "id": "ip8nvsERz9vW",
        "outputId": "ce3e3c55-f27d-470d-88c3-7ab3530c0f71"
      },
      "source": [
        "sorted(sorted(list_str), key=func)"
      ],
      "execution_count": 50,
      "outputs": [
        {
          "output_type": "execute_result",
          "data": {
            "text/plain": [
              "['a2 act car', 'g1 act car', 'a8 act zoo', 'ab1 off key dog']"
            ]
          },
          "metadata": {},
          "execution_count": 50
        }
      ]
    },
    {
      "cell_type": "code",
      "metadata": {
        "id": "5Ot5CiqntHvi"
      },
      "source": [
        "# sorted list\n",
        "sorted_list_str = sorted([l.split(\" \")[0] for l in list_str])\n",
        "sorted_list_digit = sorted([l.split(\" \")[0] for l in list_digit])"
      ],
      "execution_count": 30,
      "outputs": []
    },
    {
      "cell_type": "code",
      "metadata": {
        "id": "MytMOWjbtYHj"
      },
      "source": [
        "#append new logs\n",
        "new_logs = []\n",
        "for l in list_str:\n",
        "  new_logs.append(l)\n",
        "\n",
        "for l in list_digit:\n",
        "  new_logs.append(l)"
      ],
      "execution_count": 31,
      "outputs": []
    },
    {
      "cell_type": "code",
      "metadata": {
        "colab": {
          "base_uri": "https://localhost:8080/"
        },
        "id": "VuJAZ-AXttAN",
        "outputId": "9a69bf23-a6c2-4c04-cd99-efe4b753edb0"
      },
      "source": [
        "new_logs"
      ],
      "execution_count": 32,
      "outputs": [
        {
          "output_type": "execute_result",
          "data": {
            "text/plain": [
              "['let1 art can',\n",
              " 'let2 own kit dig',\n",
              " 'let3 art zero',\n",
              " 'dig1 8 1 5 1',\n",
              " 'dig2 3 6']"
            ]
          },
          "metadata": {},
          "execution_count": 32
        }
      ]
    },
    {
      "cell_type": "code",
      "metadata": {
        "id": "_-QPaxFguFxH"
      },
      "source": [
        "class Solution:\n",
        "    def reorderLogFiles(self, logs: List[str]) -> List[str]:\n",
        "        # split each logs\n",
        "        list_str = []\n",
        "        list_digit = []\n",
        "    \n",
        "        for l in logs:\n",
        "          try:\n",
        "            if int(l.split(\" \")[1]) >= 0:\n",
        "              list_digit.append(l)\n",
        "          except:\n",
        "            list_str.append(l)\n",
        "        \n",
        "        #sorted\n",
        "        def func(x):\n",
        "            return x.split(\" \")[1:]\n",
        "        \n",
        "        list_str = sorted(sorted(list_str), key=func)\n",
        "        \n",
        "        #append new logs\n",
        "        new_logs = []\n",
        "        for l in list_str:\n",
        "          new_logs.append(l)\n",
        "\n",
        "        for l in list_digit:\n",
        "          new_logs.append(l)\n",
        "    \n",
        "        return new_logs"
      ],
      "execution_count": null,
      "outputs": []
    },
    {
      "cell_type": "code",
      "metadata": {
        "id": "MlHrrArAuTAx"
      },
      "source": [
        ""
      ],
      "execution_count": null,
      "outputs": []
    }
  ]
}