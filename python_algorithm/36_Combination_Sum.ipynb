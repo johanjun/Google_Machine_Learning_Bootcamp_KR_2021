{
  "nbformat": 4,
  "nbformat_minor": 0,
  "metadata": {
    "colab": {
      "name": "36. Combination Sum.ipynb",
      "provenance": [],
      "authorship_tag": "ABX9TyPQX0VA7uWbi/FYrpHXO67n",
      "include_colab_link": true
    },
    "kernelspec": {
      "name": "python3",
      "display_name": "Python 3"
    },
    "language_info": {
      "name": "python"
    }
  },
  "cells": [
    {
      "cell_type": "markdown",
      "metadata": {
        "id": "view-in-github",
        "colab_type": "text"
      },
      "source": [
        "<a href=\"https://colab.research.google.com/github/johanjun/Google_Machine_Learning_Bootcamp_KR_2021/blob/main/python_algorithm/36_Combination_Sum.ipynb\" target=\"_parent\"><img src=\"https://colab.research.google.com/assets/colab-badge.svg\" alt=\"Open In Colab\"/></a>"
      ]
    },
    {
      "cell_type": "markdown",
      "metadata": {
        "id": "fZE4eMG2j62u"
      },
      "source": [
        "Given an array of distinct integers candidates and a target integer target, return a list of all unique combinations of candidates where the chosen numbers sum to target. You may return the combinations in any order.\n",
        "\n",
        "The same number may be chosen from candidates an unlimited number of times. Two combinations are unique if the frequency of at least one of the chosen numbers is different.\n",
        "\n",
        "It is guaranteed that the number of unique combinations that sum up to target is less than 150 combinations for the given input.\n",
        "\n",
        " \n",
        "```\n",
        "Example 1:\n",
        "\n",
        "Input: candidates = [2,3,6,7], target = 7\n",
        "Output: [[2,2,3],[7]]\n",
        "Explanation:\n",
        "2 and 3 are candidates, and 2 + 2 + 3 = 7. Note that 2 can be used multiple times.\n",
        "7 is a candidate, and 7 = 7.\n",
        "These are the only two combinations.\n",
        "Example 2:\n",
        "\n",
        "Input: candidates = [2,3,5], target = 8\n",
        "Output: [[2,2,2,2],[2,3,3],[3,5]]\n",
        "Example 3:\n",
        "\n",
        "Input: candidates = [2], target = 1\n",
        "Output: []\n",
        "Example 4:\n",
        "\n",
        "Input: candidates = [1], target = 1\n",
        "Output: [[1]]\n",
        "Example 5:\n",
        "\n",
        "Input: candidates = [1], target = 2\n",
        "Output: [[1,1]]\n",
        "```\n",
        "\n",
        "```\n",
        "Constraints:\n",
        "\n",
        "1 <= candidates.length <= 30\n",
        "1 <= candidates[i] <= 200\n",
        "All elements of candidates are distinct.\n",
        "1 <= target <= 500\n",
        "```"
      ]
    },
    {
      "cell_type": "code",
      "metadata": {
        "id": "BfBdAGbckCbJ"
      },
      "source": [
        "candidates = [2,7,6,3,5,1]\n",
        "target = 9"
      ],
      "execution_count": 86,
      "outputs": []
    },
    {
      "cell_type": "code",
      "metadata": {
        "id": "7MuJclAjkJG0"
      },
      "source": [
        "import itertools"
      ],
      "execution_count": 5,
      "outputs": []
    },
    {
      "cell_type": "code",
      "metadata": {
        "id": "BXzpkYyPkLhT"
      },
      "source": [
        "check = []\n",
        "for i in range(1, len(candidates)+1):\n",
        "  check.append(list(itertools.combinations(candidates, i)))"
      ],
      "execution_count": 87,
      "outputs": []
    },
    {
      "cell_type": "code",
      "metadata": {
        "colab": {
          "base_uri": "https://localhost:8080/"
        },
        "id": "uwAfZC1tmEae",
        "outputId": "16bc92fa-1b21-49b3-f772-d594b5dbc996"
      },
      "source": [
        "dummy = []\n",
        "answer = []\n",
        "\n",
        "for c in sorted(check):\n",
        "  for j in c:\n",
        "    print(f\"dummy is {dummy}\")\n",
        "    print(j, sum(j))\n",
        "    \n",
        "    if target%(j[0]) == 0:\n",
        "      if [j[0]] * int(target//j[0]) not in answer:\n",
        "        answer.append(sorted([j[0]] * int(target//j[0])))\n",
        "    if sum(j) == target:\n",
        "      print(j, target, \"*\")\n",
        "      if list(j) not in answer:\n",
        "        answer.append(sorted(list(j)))\n",
        "\n",
        "    if target-sum(j) in dummy:\n",
        "      print(j, target-sum(j), target, \"!\")\n",
        "      if list(j) + [target-sum(j)] not in answer:\n",
        "        answer.append(sorted(list(j) + [target-sum(j)]))\n",
        "    if j[0] not in dummy:\n",
        "      dummy.append(j[0])"
      ],
      "execution_count": 90,
      "outputs": [
        {
          "output_type": "stream",
          "name": "stdout",
          "text": [
            "dummy is []\n",
            "(2,) 2\n",
            "dummy is [2]\n",
            "(7,) 7\n",
            "(7,) 2 9 !\n",
            "dummy is [2, 7]\n",
            "(6,) 6\n",
            "dummy is [2, 7, 6]\n",
            "(3,) 3\n",
            "(3,) 6 9 !\n",
            "dummy is [2, 7, 6, 3]\n",
            "(5,) 5\n",
            "dummy is [2, 7, 6, 3, 5]\n",
            "(1,) 1\n",
            "dummy is [2, 7, 6, 3, 5, 1]\n",
            "(2, 7) 9\n",
            "(2, 7) 9 *\n",
            "dummy is [2, 7, 6, 3, 5, 1]\n",
            "(2, 6) 8\n",
            "(2, 6) 1 9 !\n",
            "dummy is [2, 7, 6, 3, 5, 1]\n",
            "(2, 3) 5\n",
            "dummy is [2, 7, 6, 3, 5, 1]\n",
            "(2, 5) 7\n",
            "(2, 5) 2 9 !\n",
            "dummy is [2, 7, 6, 3, 5, 1]\n",
            "(2, 1) 3\n",
            "(2, 1) 6 9 !\n",
            "dummy is [2, 7, 6, 3, 5, 1]\n",
            "(7, 6) 13\n",
            "dummy is [2, 7, 6, 3, 5, 1]\n",
            "(7, 3) 10\n",
            "dummy is [2, 7, 6, 3, 5, 1]\n",
            "(7, 5) 12\n",
            "dummy is [2, 7, 6, 3, 5, 1]\n",
            "(7, 1) 8\n",
            "(7, 1) 1 9 !\n",
            "dummy is [2, 7, 6, 3, 5, 1]\n",
            "(6, 3) 9\n",
            "(6, 3) 9 *\n",
            "dummy is [2, 7, 6, 3, 5, 1]\n",
            "(6, 5) 11\n",
            "dummy is [2, 7, 6, 3, 5, 1]\n",
            "(6, 1) 7\n",
            "(6, 1) 2 9 !\n",
            "dummy is [2, 7, 6, 3, 5, 1]\n",
            "(3, 5) 8\n",
            "(3, 5) 1 9 !\n",
            "dummy is [2, 7, 6, 3, 5, 1]\n",
            "(3, 1) 4\n",
            "(3, 1) 5 9 !\n",
            "dummy is [2, 7, 6, 3, 5, 1]\n",
            "(5, 1) 6\n",
            "(5, 1) 3 9 !\n",
            "dummy is [2, 7, 6, 3, 5, 1]\n",
            "(2, 7, 6) 15\n",
            "dummy is [2, 7, 6, 3, 5, 1]\n",
            "(2, 7, 3) 12\n",
            "dummy is [2, 7, 6, 3, 5, 1]\n",
            "(2, 7, 5) 14\n",
            "dummy is [2, 7, 6, 3, 5, 1]\n",
            "(2, 7, 1) 10\n",
            "dummy is [2, 7, 6, 3, 5, 1]\n",
            "(2, 6, 3) 11\n",
            "dummy is [2, 7, 6, 3, 5, 1]\n",
            "(2, 6, 5) 13\n",
            "dummy is [2, 7, 6, 3, 5, 1]\n",
            "(2, 6, 1) 9\n",
            "(2, 6, 1) 9 *\n",
            "dummy is [2, 7, 6, 3, 5, 1]\n",
            "(2, 3, 5) 10\n",
            "dummy is [2, 7, 6, 3, 5, 1]\n",
            "(2, 3, 1) 6\n",
            "(2, 3, 1) 3 9 !\n",
            "dummy is [2, 7, 6, 3, 5, 1]\n",
            "(2, 5, 1) 8\n",
            "(2, 5, 1) 1 9 !\n",
            "dummy is [2, 7, 6, 3, 5, 1]\n",
            "(7, 6, 3) 16\n",
            "dummy is [2, 7, 6, 3, 5, 1]\n",
            "(7, 6, 5) 18\n",
            "dummy is [2, 7, 6, 3, 5, 1]\n",
            "(7, 6, 1) 14\n",
            "dummy is [2, 7, 6, 3, 5, 1]\n",
            "(7, 3, 5) 15\n",
            "dummy is [2, 7, 6, 3, 5, 1]\n",
            "(7, 3, 1) 11\n",
            "dummy is [2, 7, 6, 3, 5, 1]\n",
            "(7, 5, 1) 13\n",
            "dummy is [2, 7, 6, 3, 5, 1]\n",
            "(6, 3, 5) 14\n",
            "dummy is [2, 7, 6, 3, 5, 1]\n",
            "(6, 3, 1) 10\n",
            "dummy is [2, 7, 6, 3, 5, 1]\n",
            "(6, 5, 1) 12\n",
            "dummy is [2, 7, 6, 3, 5, 1]\n",
            "(3, 5, 1) 9\n",
            "(3, 5, 1) 9 *\n",
            "dummy is [2, 7, 6, 3, 5, 1]\n",
            "(2, 7, 6, 3) 18\n",
            "dummy is [2, 7, 6, 3, 5, 1]\n",
            "(2, 7, 6, 5) 20\n",
            "dummy is [2, 7, 6, 3, 5, 1]\n",
            "(2, 7, 6, 1) 16\n",
            "dummy is [2, 7, 6, 3, 5, 1]\n",
            "(2, 7, 3, 5) 17\n",
            "dummy is [2, 7, 6, 3, 5, 1]\n",
            "(2, 7, 3, 1) 13\n",
            "dummy is [2, 7, 6, 3, 5, 1]\n",
            "(2, 7, 5, 1) 15\n",
            "dummy is [2, 7, 6, 3, 5, 1]\n",
            "(2, 6, 3, 5) 16\n",
            "dummy is [2, 7, 6, 3, 5, 1]\n",
            "(2, 6, 3, 1) 12\n",
            "dummy is [2, 7, 6, 3, 5, 1]\n",
            "(2, 6, 5, 1) 14\n",
            "dummy is [2, 7, 6, 3, 5, 1]\n",
            "(2, 3, 5, 1) 11\n",
            "dummy is [2, 7, 6, 3, 5, 1]\n",
            "(7, 6, 3, 5) 21\n",
            "dummy is [2, 7, 6, 3, 5, 1]\n",
            "(7, 6, 3, 1) 17\n",
            "dummy is [2, 7, 6, 3, 5, 1]\n",
            "(7, 6, 5, 1) 19\n",
            "dummy is [2, 7, 6, 3, 5, 1]\n",
            "(7, 3, 5, 1) 16\n",
            "dummy is [2, 7, 6, 3, 5, 1]\n",
            "(6, 3, 5, 1) 15\n",
            "dummy is [2, 7, 6, 3, 5, 1]\n",
            "(2, 7, 6, 3, 5) 23\n",
            "dummy is [2, 7, 6, 3, 5, 1]\n",
            "(2, 7, 6, 3, 1) 19\n",
            "dummy is [2, 7, 6, 3, 5, 1]\n",
            "(2, 7, 6, 5, 1) 21\n",
            "dummy is [2, 7, 6, 3, 5, 1]\n",
            "(2, 7, 3, 5, 1) 18\n",
            "dummy is [2, 7, 6, 3, 5, 1]\n",
            "(2, 6, 3, 5, 1) 17\n",
            "dummy is [2, 7, 6, 3, 5, 1]\n",
            "(7, 6, 3, 5, 1) 22\n",
            "dummy is [2, 7, 6, 3, 5, 1]\n",
            "(2, 7, 6, 3, 5, 1) 24\n"
          ]
        }
      ]
    },
    {
      "cell_type": "code",
      "metadata": {
        "colab": {
          "base_uri": "https://localhost:8080/"
        },
        "id": "CacaDTtsmOiN",
        "outputId": "ca2f5354-72d2-4dc7-f91f-eab55329e39f"
      },
      "source": [
        "answer"
      ],
      "execution_count": 91,
      "outputs": [
        {
          "output_type": "execute_result",
          "data": {
            "text/plain": [
              "[[2, 7],\n",
              " [3, 3, 3],\n",
              " [3, 6],\n",
              " [1, 1, 1, 1, 1, 1, 1, 1, 1],\n",
              " [1, 2, 6],\n",
              " [2, 2, 5],\n",
              " [1, 2, 6],\n",
              " [1, 1, 7],\n",
              " [3, 6],\n",
              " [1, 2, 6],\n",
              " [1, 3, 5],\n",
              " [1, 3, 5],\n",
              " [1, 3, 5],\n",
              " [1, 2, 6],\n",
              " [1, 2, 3, 3],\n",
              " [1, 1, 2, 5],\n",
              " [1, 3, 5]]"
            ]
          },
          "metadata": {},
          "execution_count": 91
        }
      ]
    },
    {
      "cell_type": "code",
      "metadata": {
        "id": "KMM1A-avzfRz"
      },
      "source": [
        "[[1,1,1,1,1,1,1,1,1],\n",
        " [1,1,1,1,1,1,1,2],[1,1,1,1,1,1,3],[1,1,1,1,1,2,2],[1,1,1,1,2,3],[1,1,1,1,5],[1,1,1,2,2,2],[1,1,1,3,3],[1,1,1,6],[1,1,2,2,3],[1,1,2,5],[1,1,7],[1,2,2,2,2],[1,2,3,3],[1,2,6],[1,3,5],[2,2,2,3],[2,2,5],[2,7],[3,3,3],[3,6]]"
      ],
      "execution_count": null,
      "outputs": []
    },
    {
      "cell_type": "code",
      "metadata": {
        "colab": {
          "base_uri": "https://localhost:8080/"
        },
        "id": "rzDCbn2DvODe",
        "outputId": "7ecfa69a-2aa9-4e54-888b-c8baa8c73f12"
      },
      "source": [
        "[5, 3] == [3, 5]"
      ],
      "execution_count": 83,
      "outputs": [
        {
          "output_type": "execute_result",
          "data": {
            "text/plain": [
              "False"
            ]
          },
          "metadata": {},
          "execution_count": 83
        }
      ]
    },
    {
      "cell_type": "code",
      "metadata": {
        "id": "TwOrmuSsvuYR"
      },
      "source": [
        "#solution\n",
        "from typing import List\n",
        "\n",
        "\n",
        "class Solution:\n",
        "    def combinationSum(self, candidates: List[int], target: int) \\\n",
        "            -> List[List[int]]:\n",
        "        result = []\n",
        "\n",
        "        def dfs(csum, index, path):\n",
        "            # 종료 조건\n",
        "            if csum < 0:\n",
        "                return\n",
        "            if csum == 0:\n",
        "                result.append(path)\n",
        "                return\n",
        "\n",
        "            # 자신 부터 하위 원소 까지의 나열 재귀 호출\n",
        "            for i in range(index, len(candidates)):\n",
        "                dfs(csum - candidates[i], i, path + [candidates[i]])\n",
        "\n",
        "        dfs(target, 0, [])\n",
        "        return result"
      ],
      "execution_count": null,
      "outputs": []
    }
  ]
}