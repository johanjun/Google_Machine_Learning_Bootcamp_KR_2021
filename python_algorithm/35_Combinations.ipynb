{
  "nbformat": 4,
  "nbformat_minor": 0,
  "metadata": {
    "colab": {
      "name": "35. Combinations.ipynb",
      "provenance": [],
      "authorship_tag": "ABX9TyPvrV3cfmHl5sobARaO3djh",
      "include_colab_link": true
    },
    "kernelspec": {
      "name": "python3",
      "display_name": "Python 3"
    },
    "language_info": {
      "name": "python"
    }
  },
  "cells": [
    {
      "cell_type": "markdown",
      "metadata": {
        "id": "view-in-github",
        "colab_type": "text"
      },
      "source": [
        "<a href=\"https://colab.research.google.com/github/johanjun/Google_Machine_Learning_Bootcamp_KR_2021/blob/main/python_algorithm/35_Combinations.ipynb\" target=\"_parent\"><img src=\"https://colab.research.google.com/assets/colab-badge.svg\" alt=\"Open In Colab\"/></a>"
      ]
    },
    {
      "cell_type": "markdown",
      "metadata": {
        "id": "EtGaNGWX4lHa"
      },
      "source": [
        "Given two integers n and k, return all possible combinations of k numbers out of the range [1, n].\n",
        "\n",
        "You may return the answer in any order.\n",
        "\n",
        " \n",
        "```\n",
        "Example 1:\n",
        "\n",
        "Input: n = 4, k = 2\n",
        "Output:\n",
        "[\n",
        "  [2,4],\n",
        "  [3,4],\n",
        "  [2,3],\n",
        "  [1,2],\n",
        "  [1,3],\n",
        "  [1,4],\n",
        "]\n",
        "Example 2:\n",
        "\n",
        "Input: n = 1, k = 1\n",
        "Output: [[1]]\n",
        " ```\n",
        " \n",
        " ```\n",
        "Constraints:\n",
        "\n",
        "1 <= n <= 20\n",
        "1 <= k <= n\n",
        "```"
      ]
    },
    {
      "cell_type": "code",
      "metadata": {
        "id": "-jAF6yXR4rzq"
      },
      "source": [
        "import itertools"
      ],
      "execution_count": 1,
      "outputs": []
    },
    {
      "cell_type": "code",
      "metadata": {
        "id": "_wusDFqV4vE3"
      },
      "source": [
        "n = 4\n",
        "k = 2"
      ],
      "execution_count": 3,
      "outputs": []
    },
    {
      "cell_type": "code",
      "metadata": {
        "colab": {
          "base_uri": "https://localhost:8080/"
        },
        "id": "c8QWW01M4xny",
        "outputId": "31ac8eb8-a06c-4067-bef9-8fce488a08bb"
      },
      "source": [
        "list(itertools.combinations(range(1, n+1), k))"
      ],
      "execution_count": 8,
      "outputs": [
        {
          "output_type": "execute_result",
          "data": {
            "text/plain": [
              "[(1, 2), (1, 3), (1, 4), (2, 3), (2, 4), (3, 4)]"
            ]
          },
          "metadata": {},
          "execution_count": 8
        }
      ]
    },
    {
      "cell_type": "code",
      "metadata": {
        "id": "3Jpe_Bj641rE"
      },
      "source": [
        ""
      ],
      "execution_count": null,
      "outputs": []
    }
  ]
}