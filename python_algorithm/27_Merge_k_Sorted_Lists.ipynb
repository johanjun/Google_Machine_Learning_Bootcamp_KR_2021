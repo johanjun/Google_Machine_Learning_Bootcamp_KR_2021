{
  "nbformat": 4,
  "nbformat_minor": 0,
  "metadata": {
    "colab": {
      "name": "27. Merge k Sorted Lists.ipynb",
      "provenance": [],
      "authorship_tag": "ABX9TyPFWCXR0fkxa76ymc21giUE",
      "include_colab_link": true
    },
    "kernelspec": {
      "name": "python3",
      "display_name": "Python 3"
    },
    "language_info": {
      "name": "python"
    }
  },
  "cells": [
    {
      "cell_type": "markdown",
      "metadata": {
        "id": "view-in-github",
        "colab_type": "text"
      },
      "source": [
        "<a href=\"https://colab.research.google.com/github/johanjun/Google_Machine_Learning_Bootcamp_KR_2021/blob/main/python_algorithm/27_Merge_k_Sorted_Lists.ipynb\" target=\"_parent\"><img src=\"https://colab.research.google.com/assets/colab-badge.svg\" alt=\"Open In Colab\"/></a>"
      ]
    },
    {
      "cell_type": "markdown",
      "metadata": {
        "id": "uudD77RjJO9E"
      },
      "source": [
        "You are given an array of k linked-lists lists, each linked-list is sorted in ascending order.\n",
        "\n",
        "Merge all the linked-lists into one sorted linked-list and return it.\n",
        "\n",
        " \n",
        "```\n",
        "Example 1:\n",
        "\n",
        "Input: lists = [[1,4,5],[1,3,4],[2,6]]\n",
        "Output: [1,1,2,3,4,4,5,6]\n",
        "Explanation: The linked-lists are:\n",
        "[\n",
        "  1->4->5,\n",
        "  1->3->4,\n",
        "  2->6\n",
        "]\n",
        "merging them into one sorted list:\n",
        "1->1->2->3->4->4->5->6\n",
        "Example 2:\n",
        "\n",
        "Input: lists = []\n",
        "Output: []\n",
        "Example 3:\n",
        "\n",
        "Input: lists = [[]]\n",
        "Output: []\n",
        " ```\n",
        "```\n",
        "Constraints:\n",
        "\n",
        "k == lists.length\n",
        "0 <= k <= 10^4\n",
        "0 <= lists[i].length <= 500\n",
        "-10^4 <= lists[i][j] <= 10^4\n",
        "lists[i] is sorted in ascending order.\n",
        "The sum of lists[i].length won't exceed 10^4.\n",
        "```"
      ]
    },
    {
      "cell_type": "code",
      "metadata": {
        "id": "AcDgSwtAJVwu"
      },
      "source": [
        "lists = [[1,4,5],[1,3,4],[2,6]]"
      ],
      "execution_count": null,
      "outputs": []
    },
    {
      "cell_type": "code",
      "metadata": {
        "id": "yCbleiA-JiTx"
      },
      "source": [
        "new_lists = []\n",
        "for l in lists:\n",
        "  new_lists += l"
      ],
      "execution_count": null,
      "outputs": []
    },
    {
      "cell_type": "code",
      "metadata": {
        "colab": {
          "base_uri": "https://localhost:8080/"
        },
        "id": "iUjncfYMJrRH",
        "outputId": "69c46b5e-bf8d-4b32-eb30-951e1dfe3468"
      },
      "source": [
        "sorted(new_lists)"
      ],
      "execution_count": null,
      "outputs": [
        {
          "output_type": "execute_result",
          "data": {
            "text/plain": [
              "[1, 1, 2, 3, 4, 4, 5, 6]"
            ]
          },
          "metadata": {},
          "execution_count": 4
        }
      ]
    },
    {
      "cell_type": "code",
      "metadata": {
        "id": "lzlqcPn3Jr30"
      },
      "source": [
        "lists = [[], []]"
      ],
      "execution_count": null,
      "outputs": []
    },
    {
      "cell_type": "code",
      "metadata": {
        "id": "pxUZUqY1J7K7"
      },
      "source": [
        "new_lists = []\n",
        "for l in lists:\n",
        "  new_lists += l"
      ],
      "execution_count": null,
      "outputs": []
    },
    {
      "cell_type": "code",
      "metadata": {
        "colab": {
          "base_uri": "https://localhost:8080/"
        },
        "id": "Gvb_rCBeJ7h0",
        "outputId": "202c5810-05fb-40a3-eac3-22de109cb79a"
      },
      "source": [
        "sorted(new_lists)"
      ],
      "execution_count": null,
      "outputs": [
        {
          "output_type": "execute_result",
          "data": {
            "text/plain": [
              "[]"
            ]
          },
          "metadata": {},
          "execution_count": 7
        }
      ]
    },
    {
      "cell_type": "code",
      "metadata": {
        "colab": {
          "base_uri": "https://localhost:8080/"
        },
        "id": "jjMNh01DJ8hI",
        "outputId": "d3197a47-3abf-4cf8-fae1-f792bdb6c478"
      },
      "source": [
        "[] == None"
      ],
      "execution_count": null,
      "outputs": [
        {
          "output_type": "execute_result",
          "data": {
            "text/plain": [
              "False"
            ]
          },
          "metadata": {},
          "execution_count": 8
        }
      ]
    },
    {
      "cell_type": "code",
      "metadata": {
        "id": "8sE3VIbcQyXA"
      },
      "source": [
        "# Definition for singly-linked list.\n",
        "# class ListNode:\n",
        "#     def __init__(self, val=0, next=None):\n",
        "#         self.val = val\n",
        "#         self.next = next\n",
        "class Solution:\n",
        "    # list to node\n",
        "    def list2node(self, list1: List) -> ListNode: #ref : https://velog.io/@minjung-s/node2list\n",
        "        result_node = ListNode()\n",
        "\n",
        "        for i,num in enumerate(list1):\n",
        "            if i == 0 :\n",
        "                result_node.val = num\n",
        "            else :\n",
        "                node = result_node\n",
        "                while node.next != None:\n",
        "                    node = node.next\n",
        "                node.next = ListNode(num)\n",
        "        return result_node\n",
        "                       \n",
        "    def mergeKLists(self, lists: List[Optional[ListNode]]) -> Optional[ListNode]:\n",
        "        \n",
        "        q: List = []\n",
        "        \n",
        "        # 리스트 변환\n",
        "        for i in lists:\n",
        "            node1 = i\n",
        "            while node1 is not None:\n",
        "                q.append(node1.val)\n",
        "                node1 = node1.next\n",
        "                \n",
        "        # 빈 리스트 반환\n",
        "        if q:\n",
        "            pass\n",
        "        else:\n",
        "            q: ListNode = None\n",
        "            return q\n",
        "        \n",
        "        return self.list2node(sorted(q))"
      ],
      "execution_count": null,
      "outputs": []
    }
  ]
}