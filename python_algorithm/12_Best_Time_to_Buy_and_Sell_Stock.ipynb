{
  "nbformat": 4,
  "nbformat_minor": 0,
  "metadata": {
    "colab": {
      "name": "12. Best Time to Buy and Sell Stock.ipynb",
      "provenance": [],
      "authorship_tag": "ABX9TyO5FE69UsAzZ9i8yUEyfXNG",
      "include_colab_link": true
    },
    "kernelspec": {
      "display_name": "Python 3",
      "name": "python3"
    },
    "language_info": {
      "name": "python"
    }
  },
  "cells": [
    {
      "cell_type": "markdown",
      "metadata": {
        "id": "view-in-github",
        "colab_type": "text"
      },
      "source": [
        "<a href=\"https://colab.research.google.com/github/johanjun/Google_Machine_Learning_Bootcamp_KR_2021/blob/main/python_algorithm/12_Best_Time_to_Buy_and_Sell_Stock.ipynb\" target=\"_parent\"><img src=\"https://colab.research.google.com/assets/colab-badge.svg\" alt=\"Open In Colab\"/></a>"
      ]
    },
    {
      "cell_type": "markdown",
      "metadata": {
        "id": "KrrBeWZtmVys"
      },
      "source": [
        "You are given an array prices where prices[i] is the price of a given stock on the ith day.\n",
        "\n",
        "You want to maximize your profit by choosing a single day to buy one stock and choosing a different day in the future to sell that stock.\n",
        "\n",
        "Return the maximum profit you can achieve from this transaction. If you cannot achieve any profit, return 0.\n",
        "\n",
        " \n",
        "```\n",
        "Example 1:\n",
        "\n",
        "Input: prices = [7,1,5,3,6,4]\n",
        "Output: 5\n",
        "Explanation: Buy on day 2 (price = 1) and sell on day 5 (price = 6), profit = 6-1 = 5.\n",
        "Note that buying on day 2 and selling on day 1 is not allowed because you must buy before you sell.\n",
        "Example 2:\n",
        "\n",
        "Input: prices = [7,6,4,3,1]\n",
        "Output: 0\n",
        "Explanation: In this case, no transactions are done and the max profit = 0.\n",
        " ```\n",
        "```\n",
        "Constraints:\n",
        "\n",
        "1 <= prices.length <= 105\n",
        "0 <= prices[i] <= 104\n",
        "```"
      ]
    },
    {
      "cell_type": "code",
      "metadata": {
        "colab": {
          "base_uri": "https://localhost:8080/"
        },
        "id": "S3bpVEA8oo36",
        "outputId": "9358de68-2df8-40fe-b069-03d1db8a2184"
      },
      "source": [
        "prices = [7,1,5,3,6,4]\n",
        "max(prices)"
      ],
      "execution_count": null,
      "outputs": [
        {
          "data": {
            "text/plain": [
              "7"
            ]
          },
          "execution_count": 19,
          "metadata": {},
          "output_type": "execute_result"
        }
      ]
    },
    {
      "cell_type": "code",
      "metadata": {
        "colab": {
          "background_save": true,
          "base_uri": "https://localhost:8080/"
        },
        "id": "18DTfCTbmk6Y",
        "outputId": "94e4dbd7-c344-4465-89d9-bc677f777c5a"
      },
      "source": [
        "prices = [7,6,4,3,1]\n",
        "check = []\n",
        "for i, p in enumerate(prices):\n",
        "  val = [q-p for i, q in enumerate(prices[i+1:])]\n",
        "  if val:\n",
        "    check.append(max(val))\n",
        "    print(p, val)\n",
        "  # check = max(check)\n",
        "  print(max(check))"
      ],
      "execution_count": null,
      "outputs": [
        {
          "name": "stdout",
          "output_type": "stream",
          "text": [
            "7 [-1, -3, -4, -6]\n",
            "-1\n",
            "6 [-2, -3, -5]\n",
            "-1\n",
            "4 [-1, -3]\n",
            "-1\n",
            "3 [-2]\n",
            "-1\n",
            "-1\n"
          ]
        }
      ]
    },
    {
      "cell_type": "code",
      "metadata": {
        "colab": {
          "base_uri": "https://localhost:8080/"
        },
        "id": "U9kyFu0UnCw4",
        "outputId": "b9d3bd90-c6f7-4aa9-9073-db27cee47339"
      },
      "source": [
        "prices = [7,1,5,3,6,4]\n",
        "[print(p, prices[i+1:]) for i, p in enumerate(prices[i+1:])]"
      ],
      "execution_count": null,
      "outputs": [
        {
          "data": {
            "text/plain": [
              "[]"
            ]
          },
          "execution_count": 10,
          "metadata": {},
          "output_type": "execute_result"
        }
      ]
    },
    {
      "cell_type": "code",
      "metadata": {
        "id": "UZ1vgbYsnqpf"
      },
      "source": [
        "#solution\n",
        "import sys\n",
        "from typing import List\n",
        "\n",
        "\n",
        "class Solution:\n",
        "    def maxProfit(self, prices: List[int]) -> int:\n",
        "        profit = 0\n",
        "        min_price = sys.maxsize\n",
        "\n",
        "        # 최소값과 최대값 계속 갱신\n",
        "        for price in prices:\n",
        "            min_price = min(min_price, price)\n",
        "            profit = max(profit, price - min_price)\n",
        "\n",
        "        return profit"
      ],
      "execution_count": null,
      "outputs": []
    }
  ]
}