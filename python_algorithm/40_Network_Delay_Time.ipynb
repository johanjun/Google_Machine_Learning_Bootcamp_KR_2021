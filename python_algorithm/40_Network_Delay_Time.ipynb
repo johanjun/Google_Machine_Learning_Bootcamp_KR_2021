{
  "nbformat": 4,
  "nbformat_minor": 0,
  "metadata": {
    "colab": {
      "name": "40. Network Delay Time.ipynb",
      "provenance": [],
      "collapsed_sections": [],
      "authorship_tag": "ABX9TyP5s3NrkvbiLwNYuN8Nagxi",
      "include_colab_link": true
    },
    "kernelspec": {
      "name": "python3",
      "display_name": "Python 3"
    },
    "language_info": {
      "name": "python"
    }
  },
  "cells": [
    {
      "cell_type": "markdown",
      "metadata": {
        "id": "view-in-github",
        "colab_type": "text"
      },
      "source": [
        "<a href=\"https://colab.research.google.com/github/johanjun/Google_Machine_Learning_Bootcamp_KR_2021/blob/main/python_algorithm/40_Network_Delay_Time.ipynb\" target=\"_parent\"><img src=\"https://colab.research.google.com/assets/colab-badge.svg\" alt=\"Open In Colab\"/></a>"
      ]
    },
    {
      "cell_type": "markdown",
      "metadata": {
        "id": "vnGBA5vcbg2p"
      },
      "source": [
        "You are given a network of n nodes, labeled from 1 to n. You are also given times, a list of travel times as directed edges times[i] = (ui, vi, wi), where ui is the source node, vi is the target node, and wi is the time it takes for a signal to travel from source to target.\n",
        "\n",
        "We will send a signal from a given node k. Return the time it takes for all the n nodes to receive the signal. If it is impossible for all the n nodes to receive the signal, return -1.\n",
        "\n",
        " \n",
        "```\n",
        "Example 1:\n",
        "\n",
        "\n",
        "Input: times = [[2,1,1],[2,3,1],[3,4,1]], n = 4, k = 2\n",
        "Output: 2\n",
        "Example 2:\n",
        "\n",
        "Input: times = [[1,2,1]], n = 2, k = 1\n",
        "Output: 1\n",
        "Example 3:\n",
        "\n",
        "Input: times = [[1,2,1]], n = 2, k = 2\n",
        "Output: -1\n",
        "```\n",
        "\n",
        "```\n",
        "Constraints:\n",
        "\n",
        "1 <= k <= n <= 100\n",
        "1 <= times.length <= 6000\n",
        "times[i].length == 3\n",
        "1 <= ui, vi <= n\n",
        "ui != vi\n",
        "0 <= wi <= 100\n",
        "All the pairs (ui, vi) are unique. (i.e., no multiple edges.)\n",
        "```"
      ]
    },
    {
      "cell_type": "code",
      "metadata": {
        "id": "KBssVDf4b_G5"
      },
      "source": [
        "times = [[1,2,1],[2,3,7],[1,3,4],[2,1,2]]\n",
        "k = 1"
      ],
      "execution_count": 212,
      "outputs": []
    },
    {
      "cell_type": "code",
      "metadata": {
        "id": "b7V0-ERNxVvT"
      },
      "source": [
        "nodes = []\n",
        "for t in times:\n",
        "  nodes.append(t[0])\n",
        "  nodes.append(t[1])\n",
        "nodes = list(set(nodes))"
      ],
      "execution_count": 213,
      "outputs": []
    },
    {
      "cell_type": "code",
      "metadata": {
        "colab": {
          "base_uri": "https://localhost:8080/"
        },
        "id": "4AYnx5vmxbXR",
        "outputId": "b26912fa-e662-43c9-e103-bf23f0abf18b"
      },
      "source": [
        "nodes"
      ],
      "execution_count": 214,
      "outputs": [
        {
          "output_type": "execute_result",
          "data": {
            "text/plain": [
              "[1, 2, 3]"
            ]
          },
          "metadata": {},
          "execution_count": 214
        }
      ]
    },
    {
      "cell_type": "code",
      "metadata": {
        "colab": {
          "base_uri": "https://localhost:8080/"
        },
        "id": "ZmhMdBApdD51",
        "outputId": "6cbed45d-a4c5-4819-f381-803bb094d39e"
      },
      "source": [
        "for t in times:\n",
        "  for u in times:\n",
        "    if u[0] == t[1]:\n",
        "      if u[1] != t[0]:\n",
        "        print(t, u)\n",
        "        times.append([t[0], u[1], t[2]+u[2]])"
      ],
      "execution_count": 215,
      "outputs": [
        {
          "output_type": "stream",
          "name": "stdout",
          "text": [
            "[1, 2, 1] [2, 3, 7]\n",
            "[2, 1, 2] [1, 3, 4]\n",
            "[2, 1, 2] [1, 3, 8]\n"
          ]
        }
      ]
    },
    {
      "cell_type": "code",
      "metadata": {
        "colab": {
          "base_uri": "https://localhost:8080/"
        },
        "id": "ZVnyp4-ygLQK",
        "outputId": "888ad142-80e1-4472-b38a-89a3a4027141"
      },
      "source": [
        "times"
      ],
      "execution_count": 216,
      "outputs": [
        {
          "output_type": "execute_result",
          "data": {
            "text/plain": [
              "[[1, 2, 1], [2, 3, 7], [1, 3, 4], [2, 1, 2], [1, 3, 8], [2, 3, 6], [2, 3, 10]]"
            ]
          },
          "metadata": {},
          "execution_count": 216
        }
      ]
    },
    {
      "cell_type": "code",
      "metadata": {
        "id": "Fxg9QJ9zdPV8"
      },
      "source": [
        "import collections\n",
        "\n",
        "graph = collections.defaultdict(list)\n",
        "# 그래프 구성\n",
        "for x, y, z in times:\n",
        "    graph[x].append(y)"
      ],
      "execution_count": 217,
      "outputs": []
    },
    {
      "cell_type": "code",
      "metadata": {
        "colab": {
          "base_uri": "https://localhost:8080/"
        },
        "id": "wi0xEE4WdbAf",
        "outputId": "f1759eab-8354-4422-c67d-e0e7d1e26ec3"
      },
      "source": [
        "graph"
      ],
      "execution_count": 218,
      "outputs": [
        {
          "output_type": "execute_result",
          "data": {
            "text/plain": [
              "defaultdict(list, {1: [2, 3, 3], 2: [3, 1, 3, 3]})"
            ]
          },
          "metadata": {},
          "execution_count": 218
        }
      ]
    },
    {
      "cell_type": "code",
      "metadata": {
        "id": "E2eZ_cHyeLGZ"
      },
      "source": [
        "graph_distance = collections.defaultdict(list)\n",
        "\n",
        "for x, y, z in times:\n",
        "    graph_distance[x, y].append(z)\n",
        "\n",
        "for d in graph_distance:\n",
        "  graph_distance[d] = min(graph_distance[d])"
      ],
      "execution_count": 219,
      "outputs": []
    },
    {
      "cell_type": "code",
      "metadata": {
        "colab": {
          "base_uri": "https://localhost:8080/"
        },
        "id": "g0WXp2ZteW0m",
        "outputId": "4316876f-170d-4259-cb1d-567dd608760d"
      },
      "source": [
        "graph_distance"
      ],
      "execution_count": 220,
      "outputs": [
        {
          "output_type": "execute_result",
          "data": {
            "text/plain": [
              "defaultdict(list, {(1, 2): 1, (1, 3): 4, (2, 1): 2, (2, 3): 6})"
            ]
          },
          "metadata": {},
          "execution_count": 220
        }
      ]
    },
    {
      "cell_type": "code",
      "metadata": {
        "colab": {
          "base_uri": "https://localhost:8080/"
        },
        "id": "ZctjHbgdy3Ep",
        "outputId": "caff7d39-71a1-4892-e530-f95477a6b817"
      },
      "source": [
        "nodes"
      ],
      "execution_count": 221,
      "outputs": [
        {
          "output_type": "execute_result",
          "data": {
            "text/plain": [
              "[1, 2, 3]"
            ]
          },
          "metadata": {},
          "execution_count": 221
        }
      ]
    },
    {
      "cell_type": "code",
      "metadata": {
        "id": "rMP_mZdNjS0T"
      },
      "source": [
        "# check = []\n",
        "nodes.remove(k)\n",
        "for n in nodes:\n",
        "  if n not in graph[k]:\n",
        "    print(\"no way\")\n",
        "# for g in graph[k]:\n",
        "#   check.append((k, g))\n",
        "\n",
        "# print(check)\n",
        "# for c in check:\n",
        "#   if c not in graph_distance:\n",
        "#     print(\"no way\")"
      ],
      "execution_count": 222,
      "outputs": []
    },
    {
      "cell_type": "code",
      "metadata": {
        "id": "0fzxbYaDdmIv",
        "colab": {
          "base_uri": "https://localhost:8080/"
        },
        "outputId": "b5fb2663-467e-4488-d44f-e6d236774fd0"
      },
      "source": [
        "check = []\n",
        "for t in times:\n",
        "    if k in graph:\n",
        "        # print(graph_distance[(k, t[1])])\n",
        "        check.append(graph_distance[(k, t[1])])\n",
        "if [] in check:\n",
        "    check.remove([])\n",
        "# print(check)\n",
        "if len(check) == 1:\n",
        "    print(check[0])\n",
        "elif len(check) > 1:\n",
        "    print(max(check))\n",
        "else:\n",
        "    print(-1)"
      ],
      "execution_count": 223,
      "outputs": [
        {
          "output_type": "stream",
          "name": "stdout",
          "text": [
            "4\n"
          ]
        }
      ]
    },
    {
      "cell_type": "markdown",
      "metadata": {
        "id": "vl9wYZmolPo_"
      },
      "source": [
        "---"
      ]
    },
    {
      "cell_type": "code",
      "metadata": {
        "id": "_cYv0DFSdb61"
      },
      "source": [
        "import collections\n",
        "\n",
        "class Solution:\n",
        "    def networkDelayTime(self, times: List[List[int]], n: int, k: int) -> int:\n",
        "        \n",
        "        nodes = []\n",
        "        for t in times:\n",
        "            nodes.append(t[0])\n",
        "            nodes.append(t[1])\n",
        "        nodes = list(set(nodes))\n",
        "        \n",
        "        for t in times:\n",
        "            for u in times:\n",
        "                if u[0] == t[1]:\n",
        "                    if u[1] != t[0]:\n",
        "                        times.append([t[0], u[1], t[2]+u[2]])\n",
        "    \n",
        "        # node 그래프 구성\n",
        "        graph = collections.defaultdict(list)\n",
        "        for x, y, z in times:\n",
        "            graph[x].append(y)\n",
        "        # print(graph)\n",
        "        \n",
        "        # distance 그래프 구성\n",
        "        graph_distance = collections.defaultdict(list)\n",
        "        for x, y, z in times:\n",
        "            graph_distance[x, y].append(z)\n",
        "        # print(graph_distance)\n",
        "        for d in graph_distance:\n",
        "            graph_distance[d] = min(graph_distance[d])\n",
        "        \n",
        "        # print(graph)\n",
        "        # print(graph_distance)\n",
        "\n",
        "        check = []\n",
        "        for t in times:\n",
        "            if k in graph:\n",
        "                # print(graph_distance[(k, t[1])])\n",
        "                check.append(graph_distance[(k, t[1])])\n",
        "        if [] in check:\n",
        "            check.remove([])\n",
        "        # print(check)\n",
        "        \n",
        "        nodes.remove(k)\n",
        "        for n in nodes:\n",
        "            if n not in graph[k]:\n",
        "                return -1\n",
        "    \n",
        "        if len(check) == 1:\n",
        "            return check[0]\n",
        "        elif len(check) > 1:\n",
        "            return max(check)\n",
        "        else:\n",
        "            return -1"
      ],
      "execution_count": null,
      "outputs": []
    },
    {
      "cell_type": "code",
      "metadata": {
        "id": "PjU4V84Q1ILP"
      },
      "source": [
        ""
      ],
      "execution_count": null,
      "outputs": []
    }
  ]
}