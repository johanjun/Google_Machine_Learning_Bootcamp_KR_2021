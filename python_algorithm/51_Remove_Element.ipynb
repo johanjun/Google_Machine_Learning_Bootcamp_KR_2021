{
  "nbformat": 4,
  "nbformat_minor": 0,
  "metadata": {
    "colab": {
      "name": "51. Remove Element.ipynb",
      "provenance": [],
      "authorship_tag": "ABX9TyMTvg0AVEMHUqRwuWsxKZOL",
      "include_colab_link": true
    },
    "kernelspec": {
      "name": "python3",
      "display_name": "Python 3"
    },
    "language_info": {
      "name": "python"
    }
  },
  "cells": [
    {
      "cell_type": "markdown",
      "metadata": {
        "id": "view-in-github",
        "colab_type": "text"
      },
      "source": [
        "<a href=\"https://colab.research.google.com/github/johanjun/Google_Machine_Learning_Bootcamp_KR_2021/blob/main/python_algorithm/51_Remove_Element.ipynb\" target=\"_parent\"><img src=\"https://colab.research.google.com/assets/colab-badge.svg\" alt=\"Open In Colab\"/></a>"
      ]
    },
    {
      "cell_type": "markdown",
      "metadata": {
        "id": "YNFDPokD7MLn"
      },
      "source": [
        "Given an integer array nums and an integer val, remove all occurrences of val in nums in-place. The relative order of the elements may be changed.\n",
        "\n",
        "Since it is impossible to change the length of the array in some languages, you must instead have the result be placed in the first part of the array nums. More formally, if there are k elements after removing the duplicates, then the first k elements of nums should hold the final result. It does not matter what you leave beyond the first k elements.\n",
        "\n",
        "Return k after placing the final result in the first k slots of nums.\n",
        "\n",
        "Do not allocate extra space for another array. You must do this by modifying the input array in-place with O(1) extra memory.\n",
        "\n",
        "Custom Judge:\n",
        "\n",
        "The judge will test your solution with the following code:\n",
        "\n",
        "int[] nums = [...]; // Input array\n",
        "int val = ...; // Value to remove\n",
        "int[] expectedNums = [...]; // The expected answer with correct length.\n",
        "                            // It is sorted with no values equaling val.\n",
        "\n",
        "int k = removeElement(nums, val); // Calls your implementation\n",
        "\n",
        "assert k == expectedNums.length;\n",
        "sort(nums, 0, k); // Sort the first k elements of nums\n",
        "for (int i = 0; i < actualLength; i++) {\n",
        "    assert nums[i] == expectedNums[i];\n",
        "}\n",
        "If all assertions pass, then your solution will be accepted.\n",
        "\n",
        " \n",
        "```\n",
        "Example 1:\n",
        "\n",
        "Input: nums = [3,2,2,3], val = 3\n",
        "Output: 2, nums = [2,2,_,_]\n",
        "Explanation: Your function should return k = 2, with the first two elements of nums being 2.\n",
        "It does not matter what you leave beyond the returned k (hence they are underscores).\n",
        "Example 2:\n",
        "\n",
        "Input: nums = [0,1,2,2,3,0,4,2], val = 2\n",
        "Output: 5, nums = [0,1,4,0,3,_,_,_]\n",
        "Explanation: Your function should return k = 5, with the first five elements of nums containing 0, 0, 1, 3, and 4.\n",
        "Note that the five elements can be returned in any order.\n",
        "It does not matter what you leave beyond the returned k (hence they are underscores).\n",
        "``` \n",
        "```\n",
        "Constraints:\n",
        "\n",
        "0 <= nums.length <= 100\n",
        "0 <= nums[i] <= 50\n",
        "0 <= val <= 100\n",
        "```"
      ]
    },
    {
      "cell_type": "code",
      "metadata": {
        "id": "NuyF0A1w7TLr"
      },
      "source": [
        "nums = [0,1,2,2,3,0,4,2]\n",
        "val = 2"
      ],
      "execution_count": 5,
      "outputs": []
    },
    {
      "cell_type": "code",
      "metadata": {
        "id": "JDTNi6TF7ayn"
      },
      "source": [
        "for n in nums:\n",
        "  if n == val:\n",
        "    nums.remove(n)"
      ],
      "execution_count": 2,
      "outputs": []
    },
    {
      "cell_type": "code",
      "metadata": {
        "colab": {
          "base_uri": "https://localhost:8080/"
        },
        "id": "uEL6MfH67b7s",
        "outputId": "97308b7a-8366-4fdb-f827-e56f2f1b0b51"
      },
      "source": [
        "nums"
      ],
      "execution_count": 3,
      "outputs": [
        {
          "output_type": "execute_result",
          "data": {
            "text/plain": [
              "[0, 1, 3, 0, 4, 2]"
            ]
          },
          "metadata": {},
          "execution_count": 3
        }
      ]
    },
    {
      "cell_type": "code",
      "metadata": {
        "id": "Plt2ocgd7cQP",
        "colab": {
          "base_uri": "https://localhost:8080/"
        },
        "outputId": "aa121d50-9a18-4100-f74d-27e05f4c50a8"
      },
      "source": [
        "[n for n in nums if n != val]"
      ],
      "execution_count": 7,
      "outputs": [
        {
          "output_type": "execute_result",
          "data": {
            "text/plain": [
              "[0, 1, 3, 0, 4]"
            ]
          },
          "metadata": {},
          "execution_count": 7
        }
      ]
    },
    {
      "cell_type": "code",
      "metadata": {
        "id": "H7wk9KpJ0O-j"
      },
      "source": [
        "def removeElement(self, nums: List[int], val: int) -> int:\n",
        "    i = 0\n",
        "    for x in nums:\n",
        "        if x != val:\n",
        "            nums[i] = x\n",
        "            i += 1\n",
        "    return i"
      ],
      "execution_count": null,
      "outputs": []
    }
  ]
}