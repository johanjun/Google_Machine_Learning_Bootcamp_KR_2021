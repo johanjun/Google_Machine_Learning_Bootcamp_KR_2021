{
  "nbformat": 4,
  "nbformat_minor": 0,
  "metadata": {
    "colab": {
      "name": "37. Subsets.ipynb",
      "provenance": [],
      "collapsed_sections": [],
      "authorship_tag": "ABX9TyMnIydPOUFbD+6kwjIoVdBH",
      "include_colab_link": true
    },
    "kernelspec": {
      "name": "python3",
      "display_name": "Python 3"
    },
    "language_info": {
      "name": "python"
    }
  },
  "cells": [
    {
      "cell_type": "markdown",
      "metadata": {
        "id": "view-in-github",
        "colab_type": "text"
      },
      "source": [
        "<a href=\"https://colab.research.google.com/github/johanjun/Google_Machine_Learning_Bootcamp_KR_2021/blob/main/python_algorithm/37_Subsets.ipynb\" target=\"_parent\"><img src=\"https://colab.research.google.com/assets/colab-badge.svg\" alt=\"Open In Colab\"/></a>"
      ]
    },
    {
      "cell_type": "markdown",
      "metadata": {
        "id": "F3eA_UosBuSv"
      },
      "source": [
        "Given an integer array nums of unique elements, return all possible subsets (the power set).\n",
        "\n",
        "The solution set must not contain duplicate subsets. Return the solution in any order.\n",
        "\n",
        " \n",
        "```\n",
        "Example 1:\n",
        "\n",
        "Input: nums = [1,2,3]\n",
        "Output: [[],[1],[2],[1,2],[3],[1,3],[2,3],[1,2,3]]\n",
        "Example 2:\n",
        "\n",
        "Input: nums = [0]\n",
        "Output: [[],[0]]\n",
        "```\n",
        "\n",
        "```\n",
        "Constraints:\n",
        "\n",
        "1 <= nums.length <= 10\n",
        "-10 <= nums[i] <= 10\n",
        "All the numbers of nums are unique.\n",
        "```"
      ]
    },
    {
      "cell_type": "code",
      "metadata": {
        "id": "OrnzsfJjCTiV"
      },
      "source": [
        "import itertools"
      ],
      "execution_count": 1,
      "outputs": []
    },
    {
      "cell_type": "code",
      "metadata": {
        "id": "cPIrqQU1CkT2"
      },
      "source": [
        "nums = [1, 2, 3]\n",
        "k = len(nums)"
      ],
      "execution_count": 2,
      "outputs": []
    },
    {
      "cell_type": "code",
      "metadata": {
        "colab": {
          "base_uri": "https://localhost:8080/"
        },
        "id": "Wfgm7AoMCnVB",
        "outputId": "24b869db-d071-46b1-fa6d-4d4f35bf502c"
      },
      "source": [
        "for i in range(0, k+1):\n",
        "  print(i)"
      ],
      "execution_count": 3,
      "outputs": [
        {
          "output_type": "stream",
          "name": "stdout",
          "text": [
            "0\n",
            "1\n",
            "2\n",
            "3\n"
          ]
        }
      ]
    },
    {
      "cell_type": "code",
      "metadata": {
        "id": "Jfin9jFJCqjw"
      },
      "source": [
        "answer = []\n",
        "for i in range(0, k+1):\n",
        "  check = list(itertools.combinations(nums, i))\n",
        "  for j in check:\n",
        "    answer.append(list(j))\n"
      ],
      "execution_count": 67,
      "outputs": []
    },
    {
      "cell_type": "code",
      "metadata": {
        "colab": {
          "base_uri": "https://localhost:8080/"
        },
        "id": "1K3v4lq5Cz4O",
        "outputId": "7fbe76b2-d835-489a-e5bb-fd7454273ff4"
      },
      "source": [
        "answer"
      ],
      "execution_count": 68,
      "outputs": [
        {
          "output_type": "execute_result",
          "data": {
            "text/plain": [
              "[[], [1], [2], [3], [1, 2], [1, 3], [2, 3], [1, 2, 3]]"
            ]
          },
          "metadata": {},
          "execution_count": 68
        }
      ]
    },
    {
      "cell_type": "code",
      "metadata": {
        "colab": {
          "base_uri": "https://localhost:8080/"
        },
        "id": "7pTnNAdVC9cn",
        "outputId": "b2dfecc5-6590-4560-a391-027dd1684f41"
      },
      "source": [
        "list(list(itertools.combinations(nums, 2)))"
      ],
      "execution_count": 56,
      "outputs": [
        {
          "output_type": "execute_result",
          "data": {
            "text/plain": [
              "[(1, 2), (1, 3), (2, 3)]"
            ]
          },
          "metadata": {},
          "execution_count": 56
        }
      ]
    },
    {
      "cell_type": "code",
      "metadata": {
        "colab": {
          "base_uri": "https://localhost:8080/"
        },
        "id": "wgE5aTGSGmcn",
        "outputId": "412f3018-4e98-4900-861d-96854b635c6d"
      },
      "source": [
        "len(list(list(itertools.combinations(nums, 2))))"
      ],
      "execution_count": 58,
      "outputs": [
        {
          "output_type": "execute_result",
          "data": {
            "text/plain": [
              "3"
            ]
          },
          "metadata": {},
          "execution_count": 58
        }
      ]
    },
    {
      "cell_type": "code",
      "metadata": {
        "colab": {
          "base_uri": "https://localhost:8080/"
        },
        "id": "sKoowlnmDbIf",
        "outputId": "992733af-6fc3-4b1f-ce3f-02388eeb9899"
      },
      "source": [
        "range(0, len(list(itertools.combinations(nums, 3))))"
      ],
      "execution_count": 50,
      "outputs": [
        {
          "output_type": "execute_result",
          "data": {
            "text/plain": [
              "range(0, 1)"
            ]
          },
          "metadata": {},
          "execution_count": 50
        }
      ]
    },
    {
      "cell_type": "code",
      "metadata": {
        "id": "oXlpMOv2F2tf"
      },
      "source": [
        "import itertools\n",
        "class Solution:\n",
        "    def subsets(self, nums: List[int]) -> List[List[int]]:\n",
        "        k = len(nums)\n",
        "        \n",
        "        answer = []\n",
        "        for i in range(0, k+1):\n",
        "            check = list(itertools.combinations(nums, i))\n",
        "            for j in check:\n",
        "                answer.append(list(j))\n",
        "        \n",
        "        return answer"
      ],
      "execution_count": null,
      "outputs": []
    }
  ]
}