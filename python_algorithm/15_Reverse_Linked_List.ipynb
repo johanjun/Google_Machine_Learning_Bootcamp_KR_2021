{
  "nbformat": 4,
  "nbformat_minor": 0,
  "metadata": {
    "colab": {
      "name": "15. Reverse Linked List.ipynb",
      "provenance": [],
      "authorship_tag": "ABX9TyOnYauU7i14qnXGOHBcj0Po",
      "include_colab_link": true
    },
    "kernelspec": {
      "name": "python3",
      "display_name": "Python 3"
    },
    "language_info": {
      "name": "python"
    }
  },
  "cells": [
    {
      "cell_type": "markdown",
      "metadata": {
        "id": "view-in-github",
        "colab_type": "text"
      },
      "source": [
        "<a href=\"https://colab.research.google.com/github/johanjun/Google_Machine_Learning_Bootcamp_KR_2021/blob/main/python_algorithm/15_Reverse_Linked_List.ipynb\" target=\"_parent\"><img src=\"https://colab.research.google.com/assets/colab-badge.svg\" alt=\"Open In Colab\"/></a>"
      ]
    },
    {
      "cell_type": "markdown",
      "metadata": {
        "id": "-QenXQzjakBs"
      },
      "source": [
        "Given the head of a singly linked list, reverse the list, and return the reversed list.\n",
        "\n",
        " \n",
        "```\n",
        "Example 1:\n",
        "\n",
        "\n",
        "Input: head = [1,2,3,4,5]\n",
        "Output: [5,4,3,2,1]\n",
        "Example 2:\n",
        "\n",
        "\n",
        "Input: head = [1,2]\n",
        "Output: [2,1]\n",
        "Example 3:\n",
        "\n",
        "Input: head = []\n",
        "Output: []\n",
        " ```\n",
        "```\n",
        "Constraints:\n",
        "\n",
        "The number of nodes in the list is the range [0, 5000].\n",
        "-5000 <= Node.val <= 5000\n",
        "```"
      ]
    },
    {
      "cell_type": "code",
      "metadata": {
        "colab": {
          "base_uri": "https://localhost:8080/"
        },
        "id": "sQ7015BGbYKz",
        "outputId": "48cb9adb-f22e-4d4f-c440-9606b6baf100"
      },
      "source": [
        "q = []\n",
        "q = q[::-1]\n",
        "q"
      ],
      "execution_count": 3,
      "outputs": [
        {
          "output_type": "execute_result",
          "data": {
            "text/plain": [
              "[]"
            ]
          },
          "metadata": {},
          "execution_count": 3
        }
      ]
    },
    {
      "cell_type": "code",
      "metadata": {
        "id": "C9mrmPiyhU2m"
      },
      "source": [
        "# Definition for singly-linked list.\n",
        "class ListNode:\n",
        "    def __init__(self, val=0, next=None):\n",
        "        self.val = val\n",
        "        self.next = None\n",
        "        \n",
        "\n",
        "\n",
        "class Solution:\n",
        "    def list2node(self, list1: List) -> ListNode: #ref : https://velog.io/@minjung-s/node2list\n",
        "        result_node = ListNode()\n",
        "\n",
        "        for i,num in enumerate(list1):\n",
        "            if i == 0 :\n",
        "                result_node.val = num\n",
        "            else :\n",
        "                node = result_node\n",
        "                while node.next != None:\n",
        "                    node = node.next\n",
        "                node.next = ListNode(num)\n",
        "        return result_node\n",
        "    \n",
        "    def reverseList(self, head: Optional[ListNode]) -> Optional[ListNode]:\n",
        "        \n",
        "        q: List = []\n",
        "        node1 = head\n",
        "        \n",
        "        if head is None:\n",
        "            q: ListNode = None\n",
        "            return q\n",
        "        \n",
        "        # 리스트 변환\n",
        "        while node1 is not None:\n",
        "            q.append(node1.val)\n",
        "            node1 = node1.next\n",
        "        \n",
        "        \n",
        "        q = q[::-1]\n",
        "        return self.list2node(q)"
      ],
      "execution_count": 10,
      "outputs": []
    }
  ]
}