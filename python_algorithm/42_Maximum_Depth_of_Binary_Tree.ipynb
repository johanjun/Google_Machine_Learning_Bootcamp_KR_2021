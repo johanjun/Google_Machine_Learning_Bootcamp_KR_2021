{
  "nbformat": 4,
  "nbformat_minor": 0,
  "metadata": {
    "colab": {
      "name": "42. Maximum Depth of Binary Tree.ipynb",
      "provenance": [],
      "authorship_tag": "ABX9TyMsDSugSPKCsw/KZpoMxtUF",
      "include_colab_link": true
    },
    "kernelspec": {
      "name": "python3",
      "display_name": "Python 3"
    },
    "language_info": {
      "name": "python"
    }
  },
  "cells": [
    {
      "cell_type": "markdown",
      "metadata": {
        "id": "view-in-github",
        "colab_type": "text"
      },
      "source": [
        "<a href=\"https://colab.research.google.com/github/johanjun/Google_Machine_Learning_Bootcamp_KR_2021/blob/main/python_algorithm/42_Maximum_Depth_of_Binary_Tree.ipynb\" target=\"_parent\"><img src=\"https://colab.research.google.com/assets/colab-badge.svg\" alt=\"Open In Colab\"/></a>"
      ]
    },
    {
      "cell_type": "markdown",
      "metadata": {
        "id": "DkYP8gGkiXHD"
      },
      "source": [
        "Given the root of a binary tree, return its maximum depth.\n",
        "\n",
        "A binary tree's maximum depth is the number of nodes along the longest path from the root node down to the farthest leaf node.\n",
        "\n",
        " \n",
        "```\n",
        "Example 1=\n",
        "\n",
        "\n",
        "Input= root = [3,9,20,null,null,15,7]\n",
        "Output= 3\n",
        "Example 2=\n",
        "\n",
        "Input= root = [1,null,2]\n",
        "Output= 2\n",
        "Example 3=\n",
        "\n",
        "Input= root = []\n",
        "Output= 0\n",
        "Example 4=\n",
        "\n",
        "Input= root = [0]\n",
        "Output= 1\n",
        "``` \n",
        "\n",
        "```\n",
        "Constraints=\n",
        "\n",
        "The number of nodes in the tree is in the range [0, 104].\n",
        "-100 <= Node.val <= 100\n",
        "```"
      ]
    },
    {
      "cell_type": "code",
      "metadata": {
        "id": "ekBVMjUaifoR"
      },
      "source": [
        "class TreeNode:\n",
        "    def __init__(self, val=0, left=None, right=None):\n",
        "        self.val = val\n",
        "        self.left = left\n",
        "        self.right = right"
      ],
      "execution_count": 1,
      "outputs": []
    },
    {
      "cell_type": "code",
      "metadata": {
        "id": "XPdLnGfTiv88"
      },
      "source": [
        "root = TreeNode()"
      ],
      "execution_count": 18,
      "outputs": []
    },
    {
      "cell_type": "code",
      "metadata": {
        "colab": {
          "base_uri": "https://localhost:8080/"
        },
        "id": "Rg9LqIiXjDJ7",
        "outputId": "dbc3bb92-eb14-497e-cba4-7c1ece0ef15b"
      },
      "source": [
        "type(root)"
      ],
      "execution_count": 19,
      "outputs": [
        {
          "output_type": "execute_result",
          "data": {
            "text/plain": [
              "__main__.TreeNode"
            ]
          },
          "metadata": {},
          "execution_count": 19
        }
      ]
    },
    {
      "cell_type": "code",
      "metadata": {
        "colab": {
          "base_uri": "https://localhost:8080/"
        },
        "id": "GAf1OC0OkAiA",
        "outputId": "30dbe480-5627-45d9-9fa8-0115549fad7f"
      },
      "source": [
        "root.val"
      ],
      "execution_count": 22,
      "outputs": [
        {
          "output_type": "execute_result",
          "data": {
            "text/plain": [
              "0"
            ]
          },
          "metadata": {},
          "execution_count": 22
        }
      ]
    },
    {
      "cell_type": "code",
      "metadata": {
        "id": "vvvqBel4kWc3"
      },
      "source": [
        "root.right = 1"
      ],
      "execution_count": 25,
      "outputs": []
    },
    {
      "cell_type": "code",
      "metadata": {
        "colab": {
          "base_uri": "https://localhost:8080/"
        },
        "id": "k3BZUg1mkX7O",
        "outputId": "4ed7c126-dab3-458e-b220-faeaa7c73cdc"
      },
      "source": [
        "root.right"
      ],
      "execution_count": 26,
      "outputs": [
        {
          "output_type": "execute_result",
          "data": {
            "text/plain": [
              "1"
            ]
          },
          "metadata": {},
          "execution_count": 26
        }
      ]
    },
    {
      "cell_type": "code",
      "metadata": {
        "id": "ngqHiCZbk3YP"
      },
      "source": [
        "root = TreeNode(val= 3,\n",
        "                left= TreeNode(val= 9, \n",
        "                               left= None, \n",
        "                               right= None),\n",
        "                right= TreeNode(val= 20,\n",
        "                                left= TreeNode(val= 15,\n",
        "                                               left= None,\n",
        "                                               right= None),\n",
        "                                right= TreeNode(val= 7,\n",
        "                                                left= None,\n",
        "                                                right= None)))"
      ],
      "execution_count": 194,
      "outputs": []
    },
    {
      "cell_type": "code",
      "metadata": {
        "colab": {
          "base_uri": "https://localhost:8080/"
        },
        "id": "0uqpH8M9qO6g",
        "outputId": "714cf96b-17f9-444b-93ec-4da71ddd627c"
      },
      "source": [
        "\n",
        "root_left = root.left\n",
        "root_right = root.right\n",
        "root_right.right != None"
      ],
      "execution_count": 195,
      "outputs": [
        {
          "output_type": "execute_result",
          "data": {
            "text/plain": [
              "True"
            ]
          },
          "metadata": {},
          "execution_count": 195
        }
      ]
    },
    {
      "cell_type": "code",
      "metadata": {
        "colab": {
          "base_uri": "https://localhost:8080/"
        },
        "id": "NFxNGCrxqQWo",
        "outputId": "68b26643-781b-48bd-8bf5-601c36500de5"
      },
      "source": [
        "root_right.right != None or root_left.left != None"
      ],
      "execution_count": 196,
      "outputs": [
        {
          "output_type": "execute_result",
          "data": {
            "text/plain": [
              "True"
            ]
          },
          "metadata": {},
          "execution_count": 196
        }
      ]
    },
    {
      "cell_type": "code",
      "metadata": {
        "id": "mnTKuZLP0wOs"
      },
      "source": [
        "node_count = 2\n",
        "\n",
        "root_left = root.left\n",
        "root_right = root.right\n",
        "\n",
        "while root_right != None or root_left != None:\n",
        "  sig = 0\n",
        "\n",
        "  if root_left.left != None:\n",
        "    root_left = root_left.left\n",
        "    node_count *= 2\n",
        "    sig = 1\n",
        "  if root_left.right != None:\n",
        "    root_left = root_left.right\n",
        "    if sig != 1:\n",
        "      node_count *= 2\n",
        "      sig = 1\n",
        "\n",
        "  else:\n",
        "    root_left = None\n",
        "  \n",
        "  if root_right.left != None:\n",
        "    root_right = root_right.left\n",
        "    if sig != 1:\n",
        "      node_count *= 2\n",
        "      sig = 1\n",
        "  if root_right.right != None:\n",
        "    root_right = root_right.right\n",
        "    if sig != 1:\n",
        "      node_count *= 2\n",
        "      sig = 1\n",
        "\n",
        "  else:\n",
        "    root_right = None\n",
        "    \n",
        "\n",
        "  \n",
        "node_count *= 2"
      ],
      "execution_count": 206,
      "outputs": []
    },
    {
      "cell_type": "code",
      "metadata": {
        "colab": {
          "base_uri": "https://localhost:8080/"
        },
        "id": "FCGgVLRvzVok",
        "outputId": "48eda74d-137a-4eab-f6cf-f0f210714f63"
      },
      "source": [
        "node_count"
      ],
      "execution_count": 207,
      "outputs": [
        {
          "output_type": "execute_result",
          "data": {
            "text/plain": [
              "8"
            ]
          },
          "metadata": {},
          "execution_count": 207
        }
      ]
    },
    {
      "cell_type": "code",
      "metadata": {
        "colab": {
          "base_uri": "https://localhost:8080/"
        },
        "id": "UL0wJ2JFxkYm",
        "outputId": "cbe30597-9d52-4ec8-b119-91363ffc2db8"
      },
      "source": [
        "import numpy as np\n",
        "np.log2(node_count)"
      ],
      "execution_count": 165,
      "outputs": [
        {
          "output_type": "execute_result",
          "data": {
            "text/plain": [
              "3.0"
            ]
          },
          "metadata": {},
          "execution_count": 165
        }
      ]
    },
    {
      "cell_type": "code",
      "metadata": {
        "colab": {
          "base_uri": "https://localhost:8080/"
        },
        "id": "Hot9BOAPz0SN",
        "outputId": "a74c7391-0283-495f-d4fc-44a2415d02cb"
      },
      "source": [
        "np.log2(12)"
      ],
      "execution_count": 161,
      "outputs": [
        {
          "output_type": "execute_result",
          "data": {
            "text/plain": [
              "3.584962500721156"
            ]
          },
          "metadata": {},
          "execution_count": 161
        }
      ]
    },
    {
      "cell_type": "code",
      "metadata": {
        "colab": {
          "base_uri": "https://localhost:8080/"
        },
        "id": "hHEzerffnJE1",
        "outputId": "a992b638-9592-410d-eb9c-9d520bc9d64f"
      },
      "source": [
        "depth = 1\n",
        "node_count = 2\n",
        "root_left = root.left\n",
        "root_right = root.right\n",
        "\n",
        "while root_right != None or root_left != None:\n",
        "  print(node_count, root_left, root_right)  \n",
        "  print('try')\n",
        "  depth += 1\n",
        "  node_count *= 2\n",
        "  if root_left != None:\n",
        "    \n",
        "    try:\n",
        "      root_left = root_left.left\n",
        "      \n",
        "    except:\n",
        "      \n",
        "      pass\n",
        "    try:\n",
        "      root_right = root_left.right\n",
        "      \n",
        "    except:\n",
        "      \n",
        "      pass\n",
        "  if root_right != None:\n",
        "\n",
        "    try:\n",
        "      root_right = root_right.right\n",
        "      \n",
        "    except:\n",
        "      \n",
        "      pass\n",
        "    try:\n",
        "      root_left = root_right.left\n",
        "      \n",
        "    except:\n",
        "      \n",
        "      pass\n",
        "  print('next: ', root_left, root_right)"
      ],
      "execution_count": 162,
      "outputs": [
        {
          "output_type": "stream",
          "name": "stdout",
          "text": [
            "2 <__main__.TreeNode object at 0x7f08715547d0> <__main__.TreeNode object at 0x7f0871554650>\n",
            "try\n",
            "next:  None <__main__.TreeNode object at 0x7f0871554dd0>\n",
            "4 None <__main__.TreeNode object at 0x7f0871554dd0>\n",
            "try\n",
            "next:  None None\n"
          ]
        }
      ]
    },
    {
      "cell_type": "code",
      "metadata": {
        "colab": {
          "base_uri": "https://localhost:8080/",
          "height": 130
        },
        "id": "nZ6lTYfZlLNr",
        "outputId": "be110b45-c316-48ef-f240-f6d26169ea22"
      },
      "source": [
        "depth = 0\n",
        "while root.left, root.right == None:\n",
        "  if root.val:\n",
        "    depth += 1\n",
        "    print(f'depth:{depth}')\n",
        "    if root.left:\n"
      ],
      "execution_count": 58,
      "outputs": [
        {
          "output_type": "error",
          "ename": "SyntaxError",
          "evalue": "ignored",
          "traceback": [
            "\u001b[0;36m  File \u001b[0;32m\"<ipython-input-58-6608e497f3ac>\"\u001b[0;36m, line \u001b[0;32m2\u001b[0m\n\u001b[0;31m    while root.left, root.right == None:\u001b[0m\n\u001b[0m                   ^\u001b[0m\n\u001b[0;31mSyntaxError\u001b[0m\u001b[0;31m:\u001b[0m invalid syntax\n"
          ]
        }
      ]
    },
    {
      "cell_type": "code",
      "metadata": {
        "id": "0UWCqW4kmT7K"
      },
      "source": [
        ""
      ],
      "execution_count": null,
      "outputs": []
    }
  ]
}