{
  "nbformat": 4,
  "nbformat_minor": 0,
  "metadata": {
    "colab": {
      "name": "25. Design Circular Queue.ipynb",
      "provenance": [],
      "authorship_tag": "ABX9TyM9B+biAnv+whHJwLDr+XNK",
      "include_colab_link": true
    },
    "kernelspec": {
      "name": "python3",
      "display_name": "Python 3"
    },
    "language_info": {
      "name": "python"
    }
  },
  "cells": [
    {
      "cell_type": "markdown",
      "metadata": {
        "id": "view-in-github",
        "colab_type": "text"
      },
      "source": [
        "<a href=\"https://colab.research.google.com/github/johanjun/Google_Machine_Learning_Bootcamp_KR_2021/blob/main/python_algorithm/25_Design_Circular_Queue.ipynb\" target=\"_parent\"><img src=\"https://colab.research.google.com/assets/colab-badge.svg\" alt=\"Open In Colab\"/></a>"
      ]
    },
    {
      "cell_type": "markdown",
      "metadata": {
        "id": "cl6-kIBeKcYH"
      },
      "source": [
        "Design your implementation of the circular queue. The circular queue is a linear data structure in which the operations are performed based on FIFO (First In First Out) principle and the last position is connected back to the first position to make a circle. It is also called \"Ring Buffer\".\n",
        "\n",
        "One of the benefits of the circular queue is that we can make use of the spaces in front of the queue. In a normal queue, once the queue becomes full, we cannot insert the next element even if there is a space in front of the queue. But using the circular queue, we can use the space to store new values.\n",
        "\n",
        "Implementation the MyCircularQueue class:\n",
        "\n",
        "MyCircularQueue(k) Initializes the object with the size of the queue to be k.\n",
        "int Front() Gets the front item from the queue. If the queue is empty, return -1.\n",
        "int Rear() Gets the last item from the queue. If the queue is empty, return -1.\n",
        "boolean enQueue(int value) Inserts an element into the circular queue. Return true if the operation is successful.\n",
        "boolean deQueue() Deletes an element from the circular queue. Return true if the operation is successful.\n",
        "boolean isEmpty() Checks whether the circular queue is empty or not.\n",
        "boolean isFull() Checks whether the circular queue is full or not.\n",
        "You must solve the problem without using the built-in queue data structure in your programming language. \n",
        "\n",
        " \n",
        "```\n",
        "Example 1:\n",
        "\n",
        "Input\n",
        "[\"MyCircularQueue\", \"enQueue\", \"enQueue\", \"enQueue\", \"enQueue\", \"Rear\", \"isFull\", \"deQueue\", \"enQueue\", \"Rear\"]\n",
        "[[3], [1], [2], [3], [4], [], [], [], [4], []]\n",
        "Output\n",
        "[null, true, true, true, false, 3, true, true, true, 4]\n",
        "\n",
        "Explanation\n",
        "MyCircularQueue myCircularQueue = new MyCircularQueue(3);\n",
        "myCircularQueue.enQueue(1); // return True\n",
        "myCircularQueue.enQueue(2); // return True\n",
        "myCircularQueue.enQueue(3); // return True\n",
        "myCircularQueue.enQueue(4); // return False\n",
        "myCircularQueue.Rear();     // return 3\n",
        "myCircularQueue.isFull();   // return True\n",
        "myCircularQueue.deQueue();  // return True\n",
        "myCircularQueue.enQueue(4); // return True\n",
        "myCircularQueue.Rear();     // return 4\n",
        "```\n",
        "\n",
        "```\n",
        "Constraints:\n",
        "\n",
        "1 <= k <= 1000\n",
        "0 <= value <= 1000\n",
        "At most 3000 calls will be made to enQueue, deQueue, Front, Rear, isEmpty, and isFull.\n",
        "```"
      ]
    },
    {
      "cell_type": "code",
      "metadata": {
        "colab": {
          "base_uri": "https://localhost:8080/"
        },
        "id": "_ZGdGuqzKint",
        "outputId": "689673d5-7192-48d5-b868-04288e202428"
      },
      "source": [
        "a = [1, 2, 3, 4]\n",
        "a.pop(-1)"
      ],
      "execution_count": 1,
      "outputs": [
        {
          "output_type": "execute_result",
          "data": {
            "text/plain": [
              "4"
            ]
          },
          "metadata": {},
          "execution_count": 1
        }
      ]
    },
    {
      "cell_type": "code",
      "metadata": {
        "colab": {
          "base_uri": "https://localhost:8080/"
        },
        "id": "BdoUcbYjPziD",
        "outputId": "46b91848-a753-49c7-fe24-596c22ac2a52"
      },
      "source": [
        "a"
      ],
      "execution_count": 2,
      "outputs": [
        {
          "output_type": "execute_result",
          "data": {
            "text/plain": [
              "[1, 2, 3]"
            ]
          },
          "metadata": {},
          "execution_count": 2
        }
      ]
    },
    {
      "cell_type": "code",
      "metadata": {
        "id": "XTcSL1FwP0qJ"
      },
      "source": [
        "class MyCircularQueue:\n",
        "\n",
        "    def __init__(self, k: int):\n",
        "        self.queue = []\n",
        "        self.limit = k\n",
        "\n",
        "    def enQueue(self, value: int) -> bool:\n",
        "        if len(self.queue) < self.limit:\n",
        "            self.queue.append(value)\n",
        "            print(self.queue)\n",
        "            return True\n",
        "        else:\n",
        "            return False\n",
        "\n",
        "    def deQueue(self) -> bool:\n",
        "        if self.queue:\n",
        "            self.queue.pop(0)\n",
        "            return True\n",
        "        else:\n",
        "            return False\n",
        "\n",
        "    def Front(self) -> int:\n",
        "        if self.queue:\n",
        "            return self.queue[0]\n",
        "        else:\n",
        "            return -1\n",
        "\n",
        "    def Rear(self) -> int:\n",
        "        if self.queue:\n",
        "            return self.queue[-1]\n",
        "        else:\n",
        "            return -1\n",
        "        \n",
        "\n",
        "    def isEmpty(self) -> bool:\n",
        "        if len(self.queue) > 0:\n",
        "            return False\n",
        "        else:\n",
        "            return True\n",
        "\n",
        "    def isFull(self) -> bool:\n",
        "        if len(self.queue) == self.limit:\n",
        "            return True\n",
        "        else:\n",
        "            return False\n",
        "        \n",
        "\n",
        "\n",
        "# Your MyCircularQueue object will be instantiated and called as such:\n",
        "# obj = MyCircularQueue(k)\n",
        "# param_1 = obj.enQueue(value)\n",
        "# param_2 = obj.deQueue()\n",
        "# param_3 = obj.Front()\n",
        "# param_4 = obj.Rear()\n",
        "# param_5 = obj.isEmpty()\n",
        "# param_6 = obj.isFull()\n",
        "        "
      ],
      "execution_count": null,
      "outputs": []
    }
  ]
}