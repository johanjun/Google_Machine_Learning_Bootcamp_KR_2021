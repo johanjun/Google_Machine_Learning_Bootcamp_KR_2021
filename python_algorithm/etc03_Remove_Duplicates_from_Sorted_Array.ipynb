{
  "nbformat": 4,
  "nbformat_minor": 0,
  "metadata": {
    "colab": {
      "name": "etc03. Remove Duplicates from Sorted Array.ipynb",
      "provenance": [],
      "authorship_tag": "ABX9TyMmpm0jmfCOMUcMTEs/HpQK",
      "include_colab_link": true
    },
    "kernelspec": {
      "name": "python3",
      "display_name": "Python 3"
    },
    "language_info": {
      "name": "python"
    }
  },
  "cells": [
    {
      "cell_type": "markdown",
      "metadata": {
        "id": "view-in-github",
        "colab_type": "text"
      },
      "source": [
        "<a href=\"https://colab.research.google.com/github/johanjun/Google_Machine_Learning_Bootcamp_KR_2021/blob/main/python_algorithm/etc03_Remove_Duplicates_from_Sorted_Array.ipynb\" target=\"_parent\"><img src=\"https://colab.research.google.com/assets/colab-badge.svg\" alt=\"Open In Colab\"/></a>"
      ]
    },
    {
      "cell_type": "markdown",
      "metadata": {
        "id": "EpdMXXRp4-at"
      },
      "source": [
        "Given an integer array nums sorted in non-decreasing order, remove the duplicates in-place such that each unique element appears only once. The relative order of the elements should be kept the same.\n",
        "\n",
        "Since it is impossible to change the length of the array in some languages, you must instead have the result be placed in the first part of the array nums. More formally, if there are k elements after removing the duplicates, then the first k elements of nums should hold the final result. It does not matter what you leave beyond the first k elements.\n",
        "\n",
        "Return k after placing the final result in the first k slots of nums.\n",
        "\n",
        "Do not allocate extra space for another array. You must do this by modifying the input array in-place with O(1) extra memory.\n",
        "\n",
        "Custom Judge:\n",
        "```\n",
        "The judge will test your solution with the following code:\n",
        "\n",
        "int[] nums = [...]; // Input array\n",
        "int[] expectedNums = [...]; // The expected answer with correct length\n",
        "\n",
        "int k = removeDuplicates(nums); // Calls your implementation\n",
        "\n",
        "assert k == expectedNums.length;\n",
        "for (int i = 0; i < k; i++) {\n",
        "    assert nums[i] == expectedNums[i];\n",
        "}\n",
        "If all assertions pass, then your solution will be accepted.\n",
        "```\n",
        " \n",
        "```\n",
        "Example 1:\n",
        "\n",
        "Input: nums = [1,1,2]\n",
        "Output: 2, nums = [1,2,_]\n",
        "Explanation: Your function should return k = 2, with the first two elements of nums being 1 and 2 respectively.\n",
        "It does not matter what you leave beyond the returned k (hence they are underscores).\n",
        "Example 2:\n",
        "\n",
        "Input: nums = [0,0,1,1,1,2,2,3,3,4]\n",
        "Output: 5, nums = [0,1,2,3,4,_,_,_,_,_]\n",
        "Explanation: Your function should return k = 5, with the first five elements of nums being 0, 1, 2, 3, and 4 respectively.\n",
        "It does not matter what you leave beyond the returned k (hence they are underscores).\n",
        "``` \n",
        "```\n",
        "Constraints:\n",
        "\n",
        "0 <= nums.length <= 3 * 104\n",
        "-100 <= nums[i] <= 100\n",
        "nums is sorted in non-decreasing order.\n",
        "```"
      ]
    },
    {
      "cell_type": "code",
      "metadata": {
        "id": "jrTe8Tgk58OX"
      },
      "source": [
        "nums = [0,0,1,1,1,2,2,3,3,4]"
      ],
      "execution_count": 21,
      "outputs": []
    },
    {
      "cell_type": "code",
      "metadata": {
        "id": "GRfCrSrO6E09"
      },
      "source": [
        "x = 1\n",
        "for i in range(len(nums)-1):\n",
        "  if nums[i] != nums[i+1]:\n",
        "    nums[x] = nums[i+1]\n",
        "    x += 1\n"
      ],
      "execution_count": 22,
      "outputs": []
    },
    {
      "cell_type": "code",
      "metadata": {
        "colab": {
          "base_uri": "https://localhost:8080/"
        },
        "id": "q-JSFZva6MAx",
        "outputId": "c8b8148a-5c50-41a3-9dc2-73842e709d70"
      },
      "source": [
        "nums"
      ],
      "execution_count": 23,
      "outputs": [
        {
          "output_type": "execute_result",
          "data": {
            "text/plain": [
              "[0, 1, 2, 3, 4, 2, 2, 3, 3, 4]"
            ]
          },
          "metadata": {},
          "execution_count": 23
        }
      ]
    },
    {
      "cell_type": "code",
      "metadata": {
        "id": "ukTCZKt5-baG"
      },
      "source": [
        ""
      ],
      "execution_count": null,
      "outputs": []
    }
  ]
}