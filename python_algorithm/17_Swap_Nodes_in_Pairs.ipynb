{
  "nbformat": 4,
  "nbformat_minor": 0,
  "metadata": {
    "colab": {
      "name": "17. Swap Nodes in Pairs.ipynb",
      "provenance": [],
      "collapsed_sections": [],
      "authorship_tag": "ABX9TyPQjXa5ZnXeRfZLTQffM2Z/",
      "include_colab_link": true
    },
    "kernelspec": {
      "name": "python3",
      "display_name": "Python 3"
    },
    "language_info": {
      "name": "python"
    }
  },
  "cells": [
    {
      "cell_type": "markdown",
      "metadata": {
        "id": "view-in-github",
        "colab_type": "text"
      },
      "source": [
        "<a href=\"https://colab.research.google.com/github/johanjun/Google_Machine_Learning_Bootcamp_KR_2021/blob/main/python_algorithm/17_Swap_Nodes_in_Pairs.ipynb\" target=\"_parent\"><img src=\"https://colab.research.google.com/assets/colab-badge.svg\" alt=\"Open In Colab\"/></a>"
      ]
    },
    {
      "cell_type": "markdown",
      "metadata": {
        "id": "YJGxE5uSKbjU"
      },
      "source": [
        "Given a linked list, swap every two adjacent nodes and return its head. You must solve the problem without modifying the values in the list's nodes (i.e., only nodes themselves may be changed.)\n",
        "\n",
        " \n",
        "```\n",
        "Example 1:\n",
        "\n",
        "\n",
        "Input: head = [1,2,3,4]\n",
        "Output: [2,1,4,3]\n",
        "Example 2:\n",
        "\n",
        "Input: head = []\n",
        "Output: []\n",
        "Example 3:\n",
        "\n",
        "Input: head = [1]\n",
        "Output: [1]\n",
        " ```\n",
        "```\n",
        "Constraints:\n",
        "\n",
        "The number of nodes in the list is in the range [0, 100].\n",
        "0 <= Node.val <= 100\n",
        "```"
      ]
    },
    {
      "cell_type": "code",
      "metadata": {
        "id": "N91Tz1-oKkzV"
      },
      "source": [
        "head = [1,2,3,4,5]"
      ],
      "execution_count": 20,
      "outputs": []
    },
    {
      "cell_type": "code",
      "metadata": {
        "colab": {
          "base_uri": "https://localhost:8080/"
        },
        "id": "xj5es-yOKpsi",
        "outputId": "cd9221d0-a2e4-4916-8ddc-30a2472f308f"
      },
      "source": [
        "for i in range(0, len(head), 2):\n",
        "  print(i)\n",
        "  if i == len(head)-1:\n",
        "    break\n",
        "  else:\n",
        "    head[i], head[i+1] = head[i+1], head[i]"
      ],
      "execution_count": 24,
      "outputs": [
        {
          "output_type": "stream",
          "name": "stdout",
          "text": [
            "0\n",
            "2\n",
            "4\n"
          ]
        }
      ]
    },
    {
      "cell_type": "code",
      "metadata": {
        "colab": {
          "base_uri": "https://localhost:8080/"
        },
        "id": "IxFZh_GbKxVX",
        "outputId": "ca9ce1b1-0258-4e27-cb08-3ea1e912cb23"
      },
      "source": [
        "head"
      ],
      "execution_count": 25,
      "outputs": [
        {
          "output_type": "execute_result",
          "data": {
            "text/plain": [
              "[2, 1, 4, 3, 5]"
            ]
          },
          "metadata": {},
          "execution_count": 25
        }
      ]
    },
    {
      "cell_type": "code",
      "metadata": {
        "id": "aYye1IhjK9fL"
      },
      "source": [
        "# Definition for singly-linked list.\n",
        "class ListNode:\n",
        "    def __init__(self, val=0, next=None):\n",
        "        self.val = val\n",
        "        self.next = next\n",
        "class Solution:\n",
        "    def list2node(self, list1: List) -> ListNode: #ref : https://velog.io/@minjung-s/node2list\n",
        "        result_node = ListNode()\n",
        "\n",
        "        for i,num in enumerate(list1):\n",
        "            if i == 0 :\n",
        "                result_node.val = num\n",
        "            else :\n",
        "                node = result_node\n",
        "                while node.next != None:\n",
        "                    node = node.next\n",
        "                node.next = ListNode(num)\n",
        "        return result_node\n",
        "    def swapPairs(self, head: Optional[ListNode]) -> Optional[ListNode]:\n",
        "        q1: List = []\n",
        "        node1 = head\n",
        "        \n",
        "        # 빈 리스트는 return\n",
        "        if head is None:\n",
        "            q: ListNode = None\n",
        "            return q\n",
        "        \n",
        "        # 리스트 변환\n",
        "        while node1 is not None:\n",
        "            q1.append(node1.val)\n",
        "            node1 = node1.next\n",
        "        \n",
        "        \n",
        "            \n",
        "        for i in range(0, len(q1), 2):\n",
        "            if i == len(q1)-1:\n",
        "                break\n",
        "            else:\n",
        "                q1[i], q1[i+1] = q1[i+1], q1[i]\n",
        "                \n",
        "        return self.list2node(q1)\n"
      ],
      "execution_count": null,
      "outputs": []
    }
  ]
}