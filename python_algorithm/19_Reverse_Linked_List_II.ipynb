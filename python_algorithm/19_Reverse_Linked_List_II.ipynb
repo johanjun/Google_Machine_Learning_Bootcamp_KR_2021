{
  "nbformat": 4,
  "nbformat_minor": 0,
  "metadata": {
    "colab": {
      "name": "19. Reverse Linked List II.ipynb",
      "provenance": [],
      "collapsed_sections": [],
      "authorship_tag": "ABX9TyMXNJgvccYg2vaAJn/XrCvD",
      "include_colab_link": true
    },
    "kernelspec": {
      "name": "python3",
      "display_name": "Python 3"
    },
    "language_info": {
      "name": "python"
    }
  },
  "cells": [
    {
      "cell_type": "markdown",
      "metadata": {
        "id": "view-in-github",
        "colab_type": "text"
      },
      "source": [
        "<a href=\"https://colab.research.google.com/github/johanjun/Google_Machine_Learning_Bootcamp_KR_2021/blob/main/python_algorithm/19_Reverse_Linked_List_II.ipynb\" target=\"_parent\"><img src=\"https://colab.research.google.com/assets/colab-badge.svg\" alt=\"Open In Colab\"/></a>"
      ]
    },
    {
      "cell_type": "markdown",
      "metadata": {
        "id": "p7MOWZM-Ma2v"
      },
      "source": [
        "Given the head of a singly linked list and two integers left and right where left <= right, reverse the nodes of the list from position left to position right, and return the reversed list.\n",
        "\n",
        " \n",
        "```\n",
        "Example 1:\n",
        "\n",
        "\n",
        "Input: head = [1,2,3,4,5], left = 2, right = 4\n",
        "Output: [1,4,3,2,5]\n",
        "Example 2:\n",
        "\n",
        "Input: head = [5], left = 1, right = 1\n",
        "Output: [5]\n",
        " ```\n",
        "```\n",
        "Constraints:\n",
        "\n",
        "The number of nodes in the list is n.\n",
        "1 <= n <= 500\n",
        "-500 <= Node.val <= 500\n",
        "1 <= left <= right <= n\n",
        "```"
      ]
    },
    {
      "cell_type": "code",
      "metadata": {
        "id": "O7JQzNAaMxs9"
      },
      "source": [
        "q = [1,2,3,4]\n",
        "left = 1\n",
        "right = 4"
      ],
      "execution_count": null,
      "outputs": []
    },
    {
      "cell_type": "code",
      "metadata": {
        "id": "0r1_I9O0Sbmq"
      },
      "source": [
        "l = q[:left-1]"
      ],
      "execution_count": null,
      "outputs": []
    },
    {
      "cell_type": "code",
      "metadata": {
        "id": "h9nERHlKSgBT"
      },
      "source": [
        "r = q[right:]"
      ],
      "execution_count": null,
      "outputs": []
    },
    {
      "cell_type": "code",
      "metadata": {
        "colab": {
          "base_uri": "https://localhost:8080/"
        },
        "id": "aeIDaWi6SUje",
        "outputId": "30714d56-5211-43e0-90dd-d3e2adc90300"
      },
      "source": [
        "l + list(reversed(q[left-1:right])) + r"
      ],
      "execution_count": null,
      "outputs": [
        {
          "output_type": "execute_result",
          "data": {
            "text/plain": [
              "[4, 3, 2, 1]"
            ]
          },
          "metadata": {},
          "execution_count": 72
        }
      ]
    },
    {
      "cell_type": "code",
      "metadata": {
        "id": "_6ci1aXKSs7p"
      },
      "source": [
        ""
      ],
      "execution_count": null,
      "outputs": []
    },
    {
      "cell_type": "code",
      "metadata": {
        "colab": {
          "base_uri": "https://localhost:8080/"
        },
        "id": "5gsH4ui_OCCC",
        "outputId": "909b4e3f-52d5-40b3-9d60-d214d173a23e"
      },
      "source": [
        "legacy_left = q[left-1]\n",
        "print(legacy_left)\n",
        "for i, h in enumerate(q):\n",
        "  print(q)\n",
        "  if i+1 == left:\n",
        "    q[i] = q[right-1]\n",
        "  elif i+1 == right:\n",
        "    q[i] = legacy_left"
      ],
      "execution_count": null,
      "outputs": [
        {
          "output_type": "stream",
          "name": "stdout",
          "text": [
            "1\n",
            "[1, 2, 3, 4]\n",
            "[4, 2, 3, 4]\n",
            "[4, 2, 3, 4]\n",
            "[4, 2, 3, 4]\n"
          ]
        }
      ]
    },
    {
      "cell_type": "code",
      "metadata": {
        "colab": {
          "base_uri": "https://localhost:8080/"
        },
        "id": "OR2pyxXJOfjI",
        "outputId": "8b314c03-7649-4d0f-98fd-73c52754cb6d"
      },
      "source": [
        "q"
      ],
      "execution_count": null,
      "outputs": [
        {
          "output_type": "execute_result",
          "data": {
            "text/plain": [
              "[4, 2, 3, 1]"
            ]
          },
          "metadata": {},
          "execution_count": 52
        }
      ]
    },
    {
      "cell_type": "code",
      "metadata": {
        "id": "O2IAXXy6Ohqb"
      },
      "source": [
        "# Definition for singly-linked list.\n",
        "# class ListNode:\n",
        "#     def __init__(self, val=0, next=None):\n",
        "#         self.val = val\n",
        "#         self.next = next\n",
        "class Solution:\n",
        "    def list2node(self, list1: List) -> ListNode: #ref : https://velog.io/@minjung-s/node2list\n",
        "        result_node = ListNode()\n",
        "\n",
        "        for i,num in enumerate(list1):\n",
        "            if i == 0 :\n",
        "                result_node.val = num\n",
        "            else :\n",
        "                node = result_node\n",
        "                while node.next != None:\n",
        "                    node = node.next\n",
        "                node.next = ListNode(num)\n",
        "        return result_node\n",
        "    def reverseBetween(self, head: Optional[ListNode], left: int, right: int) -> Optional[ListNode]:\n",
        "        q: List = []\n",
        "        node1 = head\n",
        "        \n",
        "        # 빈 리스트는 return\n",
        "        if head is None:\n",
        "            q: ListNode = None\n",
        "            return q\n",
        "        \n",
        "        # 리스트 변환\n",
        "        while node1 is not None:\n",
        "            q.append(node1.val)\n",
        "            node1 = node1.next\n",
        "        legacy_left = q[left-1]\n",
        "        \n",
        "        l = q[:left-1]\n",
        "        r = q[right:]\n",
        "        return self.list2node(l + list(reversed(q[left-1:right])) + r)\n",
        "        \n",
        "        "
      ],
      "execution_count": null,
      "outputs": []
    }
  ]
}