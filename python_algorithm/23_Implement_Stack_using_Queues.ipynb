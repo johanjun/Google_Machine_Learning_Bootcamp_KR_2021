{
  "nbformat": 4,
  "nbformat_minor": 0,
  "metadata": {
    "colab": {
      "name": "23. Implement Stack using Queues.ipynb",
      "provenance": [],
      "authorship_tag": "ABX9TyN7GsjmscBwEilF6cPzk5Gz",
      "include_colab_link": true
    },
    "kernelspec": {
      "name": "python3",
      "display_name": "Python 3"
    },
    "language_info": {
      "name": "python"
    }
  },
  "cells": [
    {
      "cell_type": "markdown",
      "metadata": {
        "id": "view-in-github",
        "colab_type": "text"
      },
      "source": [
        "<a href=\"https://colab.research.google.com/github/johanjun/Google_Machine_Learning_Bootcamp_KR_2021/blob/main/python_algorithm/23_Implement_Stack_using_Queues.ipynb\" target=\"_parent\"><img src=\"https://colab.research.google.com/assets/colab-badge.svg\" alt=\"Open In Colab\"/></a>"
      ]
    },
    {
      "cell_type": "markdown",
      "metadata": {
        "id": "BMDLm3tpoWE9"
      },
      "source": [
        "Implement a last-in-first-out (LIFO) stack using only two queues. The implemented stack should support all the functions of a normal stack (push, top, pop, and empty).\n",
        "\n",
        "Implement the MyStack class:\n",
        "\n",
        "void push(int x) Pushes element x to the top of the stack.\n",
        "int pop() Removes the element on the top of the stack and returns it.\n",
        "int top() Returns the element on the top of the stack.\n",
        "boolean empty() Returns true if the stack is empty, false otherwise.\n",
        "Notes:\n",
        "\n",
        "You must use only standard operations of a queue, which means that only push to back, peek/pop from front, size and is empty operations are valid.\n",
        "Depending on your language, the queue may not be supported natively. You may simulate a queue using a list or deque (double-ended queue) as long as you use only a queue's standard operations.\n",
        " \n",
        "```\n",
        "Example 1:\n",
        "\n",
        "Input\n",
        "[\"MyStack\", \"push\", \"push\", \"top\", \"pop\", \"empty\"]\n",
        "[[], [1], [2], [], [], []]\n",
        "Output\n",
        "[null, null, null, 2, 2, false]\n",
        "\n",
        "Explanation\n",
        "MyStack myStack = new MyStack();\n",
        "myStack.push(1);\n",
        "myStack.push(2);\n",
        "myStack.top(); // return 2\n",
        "myStack.pop(); // return 2\n",
        "myStack.empty(); // return False\n",
        " ```\n",
        " ```\n",
        "\n",
        "Constraints:\n",
        "\n",
        "1 <= x <= 9\n",
        "At most 100 calls will be made to push, pop, top, and empty.\n",
        "All the calls to pop and top are valid.\n",
        "```\n"
      ]
    },
    {
      "cell_type": "code",
      "metadata": {
        "id": "MD7Rm-chohIG"
      },
      "source": [
        "class MyStack:\n",
        "\n",
        "    def __init__(self):\n",
        "        self.queue = []\n",
        "\n",
        "    def push(self, x: int) -> None:\n",
        "        self.queue.append(x)\n",
        "\n",
        "    def pop(self) -> int:\n",
        "        return self.queue.pop()\n",
        "        \n",
        "\n",
        "    def top(self) -> int:\n",
        "        return self.queue[-1]\n",
        "\n",
        "    def empty(self) -> bool:\n",
        "        return self.queue == []\n",
        "\n",
        "\n",
        "# Your MyStack object will be instantiated and called as such:\n",
        "# obj = MyStack()\n",
        "# obj.push(x)\n",
        "# param_2 = obj.pop()\n",
        "# param_3 = obj.top()\n",
        "# param_4 = obj.empty()"
      ],
      "execution_count": null,
      "outputs": []
    }
  ]
}