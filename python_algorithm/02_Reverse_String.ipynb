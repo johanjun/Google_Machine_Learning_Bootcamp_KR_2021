{
  "nbformat": 4,
  "nbformat_minor": 0,
  "metadata": {
    "colab": {
      "name": "2_Reverse_String.ipynb",
      "provenance": [],
      "collapsed_sections": []
    },
    "kernelspec": {
      "name": "python3",
      "display_name": "Python 3"
    },
    "language_info": {
      "name": "python"
    }
  },
  "cells": [
    {
      "cell_type": "markdown",
      "metadata": {
        "id": "_Y0UWfkGuOOw"
      },
      "source": [
        "Write a function that reverses a string. The input string is given as an array of characters s.\n",
        "\n",
        " \n",
        "```\n",
        "Example 1:\n",
        "\n",
        "Input: s = [\"h\",\"e\",\"l\",\"l\",\"o\"]\n",
        "Output: [\"o\",\"l\",\"l\",\"e\",\"h\"]\n",
        "Example 2:\n",
        "\n",
        "Input: s = [\"H\",\"a\",\"n\",\"n\",\"a\",\"h\"]\n",
        "Output: [\"h\",\"a\",\"n\",\"n\",\"a\",\"H\"]\n",
        " \n",
        "\n",
        "Constraints:\n",
        "\n",
        "1 <= s.length <= 105\n",
        "s[i] is a printable ascii character.\n",
        "``` \n",
        "\n",
        "Follow up: Do not allocate extra space for another array. You must do this by modifying the input array in-place with O(1) extra memory."
      ]
    },
    {
      "cell_type": "code",
      "metadata": {
        "id": "-2LRVRbloMu0"
      },
      "source": [
        "s = [\"h\",\"e\",\"l\",\"l\",\"o\"]"
      ],
      "execution_count": null,
      "outputs": []
    },
    {
      "cell_type": "code",
      "metadata": {
        "id": "1xzajGAYp_G6"
      },
      "source": [
        "s2 = list(reversed(s))\n",
        "s = s2.copy()"
      ],
      "execution_count": null,
      "outputs": []
    },
    {
      "cell_type": "code",
      "metadata": {
        "id": "rqTuyYp8rLUu"
      },
      "source": [
        "length = len(s)\n",
        "start = 0\n",
        "end = length-1\n",
        "\n",
        "while start < end:\n",
        "  s[start], s[end] = s[end], s[start]\n",
        "  start += 1\n",
        "  end -= 1"
      ],
      "execution_count": 29,
      "outputs": []
    },
    {
      "cell_type": "code",
      "metadata": {
        "id": "wo5exiZTsK_6",
        "colab": {
          "base_uri": "https://localhost:8080/"
        },
        "outputId": "c0e0dc5a-76e1-4129-bff0-4714a73a93bc"
      },
      "source": [
        "s"
      ],
      "execution_count": 30,
      "outputs": [
        {
          "output_type": "execute_result",
          "data": {
            "text/plain": [
              "['o', 'l', 'l', 'e', 'h']"
            ]
          },
          "metadata": {},
          "execution_count": 30
        }
      ]
    },
    {
      "cell_type": "code",
      "metadata": {
        "id": "foMS5uDxt7F4"
      },
      "source": [
        ""
      ],
      "execution_count": null,
      "outputs": []
    }
  ]
}
